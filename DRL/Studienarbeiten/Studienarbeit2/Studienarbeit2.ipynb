{
 "cells": [
  {
   "cell_type": "code",
   "execution_count": 1,
   "id": "initial_id",
   "metadata": {
    "ExecuteTime": {
     "end_time": "2024-01-11T22:35:51.745632500Z",
     "start_time": "2024-01-11T22:35:45.672920700Z"
    },
    "collapsed": true,
    "jupyter": {
     "outputs_hidden": true
    }
   },
   "outputs": [
    {
     "name": "stderr",
     "output_type": "stream",
     "text": [
      "c:\\Users\\schmidtfa\\MasterStudium\\PythonEnvironment\\Lib\\site-packages\\tqdm\\auto.py:21: TqdmWarning: IProgress not found. Please update jupyter and ipywidgets. See https://ipywidgets.readthedocs.io/en/stable/user_install.html\n",
      "  from .autonotebook import tqdm as notebook_tqdm\n"
     ]
    }
   ],
   "source": [
    "%load_ext autoreload\n",
    "#import race\n",
    "#import math\n",
    "#import random\n",
    "\n",
    "#import gym\n",
    "import numpy as np\n",
    "\n",
    "#import torch\n",
    "#import torch.nn as nn\n",
    "#import torch.optim as optim\n",
    "#import torch.nn.functional as F\n",
    "#from torch.distributions import Normal\n",
    "\n",
    "#from IPython.display import clear_output\n",
    "import matplotlib.pyplot as plt\n",
    "import optuna\n",
    "#import importlib\n",
    "import CurvyRaceEnv\n",
    "#importlib.reload(CurvyRaceEnv)\n",
    "%matplotlib inline\n",
    "%reload_ext autoreload"
   ]
  },
  {
   "cell_type": "code",
   "execution_count": 2,
   "id": "edaaebe4",
   "metadata": {
    "ExecuteTime": {
     "end_time": "2024-01-11T22:36:01.228273300Z",
     "start_time": "2024-01-11T22:35:51.748635Z"
    }
   },
   "outputs": [
    {
     "name": "stdout",
     "output_type": "stream",
     "text": [
      "WARNING:tensorflow:From c:\\Users\\schmidtfa\\MasterStudium\\PythonEnvironment\\Lib\\site-packages\\keras\\src\\losses.py:2976: The name tf.losses.sparse_softmax_cross_entropy is deprecated. Please use tf.compat.v1.losses.sparse_softmax_cross_entropy instead.\n",
      "\n"
     ]
    },
    {
     "name": "stderr",
     "output_type": "stream",
     "text": [
      "c:\\Users\\schmidtfa\\MasterStudium\\PythonEnvironment\\Lib\\site-packages\\stable_baselines3\\common\\env_checker.py:441: UserWarning: We recommend you to use a symmetric and normalized Box action space (range=[-1, 1]) cf. https://stable-baselines3.readthedocs.io/en/master/guide/rl_tips.html\n",
      "  warnings.warn(\n",
      "c:\\Users\\schmidtfa\\MasterStudium\\PythonEnvironment\\Lib\\site-packages\\stable_baselines3\\common\\env_checker.py:452: UserWarning: Your action space has dtype float64, we recommend using np.float32 to avoid cast errors.\n",
      "  warnings.warn(\n"
     ]
    }
   ],
   "source": [
    "from stable_baselines3.common.env_checker import check_env\n",
    "#import CurvyRaceEnv\n",
    "test = CurvyRaceEnv.CurvyRaceEnv()\n",
    "check_env(test)"
   ]
  },
  {
   "cell_type": "code",
   "execution_count": 3,
   "id": "fa86b0e045ad909a",
   "metadata": {
    "ExecuteTime": {
     "end_time": "2024-01-11T22:36:01.247790200Z",
     "start_time": "2024-01-11T22:36:01.230275700Z"
    },
    "collapsed": false
   },
   "outputs": [],
   "source": [
    "from gymnasium.envs.registration import register\n",
    "\n",
    "register(\n",
    "     id=\"CurvyRaceEnv-v0\",\n",
    "     entry_point=\"CurvyRaceEnv:CurvyRaceEnv\",\n",
    "     max_episode_steps=100,\n",
    ")"
   ]
  },
  {
   "cell_type": "code",
   "execution_count": 4,
   "id": "32b1fe498c931556",
   "metadata": {
    "ExecuteTime": {
     "end_time": "2024-01-11T22:36:01.282320700Z",
     "start_time": "2024-01-11T22:36:01.238282100Z"
    },
    "collapsed": false
   },
   "outputs": [],
   "source": [
    "from typing import Any\n",
    "from typing import Dict\n",
    "\n",
    "import gymnasium\n",
    "import optuna\n",
    "from optuna.pruners import MedianPruner\n",
    "from optuna.samplers import TPESampler\n",
    "from stable_baselines3 import A2C\n",
    "from stable_baselines3.common.callbacks import EvalCallback\n",
    "from stable_baselines3.common.monitor import Monitor\n",
    "from stable_baselines3.common.callbacks import StopTrainingOnNoModelImprovement\n",
    "from stable_baselines3.common.callbacks import EvalCallback, BaseCallback\n",
    "\n",
    "import torch\n",
    "import torch.nn as nn\n",
    "import time\n",
    "N_TRIALS = 10000\n",
    "N_STARTUP_TRIALS = 5\n",
    "N_EVALUATIONS = 2\n",
    "N_TIMESTEPS = 20000\n",
    "EVAL_FREQ = int(N_TIMESTEPS / N_EVALUATIONS)\n",
    "N_EVAL_EPISODES = 3\n",
    "\n",
    "ENV_ID = \"CurvyRaceEnv-v0\"\n",
    "\n",
    "DEFAULT_HYPERPARAMS = {\n",
    "    \"policy\": \"MlpPolicy\",\n",
    "    \"env\": ENV_ID,\n",
    "}"
   ]
  },
  {
   "cell_type": "code",
   "execution_count": 5,
   "id": "a6f149d374e7d57f",
   "metadata": {
    "ExecuteTime": {
     "end_time": "2024-01-11T22:36:01.282820600Z",
     "start_time": "2024-01-11T22:36:01.257798900Z"
    },
    "collapsed": false
   },
   "outputs": [],
   "source": [
    "def evaluate_model(model, env, num_episodes=100):  \n",
    "    \n",
    "    total_reward = 0.0\n",
    "    for _ in range(num_episodes):\n",
    "        obs, info = env.reset()\n",
    "        done = False\n",
    "        while not done:\n",
    "            action, _ = model.predict(obs)\n",
    "            obs, reward, done,info, _ = env.step(action)\n",
    "            total_reward += reward\n",
    "    mean_reward = total_reward / num_episodes\n",
    "    return mean_reward"
   ]
  },
  {
   "cell_type": "code",
   "execution_count": 6,
   "id": "eb81230539142dfb",
   "metadata": {
    "ExecuteTime": {
     "end_time": "2024-01-11T22:36:01.283823600Z",
     "start_time": "2024-01-11T22:36:01.269809400Z"
    },
    "collapsed": false
   },
   "outputs": [],
   "source": [
    "from stable_baselines3 import A2C, PPO, TD3, DDPG\n",
    "from stable_baselines3.common.noise import NormalActionNoise, OrnsteinUhlenbeckActionNoise\n",
    "\n",
    "def objective(trial: optuna.Trial) -> float:   \n",
    "    hyperparams = {\n",
    "        \"neg_reward_small\": trial.suggest_int(\"neg_reward_small\", -10, -1),\n",
    "        \"neg_reward_big\": trial.suggest_int(\"neg_reward_big\", -50, -10),\n",
    "        \"pos_reward_factor\": trial.suggest_int(\"pos_reward_factor\", 1, 20),\n",
    "        'learning_rate': trial.suggest_float('learning_rate', 1e-5, 1e-1, log=True),\n",
    "        'buffer_size': trial.suggest_int('buffer_size', 1000, 100000),\n",
    "        'gamma': trial.suggest_float('gamma', 0.9, 0.999),\n",
    "        'tau': trial.suggest_float('tau', 1e-3, 1e-1, log=True)   \n",
    "    }\n",
    "    # Define the environment\n",
    "    env = gymnasium.make('CurvyRaceEnv-v0', pos_reward_factor=hyperparams[\"pos_reward_factor\"],neg_reward_small=hyperparams[\"neg_reward_small\"],neg_reward_big=hyperparams[\"neg_reward_big\"])  \n",
    "    \n",
    "\n",
    "\n",
    "    \n",
    "    \n",
    "    \n",
    "\n",
    "    # Create and train the DDPG model\n",
    "    model = DDPG('MlpPolicy', env, learning_rate=hyperparams['learning_rate'], buffer_size=hyperparams['buffer_size'],\n",
    "                 gamma=hyperparams['gamma'], tau=hyperparams['tau'],\n",
    "                 action_noise=NormalActionNoise(mean=np.zeros(env.action_space.shape), sigma=0.1 * np.ones(env.action_space.shape)))\n",
    "    \n",
    "    # Train the model\n",
    "    model.learn(total_timesteps=10000)  # Adjust the total_timesteps as needed\n",
    "\n",
    "    # Evaluate the model\n",
    "    mean_reward = evaluate_model(model, env)\n",
    "\n",
    "    return mean_reward"
   ]
  },
  {
   "cell_type": "code",
   "execution_count": 7,
   "id": "c97768c52d3d9ed4",
   "metadata": {
    "ExecuteTime": {
     "end_time": "2024-01-11T22:36:01.309344600Z",
     "start_time": "2024-01-11T22:36:01.282820600Z"
    },
    "collapsed": false
   },
   "outputs": [],
   "source": [
    "#study = optuna.create_study(study_name=\"DDPG\", storage=\"sqlite:///DRL2.db\", load_if_exists=True, direction=\"maximize\")\n",
    "#study.optimize(objective, n_trials=N_TRIALS, show_progress_bar=True)"
   ]
  },
  {
   "cell_type": "code",
   "execution_count": null,
   "id": "d6f80c85",
   "metadata": {
    "ExecuteTime": {
     "end_time": "2024-01-11T22:36:01.309845800Z",
     "start_time": "2024-01-11T22:36:01.295365400Z"
    }
   },
   "outputs": [],
   "source": []
  },
  {
   "cell_type": "code",
   "execution_count": 22,
   "id": "7dac46d481acd2a3",
   "metadata": {
    "ExecuteTime": {
     "end_time": "2024-01-11T22:54:47.320273300Z",
     "start_time": "2024-01-11T22:36:01.304339100Z"
    },
    "collapsed": false
   },
   "outputs": [],
   "source": [
    "from stable_baselines3.common.env_util import make_vec_env\n",
    "from stable_baselines3 import DDPG, TD3, SAC\n",
    "from stable_baselines3.common.noise import NormalActionNoise, OrnsteinUhlenbeckActionNoise\n",
    "\n",
    "\n",
    "env = gymnasium.make(\"CurvyRaceEnv-v0\")\n",
    "env = Monitor(env, \"logs/ddpg\")\n",
    "#model_ddpg = DDPG(\"MlpPolicy\", env,action_noise=NormalActionNoise(mean=np.zeros(env.action_space.shape), sigma=0.1 * np.ones(env.action_space.shape)),  learning_rate=0.004859847958257243,tau=0.06431401009446525,  gamma = 0.9703705891833702, buffer_size=2000000)\n",
    "#model_ddpg.learn(total_timesteps=10000)\n",
    "#model_ddpg.save(\"models/model_ddpg\")\n",
    "#_, _ = env.reset()\n",
    "#del model_ddpg\n",
    "\n",
    "#env = Monitor(env, \"logs/td3\")\n",
    "#model_td3 = TD3(\"MlpPolicy\", env, action_noise=NormalActionNoise(mean=np.zeros(env.action_space.shape), sigma=0.1 * np.ones(env.action_space.shape)), learning_rate=0.004859847958257243,tau=0.06431401009446525, # gamma = 0.9703705891833702, buffer_size=82149)\n",
    "#model_td3.learn(total_timesteps=10000)\n",
    "#model_td3.save(\"models/model_td3\")\n",
    "#_, _ = env.reset()\n",
    "#del model_td3\n",
    "\n",
    "env = Monitor(env, \"logs/sac\")\n",
    "model_sac = SAC(\"MlpPolicy\", env,action_noise=NormalActionNoise(mean=np.zeros(env.action_space.shape), sigma=0.1 * np.ones(env.action_space.shape)),  learning_rate=0.006859847958257243,tau=0.06431401009446525,  gamma = 0.9903705891833702, buffer_size=2000000)\n",
    "model_sac.learn(total_timesteps=50000)\n",
    "model_sac.save(\"models/model_sac\")\n",
    "_, _ = env.reset()\n",
    "del model_sac"
   ]
  },
  {
   "cell_type": "code",
   "execution_count": 8,
   "id": "ae662d1d8ac89e70",
   "metadata": {
    "ExecuteTime": {
     "end_time": "2024-01-11T22:54:47.329780800Z",
     "start_time": "2024-01-11T22:54:47.328779400Z"
    },
    "collapsed": false
   },
   "outputs": [
    {
     "ename": "NameError",
     "evalue": "name 'env' is not defined",
     "output_type": "error",
     "traceback": [
      "\u001b[1;31m---------------------------------------------------------------------------\u001b[0m",
      "\u001b[1;31mNameError\u001b[0m                                 Traceback (most recent call last)",
      "Cell \u001b[1;32mIn[8], line 1\u001b[0m\n\u001b[1;32m----> 1\u001b[0m \u001b[43menv\u001b[49m\u001b[38;5;241m.\u001b[39mclose()\n",
      "\u001b[1;31mNameError\u001b[0m: name 'env' is not defined"
     ]
    }
   ],
   "source": [
    "env.close()"
   ]
  },
  {
   "cell_type": "code",
   "execution_count": 9,
   "id": "3ff82e7b",
   "metadata": {
    "ExecuteTime": {
     "end_time": "2024-01-11T22:54:47.352301900Z",
     "start_time": "2024-01-11T22:54:47.332282700Z"
    }
   },
   "outputs": [],
   "source": [
    "def run_env(env, model):\n",
    "    obs, info = env.reset()\n",
    "    done = False\n",
    "    reward_list = []\n",
    "    observation_list = []\n",
    "    while not done:\n",
    "        action, _states = model.predict(obs)\n",
    "        obs, rewards, done, info, _ = env.step(action)\n",
    "        print(f\"obs: {obs}\")\n",
    "        observation_list.append(obs)\n",
    "        reward_list.append(rewards)\n",
    "    env.render()\n",
    "    return reward_list"
   ]
  },
  {
   "cell_type": "code",
   "execution_count": null,
   "id": "a3265f13a0baf9d9",
   "metadata": {
    "ExecuteTime": {
     "end_time": "2024-01-11T22:54:47.352800500Z",
     "start_time": "2024-01-11T22:54:47.344072300Z"
    },
    "collapsed": false
   },
   "outputs": [],
   "source": []
  },
  {
   "cell_type": "code",
   "execution_count": 10,
   "id": "e8ac2833",
   "metadata": {
    "ExecuteTime": {
     "end_time": "2024-01-11T22:54:47.373817900Z",
     "start_time": "2024-01-11T22:54:47.350798200Z"
    }
   },
   "outputs": [],
   "source": [
    "import numpy as np\n",
    "import matplotlib.pyplot as plt\n",
    "\n",
    "def plot_cumulative_rewards(rewards):\n",
    "    \"\"\"\n",
    "    Plots the cumulative rewards per episode.\n",
    "    \"\"\"\n",
    "    # Calculate the cumulative sum of the list elements\n",
    "    cumulative_rewards = {key: np.cumsum(value) for key, value in rewards.items()}\n",
    "\n",
    "    # Plot the cumulative rewards\n",
    "    for key, value in cumulative_rewards.items():\n",
    "        plt.plot(value, label=key)\n",
    "\n",
    "    plt.xlabel('Episode')\n",
    "    plt.ylabel('Cumulative Reward')\n",
    "    plt.legend()\n",
    "    plt.show()\n"
   ]
  },
  {
   "cell_type": "code",
   "execution_count": 11,
   "id": "d16f8fa998e2ae70",
   "metadata": {
    "ExecuteTime": {
     "end_time": "2024-01-11T22:54:47.391834Z",
     "start_time": "2024-01-11T22:54:47.361307700Z"
    },
    "collapsed": false
   },
   "outputs": [],
   "source": [
    "import pandas as pd\n",
    "def load_log(path):\n",
    "    data =  pd.read_csv(path, index_col=None).index.tolist()[1:]    \n",
    "    return [float(x) for x in data]"
   ]
  },
  {
   "cell_type": "code",
   "execution_count": 17,
   "id": "40f7ed5cff9b5017",
   "metadata": {
    "ExecuteTime": {
     "end_time": "2024-01-11T22:54:47.690592100Z",
     "start_time": "2024-01-11T22:54:47.373317400Z"
    },
    "collapsed": false
   },
   "outputs": [
    {
     "data": {
      "image/png": "[encoded data removed]",
      "text/plain": [
       "<Figure size 640x480 with 1 Axes>"
      ]
     },
     "metadata": {},
     "output_type": "display_data"
    }
   ],
   "source": [
    "from stable_baselines3 import DDPG,SAC, TD3\n",
    "ddpg = DDPG.load(\"models/model_ddpg.zip\")\n",
    "#sac = SAC.load(\"models/model_sac.zip\")\n",
    "#td3 = TD3.load(\"models/model_td3.zip\")\n",
    "\n",
    "test = gymnasium.make(\"CurvyRaceEnv-v0\")\n",
    "\n",
    "rewards = {}\n",
    "rewards[\"DDPG\"] = load_log(\"logs/ddpg.monitor.csv\")\n",
    "#rewards[\"sac\"] = load_log(\"logs/sac.monitor.csv\")\n",
    "#rewards[\"td3\"] = load_log(\"logs/td3.monitor.csv\")\n",
    "\n",
    "\n",
    "\n",
    "plot_cumulative_rewards(rewards)"
   ]
  },
  {
   "cell_type": "code",
   "execution_count": 18,
   "id": "b2ffd85a423e7735",
   "metadata": {
    "ExecuteTime": {
     "end_time": "2024-01-11T22:55:30.807327700Z",
     "start_time": "2024-01-11T22:55:30.229832700Z"
    },
    "collapsed": false
   },
   "outputs": [
    {
     "name": "stderr",
     "output_type": "stream",
     "text": [
      "c:\\Users\\schmidtfa\\MasterStudium\\PythonEnvironment\\Lib\\site-packages\\gymnasium\\utils\\passive_env_checker.py:181: DeprecationWarning: \u001b[33mWARN: Current gymnasium version requires that `Env.reset` can be passed `options` to allow the environment initialisation to be passed additional information.\u001b[0m\n",
      "  logger.deprecation(\n"
     ]
    },
    {
     "name": "stdout",
     "output_type": "stream",
     "text": [
      "obs: [-0.03117838 -0.05746476  0.4665952   2.031991  ]\n",
      "obs: [-0.03117838 -0.05746476  0.8665952   2.031991  ]\n",
      "obs: [-0.03117838 -0.05746476  1.2665952   2.031991  ]\n",
      "obs: [-0.03117838 -0.05746476  1.6665952   2.031991  ]\n",
      "obs: [-0.03117838 -0.05746476  2.066595    2.031991  ]\n",
      "obs: [-0.03117838 -0.05746476  2.4665952   2.031991  ]\n",
      "obs: [-0.03117838 -0.05746476  2.8665953   2.031991  ]\n",
      "obs: [-0.03117838 -0.05746476  3.2665951   2.031991  ]\n",
      "obs: [-0.03117838 -0.05746476  3.6665952   2.031991  ]\n",
      "obs: [-0.03117838 -0.05746476  4.066595    2.031991  ]\n",
      "obs: [-0.03117838 -0.05746476  4.466595    2.031991  ]\n",
      "obs: [-0.03117838 -0.05746476  4.8665953   2.031991  ]\n",
      "obs: [-0.03117838 -0.05746476  5.2665954   2.031991  ]\n",
      "obs: [-0.03117838 -0.05746476  5.666595    2.031991  ]\n",
      "obs: [-0.03117838 -0.05746476  6.066595    2.031991  ]\n",
      "obs: [-0.03117838 -0.05746476  6.466595    2.031991  ]\n",
      "obs: [-0.03117838 -0.05746476  6.8665953   2.031991  ]\n",
      "obs: [-0.03117838 -0.05746476  7.2665954   2.031991  ]\n",
      "obs: [-0.03117838 -0.05746476  7.666595    2.031991  ]\n",
      "obs: [-0.03117838 -0.05746476  8.066595    2.031991  ]\n",
      "obs: [-0.03117838 -0.05746476  8.466596    2.031991  ]\n",
      "obs: [-0.03117838 -0.05746476  8.866595    2.031991  ]\n",
      "obs: [-0.03117838 -0.05746476  9.266595    2.031991  ]\n",
      "obs: [-0.03117838 -0.05746476  9.666595    2.031991  ]\n",
      "obs: [-0.03117838 -0.05746476 10.066595    2.031991  ]\n",
      "obs: [-0.03117838 -0.05746476 10.466596    2.031991  ]\n",
      "obs: [-0.03117838 -0.05746476 10.866595    2.031991  ]\n",
      "obs: [-0.03117838 -0.05746476 11.266595    2.031991  ]\n",
      "obs: [-0.03117838 -0.05746476 11.666595    2.031991  ]\n",
      "obs: [-0.03117838 -0.05746476 12.066595    2.031991  ]\n",
      "obs: [-0.03117838 -0.05746476 12.466596    2.031991  ]\n",
      "obs: [-0.03117838 -0.05746476 12.866595    2.031991  ]\n",
      "obs: [-0.03117838 -0.05746476 13.266595    2.031991  ]\n",
      "obs: [-0.03117838 -0.05746476 13.666595    2.031991  ]\n",
      "obs: [-0.03117838 -0.05746476 14.066595    2.031991  ]\n",
      "obs: [-0.03117838 -0.05746476 14.466596    2.031991  ]\n",
      "obs: [-0.03117838 -0.05746476 14.866595    2.031991  ]\n",
      "obs: [-0.03117838 -0.05746476 15.266595    2.031991  ]\n",
      "obs: [-0.03117838 -0.05746476 15.666595    2.031991  ]\n",
      "obs: [-0.03117838 -0.05746476 16.066595    2.031991  ]\n",
      "obs: [-0.03117838 -0.05746476 16.466595    2.031991  ]\n",
      "obs: [-0.03117838 -0.05746476 16.866594    2.031991  ]\n",
      "obs: [-0.03117838 -0.05746476 17.266596    2.031991  ]\n",
      "obs: [-0.03117838 -0.05746476 17.666595    2.031991  ]\n",
      "obs: [-0.03117838 -0.05746476 18.066595    2.031991  ]\n",
      "obs: [-0.03117838 -0.05746476 18.466595    2.031991  ]\n",
      "obs: [-0.03117838 -0.05746476 18.866594    2.031991  ]\n",
      "obs: [-0.03117838 -0.05746476 19.266596    2.031991  ]\n",
      "obs: [-0.03117838 -0.05746476 19.666595    2.031991  ]\n",
      "obs: [-0.03117838 -0.05746476 20.066595    2.031991  ]\n",
      "obs: [-0.03117838 -0.05746476 20.466595    2.031991  ]\n",
      "obs: [-0.03117838 -0.05746476 20.866594    2.031991  ]\n",
      "obs: [-0.03117838 -0.05746476 21.266596    2.031991  ]\n",
      "obs: [-0.03117838 -0.05746476 21.666595    2.031991  ]\n",
      "obs: [-0.03117838 -0.05746476 22.066595    2.031991  ]\n",
      "obs: [-0.03117838 -0.05746476 22.466595    2.031991  ]\n",
      "obs: [-0.03117838 -0.05746476 22.866594    2.031991  ]\n",
      "obs: [-0.03117838 -0.05746476 23.266596    2.031991  ]\n",
      "obs: [-0.03117838 -0.05746476 23.666595    2.031991  ]\n",
      "obs: [-0.03117838 -0.05746476 24.066595    2.031991  ]\n",
      "obs: [-0.03117838 -0.05746476 24.466595    2.031991  ]\n",
      "obs: [-0.03117838 -0.05746476 24.866594    2.031991  ]\n",
      "obs: [-0.03117838 -0.05746476 25.266596    2.031991  ]\n",
      "obs: [-0.03117838 -0.05746476 25.666595    2.031991  ]\n",
      "obs: [-0.03117838 -0.05746476 26.066595    2.031991  ]\n",
      "obs: [-0.03117838 -0.05746476 26.466595    2.031991  ]\n",
      "obs: [-0.03117838 -0.05746476 26.866594    2.031991  ]\n",
      "obs: [-0.03117838 -0.05746476 27.266596    2.031991  ]\n",
      "obs: [-0.03117838 -0.05746476 27.666595    2.031991  ]\n",
      "obs: [-0.03117838 -0.05746476 28.066595    2.031991  ]\n",
      "obs: [-0.03117838 -0.05746476 28.466595    2.031991  ]\n",
      "obs: [-0.03117838 -0.05746476 28.866594    2.031991  ]\n",
      "obs: [-0.03117838 -0.05746476 29.266596    2.031991  ]\n",
      "obs: [-0.03117838 -0.05746476 29.666595    2.031991  ]\n",
      "obs: [-0.03117838 -0.05746476 30.066595    2.031991  ]\n",
      "obs: [-0.03117838 -0.05746476 30.466595    2.031991  ]\n",
      "obs: [-0.03117838 -0.05746476 30.866594    2.031991  ]\n",
      "obs: [-3.1178379e-02 -5.7464756e-02  3.1266596e+01  2.0319910e+00]\n",
      "obs: [-3.1178379e-02 -5.7464756e-02  3.1666595e+01  2.0319910e+00]\n",
      "obs: [-3.1178379e-02 -5.7464756e-02  3.2066597e+01  2.0319910e+00]\n",
      "obs: [-3.1178379e-02 -5.7464756e-02  3.2466595e+01  2.0319910e+00]\n",
      "obs: [-3.1178379e-02 -5.7464756e-02  3.2866596e+01  2.0319910e+00]\n",
      "obs: [-3.1178379e-02 -5.7464756e-02  3.3266594e+01  2.0319910e+00]\n",
      "obs: [-3.1178379e-02 -5.7464756e-02  3.3666595e+01  2.0319910e+00]\n",
      "obs: [-3.1178379e-02 -5.7464756e-02  3.4066597e+01  2.0319910e+00]\n",
      "obs: [-3.1178379e-02 -5.7464756e-02  3.4466595e+01  2.0319910e+00]\n",
      "obs: [-3.1178379e-02 -5.7464756e-02  3.4866596e+01  2.0319910e+00]\n",
      "obs: [-3.1178379e-02 -5.7464756e-02  3.5266594e+01  2.0319910e+00]\n",
      "obs: [-3.1178379e-02 -5.7464756e-02  3.5666595e+01  2.0319910e+00]\n",
      "obs: [-3.1178379e-02 -5.7464756e-02  3.6066597e+01  2.0319910e+00]\n",
      "obs: [-3.1178379e-02 -5.7464756e-02  3.6466595e+01  2.0319910e+00]\n",
      "obs: [-3.1178379e-02 -5.7464756e-02  3.6866596e+01  2.0319910e+00]\n",
      "obs: [-3.1178379e-02 -5.7464756e-02  3.7266594e+01  2.0319910e+00]\n",
      "obs: [-3.1178379e-02 -5.7464756e-02  3.7666595e+01  2.0319910e+00]\n",
      "obs: [-3.1178379e-02 -5.7464756e-02  3.8066597e+01  2.0319910e+00]\n",
      "obs: [-3.1178379e-02 -5.7464756e-02  3.8466595e+01  2.0319910e+00]\n",
      "obs: [-3.1178379e-02 -5.7464756e-02  3.8866596e+01  2.0319910e+00]\n",
      "obs: [-3.1178379e-02 -5.7464756e-02  3.9266594e+01  2.0319910e+00]\n",
      "obs: [-3.1178379e-02 -5.7464756e-02  3.9666595e+01  2.0319910e+00]\n",
      "obs: [-3.1178379e-02 -5.7464756e-02  4.0066597e+01  2.0319910e+00]\n",
      "obs: [-3.1178379e-02 -5.7464756e-02  4.0066597e+01  2.0319910e+00]\n"
     ]
    },
    {
     "data": {
      "image/png": "[encoded data removed]",
      "text/plain": [
       "<Figure size 640x480 with 1 Axes>"
      ]
     },
     "metadata": {},
     "output_type": "display_data"
    },
    {
     "data": {
      "text/plain": [
       "[-25,\n",
       " -25,\n",
       " -25,\n",
       " -25,\n",
       " -25,\n",
       " -25,\n",
       " -25,\n",
       " -25,\n",
       " -25,\n",
       " -25,\n",
       " -25,\n",
       " -25,\n",
       " -25,\n",
       " -25,\n",
       " -25,\n",
       " -25,\n",
       " -25,\n",
       " -25,\n",
       " -25,\n",
       " -25,\n",
       " -25,\n",
       " -25,\n",
       " -25,\n",
       " -25,\n",
       " -25,\n",
       " -25,\n",
       " -25,\n",
       " -25,\n",
       " -25,\n",
       " -25,\n",
       " -25,\n",
       " -25,\n",
       " -25,\n",
       " -25,\n",
       " -25,\n",
       " -25,\n",
       " -25,\n",
       " -25,\n",
       " -25,\n",
       " -25,\n",
       " -25,\n",
       " -25,\n",
       " -25,\n",
       " -25,\n",
       " -25,\n",
       " -25,\n",
       " -25,\n",
       " -25,\n",
       " -25,\n",
       " -25,\n",
       " -25,\n",
       " -25,\n",
       " -25,\n",
       " -25,\n",
       " -25,\n",
       " -25,\n",
       " -25,\n",
       " -25,\n",
       " -25,\n",
       " -25,\n",
       " -25,\n",
       " -25,\n",
       " -25,\n",
       " -25,\n",
       " -25,\n",
       " -25,\n",
       " -25,\n",
       " -25,\n",
       " -25,\n",
       " -25,\n",
       " -25,\n",
       " -25,\n",
       " -25,\n",
       " -25,\n",
       " -25,\n",
       " -25,\n",
       " -25,\n",
       " -25,\n",
       " -25,\n",
       " -25,\n",
       " -25,\n",
       " -25,\n",
       " -25,\n",
       " -25,\n",
       " -25,\n",
       " -25,\n",
       " -25,\n",
       " -25,\n",
       " -25,\n",
       " -25,\n",
       " -25,\n",
       " -25,\n",
       " -25,\n",
       " -25,\n",
       " -25,\n",
       " -25,\n",
       " -25,\n",
       " -25,\n",
       " -25,\n",
       " -25,\n",
       " -25]"
      ]
     },
     "execution_count": 18,
     "metadata": {},
     "output_type": "execute_result"
    }
   ],
   "source": [
    "run_env(test, ddpg)"
   ]
  },
  {
   "cell_type": "code",
   "execution_count": 14,
   "id": "5425df569e93f022",
   "metadata": {
    "ExecuteTime": {
     "end_time": "2024-01-11T22:54:48.236060200Z",
     "start_time": "2024-01-11T22:54:48.105946500Z"
    },
    "collapsed": false
   },
   "outputs": [
    {
     "data": {
      "text/plain": [
       "Box([-4. -2.], [4. 2.], (2,), float64)"
      ]
     },
     "execution_count": 14,
     "metadata": {},
     "output_type": "execute_result"
    }
   ],
   "source": [
    "test.action_space"
   ]
  },
  {
   "cell_type": "code",
   "execution_count": 15,
   "id": "8b4248852039b671",
   "metadata": {
    "ExecuteTime": {
     "end_time": "2024-01-11T22:54:48.237060Z",
     "start_time": "2024-01-11T22:54:48.115456700Z"
    },
    "collapsed": false
   },
   "outputs": [
    {
     "data": {
      "text/plain": [
       "Box(-inf, inf, (4,), float32)"
      ]
     },
     "execution_count": 15,
     "metadata": {},
     "output_type": "execute_result"
    }
   ],
   "source": [
    "test.observation_space"
   ]
  },
  {
   "cell_type": "code",
   "execution_count": null,
   "id": "48a453e3885c7af1",
   "metadata": {
    "ExecuteTime": {
     "end_time": "2024-01-11T22:54:48.237561900Z",
     "start_time": "2024-01-11T22:54:48.134471700Z"
    },
    "collapsed": false
   },
   "outputs": [],
   "source": []
  }
 ],
 "metadata": {
  "kernelspec": {
   "display_name": "Python 3 (ipykernel)",
   "language": "python",
   "name": "python3"
  },
  "language_info": {
   "codemirror_mode": {
    "name": "ipython",
    "version": 3
   },
   "file_extension": ".py",
   "mimetype": "text/x-python",
   "name": "python",
   "nbconvert_exporter": "python",
   "pygments_lexer": "ipython3",
   "version": "3.11.7"
  }
 },
 "nbformat": 4,
 "nbformat_minor": 5
}
