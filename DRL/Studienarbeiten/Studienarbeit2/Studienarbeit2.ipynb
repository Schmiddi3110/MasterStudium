{
 "cells": [
  {
   "cell_type": "code",
   "execution_count": 1,
   "id": "initial_id",
   "metadata": {
    "collapsed": true,
    "jupyter": {
     "outputs_hidden": true
    },
    "ExecuteTime": {
     "end_time": "2024-01-14T20:10:06.733516200Z",
     "start_time": "2024-01-14T20:10:02.534561300Z"
    }
   },
   "outputs": [],
   "source": [
    "%load_ext autoreload\n",
    "#import race\n",
    "#import math\n",
    "#import random\n",
    "\n",
    "#import gym\n",
    "import numpy as np\n",
    "\n",
    "#import torch\n",
    "#import torch.nn as nn\n",
    "#import torch.optim as optim\n",
    "#import torch.nn.functional as F\n",
    "#from torch.distributions import Normal\n",
    "\n",
    "#from IPython.display import clear_output\n",
    "import matplotlib.pyplot as plt\n",
    "import optuna\n",
    "#import importlib\n",
    "import CurvyRaceEnv\n",
    "#importlib.reload(CurvyRaceEnv)\n",
    "%matplotlib inline\n",
    "%reload_ext autoreload"
   ]
  },
  {
   "cell_type": "code",
   "execution_count": 2,
   "id": "edaaebe4",
   "metadata": {
    "ExecuteTime": {
     "end_time": "2024-01-14T20:10:34.243502300Z",
     "start_time": "2024-01-14T20:10:16.408949500Z"
    }
   },
   "outputs": [
    {
     "name": "stdout",
     "output_type": "stream",
     "text": [
      "WARNING:tensorflow:From C:\\Studium\\MasterStudium\\DRL\\Studienarbeiten\\Studienarbeit2\\DRL_Studienarbeit2_env\\Lib\\site-packages\\keras\\src\\losses.py:2976: The name tf.losses.sparse_softmax_cross_entropy is deprecated. Please use tf.compat.v1.losses.sparse_softmax_cross_entropy instead.\n"
     ]
    },
    {
     "name": "stderr",
     "output_type": "stream",
     "text": [
      "C:\\Studium\\MasterStudium\\DRL\\Studienarbeiten\\Studienarbeit2\\DRL_Studienarbeit2_env\\Lib\\site-packages\\stable_baselines3\\common\\env_checker.py:441: UserWarning: We recommend you to use a symmetric and normalized Box action space (range=[-1, 1]) cf. https://stable-baselines3.readthedocs.io/en/master/guide/rl_tips.html\n",
      "  warnings.warn(\n",
      "C:\\Studium\\MasterStudium\\DRL\\Studienarbeiten\\Studienarbeit2\\DRL_Studienarbeit2_env\\Lib\\site-packages\\stable_baselines3\\common\\env_checker.py:452: UserWarning: Your action space has dtype float64, we recommend using np.float32 to avoid cast errors.\n",
      "  warnings.warn(\n"
     ]
    }
   ],
   "source": [
    "from stable_baselines3.common.env_checker import check_env\n",
    "#import CurvyRaceEnv\n",
    "test = CurvyRaceEnv.CurvyRaceEnv()\n",
    "check_env(test)"
   ]
  },
  {
   "cell_type": "code",
   "execution_count": 3,
   "id": "fa86b0e045ad909a",
   "metadata": {
    "collapsed": false,
    "ExecuteTime": {
     "end_time": "2024-01-14T20:10:36.672424400Z",
     "start_time": "2024-01-14T20:10:36.634891500Z"
    }
   },
   "outputs": [],
   "source": [
    "from gymnasium.envs.registration import register\n",
    "\n",
    "register(\n",
    "     id=\"CurvyRaceEnv-v0\",\n",
    "     entry_point=\"CurvyRaceEnv:CurvyRaceEnv\",\n",
    "     max_episode_steps=100,\n",
    ")"
   ]
  },
  {
   "cell_type": "code",
   "execution_count": 4,
   "id": "32b1fe498c931556",
   "metadata": {
    "collapsed": false,
    "ExecuteTime": {
     "end_time": "2024-01-14T20:10:37.504683600Z",
     "start_time": "2024-01-14T20:10:37.471653900Z"
    }
   },
   "outputs": [],
   "source": [
    "from typing import Any\n",
    "from typing import Dict\n",
    "\n",
    "import gymnasium\n",
    "import optuna\n",
    "from optuna.pruners import MedianPruner\n",
    "from optuna.samplers import TPESampler\n",
    "from stable_baselines3 import A2C\n",
    "from stable_baselines3.common.callbacks import EvalCallback\n",
    "from stable_baselines3.common.monitor import Monitor\n",
    "from stable_baselines3.common.callbacks import StopTrainingOnNoModelImprovement\n",
    "from stable_baselines3.common.callbacks import EvalCallback, BaseCallback\n",
    "\n",
    "import torch\n",
    "import torch.nn as nn\n",
    "import time\n",
    "N_TRIALS = 10000\n",
    "N_STARTUP_TRIALS = 5\n",
    "N_EVALUATIONS = 2\n",
    "N_TIMESTEPS = 20000\n",
    "EVAL_FREQ = int(N_TIMESTEPS / N_EVALUATIONS)\n",
    "N_EVAL_EPISODES = 3\n",
    "\n",
    "ENV_ID = \"CurvyRaceEnv-v0\"\n",
    "\n",
    "DEFAULT_HYPERPARAMS = {\n",
    "    \"policy\": \"MlpPolicy\",\n",
    "    \"env\": ENV_ID,\n",
    "}"
   ]
  },
  {
   "cell_type": "code",
   "execution_count": 5,
   "id": "a6f149d374e7d57f",
   "metadata": {
    "collapsed": false,
    "ExecuteTime": {
     "end_time": "2024-01-14T20:10:38.218796200Z",
     "start_time": "2024-01-14T20:10:38.179761900Z"
    }
   },
   "outputs": [],
   "source": [
    "def evaluate_model(model, env, num_episodes=100):  \n",
    "    \n",
    "    total_reward = 0.0\n",
    "    for _ in range(num_episodes):\n",
    "        obs, info = env.reset()\n",
    "        done = False\n",
    "        while not done:\n",
    "            action, _ = model.predict(obs)\n",
    "            obs, reward, done,info, _ = env.step(action)\n",
    "            total_reward += reward\n",
    "    mean_reward = total_reward / num_episodes\n",
    "    return mean_reward"
   ]
  },
  {
   "cell_type": "code",
   "execution_count": 6,
   "id": "eb81230539142dfb",
   "metadata": {
    "collapsed": false,
    "ExecuteTime": {
     "end_time": "2024-01-14T20:10:38.715222400Z",
     "start_time": "2024-01-14T20:10:38.685198500Z"
    }
   },
   "outputs": [],
   "source": [
    "from stable_baselines3 import A2C, PPO, TD3, DDPG, SAC\n",
    "from stable_baselines3.common.noise import NormalActionNoise, OrnsteinUhlenbeckActionNoise\n",
    "\n",
    "def objective(trial: optuna.Trial) -> float:   \n",
    "    hyperparams = {\n",
    "        'learning_starts': trial.suggest_int('learning_starts', 50,400),\n",
    "        'learning_rate': trial.suggest_float('learning_rate', 1e-5, 1e-1, log=True),\n",
    "        'gamma': trial.suggest_float('gamma', 0.9, 0.999),\n",
    "        'tau': trial.suggest_float('tau', 1e-3, 1e-1, log=True)   \n",
    "    }\n",
    "    # Define the environment\n",
    "    env = gymnasium.make('CurvyRaceEnv-v0')  \n",
    "    \n",
    "\n",
    "\n",
    "    \n",
    "    \n",
    "    \n",
    "\n",
    "    # Create and train the DDPG model\n",
    "    model = SAC('MlpPolicy', env, learning_starts=hyperparams['learning_starts'] ,learning_rate=hyperparams['learning_rate'],\n",
    "                 gamma=hyperparams['gamma'], tau=hyperparams['tau'],\n",
    "                 action_noise=NormalActionNoise(mean=np.zeros(env.action_space.shape), sigma=0.1 * np.ones(env.action_space.shape)))\n",
    "    \n",
    "    # Train the model\n",
    "    model.learn(total_timesteps=50000)  # Adjust the total_timesteps as needed\n",
    "\n",
    "    # Evaluate the model\n",
    "    mean_reward = evaluate_model(model, env)\n",
    "\n",
    "    return mean_reward"
   ]
  },
  {
   "cell_type": "code",
   "execution_count": 7,
   "id": "c97768c52d3d9ed4",
   "metadata": {
    "collapsed": false,
    "ExecuteTime": {
     "end_time": "2024-01-14T20:10:39.785644Z",
     "start_time": "2024-01-14T20:10:39.753616300Z"
    }
   },
   "outputs": [],
   "source": [
    "#study = optuna.create_study(study_name=\"SAC\", storage=\"sqlite:///DRL2.db\", load_if_exists=True, direction=\"maximize\")\n",
    "#study.optimize(objective, n_trials=N_TRIALS, show_progress_bar=True)"
   ]
  },
  {
   "cell_type": "code",
   "execution_count": 8,
   "id": "d6f80c85",
   "metadata": {
    "ExecuteTime": {
     "end_time": "2024-01-14T20:10:42.231491800Z",
     "start_time": "2024-01-14T20:10:42.199465400Z"
    }
   },
   "outputs": [],
   "source": [
    "from stable_baselines3.common.evaluation import evaluate_policy\n",
    "from stable_baselines3.common.callbacks import EvalCallback, StopTrainingOnRewardThreshold\n",
    "\n",
    "eval_env = gymnasium.make(\"CurvyRaceEnv-v0\")\n",
    "eval_callback = EvalCallback(eval_env, best_model_save_path='model/best_model',\n",
    "                            log_path='logs/best_model_log', eval_freq=1000,\n",
    "                            deterministic=True, render=False,\n",
    "                            callback_on_new_best=StopTrainingOnRewardThreshold(reward_threshold=3500, verbose=1))"
   ]
  },
  {
   "cell_type": "code",
   "execution_count": null,
   "id": "7dac46d481acd2a3",
   "metadata": {
    "collapsed": false
   },
   "outputs": [],
   "source": [
    "from stable_baselines3.common.env_util import make_vec_env\n",
    "from stable_baselines3 import DDPG, TD3, SAC, A2C,PPO\n",
    "from stable_baselines3.common.noise import NormalActionNoise, OrnsteinUhlenbeckActionNoise\n",
    "\n",
    "\n",
    "env = gymnasium.make(\"CurvyRaceEnv-v0\")\n",
    "#env = Monitor(env, \"logs/ddpg\")\n",
    "#model_ddpg = DDPG(\"MlpPolicy\", env,action_noise=NormalActionNoise(mean=np.zeros(env.action_space.shape), sigma=0.1 * np.ones(env.action_space.shape)),  learning_rate=0.004859847958257243,tau=0.06431401009446525,  gamma = 0.9903705891833702, buffer_size=2000000)\n",
    "#model_ddpg.learn(total_timesteps=200000)\n",
    "#model_ddpg.save(\"models/model_ddpg\")\n",
    "#_, _ = env.reset()\n",
    "#del model_ddpg\n",
    "\n",
    "#env = Monitor(env, \"logs/td3\")\n",
    "#model_td3 = TD3(\"MlpPolicy\", env, action_noise=NormalActionNoise(mean=np.zeros(env.action_space.shape), sigma=0.1 * np.ones(env.action_space.shape)), learning_rate=0.004859847958257243,tau=0.06431401009446525,  gamma = 0.9703705891833702, buffer_size=200000)\n",
    "#model_td3.learn(total_timesteps=200000)\n",
    "#model_td3.save(\"models/model_td3\")\n",
    "#_, _ = env.reset()\n",
    "#del model_td3\n",
    "\n",
    "env = Monitor(env, \"logs/sac3\")\n",
    "model_sac = SAC(\"MlpPolicy\", env,action_noise=NormalActionNoise(mean=np.zeros(env.action_space.shape), sigma=0.1 * np.ones(env.action_space.shape)),  learning_rate=0.006859847958257243,tau=0.06431401009446525,  gamma = 0.9903705891833702, buffer_size=2000000)\n",
    "model_sac.learn(total_timesteps=1e7, callback=eval_callback)\n",
    "model_sac.save(\"models/model_sac3\")\n",
    "_, _ = env.reset()\n",
    "del model_sac\n",
    "\n",
    "#env = Monitor(env, \"logs/a2c\")\n",
    "#model_a2c = A2C(\"MlpPolicy\", env,  learning_rate=0.004859847958257243,  gamma = 0.9703705891833702)\n",
    "#model_a2c.learn(total_timesteps=20000)\n",
    "#model_a2c.save(\"models/model_a2c\")\n",
    "#_, _ = env.reset()\n",
    "#del model_a2c\n",
    "\n",
    "#env = Monitor(env, \"logs/ppo\")\n",
    "#model_ppo = PPO(\"MlpPolicy\", env,  learning_rate=0.004859847958257243,  gamma = 0.9703705891833702)\n",
    "#model_ppo.learn(total_timesteps=50000)\n",
    "#model_ppo.save(\"models/model_ppo\")\n",
    "#_, _ = env.reset()\n",
    "#del model_ppo"
   ]
  },
  {
   "cell_type": "code",
   "execution_count": null,
   "id": "ae662d1d8ac89e70",
   "metadata": {
    "collapsed": false
   },
   "outputs": [],
   "source": [
    "env.close()"
   ]
  },
  {
   "cell_type": "code",
   "execution_count": 9,
   "id": "3ff82e7b",
   "metadata": {
    "ExecuteTime": {
     "end_time": "2024-01-14T20:10:48.002197900Z",
     "start_time": "2024-01-14T20:10:47.975175200Z"
    }
   },
   "outputs": [],
   "source": [
    "def run_env(env, model):\n",
    "    obs, info = env.reset()\n",
    "    done = False\n",
    "    reward_list = []\n",
    "    observation_list = []\n",
    "    while not done:\n",
    "        action, _states = model.predict(obs)\n",
    "        obs, rewards, done, info, _ = env.step(action)\n",
    "        print(f\"obs: {obs}\")\n",
    "        observation_list.append(obs)\n",
    "        reward_list.append(rewards)\n",
    "    env.render()\n",
    "    return reward_list"
   ]
  },
  {
   "cell_type": "code",
   "execution_count": 9,
   "id": "a3265f13a0baf9d9",
   "metadata": {
    "collapsed": false,
    "ExecuteTime": {
     "end_time": "2024-01-14T20:10:48.346418200Z",
     "start_time": "2024-01-14T20:10:48.337911300Z"
    }
   },
   "outputs": [],
   "source": []
  },
  {
   "cell_type": "code",
   "execution_count": 10,
   "id": "e8ac2833",
   "metadata": {
    "ExecuteTime": {
     "end_time": "2024-01-14T20:10:48.728747Z",
     "start_time": "2024-01-14T20:10:48.688712900Z"
    }
   },
   "outputs": [],
   "source": [
    "import numpy as np\n",
    "import matplotlib.pyplot as plt\n",
    "\n",
    "def plot_cumulative_rewards(rewards):\n",
    "    \"\"\"\n",
    "    Plots the cumulative rewards per episode.\n",
    "    \"\"\"\n",
    "    # Calculate the cumulative sum of the list elements\n",
    "    cumulative_rewards = {key: np.cumsum(value) for key, value in rewards.items()}\n",
    "\n",
    "    # Plot the cumulative rewards\n",
    "    for key, value in cumulative_rewards.items():\n",
    "        plt.plot(value, label=key)\n",
    "\n",
    "    plt.xlabel('Episode')\n",
    "    plt.ylabel('Cumulative Reward')\n",
    "    plt.legend()\n",
    "    plt.show()\n"
   ]
  },
  {
   "cell_type": "code",
   "execution_count": 11,
   "id": "d16f8fa998e2ae70",
   "metadata": {
    "collapsed": false,
    "ExecuteTime": {
     "end_time": "2024-01-14T20:10:49.205158900Z",
     "start_time": "2024-01-14T20:10:49.194646900Z"
    }
   },
   "outputs": [],
   "source": [
    "import pandas as pd\n",
    "def load_log(path):\n",
    "    data =  pd.read_csv(path, index_col=None).index.tolist()[1:]    \n",
    "    return [float(x) for x in data]"
   ]
  },
  {
   "cell_type": "code",
   "execution_count": 13,
   "id": "40f7ed5cff9b5017",
   "metadata": {
    "collapsed": false,
    "ExecuteTime": {
     "end_time": "2024-01-14T20:11:51.561103100Z",
     "start_time": "2024-01-14T20:11:49.439048600Z"
    }
   },
   "outputs": [
    {
     "data": {
      "text/plain": "<Figure size 640x480 with 1 Axes>",
      "image/png": "[encoded data removed]"
     },
     "metadata": {},
     "output_type": "display_data"
    }
   ],
   "source": [
    "from stable_baselines3 import DDPG,SAC, TD3, A2C, PPO\n",
    "sac = SAC.load(\"models/model_sac.zip\")\n",
    "#ppo = PPO.load(\"models/model_ppo.zip\")\n",
    "#a2c = A2C.load(\"models/model_a2c.zip\")\n",
    "test = gymnasium.make(\"CurvyRaceEnv-v0\")\n",
    "\n",
    "rewards = {}\n",
    "rewards[\"sac\"] = load_log(\"logs/sac.monitor.csv\")\n",
    "#rewards[\"test\"] = load_log(\"logs/best_model_log/evaluations.npz\")\n",
    "#rewards[\"a2c\"] = load_log(\"logs/a2c.monitor.csv\")\n",
    "#rewards[\"ppo\"] = load_log(\"logs/ppo.monitor.csv\")\n",
    "\n",
    "\n",
    "\n",
    "plot_cumulative_rewards(rewards)"
   ]
  },
  {
   "cell_type": "code",
   "execution_count": 14,
   "id": "b2ffd85a423e7735",
   "metadata": {
    "collapsed": false,
    "ExecuteTime": {
     "end_time": "2024-01-14T20:11:52.149290600Z",
     "start_time": "2024-01-14T20:11:51.474667900Z"
    }
   },
   "outputs": [
    {
     "name": "stderr",
     "output_type": "stream",
     "text": [
      "C:\\Studium\\MasterStudium\\DRL\\Studienarbeiten\\Studienarbeit2\\DRL_Studienarbeit2_env\\Lib\\site-packages\\gymnasium\\utils\\passive_env_checker.py:181: DeprecationWarning: \u001B[33mWARN: Current gymnasium version requires that `Env.reset` can be passed `options` to allow the environment initialisation to be passed additional information.\u001B[0m\n",
      "  logger.deprecation(\n"
     ]
    },
    {
     "name": "stdout",
     "output_type": "stream",
     "text": [
      "obs: [ 0.600007   -0.12643929  0.12754057  1.405691   31.430021  ]\n",
      "obs: [ 1.3195375  -0.03416909  0.35583866  0.6813198  30.71546   ]\n",
      "obs: [ 2.0553913   0.2393178   0.25288895  0.24564445 29.995079  ]\n",
      "obs: [2.7548220e+00 4.2006576e-01 2.4423493e-02 1.3141246e+00 2.9308140e+01]\n",
      "obs: [ 3.3005087   0.43339598 -0.08859523  0.82287306 28.764542  ]\n",
      "obs: [ 3.9645348   0.37441203 -0.11093491  0.37608796 28.098055  ]\n",
      "obs: [ 4.5889344   0.30485874 -0.28099585  0.6631612  27.47042   ]\n",
      "obs: [ 4.791351    0.24643478 -0.4341253   1.4243221  27.26464   ]\n",
      "obs: [ 5.0731306   0.11579494 -0.7890973   1.2809782  26.975306  ]\n",
      "obs: [ 5.2212768 -0.0334512 -1.1832241  1.2939981 26.818851 ]\n",
      "obs: [ 5.285173   -0.18997495 -1.5672616   1.3881708  26.746927  ]\n",
      "obs: [ 5.285621   -0.31672406 -1.9666903   1.498032   26.740572  ]\n",
      "obs: [ 5.2277546  -0.45517346 -2.361025    1.6473898  26.792625  ]\n",
      "obs: [ 5.1556873 -0.5265477 -2.7606337  1.7444804 26.861958 ]\n",
      "obs: [ 5.0336065  -0.57544416 -3.1527362   1.8482264  26.982239  ]\n",
      "obs: [ 4.951424   -0.57452834 -3.5492086   1.8917322  27.064404  ]\n",
      "obs: [ 4.863331   -0.53648955 -3.9443765   1.9112345  27.153769  ]\n",
      "obs: [ 4.7516537  -0.42086014 -4.3361063   1.891352   27.269707  ]\n",
      "obs: [ 4.688801  -0.2617831 -4.711142   1.8197088 27.339254 ]\n",
      "obs: [ 4.6884694e+00  4.0070564e-03 -5.0591545e+00  1.6468499e+00\n",
      "  2.7352911e+01]\n",
      "obs: [ 4.889901   0.5614226 -5.408861   1.1935954 27.18836  ]\n",
      "obs: [ 5.380045   1.1475259 -5.6548834  0.6372661 26.751287 ]\n",
      "obs: [ 5.7534585   1.4188174  -6.035064    0.48599446 26.40834   ]\n",
      "obs: [ 6.50598    1.6094623 -6.2424636  0.7921238 25.682947 ]\n",
      "obs: [ 7.2590623  1.6401459 -6.5474925  0.7540753 24.939417 ]\n",
      "obs: [ 7.9309883   1.4582967  -6.5811687   0.08063379 24.250132  ]\n",
      "obs: [ 8.693891    1.223988   -6.568013    0.74677104 23.464758  ]\n",
      "obs: [ 9.411191   1.0139706 -6.7036324  0.5889746 22.728271 ]\n",
      "obs: [10.118307    0.6978126  -6.536093    0.32452095 21.99179   ]\n",
      "obs: [10.800267   0.5215656 -6.7376823  1.3082008 21.2959   ]\n",
      "obs: [11.217129    0.31788132 -6.40447     0.84494704 20.862225  ]\n",
      "obs: [11.92862     0.23116264 -6.7197423   0.24193238 20.145899  ]\n",
      "obs: [12.650103   -0.10546761 -6.798748    0.6586023  19.400084  ]\n",
      "obs: [13.294319   -0.47053552 -6.6249933   0.88222325 18.733988  ]\n",
      "obs: [13.985018   -0.71626693 -6.3976116   0.28412834 18.032022  ]\n",
      "obs: [14.616754   -0.78887135 -6.5336123   0.6518898  17.397785  ]\n",
      "obs: [15.309409   -0.96605015 -6.6262975   0.87293684 16.69913   ]\n",
      "obs: [16.030905   -1.2237991  -6.2927327   0.27792445 15.971484  ]\n",
      "obs: [16.754154  -1.2307044 -5.968332   1.2670265 15.248224 ]\n",
      "obs: [17.066492  -1.1289799 -6.1180716  0.9423763 14.938116 ]\n",
      "obs: [17.50537    -1.0558493  -5.996646    0.49777335 14.501433  ]\n",
      "obs: [18.22069    -0.8450819  -5.741027    0.26963595 13.794866  ]\n",
      "obs: [18.810541   -0.48977497 -5.4330482   1.2863489  13.228091  ]\n",
      "obs: [18.94422    -0.33756155 -5.7748375   1.1084313  13.107428  ]\n",
      "obs: [19.403898   -0.08143244 -6.1395326   0.60163826 12.67573   ]\n",
      "obs: [20.12145     0.02236067 -6.271914    0.1234915  11.975706  ]\n",
      "obs: [20.88915     0.03101386 -5.9239645   1.4740832  11.215837  ]\n",
      "obs: [21.093828    0.10787351 -5.532499    1.2716271  11.024056  ]\n",
      "obs: [21.30532     0.30516967 -5.317566    0.98253167 10.845958  ]\n",
      "obs: [21.655685    0.811651   -5.330671    0.39246318 10.599461  ]\n",
      "obs: [22.072025    1.3969562  -5.722666    0.40343735 10.342005  ]\n",
      "obs: [22.454226   1.6368533 -6.1078076  1.5518212 10.047968 ]\n",
      "obs: [22.540253   1.6520972 -6.354127   1.46765    9.971086 ]\n",
      "obs: [22.639204   1.6450657 -6.6049953  1.3685073  9.875017 ]\n",
      "obs: [22.715631   1.6195843 -6.5928597  1.2899231  9.794453 ]\n",
      "obs: [22.799368   1.5927916 -6.3894053  1.204213   9.706544 ]\n",
      "obs: [22.906288   1.5813916 -6.1463203  1.0967363  9.601592 ]\n",
      "obs: [22.991093   1.5930715 -6.464189   1.0131905  9.525098 ]\n",
      "obs: [23.067152   1.5791521 -6.2267942  0.9361993  9.4486475]\n",
      "obs: [23.182192   1.5856462 -6.07222    0.8222814  9.342107 ]\n",
      "obs: [23.289305   1.6085849 -6.308004   0.7189417  9.248756 ]\n",
      "obs: [23.361784   1.6067857 -6.0391026  0.6470875  9.179917 ]\n",
      "obs: [23.443357    1.6271012  -5.8881564   0.57096946  9.110154  ]\n",
      "obs: [23.556618    1.674325   -6.2299523   0.47642058  9.020368  ]\n",
      "obs: [23.712587   1.6826354 -6.167712   0.3405317  8.877521 ]\n",
      "obs: [23.816385    1.694675   -6.3402524   0.26760536  8.785072  ]\n",
      "obs: [23.933273    1.6879972  -6.0969567   0.19948778  8.673834  ]\n",
      "obs: [24.033648    1.7069088  -6.0766354   0.20962675  8.58761   ]\n",
      "obs: [24.137825   1.7287381 -6.017385   1.9996886  8.499326 ]\n",
      "obs: [24.22498    1.7524649 -6.1134233  1.9279275  8.427899 ]\n",
      "obs: [24.269894   1.7601639 -6.371674   1.8897395  8.38947  ]\n",
      "obs: [24.326511   1.7551409 -6.108148   1.8359745  8.335369 ]\n",
      "obs: [24.405355   1.7690842 -6.042414   1.7704183  8.268345 ]\n",
      "obs: [24.463566   1.7833767 -5.8113804  1.7246189  8.220609 ]\n",
      "obs: [24.501354   1.8026581 -5.5575404  1.7000586  8.193731 ]\n",
      "obs: [24.559122   1.8539038 -5.6224756  1.6748977  8.161822 ]\n",
      "obs: [24.61126    1.8944281 -5.917413   1.6518475  8.131151 ]\n",
      "obs: [24.664663   1.9148817 -6.1173515  1.6186827  8.091267 ]\n",
      "obs: [24.720257   1.9241866 -5.9863462  1.5785636  8.044856 ]\n",
      "obs: [24.740505   1.9303797 -6.240027   1.5658658  8.029183 ]\n",
      "obs: [24.796785   1.9328103 -6.443772   1.5224519  7.9793787]\n",
      "obs: [24.843285   1.9252783 -6.152255   1.4812596  7.934173 ]\n",
      "obs: [24.90771    1.933762  -6.2284536  1.4370143  7.8798037]\n",
      "obs: [24.951456   1.9361587 -5.915202   1.4056448  7.841502 ]\n",
      "obs: [25.01738    1.9615753 -6.227321   1.3748342  7.7935543]\n",
      "obs: [25.051392   1.9634773 -6.4254656  1.35209    7.763945 ]\n",
      "obs: [25.095655   1.9571364 -6.613625   1.3167945  7.7215123]\n",
      "obs: [25.177454   1.9290783 -6.293318   1.240874   7.6358175]\n",
      "obs: [25.236322   1.9284818 -6.4322114  1.2021986  7.5829954]\n",
      "obs: [25.325937   1.9150274 -6.4609056  1.1365019  7.497035 ]\n",
      "obs: [25.382366   1.9048916 -6.700365   1.0955818  7.4422007]\n",
      "obs: [25.41741    1.8893605 -6.9668007  1.06319    7.403935 ]\n",
      "obs: [25.494625    1.8264576  -6.659259    0.96872956  7.30652   ]\n",
      "obs: [25.576897   1.7939713 -6.5856614  0.8996708  7.218484 ]\n",
      "obs: [25.674557   1.7634958 -6.405558   0.8299631  7.117698 ]\n",
      "obs: [25.763554    1.7525505  -6.245385    0.78882134  7.0336585 ]\n",
      "obs: [25.83       1.7550634 -6.1312566  0.7739641  6.975982 ]\n",
      "obs: [25.927753    1.77003    -6.0729094   0.77341187  6.896759  ]\n",
      "obs: [25.981396   1.7814791 -6.2983484  0.7817005  6.8550496]\n",
      "obs: [26.05187     1.7804104  -6.6513066   0.78213227  6.7927423 ]\n",
      "obs: [26.05187    1.7804104 -6.6513066  2.6391423  6.7927423]\n"
     ]
    },
    {
     "data": {
      "text/plain": "<Figure size 640x480 with 1 Axes>",
      "image/png": "[encoded data removed]"
     },
     "metadata": {},
     "output_type": "display_data"
    },
    {
     "data": {
      "text/plain": "[4.8549682691396825,\n 4.9268111790626765,\n 13.007380077595117,\n -1.2763351498634403,\n 9.030315545685056,\n 9.476828609911358,\n 26.794368661298442,\n 2.2543949937724417,\n 11.975086206642638,\n 1.1837269978602114,\n 0.10326662255354968,\n -1.1069218191951613,\n -2.4837181330145732,\n -3.781896271826051,\n -5.169810525052691,\n -6.380070044605896,\n -7.553122637832153,\n 1.3127351939873009,\n 0.35170209494952953,\n -0.3230662630083456,\n -0.16973105010910672,\n 0.5985361269607186,\n 0.41550101008163765,\n 39.475578238969504,\n 18.32864891241992,\n 20.382902173407253,\n 52.80286394360068,\n 23.55169414532208,\n 65.01231402890774,\n 13.515144164037661,\n 25.481927717917834,\n 28.57149062449093,\n 78.89987453816758,\n 20.605679517167175,\n 34.247196697385455,\n 91.90332094434386,\n 24.840747197621116,\n 104.04277395169265,\n 24.99145184860314,\n 37.053814878999766,\n 40.265662683334575,\n 117.30770189076975,\n 28.58072318113541,\n 39.36297611550917,\n 43.5716615015576,\n 130.03644142959257,\n 30.435413535967584,\n 41.74764498489199,\n 43.905746491977624,\n 49.17617789349231,\n 142.48699343993627,\n 31.85801454371439,\n 41.89922126209365,\n 42.133894312226126,\n 42.11916817787821,\n 42.193840678477656,\n 42.53351175215046,\n 42.56725760353741,\n 42.5288367042465,\n 42.941743790573796,\n 43.21850669110296,\n 43.112161456498725,\n 43.054104988314,\n 43.22882184686803,\n 43.93786966627727,\n 43.87873259087516,\n 43.79488305594196,\n 155.11858528134763,\n 29.254747573707153,\n 39.22302077779507,\n 38.738921739553156,\n 38.46525372403474,\n 38.35246213026869,\n 37.97365928663089,\n 37.30869989355011,\n 36.65849390032557,\n 35.981103798564114,\n 35.43890768453565,\n 34.98995326391079,\n 34.16583618683306,\n 33.761509834622856,\n 33.32362458863723,\n 32.936122915190374,\n 32.37000958398825,\n 31.81165836062359,\n 31.12900264230089,\n 30.616197756661208,\n 30.65578485691873,\n 30.199123231829088,\n 30.11642462371345,\n 29.689718129125303,\n 29.135818600939523,\n 29.415465026181554,\n 29.376224640222084,\n 29.363895229583985,\n 28.983656055381775,\n 28.248456994831013,\n 27.373918961622437,\n 16.33701950921455,\n 167.8108868361713,\n 11.8108868361713]"
     },
     "execution_count": 14,
     "metadata": {},
     "output_type": "execute_result"
    }
   ],
   "source": [
    "run_env(test, sac)"
   ]
  },
  {
   "cell_type": "code",
   "execution_count": null,
   "id": "5425df569e93f022",
   "metadata": {
    "collapsed": false
   },
   "outputs": [],
   "source": [
    "test.action_space"
   ]
  },
  {
   "cell_type": "code",
   "execution_count": null,
   "id": "8b4248852039b671",
   "metadata": {
    "collapsed": false
   },
   "outputs": [],
   "source": [
    "test.observation_space"
   ]
  },
  {
   "cell_type": "code",
   "execution_count": null,
   "id": "48a453e3885c7af1",
   "metadata": {
    "collapsed": false
   },
   "outputs": [],
   "source": [
    "sum(rewards)"
   ]
  }
 ],
 "metadata": {
  "kernelspec": {
   "display_name": "Python 3 (ipykernel)",
   "language": "python",
   "name": "python3"
  },
  "language_info": {
   "codemirror_mode": {
    "name": "ipython",
    "version": 3
   },
   "file_extension": ".py",
   "mimetype": "text/x-python",
   "name": "python",
   "nbconvert_exporter": "python",
   "pygments_lexer": "ipython3",
   "version": "3.11.7"
  }
 },
 "nbformat": 4,
 "nbformat_minor": 5
}
