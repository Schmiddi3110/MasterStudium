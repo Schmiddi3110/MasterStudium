{
 "cells": [
  {
   "cell_type": "code",
   "execution_count": 1,
   "id": "initial_id",
   "metadata": {
    "collapsed": true,
    "jupyter": {
     "outputs_hidden": true
    },
    "ExecuteTime": {
     "end_time": "2024-01-10T07:57:23.845875200Z",
     "start_time": "2024-01-10T07:57:18.100944900Z"
    }
   },
   "outputs": [
    {
     "name": "stdout",
     "output_type": "stream",
     "text": [
      "pygame 2.5.2 (SDL 2.28.3, Python 3.11.3)\n",
      "Hello from the pygame community. https://www.pygame.org/contribute.html\n"
     ]
    }
   ],
   "source": [
    "%load_ext autoreload\n",
    "import race\n",
    "import math\n",
    "import random\n",
    "\n",
    "import gym\n",
    "import numpy as np\n",
    "\n",
    "import torch\n",
    "import torch.nn as nn\n",
    "import torch.optim as optim\n",
    "import torch.nn.functional as F\n",
    "from torch.distributions import Normal\n",
    "\n",
    "from IPython.display import clear_output\n",
    "import matplotlib.pyplot as plt\n",
    "import optuna\n",
    "%matplotlib inline\n",
    "%reload_ext autoreload"
   ]
  },
  {
   "cell_type": "code",
   "execution_count": 2,
   "id": "edaaebe4",
   "metadata": {
    "ExecuteTime": {
     "end_time": "2024-01-10T07:57:33.381559100Z",
     "start_time": "2024-01-10T07:57:23.847877200Z"
    }
   },
   "outputs": [
    {
     "name": "stdout",
     "output_type": "stream",
     "text": [
      "WARNING:tensorflow:From C:\\Studium\\MasterStudium\\DRL\\Studienarbeiten\\Studienarbeit2\\DRL_Studienarbeit2_env\\Lib\\site-packages\\keras\\src\\losses.py:2976: The name tf.losses.sparse_softmax_cross_entropy is deprecated. Please use tf.compat.v1.losses.sparse_softmax_cross_entropy instead.\n"
     ]
    },
    {
     "name": "stderr",
     "output_type": "stream",
     "text": [
      "C:\\Studium\\MasterStudium\\DRL\\Studienarbeiten\\Studienarbeit2\\DRL_Studienarbeit2_env\\Lib\\site-packages\\stable_baselines3\\common\\env_checker.py:441: UserWarning: We recommend you to use a symmetric and normalized Box action space (range=[-1, 1]) cf. https://stable-baselines3.readthedocs.io/en/master/guide/rl_tips.html\n",
      "  warnings.warn(\n",
      "C:\\Studium\\MasterStudium\\DRL\\Studienarbeiten\\Studienarbeit2\\DRL_Studienarbeit2_env\\Lib\\site-packages\\stable_baselines3\\common\\env_checker.py:452: UserWarning: Your action space has dtype float64, we recommend using np.float32 to avoid cast errors.\n",
      "  warnings.warn(\n"
     ]
    }
   ],
   "source": [
    "from stable_baselines3.common.env_checker import check_env\n",
    "import CurvyRaceEnv\n",
    "test = CurvyRaceEnv.CurvyRaceEnv()\n",
    "check_env(test)"
   ]
  },
  {
   "cell_type": "code",
   "execution_count": 3,
   "id": "fa86b0e045ad909a",
   "metadata": {
    "collapsed": false,
    "ExecuteTime": {
     "end_time": "2024-01-10T07:57:33.397572700Z",
     "start_time": "2024-01-10T07:57:33.379557600Z"
    }
   },
   "outputs": [],
   "source": [
    "from gymnasium.envs.registration import register\n",
    "\n",
    "register(\n",
    "     id=\"CurvyRaceEnv-v0\",\n",
    "     entry_point=\"CurvyRaceEnv:CurvyRaceEnv\",\n",
    "     max_episode_steps=100,\n",
    ")"
   ]
  },
  {
   "cell_type": "code",
   "execution_count": 4,
   "id": "32b1fe498c931556",
   "metadata": {
    "collapsed": false,
    "ExecuteTime": {
     "end_time": "2024-01-10T07:57:33.442113Z",
     "start_time": "2024-01-10T07:57:33.392068100Z"
    }
   },
   "outputs": [],
   "source": [
    "from typing import Any\n",
    "from typing import Dict\n",
    "\n",
    "import gymnasium\n",
    "import optuna\n",
    "from optuna.pruners import MedianPruner\n",
    "from optuna.samplers import TPESampler\n",
    "from stable_baselines3 import A2C\n",
    "from stable_baselines3.common.callbacks import EvalCallback\n",
    "from stable_baselines3.common.monitor import Monitor\n",
    "from stable_baselines3.common.callbacks import StopTrainingOnNoModelImprovement\n",
    "from stable_baselines3.common.callbacks import EvalCallback, BaseCallback\n",
    "\n",
    "import torch\n",
    "import torch.nn as nn\n",
    "import time\n",
    "N_TRIALS = 10000\n",
    "N_STARTUP_TRIALS = 5\n",
    "N_EVALUATIONS = 2\n",
    "N_TIMESTEPS = 20000\n",
    "EVAL_FREQ = int(N_TIMESTEPS / N_EVALUATIONS)\n",
    "N_EVAL_EPISODES = 3\n",
    "\n",
    "ENV_ID = \"CurvyRaceEnv-v0\"\n",
    "\n",
    "DEFAULT_HYPERPARAMS = {\n",
    "    \"policy\": \"MlpPolicy\",\n",
    "    \"env\": ENV_ID,\n",
    "}"
   ]
  },
  {
   "cell_type": "code",
   "execution_count": 5,
   "outputs": [],
   "source": [
    "def evaluate_model(model, env, num_episodes=100):  \n",
    "    \n",
    "    total_reward = 0.0\n",
    "    for _ in range(num_episodes):\n",
    "        obs, info = env.reset()\n",
    "        done = False\n",
    "        while not done:\n",
    "            action, _ = model.predict(obs)\n",
    "            obs, reward, done,info, _ = env.step(action)\n",
    "            total_reward += reward\n",
    "    mean_reward = total_reward / num_episodes\n",
    "    return mean_reward"
   ],
   "metadata": {
    "collapsed": false,
    "ExecuteTime": {
     "end_time": "2024-01-10T07:57:33.443112200Z",
     "start_time": "2024-01-10T07:57:33.416589400Z"
    }
   },
   "id": "a6f149d374e7d57f"
  },
  {
   "cell_type": "code",
   "execution_count": 6,
   "id": "eb81230539142dfb",
   "metadata": {
    "collapsed": false,
    "ExecuteTime": {
     "end_time": "2024-01-10T07:57:33.443112200Z",
     "start_time": "2024-01-10T07:57:33.427098400Z"
    }
   },
   "outputs": [],
   "source": [
    "from stable_baselines3 import A2C, PPO, TD3, DDPG\n",
    "from stable_baselines3.common.noise import NormalActionNoise, OrnsteinUhlenbeckActionNoise\n",
    "\n",
    "def objective(trial: optuna.Trial) -> float:   \n",
    "    hyperparams = {\n",
    "        \"neg_reward_small\": trial.suggest_int(\"neg_reward_small\", -10, -1),\n",
    "        \"neg_reward_big\": trial.suggest_int(\"neg_reward_big\", -50, -10),\n",
    "        \"pos_reward_factor\": trial.suggest_int(\"pos_reward_factor\", 1, 20),\n",
    "        'learning_rate': trial.suggest_float('learning_rate', 1e-5, 1e-1, log=True),\n",
    "        'buffer_size': trial.suggest_int('buffer_size', 1000, 100000),\n",
    "        'gamma': trial.suggest_float('gamma', 0.9, 0.999),\n",
    "        'tau': trial.suggest_float('tau', 1e-3, 1e-1, log=True)   \n",
    "    }\n",
    "    # Define the environment\n",
    "    env = gymnasium.make('CurvyRaceEnv-v0', pos_reward_factor=hyperparams[\"pos_reward_factor\"],neg_reward_small=hyperparams[\"neg_reward_small\"],neg_reward_big=hyperparams[\"neg_reward_big\"])  \n",
    "    \n",
    "\n",
    "\n",
    "    \n",
    "    \n",
    "    \n",
    "\n",
    "    # Create and train the DDPG model\n",
    "    model = DDPG('MlpPolicy', env, learning_rate=hyperparams['learning_rate'], buffer_size=hyperparams['buffer_size'],\n",
    "                 gamma=hyperparams['gamma'], tau=hyperparams['tau'],\n",
    "                 action_noise=NormalActionNoise(mean=np.zeros(env.action_space.shape), sigma=0.1 * np.ones(env.action_space.shape)))\n",
    "    \n",
    "    # Train the model\n",
    "    model.learn(total_timesteps=10000)  # Adjust the total_timesteps as needed\n",
    "\n",
    "    # Evaluate the model\n",
    "    mean_reward = evaluate_model(model, env)\n",
    "\n",
    "    return mean_reward"
   ]
  },
  {
   "cell_type": "code",
   "execution_count": 7,
   "id": "c97768c52d3d9ed4",
   "metadata": {
    "collapsed": false,
    "ExecuteTime": {
     "end_time": "2024-01-10T07:57:33.457123700Z",
     "start_time": "2024-01-10T07:57:33.442613500Z"
    }
   },
   "outputs": [],
   "source": [
    "#study = optuna.create_study(study_name=\"DDPG\", storage=\"sqlite:///DRL2.db\", load_if_exists=True, direction=\"maximize\")\n",
    "#study.optimize(objective, n_trials=N_TRIALS, show_progress_bar=True)"
   ]
  },
  {
   "cell_type": "code",
   "execution_count": 8,
   "id": "7dac46d481acd2a3",
   "metadata": {
    "collapsed": false,
    "ExecuteTime": {
     "end_time": "2024-01-10T07:57:58.236665700Z",
     "start_time": "2024-01-10T07:57:33.455622700Z"
    }
   },
   "outputs": [
    {
     "name": "stderr",
     "output_type": "stream",
     "text": [
      "C:\\Studium\\MasterStudium\\DRL\\Studienarbeiten\\Studienarbeit2\\DRL_Studienarbeit2_env\\Lib\\site-packages\\gymnasium\\utils\\passive_env_checker.py:181: DeprecationWarning: \u001B[33mWARN: Current gymnasium version requires that `Env.reset` can be passed `options` to allow the environment initialisation to be passed additional information.\u001B[0m\n",
      "  logger.deprecation(\n"
     ]
    }
   ],
   "source": [
    "from stable_baselines3.common.env_util import make_vec_env\n",
    "from stable_baselines3 import DDPG, TD3, SAC\n",
    "from stable_baselines3.common.noise import NormalActionNoise, OrnsteinUhlenbeckActionNoise\n",
    "\n",
    "\n",
    "env = gymnasium.make(\"CurvyRaceEnv-v0\")\n",
    "env = Monitor(env, \"logs/ddpg\")\n",
    "model_ddpg = DDPG(\"MlpPolicy\", env,  learning_rate=0.004859847958257243,tau=0.06431401009446525,  gamma = 0.9703705891833702, buffer_size=82149)\n",
    "model_ddpg.learn(total_timesteps=2000)\n",
    "model_ddpg.save(\"models/model_ddpg\")\n",
    "_, _ = env.reset()\n",
    "del model_ddpg\n",
    "\n",
    "#env = Monitor(env, \"logs/td3\")\n",
    "#model_td3 = TD3(\"MlpPolicy\", env,  learning_rate=2e-3,policy_kwargs=dict(net_arch=[400,300]), learning_starts=5000,gradient_steps=-1, gamma = 0.9, buffer_size=200000)\n",
    "#model_td3.learn(total_timesteps=25000)\n",
    "#model_td3.save(\"models/model_td3\")\n",
    "#_, _ = env.reset()\n",
    "#del model_td3\n",
    "\n",
    "#env = Monitor(env, \"logs/sac\")\n",
    "#model_sac = SAC(\"MlpPolicy\", env, verbose=1, batch_size=64, learning_rate=2e-3, gamma=0.9, tau=0.05)\n",
    "#model_sac.learn(total_timesteps=25000)\n",
    "#model_sac.save(\"models/model_sac\")\n",
    "#_, _ = env.reset()\n",
    "#del model_sac"
   ]
  },
  {
   "cell_type": "code",
   "execution_count": 9,
   "outputs": [],
   "source": [
    "env.close()"
   ],
   "metadata": {
    "collapsed": false,
    "ExecuteTime": {
     "end_time": "2024-01-10T07:57:58.250904Z",
     "start_time": "2024-01-10T07:57:58.233387700Z"
    }
   },
   "id": "ae662d1d8ac89e70"
  },
  {
   "cell_type": "code",
   "execution_count": 10,
   "id": "3ff82e7b",
   "metadata": {
    "ExecuteTime": {
     "end_time": "2024-01-10T07:57:58.265915400Z",
     "start_time": "2024-01-10T07:57:58.243396500Z"
    }
   },
   "outputs": [],
   "source": [
    "def run_env(env, model):\n",
    "    obs, info = env.reset()\n",
    "    done = False\n",
    "    reward_list = []\n",
    "    observation_list = []\n",
    "    while not done:\n",
    "        action, _states = model.predict(obs)\n",
    "        print(action)\n",
    "        obs, rewards, done, info, _ = env.step(action)\n",
    "        observation_list.append(obs)\n",
    "        reward_list.append(rewards)\n",
    "    env.render()\n",
    "    return reward_list"
   ]
  },
  {
   "cell_type": "code",
   "execution_count": 11,
   "id": "e8ac2833",
   "metadata": {
    "ExecuteTime": {
     "end_time": "2024-01-10T07:57:58.266416100Z",
     "start_time": "2024-01-10T07:57:58.257408600Z"
    }
   },
   "outputs": [],
   "source": [
    "import numpy as np\n",
    "import matplotlib.pyplot as plt\n",
    "\n",
    "def plot_cumulative_rewards(rewards):\n",
    "    \"\"\"\n",
    "    Plots the cumulative rewards per episode.\n",
    "    \"\"\"\n",
    "    # Calculate the cumulative sum of the list elements\n",
    "    cumulative_rewards = {key: np.cumsum(value) for key, value in rewards.items()}\n",
    "\n",
    "    # Plot the cumulative rewards\n",
    "    for key, value in cumulative_rewards.items():\n",
    "        plt.plot(value, label=key)\n",
    "\n",
    "    plt.xlabel('Episode')\n",
    "    plt.ylabel('Cumulative Reward')\n",
    "    plt.legend()\n",
    "    plt.show()\n"
   ]
  },
  {
   "cell_type": "code",
   "execution_count": 12,
   "outputs": [],
   "source": [
    "import pandas as pd\n",
    "def load_log(path):\n",
    "    data =  pd.read_csv(path, index_col=None).index.tolist()[1:]    \n",
    "    return [float(x) for x in data]"
   ],
   "metadata": {
    "collapsed": false,
    "ExecuteTime": {
     "end_time": "2024-01-10T07:57:58.297442Z",
     "start_time": "2024-01-10T07:57:58.266916Z"
    }
   },
   "id": "d16f8fa998e2ae70"
  },
  {
   "cell_type": "code",
   "execution_count": 13,
   "id": "40f7ed5cff9b5017",
   "metadata": {
    "collapsed": false,
    "ExecuteTime": {
     "end_time": "2024-01-10T07:57:58.605208Z",
     "start_time": "2024-01-10T07:57:58.279426800Z"
    }
   },
   "outputs": [
    {
     "data": {
      "text/plain": "<Figure size 640x480 with 1 Axes>",
      "image/png": "[encoded data removed]"
     },
     "metadata": {},
     "output_type": "display_data"
    }
   ],
   "source": [
    "from stable_baselines3 import DDPG,SAC, TD3\n",
    "ddpg = DDPG.load(\"models/model_ddpg.zip\")\n",
    "#sac = SAC.load(\"models/model_sac.zip\")\n",
    "#td3 = TD3.load(\"models/model_td3.zip\")\n",
    "\n",
    "test = gymnasium.make(\"CurvyRaceEnv-v0\")\n",
    "\n",
    "rewards = {}\n",
    "rewards[\"DDPG\"] = load_log(\"logs/ddpg.monitor.csv\")\n",
    "#rewards[\"sac\"] = load_log(\"logs/sac.monitor.csv\")\n",
    "#rewards[\"td3\"] = load_log(\"logs/td3.monitor.csv\")\n",
    "\n",
    "\n",
    "\n",
    "plot_cumulative_rewards(rewards)"
   ]
  },
  {
   "cell_type": "code",
   "execution_count": 14,
   "id": "b2ffd85a423e7735",
   "metadata": {
    "collapsed": false,
    "ExecuteTime": {
     "end_time": "2024-01-10T07:57:58.940995900Z",
     "start_time": "2024-01-10T07:57:58.600703100Z"
    }
   },
   "outputs": [
    {
     "name": "stderr",
     "output_type": "stream",
     "text": [
      "C:\\Studium\\MasterStudium\\DRL\\Studienarbeiten\\Studienarbeit2\\DRL_Studienarbeit2_env\\Lib\\site-packages\\gymnasium\\utils\\passive_env_checker.py:181: DeprecationWarning: \u001B[33mWARN: Current gymnasium version requires that `Env.reset` can be passed `options` to allow the environment initialisation to be passed additional information.\u001B[0m\n",
      "  logger.deprecation(\n"
     ]
    },
    {
     "name": "stdout",
     "output_type": "stream",
     "text": [
      "[-4. -2.]\n",
      "[-4. -2.]\n",
      "[-4. -2.]\n",
      "[-4. -2.]\n",
      "[-4. -2.]\n",
      "[-4. -2.]\n",
      "[-4. -2.]\n",
      "[-4. -2.]\n",
      "[-4. -2.]\n",
      "[-4. -2.]\n",
      "[-4. -2.]\n",
      "[-4. -2.]\n",
      "[-4. -2.]\n",
      "[-4. -2.]\n",
      "[-4. -2.]\n",
      "[-4. -2.]\n",
      "[-4. -2.]\n",
      "[-4. -2.]\n",
      "[-4. -2.]\n",
      "[-4. -2.]\n",
      "[-4. -2.]\n",
      "[-4. -2.]\n",
      "[-4. -2.]\n",
      "[-4. -2.]\n",
      "[-4. -2.]\n",
      "[-4. -2.]\n",
      "[-4. -2.]\n",
      "[-4. -2.]\n",
      "[-4. -2.]\n",
      "[-4. -2.]\n",
      "[-4. -2.]\n",
      "[-4. -2.]\n",
      "[-4. -2.]\n",
      "[-4. -2.]\n",
      "[-4. -2.]\n",
      "[-4. -2.]\n",
      "[-4. -2.]\n",
      "[-4. -2.]\n",
      "[-4. -2.]\n",
      "[-4. -2.]\n",
      "[-4. -2.]\n",
      "[-4. -2.]\n",
      "[-4. -2.]\n",
      "[-4. -2.]\n",
      "[-4. -2.]\n",
      "[-4. -2.]\n",
      "[-4. -2.]\n",
      "[-4. -2.]\n",
      "[-4. -2.]\n",
      "[-4. -2.]\n",
      "[-4. -2.]\n",
      "[-4. -2.]\n",
      "[-4. -2.]\n",
      "[-4. -2.]\n",
      "[-4. -2.]\n",
      "[-4. -2.]\n",
      "[-4. -2.]\n",
      "[-4. -2.]\n",
      "[-4. -2.]\n",
      "[-4. -2.]\n",
      "[-4. -2.]\n",
      "[-4. -2.]\n",
      "[-4. -2.]\n",
      "[-4. -2.]\n",
      "[-4. -2.]\n",
      "[-4. -2.]\n",
      "[-4. -2.]\n",
      "[-4. -2.]\n",
      "[-4. -2.]\n",
      "[-4. -2.]\n",
      "[-4. -2.]\n",
      "[-4. -2.]\n",
      "[-4. -2.]\n",
      "[-4. -2.]\n",
      "[-4. -2.]\n",
      "[-4. -2.]\n",
      "[-4. -2.]\n",
      "[-4. -2.]\n",
      "[-4. -2.]\n",
      "[-4. -2.]\n",
      "[-4. -2.]\n",
      "[-4. -2.]\n",
      "[-4. -2.]\n",
      "[-4. -2.]\n",
      "[-4. -2.]\n",
      "[-4. -2.]\n",
      "[-4. -2.]\n",
      "[-4. -2.]\n",
      "[-4. -2.]\n",
      "[-4. -2.]\n",
      "[-4. -2.]\n",
      "[-4. -2.]\n",
      "[-4. -2.]\n",
      "[-4. -2.]\n",
      "[-4. -2.]\n",
      "[-4. -2.]\n",
      "[-4. -2.]\n",
      "[-4. -2.]\n",
      "[-4. -2.]\n",
      "[-4. -2.]\n",
      "[-4. -2.]\n"
     ]
    },
    {
     "data": {
      "text/plain": "<Figure size 640x480 with 1 Axes>",
      "image/png": "[encoded data removed]"
     },
     "metadata": {},
     "output_type": "display_data"
    },
    {
     "data": {
      "text/plain": "[-2.9633773027803185,\n -2.9633773027803185,\n -2.9633773027803185,\n -2.9633773027803185,\n -2.9633773027803185,\n -2.9633773027803185,\n -2.9633773027803185,\n -2.9633773027803185,\n -2.9633773027803185,\n -2.9633773027803185,\n -2.9633773027803185,\n -2.9633773027803185,\n -2.9633773027803185,\n -2.9633773027803185,\n -2.9633773027803185,\n -2.9633773027803185,\n -2.9633773027803185,\n -2.9633773027803185,\n -2.9633773027803185,\n -2.9633773027803185,\n -2.9633773027803185,\n -2.9633773027803185,\n -2.9633773027803185,\n -2.9633773027803185,\n -2.9633773027803185,\n -2.9633773027803185,\n -2.9633773027803185,\n -2.9633773027803185,\n -2.9633773027803185,\n -2.9633773027803185,\n -2.9633773027803185,\n -2.9633773027803185,\n -2.9633773027803185,\n -2.9633773027803185,\n -2.9633773027803185,\n -2.9633773027803185,\n -2.9633773027803185,\n -2.9633773027803185,\n -2.9633773027803185,\n -2.9633773027803185,\n -2.9633773027803185,\n -2.9633773027803185,\n -2.9633773027803185,\n -2.9633773027803185,\n -2.9633773027803185,\n -2.9633773027803185,\n -2.9633773027803185,\n -2.9633773027803185,\n -2.9633773027803185,\n -2.9633773027803185,\n -2.9633773027803185,\n -2.9633773027803185,\n -2.9633773027803185,\n -2.9633773027803185,\n -2.9633773027803185,\n -2.9633773027803185,\n -2.9633773027803185,\n -2.9633773027803185,\n -2.9633773027803185,\n -2.9633773027803185,\n -2.9633773027803185,\n -2.9633773027803185,\n -2.9633773027803185,\n -2.9633773027803185,\n -2.9633773027803185,\n -2.9633773027803185,\n -2.9633773027803185,\n -2.9633773027803185,\n -2.9633773027803185,\n -2.9633773027803185,\n -2.9633773027803185,\n -2.9633773027803185,\n -2.9633773027803185,\n -2.9633773027803185,\n -2.9633773027803185,\n -2.9633773027803185,\n -2.9633773027803185,\n -2.9633773027803185,\n -2.9633773027803185,\n -2.9633773027803185,\n -2.9633773027803185,\n -2.9633773027803185,\n -2.9633773027803185,\n -2.9633773027803185,\n -2.9633773027803185,\n -2.9633773027803185,\n -2.9633773027803185,\n -2.9633773027803185,\n -2.9633773027803185,\n -2.9633773027803185,\n -2.9633773027803185,\n -2.9633773027803185,\n -2.9633773027803185,\n -2.9633773027803185,\n -2.9633773027803185,\n -2.9633773027803185,\n -2.9633773027803185,\n -2.9633773027803185,\n -2.9633773027803185,\n -2.9633773027803185,\n -2.9633773027803185]"
     },
     "execution_count": 14,
     "metadata": {},
     "output_type": "execute_result"
    }
   ],
   "source": [
    "run_env(test, ddpg)"
   ]
  },
  {
   "cell_type": "code",
   "execution_count": 15,
   "outputs": [
    {
     "data": {
      "text/plain": "Box([-4. -2.], [4. 2.], (2,), float64)"
     },
     "execution_count": 15,
     "metadata": {},
     "output_type": "execute_result"
    }
   ],
   "source": [
    "test.action_space"
   ],
   "metadata": {
    "collapsed": false,
    "ExecuteTime": {
     "end_time": "2024-01-10T07:57:59.027581300Z",
     "start_time": "2024-01-10T07:57:58.918976900Z"
    }
   },
   "id": "5425df569e93f022"
  },
  {
   "cell_type": "code",
   "execution_count": 15,
   "outputs": [],
   "source": [],
   "metadata": {
    "collapsed": false,
    "ExecuteTime": {
     "end_time": "2024-01-10T07:57:59.027581300Z",
     "start_time": "2024-01-10T07:57:58.928484200Z"
    }
   },
   "id": "8b4248852039b671"
  }
 ],
 "metadata": {
  "kernelspec": {
   "display_name": "Python 3 (ipykernel)",
   "language": "python",
   "name": "python3"
  },
  "language_info": {
   "codemirror_mode": {
    "name": "ipython",
    "version": 3
   },
   "file_extension": ".py",
   "mimetype": "text/x-python",
   "name": "python",
   "nbconvert_exporter": "python",
   "pygments_lexer": "ipython3",
   "version": "3.11.3"
  }
 },
 "nbformat": 4,
 "nbformat_minor": 5
}
