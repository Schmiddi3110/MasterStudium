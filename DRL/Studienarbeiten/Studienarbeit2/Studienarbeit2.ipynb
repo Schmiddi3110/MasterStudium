{
 "cells": [
  {
   "cell_type": "markdown",
   "id": "0becfdc3",
   "metadata": {},
   "source": [
    "# 2. Studienarbeit in Reinforcement Learning"
   ]
  },
  {
   "cell_type": "markdown",
   "id": "3027091b",
   "metadata": {},
   "source": [
    "<a id=\"0\"></a>\n",
    " # Gliederung\n",
    "0. [Imports](#1)     \n",
    "2. [Validate & Register Environment](#2) \n",
    "3. [Hyperparameter optimization using Optuna](#3) \n",
    "    - [Run optimization](#3a)\n",
    "4. [Model training](#4)\n",
    "    - [Interpretation eines Modells](#4a)\n",
    "    - [Modell über den Verlauf einer Saison](#4b)\n",
    "5. [Modellanwendung](#5)\n",
    "6. [\"Beat the bookmaker\"](#6)\n",
    "    - [Vergleich des Modells mit Wettquoten](#6a)\n",
    "    - [Wett-Stategien auf Basis des Modells](#6b)\n",
    "7. [Clustering der Spieler](#7)\n",
    "    - [KMeans-Clustering](#7a)\n",
    "    - [Ex-Post_Analyse der Cluster](#7b)"
   ]
  },
  {
   "cell_type": "markdown",
   "id": "6598ec7e",
   "metadata": {},
   "source": [
    "## Imports<a class=\"anchor\" id=\"1\"></a>\n"
   ]
  },
  {
   "cell_type": "code",
   "execution_count": 1,
   "id": "initial_id",
   "metadata": {
    "ExecuteTime": {
     "end_time": "2024-01-16T20:18:50.445165300Z",
     "start_time": "2024-01-16T20:18:34.606062300Z"
    },
    "collapsed": true,
    "jupyter": {
     "outputs_hidden": true
    }
   },
   "outputs": [
    {
     "name": "stderr",
     "output_type": "stream",
     "text": [
      "c:\\Users\\schmidtfa\\MasterStudium\\PythonEnvironment\\Lib\\site-packages\\tqdm\\auto.py:21: TqdmWarning: IProgress not found. Please update jupyter and ipywidgets. See https://ipywidgets.readthedocs.io/en/stable/user_install.html\n",
      "  from .autonotebook import tqdm as notebook_tqdm\n"
     ]
    },
    {
     "name": "stdout",
     "output_type": "stream",
     "text": [
      "WARNING:tensorflow:From c:\\Users\\schmidtfa\\MasterStudium\\PythonEnvironment\\Lib\\site-packages\\keras\\src\\losses.py:2976: The name tf.losses.sparse_softmax_cross_entropy is deprecated. Please use tf.compat.v1.losses.sparse_softmax_cross_entropy instead.\n",
      "\n"
     ]
    }
   ],
   "source": [
    "%load_ext autoreload\n",
    "import numpy as np\n",
    "import matplotlib.pyplot as plt\n",
    "import optuna\n",
    "import CurvyRaceEnv\n",
    "from stable_baselines3.common.env_checker import check_env\n",
    "from stable_baselines3.common.monitor import Monitor\n",
    "from stable_baselines3.common.callbacks import EvalCallback, StopTrainingOnNoModelImprovement\n",
    "from stable_baselines3.common.noise import NormalActionNoise, OrnsteinUhlenbeckActionNoise\n",
    "from stable_baselines3 import DDPG,SAC, TD3, A2C, PPO\n",
    "\n",
    "import gymnasium\n",
    "from gymnasium.envs.registration import register\n",
    "\n",
    "import pandas as pd\n",
    "import optuna\n",
    "\n",
    "import torch\n",
    "import torch.nn as nn\n",
    "import time\n",
    "\n",
    "%matplotlib inline\n",
    "%reload_ext autoreload"
   ]
  },
  {
   "cell_type": "markdown",
   "id": "670640d0",
   "metadata": {},
   "source": [
    "## Validate & Register Environment<a class=\"anchor\" id=\"2\"></a>\n"
   ]
  },
  {
   "cell_type": "code",
   "execution_count": 2,
   "id": "edaaebe4",
   "metadata": {
    "ExecuteTime": {
     "end_time": "2024-01-16T20:19:06.966818500Z",
     "start_time": "2024-01-16T20:18:50.627284100Z"
    }
   },
   "outputs": [
    {
     "name": "stderr",
     "output_type": "stream",
     "text": [
      "c:\\Users\\schmidtfa\\MasterStudium\\PythonEnvironment\\Lib\\site-packages\\stable_baselines3\\common\\env_checker.py:441: UserWarning: We recommend you to use a symmetric and normalized Box action space (range=[-1, 1]) cf. https://stable-baselines3.readthedocs.io/en/master/guide/rl_tips.html\n",
      "  warnings.warn(\n"
     ]
    }
   ],
   "source": [
    "test = CurvyRaceEnv.CurvyRaceEnv()\n",
    "check_env(test)\n",
    "ENV_ID = \"CurvyRaceEnv-v0\"\n",
    "register(\n",
    "     id=ENV_ID,\n",
    "     entry_point=\"CurvyRaceEnv:CurvyRaceEnv\",\n",
    "     max_episode_steps=100,\n",
    ")"
   ]
  },
  {
   "cell_type": "markdown",
   "id": "459ed15c",
   "metadata": {},
   "source": [
    "## Hyperparameter optimization using Optuna <a class=\"anchor\" id=\"3\"></a>"
   ]
  },
  {
   "cell_type": "code",
   "execution_count": 3,
   "id": "a6f149d374e7d57f",
   "metadata": {
    "ExecuteTime": {
     "end_time": "2024-01-16T18:00:15.329660700Z",
     "start_time": "2024-01-16T18:00:15.300635800Z"
    },
    "collapsed": false
   },
   "outputs": [],
   "source": [
    "def evaluate_model(model, env, num_episodes=100):  \n",
    "    \"\"\"\n",
    "    Evaluates the performance of a reinforcement learning model over a specified number of episodes.\n",
    "\n",
    "    Parameters:\n",
    "    - model: The reinforcement learning model to be evaluated.\n",
    "    - env: The environment in which the model is evaluated.\n",
    "    - num_episodes (int): The number of episodes to run for evaluation. Defaults to 100.\n",
    "\n",
    "    Returns:\n",
    "    float: The mean reward achieved by the model over the specified number of episodes.\n",
    "\n",
    "    Example:\n",
    "    >>> trained_model = ...  # Initialize or load your trained model\n",
    "    >>> environment = ...  # Initialize your environment\n",
    "    >>> mean_reward = evaluate_model(trained_model, environment, num_episodes=50)\n",
    "    >>> print(mean_reward)\n",
    "    \"\"\"    \n",
    "    total_reward = 0.0\n",
    "    for _ in range(num_episodes):\n",
    "        obs, info = env.reset()\n",
    "        done = False\n",
    "        while not done:\n",
    "            action, _ = model.predict(obs)\n",
    "            obs, reward, done,info, _ = env.step(action)\n",
    "            total_reward += reward\n",
    "    mean_reward = total_reward / num_episodes\n",
    "    return mean_reward"
   ]
  },
  {
   "cell_type": "code",
   "execution_count": 19,
   "id": "eb81230539142dfb",
   "metadata": {
    "ExecuteTime": {
     "end_time": "2024-01-16T18:03:35.344819Z",
     "start_time": "2024-01-16T18:03:35.295277100Z"
    },
    "collapsed": false
   },
   "outputs": [],
   "source": [
    "def objective(trial: optuna.Trial, model, timesteps) -> float:   \n",
    "    \"\"\"\n",
    "    This function defines the objective for the Optuna hyperparameter optimization.\n",
    "    It creates an environment, initializes a reinforcement learning model based on the specified type,\n",
    "    trains the model, and evaluates its performance based on a given number of timesteps.\n",
    "\n",
    "    Parameters:\n",
    "    - trial (optuna.Trial): An Optuna Trial object providing hyperparameter suggestions.\n",
    "    - model (str): The type of reinforcement learning model to use. Supported options: \"DDPG\", \"TD3\", \"SAC\", \"A2C\", \"PPO\".\n",
    "    - timesteps (int): The total number of training timesteps for the reinforcement learning model.\n",
    "\n",
    "    Returns:\n",
    "    float: The mean reward achieved by the trained model.\n",
    "\n",
    "    Raises:\n",
    "    ValueError: If an unsupported model type is provided.\n",
    "\n",
    "    Example:\n",
    "    >>> study_model = \"SAC\"\n",
    "    >>> study = optuna.create_study(study_name=study_model, storage=\"sqlite:///DRL2.db\", load_if_exists=True, direction=\"maximize\")\n",
    "    >>> study.optimize(objective(study_model, 10000), n_trials=10000, show_progress_bar=True)\n",
    "    \"\"\"\n",
    "    # Create Environment\n",
    "    env = gymnasium.make(ENV_ID)  \n",
    "    \n",
    "    # Create a model\n",
    "    match model:\n",
    "        case \"DDPG\":\n",
    "            hyperparams = {\n",
    "            'learning_starts': trial.suggest_int('learning_starts', 50,400),\n",
    "            'learning_rate': trial.suggest_float('learning_rate', 1e-5, 1e-1, log=True),\n",
    "            'gamma': trial.suggest_float('gamma', 0.9, 0.999),\n",
    "            'tau': trial.suggest_float('tau', 1e-3, 1e-1, log=True),\n",
    "            'batch_size': trial.suggest_int('batch_size', 16,1024),        \n",
    "            }\n",
    "            model = DDPG('MlpPolicy', env, **hyperparams,\n",
    "                 action_noise=NormalActionNoise(mean=np.zeros(env.action_space.shape), sigma=0.1 * np.ones(env.action_space.shape)))\n",
    "        case \"TD3\":\n",
    "            hyperparams = {\n",
    "            'learning_starts': trial.suggest_int('learning_starts', 50,400),\n",
    "            'learning_rate': trial.suggest_float('learning_rate', 1e-5, 1e-1, log=True),\n",
    "            'gamma': trial.suggest_float('gamma', 0.9, 0.999),\n",
    "            'tau': trial.suggest_float('tau', 1e-3, 1e-1, log=True),\n",
    "            'batch_size': trial.suggest_int('batch_size', 16,1024),        \n",
    "            }\n",
    "            model = TD3('MlpPolicy', env, **hyperparams,\n",
    "                 action_noise=NormalActionNoise(mean=np.zeros(env.action_space.shape), sigma=0.1 * np.ones(env.action_space.shape)))\n",
    "\n",
    "        case \"SAC\":\n",
    "            hyperparams = {\n",
    "            'learning_starts': trial.suggest_int('learning_starts', 50,400),\n",
    "            'learning_rate': trial.suggest_float('learning_rate', 1e-5, 1e-1, log=True),\n",
    "            'gamma': trial.suggest_float('gamma', 0.9, 0.999),\n",
    "            'tau': trial.suggest_float('tau', 1e-3, 1e-1, log=True),\n",
    "            'batch_size': trial.suggest_int('batch_size', 16,1024),        \n",
    "            }\n",
    "            model = SAC('MlpPolicy', env, **hyperparams,\n",
    "                 action_noise=NormalActionNoise(mean=np.zeros(env.action_space.shape), sigma=0.1 * np.ones(env.action_space.shape)))\n",
    "\n",
    "        case \"A2C\":\n",
    "            hyperparams = {\n",
    "            'learning_starts': trial.suggest_int('learning_starts', 50,400),\n",
    "            'learning_rate': trial.suggest_float('learning_rate', 1e-5, 1e-1, log=True),\n",
    "            'gamma': trial.suggest_float('gamma', 0.9, 0.999),\n",
    "            'tau': trial.suggest_float('tau', 1e-3, 1e-1, log=True),\n",
    "            'batch_size': trial.suggest_int('batch_size', 16,1024),        \n",
    "            }\n",
    "            model = A2C('MlpPolicy', env, **hyperparams,\n",
    "                )\n",
    "\n",
    "        case \"PPO\":\n",
    "            hyperparams = {\n",
    "            'learning_starts': trial.suggest_int('learning_starts', 50,400),\n",
    "            'learning_rate': trial.suggest_float('learning_rate', 1e-5, 1e-1, log=True),\n",
    "            'gamma': trial.suggest_float('gamma', 0.9, 0.999),\n",
    "            'tau': trial.suggest_float('tau', 1e-3, 1e-1, log=True),\n",
    "            'batch_size': trial.suggest_int('batch_size', 16,1024),        \n",
    "            }\n",
    "            model = PPO('MlpPolicy', env, **hyperparams)        \n",
    "        case _:\n",
    "             \n",
    "            print(\"Unsupported model. Try DDPG, TD3, SAC, A2C or PPO instead\")\n",
    "            return\n",
    "    \n",
    "    # Train the model\n",
    "    model.learn(total_timesteps=timesteps)  # Adjust the total_timesteps as needed\n",
    "\n",
    "    # Evaluate the model\n",
    "    mean_reward = evaluate_model(model, env)\n",
    "    env.close()\n",
    "    return mean_reward"
   ]
  },
  {
   "cell_type": "markdown",
   "id": "6500eb62",
   "metadata": {},
   "source": [
    "### Run optimization <a class=\"anchor\" id=\"3a\"></a>"
   ]
  },
  {
   "cell_type": "code",
   "execution_count": 20,
   "id": "c97768c52d3d9ed4",
   "metadata": {
    "collapsed": false
   },
   "outputs": [
    {
     "name": "stderr",
     "output_type": "stream",
     "text": [
      "[I 2024-01-26 15:23:11,696] Using an existing study with name 'A2C' instead of creating a new one.\n",
      "  0%|          | 0/10 [00:00<?, ?it/s]c:\\Users\\schmidtfa\\MasterStudium\\PythonEnvironment\\Lib\\site-packages\\gymnasium\\utils\\passive_env_checker.py:181: DeprecationWarning: \u001b[33mWARN: Current gymnasium version requires that `Env.reset` can be passed `options` to allow the environment initialisation to be passed additional information.\u001b[0m\n",
      "  logger.deprecation(\n",
      "Best trial: 5. Best value: -19.3865:  10%|█         | 1/10 [00:07<01:03,  7.01s/it]"
     ]
    },
    {
     "name": "stdout",
     "output_type": "stream",
     "text": [
      "[I 2024-01-26 15:23:18,701] Trial 5 finished with value: -19.386505303492203 and parameters: {'learning_rate': 0.0344130357593572, 'gamma': 0.9531028687852321}. Best is trial 5 with value: -19.386505303492203.\n"
     ]
    },
    {
     "name": "stderr",
     "output_type": "stream",
     "text": [
      "Best trial: 6. Best value: 71.9773:  20%|██        | 2/10 [00:14<00:56,  7.02s/it] "
     ]
    },
    {
     "name": "stdout",
     "output_type": "stream",
     "text": [
      "[I 2024-01-26 15:23:25,733] Trial 6 finished with value: 71.97730067344624 and parameters: {'learning_rate': 0.0009628534112561078, 'gamma': 0.9725866365811318}. Best is trial 6 with value: 71.97730067344624.\n"
     ]
    },
    {
     "name": "stderr",
     "output_type": "stream",
     "text": [
      "Best trial: 6. Best value: 71.9773:  30%|███       | 3/10 [00:21<00:51,  7.31s/it]"
     ]
    },
    {
     "name": "stdout",
     "output_type": "stream",
     "text": [
      "[I 2024-01-26 15:23:33,375] Trial 7 finished with value: -14.83918744439077 and parameters: {'learning_rate': 1.1090757204657881e-05, 'gamma': 0.9060810741624848}. Best is trial 6 with value: 71.97730067344624.\n"
     ]
    },
    {
     "name": "stderr",
     "output_type": "stream",
     "text": [
      "Best trial: 6. Best value: 71.9773:  40%|████      | 4/10 [00:28<00:43,  7.17s/it]"
     ]
    },
    {
     "name": "stdout",
     "output_type": "stream",
     "text": [
      "[I 2024-01-26 15:23:40,337] Trial 8 finished with value: -24.030802082444712 and parameters: {'learning_rate': 0.00043662176633010554, 'gamma': 0.9676945239936985}. Best is trial 6 with value: 71.97730067344624.\n"
     ]
    },
    {
     "name": "stderr",
     "output_type": "stream",
     "text": [
      "Best trial: 6. Best value: 71.9773:  50%|█████     | 5/10 [00:35<00:35,  7.05s/it]"
     ]
    },
    {
     "name": "stdout",
     "output_type": "stream",
     "text": [
      "[I 2024-01-26 15:23:47,158] Trial 9 finished with value: -9.865740597840254 and parameters: {'learning_rate': 0.0001474938393042847, 'gamma': 0.9361505396077017}. Best is trial 6 with value: 71.97730067344624.\n"
     ]
    },
    {
     "name": "stderr",
     "output_type": "stream",
     "text": [
      "Best trial: 6. Best value: 71.9773:  60%|██████    | 6/10 [00:42<00:28,  7.00s/it]"
     ]
    },
    {
     "name": "stdout",
     "output_type": "stream",
     "text": [
      "[I 2024-01-26 15:23:54,082] Trial 10 finished with value: 26.826588473189645 and parameters: {'learning_rate': 0.00046984945302527966, 'gamma': 0.9473229662294349}. Best is trial 6 with value: 71.97730067344624.\n"
     ]
    },
    {
     "name": "stderr",
     "output_type": "stream",
     "text": [
      "Best trial: 6. Best value: 71.9773:  70%|███████   | 7/10 [00:49<00:20,  6.96s/it]"
     ]
    },
    {
     "name": "stdout",
     "output_type": "stream",
     "text": [
      "[I 2024-01-26 15:24:00,961] Trial 11 finished with value: -49.27544985645975 and parameters: {'learning_rate': 0.024269706417991633, 'gamma': 0.9228684715295001}. Best is trial 6 with value: 71.97730067344624.\n"
     ]
    },
    {
     "name": "stderr",
     "output_type": "stream",
     "text": [
      "Best trial: 6. Best value: 71.9773:  80%|████████  | 8/10 [00:56<00:13,  6.91s/it]"
     ]
    },
    {
     "name": "stdout",
     "output_type": "stream",
     "text": [
      "[I 2024-01-26 15:24:07,749] Trial 12 finished with value: -7.271123895595495 and parameters: {'learning_rate': 5.776132355869791e-05, 'gamma': 0.9290726671786439}. Best is trial 6 with value: 71.97730067344624.\n"
     ]
    },
    {
     "name": "stderr",
     "output_type": "stream",
     "text": [
      "Best trial: 6. Best value: 71.9773:  90%|█████████ | 9/10 [01:03<00:06,  6.92s/it]"
     ]
    },
    {
     "name": "stdout",
     "output_type": "stream",
     "text": [
      "[I 2024-01-26 15:24:14,659] Trial 13 finished with value: 35.143294871150836 and parameters: {'learning_rate': 0.0004339219745686147, 'gamma': 0.9685958648670738}. Best is trial 6 with value: 71.97730067344624.\n"
     ]
    },
    {
     "name": "stderr",
     "output_type": "stream",
     "text": [
      "Best trial: 6. Best value: 71.9773: 100%|██████████| 10/10 [01:10<00:00,  7.06s/it]\n",
      "[I 2024-01-26 15:24:22,391] A new study created in RDB with name: PPO\n"
     ]
    },
    {
     "name": "stdout",
     "output_type": "stream",
     "text": [
      "[I 2024-01-26 15:24:22,272] Trial 14 finished with value: 24.951741632938873 and parameters: {'learning_rate': 0.0010729974758402568, 'gamma': 0.9526371739765297}. Best is trial 6 with value: 71.97730067344624.\n"
     ]
    },
    {
     "name": "stderr",
     "output_type": "stream",
     "text": [
      "Best trial: 0. Best value: 32.2919:  10%|█         | 1/10 [00:09<01:26,  9.65s/it]"
     ]
    },
    {
     "name": "stdout",
     "output_type": "stream",
     "text": [
      "[I 2024-01-26 15:24:32,027] Trial 0 finished with value: 32.29187446789845 and parameters: {'learning_rate': 0.05803500150266951, 'gamma': 0.9353780631262674}. Best is trial 0 with value: 32.29187446789845.\n"
     ]
    },
    {
     "name": "stderr",
     "output_type": "stream",
     "text": [
      "Best trial: 0. Best value: 32.2919:  20%|██        | 2/10 [00:19<01:16,  9.58s/it]"
     ]
    },
    {
     "name": "stdout",
     "output_type": "stream",
     "text": [
      "[I 2024-01-26 15:24:41,565] Trial 1 finished with value: 30.957776347081058 and parameters: {'learning_rate': 0.002907207628173243, 'gamma': 0.925680978058909}. Best is trial 0 with value: 32.29187446789845.\n"
     ]
    },
    {
     "name": "stderr",
     "output_type": "stream",
     "text": [
      "Best trial: 0. Best value: 32.2919:  30%|███       | 3/10 [00:28<01:06,  9.53s/it]"
     ]
    },
    {
     "name": "stdout",
     "output_type": "stream",
     "text": [
      "[I 2024-01-26 15:24:51,013] Trial 2 finished with value: -9.899266824773338 and parameters: {'learning_rate': 0.00010354095353081427, 'gamma': 0.9066595819327685}. Best is trial 0 with value: 32.29187446789845.\n"
     ]
    },
    {
     "name": "stderr",
     "output_type": "stream",
     "text": [
      "Best trial: 0. Best value: 32.2919:  40%|████      | 4/10 [00:38<00:58,  9.75s/it]"
     ]
    },
    {
     "name": "stdout",
     "output_type": "stream",
     "text": [
      "[I 2024-01-26 15:25:01,114] Trial 3 finished with value: 15.267570613803695 and parameters: {'learning_rate': 0.011423512477295053, 'gamma': 0.9579084272491408}. Best is trial 0 with value: 32.29187446789845.\n"
     ]
    },
    {
     "name": "stderr",
     "output_type": "stream",
     "text": [
      "Best trial: 0. Best value: 32.2919:  50%|█████     | 5/10 [00:47<00:47,  9.53s/it]"
     ]
    },
    {
     "name": "stdout",
     "output_type": "stream",
     "text": [
      "[I 2024-01-26 15:25:10,260] Trial 4 finished with value: 30.351239348102382 and parameters: {'learning_rate': 0.0009735978750275497, 'gamma': 0.9224900250681013}. Best is trial 0 with value: 32.29187446789845.\n"
     ]
    },
    {
     "name": "stderr",
     "output_type": "stream",
     "text": [
      "Best trial: 0. Best value: 32.2919:  60%|██████    | 6/10 [00:58<00:39,  9.82s/it]"
     ]
    },
    {
     "name": "stdout",
     "output_type": "stream",
     "text": [
      "[I 2024-01-26 15:25:20,651] Trial 5 finished with value: -4.402706476989204 and parameters: {'learning_rate': 7.432985729134075e-05, 'gamma': 0.9524144061107048}. Best is trial 0 with value: 32.29187446789845.\n"
     ]
    },
    {
     "name": "stderr",
     "output_type": "stream",
     "text": [
      "Best trial: 0. Best value: 32.2919:  70%|███████   | 7/10 [01:09<00:31, 10.41s/it]"
     ]
    },
    {
     "name": "stdout",
     "output_type": "stream",
     "text": [
      "[I 2024-01-26 15:25:32,260] Trial 6 finished with value: -61.10873691880266 and parameters: {'learning_rate': 0.09482632846159744, 'gamma': 0.9336894258297469}. Best is trial 0 with value: 32.29187446789845.\n"
     ]
    },
    {
     "name": "stderr",
     "output_type": "stream",
     "text": [
      "Best trial: 0. Best value: 32.2919:  80%|████████  | 8/10 [01:19<00:20, 10.01s/it]"
     ]
    },
    {
     "name": "stdout",
     "output_type": "stream",
     "text": [
      "[I 2024-01-26 15:25:41,410] Trial 7 finished with value: 23.58421539295242 and parameters: {'learning_rate': 0.0008117024465315339, 'gamma': 0.9631114256115249}. Best is trial 0 with value: 32.29187446789845.\n"
     ]
    },
    {
     "name": "stderr",
     "output_type": "stream",
     "text": [
      "Best trial: 8. Best value: 44.5314:  90%|█████████ | 9/10 [01:28<00:09,  9.79s/it]"
     ]
    },
    {
     "name": "stdout",
     "output_type": "stream",
     "text": [
      "[I 2024-01-26 15:25:50,707] Trial 8 finished with value: 44.531351205579774 and parameters: {'learning_rate': 0.004817183306733329, 'gamma': 0.9637162350648378}. Best is trial 8 with value: 44.531351205579774.\n"
     ]
    },
    {
     "name": "stderr",
     "output_type": "stream",
     "text": [
      "Best trial: 8. Best value: 44.5314: 100%|██████████| 10/10 [01:37<00:00,  9.75s/it]"
     ]
    },
    {
     "name": "stdout",
     "output_type": "stream",
     "text": [
      "[I 2024-01-26 15:25:59,868] Trial 9 finished with value: -4.141626513272463 and parameters: {'learning_rate': 3.6803624245023464e-05, 'gamma': 0.9929962158654418}. Best is trial 8 with value: 44.531351205579774.\n"
     ]
    },
    {
     "name": "stderr",
     "output_type": "stream",
     "text": [
      "\n"
     ]
    }
   ],
   "source": [
    "study_model = \"SAC\"\n",
    "study = optuna.create_study(study_name=study_model, storage=\"sqlite:///DRL2.db\", load_if_exists=True, direction=\"maximize\")\n",
    "study.optimize(lambda trial: objective(trial=trial, model=study_model, timesteps=400), n_trials=10, show_progress_bar=True)\n",
    "\n",
    "study_model = \"DDPG\"\n",
    "study = optuna.create_study(study_name=study_model, storage=\"sqlite:///DRL2.db\", load_if_exists=True, direction=\"maximize\")\n",
    "study.optimize(lambda trial: objective(trial=trial, model=study_model, timesteps=400), n_trials=10, show_progress_bar=True)\n",
    "\n",
    "study_model = \"TD3\"\n",
    "study = optuna.create_study(study_name=study_model, storage=\"sqlite:///DRL2.db\", load_if_exists=True, direction=\"maximize\")\n",
    "study.optimize(lambda trial: objective(trial=trial, model=study_model, timesteps=400), n_trials=10, show_progress_bar=True)\n",
    "\n",
    "study_model = \"A2C\"\n",
    "study = optuna.create_study(study_name=study_model, storage=\"sqlite:///DRL2.db\", load_if_exists=True, direction=\"maximize\")\n",
    "study.optimize(lambda trial: objective(trial=trial, model=study_model, timesteps=400), n_trials=10, show_progress_bar=True)\n",
    "\n",
    "study_model = \"PPO\"\n",
    "study = optuna.create_study(study_name=study_model, storage=\"sqlite:///DRL2.db\", load_if_exists=True, direction=\"maximize\")\n",
    "study.optimize(lambda trial: objective(trial=trial, model=study_model, timesteps=400), n_trials=10, show_progress_bar=True)"
   ]
  },
  {
   "cell_type": "markdown",
   "id": "d463c923",
   "metadata": {},
   "source": [
    "## Model training <a class=\"anchor\" id=\"4\"></a>"
   ]
  },
  {
   "cell_type": "code",
   "execution_count": 45,
   "id": "8de89c14af6b7867",
   "metadata": {
    "ExecuteTime": {
     "end_time": "2024-01-16T19:14:45.002413200Z",
     "start_time": "2024-01-16T19:14:44.970885800Z"
    },
    "collapsed": false
   },
   "outputs": [],
   "source": [
    "def learn_model(env, model, hyperparameters, timesteps, monitor_dir, model_dir):\n",
    "    \"\"\"\n",
    "    Trains a reinforcement learning model in the specified environment using the given hyperparameters and saves the trained model.\n",
    "\n",
    "    Parameters:\n",
    "    - env: The environment in which the model is trained.\n",
    "    - model (str): The type of reinforcement learning model to be trained. Supported options: \"DDPG\", \"TD3\", \"SAC\", \"A2C\", \"PPO\".\n",
    "    - hyperparameters: Dictionary containing hyperparameters for the specified model.\n",
    "    - timesteps (int): The total number of training timesteps.\n",
    "    - monitor_dir (str): The directory for monitoring the training progress.\n",
    "    - model_dir (str): The directory to save the trained model.\n",
    "\n",
    "    Returns:\n",
    "    None\n",
    "\n",
    "    Example:\n",
    "    >>> environment = ...  # Initialize your environment\n",
    "    >>> model_type = \"DDPG\"\n",
    "    >>> hyperparams = {'learning_starts': 50, 'learning_rate': 1e-4, 'gamma': 0.99, 'tau': 0.001, 'batch_size': 64}\n",
    "    >>> total_timesteps = 10000\n",
    "    >>> monitor_directory = \"/path/to/monitor\"\n",
    "    >>> model_directory = \"/path/to/save/model\"\n",
    "    >>> learn_model(environment, model_type, hyperparams, total_timesteps, monitor_directory, model_directory)\n",
    "    \"\"\"\n",
    "    env = Monitor(env, monitor_dir)\n",
    "\n",
    "    match model:\n",
    "        case \"DDPG\":\n",
    "            model = DDPG(env=env, policy=\"MlpPolicy\", **hyperparameters)\n",
    "        case \"TD3\":\n",
    "            model = TD3(env = env, policy=\"MlpPolicy\" ,**hyperparameters)\n",
    "\n",
    "        case \"SAC\":\n",
    "            model = SAC(env = env, policy=\"MlpPolicy\", **hyperparameters)\n",
    "\n",
    "        case \"A2C\":\n",
    "            model = A2C(env = env, policy=\"MlpPolicy\", **hyperparameters)\n",
    "\n",
    "        case \"PPO\":\n",
    "            model = PPO(env = env, policy=\"MlpPolicy\", **hyperparameters)        \n",
    "        case _:\n",
    "            print(\"Unsupported model. Try DDPG, TD3, SAC, A2C or PPO instead\")\n",
    "            return\n",
    "    \n",
    "    model.learn(total_timesteps=timesteps)\n",
    "    model.save(model_dir)\n",
    "    env.close()\n",
    "    _, _ = env.reset()\n",
    "    del model\n"
   ]
  },
  {
   "cell_type": "code",
   "execution_count": 46,
   "id": "f2bc2b73",
   "metadata": {},
   "outputs": [],
   "source": [
    "def load_best_paramerters(study_name, storage):\n",
    "    \"\"\"\n",
    "    Loads the best hyperparameters from an Optuna study.\n",
    "\n",
    "    Parameters:\n",
    "    - study_name (str): The name of the Optuna study.\n",
    "    - storage (str): The storage URL for the Optuna study.\n",
    "\n",
    "    Returns:\n",
    "    dict: A dictionary containing the best hyperparameters from the study.\n",
    "\n",
    "    Example:\n",
    "    >>> study_name = \"my_study\"\n",
    "    >>> storage_url = \"sqlite:///example.db\"\n",
    "    >>> best_parameters = load_best_parameters(study_name, storage_url)\n",
    "    >>> print(best_parameters)\n",
    "    \"\"\"\n",
    "    loaded_study = optuna.load_study(study_name=study_name, storage=storage)\n",
    "    best_params = loaded_study.best_trial.params\n",
    "    return best_params"
   ]
  },
  {
   "cell_type": "code",
   "execution_count": 55,
   "id": "7dac46d481acd2a3",
   "metadata": {
    "ExecuteTime": {
     "end_time": "2024-01-16T19:16:53.125442600Z",
     "start_time": "2024-01-16T19:14:47.871876800Z"
    },
    "collapsed": false
   },
   "outputs": [
    {
     "name": "stderr",
     "output_type": "stream",
     "text": [
      "c:\\Users\\schmidtfa\\MasterStudium\\PythonEnvironment\\Lib\\site-packages\\gymnasium\\utils\\passive_env_checker.py:181: DeprecationWarning: \u001b[33mWARN: Current gymnasium version requires that `Env.reset` can be passed `options` to allow the environment initialisation to be passed additional information.\u001b[0m\n",
      "  logger.deprecation(\n"
     ]
    }
   ],
   "source": [
    "env = gymnasium.make(ENV_ID)\n",
    "ddpg_params = load_best_paramerters(\"DDPG\", \"sqlite:///DRL2.db\")\n",
    "learn_model(env=env, model=\"DDPG\", hyperparameters=ddpg_params, timesteps=1000, monitor_dir=\"logs/ddpg\", model_dir=\"models/ddpg\")\n",
    "\n",
    "td3_params = load_best_paramerters(\"TD3\", \"sqlite:///DRL2.db\")\n",
    "learn_model(env = env, model=\"TD3\", hyperparameters=td3_params, timesteps=1000, monitor_dir=\"logs/td3\", model_dir=\"models/td3\")\n",
    "\n",
    "a2c_params = load_best_paramerters(\"A2C\", \"sqlite:///DRL2.db\")\n",
    "learn_model(env = env, model=\"A2C\", hyperparameters=a2c_params, timesteps=1000, monitor_dir=\"logs/a2c\", model_dir=\"models/a2c\")\n",
    "\n",
    "ppo_params = load_best_paramerters(\"PPO\", \"sqlite:///DRL2.db\")\n",
    "learn_model(env = env, model=\"PPO\", hyperparameters=ppo_params, timesteps=1000, monitor_dir=\"logs/ppo\", model_dir=\"models/ppo\")\n",
    "\n",
    "sac_params = load_best_paramerters(\"SAC\", \"sqlite:///DRL2.db\")\n",
    "learn_model(env = env, model=\"SAC\", hyperparameters=sac_params, timesteps=10000, monitor_dir=\"logs/sac\", model_dir=\"models/sac\")\n"
   ]
  },
  {
   "cell_type": "code",
   "execution_count": 56,
   "id": "3ff82e7b",
   "metadata": {
    "ExecuteTime": {
     "end_time": "2024-01-16T19:19:14.627441200Z",
     "start_time": "2024-01-16T19:19:14.596914800Z"
    }
   },
   "outputs": [],
   "source": [
    "def run_env(env, model):\n",
    "    \"\"\"\n",
    "    Runs the specified reinforcement learning model in the given environment.\n",
    "\n",
    "    Parameters:\n",
    "    - env: The environment in which the model is run.\n",
    "    - model: The reinforcement learning model to be run in the environment.\n",
    "\n",
    "    Returns:\n",
    "    None\n",
    "\n",
    "    Example:\n",
    "    >>> environment = ...  # Initialize your environment\n",
    "    >>> trained_model = ...  # Initialize or load your trained model\n",
    "    >>> run_env(environment, trained_model)\n",
    "    \"\"\"\n",
    "    obs, info = env.reset()\n",
    "    done = False\n",
    "    reward_list = []\n",
    "    observation_list = []\n",
    "    while not done:\n",
    "        action, _states = model.predict(obs)\n",
    "        obs, rewards, done, info, _ = env.step(action)\n",
    "        observation_list.append(obs)\n",
    "        reward_list.append(rewards)\n",
    "    print(\"Final state:\")\n",
    "    env.render()\n",
    "    return "
   ]
  },
  {
   "cell_type": "code",
   "execution_count": 57,
   "id": "e8ac2833",
   "metadata": {
    "ExecuteTime": {
     "end_time": "2024-01-16T19:19:15.464075700Z",
     "start_time": "2024-01-16T19:19:15.444864100Z"
    }
   },
   "outputs": [],
   "source": [
    "def plot_cumulative_rewards(rewards):\n",
    "    \"\"\"\n",
    "    Plots the cumulative rewards over episodes for different keys.\n",
    "\n",
    "    Parameters:\n",
    "    - rewards (dict): A dictionary where keys represent different series and values are lists of rewards.\n",
    "\n",
    "    Returns:\n",
    "    None\n",
    "\n",
    "    Example:\n",
    "    >>> rewards_data = {'Series1': [1, 3, 5, 2], 'Series2': [2, 4, 6, 8]}\n",
    "    >>> plot_cumulative_rewards(rewards_data)\n",
    "    \"\"\"\n",
    "    \n",
    "    # Calculate the cumulative sum of the list elements\n",
    "    cumulative_rewards = {key: np.cumsum(value) for key, value in rewards.items()}\n",
    "\n",
    "    # Plot the cumulative rewards\n",
    "    for key, value in cumulative_rewards.items():\n",
    "        plt.plot(value, label=key)\n",
    "\n",
    "    plt.xlabel('Episode')\n",
    "    plt.ylabel('Cumulative Reward')\n",
    "    plt.legend()\n",
    "    plt.show()\n"
   ]
  },
  {
   "cell_type": "code",
   "execution_count": 58,
   "id": "d16f8fa998e2ae70",
   "metadata": {
    "ExecuteTime": {
     "end_time": "2024-01-16T19:19:16.351474600Z",
     "start_time": "2024-01-16T19:19:16.317945600Z"
    },
    "collapsed": false
   },
   "outputs": [],
   "source": [
    "def load_log(path):\n",
    "    \"\"\"\n",
    "    Parameters:\n",
    "    - path (str): The file path to the CSV file containing training data.\n",
    "\n",
    "    Returns:\n",
    "    list: A list of numerical values extracted from the CSV file, which represent the return of an episode.\n",
    "\n",
    "    Example:\n",
    "    >>> file_path = \"path/to/numeric_data.csv\"\n",
    "    >>> numeric_data = load_log(file_path)\n",
    "    >>> print(numeric_data)\n",
    "    \"\"\"\n",
    "\n",
    "    data =  pd.read_csv(path, index_col=None).index.tolist()[1:]    \n",
    "    return [float(x) for x in data]"
   ]
  },
  {
   "cell_type": "code",
   "execution_count": 59,
   "id": "40f7ed5cff9b5017",
   "metadata": {
    "ExecuteTime": {
     "end_time": "2024-01-16T19:19:17.394371Z",
     "start_time": "2024-01-16T19:19:16.918461600Z"
    },
    "collapsed": false
   },
   "outputs": [
    {
     "data": {
      "image/png": "[encoded data removed]",
      "text/plain": [
       "<Figure size 640x480 with 1 Axes>"
      ]
     },
     "metadata": {},
     "output_type": "display_data"
    }
   ],
   "source": [
    "test = gymnasium.make(ENV_ID)\n",
    "sac = SAC.load(\"models/model_sac.zip\")\n",
    "td3 = TD3.load(\"models/td3.zip\")\n",
    "ddpg = DDPG.load(\"models/ddpg.zip\")\n",
    "ppo = PPO.load(\"models/ppo.zip\")\n",
    "a2c = A2C.load(\"models/a2c.zip\")\n",
    "\n",
    "rewards = {}\n",
    "rewards[\"td3\"] = load_log(\"logs/td3.monitor.csv\")\n",
    "rewards[\"sac\"] = load_log(\"logs/sac.monitor.csv\")\n",
    "rewards[\"ddpg\"] = load_log(\"logs/ddpg.monitor.csv\")\n",
    "rewards[\"a2c\"] = load_log(\"logs/a2c.monitor.csv\")\n",
    "rewards[\"ppo\"] = load_log(\"logs/ppo.monitor.csv\")\n",
    "\n",
    "plot_cumulative_rewards(rewards)"
   ]
  },
  {
   "cell_type": "code",
   "execution_count": 60,
   "id": "b2ffd85a423e7735",
   "metadata": {
    "ExecuteTime": {
     "end_time": "2024-01-16T19:03:31.289096600Z",
     "start_time": "2024-01-16T19:03:30.792670200Z"
    },
    "collapsed": false
   },
   "outputs": [
    {
     "name": "stderr",
     "output_type": "stream",
     "text": [
      "c:\\Users\\schmidtfa\\MasterStudium\\PythonEnvironment\\Lib\\site-packages\\gymnasium\\utils\\passive_env_checker.py:181: DeprecationWarning: \u001b[33mWARN: Current gymnasium version requires that `Env.reset` can be passed `options` to allow the environment initialisation to be passed additional information.\u001b[0m\n",
      "  logger.deprecation(\n"
     ]
    },
    {
     "name": "stdout",
     "output_type": "stream",
     "text": [
      "Final state:\n"
     ]
    },
    {
     "data": {
      "image/png": "[encoded data removed]",
      "text/plain": [
       "<Figure size 640x480 with 1 Axes>"
      ]
     },
     "metadata": {},
     "output_type": "display_data"
    }
   ],
   "source": [
    "run_env(test, a2c)"
   ]
  },
  {
   "cell_type": "code",
   "execution_count": 61,
   "id": "48a453e3885c7af1",
   "metadata": {
    "ExecuteTime": {
     "end_time": "2024-01-15T13:04:20.062104Z",
     "start_time": "2024-01-15T13:04:03.498382400Z"
    },
    "collapsed": false
   },
   "outputs": [
    {
     "data": {
      "text/plain": [
       "58.93420198226698"
      ]
     },
     "execution_count": 61,
     "metadata": {},
     "output_type": "execute_result"
    }
   ],
   "source": [
    "evaluate_model(a2c, test)"
   ]
  },
  {
   "cell_type": "code",
   "execution_count": null,
   "id": "9ab106eac48bc3c6",
   "metadata": {
    "collapsed": false
   },
   "outputs": [],
   "source": []
  }
 ],
 "metadata": {
  "kernelspec": {
   "display_name": "Python 3 (ipykernel)",
   "language": "python",
   "name": "python3"
  },
  "language_info": {
   "codemirror_mode": {
    "name": "ipython",
    "version": 3
   },
   "file_extension": ".py",
   "mimetype": "text/x-python",
   "name": "python",
   "nbconvert_exporter": "python",
   "pygments_lexer": "ipython3",
   "version": "3.11.7"
  }
 },
 "nbformat": 4,
 "nbformat_minor": 5
}
