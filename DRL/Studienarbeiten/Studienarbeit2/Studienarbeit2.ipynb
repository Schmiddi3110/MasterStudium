{
 "cells": [
  {
   "cell_type": "markdown",
   "id": "0becfdc3",
   "metadata": {},
   "source": [
    "# 2. Studienarbeit in Reinforcement Learning"
   ]
  },
  {
   "cell_type": "markdown",
   "id": "3027091b",
   "metadata": {},
   "source": [
    "<a id=\"0\"></a>\n",
    " # Gliederung\n",
    "0. [Imports](#1)     \n",
    "2. [Validate & Register Environment](#2) \n",
    "3. [Hyperparameter optimization using Optuna](#3) \n",
    "    - [Run optimization](#3a)\n",
    "4. [Model training](#4)\n",
    "    - [Interpretation eines Modells](#4a)\n",
    "    - [Modell über den Verlauf einer Saison](#4b)\n",
    "5. [Modellanwendung](#5)\n",
    "6. [\"Beat the bookmaker\"](#6)\n",
    "    - [Vergleich des Modells mit Wettquoten](#6a)\n",
    "    - [Wett-Stategien auf Basis des Modells](#6b)\n",
    "7. [Clustering der Spieler](#7)\n",
    "    - [KMeans-Clustering](#7a)\n",
    "    - [Ex-Post_Analyse der Cluster](#7b)"
   ]
  },
  {
   "cell_type": "markdown",
   "id": "6598ec7e",
   "metadata": {},
   "source": [
    "## Imports<a class=\"anchor\" id=\"1\"></a>"
   ]
  },
  {
   "cell_type": "code",
   "execution_count": 1,
   "id": "initial_id",
   "metadata": {
    "collapsed": true,
    "jupyter": {
     "outputs_hidden": true
    },
    "ExecuteTime": {
     "end_time": "2024-01-28T10:57:48.597231200Z",
     "start_time": "2024-01-28T10:57:38.373184500Z"
    }
   },
   "outputs": [
    {
     "name": "stdout",
     "output_type": "stream",
     "text": [
      "WARNING:tensorflow:From C:\\Studium\\MasterStudium\\DRL\\Studienarbeiten\\Studienarbeit2\\DRL_Studienarbeit2_env\\Lib\\site-packages\\keras\\src\\losses.py:2976: The name tf.losses.sparse_softmax_cross_entropy is deprecated. Please use tf.compat.v1.losses.sparse_softmax_cross_entropy instead.\n"
     ]
    }
   ],
   "source": [
    "%load_ext autoreload\n",
    "import numpy as np\n",
    "import matplotlib.pyplot as plt\n",
    "import optuna\n",
    "import CurvyRaceEnv\n",
    "from stable_baselines3.common.env_checker import check_env\n",
    "from stable_baselines3.common.monitor import Monitor\n",
    "from stable_baselines3.common.callbacks import EvalCallback, StopTrainingOnNoModelImprovement\n",
    "from stable_baselines3.common.noise import NormalActionNoise, OrnsteinUhlenbeckActionNoise\n",
    "from stable_baselines3 import DDPG,SAC, TD3, A2C, PPO\n",
    "\n",
    "import gymnasium\n",
    "from gymnasium.envs.registration import register\n",
    "\n",
    "import pandas as pd\n",
    "import optuna\n",
    "\n",
    "import torch\n",
    "import torch.nn as nn\n",
    "import time\n",
    "\n",
    "%matplotlib inline\n",
    "%reload_ext autoreload"
   ]
  },
  {
   "cell_type": "markdown",
   "id": "670640d0",
   "metadata": {},
   "source": [
    "## Validate & Register Environment<a class=\"anchor\" id=\"2\"></a>\n"
   ]
  },
  {
   "cell_type": "code",
   "execution_count": 2,
   "id": "edaaebe4",
   "metadata": {
    "ExecuteTime": {
     "end_time": "2024-01-28T10:57:50.717928Z",
     "start_time": "2024-01-28T10:57:50.644365400Z"
    }
   },
   "outputs": [
    {
     "name": "stderr",
     "output_type": "stream",
     "text": [
      "C:\\Studium\\MasterStudium\\DRL\\Studienarbeiten\\Studienarbeit2\\DRL_Studienarbeit2_env\\Lib\\site-packages\\stable_baselines3\\common\\env_checker.py:441: UserWarning: We recommend you to use a symmetric and normalized Box action space (range=[-1, 1]) cf. https://stable-baselines3.readthedocs.io/en/master/guide/rl_tips.html\n",
      "  warnings.warn(\n"
     ]
    }
   ],
   "source": [
    "test = CurvyRaceEnv.CurvyRaceEnv()\n",
    "check_env(test)\n",
    "ENV_ID = \"CurvyRaceEnv-v0\"\n",
    "register(\n",
    "     id=ENV_ID,\n",
    "     entry_point=\"CurvyRaceEnv:CurvyRaceEnv\",\n",
    "     max_episode_steps=100,\n",
    ")"
   ]
  },
  {
   "cell_type": "markdown",
   "id": "459ed15c",
   "metadata": {},
   "source": [
    "## Hyperparameter optimization using Optuna <a class=\"anchor\" id=\"3\"></a>"
   ]
  },
  {
   "cell_type": "code",
   "execution_count": 3,
   "id": "a6f149d374e7d57f",
   "metadata": {
    "collapsed": false,
    "ExecuteTime": {
     "end_time": "2024-01-28T10:57:51.920315Z",
     "start_time": "2024-01-28T10:57:51.908804900Z"
    }
   },
   "outputs": [],
   "source": [
    "def evaluate_model(model, env, num_episodes=100):  \n",
    "    \"\"\"\n",
    "    Evaluates the performance of a reinforcement learning model over a specified number of episodes.\n",
    "\n",
    "    Parameters:\n",
    "    - model: The reinforcement learning model to be evaluated.\n",
    "    - env: The environment in which the model is evaluated.\n",
    "    - num_episodes (int): The number of episodes to run for evaluation. Defaults to 100.\n",
    "\n",
    "    Returns:\n",
    "    float: The mean reward achieved by the model over the specified number of episodes.\n",
    "\n",
    "    Example:\n",
    "    >>> trained_model = ...  # Initialize or load your trained model\n",
    "    >>> environment = ...  # Initialize your environment\n",
    "    >>> mean_reward = evaluate_model(trained_model, environment, num_episodes=50)\n",
    "    >>> print(mean_reward)\n",
    "    \"\"\"    \n",
    "    total_reward = 0.0\n",
    "    for _ in range(num_episodes):\n",
    "        obs, info = env.reset()\n",
    "        done = False\n",
    "        while not done:\n",
    "            action, _ = model.predict(obs)\n",
    "            obs, reward, done,info, _ = env.step(action)\n",
    "            total_reward += reward\n",
    "    mean_reward = total_reward / num_episodes\n",
    "    return mean_reward"
   ]
  },
  {
   "cell_type": "code",
   "execution_count": 17,
   "id": "eb81230539142dfb",
   "metadata": {
    "collapsed": false,
    "ExecuteTime": {
     "end_time": "2024-01-28T15:23:05.493610200Z",
     "start_time": "2024-01-28T15:23:05.469588900Z"
    }
   },
   "outputs": [],
   "source": [
    "def objective(trial: optuna.Trial, model, timesteps) -> float:   \n",
    "    \"\"\"\n",
    "    This function defines the objective for the Optuna hyperparameter optimization.\n",
    "    It creates an environment, initializes a reinforcement learning model based on the specified type,\n",
    "    trains the model, and evaluates its performance based on a given number of timesteps.\n",
    "\n",
    "    Parameters:\n",
    "    - trial (optuna.Trial): An Optuna Trial object providing hyperparameter suggestions.\n",
    "    - model (str): The type of reinforcement learning model to use. Supported options: \"DDPG\", \"TD3\", \"SAC\", \"A2C\", \"PPO\".\n",
    "    - timesteps (int): The total number of training timesteps for the reinforcement learning model.\n",
    "\n",
    "    Returns:\n",
    "    float: The mean reward achieved by the trained model.\n",
    "\n",
    "    Raises:\n",
    "    ValueError: If an unsupported model type is provided.\n",
    "\n",
    "    Example:\n",
    "    >>> study_model = \"SAC\"\n",
    "    >>> study = optuna.create_study(study_name=study_model, storage=\"sqlite:///DRL2.db\", load_if_exists=True, direction=\"maximize\")\n",
    "    >>> study.optimize(objective(study_model, 10000), n_trials=10000, show_progress_bar=True)\n",
    "    \"\"\"\n",
    "    # Create Environment\n",
    "    env = gymnasium.make(ENV_ID)  \n",
    "    \n",
    "    # Create a model\n",
    "    match model:\n",
    "        case \"DDPG\":\n",
    "            hyperparams = {\n",
    "            'learning_starts': trial.suggest_int('learning_starts', 50,400),\n",
    "            'learning_rate': trial.suggest_float('learning_rate', 1e-5, 1e-1, log=True),\n",
    "            'gamma': trial.suggest_float('gamma', 0.9, 0.999),\n",
    "            'tau': trial.suggest_float('tau', 1e-3, 1e-1, log=True),\n",
    "            'batch_size': trial.suggest_int('batch_size', 16,1024),    \n",
    "            'buffer_size': trial.suggest_int('buffer_size', 100000,300000),\n",
    "            'train_freq': trial.suggest_int('train_freq', 1,10),\n",
    "            'gradient_steps': trial.suggest_int('gradient_steps', 1,20),\n",
    "\n",
    "            }\n",
    "            model = DDPG('MlpPolicy', env, **hyperparams,\n",
    "                 action_noise=NormalActionNoise(mean=np.zeros(env.action_space.shape), sigma=0.1 * np.ones(env.action_space.shape)))\n",
    "        case \"TD3\":\n",
    "            hyperparams = {\n",
    "            'learning_starts': trial.suggest_int('learning_starts', 50,400),\n",
    "            'learning_rate': trial.suggest_float('learning_rate', 1e-5, 1e-1, log=True),\n",
    "            'gamma': trial.suggest_float('gamma', 0.9, 0.999),\n",
    "            'tau': trial.suggest_float('tau', 1e-3, 1e-1, log=True),\n",
    "            'batch_size': trial.suggest_int('batch_size', 16,1024), \n",
    "            'buffer_size': trial.suggest_int('buffer_size', 100000,300000),\n",
    "            'train_freq': trial.suggest_int('train_freq', 1,10),\n",
    "            'gradient_steps': trial.suggest_int('gradient_steps', 1,20),                \n",
    "            }\n",
    "            model = TD3('MlpPolicy', env, **hyperparams,\n",
    "                 action_noise=NormalActionNoise(mean=np.zeros(env.action_space.shape), sigma=0.1 * np.ones(env.action_space.shape)))\n",
    "\n",
    "        case \"SAC\":\n",
    "            hyperparams = {\n",
    "            'learning_starts': trial.suggest_int('learning_starts', 50,400),\n",
    "            'learning_rate': trial.suggest_float('learning_rate', 1e-5, 1e-1, log=True),\n",
    "            'gamma': trial.suggest_float('gamma', 0.9, 0.999),\n",
    "            'tau': trial.suggest_float('tau', 1e-3, 1e-1, log=True),\n",
    "            'batch_size': trial.suggest_int('batch_size', 16,1024),  \n",
    "            'buffer_size': trial.suggest_int('buffer_size', 100000,300000),\n",
    "            'train_freq': trial.suggest_int('train_freq', 1,10),\n",
    "            'gradient_steps': trial.suggest_int('gradient_steps', 1,20),     \n",
    "            }\n",
    "            model = SAC('MlpPolicy', env, **hyperparams,\n",
    "                 action_noise=NormalActionNoise(mean=np.zeros(env.action_space.shape), sigma=0.1 * np.ones(env.action_space.shape)))\n",
    "\n",
    "        case \"A2C\":\n",
    "            hyperparams = {\n",
    "            'learning_rate': trial.suggest_float('learning_rate', 1e-5, 1e-1, log=True),\n",
    "            'gamma': trial.suggest_float('gamma', 0.9, 0.999),\n",
    "            'n_steps': trial.suggest_int('n_steps', 1024,4096),            \n",
    "            'gae_lambda': trial.suggest_int('gae_lambda', 0.8,0.99),            \n",
    "            'ent_coef': trial.suggest_float('ent_coef', 0,1),\n",
    "            'vf_coef': trial.suggest_float('vf_coef', 0,1),\n",
    "            'max_grad_norm': trial.suggest_float('max_grad_norm',0,1),\n",
    "            }\n",
    "            model = A2C('MlpPolicy', env, **hyperparams)\n",
    "\n",
    "        case \"PPO\":\n",
    "            hyperparams = {\n",
    "            'learning_rate': trial.suggest_float('learning_rate', 1e-5, 1e-1, log=True),\n",
    "            'gamma': trial.suggest_float('gamma', 0.9, 0.999),\n",
    "            'batch_size': trial.suggest_int('batch_size', 16,1024),   \n",
    "            'n_steps': trial.suggest_int('n_steps', 1024,4096),\n",
    "            'n_epochs': trial.suggest_int('n_epochs', 5,15),\n",
    "            'gae_lambda': trial.suggest_int('gae_lambda', 0.8,0.99),\n",
    "            'clip_range': trial.suggest_float('clip_range', 0,1),\n",
    "            'ent_coef': trial.suggest_float('ent_coef', 0,1),\n",
    "            'vf_coef': trial.suggest_float('vf_coef', 0,1),\n",
    "            'max_grad_norm': trial.suggest_float('max_grad_norm',0,1),\n",
    "            }\n",
    "            model = PPO('MlpPolicy', env, **hyperparams)        \n",
    "        case _:\n",
    "             \n",
    "            print(\"Unsupported model. Try DDPG, TD3, SAC, A2C or PPO instead\")\n",
    "            return\n",
    "    \n",
    "    # Train the model\n",
    "    model.learn(total_timesteps=timesteps)  # Adjust the total_timesteps as needed\n",
    "\n",
    "    # Evaluate the model\n",
    "    mean_reward = evaluate_model(model, env)\n",
    "    env.close()\n",
    "    return mean_reward"
   ]
  },
  {
   "cell_type": "markdown",
   "id": "6500eb62",
   "metadata": {},
   "source": [
    "### Run optimization <a class=\"anchor\" id=\"3a\"></a>"
   ]
  },
  {
   "cell_type": "code",
   "execution_count": 18,
   "id": "c97768c52d3d9ed4",
   "metadata": {
    "collapsed": false,
    "ExecuteTime": {
     "end_time": "2024-01-28T15:24:39.739503400Z",
     "start_time": "2024-01-28T15:23:06.116299Z"
    }
   },
   "outputs": [
    {
     "name": "stderr",
     "output_type": "stream",
     "text": [
      "[I 2024-01-28 16:23:06,144] Using an existing study with name 'PPO' instead of creating a new one.\n"
     ]
    },
    {
     "data": {
      "text/plain": "  0%|          | 0/200 [00:00<?, ?it/s]",
      "application/vnd.jupyter.widget-view+json": {
       "version_major": 2,
       "version_minor": 0,
       "model_id": "84f9585bba854f87a5f18d4603bc0d17"
      }
     },
     "metadata": {},
     "output_type": "display_data"
    },
    {
     "name": "stderr",
     "output_type": "stream",
     "text": [
      "C:\\Studium\\MasterStudium\\DRL\\Studienarbeiten\\Studienarbeit2\\DRL_Studienarbeit2_env\\Lib\\site-packages\\stable_baselines3\\ppo\\ppo.py:155: UserWarning: You have specified a mini-batch size of 497, but because the `RolloutBuffer` is of size `n_steps * n_envs = 3618`, after every 7 untruncated mini-batches, there will be a truncated mini-batch of size 139\n",
      "We recommend using a `batch_size` that is a factor of `n_steps * n_envs`.\n",
      "Info: (n_steps=3618 and n_envs=1)\n",
      "  warnings.warn(\n"
     ]
    },
    {
     "name": "stdout",
     "output_type": "stream",
     "text": [
      "[I 2024-01-28 16:23:23,734] Trial 2 finished with value: -12.62357411630589 and parameters: {'learning_rate': 0.0001640622786835478, 'gamma': 0.9112947993338114, 'batch_size': 497, 'n_steps': 3618, 'n_epochs': 11, 'gae_lambda': 0, 'clip_range': 0.7000023426358253, 'ent_coef': 0.585653708544284, 'vf_coef': 0.4608347283315444, 'max_grad_norm': 0.992926289924668}. Best is trial 2 with value: -12.62357411630589.\n"
     ]
    },
    {
     "name": "stderr",
     "output_type": "stream",
     "text": [
      "C:\\Studium\\MasterStudium\\DRL\\Studienarbeiten\\Studienarbeit2\\DRL_Studienarbeit2_env\\Lib\\site-packages\\stable_baselines3\\ppo\\ppo.py:155: UserWarning: You have specified a mini-batch size of 668, but because the `RolloutBuffer` is of size `n_steps * n_envs = 3250`, after every 4 untruncated mini-batches, there will be a truncated mini-batch of size 578\n",
      "We recommend using a `batch_size` that is a factor of `n_steps * n_envs`.\n",
      "Info: (n_steps=3250 and n_envs=1)\n",
      "  warnings.warn(\n"
     ]
    },
    {
     "name": "stdout",
     "output_type": "stream",
     "text": [
      "[I 2024-01-28 16:23:39,306] Trial 3 finished with value: 24.247896558920708 and parameters: {'learning_rate': 0.011241172685083815, 'gamma': 0.9227152014698016, 'batch_size': 668, 'n_steps': 3250, 'n_epochs': 9, 'gae_lambda': 0, 'clip_range': 0.4026741000777905, 'ent_coef': 0.5296899676151794, 'vf_coef': 0.015279166887871232, 'max_grad_norm': 0.3749750271587382}. Best is trial 3 with value: 24.247896558920708.\n"
     ]
    },
    {
     "name": "stderr",
     "output_type": "stream",
     "text": [
      "C:\\Studium\\MasterStudium\\DRL\\Studienarbeiten\\Studienarbeit2\\DRL_Studienarbeit2_env\\Lib\\site-packages\\stable_baselines3\\ppo\\ppo.py:155: UserWarning: You have specified a mini-batch size of 734, but because the `RolloutBuffer` is of size `n_steps * n_envs = 1310`, after every 1 untruncated mini-batches, there will be a truncated mini-batch of size 576\n",
      "We recommend using a `batch_size` that is a factor of `n_steps * n_envs`.\n",
      "Info: (n_steps=1310 and n_envs=1)\n",
      "  warnings.warn(\n"
     ]
    },
    {
     "name": "stdout",
     "output_type": "stream",
     "text": [
      "[I 2024-01-28 16:23:53,051] Trial 4 finished with value: -44.80800995641975 and parameters: {'learning_rate': 0.0782593073775933, 'gamma': 0.9077918740183492, 'batch_size': 734, 'n_steps': 1310, 'n_epochs': 5, 'gae_lambda': 0, 'clip_range': 0.3707811608206584, 'ent_coef': 0.07951705877359982, 'vf_coef': 0.6886640814973141, 'max_grad_norm': 0.40258262606706685}. Best is trial 3 with value: 24.247896558920708.\n"
     ]
    },
    {
     "name": "stderr",
     "output_type": "stream",
     "text": [
      "C:\\Studium\\MasterStudium\\DRL\\Studienarbeiten\\Studienarbeit2\\DRL_Studienarbeit2_env\\Lib\\site-packages\\stable_baselines3\\ppo\\ppo.py:155: UserWarning: You have specified a mini-batch size of 145, but because the `RolloutBuffer` is of size `n_steps * n_envs = 1934`, after every 13 untruncated mini-batches, there will be a truncated mini-batch of size 49\n",
      "We recommend using a `batch_size` that is a factor of `n_steps * n_envs`.\n",
      "Info: (n_steps=1934 and n_envs=1)\n",
      "  warnings.warn(\n"
     ]
    },
    {
     "name": "stdout",
     "output_type": "stream",
     "text": [
      "[I 2024-01-28 16:24:11,960] Trial 5 finished with value: -11.047944891136313 and parameters: {'learning_rate': 1.1814386891556883e-05, 'gamma': 0.9334245576567985, 'batch_size': 145, 'n_steps': 1934, 'n_epochs': 15, 'gae_lambda': 0, 'clip_range': 0.9664441895202432, 'ent_coef': 0.33291928400195403, 'vf_coef': 0.7244496387814666, 'max_grad_norm': 0.23131815682514256}. Best is trial 3 with value: 24.247896558920708.\n"
     ]
    },
    {
     "name": "stderr",
     "output_type": "stream",
     "text": [
      "C:\\Studium\\MasterStudium\\DRL\\Studienarbeiten\\Studienarbeit2\\DRL_Studienarbeit2_env\\Lib\\site-packages\\stable_baselines3\\ppo\\ppo.py:155: UserWarning: You have specified a mini-batch size of 854, but because the `RolloutBuffer` is of size `n_steps * n_envs = 2211`, after every 2 untruncated mini-batches, there will be a truncated mini-batch of size 503\n",
      "We recommend using a `batch_size` that is a factor of `n_steps * n_envs`.\n",
      "Info: (n_steps=2211 and n_envs=1)\n",
      "  warnings.warn(\n"
     ]
    },
    {
     "name": "stdout",
     "output_type": "stream",
     "text": [
      "[I 2024-01-28 16:24:28,968] Trial 6 finished with value: -14.846928117733855 and parameters: {'learning_rate': 0.030870605637419606, 'gamma': 0.9544331274053445, 'batch_size': 854, 'n_steps': 2211, 'n_epochs': 5, 'gae_lambda': 0, 'clip_range': 0.6346533471852296, 'ent_coef': 0.9806982644420383, 'vf_coef': 0.7085073789824927, 'max_grad_norm': 0.6038230804970278}. Best is trial 3 with value: 24.247896558920708.\n"
     ]
    },
    {
     "name": "stderr",
     "output_type": "stream",
     "text": [
      "C:\\Studium\\MasterStudium\\DRL\\Studienarbeiten\\Studienarbeit2\\DRL_Studienarbeit2_env\\Lib\\site-packages\\stable_baselines3\\ppo\\ppo.py:155: UserWarning: You have specified a mini-batch size of 28, but because the `RolloutBuffer` is of size `n_steps * n_envs = 1924`, after every 68 untruncated mini-batches, there will be a truncated mini-batch of size 20\n",
      "We recommend using a `batch_size` that is a factor of `n_steps * n_envs`.\n",
      "Info: (n_steps=1924 and n_envs=1)\n",
      "  warnings.warn(\n"
     ]
    },
    {
     "name": "stdout",
     "output_type": "stream",
     "text": [
      "[W 2024-01-28 16:24:39,487] Trial 7 failed with parameters: {'learning_rate': 0.05710408538067101, 'gamma': 0.9765072608435209, 'batch_size': 28, 'n_steps': 1924, 'n_epochs': 12, 'gae_lambda': 0, 'clip_range': 0.3036017361457931, 'ent_coef': 0.9088206293924388, 'vf_coef': 0.2626882312194244, 'max_grad_norm': 0.7655373587361723} because of the following error: ValueError(\"Expected parameter loc (Tensor of shape (28, 2)) of distribution Normal(loc: torch.Size([28, 2]), scale: torch.Size([28, 2])) to satisfy the constraint Real(), but found invalid values:\\ntensor([[nan, nan],\\n        [nan, nan],\\n        [nan, nan],\\n        [nan, nan],\\n        [nan, nan],\\n        [nan, nan],\\n        [nan, nan],\\n        [nan, nan],\\n        [nan, nan],\\n        [nan, nan],\\n        [nan, nan],\\n        [nan, nan],\\n        [nan, nan],\\n        [nan, nan],\\n        [nan, nan],\\n        [nan, nan],\\n        [nan, nan],\\n        [nan, nan],\\n        [nan, nan],\\n        [nan, nan],\\n        [nan, nan],\\n        [nan, nan],\\n        [nan, nan],\\n        [nan, nan],\\n        [nan, nan],\\n        [nan, nan],\\n        [nan, nan],\\n        [nan, nan]], device='cuda:0', grad_fn=<AddmmBackward0>)\").\n",
      "Traceback (most recent call last):\n",
      "  File \"C:\\Studium\\MasterStudium\\DRL\\Studienarbeiten\\Studienarbeit2\\DRL_Studienarbeit2_env\\Lib\\site-packages\\optuna\\study\\_optimize.py\", line 200, in _run_trial\n",
      "    value_or_values = func(trial)\n",
      "                      ^^^^^^^^^^^\n",
      "  File \"C:\\Users\\Anwender\\AppData\\Local\\Temp\\ipykernel_18516\\1845142491.py\", line 19, in <lambda>\n",
      "    study.optimize(lambda trial: objective(trial=trial, model=study_model, timesteps=2500), n_trials=200, show_progress_bar=True)\n",
      "                                 ^^^^^^^^^^^^^^^^^^^^^^^^^^^^^^^^^^^^^^^^^^^^^^^^^^^^^^^^^\n",
      "  File \"C:\\Users\\Anwender\\AppData\\Local\\Temp\\ipykernel_18516\\4056605586.py\", line 102, in objective\n",
      "    model.learn(total_timesteps=timesteps)  # Adjust the total_timesteps as needed\n",
      "    ^^^^^^^^^^^^^^^^^^^^^^^^^^^^^^^^^^^^^^\n",
      "  File \"C:\\Studium\\MasterStudium\\DRL\\Studienarbeiten\\Studienarbeit2\\DRL_Studienarbeit2_env\\Lib\\site-packages\\stable_baselines3\\ppo\\ppo.py\", line 315, in learn\n",
      "    return super().learn(\n",
      "           ^^^^^^^^^^^^^^\n",
      "  File \"C:\\Studium\\MasterStudium\\DRL\\Studienarbeiten\\Studienarbeit2\\DRL_Studienarbeit2_env\\Lib\\site-packages\\stable_baselines3\\common\\on_policy_algorithm.py\", line 299, in learn\n",
      "    self.train()\n",
      "  File \"C:\\Studium\\MasterStudium\\DRL\\Studienarbeiten\\Studienarbeit2\\DRL_Studienarbeit2_env\\Lib\\site-packages\\stable_baselines3\\ppo\\ppo.py\", line 217, in train\n",
      "    values, log_prob, entropy = self.policy.evaluate_actions(rollout_data.observations, actions)\n",
      "                                ^^^^^^^^^^^^^^^^^^^^^^^^^^^^^^^^^^^^^^^^^^^^^^^^^^^^^^^^^^^^^^^^\n",
      "  File \"C:\\Studium\\MasterStudium\\DRL\\Studienarbeiten\\Studienarbeit2\\DRL_Studienarbeit2_env\\Lib\\site-packages\\stable_baselines3\\common\\policies.py\", line 735, in evaluate_actions\n",
      "    distribution = self._get_action_dist_from_latent(latent_pi)\n",
      "                   ^^^^^^^^^^^^^^^^^^^^^^^^^^^^^^^^^^^^^^^^^^^^\n",
      "  File \"C:\\Studium\\MasterStudium\\DRL\\Studienarbeiten\\Studienarbeit2\\DRL_Studienarbeit2_env\\Lib\\site-packages\\stable_baselines3\\common\\policies.py\", line 692, in _get_action_dist_from_latent\n",
      "    return self.action_dist.proba_distribution(mean_actions, self.log_std)\n",
      "           ^^^^^^^^^^^^^^^^^^^^^^^^^^^^^^^^^^^^^^^^^^^^^^^^^^^^^^^^^^^^^^^\n",
      "  File \"C:\\Studium\\MasterStudium\\DRL\\Studienarbeiten\\Studienarbeit2\\DRL_Studienarbeit2_env\\Lib\\site-packages\\stable_baselines3\\common\\distributions.py\", line 164, in proba_distribution\n",
      "    self.distribution = Normal(mean_actions, action_std)\n",
      "                        ^^^^^^^^^^^^^^^^^^^^^^^^^^^^^^^^\n",
      "  File \"C:\\Studium\\MasterStudium\\DRL\\Studienarbeiten\\Studienarbeit2\\DRL_Studienarbeit2_env\\Lib\\site-packages\\torch\\distributions\\normal.py\", line 56, in __init__\n",
      "    super().__init__(batch_shape, validate_args=validate_args)\n",
      "  File \"C:\\Studium\\MasterStudium\\DRL\\Studienarbeiten\\Studienarbeit2\\DRL_Studienarbeit2_env\\Lib\\site-packages\\torch\\distributions\\distribution.py\", line 68, in __init__\n",
      "    raise ValueError(\n",
      "ValueError: Expected parameter loc (Tensor of shape (28, 2)) of distribution Normal(loc: torch.Size([28, 2]), scale: torch.Size([28, 2])) to satisfy the constraint Real(), but found invalid values:\n",
      "tensor([[nan, nan],\n",
      "        [nan, nan],\n",
      "        [nan, nan],\n",
      "        [nan, nan],\n",
      "        [nan, nan],\n",
      "        [nan, nan],\n",
      "        [nan, nan],\n",
      "        [nan, nan],\n",
      "        [nan, nan],\n",
      "        [nan, nan],\n",
      "        [nan, nan],\n",
      "        [nan, nan],\n",
      "        [nan, nan],\n",
      "        [nan, nan],\n",
      "        [nan, nan],\n",
      "        [nan, nan],\n",
      "        [nan, nan],\n",
      "        [nan, nan],\n",
      "        [nan, nan],\n",
      "        [nan, nan],\n",
      "        [nan, nan],\n",
      "        [nan, nan],\n",
      "        [nan, nan],\n",
      "        [nan, nan],\n",
      "        [nan, nan],\n",
      "        [nan, nan],\n",
      "        [nan, nan],\n",
      "        [nan, nan]], device='cuda:0', grad_fn=<AddmmBackward0>)\n",
      "[W 2024-01-28 16:24:39,490] Trial 7 failed with value None.\n"
     ]
    },
    {
     "ename": "ValueError",
     "evalue": "Expected parameter loc (Tensor of shape (28, 2)) of distribution Normal(loc: torch.Size([28, 2]), scale: torch.Size([28, 2])) to satisfy the constraint Real(), but found invalid values:\ntensor([[nan, nan],\n        [nan, nan],\n        [nan, nan],\n        [nan, nan],\n        [nan, nan],\n        [nan, nan],\n        [nan, nan],\n        [nan, nan],\n        [nan, nan],\n        [nan, nan],\n        [nan, nan],\n        [nan, nan],\n        [nan, nan],\n        [nan, nan],\n        [nan, nan],\n        [nan, nan],\n        [nan, nan],\n        [nan, nan],\n        [nan, nan],\n        [nan, nan],\n        [nan, nan],\n        [nan, nan],\n        [nan, nan],\n        [nan, nan],\n        [nan, nan],\n        [nan, nan],\n        [nan, nan],\n        [nan, nan]], device='cuda:0', grad_fn=<AddmmBackward0>)",
     "output_type": "error",
     "traceback": [
      "\u001B[1;31m---------------------------------------------------------------------------\u001B[0m",
      "\u001B[1;31mValueError\u001B[0m                                Traceback (most recent call last)",
      "Cell \u001B[1;32mIn[18], line 19\u001B[0m\n\u001B[0;32m     17\u001B[0m study_model \u001B[38;5;241m=\u001B[39m \u001B[38;5;124m\"\u001B[39m\u001B[38;5;124mPPO\u001B[39m\u001B[38;5;124m\"\u001B[39m\n\u001B[0;32m     18\u001B[0m study \u001B[38;5;241m=\u001B[39m optuna\u001B[38;5;241m.\u001B[39mcreate_study(study_name\u001B[38;5;241m=\u001B[39mstudy_model, storage\u001B[38;5;241m=\u001B[39m\u001B[38;5;124m\"\u001B[39m\u001B[38;5;124msqlite:///DRL2.db\u001B[39m\u001B[38;5;124m\"\u001B[39m, load_if_exists\u001B[38;5;241m=\u001B[39m\u001B[38;5;28;01mTrue\u001B[39;00m, direction\u001B[38;5;241m=\u001B[39m\u001B[38;5;124m\"\u001B[39m\u001B[38;5;124mmaximize\u001B[39m\u001B[38;5;124m\"\u001B[39m)\n\u001B[1;32m---> 19\u001B[0m \u001B[43mstudy\u001B[49m\u001B[38;5;241;43m.\u001B[39;49m\u001B[43moptimize\u001B[49m\u001B[43m(\u001B[49m\u001B[38;5;28;43;01mlambda\u001B[39;49;00m\u001B[43m \u001B[49m\u001B[43mtrial\u001B[49m\u001B[43m:\u001B[49m\u001B[43m \u001B[49m\u001B[43mobjective\u001B[49m\u001B[43m(\u001B[49m\u001B[43mtrial\u001B[49m\u001B[38;5;241;43m=\u001B[39;49m\u001B[43mtrial\u001B[49m\u001B[43m,\u001B[49m\u001B[43m \u001B[49m\u001B[43mmodel\u001B[49m\u001B[38;5;241;43m=\u001B[39;49m\u001B[43mstudy_model\u001B[49m\u001B[43m,\u001B[49m\u001B[43m \u001B[49m\u001B[43mtimesteps\u001B[49m\u001B[38;5;241;43m=\u001B[39;49m\u001B[38;5;241;43m2500\u001B[39;49m\u001B[43m)\u001B[49m\u001B[43m,\u001B[49m\u001B[43m \u001B[49m\u001B[43mn_trials\u001B[49m\u001B[38;5;241;43m=\u001B[39;49m\u001B[38;5;241;43m200\u001B[39;49m\u001B[43m,\u001B[49m\u001B[43m \u001B[49m\u001B[43mshow_progress_bar\u001B[49m\u001B[38;5;241;43m=\u001B[39;49m\u001B[38;5;28;43;01mTrue\u001B[39;49;00m\u001B[43m)\u001B[49m\n",
      "File \u001B[1;32mC:\\Studium\\MasterStudium\\DRL\\Studienarbeiten\\Studienarbeit2\\DRL_Studienarbeit2_env\\Lib\\site-packages\\optuna\\study\\study.py:451\u001B[0m, in \u001B[0;36mStudy.optimize\u001B[1;34m(self, func, n_trials, timeout, n_jobs, catch, callbacks, gc_after_trial, show_progress_bar)\u001B[0m\n\u001B[0;32m    348\u001B[0m \u001B[38;5;28;01mdef\u001B[39;00m \u001B[38;5;21moptimize\u001B[39m(\n\u001B[0;32m    349\u001B[0m     \u001B[38;5;28mself\u001B[39m,\n\u001B[0;32m    350\u001B[0m     func: ObjectiveFuncType,\n\u001B[1;32m   (...)\u001B[0m\n\u001B[0;32m    357\u001B[0m     show_progress_bar: \u001B[38;5;28mbool\u001B[39m \u001B[38;5;241m=\u001B[39m \u001B[38;5;28;01mFalse\u001B[39;00m,\n\u001B[0;32m    358\u001B[0m ) \u001B[38;5;241m-\u001B[39m\u001B[38;5;241m>\u001B[39m \u001B[38;5;28;01mNone\u001B[39;00m:\n\u001B[0;32m    359\u001B[0m \u001B[38;5;250m    \u001B[39m\u001B[38;5;124;03m\"\"\"Optimize an objective function.\u001B[39;00m\n\u001B[0;32m    360\u001B[0m \n\u001B[0;32m    361\u001B[0m \u001B[38;5;124;03m    Optimization is done by choosing a suitable set of hyperparameter values from a given\u001B[39;00m\n\u001B[1;32m   (...)\u001B[0m\n\u001B[0;32m    449\u001B[0m \u001B[38;5;124;03m            If nested invocation of this method occurs.\u001B[39;00m\n\u001B[0;32m    450\u001B[0m \u001B[38;5;124;03m    \"\"\"\u001B[39;00m\n\u001B[1;32m--> 451\u001B[0m     \u001B[43m_optimize\u001B[49m\u001B[43m(\u001B[49m\n\u001B[0;32m    452\u001B[0m \u001B[43m        \u001B[49m\u001B[43mstudy\u001B[49m\u001B[38;5;241;43m=\u001B[39;49m\u001B[38;5;28;43mself\u001B[39;49m\u001B[43m,\u001B[49m\n\u001B[0;32m    453\u001B[0m \u001B[43m        \u001B[49m\u001B[43mfunc\u001B[49m\u001B[38;5;241;43m=\u001B[39;49m\u001B[43mfunc\u001B[49m\u001B[43m,\u001B[49m\n\u001B[0;32m    454\u001B[0m \u001B[43m        \u001B[49m\u001B[43mn_trials\u001B[49m\u001B[38;5;241;43m=\u001B[39;49m\u001B[43mn_trials\u001B[49m\u001B[43m,\u001B[49m\n\u001B[0;32m    455\u001B[0m \u001B[43m        \u001B[49m\u001B[43mtimeout\u001B[49m\u001B[38;5;241;43m=\u001B[39;49m\u001B[43mtimeout\u001B[49m\u001B[43m,\u001B[49m\n\u001B[0;32m    456\u001B[0m \u001B[43m        \u001B[49m\u001B[43mn_jobs\u001B[49m\u001B[38;5;241;43m=\u001B[39;49m\u001B[43mn_jobs\u001B[49m\u001B[43m,\u001B[49m\n\u001B[0;32m    457\u001B[0m \u001B[43m        \u001B[49m\u001B[43mcatch\u001B[49m\u001B[38;5;241;43m=\u001B[39;49m\u001B[38;5;28;43mtuple\u001B[39;49m\u001B[43m(\u001B[49m\u001B[43mcatch\u001B[49m\u001B[43m)\u001B[49m\u001B[43m \u001B[49m\u001B[38;5;28;43;01mif\u001B[39;49;00m\u001B[43m \u001B[49m\u001B[38;5;28;43misinstance\u001B[39;49m\u001B[43m(\u001B[49m\u001B[43mcatch\u001B[49m\u001B[43m,\u001B[49m\u001B[43m \u001B[49m\u001B[43mIterable\u001B[49m\u001B[43m)\u001B[49m\u001B[43m \u001B[49m\u001B[38;5;28;43;01melse\u001B[39;49;00m\u001B[43m \u001B[49m\u001B[43m(\u001B[49m\u001B[43mcatch\u001B[49m\u001B[43m,\u001B[49m\u001B[43m)\u001B[49m\u001B[43m,\u001B[49m\n\u001B[0;32m    458\u001B[0m \u001B[43m        \u001B[49m\u001B[43mcallbacks\u001B[49m\u001B[38;5;241;43m=\u001B[39;49m\u001B[43mcallbacks\u001B[49m\u001B[43m,\u001B[49m\n\u001B[0;32m    459\u001B[0m \u001B[43m        \u001B[49m\u001B[43mgc_after_trial\u001B[49m\u001B[38;5;241;43m=\u001B[39;49m\u001B[43mgc_after_trial\u001B[49m\u001B[43m,\u001B[49m\n\u001B[0;32m    460\u001B[0m \u001B[43m        \u001B[49m\u001B[43mshow_progress_bar\u001B[49m\u001B[38;5;241;43m=\u001B[39;49m\u001B[43mshow_progress_bar\u001B[49m\u001B[43m,\u001B[49m\n\u001B[0;32m    461\u001B[0m \u001B[43m    \u001B[49m\u001B[43m)\u001B[49m\n",
      "File \u001B[1;32mC:\\Studium\\MasterStudium\\DRL\\Studienarbeiten\\Studienarbeit2\\DRL_Studienarbeit2_env\\Lib\\site-packages\\optuna\\study\\_optimize.py:66\u001B[0m, in \u001B[0;36m_optimize\u001B[1;34m(study, func, n_trials, timeout, n_jobs, catch, callbacks, gc_after_trial, show_progress_bar)\u001B[0m\n\u001B[0;32m     64\u001B[0m \u001B[38;5;28;01mtry\u001B[39;00m:\n\u001B[0;32m     65\u001B[0m     \u001B[38;5;28;01mif\u001B[39;00m n_jobs \u001B[38;5;241m==\u001B[39m \u001B[38;5;241m1\u001B[39m:\n\u001B[1;32m---> 66\u001B[0m         \u001B[43m_optimize_sequential\u001B[49m\u001B[43m(\u001B[49m\n\u001B[0;32m     67\u001B[0m \u001B[43m            \u001B[49m\u001B[43mstudy\u001B[49m\u001B[43m,\u001B[49m\n\u001B[0;32m     68\u001B[0m \u001B[43m            \u001B[49m\u001B[43mfunc\u001B[49m\u001B[43m,\u001B[49m\n\u001B[0;32m     69\u001B[0m \u001B[43m            \u001B[49m\u001B[43mn_trials\u001B[49m\u001B[43m,\u001B[49m\n\u001B[0;32m     70\u001B[0m \u001B[43m            \u001B[49m\u001B[43mtimeout\u001B[49m\u001B[43m,\u001B[49m\n\u001B[0;32m     71\u001B[0m \u001B[43m            \u001B[49m\u001B[43mcatch\u001B[49m\u001B[43m,\u001B[49m\n\u001B[0;32m     72\u001B[0m \u001B[43m            \u001B[49m\u001B[43mcallbacks\u001B[49m\u001B[43m,\u001B[49m\n\u001B[0;32m     73\u001B[0m \u001B[43m            \u001B[49m\u001B[43mgc_after_trial\u001B[49m\u001B[43m,\u001B[49m\n\u001B[0;32m     74\u001B[0m \u001B[43m            \u001B[49m\u001B[43mreseed_sampler_rng\u001B[49m\u001B[38;5;241;43m=\u001B[39;49m\u001B[38;5;28;43;01mFalse\u001B[39;49;00m\u001B[43m,\u001B[49m\n\u001B[0;32m     75\u001B[0m \u001B[43m            \u001B[49m\u001B[43mtime_start\u001B[49m\u001B[38;5;241;43m=\u001B[39;49m\u001B[38;5;28;43;01mNone\u001B[39;49;00m\u001B[43m,\u001B[49m\n\u001B[0;32m     76\u001B[0m \u001B[43m            \u001B[49m\u001B[43mprogress_bar\u001B[49m\u001B[38;5;241;43m=\u001B[39;49m\u001B[43mprogress_bar\u001B[49m\u001B[43m,\u001B[49m\n\u001B[0;32m     77\u001B[0m \u001B[43m        \u001B[49m\u001B[43m)\u001B[49m\n\u001B[0;32m     78\u001B[0m     \u001B[38;5;28;01melse\u001B[39;00m:\n\u001B[0;32m     79\u001B[0m         \u001B[38;5;28;01mif\u001B[39;00m n_jobs \u001B[38;5;241m==\u001B[39m \u001B[38;5;241m-\u001B[39m\u001B[38;5;241m1\u001B[39m:\n",
      "File \u001B[1;32mC:\\Studium\\MasterStudium\\DRL\\Studienarbeiten\\Studienarbeit2\\DRL_Studienarbeit2_env\\Lib\\site-packages\\optuna\\study\\_optimize.py:163\u001B[0m, in \u001B[0;36m_optimize_sequential\u001B[1;34m(study, func, n_trials, timeout, catch, callbacks, gc_after_trial, reseed_sampler_rng, time_start, progress_bar)\u001B[0m\n\u001B[0;32m    160\u001B[0m         \u001B[38;5;28;01mbreak\u001B[39;00m\n\u001B[0;32m    162\u001B[0m \u001B[38;5;28;01mtry\u001B[39;00m:\n\u001B[1;32m--> 163\u001B[0m     frozen_trial \u001B[38;5;241m=\u001B[39m \u001B[43m_run_trial\u001B[49m\u001B[43m(\u001B[49m\u001B[43mstudy\u001B[49m\u001B[43m,\u001B[49m\u001B[43m \u001B[49m\u001B[43mfunc\u001B[49m\u001B[43m,\u001B[49m\u001B[43m \u001B[49m\u001B[43mcatch\u001B[49m\u001B[43m)\u001B[49m\n\u001B[0;32m    164\u001B[0m \u001B[38;5;28;01mfinally\u001B[39;00m:\n\u001B[0;32m    165\u001B[0m     \u001B[38;5;66;03m# The following line mitigates memory problems that can be occurred in some\u001B[39;00m\n\u001B[0;32m    166\u001B[0m     \u001B[38;5;66;03m# environments (e.g., services that use computing containers such as GitHub Actions).\u001B[39;00m\n\u001B[0;32m    167\u001B[0m     \u001B[38;5;66;03m# Please refer to the following PR for further details:\u001B[39;00m\n\u001B[0;32m    168\u001B[0m     \u001B[38;5;66;03m# https://github.com/optuna/optuna/pull/325.\u001B[39;00m\n\u001B[0;32m    169\u001B[0m     \u001B[38;5;28;01mif\u001B[39;00m gc_after_trial:\n",
      "File \u001B[1;32mC:\\Studium\\MasterStudium\\DRL\\Studienarbeiten\\Studienarbeit2\\DRL_Studienarbeit2_env\\Lib\\site-packages\\optuna\\study\\_optimize.py:251\u001B[0m, in \u001B[0;36m_run_trial\u001B[1;34m(study, func, catch)\u001B[0m\n\u001B[0;32m    244\u001B[0m         \u001B[38;5;28;01massert\u001B[39;00m \u001B[38;5;28;01mFalse\u001B[39;00m, \u001B[38;5;124m\"\u001B[39m\u001B[38;5;124mShould not reach.\u001B[39m\u001B[38;5;124m\"\u001B[39m\n\u001B[0;32m    246\u001B[0m \u001B[38;5;28;01mif\u001B[39;00m (\n\u001B[0;32m    247\u001B[0m     frozen_trial\u001B[38;5;241m.\u001B[39mstate \u001B[38;5;241m==\u001B[39m TrialState\u001B[38;5;241m.\u001B[39mFAIL\n\u001B[0;32m    248\u001B[0m     \u001B[38;5;129;01mand\u001B[39;00m func_err \u001B[38;5;129;01mis\u001B[39;00m \u001B[38;5;129;01mnot\u001B[39;00m \u001B[38;5;28;01mNone\u001B[39;00m\n\u001B[0;32m    249\u001B[0m     \u001B[38;5;129;01mand\u001B[39;00m \u001B[38;5;129;01mnot\u001B[39;00m \u001B[38;5;28misinstance\u001B[39m(func_err, catch)\n\u001B[0;32m    250\u001B[0m ):\n\u001B[1;32m--> 251\u001B[0m     \u001B[38;5;28;01mraise\u001B[39;00m func_err\n\u001B[0;32m    252\u001B[0m \u001B[38;5;28;01mreturn\u001B[39;00m frozen_trial\n",
      "File \u001B[1;32mC:\\Studium\\MasterStudium\\DRL\\Studienarbeiten\\Studienarbeit2\\DRL_Studienarbeit2_env\\Lib\\site-packages\\optuna\\study\\_optimize.py:200\u001B[0m, in \u001B[0;36m_run_trial\u001B[1;34m(study, func, catch)\u001B[0m\n\u001B[0;32m    198\u001B[0m \u001B[38;5;28;01mwith\u001B[39;00m get_heartbeat_thread(trial\u001B[38;5;241m.\u001B[39m_trial_id, study\u001B[38;5;241m.\u001B[39m_storage):\n\u001B[0;32m    199\u001B[0m     \u001B[38;5;28;01mtry\u001B[39;00m:\n\u001B[1;32m--> 200\u001B[0m         value_or_values \u001B[38;5;241m=\u001B[39m \u001B[43mfunc\u001B[49m\u001B[43m(\u001B[49m\u001B[43mtrial\u001B[49m\u001B[43m)\u001B[49m\n\u001B[0;32m    201\u001B[0m     \u001B[38;5;28;01mexcept\u001B[39;00m exceptions\u001B[38;5;241m.\u001B[39mTrialPruned \u001B[38;5;28;01mas\u001B[39;00m e:\n\u001B[0;32m    202\u001B[0m         \u001B[38;5;66;03m# TODO(mamu): Handle multi-objective cases.\u001B[39;00m\n\u001B[0;32m    203\u001B[0m         state \u001B[38;5;241m=\u001B[39m TrialState\u001B[38;5;241m.\u001B[39mPRUNED\n",
      "Cell \u001B[1;32mIn[18], line 19\u001B[0m, in \u001B[0;36m<lambda>\u001B[1;34m(trial)\u001B[0m\n\u001B[0;32m     17\u001B[0m study_model \u001B[38;5;241m=\u001B[39m \u001B[38;5;124m\"\u001B[39m\u001B[38;5;124mPPO\u001B[39m\u001B[38;5;124m\"\u001B[39m\n\u001B[0;32m     18\u001B[0m study \u001B[38;5;241m=\u001B[39m optuna\u001B[38;5;241m.\u001B[39mcreate_study(study_name\u001B[38;5;241m=\u001B[39mstudy_model, storage\u001B[38;5;241m=\u001B[39m\u001B[38;5;124m\"\u001B[39m\u001B[38;5;124msqlite:///DRL2.db\u001B[39m\u001B[38;5;124m\"\u001B[39m, load_if_exists\u001B[38;5;241m=\u001B[39m\u001B[38;5;28;01mTrue\u001B[39;00m, direction\u001B[38;5;241m=\u001B[39m\u001B[38;5;124m\"\u001B[39m\u001B[38;5;124mmaximize\u001B[39m\u001B[38;5;124m\"\u001B[39m)\n\u001B[1;32m---> 19\u001B[0m study\u001B[38;5;241m.\u001B[39moptimize(\u001B[38;5;28;01mlambda\u001B[39;00m trial: \u001B[43mobjective\u001B[49m\u001B[43m(\u001B[49m\u001B[43mtrial\u001B[49m\u001B[38;5;241;43m=\u001B[39;49m\u001B[43mtrial\u001B[49m\u001B[43m,\u001B[49m\u001B[43m \u001B[49m\u001B[43mmodel\u001B[49m\u001B[38;5;241;43m=\u001B[39;49m\u001B[43mstudy_model\u001B[49m\u001B[43m,\u001B[49m\u001B[43m \u001B[49m\u001B[43mtimesteps\u001B[49m\u001B[38;5;241;43m=\u001B[39;49m\u001B[38;5;241;43m2500\u001B[39;49m\u001B[43m)\u001B[49m, n_trials\u001B[38;5;241m=\u001B[39m\u001B[38;5;241m200\u001B[39m, show_progress_bar\u001B[38;5;241m=\u001B[39m\u001B[38;5;28;01mTrue\u001B[39;00m)\n",
      "Cell \u001B[1;32mIn[17], line 102\u001B[0m, in \u001B[0;36mobjective\u001B[1;34m(trial, model, timesteps)\u001B[0m\n\u001B[0;32m     99\u001B[0m         \u001B[38;5;28;01mreturn\u001B[39;00m\n\u001B[0;32m    101\u001B[0m \u001B[38;5;66;03m# Train the model\u001B[39;00m\n\u001B[1;32m--> 102\u001B[0m \u001B[43mmodel\u001B[49m\u001B[38;5;241;43m.\u001B[39;49m\u001B[43mlearn\u001B[49m\u001B[43m(\u001B[49m\u001B[43mtotal_timesteps\u001B[49m\u001B[38;5;241;43m=\u001B[39;49m\u001B[43mtimesteps\u001B[49m\u001B[43m)\u001B[49m  \u001B[38;5;66;03m# Adjust the total_timesteps as needed\u001B[39;00m\n\u001B[0;32m    104\u001B[0m \u001B[38;5;66;03m# Evaluate the model\u001B[39;00m\n\u001B[0;32m    105\u001B[0m mean_reward \u001B[38;5;241m=\u001B[39m evaluate_model(model, env)\n",
      "File \u001B[1;32mC:\\Studium\\MasterStudium\\DRL\\Studienarbeiten\\Studienarbeit2\\DRL_Studienarbeit2_env\\Lib\\site-packages\\stable_baselines3\\ppo\\ppo.py:315\u001B[0m, in \u001B[0;36mPPO.learn\u001B[1;34m(self, total_timesteps, callback, log_interval, tb_log_name, reset_num_timesteps, progress_bar)\u001B[0m\n\u001B[0;32m    306\u001B[0m \u001B[38;5;28;01mdef\u001B[39;00m \u001B[38;5;21mlearn\u001B[39m(\n\u001B[0;32m    307\u001B[0m     \u001B[38;5;28mself\u001B[39m: SelfPPO,\n\u001B[0;32m    308\u001B[0m     total_timesteps: \u001B[38;5;28mint\u001B[39m,\n\u001B[1;32m   (...)\u001B[0m\n\u001B[0;32m    313\u001B[0m     progress_bar: \u001B[38;5;28mbool\u001B[39m \u001B[38;5;241m=\u001B[39m \u001B[38;5;28;01mFalse\u001B[39;00m,\n\u001B[0;32m    314\u001B[0m ) \u001B[38;5;241m-\u001B[39m\u001B[38;5;241m>\u001B[39m SelfPPO:\n\u001B[1;32m--> 315\u001B[0m     \u001B[38;5;28;01mreturn\u001B[39;00m \u001B[38;5;28;43msuper\u001B[39;49m\u001B[43m(\u001B[49m\u001B[43m)\u001B[49m\u001B[38;5;241;43m.\u001B[39;49m\u001B[43mlearn\u001B[49m\u001B[43m(\u001B[49m\n\u001B[0;32m    316\u001B[0m \u001B[43m        \u001B[49m\u001B[43mtotal_timesteps\u001B[49m\u001B[38;5;241;43m=\u001B[39;49m\u001B[43mtotal_timesteps\u001B[49m\u001B[43m,\u001B[49m\n\u001B[0;32m    317\u001B[0m \u001B[43m        \u001B[49m\u001B[43mcallback\u001B[49m\u001B[38;5;241;43m=\u001B[39;49m\u001B[43mcallback\u001B[49m\u001B[43m,\u001B[49m\n\u001B[0;32m    318\u001B[0m \u001B[43m        \u001B[49m\u001B[43mlog_interval\u001B[49m\u001B[38;5;241;43m=\u001B[39;49m\u001B[43mlog_interval\u001B[49m\u001B[43m,\u001B[49m\n\u001B[0;32m    319\u001B[0m \u001B[43m        \u001B[49m\u001B[43mtb_log_name\u001B[49m\u001B[38;5;241;43m=\u001B[39;49m\u001B[43mtb_log_name\u001B[49m\u001B[43m,\u001B[49m\n\u001B[0;32m    320\u001B[0m \u001B[43m        \u001B[49m\u001B[43mreset_num_timesteps\u001B[49m\u001B[38;5;241;43m=\u001B[39;49m\u001B[43mreset_num_timesteps\u001B[49m\u001B[43m,\u001B[49m\n\u001B[0;32m    321\u001B[0m \u001B[43m        \u001B[49m\u001B[43mprogress_bar\u001B[49m\u001B[38;5;241;43m=\u001B[39;49m\u001B[43mprogress_bar\u001B[49m\u001B[43m,\u001B[49m\n\u001B[0;32m    322\u001B[0m \u001B[43m    \u001B[49m\u001B[43m)\u001B[49m\n",
      "File \u001B[1;32mC:\\Studium\\MasterStudium\\DRL\\Studienarbeiten\\Studienarbeit2\\DRL_Studienarbeit2_env\\Lib\\site-packages\\stable_baselines3\\common\\on_policy_algorithm.py:299\u001B[0m, in \u001B[0;36mOnPolicyAlgorithm.learn\u001B[1;34m(self, total_timesteps, callback, log_interval, tb_log_name, reset_num_timesteps, progress_bar)\u001B[0m\n\u001B[0;32m    296\u001B[0m         \u001B[38;5;28mself\u001B[39m\u001B[38;5;241m.\u001B[39mlogger\u001B[38;5;241m.\u001B[39mrecord(\u001B[38;5;124m\"\u001B[39m\u001B[38;5;124mtime/total_timesteps\u001B[39m\u001B[38;5;124m\"\u001B[39m, \u001B[38;5;28mself\u001B[39m\u001B[38;5;241m.\u001B[39mnum_timesteps, exclude\u001B[38;5;241m=\u001B[39m\u001B[38;5;124m\"\u001B[39m\u001B[38;5;124mtensorboard\u001B[39m\u001B[38;5;124m\"\u001B[39m)\n\u001B[0;32m    297\u001B[0m         \u001B[38;5;28mself\u001B[39m\u001B[38;5;241m.\u001B[39mlogger\u001B[38;5;241m.\u001B[39mdump(step\u001B[38;5;241m=\u001B[39m\u001B[38;5;28mself\u001B[39m\u001B[38;5;241m.\u001B[39mnum_timesteps)\n\u001B[1;32m--> 299\u001B[0m     \u001B[38;5;28;43mself\u001B[39;49m\u001B[38;5;241;43m.\u001B[39;49m\u001B[43mtrain\u001B[49m\u001B[43m(\u001B[49m\u001B[43m)\u001B[49m\n\u001B[0;32m    301\u001B[0m callback\u001B[38;5;241m.\u001B[39mon_training_end()\n\u001B[0;32m    303\u001B[0m \u001B[38;5;28;01mreturn\u001B[39;00m \u001B[38;5;28mself\u001B[39m\n",
      "File \u001B[1;32mC:\\Studium\\MasterStudium\\DRL\\Studienarbeiten\\Studienarbeit2\\DRL_Studienarbeit2_env\\Lib\\site-packages\\stable_baselines3\\ppo\\ppo.py:217\u001B[0m, in \u001B[0;36mPPO.train\u001B[1;34m(self)\u001B[0m\n\u001B[0;32m    214\u001B[0m \u001B[38;5;28;01mif\u001B[39;00m \u001B[38;5;28mself\u001B[39m\u001B[38;5;241m.\u001B[39muse_sde:\n\u001B[0;32m    215\u001B[0m     \u001B[38;5;28mself\u001B[39m\u001B[38;5;241m.\u001B[39mpolicy\u001B[38;5;241m.\u001B[39mreset_noise(\u001B[38;5;28mself\u001B[39m\u001B[38;5;241m.\u001B[39mbatch_size)\n\u001B[1;32m--> 217\u001B[0m values, log_prob, entropy \u001B[38;5;241m=\u001B[39m \u001B[38;5;28;43mself\u001B[39;49m\u001B[38;5;241;43m.\u001B[39;49m\u001B[43mpolicy\u001B[49m\u001B[38;5;241;43m.\u001B[39;49m\u001B[43mevaluate_actions\u001B[49m\u001B[43m(\u001B[49m\u001B[43mrollout_data\u001B[49m\u001B[38;5;241;43m.\u001B[39;49m\u001B[43mobservations\u001B[49m\u001B[43m,\u001B[49m\u001B[43m \u001B[49m\u001B[43mactions\u001B[49m\u001B[43m)\u001B[49m\n\u001B[0;32m    218\u001B[0m values \u001B[38;5;241m=\u001B[39m values\u001B[38;5;241m.\u001B[39mflatten()\n\u001B[0;32m    219\u001B[0m \u001B[38;5;66;03m# Normalize advantage\u001B[39;00m\n",
      "File \u001B[1;32mC:\\Studium\\MasterStudium\\DRL\\Studienarbeiten\\Studienarbeit2\\DRL_Studienarbeit2_env\\Lib\\site-packages\\stable_baselines3\\common\\policies.py:735\u001B[0m, in \u001B[0;36mActorCriticPolicy.evaluate_actions\u001B[1;34m(self, obs, actions)\u001B[0m\n\u001B[0;32m    733\u001B[0m     latent_pi \u001B[38;5;241m=\u001B[39m \u001B[38;5;28mself\u001B[39m\u001B[38;5;241m.\u001B[39mmlp_extractor\u001B[38;5;241m.\u001B[39mforward_actor(pi_features)\n\u001B[0;32m    734\u001B[0m     latent_vf \u001B[38;5;241m=\u001B[39m \u001B[38;5;28mself\u001B[39m\u001B[38;5;241m.\u001B[39mmlp_extractor\u001B[38;5;241m.\u001B[39mforward_critic(vf_features)\n\u001B[1;32m--> 735\u001B[0m distribution \u001B[38;5;241m=\u001B[39m \u001B[38;5;28;43mself\u001B[39;49m\u001B[38;5;241;43m.\u001B[39;49m\u001B[43m_get_action_dist_from_latent\u001B[49m\u001B[43m(\u001B[49m\u001B[43mlatent_pi\u001B[49m\u001B[43m)\u001B[49m\n\u001B[0;32m    736\u001B[0m log_prob \u001B[38;5;241m=\u001B[39m distribution\u001B[38;5;241m.\u001B[39mlog_prob(actions)\n\u001B[0;32m    737\u001B[0m values \u001B[38;5;241m=\u001B[39m \u001B[38;5;28mself\u001B[39m\u001B[38;5;241m.\u001B[39mvalue_net(latent_vf)\n",
      "File \u001B[1;32mC:\\Studium\\MasterStudium\\DRL\\Studienarbeiten\\Studienarbeit2\\DRL_Studienarbeit2_env\\Lib\\site-packages\\stable_baselines3\\common\\policies.py:692\u001B[0m, in \u001B[0;36mActorCriticPolicy._get_action_dist_from_latent\u001B[1;34m(self, latent_pi)\u001B[0m\n\u001B[0;32m    689\u001B[0m mean_actions \u001B[38;5;241m=\u001B[39m \u001B[38;5;28mself\u001B[39m\u001B[38;5;241m.\u001B[39maction_net(latent_pi)\n\u001B[0;32m    691\u001B[0m \u001B[38;5;28;01mif\u001B[39;00m \u001B[38;5;28misinstance\u001B[39m(\u001B[38;5;28mself\u001B[39m\u001B[38;5;241m.\u001B[39maction_dist, DiagGaussianDistribution):\n\u001B[1;32m--> 692\u001B[0m     \u001B[38;5;28;01mreturn\u001B[39;00m \u001B[38;5;28;43mself\u001B[39;49m\u001B[38;5;241;43m.\u001B[39;49m\u001B[43maction_dist\u001B[49m\u001B[38;5;241;43m.\u001B[39;49m\u001B[43mproba_distribution\u001B[49m\u001B[43m(\u001B[49m\u001B[43mmean_actions\u001B[49m\u001B[43m,\u001B[49m\u001B[43m \u001B[49m\u001B[38;5;28;43mself\u001B[39;49m\u001B[38;5;241;43m.\u001B[39;49m\u001B[43mlog_std\u001B[49m\u001B[43m)\u001B[49m\n\u001B[0;32m    693\u001B[0m \u001B[38;5;28;01melif\u001B[39;00m \u001B[38;5;28misinstance\u001B[39m(\u001B[38;5;28mself\u001B[39m\u001B[38;5;241m.\u001B[39maction_dist, CategoricalDistribution):\n\u001B[0;32m    694\u001B[0m     \u001B[38;5;66;03m# Here mean_actions are the logits before the softmax\u001B[39;00m\n\u001B[0;32m    695\u001B[0m     \u001B[38;5;28;01mreturn\u001B[39;00m \u001B[38;5;28mself\u001B[39m\u001B[38;5;241m.\u001B[39maction_dist\u001B[38;5;241m.\u001B[39mproba_distribution(action_logits\u001B[38;5;241m=\u001B[39mmean_actions)\n",
      "File \u001B[1;32mC:\\Studium\\MasterStudium\\DRL\\Studienarbeiten\\Studienarbeit2\\DRL_Studienarbeit2_env\\Lib\\site-packages\\stable_baselines3\\common\\distributions.py:164\u001B[0m, in \u001B[0;36mDiagGaussianDistribution.proba_distribution\u001B[1;34m(self, mean_actions, log_std)\u001B[0m\n\u001B[0;32m    156\u001B[0m \u001B[38;5;250m\u001B[39m\u001B[38;5;124;03m\"\"\"\u001B[39;00m\n\u001B[0;32m    157\u001B[0m \u001B[38;5;124;03mCreate the distribution given its parameters (mean, std)\u001B[39;00m\n\u001B[0;32m    158\u001B[0m \n\u001B[1;32m   (...)\u001B[0m\n\u001B[0;32m    161\u001B[0m \u001B[38;5;124;03m:return:\u001B[39;00m\n\u001B[0;32m    162\u001B[0m \u001B[38;5;124;03m\"\"\"\u001B[39;00m\n\u001B[0;32m    163\u001B[0m action_std \u001B[38;5;241m=\u001B[39m th\u001B[38;5;241m.\u001B[39mones_like(mean_actions) \u001B[38;5;241m*\u001B[39m log_std\u001B[38;5;241m.\u001B[39mexp()\n\u001B[1;32m--> 164\u001B[0m \u001B[38;5;28mself\u001B[39m\u001B[38;5;241m.\u001B[39mdistribution \u001B[38;5;241m=\u001B[39m \u001B[43mNormal\u001B[49m\u001B[43m(\u001B[49m\u001B[43mmean_actions\u001B[49m\u001B[43m,\u001B[49m\u001B[43m \u001B[49m\u001B[43maction_std\u001B[49m\u001B[43m)\u001B[49m\n\u001B[0;32m    165\u001B[0m \u001B[38;5;28;01mreturn\u001B[39;00m \u001B[38;5;28mself\u001B[39m\n",
      "File \u001B[1;32mC:\\Studium\\MasterStudium\\DRL\\Studienarbeiten\\Studienarbeit2\\DRL_Studienarbeit2_env\\Lib\\site-packages\\torch\\distributions\\normal.py:56\u001B[0m, in \u001B[0;36mNormal.__init__\u001B[1;34m(self, loc, scale, validate_args)\u001B[0m\n\u001B[0;32m     54\u001B[0m \u001B[38;5;28;01melse\u001B[39;00m:\n\u001B[0;32m     55\u001B[0m     batch_shape \u001B[38;5;241m=\u001B[39m \u001B[38;5;28mself\u001B[39m\u001B[38;5;241m.\u001B[39mloc\u001B[38;5;241m.\u001B[39msize()\n\u001B[1;32m---> 56\u001B[0m \u001B[38;5;28;43msuper\u001B[39;49m\u001B[43m(\u001B[49m\u001B[43m)\u001B[49m\u001B[38;5;241;43m.\u001B[39;49m\u001B[38;5;21;43m__init__\u001B[39;49m\u001B[43m(\u001B[49m\u001B[43mbatch_shape\u001B[49m\u001B[43m,\u001B[49m\u001B[43m \u001B[49m\u001B[43mvalidate_args\u001B[49m\u001B[38;5;241;43m=\u001B[39;49m\u001B[43mvalidate_args\u001B[49m\u001B[43m)\u001B[49m\n",
      "File \u001B[1;32mC:\\Studium\\MasterStudium\\DRL\\Studienarbeiten\\Studienarbeit2\\DRL_Studienarbeit2_env\\Lib\\site-packages\\torch\\distributions\\distribution.py:68\u001B[0m, in \u001B[0;36mDistribution.__init__\u001B[1;34m(self, batch_shape, event_shape, validate_args)\u001B[0m\n\u001B[0;32m     66\u001B[0m         valid \u001B[38;5;241m=\u001B[39m constraint\u001B[38;5;241m.\u001B[39mcheck(value)\n\u001B[0;32m     67\u001B[0m         \u001B[38;5;28;01mif\u001B[39;00m \u001B[38;5;129;01mnot\u001B[39;00m valid\u001B[38;5;241m.\u001B[39mall():\n\u001B[1;32m---> 68\u001B[0m             \u001B[38;5;28;01mraise\u001B[39;00m \u001B[38;5;167;01mValueError\u001B[39;00m(\n\u001B[0;32m     69\u001B[0m                 \u001B[38;5;124mf\u001B[39m\u001B[38;5;124m\"\u001B[39m\u001B[38;5;124mExpected parameter \u001B[39m\u001B[38;5;132;01m{\u001B[39;00mparam\u001B[38;5;132;01m}\u001B[39;00m\u001B[38;5;124m \u001B[39m\u001B[38;5;124m\"\u001B[39m\n\u001B[0;32m     70\u001B[0m                 \u001B[38;5;124mf\u001B[39m\u001B[38;5;124m\"\u001B[39m\u001B[38;5;124m(\u001B[39m\u001B[38;5;132;01m{\u001B[39;00m\u001B[38;5;28mtype\u001B[39m(value)\u001B[38;5;241m.\u001B[39m\u001B[38;5;18m__name__\u001B[39m\u001B[38;5;132;01m}\u001B[39;00m\u001B[38;5;124m of shape \u001B[39m\u001B[38;5;132;01m{\u001B[39;00m\u001B[38;5;28mtuple\u001B[39m(value\u001B[38;5;241m.\u001B[39mshape)\u001B[38;5;132;01m}\u001B[39;00m\u001B[38;5;124m) \u001B[39m\u001B[38;5;124m\"\u001B[39m\n\u001B[0;32m     71\u001B[0m                 \u001B[38;5;124mf\u001B[39m\u001B[38;5;124m\"\u001B[39m\u001B[38;5;124mof distribution \u001B[39m\u001B[38;5;132;01m{\u001B[39;00m\u001B[38;5;28mrepr\u001B[39m(\u001B[38;5;28mself\u001B[39m)\u001B[38;5;132;01m}\u001B[39;00m\u001B[38;5;124m \u001B[39m\u001B[38;5;124m\"\u001B[39m\n\u001B[0;32m     72\u001B[0m                 \u001B[38;5;124mf\u001B[39m\u001B[38;5;124m\"\u001B[39m\u001B[38;5;124mto satisfy the constraint \u001B[39m\u001B[38;5;132;01m{\u001B[39;00m\u001B[38;5;28mrepr\u001B[39m(constraint)\u001B[38;5;132;01m}\u001B[39;00m\u001B[38;5;124m, \u001B[39m\u001B[38;5;124m\"\u001B[39m\n\u001B[0;32m     73\u001B[0m                 \u001B[38;5;124mf\u001B[39m\u001B[38;5;124m\"\u001B[39m\u001B[38;5;124mbut found invalid values:\u001B[39m\u001B[38;5;130;01m\\n\u001B[39;00m\u001B[38;5;132;01m{\u001B[39;00mvalue\u001B[38;5;132;01m}\u001B[39;00m\u001B[38;5;124m\"\u001B[39m\n\u001B[0;32m     74\u001B[0m             )\n\u001B[0;32m     75\u001B[0m \u001B[38;5;28msuper\u001B[39m()\u001B[38;5;241m.\u001B[39m\u001B[38;5;21m__init__\u001B[39m()\n",
      "\u001B[1;31mValueError\u001B[0m: Expected parameter loc (Tensor of shape (28, 2)) of distribution Normal(loc: torch.Size([28, 2]), scale: torch.Size([28, 2])) to satisfy the constraint Real(), but found invalid values:\ntensor([[nan, nan],\n        [nan, nan],\n        [nan, nan],\n        [nan, nan],\n        [nan, nan],\n        [nan, nan],\n        [nan, nan],\n        [nan, nan],\n        [nan, nan],\n        [nan, nan],\n        [nan, nan],\n        [nan, nan],\n        [nan, nan],\n        [nan, nan],\n        [nan, nan],\n        [nan, nan],\n        [nan, nan],\n        [nan, nan],\n        [nan, nan],\n        [nan, nan],\n        [nan, nan],\n        [nan, nan],\n        [nan, nan],\n        [nan, nan],\n        [nan, nan],\n        [nan, nan],\n        [nan, nan],\n        [nan, nan]], device='cuda:0', grad_fn=<AddmmBackward0>)"
     ]
    }
   ],
   "source": [
    "#study_model = \"SAC\"\n",
    "#study = optuna.create_study(study_name=study_model, storage=\"sqlite:///DRL2.db\", load_if_exists=True, direction=\"maximize\")\n",
    "#study.optimize(lambda trial: objective(trial=trial, model=study_model, timesteps=2500), n_trials=195, show_progress_bar=True)\n",
    "\n",
    "#study_model = \"DDPG\"\n",
    "#study = optuna.create_study(study_name=study_model, storage=\"sqlite:///DRL2.db\", load_if_exists=True, direction=\"maximize\")\n",
    "#study.optimize(lambda trial: objective(trial=trial, model=study_model, timesteps=2500), n_trials=200, show_progress_bar=True)\n",
    "\n",
    "#study_model = \"TD3\"\n",
    "#study = optuna.create_study(study_name=study_model, storage=\"sqlite:///DRL2.db\", load_if_exists=True, direction=\"maximize\")\n",
    "#study.optimize(lambda trial: objective(trial=trial, model=study_model, timesteps=2500), n_trials=200, show_progress_bar=True)\n",
    "\n",
    "#study_model = \"A2C\"\n",
    "#study = optuna.create_study(study_name=study_model, storage=\"sqlite:///DRL2.db\", load_if_exists=True, direction=\"maximize\")\n",
    "#study.optimize(lambda trial: objective(trial=trial, model=study_model, timesteps=2500), n_trials=200, show_progress_bar=True)\n",
    "\n",
    "study_model = \"PPO\"\n",
    "study = optuna.create_study(study_name=study_model, storage=\"sqlite:///DRL2.db\", load_if_exists=True, direction=\"maximize\")\n",
    "study.optimize(lambda trial: objective(trial=trial, model=study_model, timesteps=2500), n_trials=200, show_progress_bar=True)"
   ]
  },
  {
   "cell_type": "markdown",
   "id": "d463c923",
   "metadata": {},
   "source": [
    "## Model training <a class=\"anchor\" id=\"4\"></a>"
   ]
  },
  {
   "cell_type": "code",
   "execution_count": 19,
   "id": "8de89c14af6b7867",
   "metadata": {
    "collapsed": false,
    "ExecuteTime": {
     "end_time": "2024-01-28T15:25:02.176720500Z",
     "start_time": "2024-01-28T15:25:02.149339200Z"
    }
   },
   "outputs": [],
   "source": [
    "def learn_model(env, model, hyperparameters, timesteps, monitor_dir, model_dir):\n",
    "    \"\"\"\n",
    "    Trains a reinforcement learning model in the specified environment using the given hyperparameters and saves the trained model.\n",
    "\n",
    "    Parameters:\n",
    "    - env: The environment in which the model is trained.\n",
    "    - model (str): The type of reinforcement learning model to be trained. Supported options: \"DDPG\", \"TD3\", \"SAC\", \"A2C\", \"PPO\".\n",
    "    - hyperparameters: Dictionary containing hyperparameters for the specified model.\n",
    "    - timesteps (int): The total number of training timesteps.\n",
    "    - monitor_dir (str): The directory for monitoring the training progress.\n",
    "    - model_dir (str): The directory to save the trained model.\n",
    "\n",
    "    Returns:\n",
    "    None\n",
    "\n",
    "    Example:\n",
    "    >>> environment = ...  # Initialize your environment\n",
    "    >>> model_type = \"DDPG\"\n",
    "    >>> hyperparams = {'learning_starts': 50, 'learning_rate': 1e-4, 'gamma': 0.99, 'tau': 0.001, 'batch_size': 64}\n",
    "    >>> total_timesteps = 10000\n",
    "    >>> monitor_directory = \"/path/to/monitor\"\n",
    "    >>> model_directory = \"/path/to/save/model\"\n",
    "    >>> learn_model(environment, model_type, hyperparams, total_timesteps, monitor_directory, model_directory)\n",
    "    \"\"\"\n",
    "    env = Monitor(env, monitor_dir)\n",
    "\n",
    "    match model:\n",
    "        case \"DDPG\":\n",
    "            model = DDPG(env=env, policy=\"MlpPolicy\", **hyperparameters)\n",
    "        case \"TD3\":\n",
    "            model = TD3(env = env, policy=\"MlpPolicy\" ,**hyperparameters)\n",
    "\n",
    "        case \"SAC\":\n",
    "            model = SAC(env = env, policy=\"MlpPolicy\", **hyperparameters)\n",
    "\n",
    "        case \"A2C\":\n",
    "            model = A2C(env = env, policy=\"MlpPolicy\", **hyperparameters)\n",
    "\n",
    "        case \"PPO\":\n",
    "            model = PPO(env = env, policy=\"MlpPolicy\", **hyperparameters)        \n",
    "        case _:\n",
    "            print(\"Unsupported model. Try DDPG, TD3, SAC, A2C or PPO instead\")\n",
    "            return\n",
    "    \n",
    "    model.learn(total_timesteps=timesteps, progress_bar=True)\n",
    "    model.save(model_dir)\n",
    "    env.close()\n",
    "    _, _ = env.reset()\n",
    "    del model\n"
   ]
  },
  {
   "cell_type": "code",
   "execution_count": 20,
   "id": "f2bc2b73",
   "metadata": {
    "ExecuteTime": {
     "end_time": "2024-01-28T15:25:04.051793200Z",
     "start_time": "2024-01-28T15:25:04.023768700Z"
    }
   },
   "outputs": [],
   "source": [
    "def load_best_paramerters(study_name, storage):\n",
    "    \"\"\"\n",
    "    Loads the best hyperparameters from an Optuna study.\n",
    "\n",
    "    Parameters:\n",
    "    - study_name (str): The name of the Optuna study.\n",
    "    - storage (str): The storage URL for the Optuna study.\n",
    "\n",
    "    Returns:\n",
    "    dict: A dictionary containing the best hyperparameters from the study.\n",
    "\n",
    "    Example:\n",
    "    >>> study_name = \"my_study\"\n",
    "    >>> storage_url = \"sqlite:///example.db\"\n",
    "    >>> best_parameters = load_best_parameters(study_name, storage_url)\n",
    "    >>> print(best_parameters)\n",
    "    \"\"\"\n",
    "    loaded_study = optuna.load_study(study_name=study_name, storage=storage)\n",
    "    best_params = loaded_study.best_trial.params\n",
    "    return best_params"
   ]
  },
  {
   "cell_type": "code",
   "execution_count": 29,
   "id": "7dac46d481acd2a3",
   "metadata": {
    "collapsed": false,
    "ExecuteTime": {
     "end_time": "2024-01-28T15:43:25.950566400Z",
     "start_time": "2024-01-28T15:28:11.795850600Z"
    }
   },
   "outputs": [
    {
     "name": "stderr",
     "output_type": "stream",
     "text": [
      "C:\\Studium\\MasterStudium\\DRL\\Studienarbeiten\\Studienarbeit2\\DRL_Studienarbeit2_env\\Lib\\site-packages\\stable_baselines3\\ppo\\ppo.py:155: UserWarning: You have specified a mini-batch size of 668, but because the `RolloutBuffer` is of size `n_steps * n_envs = 3250`, after every 4 untruncated mini-batches, there will be a truncated mini-batch of size 578\n",
      "We recommend using a `batch_size` that is a factor of `n_steps * n_envs`.\n",
      "Info: (n_steps=3250 and n_envs=1)\n",
      "  warnings.warn(\n"
     ]
    }
   ],
   "source": [
    "env = gymnasium.make(ENV_ID)\n",
    "ddpg_params = load_best_paramerters(\"DDPG\", \"sqlite:///DRL2.db\")\n",
    "learn_model(env=env, model=\"DDPG\", hyperparameters=ddpg_params, timesteps=10000, monitor_dir=\"logs/ddpg\", model_dir=\"models/ddpg\")\n",
    "\n",
    "td3_params = load_best_paramerters(\"TD3\", \"sqlite:///DRL2.db\")\n",
    "learn_model(env = env, model=\"TD3\", hyperparameters=td3_params, timesteps=10000, monitor_dir=\"logs/td3\", model_dir=\"models/td3\")\n",
    "\n",
    "a2c_params = load_best_paramerters(\"A2C\", \"sqlite:///DRL2.db\")\n",
    "learn_model(env = env, model=\"A2C\", hyperparameters=a2c_params, timesteps=10000, monitor_dir=\"logs/a2c\", model_dir=\"models/a2c\")\n",
    "\n",
    "ppo_params = load_best_paramerters(\"PPO\", \"sqlite:///DRL2.db\")\n",
    "learn_model(env = env, model=\"PPO\", hyperparameters=ppo_params, timesteps=10000, monitor_dir=\"logs/ppo\", model_dir=\"models/ppo\")\n",
    "\n",
    "sac_params = load_best_paramerters(\"SAC\", \"sqlite:///DRL2.db\")\n",
    "learn_model(env = env, model=\"SAC\", hyperparameters=sac_params, timesteps=10000, monitor_dir=\"logs/sac\", model_dir=\"models/sac\")\n"
   ]
  },
  {
   "cell_type": "code",
   "execution_count": 30,
   "id": "3ff82e7b",
   "metadata": {
    "ExecuteTime": {
     "end_time": "2024-01-28T15:44:46.720681700Z",
     "start_time": "2024-01-28T15:44:46.694684500Z"
    }
   },
   "outputs": [],
   "source": [
    "def run_env(env, model):\n",
    "    \"\"\"\n",
    "    Runs the specified reinforcement learning model in the given environment.\n",
    "\n",
    "    Parameters:\n",
    "    - env: The environment in which the model is run.\n",
    "    - model: The reinforcement learning model to be run in the environment.\n",
    "\n",
    "    Returns:\n",
    "    None\n",
    "\n",
    "    Example:\n",
    "    >>> environment = ...  # Initialize your environment\n",
    "    >>> trained_model = ...  # Initialize or load your trained model\n",
    "    >>> run_env(environment, trained_model)\n",
    "    \"\"\"\n",
    "    obs, info = env.reset()\n",
    "    done = False\n",
    "    reward_list = []\n",
    "    observation_list = []\n",
    "    while not done:\n",
    "        action, _states = model.predict(obs)\n",
    "        obs, rewards, done, info, _ = env.step(action)\n",
    "        observation_list.append(obs)\n",
    "        reward_list.append(rewards)\n",
    "    print(\"Final state:\")\n",
    "    env.render()\n",
    "    return "
   ]
  },
  {
   "cell_type": "code",
   "execution_count": 31,
   "id": "e8ac2833",
   "metadata": {
    "ExecuteTime": {
     "end_time": "2024-01-28T15:44:47.666995600Z",
     "start_time": "2024-01-28T15:44:47.645476800Z"
    }
   },
   "outputs": [],
   "source": [
    "def plot_cumulative_rewards(rewards):\n",
    "    \"\"\"\n",
    "    Plots the cumulative rewards over episodes for different keys.\n",
    "\n",
    "    Parameters:\n",
    "    - rewards (dict): A dictionary where keys represent different series and values are lists of rewards.\n",
    "\n",
    "    Returns:\n",
    "    None\n",
    "\n",
    "    Example:\n",
    "    >>> rewards_data = {'Series1': [1, 3, 5, 2], 'Series2': [2, 4, 6, 8]}\n",
    "    >>> plot_cumulative_rewards(rewards_data)\n",
    "    \"\"\"\n",
    "    \n",
    "    # Calculate the cumulative sum of the list elements\n",
    "    cumulative_rewards = {key: np.cumsum(value) for key, value in rewards.items()}\n",
    "\n",
    "    # Plot the cumulative rewards\n",
    "    for key, value in cumulative_rewards.items():\n",
    "        plt.plot(value, label=key)\n",
    "\n",
    "    plt.xlabel('Episode')\n",
    "    plt.ylabel('Cumulative Reward')\n",
    "    plt.legend()\n",
    "    plt.show()\n"
   ]
  },
  {
   "cell_type": "code",
   "execution_count": 32,
   "id": "d16f8fa998e2ae70",
   "metadata": {
    "collapsed": false,
    "ExecuteTime": {
     "end_time": "2024-01-28T15:44:48.349207400Z",
     "start_time": "2024-01-28T15:44:48.325186800Z"
    }
   },
   "outputs": [],
   "source": [
    "def load_log(path):\n",
    "    \"\"\"\n",
    "    Parameters:\n",
    "    - path (str): The file path to the CSV file containing training data.\n",
    "\n",
    "    Returns:\n",
    "    list: A list of numerical values extracted from the CSV file, which represent the return of an episode.\n",
    "\n",
    "    Example:\n",
    "    >>> file_path = \"path/to/numeric_data.csv\"\n",
    "    >>> numeric_data = load_log(file_path)\n",
    "    >>> print(numeric_data)\n",
    "    \"\"\"\n",
    "\n",
    "    data =  pd.read_csv(path, index_col=None).index.tolist()[1:]    \n",
    "    return [float(x) for x in data]"
   ]
  },
  {
   "cell_type": "code",
   "execution_count": 33,
   "id": "40f7ed5cff9b5017",
   "metadata": {
    "collapsed": false,
    "ExecuteTime": {
     "end_time": "2024-01-28T15:44:49.673063800Z",
     "start_time": "2024-01-28T15:44:49.309753100Z"
    }
   },
   "outputs": [
    {
     "data": {
      "text/plain": "<Figure size 640x480 with 1 Axes>",
      "image/png": "[encoded data removed]"
     },
     "metadata": {},
     "output_type": "display_data"
    }
   ],
   "source": [
    "test = gymnasium.make(ENV_ID)\n",
    "sac = SAC.load(\"models/sac.zip\")\n",
    "td3 = TD3.load(\"models/td3.zip\")\n",
    "ddpg = DDPG.load(\"models/ddpg.zip\")\n",
    "ppo = PPO.load(\"models/ppo.zip\")\n",
    "a2c = A2C.load(\"models/a2c.zip\")\n",
    "\n",
    "rewards = {}\n",
    "rewards[\"td3\"] = load_log(\"logs/td3.monitor.csv\")\n",
    "rewards[\"sac\"] = load_log(\"logs/sac.monitor.csv\")\n",
    "rewards[\"ddpg\"] = load_log(\"logs/ddpg.monitor.csv\")\n",
    "rewards[\"a2c\"] = load_log(\"logs/a2c.monitor.csv\")\n",
    "rewards[\"ppo\"] = load_log(\"logs/ppo.monitor.csv\")\n",
    "\n",
    "plot_cumulative_rewards(rewards)"
   ]
  },
  {
   "cell_type": "code",
   "execution_count": 38,
   "id": "b2ffd85a423e7735",
   "metadata": {
    "collapsed": false,
    "ExecuteTime": {
     "end_time": "2024-01-28T15:45:27.657110800Z",
     "start_time": "2024-01-28T15:45:27.329829300Z"
    }
   },
   "outputs": [
    {
     "name": "stdout",
     "output_type": "stream",
     "text": [
      "Final state:\n"
     ]
    },
    {
     "data": {
      "text/plain": "<Figure size 640x480 with 1 Axes>",
      "image/png": "[encoded data removed]"
     },
     "metadata": {},
     "output_type": "display_data"
    }
   ],
   "source": [
    "run_env(test, a2c)"
   ]
  },
  {
   "cell_type": "code",
   "execution_count": null,
   "id": "9ab106eac48bc3c6",
   "metadata": {
    "collapsed": false
   },
   "outputs": [],
   "source": []
  }
 ],
 "metadata": {
  "kernelspec": {
   "display_name": "Python 3 (ipykernel)",
   "language": "python",
   "name": "python3"
  },
  "language_info": {
   "codemirror_mode": {
    "name": "ipython",
    "version": 3
   },
   "file_extension": ".py",
   "mimetype": "text/x-python",
   "name": "python",
   "nbconvert_exporter": "python",
   "pygments_lexer": "ipython3",
   "version": "3.11.7"
  }
 },
 "nbformat": 4,
 "nbformat_minor": 5
}
