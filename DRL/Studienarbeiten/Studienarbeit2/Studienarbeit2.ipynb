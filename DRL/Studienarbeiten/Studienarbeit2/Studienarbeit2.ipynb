{
 "cells": [
  {
   "cell_type": "code",
   "execution_count": 1,
   "id": "initial_id",
   "metadata": {
    "collapsed": true,
    "jupyter": {
     "outputs_hidden": true
    },
    "ExecuteTime": {
     "end_time": "2024-01-10T09:56:11.518427130Z",
     "start_time": "2024-01-10T09:56:08.719438013Z"
    }
   },
   "outputs": [
    {
     "name": "stdout",
     "output_type": "stream",
     "text": [
      "pygame 2.5.2 (SDL 2.28.2, Python 3.10.12)\n",
      "Hello from the pygame community. https://www.pygame.org/contribute.html\n"
     ]
    }
   ],
   "source": [
    "%load_ext autoreload\n",
    "import race\n",
    "import math\n",
    "import random\n",
    "\n",
    "import gym\n",
    "import numpy as np\n",
    "\n",
    "import torch\n",
    "import torch.nn as nn\n",
    "import torch.optim as optim\n",
    "import torch.nn.functional as F\n",
    "from torch.distributions import Normal\n",
    "\n",
    "from IPython.display import clear_output\n",
    "import matplotlib.pyplot as plt\n",
    "import optuna\n",
    "%matplotlib inline\n",
    "%reload_ext autoreload"
   ]
  },
  {
   "cell_type": "code",
   "execution_count": 2,
   "id": "edaaebe4",
   "metadata": {
    "ExecuteTime": {
     "end_time": "2024-01-10T09:56:11.957609067Z",
     "start_time": "2024-01-10T09:56:11.522955351Z"
    }
   },
   "outputs": [
    {
     "name": "stderr",
     "output_type": "stream",
     "text": [
      "/home/fabian/MasterStudium/PythonEnvironment/lib/python3.10/site-packages/stable_baselines3/common/env_checker.py:441: UserWarning: We recommend you to use a symmetric and normalized Box action space (range=[-1, 1]) cf. https://stable-baselines3.readthedocs.io/en/master/guide/rl_tips.html\n",
      "  warnings.warn(\n",
      "/home/fabian/MasterStudium/PythonEnvironment/lib/python3.10/site-packages/stable_baselines3/common/env_checker.py:452: UserWarning: Your action space has dtype float64, we recommend using np.float32 to avoid cast errors.\n",
      "  warnings.warn(\n"
     ]
    }
   ],
   "source": [
    "from stable_baselines3.common.env_checker import check_env\n",
    "import CurvyRaceEnv\n",
    "test = CurvyRaceEnv.CurvyRaceEnv()\n",
    "check_env(test)"
   ]
  },
  {
   "cell_type": "code",
   "execution_count": 3,
   "id": "fa86b0e045ad909a",
   "metadata": {
    "collapsed": false,
    "ExecuteTime": {
     "end_time": "2024-01-10T09:56:11.967672213Z",
     "start_time": "2024-01-10T09:56:11.963455251Z"
    }
   },
   "outputs": [],
   "source": [
    "from gymnasium.envs.registration import register\n",
    "\n",
    "register(\n",
    "     id=\"CurvyRaceEnv-v0\",\n",
    "     entry_point=\"CurvyRaceEnv:CurvyRaceEnv\",\n",
    "     max_episode_steps=100,\n",
    ")"
   ]
  },
  {
   "cell_type": "code",
   "execution_count": 4,
   "id": "32b1fe498c931556",
   "metadata": {
    "collapsed": false,
    "ExecuteTime": {
     "end_time": "2024-01-10T09:56:12.034734999Z",
     "start_time": "2024-01-10T09:56:11.968791314Z"
    }
   },
   "outputs": [],
   "source": [
    "from typing import Any\n",
    "from typing import Dict\n",
    "\n",
    "import gymnasium\n",
    "import optuna\n",
    "from optuna.pruners import MedianPruner\n",
    "from optuna.samplers import TPESampler\n",
    "from stable_baselines3 import A2C\n",
    "from stable_baselines3.common.callbacks import EvalCallback\n",
    "from stable_baselines3.common.monitor import Monitor\n",
    "from stable_baselines3.common.callbacks import StopTrainingOnNoModelImprovement\n",
    "from stable_baselines3.common.callbacks import EvalCallback, BaseCallback\n",
    "\n",
    "import torch\n",
    "import torch.nn as nn\n",
    "import time\n",
    "N_TRIALS = 10000\n",
    "N_STARTUP_TRIALS = 5\n",
    "N_EVALUATIONS = 2\n",
    "N_TIMESTEPS = 20000\n",
    "EVAL_FREQ = int(N_TIMESTEPS / N_EVALUATIONS)\n",
    "N_EVAL_EPISODES = 3\n",
    "\n",
    "ENV_ID = \"CurvyRaceEnv-v0\"\n",
    "\n",
    "DEFAULT_HYPERPARAMS = {\n",
    "    \"policy\": \"MlpPolicy\",\n",
    "    \"env\": ENV_ID,\n",
    "}"
   ]
  },
  {
   "cell_type": "code",
   "execution_count": 5,
   "outputs": [],
   "source": [
    "def evaluate_model(model, env, num_episodes=100):  \n",
    "    \n",
    "    total_reward = 0.0\n",
    "    for _ in range(num_episodes):\n",
    "        obs, info = env.reset()\n",
    "        done = False\n",
    "        while not done:\n",
    "            action, _ = model.predict(obs)\n",
    "            obs, reward, done,info, _ = env.step(action)\n",
    "            total_reward += reward\n",
    "    mean_reward = total_reward / num_episodes\n",
    "    return mean_reward"
   ],
   "metadata": {
    "collapsed": false,
    "ExecuteTime": {
     "end_time": "2024-01-10T09:56:12.035623877Z",
     "start_time": "2024-01-10T09:56:12.019915587Z"
    }
   },
   "id": "a6f149d374e7d57f"
  },
  {
   "cell_type": "code",
   "execution_count": 6,
   "id": "eb81230539142dfb",
   "metadata": {
    "collapsed": false,
    "ExecuteTime": {
     "end_time": "2024-01-10T09:56:12.074362175Z",
     "start_time": "2024-01-10T09:56:12.030684117Z"
    }
   },
   "outputs": [],
   "source": [
    "from stable_baselines3 import A2C, PPO, TD3, DDPG\n",
    "from stable_baselines3.common.noise import NormalActionNoise, OrnsteinUhlenbeckActionNoise\n",
    "\n",
    "def objective(trial: optuna.Trial) -> float:   \n",
    "    hyperparams = {\n",
    "        \"neg_reward_small\": trial.suggest_int(\"neg_reward_small\", -10, -1),\n",
    "        \"neg_reward_big\": trial.suggest_int(\"neg_reward_big\", -50, -10),\n",
    "        \"pos_reward_factor\": trial.suggest_int(\"pos_reward_factor\", 1, 20),\n",
    "        'learning_rate': trial.suggest_float('learning_rate', 1e-5, 1e-1, log=True),\n",
    "        'buffer_size': trial.suggest_int('buffer_size', 1000, 100000),\n",
    "        'gamma': trial.suggest_float('gamma', 0.9, 0.999),\n",
    "        'tau': trial.suggest_float('tau', 1e-3, 1e-1, log=True)   \n",
    "    }\n",
    "    # Define the environment\n",
    "    env = gymnasium.make('CurvyRaceEnv-v0', pos_reward_factor=hyperparams[\"pos_reward_factor\"],neg_reward_small=hyperparams[\"neg_reward_small\"],neg_reward_big=hyperparams[\"neg_reward_big\"])  \n",
    "    \n",
    "\n",
    "\n",
    "    \n",
    "    \n",
    "    \n",
    "\n",
    "    # Create and train the DDPG model\n",
    "    model = DDPG('MlpPolicy', env, learning_rate=hyperparams['learning_rate'], buffer_size=hyperparams['buffer_size'],\n",
    "                 gamma=hyperparams['gamma'], tau=hyperparams['tau'],\n",
    "                 action_noise=NormalActionNoise(mean=np.zeros(env.action_space.shape), sigma=0.1 * np.ones(env.action_space.shape)))\n",
    "    \n",
    "    # Train the model\n",
    "    model.learn(total_timesteps=10000)  # Adjust the total_timesteps as needed\n",
    "\n",
    "    # Evaluate the model\n",
    "    mean_reward = evaluate_model(model, env)\n",
    "\n",
    "    return mean_reward"
   ]
  },
  {
   "cell_type": "code",
   "execution_count": 7,
   "id": "c97768c52d3d9ed4",
   "metadata": {
    "collapsed": false,
    "ExecuteTime": {
     "end_time": "2024-01-10T09:56:12.075352297Z",
     "start_time": "2024-01-10T09:56:12.074266777Z"
    }
   },
   "outputs": [],
   "source": [
    "#study = optuna.create_study(study_name=\"DDPG\", storage=\"sqlite:///DRL2.db\", load_if_exists=True, direction=\"maximize\")\n",
    "#study.optimize(objective, n_trials=N_TRIALS, show_progress_bar=True)"
   ]
  },
  {
   "cell_type": "code",
   "execution_count": 8,
   "id": "7dac46d481acd2a3",
   "metadata": {
    "collapsed": false,
    "ExecuteTime": {
     "end_time": "2024-01-10T09:57:35.482849518Z",
     "start_time": "2024-01-10T09:56:12.074389586Z"
    }
   },
   "outputs": [
    {
     "name": "stderr",
     "output_type": "stream",
     "text": [
      "/home/fabian/MasterStudium/PythonEnvironment/lib/python3.10/site-packages/gymnasium/utils/passive_env_checker.py:181: DeprecationWarning: \u001B[33mWARN: Current gymnasium version requires that `Env.reset` can be passed `options` to allow the environment initialisation to be passed additional information.\u001B[0m\n",
      "  logger.deprecation(\n"
     ]
    }
   ],
   "source": [
    "from stable_baselines3.common.env_util import make_vec_env\n",
    "from stable_baselines3 import DDPG, TD3, SAC\n",
    "from stable_baselines3.common.noise import NormalActionNoise, OrnsteinUhlenbeckActionNoise\n",
    "\n",
    "\n",
    "env = gymnasium.make(\"CurvyRaceEnv-v0\")\n",
    "env = Monitor(env, \"logs/sac\")\n",
    "#model_ddpg = DDPG(\"MlpPolicy\", env,  learning_rate=0.004859847958257243,tau=0.06431401009446525,  gamma = 0.9703705891833702, buffer_size=82149)\n",
    "#model_ddpg.learn(total_timesteps=10000)\n",
    "#model_ddpg.save(\"models/model_ddpg\")\n",
    "#_, _ = env.reset()\n",
    "#del model_ddpg\n",
    "\n",
    "#env = Monitor(env, \"logs/td3\")\n",
    "#model_td3 = TD3(\"MlpPolicy\", env,  learning_rate=2e-3,policy_kwargs=dict(net_arch=[400,300]), learning_starts=5000,gradient_steps=-1, gamma = 0.9, buffer_size=200000)\n",
    "#model_td3.learn(total_timesteps=25000)\n",
    "#model_td3.save(\"models/model_td3\")\n",
    "#_, _ = env.reset()\n",
    "#del model_td3\n",
    "\n",
    "env = Monitor(env, \"logs/sac\")\n",
    "model_sac = SAC(\"MlpPolicy\", env,  learning_rate=0.004859847958257243,tau=0.06431401009446525,  gamma = 0.9703705891833702, buffer_size=82149)\n",
    "model_sac.learn(total_timesteps=5000)\n",
    "model_sac.save(\"models/model_sac\")\n",
    "_, _ = env.reset()\n",
    "del model_sac"
   ]
  },
  {
   "cell_type": "code",
   "execution_count": 9,
   "outputs": [],
   "source": [
    "env.close()"
   ],
   "metadata": {
    "collapsed": false,
    "ExecuteTime": {
     "end_time": "2024-01-10T09:57:35.513658366Z",
     "start_time": "2024-01-10T09:57:35.493770485Z"
    }
   },
   "id": "ae662d1d8ac89e70"
  },
  {
   "cell_type": "code",
   "execution_count": 10,
   "id": "3ff82e7b",
   "metadata": {
    "ExecuteTime": {
     "end_time": "2024-01-10T09:57:35.575923411Z",
     "start_time": "2024-01-10T09:57:35.523897295Z"
    }
   },
   "outputs": [],
   "source": [
    "def run_env(env, model):\n",
    "    obs, info = env.reset()\n",
    "    done = False\n",
    "    reward_list = []\n",
    "    observation_list = []\n",
    "    while not done:\n",
    "        action, _states = model.predict(obs)\n",
    "        print(action)\n",
    "        obs, rewards, done, info, _ = env.step(action)\n",
    "        observation_list.append(obs)\n",
    "        reward_list.append(rewards)\n",
    "    env.render()    \n",
    "    return reward_list"
   ]
  },
  {
   "cell_type": "code",
   "execution_count": 11,
   "id": "e8ac2833",
   "metadata": {
    "ExecuteTime": {
     "end_time": "2024-01-10T09:57:35.608830933Z",
     "start_time": "2024-01-10T09:57:35.544098064Z"
    }
   },
   "outputs": [],
   "source": [
    "import numpy as np\n",
    "import matplotlib.pyplot as plt\n",
    "\n",
    "def plot_cumulative_rewards(rewards):\n",
    "    \"\"\"\n",
    "    Plots the cumulative rewards per episode.\n",
    "    \"\"\"\n",
    "    # Calculate the cumulative sum of the list elements\n",
    "    cumulative_rewards = {key: np.cumsum(value) for key, value in rewards.items()}\n",
    "\n",
    "    # Plot the cumulative rewards\n",
    "    for key, value in cumulative_rewards.items():\n",
    "        plt.plot(value, label=key)\n",
    "\n",
    "    plt.xlabel('Episode')\n",
    "    plt.ylabel('Cumulative Reward')\n",
    "    plt.legend()\n",
    "    plt.show()\n"
   ]
  },
  {
   "cell_type": "code",
   "execution_count": 12,
   "outputs": [],
   "source": [
    "import pandas as pd\n",
    "def load_log(path):\n",
    "    data =  pd.read_csv(path, index_col=None).index.tolist()[1:]    \n",
    "    return [float(x) for x in data]"
   ],
   "metadata": {
    "collapsed": false,
    "ExecuteTime": {
     "end_time": "2024-01-10T09:57:35.625233561Z",
     "start_time": "2024-01-10T09:57:35.569471078Z"
    }
   },
   "id": "d16f8fa998e2ae70"
  },
  {
   "cell_type": "code",
   "execution_count": 13,
   "id": "40f7ed5cff9b5017",
   "metadata": {
    "collapsed": false,
    "ExecuteTime": {
     "end_time": "2024-01-10T09:57:35.769936806Z",
     "start_time": "2024-01-10T09:57:35.610471020Z"
    }
   },
   "outputs": [
    {
     "data": {
      "text/plain": "<Figure size 640x480 with 1 Axes>",
      "image/png": "[encoded data removed]"
     },
     "metadata": {},
     "output_type": "display_data"
    }
   ],
   "source": [
    "from stable_baselines3 import DDPG,SAC, TD3\n",
    "#ddpg = DDPG.load(\"models/model_ddpg.zip\")\n",
    "sac = SAC.load(\"models/model_sac.zip\")\n",
    "#td3 = TD3.load(\"models/model_td3.zip\")\n",
    "\n",
    "test = gymnasium.make(\"CurvyRaceEnv-v0\")\n",
    "\n",
    "rewards = {}\n",
    "#rewards[\"DDPG\"] = load_log(\"logs/ddpg.monitor.csv\")\n",
    "rewards[\"sac\"] = load_log(\"logs/sac.monitor.csv\")\n",
    "#rewards[\"td3\"] = load_log(\"logs/td3.monitor.csv\")\n",
    "\n",
    "\n",
    "\n",
    "plot_cumulative_rewards(rewards)"
   ]
  },
  {
   "cell_type": "code",
   "execution_count": 15,
   "id": "b2ffd85a423e7735",
   "metadata": {
    "collapsed": false,
    "ExecuteTime": {
     "end_time": "2024-01-10T09:57:42.183052357Z",
     "start_time": "2024-01-10T09:57:41.776857779Z"
    }
   },
   "outputs": [
    {
     "name": "stderr",
     "output_type": "stream",
     "text": [
      "/home/fabian/MasterStudium/PythonEnvironment/lib/python3.10/site-packages/gymnasium/utils/passive_env_checker.py:181: DeprecationWarning: \u001B[33mWARN: Current gymnasium version requires that `Env.reset` can be passed `options` to allow the environment initialisation to be passed additional information.\u001B[0m\n",
      "  logger.deprecation(\n"
     ]
    },
    {
     "name": "stdout",
     "output_type": "stream",
     "text": [
      "[-2.62893462  0.29349208]\n",
      "[-3.12821436 -0.3067708 ]\n",
      "[-3.02639818 -0.65610957]\n",
      "[-3.494663    0.93461323]\n",
      "[-3.30367017 -0.07759261]\n",
      "[-2.6660955   0.01755095]\n",
      "[-3.24336839 -0.3623023 ]\n",
      "[-3.44030833  0.02758002]\n",
      "[-2.18030214 -0.12760234]\n",
      "[-2.69012022  0.42922449]\n",
      "[-2.95143604  0.39290142]\n",
      "[-2.44710803  0.24187469]\n",
      "[-2.8921423  -0.79856622]\n",
      "[-2.85236144  0.38568687]\n",
      "[-2.71002865 -0.22568262]\n",
      "[-3.06202245  0.52650404]\n",
      "[-3.33878326e+00  2.96354294e-03]\n",
      "[-2.98526525  0.75983667]\n",
      "[-2.77131748  0.10785794]\n",
      "[-2.32297277  0.05487704]\n",
      "[-2.66132164 -0.24912608]\n",
      "[-3.17225409 -0.07928503]\n",
      "[-3.24992895  0.15440059]\n",
      "[-2.82792926 -0.98620224]\n",
      "[-3.30621195 -0.5120486 ]\n",
      "[-3.46735048  0.20576072]\n",
      "[-2.83364367  0.53728914]\n",
      "[-2.6147995   0.43231797]\n",
      "[-3.01181436  0.52449346]\n",
      "[-2.85238767  0.58517885]\n",
      "[-1.22044849  0.00873065]\n",
      "[-1.79535222  0.16304326]\n",
      "[-0.96061945  0.12915397]\n",
      "[-0.96370316  0.56783915]\n",
      "[-0.44501114  0.18994975]\n",
      "[0.64674377 0.60498452]\n",
      "[1.50638247 0.52800274]\n",
      "[-1.11766529 -0.05132985]\n",
      "[-1.1782248  -0.38347745]\n",
      "[-1.57535934 -0.06150401]\n",
      "[-1.1293602  -0.20423591]\n",
      "[-1.41725159 -0.25500095]\n",
      "[-1.38775921 -0.16111922]\n",
      "[-1.41562819 -0.03505158]\n",
      "[-1.52514577  0.01208782]\n",
      "[-1.0463028  -0.41467106]\n",
      "[-1.11068845 -0.02035284]\n",
      "[-1.64739442 -0.10224295]\n",
      "[-1.21289253 -0.02307558]\n",
      "[-0.96785355  0.07597208]\n",
      "[-1.36924028 -0.27996111]\n",
      "[-1.60462642 -0.21715081]\n",
      "[-0.89748073 -0.10015178]\n",
      "[-1.34275413  0.06020141]\n",
      "[-1.68882513 -0.00670266]\n",
      "[-1.20283842 -0.04499567]\n",
      "[-1.56087971  0.2895081 ]\n",
      "[-1.35245037 -0.23892379]\n",
      "[-1.19099951 -0.07751024]\n",
      "[-1.50326729 -0.1331861 ]\n",
      "[-1.20968699 -0.08223152]\n",
      "[-1.07214046  0.27574658]\n",
      "[-1.68390417 -0.0479486 ]\n",
      "[-1.19938397 -0.29689777]\n",
      "[-1.26741171  0.00906849]\n",
      "[-1.27257776 -0.33718312]\n",
      "[-0.99545693 -0.04400063]\n",
      "[-1.54231191  0.36160326]\n",
      "[-1.24599218 -0.02346742]\n",
      "[-1.34302163 -0.08008587]\n",
      "[-0.73043013  0.00410199]\n",
      "[-1.5747776  -0.21576726]\n",
      "[-1.31851482 -0.15204763]\n",
      "[-1.30120945  0.15191078]\n",
      "[-1.4392724   0.14656377]\n",
      "[-0.98558855 -0.05050719]\n",
      "[-1.30636597 -0.077245  ]\n",
      "[-1.17189407 -0.26021099]\n",
      "[-1.37567759  0.06093431]\n",
      "[-1.38392091 -0.07321537]\n",
      "[-1.03353596  0.12411642]\n",
      "[-1.15315866 -0.28654873]\n",
      "[-1.1033721   0.06464601]\n",
      "[-0.9748199   0.16618824]\n",
      "[-1.00302696 -0.0247122 ]\n",
      "[-1.29058504  0.04207802]\n",
      "[-1.24155951 -0.034217  ]\n",
      "[-1.5151701  -0.02813792]\n",
      "[-1.24648476  0.05268455]\n",
      "[-1.47518778  0.17129397]\n",
      "[-1.87471914  0.04377866]\n",
      "[-1.54204822 -0.14517093]\n",
      "[-0.78399992 -0.11095035]\n",
      "[-1.48643565  0.03723121]\n",
      "[-1.19085789 -0.14033473]\n",
      "[-1.15064955 -0.20631742]\n",
      "[-1.22947121 -0.16007352]\n",
      "[-0.86949968  0.1917696 ]\n",
      "[-1.78021288  0.21392703]\n",
      "[-1.46318388e+00 -1.07526779e-04]\n",
      "[-0.90450239 -0.03580737]\n"
     ]
    },
    {
     "data": {
      "text/plain": "<Figure size 640x480 with 1 Axes>",
      "image/png": "[encoded data removed]"
     },
     "metadata": {},
     "output_type": "display_data"
    },
    {
     "data": {
      "text/plain": "[-50,\n -50,\n -50,\n -50,\n -50,\n -50,\n -50,\n -50,\n -50,\n -50,\n -50,\n -50,\n -50,\n -50,\n -50,\n -50,\n -50,\n -50,\n -50,\n -50,\n -50,\n -50,\n -50,\n -50,\n -50,\n -50,\n -50,\n -50,\n -50,\n -50,\n -50,\n -50,\n -50,\n -50,\n -50,\n -150,\n -150,\n -50,\n -50,\n -50,\n -50,\n -50,\n -50,\n -50,\n -50,\n -50,\n -50,\n -50,\n -50,\n -50,\n -50,\n -50,\n -50,\n -50,\n -50,\n -50,\n -50,\n -50,\n -50,\n -50,\n -50,\n -50,\n -50,\n -50,\n -50,\n -50,\n -50,\n -50,\n -50,\n -50,\n -50,\n -50,\n -50,\n -50,\n -50,\n -50,\n -50,\n -50,\n -50,\n -50,\n -50,\n -50,\n -50,\n -50,\n -50,\n -50,\n -50,\n -50,\n -50,\n -50,\n -50,\n -50,\n -50,\n -50,\n -50,\n -50,\n -50,\n -50,\n -50,\n -50,\n -50]"
     },
     "execution_count": 15,
     "metadata": {},
     "output_type": "execute_result"
    }
   ],
   "source": [
    "run_env(test, sac)"
   ]
  },
  {
   "cell_type": "code",
   "execution_count": null,
   "outputs": [],
   "source": [
    "test.action_space"
   ],
   "metadata": {
    "collapsed": false,
    "ExecuteTime": {
     "start_time": "2024-01-10T09:57:36.070307297Z"
    }
   },
   "id": "5425df569e93f022"
  },
  {
   "cell_type": "code",
   "execution_count": null,
   "outputs": [],
   "source": [],
   "metadata": {
    "collapsed": false,
    "ExecuteTime": {
     "start_time": "2024-01-10T09:57:36.070472060Z"
    }
   },
   "id": "8b4248852039b671"
  }
 ],
 "metadata": {
  "kernelspec": {
   "display_name": "Python 3 (ipykernel)",
   "language": "python",
   "name": "python3"
  },
  "language_info": {
   "codemirror_mode": {
    "name": "ipython",
    "version": 3
   },
   "file_extension": ".py",
   "mimetype": "text/x-python",
   "name": "python",
   "nbconvert_exporter": "python",
   "pygments_lexer": "ipython3",
   "version": "3.11.3"
  }
 },
 "nbformat": 4,
 "nbformat_minor": 5
}
