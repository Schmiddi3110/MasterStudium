{
 "cells": [
  {
   "cell_type": "code",
   "execution_count": 1,
   "id": "initial_id",
   "metadata": {
    "collapsed": true,
    "jupyter": {
     "outputs_hidden": true
    },
    "ExecuteTime": {
     "end_time": "2024-01-14T20:57:57.484527200Z",
     "start_time": "2024-01-14T20:57:54.403879400Z"
    }
   },
   "outputs": [],
   "source": [
    "%load_ext autoreload\n",
    "#import race\n",
    "#import math\n",
    "#import random\n",
    "\n",
    "#import gym\n",
    "import numpy as np\n",
    "\n",
    "#import torch\n",
    "#import torch.nn as nn\n",
    "#import torch.optim as optim\n",
    "#import torch.nn.functional as F\n",
    "#from torch.distributions import Normal\n",
    "\n",
    "#from IPython.display import clear_output\n",
    "import matplotlib.pyplot as plt\n",
    "import optuna\n",
    "#import importlib\n",
    "import CurvyRaceEnv\n",
    "#importlib.reload(CurvyRaceEnv)\n",
    "%matplotlib inline\n",
    "%reload_ext autoreload"
   ]
  },
  {
   "cell_type": "code",
   "execution_count": 2,
   "id": "edaaebe4",
   "metadata": {
    "ExecuteTime": {
     "end_time": "2024-01-14T20:58:11.980983300Z",
     "start_time": "2024-01-14T20:57:57.486528300Z"
    }
   },
   "outputs": [
    {
     "name": "stdout",
     "output_type": "stream",
     "text": [
      "WARNING:tensorflow:From C:\\Studium\\MasterStudium\\DRL\\Studienarbeiten\\Studienarbeit2\\DRL_Studienarbeit2_env\\Lib\\site-packages\\keras\\src\\losses.py:2976: The name tf.losses.sparse_softmax_cross_entropy is deprecated. Please use tf.compat.v1.losses.sparse_softmax_cross_entropy instead.\n"
     ]
    },
    {
     "name": "stderr",
     "output_type": "stream",
     "text": [
      "C:\\Studium\\MasterStudium\\DRL\\Studienarbeiten\\Studienarbeit2\\DRL_Studienarbeit2_env\\Lib\\site-packages\\stable_baselines3\\common\\env_checker.py:441: UserWarning: We recommend you to use a symmetric and normalized Box action space (range=[-1, 1]) cf. https://stable-baselines3.readthedocs.io/en/master/guide/rl_tips.html\n",
      "  warnings.warn(\n"
     ]
    }
   ],
   "source": [
    "from stable_baselines3.common.env_checker import check_env\n",
    "#import CurvyRaceEnv\n",
    "test = CurvyRaceEnv.CurvyRaceEnv()\n",
    "check_env(test)"
   ]
  },
  {
   "cell_type": "code",
   "execution_count": 3,
   "id": "fa86b0e045ad909a",
   "metadata": {
    "collapsed": false,
    "ExecuteTime": {
     "end_time": "2024-01-14T20:58:11.998498100Z",
     "start_time": "2024-01-14T20:58:11.980983300Z"
    }
   },
   "outputs": [],
   "source": [
    "from gymnasium.envs.registration import register\n",
    "\n",
    "register(\n",
    "     id=\"CurvyRaceEnv-v0\",\n",
    "     entry_point=\"CurvyRaceEnv:CurvyRaceEnv\",\n",
    "     max_episode_steps=100,\n",
    ")"
   ]
  },
  {
   "cell_type": "code",
   "execution_count": 4,
   "id": "32b1fe498c931556",
   "metadata": {
    "collapsed": false,
    "ExecuteTime": {
     "end_time": "2024-01-14T20:58:12.046039100Z",
     "start_time": "2024-01-14T20:58:11.992492900Z"
    }
   },
   "outputs": [],
   "source": [
    "from typing import Any\n",
    "from typing import Dict\n",
    "\n",
    "import gymnasium\n",
    "import optuna\n",
    "from optuna.pruners import MedianPruner\n",
    "from optuna.samplers import TPESampler\n",
    "from stable_baselines3 import A2C\n",
    "from stable_baselines3.common.callbacks import EvalCallback\n",
    "from stable_baselines3.common.monitor import Monitor\n",
    "from stable_baselines3.common.callbacks import StopTrainingOnNoModelImprovement\n",
    "from stable_baselines3.common.callbacks import EvalCallback, BaseCallback\n",
    "\n",
    "import torch\n",
    "import torch.nn as nn\n",
    "import time\n",
    "N_TRIALS = 10000\n",
    "N_STARTUP_TRIALS = 5\n",
    "N_EVALUATIONS = 2\n",
    "N_TIMESTEPS = 20000\n",
    "EVAL_FREQ = int(N_TIMESTEPS / N_EVALUATIONS)\n",
    "N_EVAL_EPISODES = 3\n",
    "\n",
    "ENV_ID = \"CurvyRaceEnv-v0\"\n",
    "\n",
    "DEFAULT_HYPERPARAMS = {\n",
    "    \"policy\": \"MlpPolicy\",\n",
    "    \"env\": ENV_ID,\n",
    "}"
   ]
  },
  {
   "cell_type": "code",
   "execution_count": 5,
   "id": "a6f149d374e7d57f",
   "metadata": {
    "collapsed": false,
    "ExecuteTime": {
     "end_time": "2024-01-14T20:58:12.047039900Z",
     "start_time": "2024-01-14T20:58:12.017014100Z"
    }
   },
   "outputs": [],
   "source": [
    "def evaluate_model(model, env, num_episodes=100):  \n",
    "    \n",
    "    total_reward = 0.0\n",
    "    for _ in range(num_episodes):\n",
    "        obs, info = env.reset()\n",
    "        done = False\n",
    "        while not done:\n",
    "            action, _ = model.predict(obs)\n",
    "            obs, reward, done,info, _ = env.step(action)\n",
    "            total_reward += reward\n",
    "    mean_reward = total_reward / num_episodes\n",
    "    return mean_reward"
   ]
  },
  {
   "cell_type": "code",
   "execution_count": 6,
   "id": "eb81230539142dfb",
   "metadata": {
    "collapsed": false,
    "ExecuteTime": {
     "end_time": "2024-01-14T20:58:12.047540400Z",
     "start_time": "2024-01-14T20:58:12.029524700Z"
    }
   },
   "outputs": [],
   "source": [
    "from stable_baselines3 import A2C, PPO, TD3, DDPG, SAC\n",
    "from stable_baselines3.common.noise import NormalActionNoise, OrnsteinUhlenbeckActionNoise\n",
    "\n",
    "def objective(trial: optuna.Trial) -> float:   \n",
    "    hyperparams = {\n",
    "        'learning_starts': trial.suggest_int('learning_starts', 50,400),\n",
    "        'learning_rate': trial.suggest_float('learning_rate', 1e-5, 1e-1, log=True),\n",
    "        'gamma': trial.suggest_float('gamma', 0.9, 0.999),\n",
    "        'tau': trial.suggest_float('tau', 1e-3, 1e-1, log=True)   \n",
    "    }\n",
    "    # Define the environment\n",
    "    env = gymnasium.make('CurvyRaceEnv-v0')  \n",
    "    \n",
    "\n",
    "\n",
    "    \n",
    "    \n",
    "    \n",
    "\n",
    "    # Create and train the DDPG model\n",
    "    model = SAC('MlpPolicy', env, learning_starts=hyperparams['learning_starts'] ,learning_rate=hyperparams['learning_rate'],\n",
    "                 gamma=hyperparams['gamma'], tau=hyperparams['tau'],\n",
    "                 action_noise=NormalActionNoise(mean=np.zeros(env.action_space.shape), sigma=0.1 * np.ones(env.action_space.shape)))\n",
    "    \n",
    "    # Train the model\n",
    "    model.learn(total_timesteps=50000)  # Adjust the total_timesteps as needed\n",
    "\n",
    "    # Evaluate the model\n",
    "    mean_reward = evaluate_model(model, env)\n",
    "\n",
    "    return mean_reward"
   ]
  },
  {
   "cell_type": "code",
   "execution_count": 7,
   "id": "c97768c52d3d9ed4",
   "metadata": {
    "collapsed": false,
    "ExecuteTime": {
     "end_time": "2024-01-14T20:58:12.051543600Z",
     "start_time": "2024-01-14T20:58:12.039533700Z"
    }
   },
   "outputs": [],
   "source": [
    "#study = optuna.create_study(study_name=\"SAC\", storage=\"sqlite:///DRL2.db\", load_if_exists=True, direction=\"maximize\")\n",
    "#study.optimize(objective, n_trials=N_TRIALS, show_progress_bar=True)"
   ]
  },
  {
   "cell_type": "code",
   "execution_count": 8,
   "id": "d6f80c85",
   "metadata": {
    "ExecuteTime": {
     "end_time": "2024-01-14T20:58:12.069559100Z",
     "start_time": "2024-01-14T20:58:12.051543600Z"
    }
   },
   "outputs": [],
   "source": [
    "from stable_baselines3.common.evaluation import evaluate_policy\n",
    "from stable_baselines3.common.callbacks import EvalCallback, StopTrainingOnRewardThreshold\n",
    "\n",
    "eval_env = gymnasium.make(\"CurvyRaceEnv-v0\")\n",
    "eval_callback = EvalCallback(eval_env, best_model_save_path='model/best_model',\n",
    "                            log_path='logs/best_model_log', eval_freq=1000,\n",
    "                            deterministic=True, render=False,\n",
    "                            callback_on_new_best=StopTrainingOnRewardThreshold(reward_threshold=3500, verbose=1))"
   ]
  },
  {
   "cell_type": "code",
   "execution_count": 9,
   "id": "7dac46d481acd2a3",
   "metadata": {
    "collapsed": false,
    "ExecuteTime": {
     "end_time": "2024-01-14T21:17:53.512894200Z",
     "start_time": "2024-01-14T20:58:12.065555800Z"
    }
   },
   "outputs": [
    {
     "name": "stderr",
     "output_type": "stream",
     "text": [
      "C:\\Studium\\MasterStudium\\DRL\\Studienarbeiten\\Studienarbeit2\\DRL_Studienarbeit2_env\\Lib\\site-packages\\gymnasium\\utils\\passive_env_checker.py:181: DeprecationWarning: \u001B[33mWARN: Current gymnasium version requires that `Env.reset` can be passed `options` to allow the environment initialisation to be passed additional information.\u001B[0m\n",
      "  logger.deprecation(\n"
     ]
    }
   ],
   "source": [
    "from stable_baselines3.common.env_util import make_vec_env\n",
    "from stable_baselines3 import DDPG, TD3, SAC, A2C,PPO\n",
    "from stable_baselines3.common.noise import NormalActionNoise, OrnsteinUhlenbeckActionNoise\n",
    "\n",
    "\n",
    "env = gymnasium.make(\"CurvyRaceEnv-v0\")\n",
    "#env = Monitor(env, \"logs/ddpg\")\n",
    "#model_ddpg = DDPG(\"MlpPolicy\", env,action_noise=NormalActionNoise(mean=np.zeros(env.action_space.shape), sigma=0.1 * np.ones(env.action_space.shape)),  learning_rate=0.004859847958257243,tau=0.06431401009446525,  gamma = 0.9903705891833702, buffer_size=2000000)\n",
    "#model_ddpg.learn(total_timesteps=200000)\n",
    "#model_ddpg.save(\"models/model_ddpg\")\n",
    "#_, _ = env.reset()\n",
    "#del model_ddpg\n",
    "\n",
    "#env = Monitor(env, \"logs/td3\")\n",
    "#model_td3 = TD3(\"MlpPolicy\", env, action_noise=NormalActionNoise(mean=np.zeros(env.action_space.shape), sigma=0.1 * np.ones(env.action_space.shape)), learning_rate=0.004859847958257243,tau=0.06431401009446525,  gamma = 0.9703705891833702, buffer_size=200000)\n",
    "#model_td3.learn(total_timesteps=200000)\n",
    "#model_td3.save(\"models/model_td3\")\n",
    "#_, _ = env.reset()\n",
    "#del model_td3\n",
    "\n",
    "env = Monitor(env, \"logs/sac3\")\n",
    "model_sac = SAC(\"MlpPolicy\", env,action_noise=NormalActionNoise(mean=np.zeros(env.action_space.shape), sigma=0.1 * np.ones(env.action_space.shape)),  learning_rate=0.006859847958257243,tau=0.06431401009446525,  gamma = 0.9903705891833702, buffer_size=2000000)\n",
    "model_sac.learn(total_timesteps=50000)\n",
    "model_sac.save(\"models/model_sac3\")\n",
    "_, _ = env.reset()\n",
    "del model_sac\n",
    "\n",
    "#env = Monitor(env, \"logs/a2c\")\n",
    "#model_a2c = A2C(\"MlpPolicy\", env,  learning_rate=0.004859847958257243,  gamma = 0.9703705891833702)\n",
    "#model_a2c.learn(total_timesteps=20000)\n",
    "#model_a2c.save(\"models/model_a2c\")\n",
    "#_, _ = env.reset()\n",
    "#del model_a2c\n",
    "\n",
    "#env = Monitor(env, \"logs/ppo\")\n",
    "#model_ppo = PPO(\"MlpPolicy\", env,  learning_rate=0.004859847958257243,  gamma = 0.9703705891833702)\n",
    "#model_ppo.learn(total_timesteps=50000)\n",
    "#model_ppo.save(\"models/model_ppo\")\n",
    "#_, _ = env.reset()\n",
    "#del model_ppo"
   ]
  },
  {
   "cell_type": "code",
   "execution_count": 19,
   "id": "ae662d1d8ac89e70",
   "metadata": {
    "collapsed": false,
    "ExecuteTime": {
     "end_time": "2024-01-14T21:26:06.104481Z",
     "start_time": "2024-01-14T21:26:06.068476500Z"
    }
   },
   "outputs": [],
   "source": [
    "env.close()"
   ]
  },
  {
   "cell_type": "code",
   "execution_count": 20,
   "id": "3ff82e7b",
   "metadata": {
    "ExecuteTime": {
     "end_time": "2024-01-14T21:26:06.474045600Z",
     "start_time": "2024-01-14T21:26:06.454529300Z"
    }
   },
   "outputs": [],
   "source": [
    "def run_env(env, model):\n",
    "    obs, info = env.reset()\n",
    "    done = False\n",
    "    reward_list = []\n",
    "    observation_list = []\n",
    "    while not done:\n",
    "        action, _states = model.predict(obs)\n",
    "        obs, rewards, done, info, _ = env.step(action)\n",
    "        print(f\"obs: {obs}\")\n",
    "        observation_list.append(obs)\n",
    "        reward_list.append(rewards)\n",
    "    env.render()\n",
    "    return reward_list"
   ]
  },
  {
   "cell_type": "code",
   "execution_count": 20,
   "id": "a3265f13a0baf9d9",
   "metadata": {
    "collapsed": false,
    "ExecuteTime": {
     "end_time": "2024-01-14T21:26:06.955992800Z",
     "start_time": "2024-01-14T21:26:06.932147600Z"
    }
   },
   "outputs": [],
   "source": []
  },
  {
   "cell_type": "code",
   "execution_count": 21,
   "id": "e8ac2833",
   "metadata": {
    "ExecuteTime": {
     "end_time": "2024-01-14T21:26:07.592039600Z",
     "start_time": "2024-01-14T21:26:07.558009400Z"
    }
   },
   "outputs": [],
   "source": [
    "import numpy as np\n",
    "import matplotlib.pyplot as plt\n",
    "\n",
    "def plot_cumulative_rewards(rewards):\n",
    "    \"\"\"\n",
    "    Plots the cumulative rewards per episode.\n",
    "    \"\"\"\n",
    "    # Calculate the cumulative sum of the list elements\n",
    "    cumulative_rewards = {key: np.cumsum(value) for key, value in rewards.items()}\n",
    "\n",
    "    # Plot the cumulative rewards\n",
    "    for key, value in cumulative_rewards.items():\n",
    "        plt.plot(value, label=key)\n",
    "\n",
    "    plt.xlabel('Episode')\n",
    "    plt.ylabel('Cumulative Reward')\n",
    "    plt.legend()\n",
    "    plt.show()\n"
   ]
  },
  {
   "cell_type": "code",
   "execution_count": 22,
   "id": "d16f8fa998e2ae70",
   "metadata": {
    "collapsed": false,
    "ExecuteTime": {
     "end_time": "2024-01-14T21:26:08.243599300Z",
     "start_time": "2024-01-14T21:26:08.219577600Z"
    }
   },
   "outputs": [],
   "source": [
    "import pandas as pd\n",
    "def load_log(path):\n",
    "    data =  pd.read_csv(path, index_col=None).index.tolist()[1:]    \n",
    "    return [float(x) for x in data]"
   ]
  },
  {
   "cell_type": "code",
   "execution_count": 23,
   "id": "40f7ed5cff9b5017",
   "metadata": {
    "collapsed": false,
    "ExecuteTime": {
     "end_time": "2024-01-14T21:26:09.242245300Z",
     "start_time": "2024-01-14T21:26:08.716793300Z"
    }
   },
   "outputs": [
    {
     "data": {
      "text/plain": "<Figure size 640x480 with 1 Axes>",
      "image/png": "[encoded data removed]"
     },
     "metadata": {},
     "output_type": "display_data"
    }
   ],
   "source": [
    "from stable_baselines3 import DDPG,SAC, TD3, A2C, PPO\n",
    "sac = SAC.load(\"models/model_sac.zip\")\n",
    "sac2 = SAC.load(\"models/model_sac3.zip\")\n",
    "\n",
    "#ppo = PPO.load(\"models/model_ppo.zip\")\n",
    "#a2c = A2C.load(\"models/model_a2c.zip\")\n",
    "test = gymnasium.make(\"CurvyRaceEnv-v0\")\n",
    "\n",
    "rewards = {}\n",
    "rewards[\"sac\"] = load_log(\"logs/sac.monitor.csv\")\n",
    "rewards[\"sac3\"] = load_log(\"logs/sac3.monitor.csv\")\n",
    "\n",
    "#rewards[\"test\"] = load_log(\"logs/best_model_log/evaluations.npz\")\n",
    "#rewards[\"a2c\"] = load_log(\"logs/a2c.monitor.csv\")\n",
    "#rewards[\"ppo\"] = load_log(\"logs/ppo.monitor.csv\")\n",
    "\n",
    "\n",
    "\n",
    "plot_cumulative_rewards(rewards)"
   ]
  },
  {
   "cell_type": "code",
   "execution_count": 25,
   "id": "b2ffd85a423e7735",
   "metadata": {
    "collapsed": false,
    "ExecuteTime": {
     "end_time": "2024-01-14T21:26:23.557588200Z",
     "start_time": "2024-01-14T21:26:23.130221200Z"
    }
   },
   "outputs": [
    {
     "name": "stderr",
     "output_type": "stream",
     "text": [
      "C:\\Studium\\MasterStudium\\DRL\\Studienarbeiten\\Studienarbeit2\\DRL_Studienarbeit2_env\\Lib\\site-packages\\gymnasium\\utils\\passive_env_checker.py:181: DeprecationWarning: \u001B[33mWARN: Current gymnasium version requires that `Env.reset` can be passed `options` to allow the environment initialisation to be passed additional information.\u001B[0m\n",
      "  logger.deprecation(\n"
     ]
    },
    {
     "name": "stdout",
     "output_type": "stream",
     "text": [
      "obs: [ 0.75076824 -0.10349419  0.19918735 -0.11652985  1.2535114 ]\n",
      "obs: [ 1.4920822   0.04615053  0.23559034 -0.32620373  0.51001006]\n",
      "obs: [ 2.2194974   0.22076505  0.03082803 -0.15418874  1.7941368 ]\n",
      "obs: [ 3.0110753   0.24517557  0.09910825 -0.34212962  1.0188637 ]\n",
      "obs: [ 3.790618    0.32268864  0.15496042 -1.1501781   0.38466716]\n",
      "obs: [4.423991   0.42162967 0.12226375 0.22946094 1.678784  ]\n",
      "obs: [5.194895   0.51635563 0.33963236 0.20131768 0.9392053 ]\n",
      "obs: [5.819761   0.73713547 0.04780319 0.9219476  0.31872222]\n",
      "obs: [6.6097836  0.7749299  0.08362278 0.39711744 1.5679374 ]\n",
      "obs: [7.379477   0.8394442  0.11999109 0.6966461  0.90630174]\n",
      "obs: [ 8.100784    0.9264125   0.16252922 -0.12380233  1.9006406 ]\n",
      "obs: [ 8.847944    1.0489285  -0.14091377  0.09846863  1.1530939 ]\n",
      "obs: [ 9.6277485   0.93831027 -0.16358604  0.32781413  0.37732837]\n",
      "obs: [10.400727    0.8107215  -0.3748087  -0.09436873  1.7930257 ]\n",
      "obs: [11.1279545   0.52462643 -0.4034225  -0.13817583  1.0176917 ]\n",
      "obs: [11.853268    0.2150385  -0.29742628 -0.6745858   0.26033038]\n",
      "obs: [12.613748   -0.01806266 -0.3191408  -0.29716027  1.6987927 ]\n",
      "obs: [13.319087   -0.25113222 -0.42940646 -0.403484    1.012149  ]\n",
      "obs: [14.018267   -0.57128847 -0.4000894  -0.03815358  2.188555  ]\n",
      "obs: [14.695994   -0.85789853 -0.32175186 -0.13580276  1.453522  ]\n",
      "obs: [15.397191   -1.091632   -0.02835795 -0.56706744  0.7281091 ]\n",
      "obs: [ 1.6082355e+01 -1.1110671e+00 -1.1999671e-02  6.9853492e-02\n",
      "  1.9208587e+00]\n",
      "obs: [16.844658   -1.1202148   0.20307277 -0.09939461  1.1615801 ]\n",
      "obs: [17.600235   -0.964633    0.28356135 -0.37180114  0.40132624]\n",
      "obs: [18.287783   -0.76427203  0.3535313   0.06629469  1.8750468 ]\n",
      "obs: [19.014338   -0.49614727  0.32742047  0.13891505  1.1034908 ]\n",
      "obs: [19.758564   -0.24337453  0.1969397   0.59245616  0.34281582]\n",
      "obs: [20.540422   -0.08737329  0.41758823  0.22270006  1.8200951 ]\n",
      "obs: [21.225405    0.21654122  0.28962275  0.5014639   1.1017288 ]\n",
      "obs: [21.963137    0.43638712  0.19357441  1.3119106   0.5648171 ]\n",
      "obs: [22.741808    0.5890291   0.18845184  0.43822116  1.5533565 ]\n",
      "obs: [23.492943    0.7322817   0.17599304  0.81110036  0.92005384]\n",
      "obs: [24.211248   0.8600203  0.1949497 -0.1168533  1.7942194]\n",
      "obs: [24.842508    0.9846671  -0.10938141  0.12262729  1.1575935 ]\n",
      "obs: [25.622599    0.89899766 -0.28371426  0.54521245  0.39068222]\n",
      "obs: [26.380772    0.6779299  -0.34101647 -0.05548433  1.7554173 ]\n",
      "obs: [ 2.7114803e+01  4.1743609e-01 -4.2726079e-01 -1.3388664e-02\n",
      "  9.7868621e-01]\n",
      "obs: [27.836975    0.08862403 -0.14489405 -0.35303953  0.1855569 ]\n",
      "obs: [ 2.8619410e+01 -2.5546227e-02 -1.2706888e-01 -4.8755524e-01\n",
      "  1.6898488e+00]\n",
      "obs: [29.397547   -0.12495894 -0.38842058 -0.5794201   1.0623773 ]\n",
      "obs: [29.843828   -0.30758128 -0.53733194 -0.81163085  0.70981216]\n",
      "obs: [ 3.0498028e+01 -6.9735914e-01 -4.9267110e-01  1.8904635e-03\n",
      "  1.7029835e+00]\n",
      "obs: [31.169191   -1.0576562  -0.16573323 -0.3235174   0.9412281 ]\n",
      "obs: [ 3.1928434e+01 -1.1846527e+00 -2.1014445e-02 -1.3266177e+00\n",
      "  3.2336617e-01]\n",
      "obs: [ 3.2671257e+01 -1.2002649e+00 -3.1732529e-02  0.0000000e+00\n",
      "  0.0000000e+00]\n"
     ]
    },
    {
     "data": {
      "text/plain": "<Figure size 640x480 with 1 Axes>",
      "image/png": "[encoded data removed]"
     },
     "metadata": {},
     "output_type": "display_data"
    },
    {
     "data": {
      "text/plain": "[-0.031271607855505604,\n 0.12667257989440264,\n 9.948941736626077,\n 0.09828882692951867,\n 0.5476128331226677,\n 19.76535638558575,\n -0.16774493477033553,\n -0.4837396805246269,\n 29.689445752109517,\n -0.41305887973403005,\n 39.92614112188988,\n -0.13159817288417802,\n -0.19085909495471878,\n 49.91911110277025,\n -0.003604354662498435,\n 0.3186978904734982,\n 60.0272378001776,\n 0.1294456291318181,\n 69.86275142660955,\n -0.035921616136261506,\n 0.23152594214855232,\n 79.82786905453978,\n -0.03327270532926474,\n 0.15723441344959035,\n 89.83292073904875,\n -0.14827829825348235,\n -0.32071491397812846,\n 99.75864318368464,\n -0.32942684787878546,\n -0.6962994142713046,\n 109.66993537770422,\n -0.4712683036472241,\n 119.93026811737799,\n -0.14399889356781836,\n -0.30051209890622965,\n 129.90235520813732,\n -0.06321182725220166,\n 0.1632657049969774,\n 140.12307412672723,\n 0.21382595453827813,\n 0.355114556966775,\n 149.877413089676,\n 0.09452812394992946,\n 0.6402112840514934,\n 1001]"
     },
     "execution_count": 25,
     "metadata": {},
     "output_type": "execute_result"
    }
   ],
   "source": [
    "run_env(test, sac2)"
   ]
  },
  {
   "cell_type": "code",
   "execution_count": 16,
   "id": "5425df569e93f022",
   "metadata": {
    "collapsed": false,
    "ExecuteTime": {
     "end_time": "2024-01-14T21:17:54.527266Z",
     "start_time": "2024-01-14T21:17:54.409164700Z"
    }
   },
   "outputs": [
    {
     "data": {
      "text/plain": "Box([-4. -2.], [4. 2.], (2,), float32)"
     },
     "execution_count": 16,
     "metadata": {},
     "output_type": "execute_result"
    }
   ],
   "source": [
    "test.action_space"
   ]
  },
  {
   "cell_type": "code",
   "execution_count": 17,
   "id": "8b4248852039b671",
   "metadata": {
    "collapsed": false,
    "ExecuteTime": {
     "end_time": "2024-01-14T21:17:54.527766700Z",
     "start_time": "2024-01-14T21:17:54.420174Z"
    }
   },
   "outputs": [
    {
     "data": {
      "text/plain": "Box(-inf, inf, (5,), float32)"
     },
     "execution_count": 17,
     "metadata": {},
     "output_type": "execute_result"
    }
   ],
   "source": [
    "test.observation_space"
   ]
  },
  {
   "cell_type": "code",
   "execution_count": 18,
   "id": "48a453e3885c7af1",
   "metadata": {
    "collapsed": false,
    "ExecuteTime": {
     "end_time": "2024-01-14T21:17:55.035202600Z",
     "start_time": "2024-01-14T21:17:54.439190600Z"
    }
   },
   "outputs": [
    {
     "ename": "TypeError",
     "evalue": "unsupported operand type(s) for +: 'int' and 'str'",
     "output_type": "error",
     "traceback": [
      "\u001B[1;31m---------------------------------------------------------------------------\u001B[0m",
      "\u001B[1;31mTypeError\u001B[0m                                 Traceback (most recent call last)",
      "Cell \u001B[1;32mIn[18], line 1\u001B[0m\n\u001B[1;32m----> 1\u001B[0m \u001B[38;5;28;43msum\u001B[39;49m\u001B[43m(\u001B[49m\u001B[43mrewards\u001B[49m\u001B[43m)\u001B[49m\n",
      "\u001B[1;31mTypeError\u001B[0m: unsupported operand type(s) for +: 'int' and 'str'"
     ]
    }
   ],
   "source": [
    "sum(rewards)"
   ]
  }
 ],
 "metadata": {
  "kernelspec": {
   "display_name": "Python 3 (ipykernel)",
   "language": "python",
   "name": "python3"
  },
  "language_info": {
   "codemirror_mode": {
    "name": "ipython",
    "version": 3
   },
   "file_extension": ".py",
   "mimetype": "text/x-python",
   "name": "python",
   "nbconvert_exporter": "python",
   "pygments_lexer": "ipython3",
   "version": "3.11.7"
  }
 },
 "nbformat": 4,
 "nbformat_minor": 5
}
