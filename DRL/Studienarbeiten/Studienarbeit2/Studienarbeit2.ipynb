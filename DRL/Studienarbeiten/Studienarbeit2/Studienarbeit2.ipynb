{
 "cells": [
  {
   "cell_type": "code",
   "execution_count": 1,
   "id": "initial_id",
   "metadata": {
    "collapsed": true,
    "jupyter": {
     "outputs_hidden": true
    },
    "ExecuteTime": {
     "end_time": "2024-01-07T19:24:27.969895Z",
     "start_time": "2024-01-07T19:24:21.972742Z"
    }
   },
   "outputs": [
    {
     "name": "stdout",
     "output_type": "stream",
     "text": [
      "pygame 2.5.2 (SDL 2.28.3, Python 3.11.3)\n",
      "Hello from the pygame community. https://www.pygame.org/contribute.html\n"
     ]
    }
   ],
   "source": [
    "%load_ext autoreload\n",
    "import race\n",
    "import math\n",
    "import random\n",
    "\n",
    "import gym\n",
    "import numpy as np\n",
    "\n",
    "import torch\n",
    "import torch.nn as nn\n",
    "import torch.optim as optim\n",
    "import torch.nn.functional as F\n",
    "from torch.distributions import Normal\n",
    "\n",
    "from IPython.display import clear_output\n",
    "import matplotlib.pyplot as plt\n",
    "import optuna\n",
    "%matplotlib inline"
   ]
  },
  {
   "cell_type": "code",
   "execution_count": 2,
   "id": "12154f77",
   "metadata": {
    "ExecuteTime": {
     "end_time": "2024-01-07T19:24:32.820968300Z",
     "start_time": "2024-01-07T19:24:32.780432700Z"
    }
   },
   "outputs": [],
   "source": [
    "#import gymnasium\n",
    "#from gymnasium import spaces\n",
    "#import pygame\n",
    "#import numpy as np\n",
    "#from race import *\n",
    "#\n",
    "#class CurvyRaceEnv(gymnasium.Env):\n",
    "#    def __init__(self):\n",
    "#        super(CurvyRaceEnv, self).__init__()\n",
    "#\n",
    "#        # Initialize the CurvyRace environment\n",
    "#        self.curvy_race = CurvyRace()\n",
    "#        self.action_space = spaces.Box(low=-1, high=1, shape=(2,), dtype=np.float32)\n",
    "#        self.observation_space = spaces.Box(low=-np.inf, high=np.inf, shape=(3,), dtype=np.float32)\n",
    "#\n",
    "#    def reset(self, seed = None):\n",
    "#        # Reset the CurvyRace environment\n",
    "#        obs = self.curvy_race.reset()\n",
    "#        # Explicitly cast the observation to float32\n",
    "#        obs = np.array(obs, dtype=np.float32)\n",
    "#        info = {}  # You can provide additional information here if needed\n",
    "#        return obs, info\n",
    "#    \n",
    "#    def step(self, action):\n",
    "#        # Take a step in the CurvyRace environment\n",
    "#        obs, reward, done = self.curvy_race.step(action)\n",
    "#        obs = np.array(obs, dtype=np.float32)\n",
    "#\n",
    "#        return obs, reward, done, False, {}\n",
    "#\n",
    "#    def render(self, mode='human'):\n",
    "#        # Render the CurvyRace environment (for visualization purposes)\n",
    "#        self.curvy_race.plot()\n",
    "#\n",
    "#    def close(self):\n",
    "#        # Clean up resources, if any\n",
    "#        pass"
   ]
  },
  {
   "cell_type": "code",
   "execution_count": 3,
   "id": "edaaebe4",
   "metadata": {
    "ExecuteTime": {
     "end_time": "2024-01-07T19:24:46.431159500Z",
     "start_time": "2024-01-07T19:24:34.708089200Z"
    }
   },
   "outputs": [
    {
     "name": "stdout",
     "output_type": "stream",
     "text": [
      "WARNING:tensorflow:From C:\\Studium\\MasterStudium\\DRL\\Studienarbeiten\\Studienarbeit2\\DRL_Studienarbeit2_env\\Lib\\site-packages\\keras\\src\\losses.py:2976: The name tf.losses.sparse_softmax_cross_entropy is deprecated. Please use tf.compat.v1.losses.sparse_softmax_cross_entropy instead.\n"
     ]
    }
   ],
   "source": [
    "from stable_baselines3.common.env_checker import check_env\n",
    "import CurvyRaceEnv\n",
    "test = CurvyRaceEnv.CurvyRaceEnv()\n",
    "check_env(test)"
   ]
  },
  {
   "cell_type": "code",
   "execution_count": 4,
   "id": "fa86b0e045ad909a",
   "metadata": {
    "collapsed": false,
    "ExecuteTime": {
     "end_time": "2024-01-07T19:24:53.732646200Z",
     "start_time": "2024-01-07T19:24:53.699617800Z"
    }
   },
   "outputs": [],
   "source": [
    "from gymnasium.envs.registration import register\n",
    "\n",
    "register(\n",
    "     id=\"CurvyRaceEnv-v0\",\n",
    "     entry_point=\"CurvyRaceEnv:CurvyRaceEnv\",\n",
    "     max_episode_steps=100,\n",
    ")"
   ]
  },
  {
   "cell_type": "code",
   "execution_count": 5,
   "id": "32b1fe498c931556",
   "metadata": {
    "collapsed": false,
    "ExecuteTime": {
     "end_time": "2024-01-07T19:24:54.929295Z",
     "start_time": "2024-01-07T19:24:54.886758300Z"
    }
   },
   "outputs": [],
   "source": [
    "from typing import Any\n",
    "from typing import Dict\n",
    "\n",
    "import gymnasium\n",
    "import optuna\n",
    "from optuna.pruners import MedianPruner\n",
    "from optuna.samplers import TPESampler\n",
    "from stable_baselines3 import A2C\n",
    "from stable_baselines3.common.callbacks import EvalCallback\n",
    "from stable_baselines3.common.monitor import Monitor\n",
    "from stable_baselines3.common.callbacks import StopTrainingOnNoModelImprovement\n",
    "from stable_baselines3.common.callbacks import EvalCallback, BaseCallback\n",
    "\n",
    "import torch\n",
    "import torch.nn as nn\n",
    "import time\n",
    "N_TRIALS = 10000\n",
    "N_STARTUP_TRIALS = 5\n",
    "N_EVALUATIONS = 2\n",
    "N_TIMESTEPS = 20000\n",
    "EVAL_FREQ = int(N_TIMESTEPS / N_EVALUATIONS)\n",
    "N_EVAL_EPISODES = 3\n",
    "\n",
    "ENV_ID = \"CurvyRaceEnv-v0\"\n",
    "\n",
    "DEFAULT_HYPERPARAMS = {\n",
    "    \"policy\": \"MlpPolicy\",\n",
    "    \"env\": ENV_ID,\n",
    "}"
   ]
  },
  {
   "cell_type": "code",
   "execution_count": 6,
   "id": "fc389f0c3227f94d",
   "metadata": {
    "collapsed": false,
    "ExecuteTime": {
     "end_time": "2024-01-07T19:24:56.073278200Z",
     "start_time": "2024-01-07T19:24:56.036747900Z"
    }
   },
   "outputs": [],
   "source": [
    "from typing import Optional\n",
    "\n",
    "class TrialEvalCallback(EvalCallback):\n",
    "    \"\"\"\n",
    "    Callback used for evaluating and reporting a trial.\n",
    "    \"\"\"\n",
    "\n",
    "    def __init__(\n",
    "            self,\n",
    "            eval_env: gym.Env,\n",
    "            trial: optuna.Trial,\n",
    "            n_eval_episodes: int = 5,\n",
    "            eval_freq: int = 10000,\n",
    "            deterministic: bool = True,\n",
    "            verbose: int = 0,\n",
    "            best_model_save_path: Optional[str] = None,\n",
    "            log_path: Optional[str] = None,\n",
    "            callback_after_eval: Optional[BaseCallback] = None\n",
    "    ):\n",
    "\n",
    "        super().__init__(\n",
    "            eval_env=eval_env,\n",
    "            n_eval_episodes=n_eval_episodes,\n",
    "            eval_freq=eval_freq,\n",
    "            deterministic=deterministic,\n",
    "            verbose=verbose,\n",
    "            best_model_save_path=best_model_save_path,\n",
    "            log_path=log_path,\n",
    "            callback_after_eval=callback_after_eval\n",
    "        )\n",
    "        self.trial = trial\n",
    "        self.eval_idx = 0\n",
    "        self.is_pruned = False\n",
    "\n",
    "    def _on_step(self) -> bool:\n",
    "        continue_training = True\n",
    "        if self.eval_freq > 0 and self.n_calls % self.eval_freq == 0:\n",
    "            continue_training = super()._on_step()\n",
    "            self.eval_idx += 1\n",
    "            # report best or report current ?\n",
    "            # report num_timesteps or elapsed time ?\n",
    "            self.trial.report(self.last_mean_reward, self.eval_idx)\n",
    "            # Prune trial if needed\n",
    "            if self.trial.should_prune():\n",
    "                self.is_pruned = True\n",
    "                return False\n",
    "        return continue_training"
   ]
  },
  {
   "cell_type": "code",
   "execution_count": 7,
   "id": "4abe44414e5bbece",
   "metadata": {
    "collapsed": false,
    "ExecuteTime": {
     "end_time": "2024-01-07T19:24:56.839966300Z",
     "start_time": "2024-01-07T19:24:56.808438Z"
    }
   },
   "outputs": [],
   "source": [
    "from typing import Dict, Any, Union, Callable\n",
    " \n",
    "def sample_ppo_params(trial: optuna.Trial) -> Dict[str, Any]:\n",
    "    \"\"\"\n",
    "    Sampler for PPO hyperparams.\n",
    "    \n",
    "    :param trial:\n",
    "    :return:\n",
    "    \"\"\"\n",
    "    batch_size = trial.suggest_categorical(\"batch_size\", [8, 16, 32, 64, 128, 256, 512, 1024])\n",
    "    n_steps = trial.suggest_categorical(\"n_steps\", [8, 16, 32, 64, 128, 256, 512, 1024, 2048])\n",
    "    gamma = trial.suggest_categorical(\"gamma\", [0.5, 0.8, 0.9, 0.95, 0.98, 0.99, 0.995, 0.999, 0.9999])\n",
    "    learning_rate = trial.suggest_float(\"learning_rate\", 1e-5, 1)\n",
    "    #lr_schedule = trial.suggest_categorical('lr_schedule', ['linear', 'constant'])\n",
    "    ent_coef = trial.suggest_float(\"ent_coef\", 0.00000001, 0.1)\n",
    "    clip_range = trial.suggest_categorical(\"clip_range\", [0.1, 0.2, 0.3, 0.4])\n",
    "    n_epochs = trial.suggest_categorical(\"n_epochs\", [1, 5, 10, 20])\n",
    "    gae_lambda = trial.suggest_categorical(\"gae_lambda\", [0.8, 0.9, 0.92, 0.95, 0.98, 0.99, 1.0])\n",
    "    max_grad_norm = trial.suggest_categorical(\"max_grad_norm\", [0.3, 0.5, 0.6, 0.7, 0.8, 0.9, 1, 2, 5])\n",
    "    vf_coef = trial.suggest_float(\"vf_coef\", 0, 1)\n",
    "    \n",
    "    # Uncomment for gSDE (continuous actions)\n",
    "    # log_std_init = trial.suggest_uniform(\"log_std_init\", -4, 1)\n",
    "    # Uncomment for gSDE (continuous action)\n",
    "    # sde_sample_freq = trial.suggest_categorical(\"sde_sample_freq\", [-1, 8, 16, 32, 64, 128, 256])\n",
    "    # Orthogonal initialization\n",
    "    ortho_init = trial.suggest_categorical('ortho_init', [False, True])\n",
    "    activation_fn = trial.suggest_categorical('activation_fn', ['tanh', 'relu', 'elu', 'leaky_relu'])\n",
    "    \n",
    "    # TODO: account when using multiple envs\n",
    "    if batch_size > n_steps:\n",
    "        batch_size = n_steps\n",
    "    \n",
    "    #if lr_schedule == \"linear\":\n",
    "       # learning_rate = linear_schedule(learning_rate)\n",
    "    \n",
    "    # Independent networks usually work best\n",
    "    # when not working with images\n",
    "    \"\"\"\n",
    "    net_arch = trial.suggest_categorical(\"net_arch\", [\"tiny\", \"small\", \"medium\"])\n",
    "    net_arch = {\n",
    "        \"tiny\": [dict(pi=[8, 8], vf=[8, 8])],\n",
    "        \"small\": [dict(pi=[64, 64], vf=[64, 64])],\n",
    "        \"medium\": [dict(pi=[256, 256], vf=[256, 256])],\n",
    "    }[net_arch]\n",
    "    \"\"\"\n",
    "    net_arch_width = trial.suggest_categorical(\"net_arch_width\", [8, 16, 32, 64, 128, 256, 512])\n",
    "    net_arch_depth = trial.suggest_int(\"net_arch_depth\", 1, 3)\n",
    "    net_arch = [dict(pi=[net_arch_width] * net_arch_depth, vf=[net_arch_width] * net_arch_depth)]\n",
    "    \n",
    "    activation_fn = {\"tanh\": nn.Tanh, \"relu\": nn.ReLU, \"elu\": nn.ELU, \"leaky_relu\": nn.LeakyReLU}[activation_fn]\n",
    "    \n",
    "    return {\n",
    "        \"n_steps\": n_steps,\n",
    "        \"batch_size\": batch_size,\n",
    "        \"gamma\": gamma,\n",
    "        \"learning_rate\": learning_rate,\n",
    "        \"ent_coef\": ent_coef,\n",
    "        \"clip_range\": clip_range,\n",
    "        \"n_epochs\": n_epochs,\n",
    "        \"gae_lambda\": gae_lambda,\n",
    "        \"max_grad_norm\": max_grad_norm,\n",
    "        \"vf_coef\": vf_coef,\n",
    "        # \"sde_sample_freq\": sde_sample_freq,\n",
    "        \"policy_kwargs\": dict(\n",
    "            # log_std_init=log_std_init,\n",
    "            net_arch=net_arch,\n",
    "            activation_fn=activation_fn,\n",
    "            ortho_init=ortho_init,\n",
    "        ),\n",
    "    }"
   ]
  },
  {
   "cell_type": "code",
   "execution_count": 8,
   "id": "eb81230539142dfb",
   "metadata": {
    "collapsed": false,
    "ExecuteTime": {
     "end_time": "2024-01-07T19:24:58.693057700Z",
     "start_time": "2024-01-07T19:24:58.577959100Z"
    }
   },
   "outputs": [],
   "source": [
    "from stable_baselines3 import A2C, PPO, TD3\n",
    "\n",
    "def objective(trial: optuna.Trial) -> float:\n",
    "\n",
    "    time.sleep(random.random() * 16)\n",
    "\n",
    "    step_mul = trial.suggest_categorical(\"step_mul\", [4, 8, 16, 32, 64])\n",
    "    env_kwargs = {\"step_mul\": step_mul}\n",
    "\n",
    "    sampled_hyperparams = sample_ppo_params(trial)\n",
    "\n",
    "\n",
    "    env = gymnasium.make(ENV_ID)\n",
    "    env = Monitor(env)\n",
    "    model = PPO(\"MlpPolicy\", env=env, seed=None, verbose=0, **sampled_hyperparams)\n",
    "\n",
    "    stop_callback = StopTrainingOnNoModelImprovement(max_no_improvement_evals=30, min_evals=50, verbose=1)\n",
    "    eval_callback = TrialEvalCallback(\n",
    "        env, trial, \n",
    "        n_eval_episodes=5, eval_freq=10000, deterministic=False, callback_after_eval=stop_callback\n",
    "    )\n",
    "\n",
    "    \n",
    "\n",
    "    try:\n",
    "        model.learn(10000, callback=eval_callback)\n",
    "        env.close()\n",
    "    except (AssertionError, ValueError) as e:\n",
    "        env.close()\n",
    "        print(e)\n",
    "        print(\"============\")\n",
    "        print(\"Sampled params:\")\n",
    "        print(sampled_hyperparams)\n",
    "        raise optuna.exceptions.TrialPruned()\n",
    "\n",
    "    is_pruned = eval_callback.is_pruned\n",
    "    reward = eval_callback.best_mean_reward\n",
    "\n",
    "    del model.env\n",
    "    del model\n",
    "\n",
    "    if is_pruned:\n",
    "        raise optuna.exceptions.TrialPruned()\n",
    "\n",
    "    return reward"
   ]
  },
  {
   "cell_type": "code",
   "execution_count": 9,
   "id": "c97768c52d3d9ed4",
   "metadata": {
    "collapsed": false,
    "ExecuteTime": {
     "end_time": "2024-01-07T19:25:04.006539Z",
     "start_time": "2024-01-07T19:25:03.960499500Z"
    }
   },
   "outputs": [],
   "source": [
    "#study = optuna.create_study(study_name=\"PPO2\", storage=\"sqlite:///DRL2.db\", load_if_exists=True, direction=\"maximize\")\n",
    "#study.optimize(objective, n_trials=N_TRIALS, n_jobs=4, timeout=600, gc_after_trial=True, show_progress_bar=True)"
   ]
  },
  {
   "cell_type": "code",
   "execution_count": 10,
   "id": "dfb78aa68a95e398",
   "metadata": {
    "collapsed": false,
    "ExecuteTime": {
     "end_time": "2024-01-07T22:54:17.962922900Z",
     "start_time": "2024-01-07T19:25:06.629860100Z"
    }
   },
   "outputs": [
    {
     "name": "stdout",
     "output_type": "stream",
     "text": [
      "Using cuda device\n",
      "Wrapping the env with a `Monitor` wrapper\n",
      "Wrapping the env in a DummyVecEnv.\n"
     ]
    },
    {
     "name": "stderr",
     "output_type": "stream",
     "text": [
      "C:\\Studium\\MasterStudium\\DRL\\Studienarbeiten\\Studienarbeit2\\DRL_Studienarbeit2_env\\Lib\\site-packages\\gymnasium\\utils\\passive_env_checker.py:181: DeprecationWarning: \u001B[33mWARN: Current gymnasium version requires that `Env.reset` can be passed `options` to allow the environment initialisation to be passed additional information.\u001B[0m\n",
      "  logger.deprecation(\n"
     ]
    }
   ],
   "source": [
    "from stable_baselines3.common.env_util import make_vec_env\n",
    "from stable_baselines3 import DDPG, TD3, SAC\n",
    "from stable_baselines3.common.noise import NormalActionNoise, OrnsteinUhlenbeckActionNoise\n",
    "\n",
    "\n",
    "env = gymnasium.make(\"CurvyRaceEnv-v0\")\n",
    "\n",
    "\n",
    "model_ddpg = DDPG(\"MlpPolicy\", env,  learning_rate=2e-3,policy_kwargs=dict(net_arch=[400,300]), learning_starts=5000,gradient_steps=-1, gamma = 0.9, buffer_size=200000)\n",
    "model_td3 = TD3(\"MlpPolicy\", env,  learning_rate=2e-3,policy_kwargs=dict(net_arch=[400,300]), learning_starts=5000,gradient_steps=-1, gamma = 0.9, buffer_size=200000)\n",
    "model_sac = SAC(\"MlpPolicy\", env, verbose=1, batch_size=64, learning_rate=2e-3, gamma=0.9, tau=0.05)\n",
    "    \n",
    "model_ddpg.learn(total_timesteps=1e6, log_interval=10)\n",
    "model_ddpg.save(\"model_ddpg\")\n",
    "_, _ = env.reset()\n",
    "#model_sac.learn(total_timesteps=1e5, log_interval=10)\n",
    "#model_sac.save(\"model_sac\")\n",
    "#_, _ = env.reset()\n",
    "#model_td3.learn(total_timesteps=1e5, log_interval=10)\n",
    "#model_td3.save(\"model_td3\")\n",
    "\n",
    "#del model_ddpg\n",
    "#del model_sac\n",
    "#del model_td3"
   ]
  },
  {
   "cell_type": "code",
   "execution_count": 11,
   "id": "3ff82e7b",
   "metadata": {
    "ExecuteTime": {
     "end_time": "2024-01-08T07:17:51.411776400Z",
     "start_time": "2024-01-08T07:17:51.372743900Z"
    }
   },
   "outputs": [],
   "source": [
    "def run_env(env, model):\n",
    "    obs, info = env.reset()\n",
    "    done = False\n",
    "    reward_list = []\n",
    "    while not done:\n",
    "        action, _states = model.predict(obs)\n",
    "        print(action)\n",
    "        obs, rewards, done, info, _ = env.step(action)\n",
    "        reward_list.append(rewards)\n",
    "        #env.render()\n",
    "    return reward_list"
   ]
  },
  {
   "cell_type": "code",
   "execution_count": 12,
   "id": "e8ac2833",
   "metadata": {
    "ExecuteTime": {
     "end_time": "2024-01-08T07:17:52.664351Z",
     "start_time": "2024-01-08T07:17:52.631322800Z"
    }
   },
   "outputs": [],
   "source": [
    "import numpy as np\n",
    "import matplotlib.pyplot as plt\n",
    "\n",
    "def plot_cumulative_rewards(rewards):\n",
    "    \"\"\"\n",
    "    Plots the cumulative rewards per episode.\n",
    "    \"\"\"\n",
    "    # Calculate the cumulative sum of the list elements\n",
    "    cumulative_rewards = {key: np.cumsum(value) for key, value in rewards.items()}\n",
    "\n",
    "    # Plot the cumulative rewards\n",
    "    for key, value in cumulative_rewards.items():\n",
    "        plt.plot(value, label=key)\n",
    "\n",
    "    plt.xlabel('Episode')\n",
    "    plt.ylabel('Cumulative Reward')\n",
    "    plt.legend()\n",
    "    plt.show()\n"
   ]
  },
  {
   "cell_type": "code",
   "execution_count": 14,
   "id": "40f7ed5cff9b5017",
   "metadata": {
    "collapsed": false,
    "ExecuteTime": {
     "end_time": "2024-01-08T07:18:20.012244900Z",
     "start_time": "2024-01-08T07:18:19.512315900Z"
    }
   },
   "outputs": [
    {
     "name": "stdout",
     "output_type": "stream",
     "text": [
      "[ 1. -1.]\n",
      "[ 1. -1.]\n",
      "[1. 1.]\n",
      "[1. 1.]\n",
      "[ 1. -1.]\n",
      "[1. 1.]\n",
      "[1. 1.]\n",
      "[ 1. -1.]\n",
      "[1. 1.]\n",
      "[ 1. -1.]\n",
      "[1. 1.]\n",
      "[1. 1.]\n",
      "[1. 1.]\n",
      "[ 1. -1.]\n",
      "[1. 1.]\n",
      "[ 1. -1.]\n",
      "[1.        0.9999895]\n",
      "[ 1. -1.]\n",
      "[ 1. -1.]\n",
      "[1. 1.]\n",
      "[ 1. -1.]\n",
      "[1. 1.]\n",
      "[ 1. -1.]\n",
      "[1.        0.8548105]\n",
      "[ 1. -1.]\n",
      "[ 1. -1.]\n",
      "[1.        0.9995525]\n",
      "[ 1.         -0.99999994]\n",
      "[ 1.         -0.99993753]\n",
      "[1. 1.]\n",
      "[ 1.        -0.9961522]\n",
      "[1. 1.]\n",
      "[ 1.        -0.8109627]\n",
      "[1.        0.9976604]\n",
      "[ 1.         -0.19251418]\n",
      "[1.         0.66941524]\n",
      "[ 1.        -0.9713124]\n",
      "[1.        0.9832392]\n",
      "[ 1.         -0.97879493]\n",
      "[1.        0.9898437]\n",
      "[ 1.         -0.98560876]\n",
      "[1.         0.99249184]\n",
      "[ 1.         -0.99995846]\n",
      "[1.         0.99347925]\n",
      "[ 1. -1.]\n",
      "[1.         0.99999833]\n",
      "[ 1. -1.]\n",
      "[1. 1.]\n",
      "[ 1.        -0.0012331]\n",
      "[1.        0.9969952]\n",
      "[ 1. -1.]\n",
      "[1.        0.9999988]\n",
      "[ 1. -1.]\n",
      "[ 1.         -0.99966496]\n",
      "[1. 1.]\n",
      "[ 1. -1.]\n",
      "[ 1.        -0.9933168]\n",
      "[1. 1.]\n",
      "[ 1. -1.]\n",
      "[1.         0.99997616]\n",
      "[ 1. -1.]\n",
      "[ 1. -1.]\n",
      "[1. 1.]\n",
      "[ 1. -1.]\n",
      "[1. 1.]\n",
      "[ 1. -1.]\n",
      "[1. 1.]\n",
      "[ 1. -1.]\n",
      "[1. 1.]\n",
      "[ 1. -1.]\n",
      "[1. 1.]\n",
      "[ 1. -1.]\n",
      "[1. 1.]\n",
      "[ 1. -1.]\n",
      "[1. 1.]\n",
      "[ 1. -1.]\n",
      "[1. 1.]\n",
      "[1. 1.]\n",
      "[ 1. -1.]\n",
      "[1. 1.]\n",
      "[ 1. -1.]\n",
      "[1. 1.]\n",
      "[ 1. -1.]\n",
      "[1. 1.]\n",
      "[ 1. -1.]\n",
      "[1. 1.]\n",
      "[ 1. -1.]\n",
      "[1. 1.]\n",
      "[ 1. -1.]\n",
      "[1. 1.]\n",
      "[ 1. -1.]\n",
      "[1. 1.]\n",
      "[ 1. -1.]\n",
      "[1. 1.]\n",
      "[ 1. -1.]\n",
      "[1. 1.]\n",
      "[1. 1.]\n",
      "[ 1. -1.]\n",
      "[ 1. -1.]\n",
      "[1. 1.]\n",
      "[ 1.        -0.7877402]\n"
     ]
    },
    {
     "data": {
      "text/plain": "<Figure size 640x480 with 1 Axes>",
      "image/png": "[encoded data removed]"
     },
     "metadata": {},
     "output_type": "display_data"
    }
   ],
   "source": [
    "from stable_baselines3 import DDPG,SAC, TD3\n",
    "ddpg = DDPG.load(\"model_ddpg.zip\")\n",
    "#sac = SAC.load(\"model_sac.zip\")\n",
    "#td3 = TD3.load(\"model_td3.zip\")\n",
    "\n",
    "test = gymnasium.make(\"CurvyRaceEnv-v0\")\n",
    "\n",
    "rewards = {}\n",
    "rewards[\"DDPG\"] = run_env(test, ddpg)\n",
    "\n",
    "#print(\"-----------------------------------------------------------------------------------\")\n",
    "#_,_ = test.reset()\n",
    "#rewards[\"SAC\"] = run_env(test, sac)\n",
    "\n",
    "#print(\"-----------------------------------------------------------------------------------\")\n",
    "#_,_ = test.reset()\n",
    "\n",
    "#rewards[\"TD3\"] = run_env(test, sac)\n",
    "\n",
    "#print(\"-----------------------------------------------------------------------------------\")\n",
    "\n",
    "\n",
    "plot_cumulative_rewards(rewards)"
   ]
  },
  {
   "cell_type": "code",
   "execution_count": null,
   "id": "e523bfc2",
   "metadata": {},
   "outputs": [],
   "source": [
    "rewards"
   ]
  },
  {
   "cell_type": "code",
   "execution_count": null,
   "id": "b2ffd85a423e7735",
   "metadata": {
    "collapsed": false
   },
   "outputs": [],
   "source": []
  }
 ],
 "metadata": {
  "kernelspec": {
   "display_name": "Python 3 (ipykernel)",
   "language": "python",
   "name": "python3"
  },
  "language_info": {
   "codemirror_mode": {
    "name": "ipython",
    "version": 3
   },
   "file_extension": ".py",
   "mimetype": "text/x-python",
   "name": "python",
   "nbconvert_exporter": "python",
   "pygments_lexer": "ipython3",
   "version": "3.11.3"
  }
 },
 "nbformat": 4,
 "nbformat_minor": 5
}
