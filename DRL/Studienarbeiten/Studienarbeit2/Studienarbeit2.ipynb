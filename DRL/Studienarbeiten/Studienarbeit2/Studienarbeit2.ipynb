{
 "cells": [
  {
   "cell_type": "markdown",
   "id": "0becfdc3",
   "metadata": {},
   "source": [
    "# 2. Studienarbeit in Reinforcement Learning"
   ]
  },
  {
   "cell_type": "markdown",
   "id": "3027091b",
   "metadata": {},
   "source": [
    "<a id=\"0\"></a>\n",
    " # Gliederung\n",
    " \n",
    "0. [How to run this Notebook](#0)   \n",
    "1. [Imports](#1)  \n",
    "2. [Validate & Register Environment](#2) \n",
    "3. [Hyperparameter optimization using Optuna](#3) \n",
    "    - [Run optimization](#3a)\n",
    "4. [Model training](#4)\n",
    "5. [Model Evaluation](#5)\n",
    "6. [Conclusion](#6)\n"
   ]
  },
  {
   "cell_type": "markdown",
   "source": [
    "## How to run this Notebook <a class=\"anchor\" id=\"0\"></a>\n",
    "1. Create a virtual environment using `python -m  venv /path/to/new/environment`\n",
    "2. Install Packages from requirements.txt using `pip install -r requirements.txt`"
   ],
   "metadata": {
    "collapsed": false
   },
   "id": "6acc0f6413d488c9"
  },
  {
   "cell_type": "markdown",
   "id": "6598ec7e",
   "metadata": {},
   "source": [
    "## Imports<a class=\"anchor\" id=\"1\"></a>"
   ]
  },
  {
   "cell_type": "code",
   "execution_count": 1,
   "id": "initial_id",
   "metadata": {
    "collapsed": true,
    "jupyter": {
     "outputs_hidden": true
    },
    "ExecuteTime": {
     "end_time": "2024-01-31T18:49:27.297630400Z",
     "start_time": "2024-01-31T18:49:18.132254300Z"
    }
   },
   "outputs": [
    {
     "name": "stdout",
     "output_type": "stream",
     "text": [
      "WARNING:tensorflow:From C:\\Studium\\MasterStudium\\DRL\\Studienarbeiten\\Studienarbeit2\\DRL_Studienarbeit2_env\\Lib\\site-packages\\keras\\src\\losses.py:2976: The name tf.losses.sparse_softmax_cross_entropy is deprecated. Please use tf.compat.v1.losses.sparse_softmax_cross_entropy instead.\n"
     ]
    }
   ],
   "source": [
    "%load_ext autoreload\n",
    "import numpy as np\n",
    "import matplotlib.pyplot as plt\n",
    "import optuna\n",
    "import CurvyRaceEnv\n",
    "from stable_baselines3.common.env_checker import check_env\n",
    "from stable_baselines3.common.monitor import Monitor\n",
    "from stable_baselines3.common.callbacks import EvalCallback, StopTrainingOnNoModelImprovement\n",
    "from stable_baselines3.common.noise import NormalActionNoise, OrnsteinUhlenbeckActionNoise\n",
    "from stable_baselines3 import DDPG,SAC, TD3, A2C, PPO\n",
    "\n",
    "import gymnasium\n",
    "from gymnasium.envs.registration import register\n",
    "\n",
    "import pandas as pd\n",
    "import optuna\n",
    "\n",
    "import torch\n",
    "import torch.nn as nn\n",
    "import time\n",
    "\n",
    "%matplotlib inline\n",
    "%reload_ext autoreload"
   ]
  },
  {
   "cell_type": "markdown",
   "id": "670640d0",
   "metadata": {},
   "source": [
    "## Validate & Register Environment<a class=\"anchor\" id=\"2\"></a>\n"
   ]
  },
  {
   "cell_type": "markdown",
   "source": [
    "In order to use a custom Environment with gymnasium and stable_baselines3, it needs to be validated and registered. "
   ],
   "metadata": {
    "collapsed": false
   },
   "id": "b699448bab1c8e6f"
  },
  {
   "cell_type": "code",
   "execution_count": 2,
   "id": "edaaebe4",
   "metadata": {
    "ExecuteTime": {
     "end_time": "2024-01-31T18:49:29.744152300Z",
     "start_time": "2024-01-31T18:49:29.711787500Z"
    }
   },
   "outputs": [
    {
     "name": "stderr",
     "output_type": "stream",
     "text": [
      "C:\\Studium\\MasterStudium\\DRL\\Studienarbeiten\\Studienarbeit2\\DRL_Studienarbeit2_env\\Lib\\site-packages\\stable_baselines3\\common\\env_checker.py:441: UserWarning: We recommend you to use a symmetric and normalized Box action space (range=[-1, 1]) cf. https://stable-baselines3.readthedocs.io/en/master/guide/rl_tips.html\n",
      "  warnings.warn(\n"
     ]
    }
   ],
   "source": [
    "test = CurvyRaceEnv.CurvyRaceEnv()\n",
    "check_env(test)\n",
    "ENV_ID = \"CurvyRaceEnv-v0\"\n",
    "register(\n",
    "     id=ENV_ID,\n",
    "     entry_point=\"CurvyRaceEnv:CurvyRaceEnv\",\n",
    "     max_episode_steps=100,\n",
    ")"
   ]
  },
  {
   "cell_type": "markdown",
   "id": "459ed15c",
   "metadata": {},
   "source": [
    "## Hyperparameter optimization using Optuna <a class=\"anchor\" id=\"3\"></a>"
   ]
  },
  {
   "cell_type": "markdown",
   "source": [
    "In this section Optuna is being used to optimize Hyperparameters. The objective method is the method we are trying to optimize. It takes an optuna trial, the algorithm to optimize and the amount of timesteps the model is supposed to be trained for."
   ],
   "metadata": {
    "collapsed": false
   },
   "id": "333dd9e12271cbe5"
  },
  {
   "cell_type": "code",
   "execution_count": 3,
   "id": "a6f149d374e7d57f",
   "metadata": {
    "collapsed": false,
    "ExecuteTime": {
     "end_time": "2024-01-31T18:49:32.165635200Z",
     "start_time": "2024-01-31T18:49:32.152624Z"
    }
   },
   "outputs": [],
   "source": [
    "def evaluate_model(model, env, num_episodes=100):  \n",
    "    \"\"\"\n",
    "    Evaluates the performance of a reinforcement learning model over a specified number of episodes.\n",
    "\n",
    "    Parameters:\n",
    "    - model: The reinforcement learning model to be evaluated.\n",
    "    - env: The environment in which the model is evaluated.\n",
    "    - num_episodes (int): The number of episodes to run for evaluation. Defaults to 100.\n",
    "\n",
    "    Returns:\n",
    "    float: The mean reward achieved by the model over the specified number of episodes.\n",
    "\n",
    "    Example:\n",
    "    >>> trained_model = ...  # Initialize or load your trained model\n",
    "    >>> environment = ...  # Initialize your environment\n",
    "    >>> mean_reward = evaluate_model(trained_model, environment, num_episodes=50)\n",
    "    >>> print(mean_reward)\n",
    "    \"\"\"    \n",
    "    total_reward = 0.0\n",
    "    for _ in range(num_episodes):\n",
    "        obs, info = env.reset()\n",
    "        done = False\n",
    "        while not done:\n",
    "            action, _ = model.predict(obs)\n",
    "            obs, reward, done,info, _ = env.step(action)\n",
    "            total_reward += reward\n",
    "    mean_reward = total_reward / num_episodes\n",
    "    return mean_reward"
   ]
  },
  {
   "cell_type": "code",
   "execution_count": 4,
   "id": "eb81230539142dfb",
   "metadata": {
    "collapsed": false,
    "ExecuteTime": {
     "end_time": "2024-01-31T18:49:32.814498300Z",
     "start_time": "2024-01-31T18:49:32.797984700Z"
    }
   },
   "outputs": [],
   "source": [
    "def objective(trial: optuna.Trial, model, timesteps) -> float:   \n",
    "    \"\"\"\n",
    "    This function defines the objective for the Optuna hyperparameter optimization.\n",
    "    It creates an environment, initializes a reinforcement learning model based on the specified type,\n",
    "    trains the model, and evaluates its performance based on a given number of timesteps.\n",
    "\n",
    "    Parameters:\n",
    "    - trial (optuna.Trial): An Optuna Trial object providing hyperparameter suggestions.\n",
    "    - model (str): The type of reinforcement learning model to use. Supported options: \"DDPG\", \"TD3\", \"SAC\", \"A2C\", \"PPO\".\n",
    "    - timesteps (int): The total number of training timesteps for the reinforcement learning model.\n",
    "\n",
    "    Returns:\n",
    "    float: The mean reward achieved by the trained model.\n",
    "\n",
    "    Raises:\n",
    "    ValueError: If an unsupported model type is provided.\n",
    "\n",
    "    Example:\n",
    "    >>> study_model = \"SAC\"\n",
    "    >>> study = optuna.create_study(study_name=study_model, storage=\"sqlite:///DRL2.db\", load_if_exists=True, direction=\"maximize\")\n",
    "    >>> study.optimize(objective(study_model, 10000), n_trials=10000, show_progress_bar=True)\n",
    "    \"\"\"\n",
    "    # Create Environment\n",
    "    env = gymnasium.make(ENV_ID)  \n",
    "    \n",
    "    # Create a model\n",
    "    match model:\n",
    "        case \"DDPG\":\n",
    "            hyperparams = {\n",
    "            'learning_starts': trial.suggest_int('learning_starts', 50,400),\n",
    "            'learning_rate': trial.suggest_float('learning_rate', 1e-5, 1e-1, log=True),\n",
    "            'gamma': trial.suggest_float('gamma', 0.9, 0.999),\n",
    "            'tau': trial.suggest_float('tau', 1e-3, 1e-1, log=True),\n",
    "            'batch_size': trial.suggest_int('batch_size', 16,1024),    \n",
    "            'buffer_size': trial.suggest_int('buffer_size', 100000,300000),\n",
    "            'train_freq': trial.suggest_int('train_freq', 1,10),\n",
    "            'gradient_steps': trial.suggest_int('gradient_steps', 1,20),\n",
    "\n",
    "            }\n",
    "            model = DDPG('MlpPolicy', env, **hyperparams,\n",
    "                 action_noise=NormalActionNoise(mean=np.zeros(env.action_space.shape), sigma=0.1 * np.ones(env.action_space.shape)))\n",
    "        case \"TD3\":\n",
    "            hyperparams = {\n",
    "            'learning_starts': trial.suggest_int('learning_starts', 50,400),\n",
    "            'learning_rate': trial.suggest_float('learning_rate', 1e-5, 1e-1, log=True),\n",
    "            'gamma': trial.suggest_float('gamma', 0.9, 0.999),\n",
    "            'tau': trial.suggest_float('tau', 1e-3, 1e-1, log=True),\n",
    "            'batch_size': trial.suggest_int('batch_size', 16,1024), \n",
    "            'buffer_size': trial.suggest_int('buffer_size', 100000,300000),\n",
    "            'train_freq': trial.suggest_int('train_freq', 1,10),\n",
    "            'gradient_steps': trial.suggest_int('gradient_steps', 1,20),                \n",
    "            }\n",
    "            model = TD3('MlpPolicy', env, **hyperparams,\n",
    "                 action_noise=NormalActionNoise(mean=np.zeros(env.action_space.shape), sigma=0.1 * np.ones(env.action_space.shape)))\n",
    "\n",
    "        case \"SAC\":\n",
    "            hyperparams = {\n",
    "            'learning_starts': trial.suggest_int('learning_starts', 50,400),\n",
    "            'learning_rate': trial.suggest_float('learning_rate', 1e-5, 1e-1, log=True),\n",
    "            'gamma': trial.suggest_float('gamma', 0.9, 0.999),\n",
    "            'tau': trial.suggest_float('tau', 1e-3, 1e-1, log=True),\n",
    "            'batch_size': trial.suggest_int('batch_size', 16,1024),  \n",
    "            'buffer_size': trial.suggest_int('buffer_size', 100000,300000),\n",
    "            'train_freq': trial.suggest_int('train_freq', 1,10),\n",
    "            'gradient_steps': trial.suggest_int('gradient_steps', 1,20),     \n",
    "            }\n",
    "            model = SAC('MlpPolicy', env, **hyperparams,\n",
    "                 action_noise=NormalActionNoise(mean=np.zeros(env.action_space.shape), sigma=0.1 * np.ones(env.action_space.shape)))\n",
    "\n",
    "        case \"A2C\":\n",
    "            hyperparams = {\n",
    "            'learning_rate': trial.suggest_float('learning_rate', 1e-5, 1e-1, log=True),\n",
    "            'gamma': trial.suggest_float('gamma', 0.9, 0.999),\n",
    "            'n_steps': trial.suggest_int('n_steps', 1024,4096),            \n",
    "            'gae_lambda': trial.suggest_int('gae_lambda', 0.8,0.99),            \n",
    "            'ent_coef': trial.suggest_float('ent_coef', 0,1),\n",
    "            'vf_coef': trial.suggest_float('vf_coef', 0,1),\n",
    "            'max_grad_norm': trial.suggest_float('max_grad_norm',0,1),\n",
    "            }\n",
    "            model = A2C('MlpPolicy', env, **hyperparams)\n",
    "\n",
    "        case \"PPO\":\n",
    "            hyperparams = {\n",
    "            'learning_rate': trial.suggest_float('learning_rate', 1e-5, 1e-1, log=True),\n",
    "            'gamma': trial.suggest_float('gamma', 0.9, 0.999),\n",
    "            'batch_size': trial.suggest_int('batch_size', 16,1024),   \n",
    "            'n_steps': trial.suggest_int('n_steps', 1024,4096),\n",
    "            'n_epochs': trial.suggest_int('n_epochs', 5,15),\n",
    "            'gae_lambda': trial.suggest_int('gae_lambda', 0.8,0.99),\n",
    "            'clip_range': trial.suggest_float('clip_range', 0,1),\n",
    "            'ent_coef': trial.suggest_float('ent_coef', 0,1),\n",
    "            'vf_coef': trial.suggest_float('vf_coef', 0,1),\n",
    "            'max_grad_norm': trial.suggest_float('max_grad_norm',0,1),\n",
    "            }\n",
    "            model = PPO('MlpPolicy', env, **hyperparams)        \n",
    "        case _:\n",
    "             \n",
    "            print(\"Unsupported model. Try DDPG, TD3, SAC, A2C or PPO instead\")\n",
    "            return\n",
    "    \n",
    "    # Train the model\n",
    "    model.learn(total_timesteps=timesteps)  # Adjust the total_timesteps as needed\n",
    "\n",
    "    # Evaluate the model\n",
    "    mean_reward = evaluate_model(model, env)\n",
    "    env.close()\n",
    "    return mean_reward"
   ]
  },
  {
   "cell_type": "markdown",
   "id": "6500eb62",
   "metadata": {},
   "source": [
    "### Run optimization <a class=\"anchor\" id=\"3a\"></a>"
   ]
  },
  {
   "cell_type": "markdown",
   "source": [
    "To run the optimization we simply create a study and choose what algorithm is supposed to be optimized. Of course one can optimze Hyperparameters even more but good sets of Hyperparameters have already been found for each algorithm."
   ],
   "metadata": {
    "collapsed": false
   },
   "id": "14995cafd76f00f2"
  },
  {
   "cell_type": "code",
   "execution_count": null,
   "id": "c97768c52d3d9ed4",
   "metadata": {
    "collapsed": false
   },
   "outputs": [],
   "source": [
    "study_model = \"DDPG\"\n",
    "study = optuna.create_study(study_name=study_model, storage=\"sqlite:///DRL2.db\", load_if_exists=True, direction=\"maximize\")\n",
    "study.optimize(lambda trial: objective(trial=trial, model=study_model, timesteps=2500), n_trials=300, show_progress_bar=True)\n",
    "\n",
    "study_model = \"TD3\"\n",
    "study = optuna.create_study(study_name=study_model, storage=\"sqlite:///DRL2.db\", load_if_exists=True, direction=\"maximize\")\n",
    "study.optimize(lambda trial: objective(trial=trial, model=study_model, timesteps=2500), n_trials=300, show_progress_bar=True)\n",
    "\n",
    "study_model = \"A2C\"\n",
    "study = optuna.create_study(study_name=study_model, storage=\"sqlite:///DRL2.db\", load_if_exists=True, direction=\"maximize\")\n",
    "study.optimize(lambda trial: objective(trial=trial, model=study_model, timesteps=2500), n_trials=300, show_progress_bar=True)\n",
    "\n",
    "study_model = \"PPO\"\n",
    "study = optuna.create_study(study_name=study_model, storage=\"sqlite:///DRL2.db\", load_if_exists=True, direction=\"maximize\")\n",
    "study.optimize(lambda trial: objective(trial=trial, model=study_model, timesteps=2500), n_trials=300, show_progress_bar=True)\n",
    "\n",
    "study_model = \"SAC\"\n",
    "study = optuna.create_study(study_name=study_model, storage=\"sqlite:///DRL2.db\", load_if_exists=True, direction=\"maximize\")\n",
    "study.optimize(lambda trial: objective(trial=trial, model=study_model, timesteps=2500), n_trials=300, show_progress_bar=True)"
   ]
  },
  {
   "cell_type": "markdown",
   "id": "d463c923",
   "metadata": {},
   "source": [
    "## Model training <a class=\"anchor\" id=\"4\"></a>"
   ]
  },
  {
   "cell_type": "markdown",
   "source": [
    "In order to train the models, we pass the best set of found Hyperparameters to the learn_model methode. This also generates a log of how good/bad the model performs for each episode."
   ],
   "metadata": {
    "collapsed": false
   },
   "id": "489b615faf78ec4b"
  },
  {
   "cell_type": "code",
   "execution_count": 27,
   "id": "8de89c14af6b7867",
   "metadata": {
    "collapsed": false,
    "ExecuteTime": {
     "end_time": "2024-01-31T18:57:11.665079700Z",
     "start_time": "2024-01-31T18:57:11.640559700Z"
    }
   },
   "outputs": [],
   "source": [
    "def learn_model(env, model, hyperparameters, timesteps, monitor_dir, model_dir):\n",
    "    \"\"\"\n",
    "    Trains a reinforcement learning model in the specified environment using the given hyperparameters and saves the trained model.\n",
    "\n",
    "    Parameters:\n",
    "    - env: The environment in which the model is trained.\n",
    "    - model (str): The type of reinforcement learning model to be trained. Supported options: \"DDPG\", \"TD3\", \"SAC\", \"A2C\", \"PPO\".\n",
    "    - hyperparameters: Dictionary containing hyperparameters for the specified model.\n",
    "    - timesteps (int): The total number of training timesteps.\n",
    "    - monitor_dir (str): The directory for monitoring the training progress.\n",
    "    - model_dir (str): The directory to save the trained model.\n",
    "\n",
    "    Returns:\n",
    "    None\n",
    "\n",
    "    Example:\n",
    "    >>> environment = ...  # Initialize your environment\n",
    "    >>> model_type = \"DDPG\"\n",
    "    >>> hyperparams = {'learning_starts': 50, 'learning_rate': 1e-4, 'gamma': 0.99, 'tau': 0.001, 'batch_size': 64}\n",
    "    >>> total_timesteps = 10000\n",
    "    >>> monitor_directory = \"/path/to/monitor\"\n",
    "    >>> model_directory = \"/path/to/save/model\"\n",
    "    >>> learn_model(environment, model_type, hyperparams, total_timesteps, monitor_directory, model_directory)\n",
    "    \"\"\"\n",
    "    env = Monitor(env, monitor_dir)\n",
    "\n",
    "    match model:\n",
    "        case \"DDPG\":\n",
    "            model = DDPG(env=env, policy=\"MlpPolicy\", **hyperparameters)\n",
    "        case \"TD3\":\n",
    "            model = TD3(env = env, policy=\"MlpPolicy\" ,**hyperparameters)\n",
    "\n",
    "        case \"SAC\":\n",
    "            model = SAC(env = env, policy=\"MlpPolicy\", **hyperparameters)\n",
    "\n",
    "        case \"A2C\":\n",
    "            model = A2C(env = env, policy=\"MlpPolicy\", **hyperparameters)\n",
    "\n",
    "        case \"PPO\":\n",
    "            model = PPO(env = env, policy=\"MlpPolicy\", **hyperparameters)        \n",
    "        case _:\n",
    "            print(\"Unsupported model. Try DDPG, TD3, SAC, A2C or PPO instead\")\n",
    "            return\n",
    "    \n",
    "    model.learn(total_timesteps=timesteps, progress_bar=True)\n",
    "    model.save(model_dir)\n",
    "    env.close()\n",
    "    _, _ = env.reset()\n",
    "    del model\n"
   ]
  },
  {
   "cell_type": "code",
   "execution_count": 28,
   "id": "f2bc2b73",
   "metadata": {
    "ExecuteTime": {
     "end_time": "2024-01-31T18:57:12.222041800Z",
     "start_time": "2024-01-31T18:57:12.204025700Z"
    }
   },
   "outputs": [],
   "source": [
    "def load_best_paramerters(study_name, storage):\n",
    "    \"\"\"\n",
    "    Loads the best hyperparameters from an Optuna study.\n",
    "\n",
    "    Parameters:\n",
    "    - study_name (str): The name of the Optuna study.\n",
    "    - storage (str): The storage URL for the Optuna study.\n",
    "\n",
    "    Returns:\n",
    "    dict: A dictionary containing the best hyperparameters from the study.\n",
    "\n",
    "    Example:\n",
    "    >>> study_name = \"my_study\"\n",
    "    >>> storage_url = \"sqlite:///example.db\"\n",
    "    >>> best_parameters = load_best_parameters(study_name, storage_url)\n",
    "    >>> print(best_parameters)\n",
    "    \"\"\"\n",
    "    loaded_study = optuna.load_study(study_name=study_name, storage=storage)\n",
    "    best_params = loaded_study.best_trial.params\n",
    "    return best_params"
   ]
  },
  {
   "cell_type": "code",
   "execution_count": null,
   "id": "7dac46d481acd2a3",
   "metadata": {
    "collapsed": false
   },
   "outputs": [],
   "source": [
    "env = gymnasium.make(ENV_ID)\n",
    "ddpg_params = load_best_paramerters(\"DDPG\", \"sqlite:///DRL2.db\")\n",
    "learn_model(env=env, model=\"DDPG\", hyperparameters=ddpg_params, timesteps=10000, monitor_dir=\"logs/ddpg\", model_dir=\"models/ddpg\")\n",
    "\n",
    "td3_params = load_best_paramerters(\"TD3\", \"sqlite:///DRL2.db\")\n",
    "learn_model(env = env, model=\"TD3\", hyperparameters=td3_params, timesteps=10000, monitor_dir=\"logs/td3\", model_dir=\"models/td3\")\n",
    "\n",
    "a2c_params = load_best_paramerters(\"A2C\", \"sqlite:///DRL2.db\")\n",
    "learn_model(env = env, model=\"A2C\", hyperparameters=a2c_params, timesteps=100000, monitor_dir=\"logs/a2c\", model_dir=\"models/a2c\")\n",
    "\n",
    "ppo_params = load_best_paramerters(\"PPO\", \"sqlite:///DRL2.db\")\n",
    "learn_model(env = env, model=\"PPO\", hyperparameters=ppo_params, timesteps=100000, monitor_dir=\"logs/ppo\", model_dir=\"models/ppo\")\n",
    "\n",
    "sac_params = load_best_paramerters(\"SAC\", \"sqlite:///DRL2.db\")\n",
    "learn_model(env = env, model=\"SAC\", hyperparameters=sac_params, timesteps=10000, monitor_dir=\"logs/sac\", model_dir=\"models/sac\")\n"
   ]
  },
  {
   "cell_type": "markdown",
   "source": [
    "## Model Evaluation <a class=\"anchor\" id=\"5\"></a>"
   ],
   "metadata": {
    "collapsed": false
   },
   "id": "7de1c6c8b8afb77f"
  },
  {
   "cell_type": "markdown",
   "source": [
    "To evaluate a model, we can load its log and plot its cumulative reward over episode during training."
   ],
   "metadata": {
    "collapsed": false
   },
   "id": "c3df8dae6284ef01"
  },
  {
   "cell_type": "code",
   "execution_count": 30,
   "id": "3ff82e7b",
   "metadata": {
    "ExecuteTime": {
     "end_time": "2024-01-31T19:09:13.215662300Z",
     "start_time": "2024-01-31T19:09:13.200148800Z"
    }
   },
   "outputs": [],
   "source": [
    "def run_env(env, model):\n",
    "    \"\"\"\n",
    "    Runs the specified reinforcement learning model in the given environment.\n",
    "\n",
    "    Parameters:\n",
    "    - env: The environment in which the model is run.\n",
    "    - model: The reinforcement learning model to be run in the environment.\n",
    "\n",
    "    Returns:\n",
    "    None\n",
    "\n",
    "    Example:\n",
    "    >>> environment = ...  # Initialize your environment\n",
    "    >>> trained_model = ...  # Initialize or load your trained model\n",
    "    >>> run_env(environment, trained_model)\n",
    "    \"\"\"\n",
    "    obs, info = env.reset()\n",
    "    done = False\n",
    "    gate_list = []\n",
    "    while not done:\n",
    "        action, _states = model.predict(obs)\n",
    "        obs, rewards, done, _, info = env.step(action)\n",
    "        gate_list.append(info['gate_passed'])\n",
    "        \n",
    "    return gate_list "
   ]
  },
  {
   "cell_type": "code",
   "execution_count": 31,
   "id": "e8ac2833",
   "metadata": {
    "ExecuteTime": {
     "end_time": "2024-01-31T19:09:13.914173700Z",
     "start_time": "2024-01-31T19:09:13.884148Z"
    }
   },
   "outputs": [],
   "source": [
    "def plot_cumulative_rewards(rewards):\n",
    "    \"\"\"\n",
    "    Plots the cumulative rewards over episodes for different keys.\n",
    "\n",
    "    Parameters:\n",
    "    - rewards (dict): A dictionary where keys represent different series and values are lists of rewards.\n",
    "\n",
    "    Returns:\n",
    "    None\n",
    "\n",
    "    Example:\n",
    "    >>> rewards_data = {'Series1': [1, 3, 5, 2], 'Series2': [2, 4, 6, 8]}\n",
    "    >>> plot_cumulative_rewards(rewards_data)\n",
    "    \"\"\"\n",
    "    \n",
    "    # Calculate the cumulative sum of the list elements\n",
    "    cumulative_rewards = {key: np.cumsum(value) for key, value in rewards.items()}\n",
    "\n",
    "    plt.figure(figsize=(16,10))\n",
    "    # Plot the cumulative rewards\n",
    "    for key, value in cumulative_rewards.items():\n",
    "        plt.plot(value, label=key)\n",
    "    \n",
    "    plt.xlabel('Episode')\n",
    "    plt.ylabel('Cumulative Reward')\n",
    "    plt.title('Cumulative Reward over Episodes')\n",
    "    plt.legend()\n",
    "    plt.show()\n"
   ]
  },
  {
   "cell_type": "code",
   "execution_count": 32,
   "id": "d16f8fa998e2ae70",
   "metadata": {
    "collapsed": false,
    "ExecuteTime": {
     "end_time": "2024-01-31T19:09:14.779119Z",
     "start_time": "2024-01-31T19:09:14.765107100Z"
    }
   },
   "outputs": [],
   "source": [
    "def load_log(path):\n",
    "    \"\"\"\n",
    "    Parameters:\n",
    "    - path (str): The file path to the CSV file containing training data.\n",
    "\n",
    "    Returns:\n",
    "    list: A list of numerical values extracted from the CSV file, which represent the return of an episode.\n",
    "\n",
    "    Example:\n",
    "    >>> file_path = \"path/to/numeric_data.csv\"\n",
    "    >>> numeric_data = load_log(file_path)\n",
    "    >>> print(numeric_data)\n",
    "    \"\"\"\n",
    "\n",
    "    data =  pd.read_csv(path, index_col=None).index.tolist()[1:]    \n",
    "    return [float(x) for x in data]"
   ]
  },
  {
   "cell_type": "code",
   "execution_count": 33,
   "id": "40f7ed5cff9b5017",
   "metadata": {
    "collapsed": false,
    "ExecuteTime": {
     "end_time": "2024-01-31T19:09:16.896535300Z",
     "start_time": "2024-01-31T19:09:15.974743300Z"
    }
   },
   "outputs": [
    {
     "data": {
      "text/plain": "<Figure size 1600x1000 with 1 Axes>",
      "image/png": "[encoded data removed]"
     },
     "metadata": {},
     "output_type": "display_data"
    }
   ],
   "source": [
    "test = gymnasium.make(ENV_ID)\n",
    "sac = SAC.load(\"models/sac.zip\")\n",
    "td3 = TD3.load(\"models/td3.zip\")\n",
    "ddpg = DDPG.load(\"models/ddpg.zip\")\n",
    "ppo = PPO.load(\"models/ppo.zip\")\n",
    "a2c = A2C.load(\"models/a2c.zip\")\n",
    "\n",
    "rewards = {}\n",
    "rewards[\"td3\"] = run_env(test, td3)\n",
    "rewards[\"sac\"] = run_env(test, sac)\n",
    "rewards[\"ddpg\"] = run_env(test, ddpg)\n",
    "rewards[\"a2c\"] = run_env(test, a2c)\n",
    "rewards[\"ppo\"] = run_env(test, ppo)\n",
    "\n",
    "plot_cumulative_rewards(rewards)"
   ]
  },
  {
   "cell_type": "markdown",
   "source": [
    "## Conclusion <a class=\"anchor\" id=\"5\"></a>"
   ],
   "metadata": {
    "collapsed": false
   },
   "id": "f3d9c484e2f7d5a9"
  },
  {
   "cell_type": "markdown",
   "source": [
    "Even though all algorithms have been trained on the same environment with their best found Hyperparameters, only 3 out 5 Algorithms manage to reach the last gate.\n",
    "- SAC found the last gate after 44 steps\n",
    "- TD3 found the last gate after 46 steps\n",
    "- DDPG found the last gate after 43 steps\n",
    "- A2C and PPO did not complete the environment in 100 or less steps\n"
   ],
   "metadata": {
    "collapsed": false
   },
   "id": "e2a23bdf1ef16531"
  },
  {
   "cell_type": "code",
   "execution_count": null,
   "outputs": [],
   "source": [],
   "metadata": {
    "collapsed": false
   },
   "id": "93843fd694b6113a"
  }
 ],
 "metadata": {
  "kernelspec": {
   "display_name": "Python 3 (ipykernel)",
   "language": "python",
   "name": "python3"
  },
  "language_info": {
   "codemirror_mode": {
    "name": "ipython",
    "version": 3
   },
   "file_extension": ".py",
   "mimetype": "text/x-python",
   "name": "python",
   "nbconvert_exporter": "python",
   "pygments_lexer": "ipython3",
   "version": "3.11.7"
  }
 },
 "nbformat": 4,
 "nbformat_minor": 5
}
