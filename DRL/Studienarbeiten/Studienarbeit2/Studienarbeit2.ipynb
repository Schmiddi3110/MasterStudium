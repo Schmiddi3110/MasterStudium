{
 "cells": [
  {
   "cell_type": "code",
   "execution_count": 1,
   "id": "initial_id",
   "metadata": {
    "collapsed": true,
    "jupyter": {
     "outputs_hidden": true
    },
    "ExecuteTime": {
     "end_time": "2024-01-11T22:35:51.745632500Z",
     "start_time": "2024-01-11T22:35:45.672920700Z"
    }
   },
   "outputs": [
    {
     "name": "stdout",
     "output_type": "stream",
     "text": [
      "pygame 2.5.2 (SDL 2.28.3, Python 3.11.3)\n",
      "Hello from the pygame community. https://www.pygame.org/contribute.html\n"
     ]
    }
   ],
   "source": [
    "%load_ext autoreload\n",
    "import race\n",
    "import math\n",
    "import random\n",
    "\n",
    "import gym\n",
    "import numpy as np\n",
    "\n",
    "import torch\n",
    "import torch.nn as nn\n",
    "import torch.optim as optim\n",
    "import torch.nn.functional as F\n",
    "from torch.distributions import Normal\n",
    "\n",
    "from IPython.display import clear_output\n",
    "import matplotlib.pyplot as plt\n",
    "import optuna\n",
    "import importlib\n",
    "import CurvyRaceEnv\n",
    "importlib.reload(CurvyRaceEnv)\n",
    "%matplotlib inline\n",
    "%reload_ext autoreload"
   ]
  },
  {
   "cell_type": "code",
   "execution_count": 2,
   "id": "edaaebe4",
   "metadata": {
    "ExecuteTime": {
     "end_time": "2024-01-11T22:36:01.228273300Z",
     "start_time": "2024-01-11T22:35:51.748635Z"
    }
   },
   "outputs": [
    {
     "name": "stdout",
     "output_type": "stream",
     "text": [
      "WARNING:tensorflow:From C:\\Studium\\MasterStudium\\DRL\\Studienarbeiten\\Studienarbeit2\\DRL_Studienarbeit2_env\\Lib\\site-packages\\keras\\src\\losses.py:2976: The name tf.losses.sparse_softmax_cross_entropy is deprecated. Please use tf.compat.v1.losses.sparse_softmax_cross_entropy instead.\n"
     ]
    },
    {
     "name": "stderr",
     "output_type": "stream",
     "text": [
      "C:\\Studium\\MasterStudium\\DRL\\Studienarbeiten\\Studienarbeit2\\DRL_Studienarbeit2_env\\Lib\\site-packages\\stable_baselines3\\common\\env_checker.py:441: UserWarning: We recommend you to use a symmetric and normalized Box action space (range=[-1, 1]) cf. https://stable-baselines3.readthedocs.io/en/master/guide/rl_tips.html\n",
      "  warnings.warn(\n",
      "C:\\Studium\\MasterStudium\\DRL\\Studienarbeiten\\Studienarbeit2\\DRL_Studienarbeit2_env\\Lib\\site-packages\\stable_baselines3\\common\\env_checker.py:452: UserWarning: Your action space has dtype float64, we recommend using np.float32 to avoid cast errors.\n",
      "  warnings.warn(\n"
     ]
    }
   ],
   "source": [
    "from stable_baselines3.common.env_checker import check_env\n",
    "#import CurvyRaceEnv\n",
    "test = CurvyRaceEnv.CurvyRaceEnv()\n",
    "check_env(test)"
   ]
  },
  {
   "cell_type": "code",
   "execution_count": 3,
   "id": "fa86b0e045ad909a",
   "metadata": {
    "collapsed": false,
    "ExecuteTime": {
     "end_time": "2024-01-11T22:36:01.247790200Z",
     "start_time": "2024-01-11T22:36:01.230275700Z"
    }
   },
   "outputs": [],
   "source": [
    "from gymnasium.envs.registration import register\n",
    "\n",
    "register(\n",
    "     id=\"CurvyRaceEnv-v0\",\n",
    "     entry_point=\"CurvyRaceEnv:CurvyRaceEnv\",\n",
    "     max_episode_steps=100,\n",
    ")"
   ]
  },
  {
   "cell_type": "code",
   "execution_count": 4,
   "id": "32b1fe498c931556",
   "metadata": {
    "collapsed": false,
    "ExecuteTime": {
     "end_time": "2024-01-11T22:36:01.282320700Z",
     "start_time": "2024-01-11T22:36:01.238282100Z"
    }
   },
   "outputs": [],
   "source": [
    "from typing import Any\n",
    "from typing import Dict\n",
    "\n",
    "import gymnasium\n",
    "import optuna\n",
    "from optuna.pruners import MedianPruner\n",
    "from optuna.samplers import TPESampler\n",
    "from stable_baselines3 import A2C\n",
    "from stable_baselines3.common.callbacks import EvalCallback\n",
    "from stable_baselines3.common.monitor import Monitor\n",
    "from stable_baselines3.common.callbacks import StopTrainingOnNoModelImprovement\n",
    "from stable_baselines3.common.callbacks import EvalCallback, BaseCallback\n",
    "\n",
    "import torch\n",
    "import torch.nn as nn\n",
    "import time\n",
    "N_TRIALS = 10000\n",
    "N_STARTUP_TRIALS = 5\n",
    "N_EVALUATIONS = 2\n",
    "N_TIMESTEPS = 20000\n",
    "EVAL_FREQ = int(N_TIMESTEPS / N_EVALUATIONS)\n",
    "N_EVAL_EPISODES = 3\n",
    "\n",
    "ENV_ID = \"CurvyRaceEnv-v0\"\n",
    "\n",
    "DEFAULT_HYPERPARAMS = {\n",
    "    \"policy\": \"MlpPolicy\",\n",
    "    \"env\": ENV_ID,\n",
    "}"
   ]
  },
  {
   "cell_type": "code",
   "execution_count": 5,
   "id": "a6f149d374e7d57f",
   "metadata": {
    "collapsed": false,
    "ExecuteTime": {
     "end_time": "2024-01-11T22:36:01.282820600Z",
     "start_time": "2024-01-11T22:36:01.257798900Z"
    }
   },
   "outputs": [],
   "source": [
    "def evaluate_model(model, env, num_episodes=100):  \n",
    "    \n",
    "    total_reward = 0.0\n",
    "    for _ in range(num_episodes):\n",
    "        obs, info = env.reset()\n",
    "        done = False\n",
    "        while not done:\n",
    "            action, _ = model.predict(obs)\n",
    "            obs, reward, done,info, _ = env.step(action)\n",
    "            total_reward += reward\n",
    "    mean_reward = total_reward / num_episodes\n",
    "    return mean_reward"
   ]
  },
  {
   "cell_type": "code",
   "execution_count": 6,
   "id": "eb81230539142dfb",
   "metadata": {
    "collapsed": false,
    "ExecuteTime": {
     "end_time": "2024-01-11T22:36:01.283823600Z",
     "start_time": "2024-01-11T22:36:01.269809400Z"
    }
   },
   "outputs": [],
   "source": [
    "from stable_baselines3 import A2C, PPO, TD3, DDPG\n",
    "from stable_baselines3.common.noise import NormalActionNoise, OrnsteinUhlenbeckActionNoise\n",
    "\n",
    "def objective(trial: optuna.Trial) -> float:   \n",
    "    hyperparams = {\n",
    "        \"neg_reward_small\": trial.suggest_int(\"neg_reward_small\", -10, -1),\n",
    "        \"neg_reward_big\": trial.suggest_int(\"neg_reward_big\", -50, -10),\n",
    "        \"pos_reward_factor\": trial.suggest_int(\"pos_reward_factor\", 1, 20),\n",
    "        'learning_rate': trial.suggest_float('learning_rate', 1e-5, 1e-1, log=True),\n",
    "        'buffer_size': trial.suggest_int('buffer_size', 1000, 100000),\n",
    "        'gamma': trial.suggest_float('gamma', 0.9, 0.999),\n",
    "        'tau': trial.suggest_float('tau', 1e-3, 1e-1, log=True)   \n",
    "    }\n",
    "    # Define the environment\n",
    "    env = gymnasium.make('CurvyRaceEnv-v0', pos_reward_factor=hyperparams[\"pos_reward_factor\"],neg_reward_small=hyperparams[\"neg_reward_small\"],neg_reward_big=hyperparams[\"neg_reward_big\"])  \n",
    "    \n",
    "\n",
    "\n",
    "    \n",
    "    \n",
    "    \n",
    "\n",
    "    # Create and train the DDPG model\n",
    "    model = DDPG('MlpPolicy', env, learning_rate=hyperparams['learning_rate'], buffer_size=hyperparams['buffer_size'],\n",
    "                 gamma=hyperparams['gamma'], tau=hyperparams['tau'],\n",
    "                 action_noise=NormalActionNoise(mean=np.zeros(env.action_space.shape), sigma=0.1 * np.ones(env.action_space.shape)))\n",
    "    \n",
    "    # Train the model\n",
    "    model.learn(total_timesteps=10000)  # Adjust the total_timesteps as needed\n",
    "\n",
    "    # Evaluate the model\n",
    "    mean_reward = evaluate_model(model, env)\n",
    "\n",
    "    return mean_reward"
   ]
  },
  {
   "cell_type": "code",
   "execution_count": 7,
   "id": "c97768c52d3d9ed4",
   "metadata": {
    "collapsed": false,
    "ExecuteTime": {
     "end_time": "2024-01-11T22:36:01.309344600Z",
     "start_time": "2024-01-11T22:36:01.282820600Z"
    }
   },
   "outputs": [],
   "source": [
    "#study = optuna.create_study(study_name=\"DDPG\", storage=\"sqlite:///DRL2.db\", load_if_exists=True, direction=\"maximize\")\n",
    "#study.optimize(objective, n_trials=N_TRIALS, show_progress_bar=True)"
   ]
  },
  {
   "cell_type": "code",
   "execution_count": 7,
   "id": "d6f80c85",
   "metadata": {
    "ExecuteTime": {
     "end_time": "2024-01-11T22:36:01.309845800Z",
     "start_time": "2024-01-11T22:36:01.295365400Z"
    }
   },
   "outputs": [],
   "source": []
  },
  {
   "cell_type": "code",
   "execution_count": 8,
   "id": "7dac46d481acd2a3",
   "metadata": {
    "collapsed": false,
    "ExecuteTime": {
     "end_time": "2024-01-11T22:54:47.320273300Z",
     "start_time": "2024-01-11T22:36:01.304339100Z"
    }
   },
   "outputs": [
    {
     "name": "stderr",
     "output_type": "stream",
     "text": [
      "C:\\Studium\\MasterStudium\\DRL\\Studienarbeiten\\Studienarbeit2\\DRL_Studienarbeit2_env\\Lib\\site-packages\\gymnasium\\utils\\passive_env_checker.py:181: DeprecationWarning: \u001B[33mWARN: Current gymnasium version requires that `Env.reset` can be passed `options` to allow the environment initialisation to be passed additional information.\u001B[0m\n",
      "  logger.deprecation(\n"
     ]
    }
   ],
   "source": [
    "from stable_baselines3.common.env_util import make_vec_env\n",
    "from stable_baselines3 import DDPG, TD3, SAC\n",
    "from stable_baselines3.common.noise import NormalActionNoise, OrnsteinUhlenbeckActionNoise\n",
    "\n",
    "\n",
    "env = gymnasium.make(\"CurvyRaceEnv-v0\")\n",
    "#env = Monitor(env, \"logs/ddpg\")\n",
    "#model_ddpg = DDPG(\"MlpPolicy\", env,action_noise=NormalActionNoise(mean=np.zeros(env.action_space.shape), sigma=0.1 * np.ones(env.action_space.shape)),  learning_rate=0.004859847958257243,tau=0.06431401009446525,  gamma = 0.9703705891833702, buffer_size=2000000)\n",
    "#model_ddpg.learn(total_timesteps=10000)\n",
    "#model_ddpg.save(\"models/model_ddpg\")\n",
    "#_, _ = env.reset()\n",
    "#del model_ddpg\n",
    "\n",
    "#env = Monitor(env, \"logs/td3\")\n",
    "#model_td3 = TD3(\"MlpPolicy\", env, action_noise=NormalActionNoise(mean=np.zeros(env.action_space.shape), sigma=0.1 * np.ones(env.action_space.shape)), learning_rate=0.004859847958257243,tau=0.06431401009446525, # gamma = 0.9703705891833702, buffer_size=82149)\n",
    "#model_td3.learn(total_timesteps=10000)\n",
    "#model_td3.save(\"models/model_td3\")\n",
    "#_, _ = env.reset()\n",
    "#del model_td3\n",
    "\n",
    "env = Monitor(env, \"logs/sac\")\n",
    "model_sac = SAC(\"MlpPolicy\", env,action_noise=NormalActionNoise(mean=np.zeros(env.action_space.shape), sigma=0.1 * np.ones(env.action_space.shape)),  learning_rate=0.004859847958257243,tau=0.06431401009446525,  gamma = 0.9703705891833702, buffer_size=2000000)\n",
    "model_sac.learn(total_timesteps=50000)\n",
    "model_sac.save(\"models/model_sac\")\n",
    "_, _ = env.reset()\n",
    "del model_sac"
   ]
  },
  {
   "cell_type": "code",
   "execution_count": 9,
   "id": "ae662d1d8ac89e70",
   "metadata": {
    "collapsed": false,
    "ExecuteTime": {
     "end_time": "2024-01-11T22:54:47.329780800Z",
     "start_time": "2024-01-11T22:54:47.328779400Z"
    }
   },
   "outputs": [],
   "source": [
    "env.close()"
   ]
  },
  {
   "cell_type": "code",
   "execution_count": 10,
   "id": "3ff82e7b",
   "metadata": {
    "ExecuteTime": {
     "end_time": "2024-01-11T22:54:47.352301900Z",
     "start_time": "2024-01-11T22:54:47.332282700Z"
    }
   },
   "outputs": [],
   "source": [
    "def run_env(env, model):\n",
    "    obs, info = env.reset()\n",
    "    done = False\n",
    "    reward_list = []\n",
    "    observation_list = []\n",
    "    while not done:\n",
    "        action, _states = model.predict(obs)\n",
    "        obs, rewards, done, info, _ = env.step(action)\n",
    "        print(f\"obs: {obs}\")\n",
    "        observation_list.append(obs)\n",
    "        reward_list.append(rewards)\n",
    "    env.render()    \n",
    "    return reward_list"
   ]
  },
  {
   "cell_type": "code",
   "execution_count": 10,
   "outputs": [],
   "source": [],
   "metadata": {
    "collapsed": false,
    "ExecuteTime": {
     "end_time": "2024-01-11T22:54:47.352800500Z",
     "start_time": "2024-01-11T22:54:47.344072300Z"
    }
   },
   "id": "a3265f13a0baf9d9"
  },
  {
   "cell_type": "code",
   "execution_count": 11,
   "id": "e8ac2833",
   "metadata": {
    "ExecuteTime": {
     "end_time": "2024-01-11T22:54:47.373817900Z",
     "start_time": "2024-01-11T22:54:47.350798200Z"
    }
   },
   "outputs": [],
   "source": [
    "import numpy as np\n",
    "import matplotlib.pyplot as plt\n",
    "\n",
    "def plot_cumulative_rewards(rewards):\n",
    "    \"\"\"\n",
    "    Plots the cumulative rewards per episode.\n",
    "    \"\"\"\n",
    "    # Calculate the cumulative sum of the list elements\n",
    "    cumulative_rewards = {key: np.cumsum(value) for key, value in rewards.items()}\n",
    "\n",
    "    # Plot the cumulative rewards\n",
    "    for key, value in cumulative_rewards.items():\n",
    "        plt.plot(value, label=key)\n",
    "\n",
    "    plt.xlabel('Episode')\n",
    "    plt.ylabel('Cumulative Reward')\n",
    "    plt.legend()\n",
    "    plt.show()\n"
   ]
  },
  {
   "cell_type": "code",
   "execution_count": 12,
   "id": "d16f8fa998e2ae70",
   "metadata": {
    "collapsed": false,
    "ExecuteTime": {
     "end_time": "2024-01-11T22:54:47.391834Z",
     "start_time": "2024-01-11T22:54:47.361307700Z"
    }
   },
   "outputs": [],
   "source": [
    "import pandas as pd\n",
    "def load_log(path):\n",
    "    data =  pd.read_csv(path, index_col=None).index.tolist()[1:]    \n",
    "    return [float(x) for x in data]"
   ]
  },
  {
   "cell_type": "code",
   "execution_count": 13,
   "id": "40f7ed5cff9b5017",
   "metadata": {
    "collapsed": false,
    "ExecuteTime": {
     "end_time": "2024-01-11T22:54:47.690592100Z",
     "start_time": "2024-01-11T22:54:47.373317400Z"
    }
   },
   "outputs": [
    {
     "data": {
      "text/plain": "<Figure size 640x480 with 1 Axes>",
      "image/png": "[encoded data removed]"
     },
     "metadata": {},
     "output_type": "display_data"
    }
   ],
   "source": [
    "from stable_baselines3 import DDPG,SAC, TD3\n",
    "#ddpg = DDPG.load(\"models/model_ddpg.zip\")\n",
    "sac = SAC.load(\"models/model_sac.zip\")\n",
    "#td3 = TD3.load(\"models/model_td3.zip\")\n",
    "\n",
    "test = gymnasium.make(\"CurvyRaceEnv-v0\")\n",
    "\n",
    "rewards = {}\n",
    "#rewards[\"DDPG\"] = load_log(\"logs/ddpg.monitor.csv\")\n",
    "rewards[\"sac\"] = load_log(\"logs/sac.monitor.csv\")\n",
    "#rewards[\"td3\"] = load_log(\"logs/td3.monitor.csv\")\n",
    "\n",
    "\n",
    "\n",
    "plot_cumulative_rewards(rewards)"
   ]
  },
  {
   "cell_type": "code",
   "execution_count": 18,
   "id": "b2ffd85a423e7735",
   "metadata": {
    "collapsed": false,
    "ExecuteTime": {
     "end_time": "2024-01-11T22:55:30.807327700Z",
     "start_time": "2024-01-11T22:55:30.229832700Z"
    }
   },
   "outputs": [
    {
     "name": "stdout",
     "output_type": "stream",
     "text": [
      "obs: [ 0.72623116 -0.18797186  0.17867416]\n",
      "obs: [ 1.5119718  -0.04606701  0.35459322]\n",
      "obs: [2.2298167  0.21970965 0.55467325]\n",
      "obs: [2.7360587 0.5333538 0.6205855]\n",
      "obs: [3.0959373  0.7905925  0.46452844]\n",
      "obs: [3.7546816  1.1206903  0.46882212]\n",
      "obs: [4.4646044  1.4802556  0.34757075]\n",
      "obs: [5.1111727  1.714493   0.08433321]\n",
      "obs: [ 5.7622013   1.769527   -0.21905006]\n",
      "obs: [ 6.535851    1.5972954  -0.34068394]\n",
      "obs: [ 7.178946    1.3693141  -0.42132792]\n",
      "obs: [ 7.9073586   1.0428641  -0.22640404]\n",
      "obs: [8.667703   0.8677161  0.04889765]\n",
      "obs: [9.446769   0.90584093 0.03241075]\n",
      "obs: [10.173789    0.9294125  -0.05784954]\n",
      "obs: [10.968097    0.8834109  -0.14011239]\n",
      "obs: [11.737107    0.77495223 -0.31818673]\n",
      "obs: [12.4862585   0.528198   -0.49418032]\n",
      "obs: [13.161914    0.16417557 -0.54479   ]\n",
      "obs: [13.826521   -0.23854947 -0.2925008 ]\n",
      "obs: [14.540606   -0.45358783 -0.15422045]\n",
      "obs: [15.293669   -0.5706551  -0.15243612]\n",
      "obs: [16.074915   -0.6906762  -0.20265621]\n",
      "obs: [16.855822   -0.85113454 -0.36960492]\n",
      "obs: [17.571785  -1.1285052 -0.2652223]\n",
      "obs: [18.337666   -1.3365347  -0.44783196]\n",
      "obs: [19.027714   -1.6680229  -0.33762982]\n",
      "obs: [19.092989   -1.6909394  -0.55994016]\n",
      "obs: [19.092989  -1.6909394 -0.802368 ]\n",
      "obs: [19.092989  -1.6909394 -1.1770096]\n",
      "obs: [19.092989  -1.6909394 -1.5635272]\n",
      "obs: [19.09446   -1.8931658 -1.9452431]\n",
      "obs: [18.835808 -2.551336 -2.338149]\n",
      "obs: [18.481459  -2.9187093 -2.7259243]\n",
      "obs: [17.784506  -3.226335  -3.0745685]\n",
      "obs: [17.073227  -3.2740793 -3.457087 ]\n",
      "obs: [16.318598  -3.0277712 -3.7838993]\n",
      "obs: [15.689758  -2.5573137 -4.118456 ]\n",
      "obs: [15.246242  -1.9005121 -4.2934103]\n",
      "obs: [14.935549  -1.20287   -4.2964373]\n",
      "obs: [14.61905    -0.48636582 -4.082236  ]\n",
      "obs: [14.190254    0.10154901 -3.84916   ]\n",
      "obs: [13.693795   0.5261747 -3.9472466]\n",
      "obs: [13.150797   1.0916282 -3.7442286]\n",
      "obs: [12.495707   1.5423391 -3.3907712]\n",
      "obs: [11.722567   1.7390779 -3.2655795]\n",
      "obs: [10.969801   1.8328921 -3.300446 ]\n",
      "obs: [10.204083   1.9555625 -3.2833533]\n",
      "obs: [ 9.483467   2.0584075 -3.2182415]\n",
      "obs: [ 8.712353   2.1176283 -3.1172714]\n",
      "obs: [ 7.9164762  2.0982678 -3.090877 ]\n",
      "obs: [ 7.1212363  2.057902  -3.0316958]\n",
      "obs: [ 6.339054   1.971595  -3.2376935]\n",
      "obs: [ 5.5505366  2.0476065 -2.9432828]\n",
      "obs: [ 4.7672143  1.890197  -2.7139208]\n",
      "obs: [ 4.0430474  1.5601172 -2.6958458]\n",
      "obs: [ 3.3449106  1.2265335 -2.432022 ]\n",
      "obs: [ 2.7931457  0.7526876 -2.0365999]\n",
      "obs: [ 2.534394    0.23796186 -1.6437687 ]\n",
      "obs: [ 2.534394    0.23796186 -1.246647  ]\n",
      "obs: [ 2.534394    0.23796186 -0.85092056]\n",
      "obs: [ 2.534394    0.23796186 -0.45512205]\n",
      "obs: [ 2.534394    0.23796186 -0.06199719]\n",
      "obs: [3.2698529  0.19230697 0.32392076]\n",
      "obs: [3.993523   0.43527657 0.6333052 ]\n",
      "obs: [4.5793376 0.8653755 0.5977192]\n",
      "obs: [4.6976185  0.94590026 0.5218887 ]\n",
      "obs: [5.3740025  1.3348701  0.42414996]\n",
      "obs: [6.094712   1.6603132  0.33060548]\n",
      "obs: [ 6.7751555  1.8938425 -0.010611 ]\n",
      "obs: [ 7.4420257   1.8867661  -0.26939884]\n",
      "obs: [ 8.159573    1.6886435  -0.50516826]\n",
      "obs: [ 8.85621     1.3033806  -0.49591455]\n",
      "obs: [ 9.545412   0.9305156 -0.3464079]\n",
      "obs: [10.2697315  0.669063  -0.2084154]\n",
      "obs: [11.038177    0.50654733 -0.12032623]\n",
      "obs: [11.820722    0.41192958 -0.14357   ]\n",
      "obs: [12.542259   0.3076207 -0.2578739]\n",
      "obs: [13.293767    0.10941336 -0.32524124]\n",
      "obs: [13.973764   -0.11989302 -0.47113165]\n",
      "obs: [14.684222   -0.48179302 -0.15807638]\n",
      "obs: [15.443086   -0.6027608  -0.19291072]\n",
      "obs: [16.16362    -0.74350995 -0.18217558]\n",
      "obs: [16.938545   -0.886265   -0.10008077]\n",
      "obs: [17.71897    -0.9646322  -0.28073353]\n",
      "obs: [18.47233    -1.1818632  -0.49560642]\n",
      "obs: [19.00112    -1.4677329  -0.47364578]\n",
      "obs: [19.371284  -1.6574644 -0.508727 ]\n",
      "obs: [19.371284  -1.6574644 -0.8839634]\n",
      "obs: [19.371284  -1.6574644 -1.2455219]\n",
      "obs: [19.371284  -1.6574644 -1.629212 ]\n",
      "obs: [19.326403  -2.4249132 -1.9816008]\n",
      "obs: [19.269884  -2.5546644 -2.3683836]\n",
      "obs: [18.885233  -2.9300508 -2.748877 ]\n",
      "obs: [18.517622  -3.0823278 -3.0423484]\n",
      "obs: [17.76034   -3.1577313 -3.3949947]\n",
      "obs: [17.09616   -2.9857292 -3.6941803]\n",
      "obs: [16.493069  -2.61382   -3.9818847]\n",
      "obs: [16.016281  -2.0815885 -4.099947 ]\n",
      "obs: [15.58396  -1.466235 -4.174869]\n",
      "obs: [15.58396  -1.466235 -4.174869]\n"
     ]
    },
    {
     "data": {
      "text/plain": "<Figure size 640x480 with 1 Axes>",
      "image/png": "[encoded data removed]"
     },
     "metadata": {},
     "output_type": "display_data"
    },
    {
     "data": {
      "text/plain": "[-0.1,\n -0.1,\n 1.0926829268292684,\n -0.1,\n -0.1,\n -0.1,\n -0.1,\n -0.1,\n -0.1,\n -0.1,\n -0.1,\n -0.1,\n -0.1,\n -0.1,\n -0.1,\n -0.1,\n -0.1,\n -0.1,\n -0.1,\n -0.1,\n -0.1,\n -0.1,\n -0.1,\n -0.1,\n -0.1,\n -0.1,\n -0.1,\n -0.1,\n -0.1,\n -0.1,\n -0.1,\n -0.1,\n -0.1,\n -0.1,\n -0.1,\n -0.1,\n -0.1,\n -0.1,\n -0.1,\n -0.1,\n -0.1,\n -0.1,\n -0.1,\n -0.1,\n -0.1,\n -0.1,\n -0.1,\n -0.1,\n -0.1,\n -0.1,\n -0.1,\n -0.1,\n -0.1,\n -0.1,\n -0.1,\n -0.1,\n -0.1,\n -0.1,\n -0.1,\n -0.1,\n -0.1,\n -0.1,\n -0.1,\n -0.1,\n -0.1,\n 1.0746268656716418,\n -0.1,\n -0.1,\n 1.0774907749077491,\n -0.1,\n -0.1,\n 1.0802919708029197,\n -0.1,\n -0.1,\n 1.0830324909747293,\n -0.1,\n -0.1,\n 1.0857142857142856,\n -0.1,\n -0.1,\n 1.088339222614841,\n -0.1,\n 1.0912280701754387,\n -0.1,\n -0.1,\n 1.09375,\n -0.1,\n -0.1,\n -0.1,\n -0.1,\n -0.1,\n -0.1,\n -0.1,\n -0.1,\n -0.1,\n -0.1,\n -0.1,\n -0.1,\n -0.1,\n -0.1,\n -0.1]"
     },
     "execution_count": 18,
     "metadata": {},
     "output_type": "execute_result"
    }
   ],
   "source": [
    "run_env(test, sac)"
   ]
  },
  {
   "cell_type": "code",
   "execution_count": 15,
   "id": "5425df569e93f022",
   "metadata": {
    "collapsed": false,
    "ExecuteTime": {
     "end_time": "2024-01-11T22:54:48.236060200Z",
     "start_time": "2024-01-11T22:54:48.105946500Z"
    }
   },
   "outputs": [
    {
     "data": {
      "text/plain": "Box([-4. -2.], [4. 2.], (2,), float64)"
     },
     "execution_count": 15,
     "metadata": {},
     "output_type": "execute_result"
    }
   ],
   "source": [
    "test.action_space"
   ]
  },
  {
   "cell_type": "code",
   "execution_count": 16,
   "id": "8b4248852039b671",
   "metadata": {
    "collapsed": false,
    "ExecuteTime": {
     "end_time": "2024-01-11T22:54:48.237060Z",
     "start_time": "2024-01-11T22:54:48.115456700Z"
    }
   },
   "outputs": [
    {
     "data": {
      "text/plain": "Box(-inf, inf, (3,), float32)"
     },
     "execution_count": 16,
     "metadata": {},
     "output_type": "execute_result"
    }
   ],
   "source": [
    "test.observation_space"
   ]
  },
  {
   "cell_type": "code",
   "execution_count": 16,
   "outputs": [],
   "source": [],
   "metadata": {
    "collapsed": false,
    "ExecuteTime": {
     "end_time": "2024-01-11T22:54:48.237561900Z",
     "start_time": "2024-01-11T22:54:48.134471700Z"
    }
   },
   "id": "48a453e3885c7af1"
  }
 ],
 "metadata": {
  "kernelspec": {
   "display_name": "Python 3 (ipykernel)",
   "language": "python",
   "name": "python3"
  },
  "language_info": {
   "codemirror_mode": {
    "name": "ipython",
    "version": 3
   },
   "file_extension": ".py",
   "mimetype": "text/x-python",
   "name": "python",
   "nbconvert_exporter": "python",
   "pygments_lexer": "ipython3",
   "version": "3.11.7"
  }
 },
 "nbformat": 4,
 "nbformat_minor": 5
}
