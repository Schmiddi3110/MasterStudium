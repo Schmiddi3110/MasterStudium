{
 "cells": [
  {
   "cell_type": "code",
   "execution_count": 1,
   "id": "initial_id",
   "metadata": {
    "collapsed": true,
    "jupyter": {
     "outputs_hidden": true
    },
    "ExecuteTime": {
     "end_time": "2024-01-16T20:18:50.445165300Z",
     "start_time": "2024-01-16T20:18:34.606062300Z"
    }
   },
   "outputs": [],
   "source": [
    "%load_ext autoreload\n",
    "#import race\n",
    "#import math\n",
    "#import random\n",
    "\n",
    "#import gym\n",
    "import numpy as np\n",
    "\n",
    "#import torch\n",
    "#import torch.nn as nn\n",
    "#import torch.optim as optim\n",
    "#import torch.nn.functional as F\n",
    "#from torch.distributions import Normal\n",
    "\n",
    "#from IPython.display import clear_output\n",
    "import matplotlib.pyplot as plt\n",
    "import optuna\n",
    "#import importlib\n",
    "import CurvyRaceEnv\n",
    "#importlib.reload(CurvyRaceEnv)\n",
    "%matplotlib inline\n",
    "%reload_ext autoreload"
   ]
  },
  {
   "cell_type": "code",
   "execution_count": 2,
   "id": "edaaebe4",
   "metadata": {
    "ExecuteTime": {
     "end_time": "2024-01-16T20:19:06.966818500Z",
     "start_time": "2024-01-16T20:18:50.627284100Z"
    }
   },
   "outputs": [
    {
     "name": "stdout",
     "output_type": "stream",
     "text": [
      "WARNING:tensorflow:From C:\\Studium\\MasterStudium\\DRL\\Studienarbeiten\\Studienarbeit2\\DRL_Studienarbeit2_env\\Lib\\site-packages\\keras\\src\\losses.py:2976: The name tf.losses.sparse_softmax_cross_entropy is deprecated. Please use tf.compat.v1.losses.sparse_softmax_cross_entropy instead.\n"
     ]
    },
    {
     "name": "stderr",
     "output_type": "stream",
     "text": [
      "C:\\Studium\\MasterStudium\\DRL\\Studienarbeiten\\Studienarbeit2\\DRL_Studienarbeit2_env\\Lib\\site-packages\\stable_baselines3\\common\\env_checker.py:441: UserWarning: We recommend you to use a symmetric and normalized Box action space (range=[-1, 1]) cf. https://stable-baselines3.readthedocs.io/en/master/guide/rl_tips.html\n",
      "  warnings.warn(\n"
     ]
    }
   ],
   "source": [
    "from stable_baselines3.common.env_checker import check_env\n",
    "#import CurvyRaceEnv\n",
    "test = CurvyRaceEnv.CurvyRaceEnv()\n",
    "check_env(test)"
   ]
  },
  {
   "cell_type": "code",
   "execution_count": 3,
   "id": "fa86b0e045ad909a",
   "metadata": {
    "collapsed": false,
    "ExecuteTime": {
     "end_time": "2024-01-16T18:00:13.115760900Z",
     "start_time": "2024-01-16T18:00:13.084232200Z"
    }
   },
   "outputs": [],
   "source": [
    "from gymnasium.envs.registration import register\n",
    "\n",
    "register(\n",
    "     id=\"CurvyRaceEnv-v0\",\n",
    "     entry_point=\"CurvyRaceEnv:CurvyRaceEnv\",\n",
    "     max_episode_steps=100,\n",
    ")"
   ]
  },
  {
   "cell_type": "code",
   "execution_count": 4,
   "id": "32b1fe498c931556",
   "metadata": {
    "collapsed": false,
    "ExecuteTime": {
     "end_time": "2024-01-16T18:00:14.132632500Z",
     "start_time": "2024-01-16T18:00:14.096602300Z"
    }
   },
   "outputs": [],
   "source": [
    "from typing import Any\n",
    "from typing import Dict\n",
    "\n",
    "import gymnasium\n",
    "import optuna\n",
    "from optuna.pruners import MedianPruner\n",
    "from optuna.samplers import TPESampler\n",
    "from stable_baselines3 import A2C\n",
    "from stable_baselines3.common.callbacks import EvalCallback\n",
    "from stable_baselines3.common.monitor import Monitor\n",
    "from stable_baselines3.common.callbacks import StopTrainingOnNoModelImprovement\n",
    "from stable_baselines3.common.callbacks import EvalCallback, BaseCallback\n",
    "\n",
    "import torch\n",
    "import torch.nn as nn\n",
    "import time\n",
    "N_TRIALS = 10000\n",
    "N_STARTUP_TRIALS = 5\n",
    "N_EVALUATIONS = 2\n",
    "N_TIMESTEPS = 20000\n",
    "EVAL_FREQ = int(N_TIMESTEPS / N_EVALUATIONS)\n",
    "N_EVAL_EPISODES = 3\n",
    "\n",
    "ENV_ID = \"CurvyRaceEnv-v0\"\n",
    "\n",
    "DEFAULT_HYPERPARAMS = {\n",
    "    \"policy\": \"MlpPolicy\",\n",
    "    \"env\": ENV_ID,\n",
    "}"
   ]
  },
  {
   "cell_type": "code",
   "execution_count": 5,
   "id": "a6f149d374e7d57f",
   "metadata": {
    "collapsed": false,
    "ExecuteTime": {
     "end_time": "2024-01-16T18:00:15.329660700Z",
     "start_time": "2024-01-16T18:00:15.300635800Z"
    }
   },
   "outputs": [],
   "source": [
    "def evaluate_model(model, env, num_episodes=100):  \n",
    "    \n",
    "    total_reward = 0.0\n",
    "    for _ in range(num_episodes):\n",
    "        obs, info = env.reset()\n",
    "        done = False\n",
    "        while not done:\n",
    "            action, _ = model.predict(obs)\n",
    "            obs, reward, done,info, _ = env.step(action)\n",
    "            total_reward += reward\n",
    "    mean_reward = total_reward / num_episodes\n",
    "    return mean_reward"
   ]
  },
  {
   "cell_type": "code",
   "execution_count": 8,
   "id": "eb81230539142dfb",
   "metadata": {
    "collapsed": false,
    "ExecuteTime": {
     "end_time": "2024-01-16T18:03:35.344819Z",
     "start_time": "2024-01-16T18:03:35.295277100Z"
    }
   },
   "outputs": [],
   "source": [
    "from stable_baselines3 import A2C, PPO, TD3, DDPG, SAC\n",
    "from stable_baselines3.common.noise import NormalActionNoise, OrnsteinUhlenbeckActionNoise\n",
    "\n",
    "def objective(trial: optuna.Trial) -> float:   \n",
    "    hyperparams = {\n",
    "        'learning_starts': trial.suggest_int('learning_starts', 50,400),\n",
    "        'learning_rate': trial.suggest_float('learning_rate', 1e-5, 1e-1, log=True),\n",
    "        'gamma': trial.suggest_float('gamma', 0.9, 0.999),\n",
    "        'tau': trial.suggest_float('tau', 1e-3, 1e-1, log=True),\n",
    "        'batch_size': trial.suggest_int('batch_size', 16,1024),\n",
    "        \n",
    "    }\n",
    "    # Define the environment\n",
    "    env = gymnasium.make('CurvyRaceEnv-v0')  \n",
    "    \n",
    "\n",
    "    # Create and train the DDPG model\n",
    "    model = SAC('MlpPolicy', env, learning_starts=hyperparams['learning_starts'] ,learning_rate=hyperparams['learning_rate'],\n",
    "                 gamma=hyperparams['gamma'], tau=hyperparams['tau'], batch_size=hyperparams['batch_size'],\n",
    "                 action_noise=NormalActionNoise(mean=np.zeros(env.action_space.shape), sigma=0.1 * np.ones(env.action_space.shape)))\n",
    "    \n",
    "    # Train the model\n",
    "    model.learn(total_timesteps=10000)  # Adjust the total_timesteps as needed\n",
    "\n",
    "    # Evaluate the model\n",
    "    mean_reward = evaluate_model(model, env)\n",
    "\n",
    "    return mean_reward"
   ]
  },
  {
   "cell_type": "code",
   "execution_count": null,
   "id": "c97768c52d3d9ed4",
   "metadata": {
    "collapsed": false
   },
   "outputs": [],
   "source": [
    "study = optuna.create_study(study_name=\"SAC\", storage=\"sqlite:///DRL2.db\", load_if_exists=True, direction=\"maximize\")\n",
    "study.optimize(objective, n_trials=N_TRIALS, show_progress_bar=True)"
   ]
  },
  {
   "cell_type": "code",
   "execution_count": 8,
   "id": "d6f80c85",
   "metadata": {
    "ExecuteTime": {
     "end_time": "2024-01-15T11:37:21.351656Z",
     "start_time": "2024-01-15T11:37:21.313123200Z"
    }
   },
   "outputs": [],
   "source": [
    "from stable_baselines3.common.evaluation import evaluate_policy\n",
    "from stable_baselines3.common.callbacks import EvalCallback, StopTrainingOnRewardThreshold\n",
    "\n",
    "eval_env = gymnasium.make(\"CurvyRaceEnv-v0\")\n",
    "eval_callback = EvalCallback(eval_env, best_model_save_path='model/best_model',\n",
    "                            log_path='logs/best_model_log', eval_freq=1000,\n",
    "                            deterministic=True, render=False,\n",
    "                            callback_on_new_best=StopTrainingOnRewardThreshold(reward_threshold=3500, verbose=1))"
   ]
  },
  {
   "cell_type": "code",
   "execution_count": 46,
   "outputs": [],
   "source": [
    "def learn_model(env, model, hyperparameters, timesteps, monitor_dir, model_dir):\n",
    "    monitor = Monitor(env, monitor_dir)\n",
    "\n",
    "    match model:\n",
    "        case \"DDPG\":\n",
    "            model = DDPG(\"MlpPolicy\", monitor, **hyperparameters)\n",
    "        case \"TD3\":\n",
    "            model = TD3(**hyperparameters)\n",
    "\n",
    "        case \"SAC\":\n",
    "            model = SAC(**hyperparameters)\n",
    "\n",
    "        case \"A2C\":\n",
    "            model = A2C(**hyperparameters)\n",
    "\n",
    "        case \"PPO\":\n",
    "            model = PPO(**hyperparameters)        \n",
    "        case _:\n",
    "            print(\"Unsupported model. Try DDPG, TD3, SAC, A2C or PPO instead\")\n",
    "            return\n",
    "    \n",
    "    model.learn(total_timesteps=timesteps)\n",
    "    model.save(model_dir)\n",
    "    _, _ = env.reset()\n",
    "    del model\n"
   ],
   "metadata": {
    "collapsed": false,
    "ExecuteTime": {
     "end_time": "2024-01-16T19:14:45.002413200Z",
     "start_time": "2024-01-16T19:14:44.970885800Z"
    }
   },
   "id": "8de89c14af6b7867"
  },
  {
   "cell_type": "code",
   "execution_count": 55,
   "outputs": [
    {
     "data": {
      "text/plain": "16"
     },
     "execution_count": 55,
     "metadata": {},
     "output_type": "execute_result"
    }
   ],
   "source": [
    "import race\n",
    "test = race.CurvyRace()\n",
    "len(test.get_gates())\n"
   ],
   "metadata": {
    "collapsed": false,
    "ExecuteTime": {
     "end_time": "2024-01-16T19:24:00.921338200Z",
     "start_time": "2024-01-16T19:24:00.878800800Z"
    }
   },
   "id": "4c2d7f8c3e08c2fe"
  },
  {
   "cell_type": "code",
   "execution_count": 47,
   "outputs": [
    {
     "name": "stderr",
     "output_type": "stream",
     "text": [
      "C:\\Studium\\MasterStudium\\DRL\\Studienarbeiten\\Studienarbeit2\\DRL_Studienarbeit2_env\\Lib\\site-packages\\gymnasium\\utils\\passive_env_checker.py:181: DeprecationWarning: \u001B[33mWARN: Current gymnasium version requires that `Env.reset` can be passed `options` to allow the environment initialisation to be passed additional information.\u001B[0m\n",
      "  logger.deprecation(\n"
     ]
    }
   ],
   "source": [
    "from stable_baselines3.common.env_util import make_vec_env\n",
    "from stable_baselines3 import DDPG, TD3, SAC, A2C,PPO\n",
    "from stable_baselines3.common.noise import NormalActionNoise, OrnsteinUhlenbeckActionNoise\n",
    "\n",
    "\n",
    "env = gymnasium.make(\"CurvyRaceEnv-v0\")\n",
    "\n",
    "\n",
    "learn_model(env, \"DDPG\", {\"action_noise\":NormalActionNoise(mean=np.zeros(env.action_space.shape), sigma=0.1 * np.ones(env.action_space.shape)),  \"learning_rate\":0.004859847958257243,\"tau\":0.06431401009446525,  \"gamma\": 0.9903705891833702, \"buffer_size\":2000000}, 10000, \"logs/ddpg\", \"models/ddpg\")\n",
    "\n",
    "\n",
    "\n",
    "\n",
    "#env = Monitor(env, \"logs/sac\")\n",
    "#model_sac = SAC(\"MlpPolicy\", env,action_noise=NormalActionNoise(mean=np.zeros(env.action_space.shape), sigma=0.1 * np.ones(env.action_space.shape)), batch_size=826, learning_rate=0.0016540625796751618,tau=0.015202248089828913,  gamma = 0.9592430447956614, buffer_size=2000000)\n",
    "#model_sac.learn(total_timesteps=10000)\n",
    "#model_sac.save(\"models/model_sac\")\n",
    "#_, _ = env.reset()\n",
    "#del model_sac\n",
    "\n",
    "#env = Monitor(env, \"logs/a2c\")\n",
    "#model_a2c = A2C(\"MlpPolicy\", env,  learning_rate=0.004859847958257243,  gamma = 0.9703705891833702)\n",
    "#model_a2c.learn(total_timesteps=150000)\n",
    "#model_a2c.save(\"models/model_a2c\")\n",
    "#_, _ = env.reset()\n",
    "#del model_a2c\n",
    "\n",
    "#env = Monitor(env, \"logs/ppo\")\n",
    "#model_ppo = PPO(\"MlpPolicy\", env,  learning_rate=0.004859847958257243,  gamma = 0.9703705891833702)\n",
    "#model_ppo.learn(total_timesteps=150000)\n",
    "#model_ppo.save(\"models/model_ppo\")\n",
    "#_, _ = env.reset()\n",
    "#del model_ppo"
   ],
   "metadata": {
    "collapsed": false,
    "ExecuteTime": {
     "end_time": "2024-01-16T19:16:53.125442600Z",
     "start_time": "2024-01-16T19:14:47.871876800Z"
    }
   },
   "id": "7dac46d481acd2a3"
  },
  {
   "cell_type": "code",
   "execution_count": null,
   "outputs": [],
   "source": [],
   "metadata": {
    "collapsed": false
   },
   "id": "45d696674395b94e"
  },
  {
   "cell_type": "code",
   "execution_count": 48,
   "id": "ae662d1d8ac89e70",
   "metadata": {
    "collapsed": false,
    "ExecuteTime": {
     "end_time": "2024-01-16T19:19:14.238053900Z",
     "start_time": "2024-01-16T19:19:14.203021600Z"
    }
   },
   "outputs": [],
   "source": [
    "env.close()"
   ]
  },
  {
   "cell_type": "code",
   "execution_count": 49,
   "id": "3ff82e7b",
   "metadata": {
    "ExecuteTime": {
     "end_time": "2024-01-16T19:19:14.627441200Z",
     "start_time": "2024-01-16T19:19:14.596914800Z"
    }
   },
   "outputs": [],
   "source": [
    "def run_env(env, model):\n",
    "    obs, info = env.reset()\n",
    "    done = False\n",
    "    reward_list = []\n",
    "    observation_list = []\n",
    "    while not done:\n",
    "        action, _states = model.predict(obs)\n",
    "        obs, rewards, done, info, _ = env.step(action)\n",
    "        print(f\"obs: {obs}\")\n",
    "        observation_list.append(obs)\n",
    "        reward_list.append(rewards)\n",
    "    env.render()\n",
    "    return reward_list"
   ]
  },
  {
   "cell_type": "code",
   "execution_count": 49,
   "id": "a3265f13a0baf9d9",
   "metadata": {
    "collapsed": false,
    "ExecuteTime": {
     "end_time": "2024-01-16T19:19:15.059312Z",
     "start_time": "2024-01-16T19:19:15.037292800Z"
    }
   },
   "outputs": [],
   "source": []
  },
  {
   "cell_type": "code",
   "execution_count": 50,
   "id": "e8ac2833",
   "metadata": {
    "ExecuteTime": {
     "end_time": "2024-01-16T19:19:15.464075700Z",
     "start_time": "2024-01-16T19:19:15.444864100Z"
    }
   },
   "outputs": [],
   "source": [
    "import numpy as np\n",
    "import matplotlib.pyplot as plt\n",
    "\n",
    "def plot_cumulative_rewards(rewards):\n",
    "    \"\"\"\n",
    "    Plots the cumulative rewards per episode.\n",
    "    \"\"\"\n",
    "    # Calculate the cumulative sum of the list elements\n",
    "    cumulative_rewards = {key: np.cumsum(value) for key, value in rewards.items()}\n",
    "\n",
    "    # Plot the cumulative rewards\n",
    "    for key, value in cumulative_rewards.items():\n",
    "        plt.plot(value, label=key)\n",
    "\n",
    "    plt.xlabel('Episode')\n",
    "    plt.ylabel('Cumulative Reward')\n",
    "    plt.legend()\n",
    "    plt.show()\n"
   ]
  },
  {
   "cell_type": "code",
   "execution_count": 51,
   "id": "d16f8fa998e2ae70",
   "metadata": {
    "collapsed": false,
    "ExecuteTime": {
     "end_time": "2024-01-16T19:19:16.351474600Z",
     "start_time": "2024-01-16T19:19:16.317945600Z"
    }
   },
   "outputs": [],
   "source": [
    "import pandas as pd\n",
    "def load_log(path):\n",
    "    data =  pd.read_csv(path, index_col=None).index.tolist()[1:]    \n",
    "    return [float(x) for x in data]"
   ]
  },
  {
   "cell_type": "code",
   "execution_count": 52,
   "id": "40f7ed5cff9b5017",
   "metadata": {
    "collapsed": false,
    "ExecuteTime": {
     "end_time": "2024-01-16T19:19:17.394371Z",
     "start_time": "2024-01-16T19:19:16.918461600Z"
    }
   },
   "outputs": [
    {
     "data": {
      "text/plain": "<Figure size 640x480 with 1 Axes>",
      "image/png": "[encoded data removed]"
     },
     "metadata": {},
     "output_type": "display_data"
    }
   ],
   "source": [
    "from stable_baselines3 import DDPG,SAC, TD3, A2C, PPO\n",
    "\n",
    "sac = SAC.load(\"models/model_sac.zip\")\n",
    "#td3 = TD3.load(\"models/model_td3.zip\")\n",
    "ddpg = DDPG.load(\"models/ddpg.zip\")\n",
    "#ppo = PPO.load(\"models/model_ppo.zip\")\n",
    "#a2c = A2C.load(\"models/model_a2c.zip\")\n",
    "test = gymnasium.make(\"CurvyRaceEnv-v0\")\n",
    "\n",
    "rewards = {}\n",
    "#rewards[\"td3\"] = load_log(\"logs/td3.monitor.csv\")\n",
    "rewards[\"sac\"] = load_log(\"logs/sac.monitor.csv\")\n",
    "rewards[\"ddpg\"] = load_log(\"logs/ddpg.monitor.csv\")\n",
    "\n",
    "#rewards[\"a2c\"] = load_log(\"logs/a2c.monitor.csv\")\n",
    "#rewards[\"ppo\"] = load_log(\"logs/ppo.monitor.csv\")\n",
    "\n",
    "\n",
    "\n",
    "plot_cumulative_rewards(rewards)"
   ]
  },
  {
   "cell_type": "code",
   "execution_count": 35,
   "id": "b2ffd85a423e7735",
   "metadata": {
    "collapsed": false,
    "ExecuteTime": {
     "end_time": "2024-01-16T19:03:31.289096600Z",
     "start_time": "2024-01-16T19:03:30.792670200Z"
    }
   },
   "outputs": [
    {
     "name": "stderr",
     "output_type": "stream",
     "text": [
      "C:\\Studium\\MasterStudium\\DRL\\Studienarbeiten\\Studienarbeit2\\DRL_Studienarbeit2_env\\Lib\\site-packages\\gymnasium\\utils\\passive_env_checker.py:181: DeprecationWarning: \u001B[33mWARN: Current gymnasium version requires that `Env.reset` can be passed `options` to allow the environment initialisation to be passed additional information.\u001B[0m\n",
      "  logger.deprecation(\n"
     ]
    },
    {
     "name": "stdout",
     "output_type": "stream",
     "text": [
      "obs: [ 0.8444694   0.00756186  0.42185712 -0.4284011   1.1555552 ]\n",
      "obs: [ 1.5743335   0.33512625  0.82185715 -1.4888047   0.5417578 ]\n",
      "obs: [ 2.1190233  0.9210555  1.2218571 -1.6772056  2.0943773]\n",
      "obs: [ 2.3925443  1.6728442  1.6218572 -2.4271863  2.3199832]\n",
      "obs: [ 2.3517132  2.4718015  2.021857  -3.0045335  2.9709682]\n",
      "obs: [2.002977  3.1917896 2.421857  2.8496165 3.7650528]\n",
      "obs: [1.4013928 3.7191384 2.8218572 2.500393  4.537042 ]\n",
      "obs: [0.641938  3.9705908 3.221857  2.1925437 5.2002087]\n",
      "obs: [-0.15548646  3.9064481   3.6218572   1.9068109   5.7033677 ]\n",
      "obs: [-0.8649847  3.536837   4.0218573  1.6327112  6.014756 ]\n",
      "obs: [-1.3745425  2.9201112  4.4218574  1.3636259  6.1165967]\n",
      "obs: [-1.603712   2.153638   4.821857   1.0944086  6.003311 ]\n",
      "obs: [-1.5163122   1.3584265   5.221857    0.81987613  5.681111  ]\n",
      "obs: [-1.1261418  0.6600232  5.621857   0.5332764  5.1684585]\n",
      "obs: [-0.49480006  0.16869076  6.0218573   0.22381558  4.4979644 ]\n",
      "obs: [ 0.27803808 -0.03800034  6.4218574  -0.12846242  3.7221558 ]\n",
      "obs: [ 1.0703584   0.07258191  6.821857   -0.56344175  2.9305406 ]\n",
      "obs: [ 1.757071   0.482979   7.221857  -1.1507672  2.2943406]\n",
      "obs: [ 2.2297592  1.1283982  7.621857  -1.9061571  2.099294 ]\n",
      "obs: [ 2.4137957  1.9069421  8.021857  -2.6156323  2.4804177]\n",
      "obs: [ 2.2801251  2.6956956  8.421857  -3.1415696  3.1976154]\n",
      "obs: [1.8498514 3.3701322 8.821857  2.7416112 3.9976156]\n",
      "obs: [1.1909051 3.8237727 9.221857  2.407315  4.7447076]\n",
      "obs: [0.40731937 3.9849975  9.621857   2.1073887  5.365404  ]\n",
      "obs: [-0.37719476  3.828353   10.021857    1.8259026   5.815163  ]\n",
      "obs: [-1.0387799  3.3785694 10.421857   1.5538524  6.0666327]\n",
      "obs: [-1.4729861  2.706658  10.821857   1.2852365  6.1057   ]\n",
      "obs: [-1.6112618  1.9186987 11.221857   1.0150396  5.930233 ]\n",
      "obs: [-1.4317765   1.1390929  11.621857    0.73779994  5.5499306 ]\n",
      "obs: [-0.9628668   0.4909235  12.021857    0.44591492  4.9870887 ]\n",
      "obs: [-0.2785633   0.07652189 12.421857    0.12663044  4.2792473 ]\n",
      "obs: [ 0.5130976  -0.03868691 12.821857   -0.24439205  3.487117  ]\n",
      "obs: [ 1.28713     0.16348602 13.221857   -0.71567684  2.7177916 ]\n",
      "obs: [ 1.9213312   0.65112203 13.621857   -1.3590453   2.1782618 ]\n",
      "obs: [ 2.3155746  1.3472341 14.021857  -2.1301167  2.1569257]\n",
      "obs: [ 2.4076183  2.1419215 14.421857  -2.786996   2.66899  ]\n",
      "obs: [ 2.1829302  2.9097204 14.821857   3.0151296  3.4304833]\n",
      "obs: [ 1.6769837  3.5294125 15.221857   2.639012   4.2253   ]\n",
      "obs: [ 0.9696567  3.9031618 15.621857   2.3170753  4.941422 ]\n",
      "obs: [ 0.17262061  3.9719615  16.021856    2.023765    5.5159144 ]\n",
      "obs: [-0.5882902  3.7249498 16.421858   1.745781   5.9099627]\n",
      "obs: [-1.1929445  3.2011244 16.821857   1.4752806  6.1003175]\n",
      "obs: [-1.5458809  2.4831858 17.221857   1.2067149  6.0764303]\n",
      "obs: [-1.5913783   1.6844807  17.621857    0.93508285  5.839605  ]\n",
      "obs: [-1.3222538   0.93110687 18.021856    0.65450555  5.4030867 ]\n",
      "obs: [-0.7809961   0.3420058  18.421858    0.35628602  4.793213  ]\n",
      "obs: [-5.3057961e-02  1.0183396e-02  1.8821857e+01  2.5186274e-02\n",
      "  4.0530705e+00]\n",
      "obs: [ 7.4663514e-01 -1.1972805e-02  1.9221857e+01 -3.6862108e-01\n",
      "  3.2533870e+00]\n",
      "obs: [ 1.4918294   0.27903515 19.621857   -0.8830961   2.5236442 ]\n",
      "obs: [ 2.064875   0.8372635 20.021856  -1.5806473  2.1084876]\n",
      "obs: [ 2.3753002  1.5745803 20.421858  -2.3420348  2.2625103]\n",
      "obs: [ 2.3740964  2.3745794 20.821857  -2.9427056  2.8778794]\n",
      "obs: [ 2.061453   3.1109586 21.221857   2.8973448  3.6655185]\n",
      "obs: [ 1.4867302  3.6674597 21.621857   2.540872   4.4459853]\n",
      "obs: [ 0.74066347  3.9562235  22.021856    2.2292035   5.1259127 ]\n",
      "obs: [-0.05895933  3.9316604  22.421858    1.9414157   5.6509385 ]\n",
      "obs: [-0.78589547  3.5976486  22.821857    1.6662837   5.987309  ]\n",
      "obs: [-1.3253776  3.006921  23.221857   1.3968705  6.115654 ]\n",
      "obs: [-1.5922335  2.2527409 23.621857   1.1279372  6.0289235]\n",
      "obs: [-1.5443324   1.4541762  24.021856    0.85438013  5.7318625 ]\n",
      "obs: [-1.1892368   0.737303   24.421858    0.56974566  5.2413545 ]\n",
      "obs: [-0.5830086   0.21529984 24.821857    0.26394078  4.588063  ]\n",
      "obs: [ 0.17864221 -0.02942053 25.221857   -0.08141708  3.821471  ]\n",
      "obs: [ 0.9754677   0.04177786 25.621857   -0.502928    3.0248208 ]\n",
      "obs: [ 1.6816665   0.41765437 26.021856   -1.067357    2.355654  ]\n",
      "obs: [ 2.1857455  1.0388664 26.421858  -1.8091547  2.090637 ]\n",
      "obs: [ 2.4081218  1.8073381 26.821857  -2.5378146  2.4084325]\n",
      "obs: [ 2.3136868  2.601745  27.221857  -3.0848408  3.10044  ]\n",
      "obs: [ 1.9173499  3.296667  27.621857   2.7867074  3.8994162]\n",
      "obs: [ 1.2816839  3.7823923 28.021856   2.446424   4.657868 ]\n",
      "obs: [ 0.5070466  3.9822345 28.421858   2.1433105  5.2970667]\n",
      "obs: [-0.28426397  3.8646436  28.821857    1.8601198   5.769782  ]\n",
      "obs: [-0.96731716  3.4481843  29.221857    1.587264    6.046835  ]\n",
      "obs: [-1.4342738  2.7986064 29.621857   1.3185004  6.1125717]\n",
      "obs: [-1.611412   2.018464  30.021856   1.0487733  5.9634004]\n",
      "obs: [-1.4707652   1.2309245  30.421858    0.77275455  5.607535  ]\n",
      "obs: [-1.0345387   0.560323   30.821857    0.48322976  5.0656238 ]\n",
      "obs: [-0.3716029   0.11253271 31.221857    0.16833334  4.373051  ]\n",
      "obs: [ 0.41337916 -0.04175008 31.621857   -0.19429061  3.5868638 ]\n",
      "obs: [ 1.1964761   0.12183246 32.02186    -0.6493602   2.80617   ]\n",
      "obs: [ 1.854054    0.57745427 32.421856   -1.2687948   2.2222822 ]\n",
      "obs: [ 2.282296   1.2531826 32.821857  -2.0362267  2.1262581]\n",
      "obs: [ 2.4135919  2.042335  33.22186   -2.716317   2.5860825]\n",
      "obs: [ 2.227213   2.8203213 33.621857   3.0676253  3.331214 ]\n",
      "obs: [ 1.7525845  3.464315  34.02186    2.6819425  4.12945  ]\n",
      "obs: [ 1.0646398  3.8726435 34.421856   2.355043   4.8593936]\n",
      "obs: [ 0.27199018  3.9808404  34.821857    2.0590708   5.4539113 ]\n",
      "obs: [-0.5002224  3.7718244 35.22186    1.7796854  5.8718534]\n",
      "obs: [-1.1300825  3.2785938 35.621857   1.508586   6.088261 ]\n",
      "obs: [-1.5181491  2.5790195 36.02186    1.2400498  6.0910845]\n",
      "obs: [-1.603155   1.7835486 36.421856   0.9690842  5.8801694]\n",
      "obs: [-1.3716797  1.0177685 36.821857   0.690005   5.4672475]\n",
      "obs: [-0.860268    0.402579   37.22186     0.39461276  4.8769126 ]\n",
      "obs: [-1.4966054e-01  3.5105105e-02  3.7621857e+01  6.8795159e-02\n",
      "  4.1498089e+00]\n",
      "obs: [ 6.4795333e-01 -2.6637206e-02  3.8021858e+01 -3.1479889e-01\n",
      "  3.3521526e+00]\n",
      "obs: [ 1.4066479   0.22709984 38.421856   -0.81009245  2.6032767 ]\n",
      "obs: [ 2.006642   0.7562567 38.821857  -1.4853576  2.1319942]\n",
      "obs: [ 2.35321    1.4772912 39.22186   -2.253941   2.2123082]\n",
      "obs: [ 2.391636   2.276368  39.621857  -2.8784342  2.7872362]\n",
      "obs: [ 2.1158535  3.02733   40.02186    2.946356   3.5657725]\n",
      "obs: [ 2.1158535  3.02733   40.02186    2.946356   3.5657725]\n"
     ]
    },
    {
     "data": {
      "text/plain": "<Figure size 640x480 with 1 Axes>",
      "image/png": "[encoded data removed]"
     },
     "metadata": {},
     "output_type": "display_data"
    },
    {
     "data": {
      "text/plain": "[0.13166088528542189,\n 0.7057053376761602,\n 10.689004424626793,\n 1.0478800765978205,\n 1.2900547408310663,\n -1.6937405579333038,\n -1.5742709047697452,\n -1.4677154015047416,\n -1.3607888351351192,\n -1.2459810452701734,\n -1.118712723514141,\n -0.9760122767049975,\n -0.8157317114001403,\n -0.6358137744275604,\n -0.4331909658762841,\n -0.2016370703100981,\n 0.0723965612834469,\n 0.41150215741120344,\n 0.8031289802872175,\n 1.1306434920988349,\n 1.3423836665570033,\n -1.6563495320303667,\n -1.542565164680116,\n -1.4369375380448794,\n -1.3283200450042574,\n -1.2102571567030607,\n -1.0787396597974155,\n -0.931107886472186,\n -0.7653235675710319,\n -0.5791780703665167,\n -0.3689757576155893,\n -0.12688376272632954,\n 0.16371044616981162,\n 0.5239325320386243,\n 0.9109921916482118,\n 1.2028558011365564,\n -1.7525993471524874,\n -1.6213131694807723,\n -1.5114963022120564,\n -1.4058763904616378,\n -1.2950306486115957,\n -1.1733772848116597,\n -1.0373881929757935,\n -0.8846560583057318,\n -0.7131875307150611,\n -0.5205153700195646,\n -0.3020981915250465,\n -0.04807422809918657,\n 0.26128773395086236,\n 0.6397174203658544,\n 1.0094095303375992,\n 1.265790007618191,\n -1.7104951441027114,\n -1.588006487445773,\n -1.480738320549578,\n -1.3743462699439553,\n -1.260806801153663,\n -1.1352676640452857,\n -0.9946059589008215,\n -0.8366088280679764,\n -0.6592552741417306,\n -0.4596891677710228,\n -0.23225367666725222,\n 0.035405378116746655,\n 0.36541745073385856,\n 0.7552461564924491,\n 1.096876373192848,\n 1.3209603587757905,\n -1.6718834244555962,\n -1.555916792006082,\n -1.4500171344127342,\n -1.342187240086812,\n -1.2255487748870146,\n -1.095862465277483,\n -0.950343783821813,\n -0.7869154871733729,\n -0.6034451307025606,\n -0.39652745906971004,\n -0.1590592532051474,\n 0.12423937497066864,\n 0.47566295797888714,\n 0.866237788772162,\n 1.1734383096886745,\n -1.7717564761417726,\n -1.6359318971379526,\n -1.5246209905393286,\n -1.4191005132040508,\n -1.3092607738087687,\n -1.1891688230981554,\n -1.0551023838210773,\n -0.9045541934810919,\n -0.7355201855982404,\n -0.5456572605154593,\n -0.33081251127726147,\n -0.0820400124863365,\n 0.21909790119678174,\n 0.5903935363815727,\n 0.9689484993059636,\n 1.2401288329652216,\n -1.7278760340267114,\n -1.7278760340267114]"
     },
     "execution_count": 35,
     "metadata": {},
     "output_type": "execute_result"
    }
   ],
   "source": [
    "run_env(test, ddpg)"
   ]
  },
  {
   "cell_type": "code",
   "execution_count": 21,
   "id": "48a453e3885c7af1",
   "metadata": {
    "collapsed": false,
    "ExecuteTime": {
     "end_time": "2024-01-15T13:04:20.062104Z",
     "start_time": "2024-01-15T13:04:03.498382400Z"
    }
   },
   "outputs": [
    {
     "data": {
      "text/plain": "-9.641425656355883"
     },
     "execution_count": 21,
     "metadata": {},
     "output_type": "execute_result"
    }
   ],
   "source": [
    "evaluate_model(a2c, test)"
   ]
  },
  {
   "cell_type": "code",
   "execution_count": null,
   "outputs": [],
   "source": [],
   "metadata": {
    "collapsed": false
   },
   "id": "9ab106eac48bc3c6"
  }
 ],
 "metadata": {
  "kernelspec": {
   "display_name": "Python 3 (ipykernel)",
   "language": "python",
   "name": "python3"
  },
  "language_info": {
   "codemirror_mode": {
    "name": "ipython",
    "version": 3
   },
   "file_extension": ".py",
   "mimetype": "text/x-python",
   "name": "python",
   "nbconvert_exporter": "python",
   "pygments_lexer": "ipython3",
   "version": "3.11.7"
  }
 },
 "nbformat": 4,
 "nbformat_minor": 5
}
