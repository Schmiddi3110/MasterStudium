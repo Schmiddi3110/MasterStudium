{
 "cells": [
  {
   "cell_type": "code",
   "execution_count": 107,
   "metadata": {
    "ExecuteTime": {
     "end_time": "2023-11-16T08:44:09.395523130Z",
     "start_time": "2023-11-16T08:44:07.481641101Z"
    }
   },
   "outputs": [],
   "source": [
    "import matplotlib.pyplot as plt\n",
    "\n",
    "\"\"\"\n",
    "Small demo to illustrate how the plot function and the gridworld environment work\n",
    "\"\"\"\n",
    "import numpy as np\n",
    "import optuna\n",
    "\n",
    "from gridworld import *\n",
    "from plot import *"
   ]
  },
  {
   "cell_type": "code",
   "execution_count": null,
   "metadata": {},
   "outputs": [],
   "source": [
    "'EPISODES': 1, 'MAX_EPISODE_LENGTH': 15178, 'GAMMA': 0.8551585404890987, 'ALPHA': 0.9980504316555736"
   ]
  },
  {
   "cell_type": "code",
   "execution_count": 137,
   "metadata": {
    "ExecuteTime": {
     "end_time": "2023-11-16T08:44:09.447902312Z",
     "start_time": "2023-11-16T08:44:09.407024149Z"
    }
   },
   "outputs": [],
   "source": [
    "EPS = 0.1\n",
    "#Hyperparameter found via optuna\n",
    "ALPHA = 0.6660010689218203\n",
    "GAMMA =  0.9955785729498876\n",
    "EPISODES = 11620\n",
    "MAX_EPISODE_LENGTH = 1544\n",
    "\n",
    "ALPHA_LOW_EPISODE = 0.9980504316555736\n",
    "GAMMA_LOW_EPISODE = 0.8551585404890987\n",
    "MAX_EPISODE_LENGTH_LOW_EPISODE = 15178\n",
    "EPISODES_LOW_EPISODE = 1"
   ]
  },
  {
   "cell_type": "code",
   "execution_count": null,
   "metadata": {
    "ExecuteTime": {
     "end_time": "2023-11-16T09:10:33.979318949Z",
     "start_time": "2023-11-16T09:10:33.958311959Z"
    },
    "collapsed": false
   },
   "outputs": [],
   "source": [
    "def select_action(episode, state, q_table):\n",
    "    # do random action\n",
    "    if np.random.random() < EPS/(0.5*(episode+1)):\n",
    "        return np.random.randint(0, len(q_table[0]))\n",
    "    # or do best action\n",
    "    else:\n",
    "        return np.argmax(q_table[state])\n"
   ]
  },
  {
   "cell_type": "code",
   "execution_count": 138,
   "metadata": {
    "ExecuteTime": {
     "end_time": "2023-11-16T09:12:17.426839919Z",
     "start_time": "2023-11-16T09:12:17.418785345Z"
    },
    "collapsed": false
   },
   "outputs": [],
   "source": [
    "def qlearning_episode(env):\n",
    "    q_table = np.zeros((env.num_states(), env.num_actions()))\n",
    "    q_table.fill(5)\n",
    "    learning_data={}\n",
    "    cum_reward = 0\n",
    "    # run a certain number of episodes\n",
    "    for episode in range(EPISODES_LOW_EPISODE):\n",
    "        state = env.reset()\n",
    "        action = select_action(episode, state, q_table)\n",
    "\n",
    "        done = False\n",
    "        episode_length = 0\n",
    "\n",
    "        # run episode until a goal state or the maximum number of steps has been reached\n",
    "        while not done and episode_length < MAX_EPISODE_LENGTH_LOW_EPISODE:\n",
    "            next_state, reward, done = env.step(action)\n",
    "            next_action = select_action(episode, next_state, q_table)\n",
    "\n",
    "            # Q-Learning update rule\n",
    "            delta = reward + GAMMA_LOW_EPISODE * np.max(q_table[next_state, next_action]) * (done < 0.5) - q_table[state, action]\n",
    "            q_table[state, action] += ALPHA_LOW_EPISODE * delta\n",
    "            cum_reward += ALPHA * delta\n",
    "            \n",
    "            state = next_state\n",
    "            action = next_action\n",
    "            episode_length += 1\n",
    "            \n",
    "        learning_data[episode] = [episode_length, cum_reward]\n",
    "\n",
    "    return learning_data\n"
   ]
  },
  {
   "cell_type": "code",
   "execution_count": 143,
   "metadata": {},
   "outputs": [],
   "source": [
    "def qlearning_optimize(trial):\n",
    "    q_table = np.zeros((env.num_states(), env.num_actions()))\n",
    "    EPISODES = trial.suggest_int('EPISODES', 1,100)\n",
    "    #INIT_VALUE = trial.suggest_int('INIT_VALUE',0,5)\n",
    "    MAX_EPISODE_LENGTH = trial.suggest_int('MAX_EPISODE_LENGTH',300,20000)\n",
    "    GAMMA = trial.suggest_float('GAMMA', 0,1)\n",
    "    ALPHA = trial.suggest_float('ALPHA', 0,1)\n",
    "    q_table.fill(0)\n",
    "\n",
    "    learning_data={}\n",
    "    cum_reward = 0\n",
    "    # run a certain number of episodes\n",
    "    for episode in range(EPISODES):\n",
    "        state = env.reset()\n",
    "        action = select_action(episode, state, q_table)\n",
    "\n",
    "        done = False\n",
    "        episode_length = 0\n",
    "\n",
    "        # run episode until a goal state or the maximum number of steps has been reached\n",
    "        while not done and episode_length < MAX_EPISODE_LENGTH:\n",
    "            next_state, reward, done = env.step(action)\n",
    "            next_action = select_action(episode, next_state, q_table)\n",
    "\n",
    "            # Q-Learning update rule\n",
    "            delta = reward + GAMMA * np.max(q_table[next_state, next_action]) * (done < 0.5) - q_table[state, action]\n",
    "            q_table[state, action] += ALPHA * delta\n",
    "            cum_reward += ALPHA * delta\n",
    "            \n",
    "            state = next_state\n",
    "            action = next_action\n",
    "            episode_length += 1\n",
    "            \n",
    "        learning_data[episode] = [episode_length, cum_reward]\n",
    "\n",
    "    return (cum_reward/EPISODES)\n"
   ]
  },
  {
   "cell_type": "code",
   "execution_count": 133,
   "metadata": {},
   "outputs": [
    {
     "name": "stdout",
     "output_type": "stream",
     "text": [
      "[' ', ' ', ' ', ' ', ' ', '#', ' ', '#', ' ', ' ', ' ', ' ']\n",
      "[' ', ' ', ' ', 'G', ' ', ' ', ' ', ' ', ' ', ' ', ' ', '#']\n",
      "[' ', ' ', ' ', ' ', ' ', ' ', ' ', '#', '#', '#', ' ', ' ']\n",
      "[' ', ' ', ' ', ' ', ' ', '#', '#', ' ', '#', '#', ' ', '#']\n",
      "[' ', ' ', ' ', ' ', '#', ' ', ' ', ' ', ' ', ' ', ' ', ' ']\n",
      "[' ', ' ', ' ', ' ', '#', '#', ' ', '#', ' ', ' ', ' ', ' ']\n",
      "[' ', '#', '#', ' ', '#', ' ', ' ', ' ', ' ', ' ', '#', ' ']\n",
      "[' ', ' ', ' ', '#', ' ', ' ', ' ', ' ', ' ', '#', ' ', ' ']\n",
      "[' ', 'S', ' ', '#', ' ', ' ', ' ', '#', ' ', ' ', ' ', '#']\n",
      "[' ', ' ', ' ', '#', '#', ' ', ' ', ' ', ' ', '#', ' ', ' ']\n",
      "[' ', ' ', ' ', ' ', ' ', ' ', ' ', '#', '#', ' ', ' ', ' ']\n",
      "[' ', ' ', ' ', ' ', ' ', ' ', '#', '#', ' ', ' ', ' ', '#']\n"
     ]
    }
   ],
   "source": [
    "env = Random(size=12, water = 0, mountain=0.3)\n",
    "for row in env.grid:\n",
    "    print(row)"
   ]
  },
  {
   "cell_type": "code",
   "execution_count": null,
   "metadata": {},
   "outputs": [],
   "source": []
  },
  {
   "cell_type": "code",
   "execution_count": 146,
   "metadata": {},
   "outputs": [],
   "source": [
    "#study = optuna.create_study()\n",
    "#study.optimize(qlearning_optimize, n_trials=100)"
   ]
  },
  {
   "cell_type": "code",
   "execution_count": 139,
   "metadata": {
    "ExecuteTime": {
     "end_time": "2023-11-16T09:19:29.615588357Z",
     "start_time": "2023-11-16T09:19:00.626309124Z"
    },
    "collapsed": false
   },
   "outputs": [],
   "source": [
    "data={}\n",
    "envs = []\n",
    "for i in range(10):\n",
    "    env = Random(size=12, water=0, mountain=0.3)\n",
    "    envs.append(env)\n",
    "    data[i] = qlearning_episode(env)\n",
    "\n"
   ]
  },
  {
   "cell_type": "markdown",
   "metadata": {},
   "source": [
    "# Plot 1"
   ]
  },
  {
   "cell_type": "code",
   "execution_count": null,
   "metadata": {},
   "outputs": [],
   "source": [
    "x_data_avg = np.zeros((EPISODES))\n",
    "y_data_avg = np.zeros((EPISODES))\n",
    "for i in range(data.keys().__len__()):\n",
    "    x_data = np.cumsum([value[0] for value in list(data[i].values())])\n",
    "    y_data = np.cumsum([value[1] for value in list(data[i].values())])\n",
    "    \n",
    "    x_data_avg = [sum(x) for x in zip(x_data, x_data_avg)]\n",
    "    \n",
    "    y_data_avg = [sum(y) for y in zip(y_data, y_data_avg)]\n",
    "    \n",
    "    print(min(y_data))\n",
    "    plt.plot(x_data, y_data, label=i, alpha=0.5)\n",
    "\n",
    "x_data_avg = [a/10 for a in x_data_avg]\n",
    "y_data_avg = [a/10 for a in y_data_avg]\n",
    "\n",
    "plt.plot(x_data_avg, y_data_avg, label=\"avg\")\n",
    "\n",
    "# Adding labels and title\n",
    "plt.xlabel('number of steps')\n",
    "plt.ylabel('Cumulative reward')\n",
    "plt.title('number of steps vs Cumulative reward')\n",
    "plt.ylim(-100,5000)\n",
    "plt.xlim(0,4000)\n",
    "\n",
    "plt.legend()\n",
    "\n",
    "# Display the plot\n",
    "plt.show()"
   ]
  },
  {
   "cell_type": "markdown",
   "metadata": {},
   "source": [
    "# Plot 2: Cumulative reward vs. Amount of Steps"
   ]
  },
  {
   "cell_type": "code",
   "execution_count": 140,
   "metadata": {
    "ExecuteTime": {
     "end_time": "2023-11-16T09:47:26.139394158Z",
     "start_time": "2023-11-16T09:47:25.462494680Z"
    },
    "collapsed": false
   },
   "outputs": [
    {
     "name": "stdout",
     "output_type": "stream",
     "text": [
      "-9.333489312884304\n",
      "34.39199274383066\n",
      "-54.1443484714739\n",
      "-522.6461258192178\n",
      "-265.01366059461003\n",
      "-64.42798707479622\n",
      "-59.11071729788433\n",
      "-131.96544823913487\n",
      "-135.48938777143437\n",
      "-206.12905931597052\n"
     ]
    },
    {
     "data": {
      "image/png": "[encoded data removed]",
      "text/plain": [
       "<Figure size 640x480 with 1 Axes>"
      ]
     },
     "metadata": {},
     "output_type": "display_data"
    }
   ],
   "source": [
    "x_data_avg = np.zeros((EPISODES))\n",
    "y_data_avg = np.zeros((EPISODES))\n",
    "for i in range(data.keys().__len__()):\n",
    "    x_data = np.cumsum([value[0] for value in list(data[i].values())])\n",
    "    y_data = np.cumsum([value[1] for value in list(data[i].values())])\n",
    "    \n",
    "    x_data_avg = [sum(x) for x in zip(x_data, x_data_avg)]\n",
    "    \n",
    "    y_data_avg = [sum(y) for y in zip(y_data, y_data_avg)]\n",
    "    \n",
    "    print(min(y_data))\n",
    "    plt.plot(x_data, y_data, label=i, alpha=0.5)\n",
    "\n",
    "x_data_avg = [a/10 for a in x_data_avg]\n",
    "y_data_avg = [a/10 for a in y_data_avg]\n",
    "\n",
    "plt.plot(x_data_avg, y_data_avg, label=\"avg\")\n",
    "\n",
    "# Adding labels and title\n",
    "plt.xlabel('number of steps')\n",
    "plt.ylabel('Cumulative reward')\n",
    "plt.title('number of steps vs Cumulative reward')\n",
    "plt.ylim(-100,5000)\n",
    "plt.xlim(0,4000)\n",
    "\n",
    "plt.legend()\n",
    "\n",
    "# Display the plot\n",
    "plt.show()"
   ]
  },
  {
   "cell_type": "code",
   "execution_count": null,
   "metadata": {},
   "outputs": [],
   "source": []
  }
 ],
 "metadata": {
  "kernelspec": {
   "display_name": "PythonEnvironment",
   "language": "python",
   "name": "python3"
  },
  "language_info": {
   "codemirror_mode": {
    "name": "ipython",
    "version": 3
   },
   "file_extension": ".py",
   "mimetype": "text/x-python",
   "name": "python",
   "nbconvert_exporter": "python",
   "pygments_lexer": "ipython3",
   "version": "3.11.6"
  }
 },
 "nbformat": 4,
 "nbformat_minor": 2
}
