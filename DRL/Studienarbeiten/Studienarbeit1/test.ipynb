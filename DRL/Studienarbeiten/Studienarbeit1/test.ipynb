{
 "cells": [
  {
   "cell_type": "code",
   "execution_count": 7,
   "metadata": {
    "ExecuteTime": {
     "end_time": "2023-11-14T20:38:51.451257800Z",
     "start_time": "2023-11-14T20:38:50.552486500Z"
    }
   },
   "outputs": [],
   "source": [
    "\"\"\"\n",
    "Small demo to illustrate how the plot function and the gridworld environment work\n",
    "\"\"\"\n",
    "import numpy as np\n",
    "import optuna\n",
    "\n",
    "from gridworld import *\n",
    "from plot import *"
   ]
  },
  {
   "cell_type": "code",
   "execution_count": 28,
   "metadata": {
    "ExecuteTime": {
     "end_time": "2023-11-14T20:53:57.050842900Z",
     "start_time": "2023-11-14T20:53:56.988288800Z"
    }
   },
   "outputs": [
    {
     "name": "stdout",
     "output_type": "stream",
     "text": [
      "[' ', ' ', ' ', ' ', ' ', ' ', ' ', ' ', ' ', ' ', ' ', ' ']\n",
      "[' ', ' ', ' ', ' ', '#', ' ', ' ', '#', ' ', 'S', ' ', '#']\n",
      "[' ', ' ', ' ', '#', ' ', ' ', ' ', ' ', ' ', ' ', ' ', ' ']\n",
      "[' ', ' ', '#', '#', '#', ' ', '#', '#', ' ', ' ', '#', ' ']\n",
      "['#', '#', ' ', ' ', '#', ' ', ' ', ' ', ' ', '#', '#', '#']\n",
      "[' ', ' ', ' ', '#', '#', ' ', ' ', ' ', ' ', '#', ' ', ' ']\n",
      "[' ', ' ', ' ', ' ', '#', ' ', ' ', ' ', ' ', ' ', ' ', ' ']\n",
      "['#', ' ', ' ', ' ', ' ', ' ', '#', ' ', '#', '#', ' ', ' ']\n",
      "[' ', ' ', ' ', ' ', ' ', ' ', ' ', '#', '#', ' ', ' ', ' ']\n",
      "['#', ' ', ' ', ' ', ' ', '#', '#', '#', ' ', ' ', ' ', ' ']\n",
      "[' ', ' ', ' ', '#', ' ', ' ', '#', ' ', ' ', 'G', ' ', '#']\n",
      "[' ', ' ', '#', '#', ' ', ' ', ' ', ' ', ' ', ' ', ' ', ' ']\n"
     ]
    }
   ],
   "source": [
    "env = Random(size=12, water=0, mountain=0.3)\n",
    "for row in env.grid:\n",
    "    print(row)"
   ]
  },
  {
   "cell_type": "code",
   "execution_count": 1,
   "metadata": {
    "ExecuteTime": {
     "end_time": "2023-11-14T20:37:24.974772200Z",
     "start_time": "2023-11-14T20:37:24.965764100Z"
    }
   },
   "outputs": [],
   "source": [
    "\n",
    "# SARSA parameters\n",
    "EPS = 0.1\n",
    "ALPHA = 0.1\n",
    "GAMMA = 0.9\n",
    "EPISODES = 10000\n",
    "MAX_EPISODE_LENGTH = 200"
   ]
  },
  {
   "cell_type": "code",
   "execution_count": 76,
   "outputs": [],
   "source": [
    "def qlearning_episode(env):\n",
    "    q_table = np.zeros((env.num_states(), env.num_actions()))\n",
    "    q_table.fill(1)\n",
    "    learning_data={}\n",
    "    cum_reward = 0\n",
    "    # run a certain number of episodes\n",
    "    for episode in range(EPISODES):\n",
    "        state = env.reset()\n",
    "        action = select_action(state, q_table)\n",
    "\n",
    "        done = False\n",
    "        episode_length = 0\n",
    "\n",
    "        # run episode until a goal state or the maximum number of steps has been reached\n",
    "        while not done and episode_length < MAX_EPISODE_LENGTH:\n",
    "            next_state, reward, done = env.step(action)\n",
    "            next_action = select_action(next_state, q_table)\n",
    "\n",
    "            # Q-Learning update rule\n",
    "            delta = reward + GAMMA * np.max(q_table[next_state, next_action]) * (done < 0.5) - q_table[state, action]\n",
    "            q_table[state, action] += ALPHA * delta\n",
    "            cum_reward += ALPHA * delta\n",
    "            \n",
    "            state = next_state\n",
    "            action = next_action\n",
    "            episode_length += 1\n",
    "            \n",
    "        learning_data[episode] = [episode_length, cum_reward]\n",
    "\n",
    "    return learning_data\n"
   ],
   "metadata": {
    "collapsed": false,
    "ExecuteTime": {
     "end_time": "2023-11-14T21:51:45.487801300Z",
     "start_time": "2023-11-14T21:51:45.447767300Z"
    }
   }
  },
  {
   "cell_type": "code",
   "execution_count": 9,
   "outputs": [],
   "source": [
    "\n",
    "def select_action(state, q_table):\n",
    "    # do random action\n",
    "    if np.random.random() < EPS:\n",
    "        return np.random.randint(0, len(q_table[0]))\n",
    "    # or do best action\n",
    "    else:\n",
    "        return np.argmax(q_table[state])\n"
   ],
   "metadata": {
    "collapsed": false,
    "ExecuteTime": {
     "end_time": "2023-11-14T20:39:06.674954400Z",
     "start_time": "2023-11-14T20:39:06.652964200Z"
    }
   }
  },
  {
   "cell_type": "code",
   "execution_count": 77,
   "outputs": [],
   "source": [
    "data={}\n",
    "for i in range(10):\n",
    "    env = Random(size=12, water=0, mountain=0.3)\n",
    "\n",
    "    data[i] = qlearning_episode(env)\n",
    "\n"
   ],
   "metadata": {
    "collapsed": false,
    "ExecuteTime": {
     "end_time": "2023-11-14T21:52:05.217139800Z",
     "start_time": "2023-11-14T21:51:47.236205200Z"
    }
   }
  },
  {
   "cell_type": "code",
   "execution_count": null,
   "outputs": [],
   "source": [
    "# Create a scatter plot\n",
    "for key, values in data[9].items():\n",
    "    plt.scatter(values[0], values[1])\n",
    "\n",
    "# Adding labels and title\n",
    "plt.xlabel('number of steps')\n",
    "plt.ylabel('Cumulative reward')\n",
    "plt.title('number of steps vs Cumulative reward')\n",
    "\n",
    "# Adding a legend\n",
    "plt.legend()\n",
    "\n",
    "# Display the plot\n",
    "plt.show()"
   ],
   "metadata": {
    "collapsed": false,
    "is_executing": true,
    "ExecuteTime": {
     "start_time": "2023-11-14T22:04:08.277933300Z"
    }
   }
  },
  {
   "cell_type": "code",
   "execution_count": null,
   "outputs": [],
   "source": [],
   "metadata": {
    "collapsed": false
   }
  }
 ],
 "metadata": {
  "kernelspec": {
   "display_name": "PythonEnvironment",
   "language": "python",
   "name": "python3"
  },
  "language_info": {
   "codemirror_mode": {
    "name": "ipython",
    "version": 3
   },
   "file_extension": ".py",
   "mimetype": "text/x-python",
   "name": "python",
   "nbconvert_exporter": "python",
   "pygments_lexer": "ipython3",
   "version": "3.11.3"
  }
 },
 "nbformat": 4,
 "nbformat_minor": 2
}
