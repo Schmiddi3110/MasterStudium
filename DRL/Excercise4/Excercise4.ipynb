{
 "cells": [
  {
   "cell_type": "code",
   "execution_count": 8,
   "id": "initial_id",
   "metadata": {
    "collapsed": true,
    "ExecuteTime": {
     "end_time": "2023-12-11T13:03:12.290429769Z",
     "start_time": "2023-12-11T13:03:12.246888686Z"
    }
   },
   "outputs": [],
   "source": [
    "import gymnasium as gym\n",
    "import math\n",
    "import random\n",
    "import matplotlib\n",
    "import matplotlib.pyplot as plt\n",
    "from collections import namedtuple, deque\n",
    "from itertools import count\n",
    "\n",
    "import torch\n",
    "import torch.nn as nn\n",
    "import torch.optim as optim\n",
    "import torch.nn.functional as F\n",
    "\n",
    "env = gym.make(\"CartPole-v1\")\n",
    "\n",
    "# set up matplotlib\n",
    "is_ipython = 'inline' in matplotlib.get_backend()\n",
    "if is_ipython:\n",
    "    from IPython import display\n",
    "\n",
    "plt.ion()\n",
    "\n",
    "# if GPU is to be used\n",
    "device = torch.device(\"cuda\" if torch.cuda.is_available() else \"cpu\")"
   ]
  },
  {
   "cell_type": "code",
   "execution_count": 9,
   "outputs": [],
   "source": [
    "Transition = namedtuple('Transition', ('state', 'action', 'next_state', 'reward'))\n",
    "\n",
    "\n",
    "class ReplayMemory(object):\n",
    "\n",
    "    def __init__(self, capacity):\n",
    "        self.memory = deque([], maxlen=capacity)\n",
    "\n",
    "    def push(self, *args):\n",
    "        \"\"\"Save a transition\"\"\"\n",
    "        self.memory.append(Transition(*args))\n",
    "\n",
    "    def sample(self, batch_size):\n",
    "        return random.sample(self.memory, batch_size)\n",
    "\n",
    "    def __len__(self):\n",
    "        return len(self.memory)"
   ],
   "metadata": {
    "collapsed": false,
    "ExecuteTime": {
     "end_time": "2023-12-11T13:03:12.972359332Z",
     "start_time": "2023-12-11T13:03:12.964000436Z"
    }
   },
   "id": "15b963c1ab749668"
  },
  {
   "cell_type": "code",
   "execution_count": 10,
   "outputs": [],
   "source": [
    "class DQN(nn.Module):\n",
    "\n",
    "    def __init__(self, n_observations, n_actions):\n",
    "        super(DQN, self).__init__()\n",
    "        self.layer1 = nn.Linear(n_observations, 128)\n",
    "        self.layer2 = nn.Linear(128, 128)\n",
    "        self.layer3 = nn.Linear(128, n_actions)\n",
    "\n",
    "    # Called with either one element to determine next action, or a batch\n",
    "    # during optimization. Returns tensor([[left0exp,right0exp]...]).\n",
    "    def forward(self, x):\n",
    "        x = F.relu(self.layer1(x))\n",
    "        x = F.relu(self.layer2(x))\n",
    "        return self.layer3(x)"
   ],
   "metadata": {
    "collapsed": false,
    "ExecuteTime": {
     "end_time": "2023-12-11T13:03:13.754219410Z",
     "start_time": "2023-12-11T13:03:13.748788731Z"
    }
   },
   "id": "bb3098535f83323f"
  },
  {
   "cell_type": "code",
   "execution_count": 11,
   "outputs": [],
   "source": [
    "# BATCH_SIZE is the number of transitions sampled from the replay buffer\n",
    "# GAMMA is the discount factor as mentioned in the previous section\n",
    "# EPS_START is the starting value of epsilon\n",
    "# EPS_END is the final value of epsilon\n",
    "# EPS_DECAY controls the rate of exponential decay of epsilon, higher means a slower decay\n",
    "# TAU is the update rate of the target network\n",
    "# LR is the learning rate of the ``AdamW`` optimizer\n",
    "BATCH_SIZE = 128\n",
    "GAMMA = 0.99\n",
    "EPS_START = 0.9\n",
    "EPS_END = 0.05\n",
    "EPS_DECAY = 1000\n",
    "TAU = 0.005\n",
    "LR = 2e-4\n",
    "\n",
    "# Get number of actions from gym action space\n",
    "n_actions = env.action_space.n\n",
    "# Get the number of state observations\n",
    "state, info = env.reset()\n",
    "n_observations = len(state)\n",
    "\n",
    "policy_net = DQN(n_observations, n_actions).to(device)\n",
    "target_net = DQN(n_observations, n_actions).to(device)\n",
    "target_net.load_state_dict(policy_net.state_dict())\n",
    "\n",
    "optimizer = optim.AdamW(policy_net.parameters(), lr=LR, amsgrad=True)\n",
    "memory = ReplayMemory(10000)\n",
    "\n",
    "\n",
    "steps_done = 0\n",
    "\n",
    "\n",
    "def select_action(state):\n",
    "    global steps_done\n",
    "    sample = random.random()\n",
    "    eps_threshold = EPS_END + (EPS_START - EPS_END) * \\\n",
    "        math.exp(-1. * steps_done / EPS_DECAY)\n",
    "    steps_done += 1\n",
    "    if sample > eps_threshold:\n",
    "        with torch.no_grad():\n",
    "            # t.max(1) will return the largest column value of each row.\n",
    "            # second column on max result is index of where max element was\n",
    "            # found, so we pick action with the larger expected reward.\n",
    "            return policy_net(state).max(1).indices.view(1, 1)\n",
    "    else:\n",
    "        return torch.tensor([[env.action_space.sample()]], device=device, dtype=torch.long)\n",
    "\n",
    "\n",
    "episode_durations = []\n",
    "\n",
    "\n",
    "def plot_durations(show_result=False):\n",
    "    plt.figure(1)\n",
    "    durations_t = torch.tensor(episode_durations, dtype=torch.float)\n",
    "    if show_result:\n",
    "        plt.title('Result')\n",
    "    else:\n",
    "        plt.clf()\n",
    "        plt.title('Training...')\n",
    "    plt.xlabel('Episode')\n",
    "    plt.ylabel('Duration')\n",
    "    plt.plot(durations_t.numpy())\n",
    "    # Take 100 episode averages and plot them too\n",
    "    if len(durations_t) >= 100:\n",
    "        means = durations_t.unfold(0, 100, 1).mean(1).view(-1)\n",
    "        means = torch.cat((torch.zeros(99), means))\n",
    "        plt.plot(means.numpy())\n",
    "\n",
    "    plt.pause(0.001)  # pause a bit so that plots are updated\n",
    "    if is_ipython:\n",
    "        if not show_result:\n",
    "            display.display(plt.gcf())\n",
    "            display.clear_output(wait=True)\n",
    "        else:\n",
    "            display.display(plt.gcf())"
   ],
   "metadata": {
    "collapsed": false,
    "ExecuteTime": {
     "end_time": "2023-12-11T13:03:14.390810902Z",
     "start_time": "2023-12-11T13:03:14.380843766Z"
    }
   },
   "id": "306772b41fa88b9d"
  },
  {
   "cell_type": "code",
   "execution_count": 12,
   "outputs": [],
   "source": [
    "def optimize_model():\n",
    "    if len(memory) < BATCH_SIZE:\n",
    "        return\n",
    "    transitions = memory.sample(BATCH_SIZE)\n",
    "    # Transpose the batch (see https://stackoverflow.com/a/19343/3343043 for\n",
    "    # detailed explanation). This converts batch-array of Transitions\n",
    "    # to Transition of batch-arrays.\n",
    "    batch = Transition(*zip(*transitions))\n",
    "\n",
    "    # Compute a mask of non-final states and concatenate the batch elements\n",
    "    # (a final state would've been the one after which simulation ended)\n",
    "    non_final_mask = torch.tensor(tuple(map(lambda s: s is not None,\n",
    "                                          batch.next_state)), device=device, dtype=torch.bool)\n",
    "    non_final_next_states = torch.cat([s for s in batch.next_state\n",
    "                                                if s is not None])\n",
    "    state_batch = torch.cat(batch.state)\n",
    "    action_batch = torch.cat(batch.action)\n",
    "    reward_batch = torch.cat(batch.reward)\n",
    "\n",
    "    # Compute Q(s_t, a) - the model computes Q(s_t), then we select the\n",
    "    # columns of actions taken. These are the actions which would've been taken\n",
    "    # for each batch state according to policy_net\n",
    "    state_action_values = policy_net(state_batch).gather(1, action_batch)\n",
    "\n",
    "    # Compute V(s_{t+1}) for all next states.\n",
    "    # Expected values of actions for non_final_next_states are computed based\n",
    "    # on the \"older\" target_net; selecting their best reward with max(1).values\n",
    "    # This is merged based on the mask, such that we'll have either the expected\n",
    "    # state value or 0 in case the state was final.\n",
    "    next_state_values = torch.zeros(BATCH_SIZE, device=device)\n",
    "    with torch.no_grad():\n",
    "        next_state_values[non_final_mask] = target_net(non_final_next_states).max(1).values\n",
    "    # Compute the expected Q values\n",
    "    expected_state_action_values = (next_state_values * GAMMA) + reward_batch\n",
    "\n",
    "    # Compute Huber loss\n",
    "    criterion = nn.SmoothL1Loss()\n",
    "    loss = criterion(state_action_values, expected_state_action_values.unsqueeze(1))\n",
    "\n",
    "    # Optimize the model\n",
    "    optimizer.zero_grad()\n",
    "    loss.backward()\n",
    "    # In-place gradient clipping\n",
    "    torch.nn.utils.clip_grad_value_(policy_net.parameters(), 100)\n",
    "    optimizer.step()"
   ],
   "metadata": {
    "collapsed": false,
    "ExecuteTime": {
     "end_time": "2023-12-11T13:03:15.334593793Z",
     "start_time": "2023-12-11T13:03:15.249681931Z"
    }
   },
   "id": "51b30f1d87824246"
  },
  {
   "cell_type": "code",
   "execution_count": 13,
   "outputs": [
    {
     "data": {
      "text/plain": "<Figure size 640x480 with 1 Axes>",
      "image/png": "[encoded data removed]"
     },
     "metadata": {},
     "output_type": "display_data"
    },
    {
     "ename": "KeyboardInterrupt",
     "evalue": "",
     "output_type": "error",
     "traceback": [
      "\u001B[0;31m---------------------------------------------------------------------------\u001B[0m",
      "\u001B[0;31mKeyboardInterrupt\u001B[0m                         Traceback (most recent call last)",
      "Cell \u001B[0;32mIn[13], line 40\u001B[0m\n\u001B[1;32m     38\u001B[0m         \u001B[38;5;28;01mif\u001B[39;00m done:\n\u001B[1;32m     39\u001B[0m             episode_durations\u001B[38;5;241m.\u001B[39mappend(t \u001B[38;5;241m+\u001B[39m \u001B[38;5;241m1\u001B[39m)\n\u001B[0;32m---> 40\u001B[0m             \u001B[43mplot_durations\u001B[49m\u001B[43m(\u001B[49m\u001B[43m)\u001B[49m\n\u001B[1;32m     41\u001B[0m             \u001B[38;5;28;01mbreak\u001B[39;00m\n\u001B[1;32m     43\u001B[0m \u001B[38;5;28mprint\u001B[39m(\u001B[38;5;124m'\u001B[39m\u001B[38;5;124mComplete\u001B[39m\u001B[38;5;124m'\u001B[39m)\n",
      "Cell \u001B[0;32mIn[11], line 69\u001B[0m, in \u001B[0;36mplot_durations\u001B[0;34m(show_result)\u001B[0m\n\u001B[1;32m     66\u001B[0m     means \u001B[38;5;241m=\u001B[39m torch\u001B[38;5;241m.\u001B[39mcat((torch\u001B[38;5;241m.\u001B[39mzeros(\u001B[38;5;241m99\u001B[39m), means))\n\u001B[1;32m     67\u001B[0m     plt\u001B[38;5;241m.\u001B[39mplot(means\u001B[38;5;241m.\u001B[39mnumpy())\n\u001B[0;32m---> 69\u001B[0m \u001B[43mplt\u001B[49m\u001B[38;5;241;43m.\u001B[39;49m\u001B[43mpause\u001B[49m\u001B[43m(\u001B[49m\u001B[38;5;241;43m0.001\u001B[39;49m\u001B[43m)\u001B[49m  \u001B[38;5;66;03m# pause a bit so that plots are updated\u001B[39;00m\n\u001B[1;32m     70\u001B[0m \u001B[38;5;28;01mif\u001B[39;00m is_ipython:\n\u001B[1;32m     71\u001B[0m     \u001B[38;5;28;01mif\u001B[39;00m \u001B[38;5;129;01mnot\u001B[39;00m show_result:\n",
      "File \u001B[0;32m~/MasterStudium/PythonEnvironment/lib/python3.10/site-packages/matplotlib/pyplot.py:663\u001B[0m, in \u001B[0;36mpause\u001B[0;34m(interval)\u001B[0m\n\u001B[1;32m    661\u001B[0m         canvas\u001B[38;5;241m.\u001B[39mdraw_idle()\n\u001B[1;32m    662\u001B[0m     show(block\u001B[38;5;241m=\u001B[39m\u001B[38;5;28;01mFalse\u001B[39;00m)\n\u001B[0;32m--> 663\u001B[0m     \u001B[43mcanvas\u001B[49m\u001B[38;5;241;43m.\u001B[39;49m\u001B[43mstart_event_loop\u001B[49m\u001B[43m(\u001B[49m\u001B[43minterval\u001B[49m\u001B[43m)\u001B[49m\n\u001B[1;32m    664\u001B[0m \u001B[38;5;28;01melse\u001B[39;00m:\n\u001B[1;32m    665\u001B[0m     time\u001B[38;5;241m.\u001B[39msleep(interval)\n",
      "File \u001B[0;32m~/MasterStudium/PythonEnvironment/lib/python3.10/site-packages/matplotlib/backend_bases.py:2375\u001B[0m, in \u001B[0;36mFigureCanvasBase.start_event_loop\u001B[0;34m(self, timeout)\u001B[0m\n\u001B[1;32m   2373\u001B[0m \u001B[38;5;28;01mwhile\u001B[39;00m \u001B[38;5;28mself\u001B[39m\u001B[38;5;241m.\u001B[39m_looping \u001B[38;5;129;01mand\u001B[39;00m counter \u001B[38;5;241m*\u001B[39m timestep \u001B[38;5;241m<\u001B[39m timeout:\n\u001B[1;32m   2374\u001B[0m     \u001B[38;5;28mself\u001B[39m\u001B[38;5;241m.\u001B[39mflush_events()\n\u001B[0;32m-> 2375\u001B[0m     \u001B[43mtime\u001B[49m\u001B[38;5;241;43m.\u001B[39;49m\u001B[43msleep\u001B[49m\u001B[43m(\u001B[49m\u001B[43mtimestep\u001B[49m\u001B[43m)\u001B[49m\n\u001B[1;32m   2376\u001B[0m     counter \u001B[38;5;241m+\u001B[39m\u001B[38;5;241m=\u001B[39m \u001B[38;5;241m1\u001B[39m\n",
      "\u001B[0;31mKeyboardInterrupt\u001B[0m: "
     ]
    }
   ],
   "source": [
    "if torch.cuda.is_available():\n",
    "    num_episodes = 600\n",
    "else:\n",
    "    num_episodes = 500\n",
    "\n",
    "for i_episode in range(num_episodes):\n",
    "    # Initialize the environment and get it's state\n",
    "    state, info = env.reset()\n",
    "    state = torch.tensor(state, dtype=torch.float32, device=device).unsqueeze(0)\n",
    "    for t in count():\n",
    "        action = select_action(state)\n",
    "        observation, reward, terminated, truncated, _ = env.step(action.item())\n",
    "        reward = torch.tensor([reward], device=device)\n",
    "        done = terminated or truncated\n",
    "\n",
    "        if terminated:\n",
    "            next_state = None\n",
    "        else:\n",
    "            next_state = torch.tensor(observation, dtype=torch.float32, device=device).unsqueeze(0)\n",
    "\n",
    "        # Store the transition in memory\n",
    "        memory.push(state, action, next_state, reward)\n",
    "\n",
    "        # Move to the next state\n",
    "        state = next_state\n",
    "\n",
    "        # Perform one step of the optimization (on the policy network)\n",
    "        optimize_model()\n",
    "\n",
    "        # Soft update of the target network's weights\n",
    "        # θ′ ← τ θ + (1 −τ )θ′\n",
    "        target_net_state_dict = target_net.state_dict()\n",
    "        policy_net_state_dict = policy_net.state_dict()\n",
    "        for key in policy_net_state_dict:\n",
    "            target_net_state_dict[key] = policy_net_state_dict[key]*TAU + target_net_state_dict[key]*(1-TAU)\n",
    "        target_net.load_state_dict(target_net_state_dict)\n",
    "\n",
    "        if done:\n",
    "            episode_durations.append(t + 1)\n",
    "            plot_durations()\n",
    "            break\n",
    "\n",
    "print('Complete')\n",
    "plot_durations(show_result=True)\n",
    "plt.ioff()\n",
    "plt.show()"
   ],
   "metadata": {
    "collapsed": false
   },
   "id": "2b743c0638fa9809"
  },
  {
   "cell_type": "code",
   "execution_count": 21,
   "outputs": [
    {
     "data": {
      "text/plain": "[18,\n 26,\n 26,\n 38,\n 28,\n 18,\n 33,\n 22,\n 14,\n 33,\n 18,\n 11,\n 34,\n 8,\n 17,\n 15,\n 9,\n 17,\n 15,\n 14,\n 9,\n 14,\n 12,\n 17,\n 23,\n 10,\n 15,\n 21,\n 19,\n 13,\n 8,\n 14,\n 11,\n 11,\n 14,\n 13,\n 12,\n 11,\n 10,\n 16,\n 10,\n 12,\n 13,\n 11,\n 10,\n 11,\n 9,\n 13,\n 10,\n 9,\n 10,\n 12,\n 12,\n 13,\n 8,\n 10,\n 22,\n 9,\n 10,\n 12,\n 14,\n 13,\n 12,\n 18,\n 10,\n 13,\n 12,\n 20,\n 12,\n 14,\n 16,\n 16,\n 15,\n 18,\n 16,\n 13,\n 13,\n 11,\n 18,\n 22,\n 17,\n 13,\n 16,\n 21,\n 21,\n 31,\n 38,\n 25,\n 22,\n 32,\n 105,\n 169,\n 111,\n 99,\n 161,\n 159,\n 153,\n 171,\n 146,\n 172,\n 194,\n 174,\n 175,\n 181,\n 212,\n 204,\n 191,\n 177,\n 193,\n 297,\n 218,\n 217,\n 163,\n 165,\n 228,\n 197,\n 145,\n 185,\n 161,\n 175,\n 145,\n 13,\n 171,\n 169,\n 156,\n 163,\n 164,\n 139,\n 153,\n 150,\n 162,\n 166,\n 167,\n 168,\n 162,\n 162,\n 157,\n 144,\n 181,\n 173,\n 159,\n 180,\n 161,\n 205,\n 208,\n 212,\n 47,\n 229,\n 362,\n 81,\n 22,\n 136,\n 16,\n 130,\n 18,\n 20,\n 16,\n 66,\n 16,\n 15,\n 19,\n 16,\n 17,\n 16,\n 62,\n 16,\n 22,\n 17,\n 14,\n 20,\n 13,\n 15,\n 20,\n 15,\n 19,\n 18,\n 14,\n 17,\n 16,\n 22,\n 16,\n 17,\n 17,\n 16,\n 18,\n 14,\n 18,\n 14,\n 18,\n 17,\n 14,\n 14,\n 17,\n 18,\n 17,\n 16,\n 19,\n 18,\n 15,\n 16,\n 16,\n 17,\n 16,\n 17,\n 17,\n 20,\n 15,\n 17,\n 19,\n 15,\n 18,\n 15,\n 13,\n 17,\n 18,\n 19,\n 19,\n 16,\n 18,\n 14,\n 17,\n 21,\n 16,\n 20,\n 17,\n 17,\n 21,\n 14,\n 19,\n 15,\n 21,\n 18,\n 19,\n 24,\n 19,\n 22,\n 15,\n 17,\n 19,\n 22,\n 17,\n 16,\n 19,\n 18,\n 19,\n 15,\n 15,\n 15,\n 14,\n 19,\n 18,\n 17,\n 19,\n 22,\n 15,\n 16,\n 22,\n 20,\n 18,\n 15,\n 57,\n 18,\n 17,\n 18,\n 67,\n 17,\n 67,\n 15,\n 73,\n 16,\n 63,\n 70,\n 64,\n 16,\n 71,\n 70,\n 74,\n 15,\n 26,\n 70,\n 81,\n 68,\n 73,\n 82,\n 74,\n 78,\n 72,\n 75,\n 74,\n 81,\n 77,\n 85,\n 76,\n 74,\n 82,\n 86,\n 78,\n 76,\n 82,\n 76,\n 82,\n 80,\n 80,\n 91,\n 82,\n 79,\n 73,\n 87,\n 75,\n 74,\n 74,\n 80,\n 88,\n 78,\n 80,\n 89,\n 79,\n 86,\n 75,\n 77,\n 86,\n 79,\n 88,\n 94,\n 84,\n 77,\n 86,\n 88,\n 82,\n 89,\n 12,\n 90,\n 89,\n 10,\n 76,\n 95,\n 90,\n 82,\n 76,\n 91,\n 90,\n 85,\n 84,\n 94,\n 102,\n 89,\n 93,\n 95,\n 92,\n 82,\n 86,\n 79,\n 85,\n 86,\n 84,\n 90,\n 105,\n 103,\n 100,\n 84,\n 94,\n 85,\n 99,\n 98,\n 92,\n 93,\n 78,\n 93,\n 85,\n 84,\n 93,\n 93,\n 87,\n 82,\n 87,\n 85,\n 86,\n 85,\n 90,\n 99,\n 89,\n 99,\n 107,\n 87,\n 83,\n 84,\n 87,\n 100,\n 94,\n 84,\n 84,\n 72,\n 86,\n 94,\n 62,\n 83,\n 92,\n 82,\n 91,\n 68,\n 90,\n 83,\n 89,\n 84,\n 63,\n 13,\n 91,\n 91,\n 87,\n 84,\n 89,\n 89,\n 68,\n 97,\n 10,\n 95,\n 66,\n 66,\n 94,\n 95,\n 89,\n 78,\n 86,\n 95,\n 87,\n 100,\n 86,\n 88,\n 85,\n 86,\n 83,\n 83,\n 81,\n 77,\n 85,\n 70,\n 74,\n 106,\n 90,\n 79,\n 80,\n 85,\n 92,\n 82,\n 76,\n 81,\n 89,\n 85,\n 86,\n 76,\n 65,\n 81,\n 80,\n 91,\n 92,\n 84,\n 113,\n 85,\n 72,\n 81,\n 78,\n 81,\n 83,\n 90,\n 84,\n 62,\n 84,\n 91,\n 79,\n 89,\n 88,\n 92,\n 79,\n 11,\n 83,\n 105,\n 85,\n 89,\n 85,\n 84,\n 83,\n 12,\n 87,\n 72,\n 83,\n 81,\n 57,\n 81,\n 75,\n 95,\n 100,\n 91,\n 103,\n 91,\n 93,\n 89,\n 88,\n 79,\n 81,\n 96,\n 98,\n 96,\n 86,\n 94,\n 96,\n 91,\n 91,\n 88,\n 100,\n 94,\n 94,\n 111,\n 98,\n 83,\n 90,\n 90,\n 85,\n 95,\n 88,\n 102,\n 99,\n 105,\n 115,\n 91,\n 99,\n 87,\n 101,\n 97,\n 102,\n 103,\n 90,\n 99,\n 105,\n 116,\n 99,\n 102,\n 105,\n 99,\n 13,\n 99,\n 102,\n 102,\n 102,\n 98,\n 88,\n 100,\n 118,\n 104,\n 96,\n 103,\n 107,\n 102,\n 93,\n 106,\n 98,\n 99,\n 104,\n 101,\n 96,\n 116,\n 114,\n 136,\n 103,\n 114,\n 139,\n 118,\n 113,\n 116,\n 13,\n 121,\n 137,\n 123,\n 193,\n 168,\n 156,\n 39,\n 177,\n 129,\n 146,\n 154,\n 132,\n 168,\n 139,\n 62,\n 186,\n 205,\n 377,\n 188,\n 231,\n 173,\n 226,\n 379,\n 356,\n 247,\n 324,\n 279,\n 298,\n 258,\n 238,\n 258,\n 270,\n 255,\n 241,\n 251,\n 236,\n 278,\n 237,\n 279,\n 300,\n 324,\n 335,\n 339,\n 452,\n 231,\n 500,\n 500,\n 281,\n 378,\n 175,\n 183,\n 248,\n 208,\n 222,\n 216,\n 500,\n 500,\n 327,\n 500,\n 500,\n 500,\n 500,\n 362,\n 264,\n 500,\n 500,\n 346,\n 367,\n 500,\n 384,\n 500,\n 283,\n 324,\n 269,\n 308,\n 500,\n 337,\n 358,\n 392,\n 456,\n 500,\n 488,\n 500,\n 343,\n 500,\n 500,\n 500,\n 500,\n 500,\n 500,\n 500,\n 500,\n 500,\n 500,\n 500,\n 500,\n 500,\n 500,\n 500,\n 500,\n 500,\n 500,\n 500,\n 500,\n 500,\n 500,\n 500,\n 500,\n 210,\n 500]"
     },
     "execution_count": 21,
     "metadata": {},
     "output_type": "execute_result"
    }
   ],
   "source": [],
   "metadata": {
    "collapsed": false
   },
   "id": "84d44a9b94160293"
  },
  {
   "cell_type": "code",
   "execution_count": null,
   "outputs": [],
   "source": [],
   "metadata": {
    "collapsed": false
   },
   "id": "7a7f681177034aa0"
  }
 ],
 "metadata": {
  "kernelspec": {
   "display_name": "Python 3",
   "language": "python",
   "name": "python3"
  },
  "language_info": {
   "codemirror_mode": {
    "name": "ipython",
    "version": 2
   },
   "file_extension": ".py",
   "mimetype": "text/x-python",
   "name": "python",
   "nbconvert_exporter": "python",
   "pygments_lexer": "ipython2",
   "version": "2.7.6"
  }
 },
 "nbformat": 4,
 "nbformat_minor": 5
}
