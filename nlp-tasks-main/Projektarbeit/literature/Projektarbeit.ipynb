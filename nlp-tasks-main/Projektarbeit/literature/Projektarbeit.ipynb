{
 "cells": [
  {
   "cell_type": "markdown",
   "id": "03f6df96-aaa9-42f0-89e6-21ec5f050369",
   "metadata": {},
   "source": [
    "# Projektarbeit NLP (Document Classifier)"
   ]
  },
  {
   "cell_type": "markdown",
   "id": "4a7a5b33-ea7c-432c-8686-726f42f4d012",
   "metadata": {},
   "source": [
    "Lösung zur Projektarbeit im Fach Natural Language Processing (NLP). \n",
    "\n",
    "**Gruppe: Lukas Kölbl, Fabian Schmidt**"
   ]
  },
  {
   "cell_type": "markdown",
   "id": "5767e7e4d6da3209",
   "metadata": {
    "collapsed": false,
    "jupyter": {
     "outputs_hidden": false
    }
   },
   "source": [
    "<a id=\"0\"></a>\n",
    " # Gliederung\n",
    "1. [Datensammlung](#1)     \n",
    "    1. [Manuelle Datenexploration](#2)\n",
    "    2. [Automatisierte Datenerfassung](#3)\n",
    "2. [Datenaufbereitung](#4) \n",
    "1. [Datenverarbeitung, Visualisierung und Auswertung/Beurteilung](#5) \n",
    "    1. [Transformer-Modelle](#6)     \n",
    "    2. [Extraktion der Sentence & Word Embeddings](#7)\n",
    "    3. [Clustering, Visualisierung und Bewertung der \"Cluster](#8)\n",
    "    4. [Topic Klassifikation & Zuordnung](#9)\n"
   ]
  },
  {
   "cell_type": "markdown",
   "id": "e6c34cb1-1760-4abb-a644-2efe96de8f43",
   "metadata": {},
   "source": [
    "## Hinweis zum Ausführen des Projektes auf den Rechnern im DC107\n",
    "Wir haben die Ausführung der Projektarbeit dort getestet und sie funktioniert auch. Wichtig dafür ist jedoch die richtige Ausführung der Schritte, die nachfolgend aufgelistet sind.\n",
    "\n",
    "- Für den GPU Support muss [CUDA](https://developer.nvidia.com/cuda-downloads) installiert sein (wir sind uns nicht sicher, ob dies auf jedem Rechner der Fall ist)\n",
    "- Danach muss ein environment initialisiert werden (CUDA muss vorher bereits installiert sein, das ist wichtig, sonst funktioniert der GPU Support nicht)\n",
    "- Environment mit source env_name/bin/activate aktivieren, dann mit **pip install -r requirements.txt** die requirements installieren\n",
    "- Seperat [pytorch](https://pytorch.org/get-started/locally/) installieren\n",
    "- Danach kann ganz normal der jupyter kernel installiert und das Projekt ausgeführt werden\n",
    "\n",
    "Die seperate Installation von Pytorch ist erforderlich, da in unserem Fall bei pip freeze > requirements.txt pytorch falsch übernommen wurde. Die Installation des jeweiligen requirements.txt files führte dann zu Versionskonflikten und schlug fehl, weswegen wir pytorch aus dem requirements file gelöscht haben. Alle nötigen Unterordner (data_and_preprocessing und embeddings) sollten bereits in der Zip-Datei mit enthalten sein.<br>\n",
    "\n",
    "Der Code der einzelnen Aufgabenbereiche wurde in seperate Python-Dateien ausgelagert, da so eine bessere Übersichtlichkeit gewährleistet werden kann. Diese befinden sich im selben Ordner wie dieses Jupyter-Notebook."
   ]
  },
  {
   "cell_type": "markdown",
   "id": "6569f32f-1064-4b5e-a71d-23129dfbf4d2",
   "metadata": {},
   "source": [
    "## Datensammlung (Crawler für die OTH Website)<a class=\"anchor\" id=\"1\"></a>\n"
   ]
  },
  {
   "cell_type": "markdown",
   "id": "c7c7d27b-25e2-499c-9277-6db56eeafcf6",
   "metadata": {},
   "source": [
    "### Mögliche Probleme / Challenges\n",
    "- Text liegt teils in zwei Sprachen (English und Deutsch) vor.\n",
    "- Abkürzungen im Text selbst (POC, ECTS, TOEIC usw.)\n",
    "- Sonderzeichen (+, (, ), *, usw.)\n",
    "- Zahlen\n",
    "- Hyperlinks\n",
    "- Aufzählungen und Überschriften (Sätze ohne . am Ende)\n",
    "- Buttons (Bspw. Zurück Button)\n",
    "- Side-menus (Auswahlmenüs, welche nur Überschriften verlinken)\n",
    "- Unicode Zeichen (vor allem in PDFs)"
   ]
  },
  {
   "cell_type": "code",
   "execution_count": 1,
   "id": "affe2796-5200-4fe1-8904-0580060a962a",
   "metadata": {},
   "outputs": [],
   "source": [
    "import crawler, re\n",
    "from lingua import Language\n",
    "\n",
    "start_url = \"https://www.oth-aw.de/en/\"\n",
    "url_pattern = re.compile(r'(www\\.oth-aw\\.de\\/en\\/|www\\.oth-aw\\.de\\/files)')\n",
    "rem_objects = [\"button\", \"subnav-link\", \"btn btn-light\", \"carousel-content\"]\n",
    "exclude_obj_w_class = [('div', \"alert alert-error\")]\n",
    "languages = [Language.ENGLISH, Language.GERMAN]\n",
    "\n",
    "crawler = crawler.Crawler(\n",
    "              start_url,\n",
    "              url_pattern, \n",
    "              rem_objects, \n",
    "              exclude_obj_w_class,\n",
    "              languages,\n",
    "              link_thresh=1000, \n",
    "              main_tag='page-content',\n",
    "          )\n",
    "#crawler.crawl_urls()"
   ]
  },
  {
   "cell_type": "markdown",
   "id": "14a7268c-2b6e-43ef-84a9-44e969f70ce5",
   "metadata": {},
   "source": [
    "### Manuelle Datenexploration <a class=\"anchor\" id=\"2\"></a>\n",
    "- Wie sehen die inhaltlichen Textstrukturen aus?\n",
    "    - Inhaltlich hauptsächlich allgemeine Informationen über den Studiengang\n",
    "    - Aber auch Beschreibung, weswegen dieser wichtig ist\n",
    "    - Teilweise einzelne Wörter ohne textuellen Zusammenhang (Hyperlinks zu Kontakt, Adresse o.ä. unten auf der Website)\n",
    "- Wie und in welcher Form werden alle Textinformationen dargestellt?\n",
    "    - Text wird teils in Englisch / Deutsch oder anderen Sprachen angezeigt\n",
    "    - Strukturell findet sich oft Fließtext, aber auch Aufzählungen / Stichpunkte\n",
    "    - Überschriften / Unterüberschriften (Im Sinne also oft einzelne Wörter) sind ebenfalls vorhanden\n",
    "    - Menüpunkte mit Buttons\n",
    "    - Verlinkung von Informationen oder anderen Websiten\n",
    "- Reduntante Strukturen / Inhalte?\n",
    "    - Teils ist dieselbe Website nur in anderen Sprachen (Tschechisch, Russisch usw.) verlinkt\n",
    "    - Ansonsten ähnelt sich der Aufbau auch in diesem Fall wieder (Überschriften gefolgt von Fließtext und Aufzählungen zwischendrin)\n",
    "    - Fast alle Seiten der OTH besitzen denselben Kopf und Fußzeileninhalt (Verlinkungen von Kontakt, FAQs usw.). Diese sollten in der Textinformation selbst auch entfernt werden, da kein zusätzlicher Informationsgewinn entsteht"
   ]
  },
  {
   "cell_type": "markdown",
   "id": "d589319f-b745-4c61-93f9-dfe3ac335e69",
   "metadata": {},
   "source": [
    "### Automatisierte Datenerfassung <a class=\"anchor\" id=\"3\"></a>\n",
    "\n",
    "#### Zusätzliche Interpretationen / Erkenntnisse \n",
    "\n",
    "##### Erkenntnisse beim crawlen von Websites\n",
    "- Beim crawlen einer Website kam es öfter vor, dass Sätze ohne separierendes Leerzeichen zusammenhingen\n",
    "- Dieses Problem tritt auf, wenn die get_text() Methode one separator aufgerufen wird, verschachtelte Textinhalte werden dann nämlich einfach aneinandergehängt\n",
    "- Aus diesem Grund wird als Separator \" \" verwendet, dies hat allerdings noch zusätzliche Auswirkungen auf Emails, mehr hierzu noch im Kapitel Datenaufbereitung\n",
    "- Zudem wird der strip Parameter verwendet, um direkt linebreaks und whitespaces zu entfernen.\n",
    "- Teils sind verlinkte Seiten nicht erreichbar, dabei wird die jeweilige Website übersprungen. Es bestünde dabei auch die Möglichkeit die leeren Daten zu schreiben anstatt zu überspringen, allerdings sind somit am Ende weniger nutzbare Daten verfügbar, da die Leerdaten aussortiert werden müssen.\n",
    "- Zudem sind externe Seiten verlinkt, also Seiten die mit der OTH direkt nichts zu tun haben (beispielsweise Deepl und andere). An dieser Stelle ist es wichtig, bei der initialisierung des Crawlers ein geeignetes url_pattern zu definieren, welches nur die gewünschten urls matcht (In diesem Fall: r'(www\\.oth-aw\\.de\\/en\\/|www\\.oth-aw\\.de\\/files)'. So kann sichergestellt werden, dass nur themenrelevante Inhalte gespeichert werden.\n",
    "    - Auch Seiten, die rein auf deutsch angezeigt werden können mittels \"en\" gefiltert werden \n",
    "- Oft werden auch Inhalte verlinkt, die für die vorliegende Aufgabe generell nicht brauchbar sind (beispielsweise Bilder), auch diese Einträge werden übersprungen\n",
    "- Bei Start von der allgemeinen OTH Website werden oft ähnliche Links gefunden, Beispielsweise die Seiten über Professoren und Mitarbeiter, welche vom sinnhaften Inhalt dieselben sind (Jeweilige Fachrichtung, Kontakt, Publikationen usw.)\n",
    "- Header und footer, sowie Buttons und spezifische Klassen werden bereits beim crawling Vorgang entfernt, mehr hierzu im nachfolgenden Kapitel zur Datenaufbereitung\n",
    "##### Erkenntnisse beim crawlen von PDFs\n",
    "- Parsing von PDFs gestaltet sich als sehr schwierig. Bei normalen Websites ist es leicht, bestimmte Elemente nach ihrem tag, Objekttypen oder Klassennamen zu filtern\n",
    "- Das ist bei PDFs eher schwierig, auch ist hier oft der Text kreuz und quer verteilt. Es sind zudem unerwünschte Elemente wie Formeln, QR-Codes usw. enthalten\n",
    "    - In Folge dessen erhält man nach dem crawling Vorgang eher unschöne Ergebnisse. An dieser Stelle wurden auch verschieden Bibliotheken getestet (PyPDF4, pdfplumber, PyMuPDF)\n",
    "    - Am Ende stellte sich PyMuPDF als am zuverlässigsten heraus\n",
    "    - Aber auch diese Bibliothek kann - zumindest nicht leicht und schnell - diese unerwünschten Inhalte nicht filtern\n",
    "    - Mehr zum filtern dieser Inhalte folgt ebenfalls im Kapitel zur Datenaufbereitung\n",
    "##### Zusätzliche Erkenntnisse\n",
    "- Wir fanden es sinnvoll, die gecrawlten PDF Dateien zusätzlich in einem Ordner abzuspeichern. So kann - sollte bei einem crawling Durchlauf ein Fehler beim PDF parsing passieren - dieser besser nachvollzogen werden, da die betroffene PDF hierbei zur Verfügung steht und die jeweilige Stelle direkt im Dokument gesucht werden kann\n",
    "- Der Baum mit den jew. links soll ebenfalls dauerhaft als Datei verfügbar sein um gegebenenfalls auf bestimmte Seiten zurückgreifen zu können und den crawling Vorgang besser nachzuvollziehen\n",
    "- Die einzelnen Loginformationen für jeden crawling Vorgang werden zusätzlich in einem logfile abgespeichert, so kann bei potenziell fehlerhaften Daten der zugehörige Fehler leicht gefunden werden"
   ]
  },
  {
   "cell_type": "markdown",
   "id": "c011556b5daccffb",
   "metadata": {
    "collapsed": false,
    "jupyter": {
     "outputs_hidden": false
    }
   },
   "source": [
    "## Datenaufbereitung <a class=\"anchor\" id=\"4\"></a>\n",
    "Essenziell für die Aufbereitung der Daten ist eine Übersicht über relevante / irrelevante Textbausteine. Allgemein können so zumindest die offensichtlichen, problematischen Stellen bereits im Vornherein ausfindig gemacht und eliminiert werden. Für eine feinere Säuberung der Daten muss noch eine manuelle Überprüfung des Datensatzes nach dem ersten Preprocessing Durchgang durch evtl. Stichproben erfolgen, um weniger offensichtliche, irrelevante Textbausteine zu idendifizieren.\n",
    "### Irrelevante Textbausteine\n",
    "- Email-Adressen, Telefonnummern, Faxnummern und allgemeine Kontaktdaten\n",
    "- Kopf/Fußzeilen und Menüs (diese sind i.d.R. gleich und verweisen lediglich auf andere Seiten)\n",
    "- Sonderzeichen, Zeilenumbrüche, Unicode, Zeit/Datumsangaben, Zahlen\n",
    "- Stopwords \n",
    "### Relevante Textbausteine\n",
    "- Fließtext innerhalb der Seite\n",
    "- Überschriften / Unterschriften"
   ]
  },
  {
   "cell_type": "code",
   "execution_count": 2,
   "id": "4cbcc272f6a54cdf",
   "metadata": {
    "collapsed": false,
    "jupyter": {
     "outputs_hidden": false
    },
    "scrolled": true
   },
   "outputs": [
    {
     "name": "stderr",
     "output_type": "stream",
     "text": [
      "C:\\Users\\Luki\\Desktop\\nlp-tasks\\nlp-env-win-cuda\\Lib\\site-packages\\tqdm\\auto.py:21: TqdmWarning: IProgress not found. Please update jupyter and ipywidgets. See https://ipywidgets.readthedocs.io/en/stable/user_install.html\n",
      "  from .autonotebook import tqdm as notebook_tqdm\n",
      "[nltk_data] Downloading package punkt to NLTK_Data/Punkt...\n",
      "[nltk_data]   Package punkt is already up-to-date!\n",
      "[nltk_data] Downloading package wordnet to NLTK_Data/Wordnet...\n",
      "[nltk_data]   Package wordnet is already up-to-date!\n",
      "[nltk_data] Downloading package stopwords to NLTK_Data/Stopwords...\n",
      "[nltk_data]   Package stopwords is already up-to-date!\n",
      "Regex cleaning documents: 100%|███████████████████████████████████████████████████| 1001/1001 [00:10<00:00, 98.37doc/s]\n",
      "Removing non english words from docs: 100%|███████████████████████████████████████| 1001/1001 [00:15<00:00, 66.39doc/s]\n",
      "Lemmatizing documents: 100%|██████████████████████████████████████████████████████| 1001/1001 [02:21<00:00,  7.07doc/s]\n"
     ]
    }
   ],
   "source": [
    "import preprocessor\n",
    "\n",
    "#Regular Expressions\n",
    "dates = re.compile(r'(3[01]|[12][0-9]|0?[1-9])(\\.|-|\\/)(1[0-2]|0?[1-9])\\2([0-9]{2})?[0-9]{2}')\n",
    "email_split = re.compile(r'\\b[A-Za-zäöüÄÖÜß0-9._%+-]+ @ [A-Za-z0-9.-]+ \\. [A-Z|a-z]{2,}\\b')\n",
    "email = re.compile(r'\\b[A-Za-zäöüÄÖÜß0-9._%+-]+@[A-Za-z0-9.-]+\\.[A-Z|a-z]{2,}\\b')\n",
    "tabs_newlines = re.compile(r'(\\\\[nt]\\s*)')\n",
    "links = re.compile(r'(https?:\\/\\/)?(www\\.)?[-a-zA-Z0-9@:%._\\+~#=]{1,256}\\.[a-zA-Z0-9()]{1,6}\\b([-a-zA-Z0-9()@:%_\\+.~#?&\\/=]*)')\n",
    "hashtags = re.compile(r'([#][\\w_-]+)')\n",
    "whitespace = re.compile(r'(\\s{3,})')\n",
    "en_time = re.compile(r'([0-2][0-9]:[0-5][0-9]([pm]|[am])*)|([0-2]*[0-9]*:*[0-5][0-9]([pm]|[am])+)|([0-9][0-9]*([pm]|[am])+)')\n",
    "de_time = re.compile(r'([0-2][0-4]([uhr]{3,3}|[\\suhr]{3,4}))|([0-2][0-4]\\:[0-5][0-9]([uhr]{3,3}|[uhr\\\\s]{3,4}|$))')\n",
    "sent_patt = re.compile('(?<!\\.|\\!|\\?|\\:|\\;|\\s)\\w[.,:;!?]\\s+')\n",
    "phone_fax = re.compile(r'(((fax )|(mobil )|(tel\\.: )|(phone ))?\\+49\\s[0-9\\s\\-]+[0-9])')\n",
    "mult_plus = re.compile(r'\\+\\s+')\n",
    "mult_minus = re.compile(r'\\−\\s+')\n",
    "\n",
    "#Map regs to their corresponding replacement word\n",
    "reg_mappings = [\n",
    "    (' DATE ', dates), (' EMAIL ', email), \n",
    "    (' EMAIL ', email_split), (' LINK ', links), \n",
    "    (' HASHTAG ', hashtags), (' ', whitespace), \n",
    "    (' ', tabs_newlines), (' TIME ', de_time), \n",
    "    (' TIME ', en_time), (' PHONE ', phone_fax),\n",
    "    ('', mult_plus), ('', mult_minus),\n",
    "]\n",
    "\n",
    "data_folder = \"data_and_preprocessing/\"\n",
    "#Regex clean the crawled data\n",
    "prepro = preprocessor.Preprocessor(reg_mappings, sent_patt)\n",
    "prepro.regex_preprocessing(f\"{data_folder}crawler_result.json\")\n",
    "\n",
    "#Remove non-english words from regex cleaned data\n",
    "prepro.rem_non_english_words(f\"{data_folder}crawler_result_regex_cleaned.json\")\n",
    "\n",
    "#lemmatize and tokenize preprocessed data\n",
    "prepro.lemmatize(f\"{data_folder}crawler_result_lang_cleaned.json\")"
   ]
  },
  {
   "cell_type": "markdown",
   "id": "c6c50f0bfabde02d",
   "metadata": {
    "collapsed": false,
    "jupyter": {
     "outputs_hidden": false
    }
   },
   "source": [
    "### Preprocessing durch reguläre Ausdrücke\n",
    "- Zum Entfernen von stukturbehafteten Daten (z.B Datum, Emails, Links, Zeiten) werden Reguläre Ausdrücke verwendet. Auf diese werden auch mehrere, aufeinander folgende Zeilenumbrüche und Einrückungen bereinigt, die beim crawling Vorgang noch nicht entfernt wurden\n",
    "- Für die Emails folgt ein Sonderfall: Durch den seperator Parameter in der Funktion get_text beim crawlen einer url werden manche emails folgendermaßen im Text dargestellt: example.mail @ oth-aw . de\n",
    "- Dies hängt - wie bereits erwähnt - vermutlich mit der Struktur der OTH Websites zusammen, bei der Email Adressen verschachtelt in verschiedenen HTML-Containern abgespeichert werden\n",
    "    - An dieser Stelle wurd - zusätzlich zum normalen email regex - ein regex email_split eingeführt, der diese Struktur berücksichtigt\n",
    "- Die verschiedenen Seiten der OTH Amberg enthalten vor allem viele Kontaktdaten (Telefonnummern, Fax), da alle Professoren und Mitarbeiter eine eigene Seite mit den jeweiligen Kontaktdaten haben\n",
    "- Diese Aufgabe lässt sich am besten mit regulären Ausrücken lösen, da sich so die oben erwähnten Strukturen leicht verallgemeinern und filtern lassen\n",
    "### Manuelle Preprocessing Schritte beim crawlen\n",
    "- Header und footer werden - wie bereits erwähnt - schon beim crawling Vorgang aussortiert\n",
    "- Diese Bereiche einer Seite ähneln sich über viele der Unterseiten hinweg, sind jedoch manchmal marginal unterschiedlich (manchmal sind mehr Seiten im header verlinkt, manchmal weniger, manche Punkte sind teils anders benannt usw.)\n",
    "- Dieser Aufbau macht es schwierig bis unmöglich, zuverlässig alle header und footer manuell durch reguläre Ausdrücke zu entfernen\n",
    "- Da jede der Unterseiten der OTH Website den relevanten Haupttext der jeweiligen Website in einem div mit derselben id (page_content) speichert, kann dieser Text bereits beim crawling Vorgang mit dem bs4 package gefiltert werden\n",
    "- So wird nur der Text aus diesem div übernommen, header und footer Text werden direkt beim crawlen aussortiert\n",
    "- Da header und footer keine textuell wichtigen Informationen über den Seitenhinhalt enthalten müssen sie auch zwingend entfernt werden, da sonst die Themenzuweisung davon beeinflusst wird, besonders bei \n",
    "- Dies gilt ebenso für Websitelemente wie buttons oder side-menus, welche auf manchen Seiten vorhanden sind\n",
    "- Auch hier ist der textuelle Inhalt oft anders und kann schwer generalisiert werden\n",
    "- Beim crawlen direkt können diese Inhalte mit folgenden Klassen bzw. Objektypen entfernt werden:\n",
    "    - \"subnav-link\" für side-menus\n",
    "    - \"alert alert-error\" für Error text der ebenfalls nach dem crawlen im Text enthalten ist\n",
    "    - \"btn btn-light\" für extra angelegte Zurück Buttons\n",
    "    - \"button\" für Button Objekte (obiger Zurück Button ist kein Button Objekt)\n",
    "    - \"carousel-content\" für Untermenüs\n",
    "- Hierbei sei erwähnt, dass auch diese Filterung am Ende nicht perfekt durchgeführt werden kann\n",
    "- Die eben genannten Punkte lieferten die für uns am besten ersichtliche Qualität hinsichtlich der Filterung solcher Elemente\n",
    "### Satz und Wortkonvertierung\n",
    "Um ein Dokument zu kategorisieren, muss dieses zunächst in seine einzelnen Sätze und danach in die einzelnen Wörter aufgeteilt werden. \n",
    "- Zur Tokenization der Sätze/Wörter wird die nltk Bibliothek verwendet.\n",
    "    - Prinzipiell können für die Sentence Tokenization auch reguläre Ausdrücke verwendet werden, allerdings müssen dafür manuell alle Sonderfälle (Abkürzungen mit Punkt, Doppelpunkte, Überschriften usw.) abgedeckt werden, dies ist jedoch umständlich\n",
    "    - Der hier verwendete Tokenizer (PunktSentenceTokenizer) verwendet einen unsupervised Algorithmus um ein Modell für die Satzidendifikation aufzubauen. Diese Vorgehensweise eignet sich besonders für europäische Sprachen <sup>[1](#punkt_sent_tokenizer)</sup>\n",
    "- Zudem werden stopwords mit der nltk Bibliothek entfernt, die eine vorgefertigte Sammlung dieser Wörter für verschiedene Sprachen (hier: Englisch) bereitstellt\n",
    "    - Besonders für die vorliegende Aufgabe der Themenidendifizierung können diese problematisch werden, da sie dokumentenübergreifend einen Großteil des Textes der jeweiligen Dokumente ausmache und somit die Themenzuweisung stark beeinflussen. Sie bieten jedoch keinerlei  Informationsgehalt und müssen deswegen zwingend entfernt werden\n",
    "- Für die Wortkonvertierung wird Lemmatization mit dem WordNetLemmatizer durchgeführt\n",
    "    - Zunächst müssen dazu die einzelnen Wörter aus den jeweiligen Dokumenten idendifiziert werden, dies wird mittels der word_tokenize Methode aus der nltk library realisiert\n",
    "    - Diese berücksichtigt bereits standardmäßig einige Sonderfälle in der Worterkennung (Abkürungsformen im Englischen, Behandlung von Punkten usw.)     <sup>[2](#word_tokenizer)</sup>\n",
    "    - Prinzipiell besteht auch für die Worterkennung die Möglichkeit, reguläre Ausdrücke zu benutzen. Diese Methode wäre zwar etwas flexibler, jedoch müssen - wie schon bei der Satzerkennung - alle Sonderfälle berücksichtigt werden, was in Anbetracht der Datenmenge in der vorgegebenen Zeit nicht möglich ist\n",
    "    - Schlussendlich müssen Wortvariationen eliminiert werden\n",
    "    - So können die im Dokument verwendeten Wörter auf ihre Grundform gebracht werden um für jedes Wort nur eine Ausführung zu haben\n",
    "    - Für das vorliegende Projekt wurde der WordNetLemmatizer verwendet\n",
    "    - Dieser erhält - im Gegensatz zu Alternativen wie dem PorterStemmer - beim Vorgang des stemmings die ursprüngliche Wortbedeutung bei\n",
    "    - Dies ist für die Themenzuweisung essenziell, da so der Kontext und die Wort bzw. Satzbedeutung erhalten bleibt und nicht abgeändert wird\n",
    "### Sprache\n",
    "- Ein weiterer, kritischer Punkt beim Preprocessing stellt die Sprache des jeweiligen Dokuments dar\n",
    "- Oft haben Websites sowohl englische als auch deutsche Sätze / Wörter\n",
    "- Der Großteil davon wird bereits beim crawling durch die Sprachenüberprüfung aussortiert\n",
    "- Jedoch ist dies nicht ausreichend, denn ein Text mit bspw. 1000 englischen und 5 deutschen Sätzen wird mit großer Wahrscheinlichkeit als Englisch klassifiziert\n",
    "- An dieser Stelle wird das Dokument also beibehalten\n",
    "- Im hodchdimensionalen feature-space werden gleichbedeutende englische und deutsche Wörter jedoch mit großer Wahrscheinlichkeit weit auseinander liegen\n",
    "- Aus diesem Grund werden die verbleibenden deutschen bzw. anderssprachigen Wörter in den Dokumenten manuell entfernt\n",
    "- Jedes Dokument wird in Sätze und einzelne Wörter aufgeteilt, Wörter die nicht im englischen Vokabular vorkommen (wir haben auf das british-english unix vocabular unter usr/share/dict/words zurückgegriffen) werden entfernt\n",
    "- Dabei werden auch im selben Zug anderssprachige Wörter gefiltert\n",
    "### Alternative Verarbeitungstechniken\n",
    "- Es gibt noch mehr Möglichkeiten des Text Preprocessings\n",
    "- Hierunter zählen beispielsweise POS-(Part-of-Speech) Tagging und NER (Named Entity Recognition)"
   ]
  },
  {
   "cell_type": "markdown",
   "id": "6cc91be9f6b90d26",
   "metadata": {
    "collapsed": false,
    "jupyter": {
     "outputs_hidden": false
    }
   },
   "source": [
    "## Datenverarbeitung, Visualisierung und Auswertung/Beurteilung <a class=\"anchor\" id=\"5\"></a>\n",
    "### Transformer-Modelle <a class=\"anchor\" id=\"6\"></a>\n",
    "- Für das Laden der Transformer Modelle wird die offiziell empfohlende Vorgehensweise in den jeweiligen Dokumentationen verwendet\n",
    "    - T5: https://huggingface.co/docs/transformers/model_doc/t5\n",
    "    - Gpt-Neo: https://huggingface.co/docs/transformers/model_doc/gpt_neo\n",
    "- Im nächsten Abschnitt wird die feature extraction und somit die Verwendung der Modelle im Kontext dieser Arbeit genauer beschrieben "
   ]
  },
  {
   "cell_type": "markdown",
   "id": "757b0f5e6b041d10",
   "metadata": {
    "collapsed": false,
    "jupyter": {
     "outputs_hidden": false
    }
   },
   "source": [
    "### Extraktion der Sentence & Word Embeddings <a class=\"anchor\" id=\"7\"></a>\n",
    "- Für die Extraktion der Sentence und Word Embeddings wurde die transformers Bibliothek verwendet\n",
    "- die Sentence Embeddings können über die last_hidden_states des jeweiligen Modells extrahiert werden\n",
    "- der hochdimensionale Feature-Vektor (Sentence Embedding) wird mittels averaging auf einen 1x1x2048 Vektor komprimiert\n",
    "- Die Word Embeddings können vor dem averaging den jeweiligen Sentence Embeddings direkt entnommen werden, ein zusätzlicher Extraktionsschritt ist nicht vonnöten\n",
    "- Jedes Sentence Embedding eines Dokuments erhält innerhalb des jew. Dokumentenblocks im Datzensatz einen Index und wird darin so abgespeichert\n",
    "- Die Word Embeddings werden für jedes Dokument in einer Liste abgespeichert\n",
    "    - Wir haben die Word Embeddings zuerst noch nach Sätzen geordnet, da dies jedoch im Nachgang bei den TSNe Plots Probleme verursachte entschieden wir uns für obige Variante "
   ]
  },
  {
   "cell_type": "code",
   "execution_count": 1,
   "id": "772df942-c3a5-44e4-bbde-2b8fbcbe673f",
   "metadata": {
    "collapsed": false,
    "jupyter": {
     "outputs_hidden": false
    }
   },
   "outputs": [],
   "source": [
    "import os\n",
    "\n",
    "#Enable detailed logging in case the program crashes due to e.g. a hardware or memory problem on the GPU\n",
    "os.environ['CUDA_LAUNCH_BLOCKING'] = '1'"
   ]
  },
  {
   "cell_type": "code",
   "execution_count": 2,
   "id": "e864bbea-a8a9-4d8c-869c-c830ef4725dd",
   "metadata": {
    "ExecuteTime": {
     "end_time": "2024-01-23T12:55:47.927263500Z",
     "start_time": "2024-01-23T12:54:38.961604800Z"
    },
    "collapsed": false,
    "jupyter": {
     "outputs_hidden": false
    }
   },
   "outputs": [
    {
     "name": "stderr",
     "output_type": "stream",
     "text": [
      "C:\\Users\\Luki\\Desktop\\nlp-tasks\\nlp-env-win-cuda\\Lib\\site-packages\\tqdm\\auto.py:21: TqdmWarning: IProgress not found. Please update jupyter and ipywidgets. See https://ipywidgets.readthedocs.io/en/stable/user_install.html\n",
      "  from .autonotebook import tqdm as notebook_tqdm\n",
      "You are using the default legacy behaviour of the <class 'transformers.models.t5.tokenization_t5.T5Tokenizer'>. This is expected, and simply means that the `legacy` (previous) behavior will be used so nothing changes for you. If you want to use the new behaviour, set `legacy=False`. This should only be set if you understand what it means, and thouroughly read the reason why this was added as explained in https://github.com/huggingface/transformers/pull/24565\n",
      "Special tokens have been added in the vocabulary, make sure the associated word embeddings are fine-tuned or trained.\n"
     ]
    },
    {
     "name": "stdout",
     "output_type": "stream",
     "text": [
      "[INFO] Generating embeddings using t5-base on device: cuda\n"
     ]
    },
    {
     "name": "stderr",
     "output_type": "stream",
     "text": [
      "Generating embeddings for docs:   8%|███▊                                            | 8/100 [00:04<00:47,  1.92docs/s]Token indices sequence length is longer than the specified maximum sequence length for this model (583 > 512). Running this sequence through the model will result in indexing errors\n",
      "Generating embeddings for docs:  24%|███████████▎                                   | 24/100 [00:16<00:51,  1.46docs/s]"
     ]
    },
    {
     "name": "stdout",
     "output_type": "stream",
     "text": [
      "[INFO] Saving embeddings, this can take a while...\n"
     ]
    },
    {
     "name": "stderr",
     "output_type": "stream",
     "text": [
      "Generating embeddings for docs:  48%|██████████████████████▌                        | 48/100 [00:25<00:09,  5.44docs/s]"
     ]
    },
    {
     "name": "stdout",
     "output_type": "stream",
     "text": [
      "[INFO] Saving embeddings, this can take a while...\n"
     ]
    },
    {
     "name": "stderr",
     "output_type": "stream",
     "text": [
      "Generating embeddings for docs:  73%|██████████████████████████████████▎            | 73/100 [00:30<00:06,  4.13docs/s]"
     ]
    },
    {
     "name": "stdout",
     "output_type": "stream",
     "text": [
      "[INFO] Saving embeddings, this can take a while...\n"
     ]
    },
    {
     "name": "stderr",
     "output_type": "stream",
     "text": [
      "Generating embeddings for docs: 100%|██████████████████████████████████████████████| 100/100 [00:35<00:00,  2.49docs/s]"
     ]
    },
    {
     "name": "stdout",
     "output_type": "stream",
     "text": [
      "[INFO] Saving embeddings, this can take a while...\n"
     ]
    },
    {
     "name": "stderr",
     "output_type": "stream",
     "text": [
      "Generating embeddings for docs: 100%|██████████████████████████████████████████████| 100/100 [00:35<00:00,  2.78docs/s]\n"
     ]
    },
    {
     "name": "stdout",
     "output_type": "stream",
     "text": [
      "[INFO] Generating embeddings using EleutherAI/gpt-neo-1.3B on device: cuda\n"
     ]
    },
    {
     "name": "stderr",
     "output_type": "stream",
     "text": [
      "Generating embeddings for docs:  25%|███████████▊                                   | 25/100 [00:32<01:22,  1.11s/docs]"
     ]
    },
    {
     "name": "stdout",
     "output_type": "stream",
     "text": [
      "[INFO] Saving embeddings, this can take a while...\n"
     ]
    },
    {
     "name": "stderr",
     "output_type": "stream",
     "text": [
      "Generating embeddings for docs:  50%|███████████████████████▌                       | 50/100 [00:49<00:10,  4.57docs/s]"
     ]
    },
    {
     "name": "stdout",
     "output_type": "stream",
     "text": [
      "[INFO] Saving embeddings, this can take a while...\n"
     ]
    },
    {
     "name": "stderr",
     "output_type": "stream",
     "text": [
      "Generating embeddings for docs:  74%|██████████████████████████████████▊            | 74/100 [00:58<00:12,  2.16docs/s]"
     ]
    },
    {
     "name": "stdout",
     "output_type": "stream",
     "text": [
      "[INFO] Saving embeddings, this can take a while...\n"
     ]
    },
    {
     "name": "stderr",
     "output_type": "stream",
     "text": [
      "Generating embeddings for docs:  99%|██████████████████████████████████████████████▌| 99/100 [01:03<00:00,  9.34docs/s]"
     ]
    },
    {
     "name": "stdout",
     "output_type": "stream",
     "text": [
      "[INFO] Saving embeddings, this can take a while...\n"
     ]
    },
    {
     "name": "stderr",
     "output_type": "stream",
     "text": [
      "Generating embeddings for docs: 100%|██████████████████████████████████████████████| 100/100 [01:10<00:00,  1.43docs/s]\n"
     ]
    }
   ],
   "source": [
    "import embeddings, json, torch\n",
    "from transformers import T5Tokenizer, T5Model, AutoTokenizer, GPTNeoModel\n",
    "\n",
    "#Load documents\n",
    "f = open(\"data_and_preprocessing/crawler_result_lemmatized.json\", \"r\")\n",
    "data = json.load(f)\n",
    "f.close()\n",
    "\n",
    "#Get gpu as device if available\n",
    "device = torch.device(\"cuda\" if torch.cuda.is_available() else \"cpu\")\n",
    "\n",
    "#Get the T5 model\n",
    "torch.cuda.empty_cache() #Empty cache in case an old model is still saved on the gpu\n",
    "t5_model_name = \"t5-base\"\n",
    "t5_model = T5Model.from_pretrained(t5_model_name).encoder.to(device)\n",
    "t5_tokenizer = T5Tokenizer.from_pretrained(t5_model_name, model_max_length=512, truncation=True, padding=True)\n",
    "\n",
    "#Get the gpt-neo-1.3B model\n",
    "torch.cuda.empty_cache() #Empty cache in case an old model is still saved on the gpu\n",
    "gpt_neo_model_name = \"EleutherAI/gpt-neo-1.3B\"\n",
    "gpt_neo_model = GPTNeoModel.from_pretrained(gpt_neo_model_name).to(device)\n",
    "gpt_neo_tokenizer = AutoTokenizer.from_pretrained(gpt_neo_model_name)\n",
    "\n",
    "#Generate and save the corresponding embeddings\n",
    "embeddings.get_embeddings(data[0:100], t5_model, t5_tokenizer, device)\n",
    "embeddings.get_embeddings(data[0:100], gpt_neo_model, gpt_neo_tokenizer, device) "
   ]
  },
  {
   "cell_type": "markdown",
   "id": "cbcbc36720470d2a",
   "metadata": {
    "collapsed": false,
    "jupyter": {
     "outputs_hidden": false
    }
   },
   "source": [
    "### Clustering, Visualisierung und Bewertung der \"Cluster\" <a class=\"anchor\" id=\"8\"></a>"
   ]
  },
  {
   "cell_type": "markdown",
   "id": "f7c5cd70",
   "metadata": {},
   "source": [
    "#### für 1 Dokument WIP"
   ]
  },
  {
   "cell_type": "code",
   "execution_count": 13,
   "id": "3c3262d3",
   "metadata": {
    "ExecuteTime": {
     "end_time": "2024-01-23T14:28:32.260356700Z",
     "start_time": "2024-01-23T14:28:32.181289500Z"
    }
   },
   "outputs": [],
   "source": [
    "import ujson\n",
    "import topic_classification\n",
    "\n",
    "embeddings_source={\n",
    "    \"embeddings/t5_embeddings/sentence_embeddings/sents0.json\":\"https://www.oth-aw.de/en/\",    \n",
    "}\n",
    "embeddings_1docs={}\n",
    "\n",
    "for key, value in embeddings_source.items():\n",
    "    with open(key, \"rb\") as f:\n",
    "        embeds = ujson.load(f)\n",
    "        embeddings_1docs[value] = embeds[value]\n",
    "        f.close()"
   ]
  },
  {
   "cell_type": "code",
   "execution_count": 14,
   "id": "9586e917",
   "metadata": {
    "ExecuteTime": {
     "end_time": "2024-01-23T14:32:08.223926200Z",
     "start_time": "2024-01-23T14:32:06.637061500Z"
    }
   },
   "outputs": [
    {
     "name": "stdout",
     "output_type": "stream",
     "text": [
      "Calculation silhoette scores for https://www.oth-aw.de/en/\n"
     ]
    }
   ],
   "source": [
    "import numpy as np\n",
    "silhouette_scores_1doc = {}\n",
    "\n",
    "for key, value in embeddings_1docs.items():\n",
    "    print(f\"Calculation silhoette scores for {key}\")\n",
    "    silhouette_scores_1doc[key] = topic_classification.calc_silhouette_scores(np.array(list(embeddings_1docs[key].values())), len(embeddings_1docs[key]) - 1)"
   ]
  },
  {
   "cell_type": "code",
   "execution_count": 15,
   "id": "86c0c4fe",
   "metadata": {
    "ExecuteTime": {
     "end_time": "2024-01-23T14:32:10.918598700Z",
     "start_time": "2024-01-23T14:32:10.883569900Z"
    }
   },
   "outputs": [
    {
     "ename": "AttributeError",
     "evalue": "module 'topic_classification' has no attribute 'cluster_kmeans'",
     "output_type": "error",
     "traceback": [
      "\u001b[1;31m---------------------------------------------------------------------------\u001b[0m",
      "\u001b[1;31mAttributeError\u001b[0m                            Traceback (most recent call last)",
      "Cell \u001b[1;32mIn[15], line 3\u001b[0m\n\u001b[0;32m      1\u001b[0m cluster_1docs \u001b[38;5;241m=\u001b[39m {}\n\u001b[0;32m      2\u001b[0m \u001b[38;5;28;01mfor\u001b[39;00m key \u001b[38;5;129;01min\u001b[39;00m silhouette_scores_1doc\u001b[38;5;241m.\u001b[39mkeys():\n\u001b[1;32m----> 3\u001b[0m     cluster_1docs[key] \u001b[38;5;241m=\u001b[39m \u001b[43mtopic_classification\u001b[49m\u001b[38;5;241;43m.\u001b[39;49m\u001b[43mcluster_kmeans\u001b[49m(embeddings_1docs[key], \u001b[38;5;241m3\u001b[39m)\n",
      "\u001b[1;31mAttributeError\u001b[0m: module 'topic_classification' has no attribute 'cluster_kmeans'"
     ]
    }
   ],
   "source": [
    "cluster_1docs = {}\n",
    "for key in silhouette_scores_1doc.keys():\n",
    "    cluster_1docs[key] = topic_classification.cluster_kmeans(embeddings_1docs[key], 3)"
   ]
  },
  {
   "cell_type": "code",
   "execution_count": null,
   "id": "c65b95d7",
   "metadata": {
    "ExecuteTime": {
     "end_time": "2024-01-23T14:32:12.221978900Z",
     "start_time": "2024-01-23T14:32:11.713541400Z"
    }
   },
   "outputs": [],
   "source": [
    "topic_classification.tsne_plot_document(cluster_1docs,2)"
   ]
  },
  {
   "cell_type": "markdown",
   "id": "93c3a8f9",
   "metadata": {},
   "source": [
    "#### Für 2 Dokumente"
   ]
  },
  {
   "cell_type": "code",
   "execution_count": null,
   "id": "0519de83",
   "metadata": {
    "ExecuteTime": {
     "end_time": "2024-01-23T14:32:16.305730600Z",
     "start_time": "2024-01-23T14:32:16.204643700Z"
    }
   },
   "outputs": [],
   "source": [
    "import ujson\n",
    "import topic_classification\n",
    "\n",
    "embeddings_source={\n",
    "    \"embeddings/t5_embeddings/sentence_embeddings/sents0.json\":\"https://www.oth-aw.de/en/\",\n",
    "    \"embeddings/t5_embeddings/sentence_embeddings/sents1.json\": \"https://www.oth-aw.de/files/user_upload/Antragsformular_PROMOS_2023_EN.pdf\",\n",
    "}\n",
    "embeddings_2docs={}\n",
    "\n",
    "for key, value in embeddings_source.items():\n",
    "    with open(key, \"rb\") as f:\n",
    "        embeds = ujson.load(f)\n",
    "        embeddings_2docs[value] = embeds[value]\n",
    "        f.close()"
   ]
  },
  {
   "cell_type": "code",
   "execution_count": 16,
   "id": "fcaedfa221fe0178",
   "metadata": {
    "ExecuteTime": {
     "end_time": "2024-01-23T14:33:28.407892Z",
     "start_time": "2024-01-23T14:33:26.491245800Z"
    }
   },
   "outputs": [
    {
     "name": "stdout",
     "output_type": "stream",
     "text": [
      "Calculation silhoette scores for https://www.oth-aw.de/en/\n",
      "Calculation silhoette scores for https://www.oth-aw.de/files/user_upload/Antragsformular_PROMOS_2023_EN.pdf\n"
     ]
    }
   ],
   "source": [
    "silhouette_scores_2doc = {}\n",
    "\n",
    "for key, value in embeddings_2docs.items():\n",
    "    print(f\"Calculation silhoette scores for {key}\")\n",
    "    silhouette_scores_2doc[key] = topic_classification.calc_silhouette_scores(np.array(list(embeddings_2docs[key].values())), len(embeddings_2docs[key]) - 1)\n",
    "\n"
   ]
  },
  {
   "cell_type": "code",
   "execution_count": 17,
   "id": "c7767a95",
   "metadata": {
    "ExecuteTime": {
     "end_time": "2024-01-23T14:33:29.996657100Z",
     "start_time": "2024-01-23T14:33:29.956122200Z"
    }
   },
   "outputs": [
    {
     "ename": "AttributeError",
     "evalue": "module 'topic_classification' has no attribute 'cluster_kmeans'",
     "output_type": "error",
     "traceback": [
      "\u001b[1;31m---------------------------------------------------------------------------\u001b[0m",
      "\u001b[1;31mAttributeError\u001b[0m                            Traceback (most recent call last)",
      "Cell \u001b[1;32mIn[17], line 3\u001b[0m\n\u001b[0;32m      1\u001b[0m cluster_2docs \u001b[38;5;241m=\u001b[39m {}\n\u001b[0;32m      2\u001b[0m \u001b[38;5;28;01mfor\u001b[39;00m key \u001b[38;5;129;01min\u001b[39;00m silhouette_scores_2doc\u001b[38;5;241m.\u001b[39mkeys():\n\u001b[1;32m----> 3\u001b[0m     cluster_2docs[key] \u001b[38;5;241m=\u001b[39m \u001b[43mtopic_classification\u001b[49m\u001b[38;5;241;43m.\u001b[39;49m\u001b[43mcluster_kmeans\u001b[49m(embeddings_2docs[key], \u001b[38;5;241m3\u001b[39m)\n",
      "\u001b[1;31mAttributeError\u001b[0m: module 'topic_classification' has no attribute 'cluster_kmeans'"
     ]
    }
   ],
   "source": [
    "cluster_2docs = {}\n",
    "for key in silhouette_scores_2doc.keys():\n",
    "    cluster_2docs[key] = topic_classification.cluster_kmeans(embeddings_2docs[key], 3)"
   ]
  },
  {
   "cell_type": "code",
   "execution_count": 18,
   "id": "977f23cd9fe72651",
   "metadata": {
    "ExecuteTime": {
     "end_time": "2024-01-23T14:34:12.661186300Z",
     "start_time": "2024-01-23T14:34:12.212300200Z"
    }
   },
   "outputs": [
    {
     "ename": "UnboundLocalError",
     "evalue": "cannot access local variable 'x' where it is not associated with a value",
     "output_type": "error",
     "traceback": [
      "\u001b[1;31m---------------------------------------------------------------------------\u001b[0m",
      "\u001b[1;31mUnboundLocalError\u001b[0m                         Traceback (most recent call last)",
      "Cell \u001b[1;32mIn[18], line 1\u001b[0m\n\u001b[1;32m----> 1\u001b[0m \u001b[43mtopic_classification\u001b[49m\u001b[38;5;241;43m.\u001b[39;49m\u001b[43mtsne_plot_document\u001b[49m\u001b[43m(\u001b[49m\u001b[43mcluster_2docs\u001b[49m\u001b[43m,\u001b[49m\u001b[38;5;241;43m2\u001b[39;49m\u001b[43m)\u001b[49m\n",
      "File \u001b[1;32m~\\Desktop\\nlp-tasks\\Projektarbeit\\topic_classification.py:126\u001b[0m, in \u001b[0;36mtsne_plot_document\u001b[1;34m(word_cloud, cluster_count)\u001b[0m\n\u001b[0;32m    121\u001b[0m         y\u001b[38;5;241m.\u001b[39mappend(value[\u001b[38;5;241m1\u001b[39m])   \n\u001b[0;32m    125\u001b[0m plt\u001b[38;5;241m.\u001b[39mfigure(figsize\u001b[38;5;241m=\u001b[39m(\u001b[38;5;241m16\u001b[39m, \u001b[38;5;241m10\u001b[39m))\n\u001b[1;32m--> 126\u001b[0m \u001b[38;5;28;01mfor\u001b[39;00m i \u001b[38;5;129;01min\u001b[39;00m \u001b[38;5;28mrange\u001b[39m(\u001b[38;5;241m0\u001b[39m, \u001b[38;5;28mlen\u001b[39m(\u001b[43mx\u001b[49m)):\n\u001b[0;32m    127\u001b[0m     plt\u001b[38;5;241m.\u001b[39mtitle(\u001b[38;5;124m\"\u001b[39m\u001b[38;5;124mTSNE Plot\u001b[39m\u001b[38;5;124m\"\u001b[39m)\n\u001b[0;32m    128\u001b[0m     plt\u001b[38;5;241m.\u001b[39mscatter(x[i],y[i], )\n",
      "\u001b[1;31mUnboundLocalError\u001b[0m: cannot access local variable 'x' where it is not associated with a value"
     ]
    },
    {
     "data": {
      "text/plain": [
       "<Figure size 1600x1000 with 0 Axes>"
      ]
     },
     "metadata": {},
     "output_type": "display_data"
    }
   ],
   "source": [
    "topic_classification.tsne_plot_document(cluster_2docs,2)"
   ]
  },
  {
   "cell_type": "markdown",
   "id": "ee99d009",
   "metadata": {},
   "source": [
    "### TODO: @Sonntag-Abend-Fabi: Doku schreiben du fauler Hund. LG Freitag-Fabi"
   ]
  },
  {
   "cell_type": "markdown",
   "id": "d719d224",
   "metadata": {},
   "source": [
    "#### Für n random Documente"
   ]
  },
  {
   "cell_type": "code",
   "execution_count": 19,
   "id": "386dc3854a3d0f69",
   "metadata": {
    "ExecuteTime": {
     "end_time": "2024-01-23T14:40:38.105507700Z",
     "start_time": "2024-01-23T14:40:28.949132600Z"
    }
   },
   "outputs": [],
   "source": [
    "import utils\n",
    "import numpy as np\n",
    "from sklearn.cluster import KMeans\n",
    "import ujson\n",
    "import os\n",
    "\n",
    "def load_embedding_files(path):\n",
    "    all_data = []\n",
    "    \n",
    "    # Iterate through all files in the directory\n",
    "    for filename in os.listdir(path):\n",
    "        if filename.endswith('.json'):\n",
    "            file_path = os.path.join(path, filename)\n",
    "            \n",
    "            # Load the content of each JSON file\n",
    "            with open(file_path, 'rb') as f:\n",
    "                embeds = ujson.load(f)\n",
    "                all_data.append(embeds)\n",
    "    \n",
    "    merged_data = {}\n",
    "    for data in all_data:\n",
    "        merged_data.update(data)\n",
    "    \n",
    "    return merged_data       \n",
    "        \n",
    "        \n",
    "all_embeddings = {}\n",
    "\n",
    "all_embeddings[\"T5 Base Sentence Embeddings\"] = load_embedding_files('embeddings/t5_embeddings/sentence_embeddings/')\n",
    "all_embeddings[\"T5 Base Word Embeddings\"] = load_embedding_files('embeddings/t5_embeddings/word_embeddings')\n",
    "all_embeddings[\"GPT Neo Sentence Embeddings\"] = load_embedding_files('embeddings/gpt_neo_embeddings/sentence_embeddings')\n",
    "all_embeddings[\"GPT Neo Word Embeddings\"] = load_embedding_files('embeddings/gpt_neo_embeddings/word_embeddings')"
   ]
  },
  {
   "cell_type": "code",
   "execution_count": 20,
   "id": "d06ddf60",
   "metadata": {
    "ExecuteTime": {
     "end_time": "2024-01-23T14:41:16.417965200Z",
     "start_time": "2024-01-23T14:40:40.361460200Z"
    }
   },
   "outputs": [
    {
     "name": "stdout",
     "output_type": "stream",
     "text": [
      "large dokuments take for ever. we skip this for now\n",
      "Calculating silhouette scores for: https://www.oth-aw.de/en/university/about-our-university/staff/krueger-malte/\n",
      "Calculating silhouette scores for: https://www.oth-aw.de/en/university/about-our-university/staff/haupt-anett/\n",
      "Calculating silhouette scores for: https://www.oth-aw.de/en/university/about-our-university/staff/wolfram-armin/\n",
      "Calculating silhouette scores for: https://www.oth-aw.de/en/university/about-our-university/staff/weber-hui/\n",
      "Calculating silhouette scores for: https://www.oth-aw.de/en/university/about-our-university/staff/adunka-robert/\n",
      "large dokuments take for ever. we skip this for now\n",
      "large dokuments take for ever. we skip this for now\n",
      "Calculating silhouette scores for: https://www.oth-aw.de/en/university/about-our-university/staff/glombitza-katinka/\n",
      "Calculating silhouette scores for: https://www.oth-aw.de/en/university/about-our-university/staff/2/\n",
      "Calculating silhouette scores for: https://www.oth-aw.de/en/international/ways-abroad/erasmus/\n",
      "Calculating silhouette scores for: https://www.oth-aw.de/en/university/services/online-services/downloads-software/\n",
      "Calculating silhouette scores for: https://www.oth-aw.de/en/study-programmes-and-educational-opportunities/study-programmes/bachelor-degree-programs/electrical-engineering-and-information-technology-ei/program-electrical-engineering-and-information-technology/\n",
      "Calculating silhouette scores for: https://www.oth-aw.de/en/international/ways-abroad/erasmus/\n",
      "Calculating silhouette scores for: https://www.oth-aw.de/en/university/services/online-services/downloads-software/\n",
      "Calculating silhouette scores for: https://www.oth-aw.de/en/study-programmes-and-educational-opportunities/study-programmes/bachelor-degree-programs/electrical-engineering-and-information-technology-ei/program-electrical-engineering-and-information-technology/\n",
      "large dokuments take for ever. we skip this for now\n",
      "Calculating silhouette scores for: https://www.oth-aw.de/en/university/about-our-university/staff/krueger-malte/\n",
      "Calculating silhouette scores for: https://www.oth-aw.de/en/university/about-our-university/staff/haupt-anett/\n",
      "Calculating silhouette scores for: https://www.oth-aw.de/en/university/about-our-university/staff/wolfram-armin/\n",
      "Calculating silhouette scores for: https://www.oth-aw.de/en/university/about-our-university/staff/weber-hui/\n",
      "Calculating silhouette scores for: https://www.oth-aw.de/en/university/about-our-university/staff/adunka-robert/\n",
      "large dokuments take for ever. we skip this for now\n",
      "large dokuments take for ever. we skip this for now\n",
      "Calculating silhouette scores for: https://www.oth-aw.de/en/university/about-our-university/staff/glombitza-katinka/\n",
      "Calculating silhouette scores for: https://www.oth-aw.de/en/university/about-our-university/staff/2/\n"
     ]
    }
   ],
   "source": [
    "import random\n",
    "import topic_classification\n",
    "from sklearn.metrics import silhouette_score\n",
    "from sklearn.manifold import TSNE\n",
    "from matplotlib import cm\n",
    "import matplotlib.pyplot as plt\n",
    "import numpy as np\n",
    "import random\n",
    "from sklearn.cluster import KMeans\n",
    "\n",
    "#get random sample of documents\n",
    "document_sample = random.sample(list(all_embeddings[\"T5 Base Word Embeddings\"].keys()),10)\n",
    "document_silhouette_scores = {}\n",
    "\n",
    "def calc_silhouette_scores(documents, type):\n",
    "    silhouette_scores= {}\n",
    "    \n",
    "    for link in documents:\n",
    "        #skip dokuments with one sentence\n",
    "        if documents[link].__len__() <=2:\n",
    "            continue\n",
    "        #skip large dokuments\n",
    "        if documents[link].__len__() >= 75:\n",
    "            print(\"large dokuments take for ever. we skip this for now\")\n",
    "            continue\n",
    "        print(f\"Calculating silhouette scores for: {link}\")\n",
    "        if type == \"sentence\":\n",
    "            silhouette_scores[link] = topic_classification.calc_silhouette_scores(np.array(list(documents[link].values())), len(documents[link]) - 1)\n",
    "        else:\n",
    "            silhouette_scores[link] = topic_classification.calc_silhouette_scores(np.array(documents[link]), len(documents[link]) - 1)           \n",
    "    \n",
    "    return silhouette_scores\n",
    "\n",
    "document_silhouette_scores[\"T5 Base Word Embeddings\"] = calc_silhouette_scores({key: all_embeddings[\"T5 Base Word Embeddings\"][key] for key in document_sample if key in all_embeddings[\"T5 Base Word Embeddings\"]}, \"word\")\n",
    "document_silhouette_scores[\"T5 Base Sentence Embeddings\"] = calc_silhouette_scores({key: all_embeddings[\"T5 Base Sentence Embeddings\"][key] for key in document_sample if key in all_embeddings[\"T5 Base Sentence Embeddings\"]}, \"sentence\")\n",
    "document_silhouette_scores[\"GPT Neo Sentence Embeddings\"] = calc_silhouette_scores({key: all_embeddings[\"GPT Neo Sentence Embeddings\"][key] for key in document_sample if key in all_embeddings[\"GPT Neo Sentence Embeddings\"]}, \"sentence\")\n",
    "document_silhouette_scores[\"GPT Neo Word Embeddings\"] = calc_silhouette_scores({key: all_embeddings[\"GPT Neo Word Embeddings\"][key] for key in document_sample if key in all_embeddings[\"GPT Neo Word Embeddings\"]}, \"word\")"
   ]
  },
  {
   "cell_type": "code",
   "execution_count": 23,
   "id": "960f98bc",
   "metadata": {
    "ExecuteTime": {
     "end_time": "2024-01-23T14:41:21.416370Z",
     "start_time": "2024-01-23T14:41:20.731281700Z"
    }
   },
   "outputs": [
    {
     "name": "stderr",
     "output_type": "stream",
     "text": [
      "IOPub data rate exceeded.\n",
      "The Jupyter server will temporarily stop sending output\n",
      "to the client in order to avoid crashing it.\n",
      "To change this limit, set the config variable\n",
      "`--ServerApp.iopub_data_rate_limit`.\n",
      "\n",
      "Current values:\n",
      "ServerApp.iopub_data_rate_limit=1000000.0 (bytes/sec)\n",
      "ServerApp.rate_limit_window=3.0 (secs)\n",
      "\n"
     ]
    }
   ],
   "source": [
    "def calc_cluster(silhouette_scores, model):\n",
    "    #find cluster within each document, ignoring silhouette score\n",
    "    cluster_ndocs = {}\n",
    "    for key in silhouette_scores.keys():   \n",
    "        if \"Sentence\" in model:\n",
    "            cluster_ndocs[key] = topic_classification.cluster_kmeans_sentence(all_embeddings[model][key],  2)\n",
    "        else:\n",
    "            cluster_ndocs[key] = topic_classification.cluster_kmeans_word(all_embeddings[model][key], 2)\n",
    "    return cluster_ndocs\n",
    "\n",
    "#find clusters within the documents\n",
    "clusters = {}\n",
    "clusters[\"T5 Base Sentence Embeddings\"] = calc_cluster(document_silhouette_scores[\"T5 Base Sentence Embeddings\"], \"T5 Base Sentence Embeddings\")\n",
    "clusters[\"T5 Base Word Embeddings\"] = calc_cluster(document_silhouette_scores[\"T5 Base Word Embeddings\"], \"T5 Base Word Embeddings\")\n",
    "clusters[\"GPT Neo Sentence Embeddings\"] = calc_cluster(document_silhouette_scores[\"GPT Neo Sentence Embeddings\"], \"GPT Neo Sentence Embeddings\")\n",
    "clusters[\"GPT Neo Word Embeddings\"] = calc_cluster(document_silhouette_scores[\"GPT Neo Word Embeddings\"], \"GPT Neo Word Embeddings\")"
   ]
  },
  {
   "cell_type": "code",
   "execution_count": 24,
   "id": "0d3aea5d",
   "metadata": {
    "ExecuteTime": {
     "end_time": "2024-01-23T14:41:36.925170600Z",
     "start_time": "2024-01-23T14:41:32.676017200Z"
    }
   },
   "outputs": [
    {
     "data": {
      "image/png": "[encoded data removed]",
      "text/plain": [
       "<Figure size 2000x1000 with 4 Axes>"
      ]
     },
     "metadata": {},
     "output_type": "display_data"
    }
   ],
   "source": [
    "topic_classification.tsne_plot(clusters, 3)"
   ]
  },
  {
   "cell_type": "markdown",
   "id": "d8f4775ae36aa658",
   "metadata": {
    "collapsed": false,
    "jupyter": {
     "outputs_hidden": false
    }
   },
   "source": []
  },
  {
   "cell_type": "markdown",
   "id": "60532f04",
   "metadata": {},
   "source": [
    "#### 208 nicht random dokumente"
   ]
  },
  {
   "cell_type": "code",
   "execution_count": null,
   "id": "8c70a98394612c79",
   "metadata": {
    "collapsed": false,
    "jupyter": {
     "outputs_hidden": false
    }
   },
   "outputs": [],
   "source": [
    "\n"
   ]
  },
  {
   "cell_type": "markdown",
   "id": "da2600b871c31df",
   "metadata": {
    "collapsed": false,
    "jupyter": {
     "outputs_hidden": false
    }
   },
   "source": [
    "### Topic Klassifikation & Zuordnung <a class=\"anchor\" id=\"9\"></a>"
   ]
  },
  {
   "cell_type": "code",
   "execution_count": null,
   "id": "45c23197-707c-4d9f-b8f2-1774256b38c0",
   "metadata": {},
   "outputs": [],
   "source": [
    "import topic_classification \n",
    "\n",
    "topic_classification.tsne_plot(test, topn=5)"
   ]
  },
  {
   "cell_type": "code",
   "execution_count": null,
   "id": "b1d4d1ae2ff0f212",
   "metadata": {
    "collapsed": false,
    "jupyter": {
     "outputs_hidden": false
    }
   },
   "outputs": [],
   "source": [
    "embeds"
   ]
  },
  {
   "cell_type": "markdown",
   "id": "bb48ee06-aa89-4635-8dce-83b321d4963e",
   "metadata": {},
   "source": [
    "## Referenzen\n",
    "<a name=\"punkt_sent_tokenizer\">[1]</a>: NLTK Project (2023). NLTK Documentation. https://www.nltk.org/api/nltk.tokenize.PunktSentenceTokenizer.html#nltk.tokenize.PunktSentenceTokenizer zuletzt eingesehen am: 23.01.2023.<br>\n",
    "<a name=\"word_tokenizer\">[2]</a>: NLTK Project (2023). NLTK Documentation. https://www.nltk.org/api/nltk.tokenize.TreebankWordTokenizer.html#nltk.tokenize.TreebankWordTokenizer zuletzt eingesehen am: 23.01.20233."
   ]
  },
  {
   "cell_type": "code",
   "execution_count": null,
   "id": "180461e1-3eb8-471b-8d2a-7cc80385e6c4",
   "metadata": {},
   "outputs": [],
   "source": []
  }
 ],
 "metadata": {
  "kernelspec": {
   "display_name": "Python 3 (ipykernel)",
   "language": "python",
   "name": "python3"
  },
  "language_info": {
   "codemirror_mode": {
    "name": "ipython",
    "version": 3
   },
   "file_extension": ".py",
   "mimetype": "text/x-python",
   "name": "python",
   "nbconvert_exporter": "python",
   "pygments_lexer": "ipython3",
   "version": "3.11.7"
  }
 },
 "nbformat": 4,
 "nbformat_minor": 5
}
