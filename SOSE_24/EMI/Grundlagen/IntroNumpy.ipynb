{
 "cells": [
  {
   "cell_type": "markdown",
   "metadata": {},
   "source": [
    "# Einführung Numpy mit Aufgaben"
   ]
  },
  {
   "cell_type": "markdown",
   "metadata": {},
   "source": [
    "\n",
    "\n",
    "Im Folgenden sollen Sie die nötigen Grundlagen zur Bearbeitung der in der Vorlesung eingebettete Intelligenz genutzten Python Skripte vermittelt bekommen. "
   ]
  },
  {
   "cell_type": "code",
   "execution_count": 37,
   "metadata": {},
   "outputs": [],
   "source": [
    "import numpy as np\n",
    "import scipy as sc\n",
    "import sklearn as kiMagic #Abkürzungsbezeichnung"
   ]
  },
  {
   "cell_type": "markdown",
   "metadata": {},
   "source": [
    "*Numpy* ist eine Bibliothek, die eine Vielzahl von numerischen Bibliotheken vereint. Dies beinhalten z.B. lineare Algebra (u.A. Matrizen), Optimierungsalgorithmen (z.B. Polynomiales Fitting, oder Mehrdimensionale Funktione), statistische und stochastische Methoden und Funktionen sowie die Möglichkeit C und C++ Code in Python Skripte zu integrieren. Es lohnt sich daher, die API von Numpy nach bestimmten Funktionen zur Lösung von Aufgaben zu untersuchen.\n",
    "\n",
    "Grundlage für die Verarbeitung von Daten ist die Anordnung der Daten im Speicher. Python an sich bietet für die Abbildung von Vektoren (also eine Sequenz von zusammengehörigen Datenpunkten) nur die Liste an. Numpy erweitert dies, es entsteht ein sog. numpy Array.\n",
    "\n",
    "\n",
    "Detaillierte Einblicke in das Numpy Array, insbesondere deren Verwendung finden Sie unter:\n",
    "http://cs231n.github.io/python-numpy-tutorial/"
   ]
  },
  {
   "cell_type": "code",
   "execution_count": 39,
   "metadata": {},
   "outputs": [
    {
     "name": "stdout",
     "output_type": "stream",
     "text": [
      "[ 4  5 37]\n",
      "[0.1 0.2 3.4]\n",
      "[ 2  4 68]\n"
     ]
    }
   ],
   "source": [
    "pythonListe = [1,2,34]\n",
    "numpyArray=np.array([1,2,34]) # Achtung: Liste ist Parameter des \"Konstruktors\"\n",
    "\n",
    "print(numpyArray + 3) # Addition von 3 auf ALLE Elemente des Arrays\n",
    "print(numpyArray * 0.1) # Skalierung auf 1/10tel\n",
    "print(numpyArray + numpyArray)\n",
    "#print(numpyArray + np.array([3,4])) # Fehler: Unterschiedliche Dimensionen"
   ]
  },
  {
   "cell_type": "markdown",
   "metadata": {},
   "source": [
    "------\n",
    "### Aufgabe:\n",
    "Suchen Sie nach einer Möglichkeit, um an ein Numpy Array \n",
    "ein Elemente und mehrere Elemente anzufügen. \n",
    "Gibt es Möglichkeiten, Elemente am Anfang oder am Ende des Arrays einzufügen?\n"
   ]
  },
  {
   "cell_type": "code",
   "execution_count": null,
   "metadata": {},
   "outputs": [],
   "source": [
    "\n",
    "\n",
    "\n"
   ]
  },
  {
   "cell_type": "markdown",
   "metadata": {},
   "source": [
    "### Fragen zu arithmetischen Operatoren: \n",
    "Was ist der Unterschied zwischen \n",
    "\n",
    "* np.dot()\n",
    "* * \n",
    "* np.cross()\n",
    "\n",
    "Gibt es ähnliche \"Probleme\" für Division, Subraktion, Addition?\n",
    "\n",
    "------"
   ]
  },
  {
   "cell_type": "markdown",
   "metadata": {},
   "source": [
    "## Mehrdimensionale Numpy Arrays und Auswahl von Elementen\n",
    "Numpy bietet die Möglichkeit - ähnliche wie andere Programmiersprachen, \n",
    "mehrdimensionale Arrays anzulegen.\n",
    "Gerade im Bereich von Data Analytics oder Künstlicher Intelligenz \n",
    "werden mehrdimensionale Vektoren sowie - im Falle vom überwachten \n",
    "Training von Machine Learning Algorithmen - auch Klassenbezeichnungen angehängt.  \n",
    "\n",
    "Für eine *Instanz einer Datenmenge*\n",
    "sieht der Datenvektor für überwachtes Training (https://whatis.techtarget.com/de/definition/Ueberwachtes-Lernen-Supervised-Learning) wie folgt aus:\n",
    "\n",
    "$(x_1,x_2,x_3,x_4,x_5,y)$ wobei $x_i\\in\\mathcal{R}$ die verschiedenen \n",
    "Werte von Merkmalen sind (z.B. Messungen, statistische \n",
    "Analyseergebnisse, Dimensionen) und $y \\in \\mathcal{R}$ \n",
    "oder $y \\in \\mathcal{N}$ eine Klassenbezeichnung ist.\n",
    "\n",
    "Um mathematische Funktionen oder die entsprechenden KI Algorithmen \n",
    "auf diese Klassen anzuwenden, werden statt menschen lesbaren \n",
    "Bezeichnungen wie z.B. Hund, Katze, Maus ganzzahlige Klassenbezeichnungen \n",
    "verwendet (z.B. Hund = 1, Katze = 2, Maus = 3), 0 wird in der Regel \n",
    "für die sogenannte NUll Klasse verwendet, die Klasse, die Instanzen \n",
    "enthält, für die entweder keine Klassenbezeichnung enthalten ist oder \n",
    "die für Klassifikation (also der Zuordnung von Messungen zu vorher \n",
    "definierten Klassen) uninteressant ist. Wie bereits erwähnt werden die \n",
    "Klassenbezeichnungen normalerweise als letzte Komponente eines Vektors \n",
    "angehängt und darauf dann auch trainiert.\n",
    "\n",
    "Numpy Arrays ermöglichen eine mehrdimensionale Organisation \n",
    "der Daten, sowie den Zugriff sowohl auf komplette Zeilen \n",
    "(entspricht einem Feature Vektor samt Klasse) als auch auf Spalten (Auswahl einer Komponente oder der Klassen aller Daten)\n",
    "\n",
    "```\n",
    "x1, x2, x3, x4, class\n",
    "x1, x2, x3, x4, class\n",
    "```\n",
    "\n",
    "Im obigen Beispiel können Sie also alle $x1$ oder alle \n",
    "$class$ Einträge einer Variable auswählen. \n",
    "\n",
    "_Mehrdimensionale Arrays_ können Sie händisch erzeugen:\n",
    "\n",
    "```\n",
    "array = []\n",
    "array.append(np.array([3,4,6,8]))\n",
    "array.append(np.array([34,299,8348,17]))\n",
    "array.append(np.array([17,84,892,1]))\n",
    "array = np.array(array)\n",
    "```\n",
    "In diesem Beispiel wird also zuerst eine Liste erzeugt, \n",
    "in die mittels der `append` Methode der Liste ein neues \n",
    "Numpy Array eingefügt wird. am Schluss wird aus der Liste \n",
    "von Numpy Array Elemente ein numpy Array von Numpy Arrays. \n",
    "Wird ein Numpy Array aus einer Datei aufgebaut, so wird jede \n",
    "Zeile zuerst als Numpy Array (Zeile) erstellt und dann an \n",
    "die \"Matrix\" angefügt.\n",
    "\n",
    "Der Zugriff auf die Elemente erfolgt dann mittels den aus \n",
    "anderen Programmiersprachen bekannten [] Klammern sowie der \n",
    "Angabe vom jeweiligen Index. \n",
    "```\n",
    "array[0] # gibt das 0te Element zurück: 3,4,6,8\n",
    "array[2] # gibt das 2te Element zurück: 17,84,892,1\n",
    "```\n",
    "Es werden hier also immer eine ganze Zeile zurück gegeben. \n",
    "Da Numpy sehr stark in Matlab (sehr ähnliche Syntax!) \n",
    "verwurzelt ist, kann man auf eine Zeil in diesem Numpy \n",
    "Array folgendermassen zugreifen:\n",
    "```\n",
    "array[1,0] # gibt 34 zurück\n",
    "array[2,3] # gibt 1 zurück\n",
    "```\n",
    "\n",
    "Außerdem ist es oft nötig, eine ganze Zeile oder eine \n",
    "Spalte auszuwählen, die dann zur Verarbeitung genutzt werden kann:\n",
    "```\n",
    "zeile = array[2,:] # liefert 17,84,892,1 zurück\n",
    "spalte = array[:,1] # liefert 4,299,84 zurück, aus jeder Zeile das Element 1\n",
    "```\n",
    "Mittels dem $:$ Operator können Sie außerdem Bereiche selektieren:\n",
    "```\n",
    "value = array[0,1:3]\n",
    "```\n",
    "Beachten Sie, dass der Startindex einbezogen wird, \n",
    "der Endindex jedoch exklusiv nicht enthalten ist (also werden die Werte zwischen $start$ und $ende-1$ zurückgeben).\n"
   ]
  },
  {
   "cell_type": "code",
   "execution_count": 20,
   "metadata": {},
   "outputs": [],
   "source": [
    "# Hier können Sie den obigen Code ausprobieren\n",
    "# Was liefert array[:,:] ?\n",
    "\n"
   ]
  },
  {
   "cell_type": "markdown",
   "metadata": {},
   "source": [
    "### Aufgabe\n",
    "Schreiben Sie die unten aufgeführten Funktionen , die ein Numpy Array mit $s$ Spalten und $z$ Zeilen erzeugen und mit zufälligen Werten befüllen und dann zurück geben.\n",
    "* `createRandomArray(s,z)`: Nutzen Sie die oben vorgestellte Variante mit Liste von Numpy Arrays (Code in eigene Funktion packen\n",
    "* `createRandomArrayVstack(s,z)` Nutzen die Numpy Funktion vstack um eine Zeile an das Rückgabe Array anzuhängen\n",
    "* Rufen Sie die obigen Funktionen auf und speichern Sie sich die Rückgabewerte in einer Variable zwischen. Nutzen Sie die Numpy Funktion hstack, um ihr Zufallsarray um eine weitere Spalte von Zufallszahlen zu erweitern. Sie können hierfür die Funktion `np.random.random()`verwenden\n",
    "\n",
    "Information zu `numpy.vstack()` finden Sie unter https://www.w3resource.com/numpy/manipulation/vstack.php"
   ]
  },
  {
   "cell_type": "code",
   "execution_count": null,
   "metadata": {},
   "outputs": [],
   "source": []
  },
  {
   "cell_type": "markdown",
   "metadata": {},
   "source": [
    "## Wertespezifische Selektion von Zeilen\n",
    "Neben der Möglichkeit, ganze Spalten und Zeilen eines Arrays auszuwählen, gibt es die Möglichkeit, Einträge abhängig von den darin enthaltenen Werten zu selektieren:\n",
    "\n",
    "```\n",
    "values = array[array[:,0] > 10,:] # Speichert alle Elemente zurück,die im ersten Eintrag größer als 10 sind.\n",
    "```\n",
    "Beachten Sie dabei, dass im ersten Teil des Booleschen Ausdruckes `array[:,0] > 10` die GESAMTE Spalte ausgewählt wird und überprüft wird. Der Boolesche Ausdruck gibt eine Liste von Booleschen Werten ([true,false, false, false, true,...]) zurück, die dann im äußeren Term die entsprechenden Zeilen auswählt. $:$ entspricht also einer Liste, die nur true enthält und somit alle Einträge auswählt."
   ]
  },
  {
   "cell_type": "markdown",
   "metadata": {},
   "source": [
    "### Aufgabe\n",
    "Schreiben Sie eine Funktion `getRandomIntMatrix`.\n",
    "Die Funktion erstellt ein Numpy Array, 100 Zeile, 10 Spalten, \n",
    "jede Zeile besteht dabei aus 9 zufälligen Integer Zahlen zwischen 0 und 99, der erste Eintrag soll die Zeilennummer sein.\n",
    "* Speichern Sie gerade und ungerade Zeilennummern in 2 separaten Variablen und geben Sie diese auf der Konsole aus\n",
    "* Speichern Sie alle Zeilen, deren Summe über die zufälligen Zahlen größer als 200 ist\n",
    "\n",
    "Anmerkung: Packen Sie die `getRandomIntMatrix` sowie den zugehörigen Aufruf in einen separaten Zellenbereich. Ansonsten ändern Sie bei jeder Ausführung ihre Zufallsmatrix, was das Debugging schwieriger macht. Es gibt außerdem in numpy Hilfsfunktionen für Addition, Multiplikation usw.\n"
   ]
  },
  {
   "cell_type": "markdown",
   "metadata": {},
   "source": [
    "\n",
    "            "
   ]
  },
  {
   "cell_type": "code",
   "execution_count": null,
   "metadata": {},
   "outputs": [],
   "source": []
  }
 ],
 "metadata": {
  "kernelspec": {
   "display_name": "Python 3",
   "language": "python",
   "name": "python3"
  },
  "language_info": {
   "codemirror_mode": {
    "name": "ipython",
    "version": 3
   },
   "file_extension": ".py",
   "mimetype": "text/x-python",
   "name": "python",
   "nbconvert_exporter": "python",
   "pygments_lexer": "ipython3",
   "version": "3.7.4"
  }
 },
 "nbformat": 4,
 "nbformat_minor": 2
}
