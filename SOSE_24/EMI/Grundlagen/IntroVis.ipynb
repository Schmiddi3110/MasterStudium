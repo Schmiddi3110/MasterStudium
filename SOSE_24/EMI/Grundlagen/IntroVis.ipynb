{
 "cells": [
  {
   "cell_type": "markdown",
   "metadata": {},
   "source": [
    "# Visualisierung von Daten mittels matplotlib\n",
    "Neben der Aufnahme von Daten ist die Visualisierung der aufgezeichneten und daraus berechneten Daten ein weiterer Schritt bei der Datenanalyse. Im Folgenden werden wir die durch Numpy Arrays gespeicherten Daten visualisieren. Die hier verwendete Bibliothek ist `matplotlib` / `pylab`.\n",
    "Beachten Sie im Folgenden auch, dass man zentral, z.B. am Beginn eines Skriptes die Schriftarten und Größen der Zeichnungen verändern kann. Besonders für Bachelor / Masterarbeiten in Latex ist dies interessant."
   ]
  },
  {
   "cell_type": "code",
   "execution_count": null,
   "metadata": {},
   "outputs": [],
   "source": [
    "import numpy as np\n",
    "import pylab as pl\n",
    "import matplotlib\n",
    "\n",
    "#Veränderung der Größe der Schrifte in den plots\n",
    "font = {'family' : 'normal',\n",
    "        'weight' : 'bold',\n",
    "        'size'   : 22}\n",
    "\n",
    "matplotlib.rc('font', **font)\n"
   ]
  },
  {
   "cell_type": "code",
   "execution_count": null,
   "metadata": {},
   "outputs": [],
   "source": [
    "xvalues = np.linspace(0,20,25) # 25 punkte, linear zwischen 0 und 20 verteilt\n",
    "\n",
    "pl.figure() # Zeichenfläche erstellen\n",
    "pl.plot(xvalues) # Linienplot in zeichenfläche einfügen\n",
    "pl.plot(np.linspace(20,0,25)) # zweite linie, von links oben, nach rechts unten\n",
    "pl.grid() # gitternetz\n",
    "pl.xlabel('x Achse')\n",
    "pl.ylabel('y Achse')\n",
    "pl.show() # Zeige die Zeichenfläche"
   ]
  },
  {
   "cell_type": "markdown",
   "metadata": {},
   "source": [
    "Matplotlib hat eine Vielzahl von Darstellungsmöglichkeiten. So können die vorher gezeichneten Linien auch als Scatterplot dargestellt werden. Es werden also nur die Datenpunkte selbst visualisiert - es findet keine Verbindung der Punkte statt. Sollen Tupel - also (x,y) Paare gezeichnet werden, so müssen die x und y Komponenten separat gezeichnet werden:"
   ]
  },
  {
   "cell_type": "code",
   "execution_count": null,
   "metadata": {},
   "outputs": [],
   "source": [
    "pl.figure(figsize=(12,8)) # größer der Zeichenfläche ändern\n",
    "pl.plot(np.linspace(-1,1,100),np.tan(np.linspace(-1,1,100)),'.r') # Tangens zweischen -1 und und 1 Zeichnen - 100 Punkte, keine Linie, Farbe: rot\n",
    "pl.grid()\n",
    "pl.xlabel('x Werte')\n",
    "pl.ylabel('y Werte')\n",
    "pl.show()\n",
    "#ACHTUNG:Dimension von x und y muss gleich groß sein! (Gleiche Anzahl an x und y Komponenten)"
   ]
  },
  {
   "cell_type": "markdown",
   "metadata": {},
   "source": [
    "### Aufgabe: \n",
    "Schreiben Sie eine Funktion `getSinValues(amp,offset,phaseshift)`, die abhängig von der Amplitude $amp$, dem y- Offset $offset$ und der Phasenverschiebung $phaseshift$ zwischen 0 und 2 pi 300 Werte berechnet und zurückgibt.\n",
    "* Zeichnen Sie 3 verschiedene Kurven in einer Zeichnen.\n",
    "* Suchen Sie nach einer Möglichkeit, die einzelnen Kurven zu bezeichnen und zu beschriften.\n"
   ]
  },
  {
   "cell_type": "code",
   "execution_count": null,
   "metadata": {},
   "outputs": [],
   "source": []
  },
  {
   "cell_type": "markdown",
   "metadata": {},
   "source": [
    "-------------\n",
    "## Datenanalysen\n",
    "Matplotlib bietet eine Vielzahl von Zeichnungstypen an, neben den Scatterplots und Artverwandten Linientypen sind Histogramme zur Visualisierung von Verteilungen sehr gute Möglichkeiten. Neben den Default Werten kann beim Histogramm außerdem die Anzahl an zu zählenden Elementen eingestellt werden. \n"
   ]
  },
  {
   "cell_type": "code",
   "execution_count": null,
   "metadata": {},
   "outputs": [],
   "source": [
    "data = []\n",
    "for i in range(0,10000):\n",
    "    data.append(np.random.normal())\n",
    "data = np.array(data)\n",
    "pl.figure()\n",
    "pl.hist(data, bins=60) # 60 slots für die sortierung\n",
    "pl.grid()\n",
    "pl.xlabel('Value')\n",
    "pl.ylabel('# Aufkommen')\n",
    "pl.show()"
   ]
  },
  {
   "cell_type": "markdown",
   "metadata": {},
   "source": [
    "## Aufgabe\n",
    "Gegeben Sei folgender Code. Die Variable `points` ist ein 2D Array mit (x,y) Tuppel. Erweitern Sie die Zeichnungs o, dass man rechts und über dem Scatter Plot die Verteilungen der x und y Komponenten sieht. (vgl https://i.stack.imgur.com/VSw1z.png) Welche Verteilung wird hier abgebildet?"
   ]
  },
  {
   "cell_type": "code",
   "execution_count": null,
   "metadata": {},
   "outputs": [],
   "source": [
    "def getPoints(numberOfPoints,xlim,ylim):\n",
    "    (xmin,xmax)=xlim\n",
    "    (ymin,ymax)=ylim\n",
    "    pointsList=[]\n",
    "    for n in range(0,numberOfPoints):\n",
    "        x = np.random.randint(xmin,xmax)\n",
    "        y = np.random.randint(ymin,ymax)\n",
    "        pointsList.append(np.array([x,y]))\n",
    "    return np.array(pointsList)\n",
    "\n",
    "points = getPoints(200,(0,100),(0,100))\n",
    "\n",
    "pl.figure(figsize=(8,8))\n",
    "pl.plot(points[:,0],points[:,1],'.')\n",
    "pl.grid()\n",
    "pl.xlabel('x Achse')\n",
    "pl.ylabel('y Achse')\n",
    "pl.show()\n",
    "        "
   ]
  },
  {
   "cell_type": "markdown",
   "metadata": {},
   "source": [
    "## Mehrere Plots in einem Gesamtbild\n",
    "Matplotlib erlaubt das Zeichnen von Bildern in mehreren Subplots.\n",
    "Dazu muss zuerst die Gesamtzeichenfläche erstellt werden. Achten Sie darauf, dass diese groß genug ist (`figsize`!). \n",
    "Mittels `pl.subplot(zeilenAnzahl,spaltenanzahl,nummer)` kann eine neue Zeichenfläche erstellt werden. Der Aufrufparameter `nummer` zählt den neuen Subplot von obenlinks zeilenweise durch.\n",
    "Es wird so lange in den aktuellen Zeichenbereich gezeichnet bis ein neuer `subplot` Aufruf eine neue Zeichenfläche anlegt.\n",
    "\n",
    "Um das Bild zu exportieren gibt es in `matplotlib` die `savefig(DATEINAME.ENDUNG)` Funktion. Die Endung gibt dabei den Exporttyp von Standardbildtypen an (z.B. JPG, PNG, GIF, PDF). Für Latex ist PDF eine sehr gut Möglichkeit, die exportierten Dateien sind entsprechend beliebig skalierbar."
   ]
  },
  {
   "cell_type": "code",
   "execution_count": null,
   "metadata": {},
   "outputs": [],
   "source": [
    "\n",
    "\n",
    "pl.figure(figsize=(14,14))\n",
    "pl.subplot(2,2,1) #oben links\n",
    "pl.plot(np.linspace(0,10,15))\n",
    "pl.title(\"oben links - (2,2,1)\")\n",
    "pl.subplot(2,2,2) # oben rechts\n",
    "pl.plot(np.linspace(10,0,15))\n",
    "pl.title(\"oben rechts - (2,2,2)\")\n",
    "pl.subplot(2,2,3) # unten links\n",
    "pl.plot(np.linspace(20,30,10))\n",
    "pl.title(\"unten links - (2,2,3)\")\n",
    "pl.subplot(2,2,4)\n",
    "pl.plot(np.linspace(30,20,10))\n",
    "pl.title(\"unten rechts - (2,2,3)\")\n",
    "\n",
    "pl.suptitle(\"Der Übertitel!\")\n",
    "\n",
    "#Um ein Bild zu speicher: savefig. Die Endung gibt den Dateityp an. \n",
    "#pl.savefig(\"subplots.pdf\")\n",
    "#pl.savefig(\"subplots.png\")\n",
    "pl.show()\n",
    "\n"
   ]
  },
  {
   "cell_type": "markdown",
   "metadata": {},
   "source": [
    "## Aufgabe:\n",
    "* Zeichnen Sie eine Sinus und eine Kosinus Funktion untereinander in 2 separate Plots. Berechnen Sie dazu die Werte der Kurven zwischen -3*Pi und + 3*Pi.\n",
    "* Suchen Sie nach einer Möglichkeit, dass die beiden Plots die gleiche x Achse verwenden. Beschriften Sie die Achsen. \n",
    "* Limitieren Sie den x Achsen Wert auf das Interval [-1, 1].\n",
    "* Untersuchen Sie desweiteren, was beim Export der Zeichnung passiert, wenn Sie vor dem Speichern ein pl.tight_layout() einfügen. Warum könnte das nützlich sein?"
   ]
  },
  {
   "cell_type": "code",
   "execution_count": null,
   "metadata": {},
   "outputs": [],
   "source": []
  },
  {
   "cell_type": "code",
   "execution_count": null,
   "metadata": {},
   "outputs": [],
   "source": []
  }
 ],
 "metadata": {
  "kernelspec": {
   "display_name": "Python 3",
   "language": "python",
   "name": "python3"
  },
  "language_info": {
   "codemirror_mode": {
    "name": "ipython",
    "version": 3
   },
   "file_extension": ".py",
   "mimetype": "text/x-python",
   "name": "python",
   "nbconvert_exporter": "python",
   "pygments_lexer": "ipython3",
   "version": "3.7.4"
  }
 },
 "nbformat": 4,
 "nbformat_minor": 2
}
