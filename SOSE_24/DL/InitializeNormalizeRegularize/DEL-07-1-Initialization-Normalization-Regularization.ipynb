{
 "cells": [
  {
   "cell_type": "markdown",
   "id": "aware-bryan",
   "metadata": {},
   "source": [
    "## DEL-07 Programming Exercise - Parameter Initialization\n",
    "### (created by Prof. Dr.-Ing. Christian Bergler & Prof. Dr. Fabian Brunner)\n",
    "\n",
    "Documentation: **Python-Bibliothek Pandas** - https://pandas.pydata.org/docs/\n",
    "\n",
    "Documentation: **Numpy** - https://numpy.org/doc/\n",
    "\n",
    "Documentation: **Sklearn** - https://scikit-learn.org/stable/index.html\n",
    "\n",
    "Documentation: **Matplotlib** - Documentation: https://matplotlib.org/stable/index.html\n",
    "\n",
    "Documentation: **Matplotlib** - Graphics Gallery: https://matplotlib.org/2.0.2/gallery.html\n",
    "\n",
    "Additional Documentation: **Python Tutorial** - https://docs.python.org/3/tutorial/\n",
    "\n",
    "Additional Documentation: **Matthes Eric, \"Python crash course: A hands-on, project-based introduction to programming\"**, ISBN: 978-1-59327-603-4, ©2023 no starch press  "
   ]
  },
  {
   "cell_type": "markdown",
   "id": "banner-wells",
   "metadata": {},
   "source": [
    "### Task DEL-07-1 (Xavier-Initialization)"
   ]
  },
  {
   "cell_type": "markdown",
   "id": "beautiful-moral",
   "metadata": {},
   "source": [
    "a) Modify the class `MLP` developed in previous exercises so that the hyperbolic tangent is used as the activation function in the hidden layers (previously: `sigmoid`)"
   ]
  },
  {
   "cell_type": "markdown",
   "id": "8acda873-78ce-4f15-bcb8-3358b2358442",
   "metadata": {},
   "source": [
    "b) Now use the MLP class to train an `MLP` with 10 hidden layers consisting of 5 nodes each on the Iris dataset. Test the following strategies for initializing the parameters one after the other:\n",
    "* Initializing all parameters (weight matrices and bias vectors) with zero\n",
    "* Initialize the bias vectors with zero and the weight matrices with equally distributed values from the interval $(-0.01, 0.01)$\n",
    "* Initialization of the bias vectors with zero and the weight matrices with equally distributed values according to Xavier\n",
    "\n",
    "First select a suitable learning rate. Visualize the development of the error function over the course of the training (loss history). Explain your observations.\n",
    "  \n",
    "<b>Remark:</b> a model with so many parameters is not necessary/useful for a data set of such a small size. In this task, only the effects of the different initializations are to be demonstrated."
   ]
  },
  {
   "cell_type": "code",
   "execution_count": 3,
   "id": "arranged-ozone",
   "metadata": {
    "ExecuteTime": {
     "end_time": "2024-06-09T18:52:08.325169800Z",
     "start_time": "2024-06-09T18:52:08.297178Z"
    }
   },
   "outputs": [],
   "source": [
    "import pandas as pd\n",
    "import numpy as np"
   ]
  },
  {
   "cell_type": "code",
   "execution_count": 4,
   "id": "1f1a8e62-9f3f-471e-ba08-3994cbb3408b",
   "metadata": {
    "ExecuteTime": {
     "end_time": "2024-06-09T18:52:08.633690200Z",
     "start_time": "2024-06-09T18:52:08.619189800Z"
    }
   },
   "outputs": [],
   "source": [
    "def sigmoid(x):\n",
    "    return 1/(1+np.exp(-x))\n",
    "\n",
    "def relu(x):\n",
    "    return np.maximum(0,x)\n",
    "\n",
    "def softmax(O):\n",
    "    O_exp = np.exp(O - np.max(O, axis=1, keepdims=True))\n",
    "    partition = O_exp.sum(axis=1, keepdims=True)\n",
    "    return O_exp / partition\n",
    "\n",
    "def tanh(x):\n",
    "    return np.tanh(x)\n",
    "    "
   ]
  },
  {
   "cell_type": "code",
   "execution_count": 5,
   "id": "df9c495b-8684-4795-a2a8-ea3e5db411a6",
   "metadata": {
    "ExecuteTime": {
     "end_time": "2024-06-09T18:52:09.058175900Z",
     "start_time": "2024-06-09T18:52:09.052176600Z"
    }
   },
   "outputs": [],
   "source": [
    "# forward\n",
    "def activation(x):\n",
    "    return tanh(x)\n",
    "    \n",
    "\n",
    "# backward (derivative)\n",
    "def d_activation(x):\n",
    "    return 1 - (tanh(x) ** 2)\n",
    "    "
   ]
  },
  {
   "cell_type": "markdown",
   "id": "4687e825-fc0c-4913-a0b1-6bd010399ca3",
   "metadata": {},
   "source": [
    "#### Different Initialization Techniques"
   ]
  },
  {
   "cell_type": "markdown",
   "id": "6f4783a6-198a-4670-a148-02bf86e2b1b0",
   "metadata": {},
   "source": [
    "- Make use of the `random.uniform` and `random.normal` functions and return a initialized weight matrix of size `n_in x n_out`\n",
    "- See also the Table with all the different activation functions and weight initializations for uniform and normal distributions as part of the lecture slides"
   ]
  },
  {
   "cell_type": "code",
   "execution_count": 6,
   "id": "1a2b262f-f05c-4616-838e-9fda1cac4cda",
   "metadata": {
    "ExecuteTime": {
     "end_time": "2024-06-09T18:58:41.222088400Z",
     "start_time": "2024-06-09T18:58:41.200087700Z"
    }
   },
   "outputs": [],
   "source": [
    "def constant(n_in, n_out, alpha=0):\n",
    "    return alpha*np.ones((n_in, n_out))\n",
    "\n",
    "def uniform(n_in, n_out, alpha=1):\n",
    "    return np.random.uniform(-alpha, alpha, size=(n_in, n_out))\n",
    "\n",
    "def xavier_uniform(n_in, n_out):\n",
    "    limit = np.sqrt(6 / (n_in + n_out))\n",
    "    return np.random.uniform(-limit, limit, size=(n_in, n_out))\n",
    "\n",
    "def xavier_normal(n_in, n_out):\n",
    "    stddev = np.sqrt(2 / (n_in + n_out))\n",
    "    return np.random.normal(0, stddev, size=(n_in, n_out))\n",
    "\n",
    "def he_uniform(n_in, n_out):\n",
    "    limit = np.sqrt(6 / n_in)\n",
    "    return np.random.uniform(-limit, limit, size=(n_in, n_out))\n",
    "\n",
    "def he_normal(n_in, n_out):\n",
    "    stddev = np.sqrt(2 / n_in)\n",
    "    return np.random.normal(0, stddev, size=(n_in, n_out))"
   ]
  },
  {
   "cell_type": "markdown",
   "id": "bdc8d21b-60fa-4a0b-9642-4407e3ba67c0",
   "metadata": {},
   "source": [
    "#### Multi-Layer Perceptron Class\n",
    "\n",
    "- Try all the different initialization techniques within the `initialize_weights` function and interpret as well as evaluate the model performance (initialize bias with 0)\n",
    "- Call the `activation` function as part of the forward propagation"
   ]
  },
  {
   "cell_type": "code",
   "execution_count": 88,
   "id": "hidden-heaven",
   "metadata": {
    "ExecuteTime": {
     "end_time": "2024-06-09T19:28:50.336225600Z",
     "start_time": "2024-06-09T19:28:50.306651100Z"
    }
   },
   "outputs": [],
   "source": [
    "class MLP:\n",
    "    def __init__(self, nodes_per_layer, lr=1.0, num_iter = 100):\n",
    "        self.learning_rate = lr\n",
    "        self.num_iter = num_iter\n",
    "        self.n_layers = len(nodes_per_layer) #number of layers\n",
    "        self.nodes_per_layer = nodes_per_layer #list containing the number of nodes for each layer\n",
    "        self.n_classes = nodes_per_layer[-1] #number of output units (=number of classes for classification)\n",
    "        self.weight_matrices = [] #in this list, the weight matrices will be stored\n",
    "        self.bias_vectors = [] #in this list, the bias vectors will be stored\n",
    "        \n",
    "        \n",
    "   \n",
    "    def initialize_weights(self):\n",
    "        \"\"\"\n",
    "        When this function is called, the weight matrices and bias vectors are \n",
    "        initialized with random normally distributed numbers and stored in the instance parameters weight_matrices and bias_vectors\n",
    "        For each layer (except the input layer), one weight matrix and one bias vector is needed.\n",
    "        The dimensions of the matrices depend on the number of units of the layers.\n",
    "        \"\"\" \n",
    "        for i in range(self.n_layers - 1):\n",
    "            n_in = self.nodes_per_layer[i]\n",
    "            n_out = self.nodes_per_layer[i + 1]\n",
    "            W = uniform(n_in, n_out)\n",
    "            b = np.zeros((1, n_out))\n",
    "            self.weight_matrices.append(W)\n",
    "            self.bias_vectors.append(b)\n",
    "    \n",
    "    def net(self, X):\n",
    "        \"\"\"\n",
    "        model function to perform the forward pass through the net for all samples in the batch X\n",
    "        \n",
    "        In each layer except the output layer, sigmoid activation is used. \n",
    "        In the output layer, softmax activation is used.\n",
    "        \n",
    "        :param X: batch of training data of dimension n_samples x n_features\n",
    "        :type X: numpy array\n",
    "        :return: array containing the predicted scores for all samples of the batch X (dimension: n_samples x n_classes)\n",
    "        :rtype: numpy array\n",
    "        \"\"\" \n",
    "        layer_outputs = []\n",
    "        layer_inputs = []\n",
    "        H = X\n",
    "\n",
    "        layer_outputs.append(H)\n",
    "        for (W, b) in zip(self.weight_matrices[:-1], self.bias_vectors[:-1]):\n",
    "            Z = H@W+b\n",
    "\n",
    "            H = sigmoid(Z)\n",
    "            \n",
    "            layer_outputs.append(H)\n",
    "            layer_inputs.append(Z)\n",
    "            \n",
    "        Z = H@self.weight_matrices[-1]+self.bias_vectors[-1]\n",
    "        H = softmax(Z)\n",
    "        \n",
    "        layer_outputs.append(H)\n",
    "        layer_inputs.append(Z)\n",
    "        \n",
    "        self.layer_outputs = layer_outputs\n",
    "        self.layer_inputs = layer_inputs\n",
    "\n",
    "        return H\n",
    "    \n",
    "\n",
    "    def fit(self, X, y):\n",
    "        \"\"\"\n",
    "        Model training using gradient descent optimization algorithm\n",
    "\n",
    "        :param X: batch of training data of dimension n_samples x n_features\n",
    "        :type X: numpy array\n",
    "        :param y: target values corresponding to records in X \n",
    "        :type y: numpy array\n",
    "        :return: List containing the values of the loss function after each iteration of Gradient descent\n",
    "        :rtype: list\n",
    "        \"\"\"\n",
    "        \n",
    "        loss_history = []\n",
    "        for it in range(self.num_iter):\n",
    "                Yhat = self.net(X)\n",
    "                Y = np.eye(self.n_classes)[y]\n",
    "                l = -np.sum(np.log(np.sum(Y * Yhat, axis=1))) / X.shape[0]\n",
    "                loss_history.append(l)\n",
    "                \n",
    "                deltas = []\n",
    "                deltas.append(Yhat - Y)\n",
    "                \n",
    "                L = self.n_layers\n",
    "                for l in range(L-2, 0, -1):\n",
    "                    deltas.append(deltas[-1]@self.weight_matrices[l].T*d_activation(self.layer_inputs[l-1]))\n",
    "                deltas = deltas[::-1]\n",
    "                \n",
    "                dW = []\n",
    "                db = []\n",
    "                for l in range(L-1):\n",
    "                    dW.append(self.layer_outputs[l].T@deltas[l]) #beachte Indizes: in der Formel verschoben, aber es gibt für die Eingabeschicht auch eine Aktivierung, daher ist der Index nur anscheinlich verschoben\n",
    "                    db.append(deltas[l].sum(axis=0, keepdims=True))\n",
    "\n",
    "                for l in range(L-1):\n",
    "                    self.weight_matrices[l] -= self.learning_rate/X.shape[0]*dW[l]\n",
    "                    self.bias_vectors[l] -= self.learning_rate/X.shape[0]*db[l]\n",
    "                    \n",
    "        return loss_history      \n",
    "                    \n",
    "    def predict(self, X):\n",
    "        \"\"\"\n",
    "        Predict classes based on the largest predicted class probability\n",
    "        \n",
    "        :param X: batch of data to be scored\n",
    "        :type X: numpy array\n",
    "        :return: predicted classes for the records in X\n",
    "        :rtype: numpy array\n",
    "        \"\"\"\n",
    "        Yhat = self.net(X)\n",
    "        return np.argmax(Yhat, axis=1)"
   ]
  },
  {
   "cell_type": "markdown",
   "id": "bdb1e83c-6789-428d-8736-202eaed259a7",
   "metadata": {},
   "source": [
    "#### DEL-07-2 (Model Training - Classifier for the Iris Data Corpus)"
   ]
  },
  {
   "cell_type": "code",
   "execution_count": 89,
   "id": "214bc59a-86ef-4ea3-8192-4954b1e84444",
   "metadata": {
    "ExecuteTime": {
     "end_time": "2024-06-09T19:28:50.732638400Z",
     "start_time": "2024-06-09T19:28:50.721638300Z"
    }
   },
   "outputs": [],
   "source": [
    "from sklearn import datasets\n",
    "\n",
    "iris = datasets.load_iris()\n",
    "X = np.array(iris.data, dtype='float32') \n",
    "Y = np.array(iris.target)"
   ]
  },
  {
   "cell_type": "code",
   "execution_count": 90,
   "id": "56621cfc-061b-44ad-8783-e86404e990a3",
   "metadata": {
    "ExecuteTime": {
     "end_time": "2024-06-09T19:28:50.928639100Z",
     "start_time": "2024-06-09T19:28:50.923639800Z"
    }
   },
   "outputs": [],
   "source": [
    "from sklearn.preprocessing import StandardScaler\n",
    "X = StandardScaler().fit_transform(X)"
   ]
  },
  {
   "cell_type": "markdown",
   "id": "136c2232-58ff-48cc-8487-853ab93a80b8",
   "metadata": {},
   "source": [
    "- Create a list of layers, including an input layer with size 4, 10 hidden layers of size 5 each, and an output layer with size 3"
   ]
  },
  {
   "cell_type": "code",
   "execution_count": 91,
   "id": "3d876ef4-6460-43c3-ba43-6a4caf1803f5",
   "metadata": {
    "ExecuteTime": {
     "end_time": "2024-06-09T19:28:51.273711700Z",
     "start_time": "2024-06-09T19:28:51.268275700Z"
    }
   },
   "outputs": [],
   "source": [
    "# Define the sizes of the layers\n",
    "input_layer_size = 4\n",
    "hidden_layer_size = 5\n",
    "num_hidden_layers = 10\n",
    "output_layer_size = 3\n",
    "\n",
    "# Create the list of layers\n",
    "layers = [input_layer_size] + [hidden_layer_size] * num_hidden_layers + [output_layer_size]\n"
   ]
  },
  {
   "cell_type": "markdown",
   "id": "ee016592-8bc5-40e3-a97f-761deec2907b",
   "metadata": {},
   "source": [
    "- Create MLP, initialize weights, train and save the learning progress in a variable `loss_history`, and predict"
   ]
  },
  {
   "cell_type": "code",
   "execution_count": 92,
   "id": "0c2a03e3-c51b-4c36-957a-b6850b043687",
   "metadata": {
    "ExecuteTime": {
     "end_time": "2024-06-09T19:28:51.636210900Z",
     "start_time": "2024-06-09T19:28:51.623361800Z"
    }
   },
   "outputs": [],
   "source": [
    "mlp = MLP(layers)\n",
    "mlp.initialize_weights()"
   ]
  },
  {
   "cell_type": "code",
   "execution_count": 93,
   "outputs": [],
   "source": [
    "loss_history = mlp.fit(X, Y)"
   ],
   "metadata": {
    "collapsed": false,
    "ExecuteTime": {
     "end_time": "2024-06-09T19:28:52.227132700Z",
     "start_time": "2024-06-09T19:28:52.169633Z"
    }
   },
   "id": "c3989afa-3a75-4c59-9977-6cf530c085d2"
  },
  {
   "cell_type": "code",
   "execution_count": 94,
   "outputs": [],
   "source": [
    "predictions = mlp.predict(X)"
   ],
   "metadata": {
    "collapsed": false,
    "ExecuteTime": {
     "end_time": "2024-06-09T19:28:52.465731800Z",
     "start_time": "2024-06-09T19:28:52.459732200Z"
    }
   },
   "id": "257807da-60e0-4b1d-893f-668ddd0f5adf"
  },
  {
   "cell_type": "markdown",
   "id": "42a68241-92a5-4028-b553-bfee8a379599",
   "metadata": {},
   "source": [
    "- Visualization of the `loss_history` in a line plot"
   ]
  },
  {
   "cell_type": "code",
   "execution_count": 95,
   "id": "7451922c-6a4c-42d0-969b-62707b91104b",
   "metadata": {
    "ExecuteTime": {
     "end_time": "2024-06-09T19:28:53.359738300Z",
     "start_time": "2024-06-09T19:28:53.264237300Z"
    }
   },
   "outputs": [
    {
     "data": {
      "text/plain": "<Figure size 640x480 with 1 Axes>",
      "image/png": "[encoded data removed]"
     },
     "metadata": {},
     "output_type": "display_data"
    }
   ],
   "source": [
    "import matplotlib.pyplot as plt\n",
    "\n",
    "plt.plot(loss_history)\n",
    "plt.xlabel('Iteration')\n",
    "plt.ylabel('Loss')\n",
    "plt.title('Loss History')\n",
    "plt.show()"
   ]
  },
  {
   "cell_type": "code",
   "execution_count": null,
   "outputs": [],
   "source": [],
   "metadata": {
    "collapsed": false
   },
   "id": "a3c37f02e18379d8"
  }
 ],
 "metadata": {
  "kernelspec": {
   "display_name": "Python 3 (ipykernel)",
   "language": "python",
   "name": "python3"
  },
  "language_info": {
   "codemirror_mode": {
    "name": "ipython",
    "version": 3
   },
   "file_extension": ".py",
   "mimetype": "text/x-python",
   "name": "python",
   "nbconvert_exporter": "python",
   "pygments_lexer": "ipython3",
   "version": "3.10.12"
  }
 },
 "nbformat": 4,
 "nbformat_minor": 5
}
