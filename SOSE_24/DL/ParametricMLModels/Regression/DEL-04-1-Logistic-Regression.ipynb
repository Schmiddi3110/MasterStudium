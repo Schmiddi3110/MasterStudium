{
 "cells": [
  {
   "cell_type": "markdown",
   "id": "behind-carrier",
   "metadata": {},
   "source": [
    "## DEL-01 Programming Excercise - Logistic Regression and Vectorization\n",
    "### (created by Prof. Dr.-Ing. Christian Bergler & Prof. Dr. Fabian Brunner)\n",
    "\n",
    "Documentation: **Python-Bibliothek Pandas** - https://pandas.pydata.org/docs/\n",
    "\n",
    "Documentation: **Numpy** - https://numpy.org/doc/\n",
    "\n",
    "Documentation: **Sklearn** - https://scikit-learn.org/stable/index.html\n",
    "\n",
    "Documentation: **Matplotlib** - Documentation: https://matplotlib.org/stable/index.html\n",
    "\n",
    "Documentation: **Matplotlib** - Graphics Gallery: https://matplotlib.org/2.0.2/gallery.html\n",
    "\n",
    "Additional Documentation: **Python Tutorial** - https://docs.python.org/3/tutorial/\n",
    "\n",
    "Additional Documentation: **Matthes Eric, \"Python crash course: A hands-on, project-based introduction to programming\"**, ISBN: 978-1-59327-603-4, ©2023 no starch press  "
   ]
  },
  {
   "cell_type": "code",
   "execution_count": 1,
   "id": "electrical-chamber",
   "metadata": {
    "ExecuteTime": {
     "end_time": "2024-04-27T08:28:07.628945700Z",
     "start_time": "2024-04-27T08:28:07.123512700Z"
    }
   },
   "outputs": [],
   "source": [
    "import pandas as pd\n",
    "import numpy as np"
   ]
  },
  {
   "cell_type": "markdown",
   "id": "encouraging-characteristic",
   "metadata": {},
   "source": [
    "- In the following exercise, the first 100 samples of the `Iris Dataset` are used to train a logistic regression model\n",
    "- Familiarize yourself with the data structure (`data` and `target`) to understand the code below: https://scikit-learn.org/stable/auto_examples/datasets/plot_iris_dataset.html\n",
    "- Use the `sklearn` module to import and load the `Iris Dataset`\n",
    "- Get the training data (`X_train`) and corresponding ground truth (target/label) data `Y_train` for the first 100 data samples"
   ]
  },
  {
   "cell_type": "code",
   "execution_count": 2,
   "id": "average-lounge",
   "metadata": {
    "ExecuteTime": {
     "end_time": "2024-04-27T08:29:05.515049400Z",
     "start_time": "2024-04-27T08:29:04.624786900Z"
    }
   },
   "outputs": [],
   "source": [
    "from sklearn import datasets\n",
    "\n",
    "iris = datasets.load_iris()\n",
    "X_train = iris.data[:100, :2]  \n",
    "Y_train = iris.target[:100]"
   ]
  },
  {
   "cell_type": "markdown",
   "id": "6c96c140-651e-4df8-b9af-d79e216857ca",
   "metadata": {},
   "source": [
    "- Return the shape for `X_train` and `Y_train`, as well as for the entire `Iris Dataset` and its `Targets`"
   ]
  },
  {
   "cell_type": "code",
   "execution_count": 3,
   "id": "411cf775-c09c-4e19-bd0f-104c2f497fa5",
   "metadata": {
    "ExecuteTime": {
     "end_time": "2024-04-27T08:34:45.162108100Z",
     "start_time": "2024-04-27T08:34:45.144375600Z"
    }
   },
   "outputs": [
    {
     "name": "stdout",
     "output_type": "stream",
     "text": [
      "X_train shape: (100, 2)\n",
      "Y_train shape: (100,)\n",
      "Count Iris samples: 150\n",
      "Number Targets: 3\n"
     ]
    }
   ],
   "source": [
    "print(f\"X_train shape: {X_train.shape}\\nY_train shape: {Y_train.shape}\\nCount Iris samples: {iris.data.__len__()}\\nNumber Targets: {np.unique(iris.target).__len__()}\")"
   ]
  },
  {
   "cell_type": "markdown",
   "id": "overall-amount",
   "metadata": {},
   "source": [
    "- The code above creates a binary classification problem with the two classes 0 and 1 in the `targets` - use the `numpy unique` function to verify and prove it! Please also visualize the entire `target` vector of the `Iris Dataset`. Are there by default two or more class indices?"
   ]
  },
  {
   "cell_type": "code",
   "execution_count": 4,
   "id": "loose-namibia",
   "metadata": {
    "ExecuteTime": {
     "end_time": "2024-04-27T08:46:16.803305700Z",
     "start_time": "2024-04-27T08:46:16.714729400Z"
    }
   },
   "outputs": [
    {
     "name": "stdout",
     "output_type": "stream",
     "text": [
      "Classes in train set: [0 1]\n"
     ]
    },
    {
     "data": {
      "image/png": "[encoded data removed]",
      "text/plain": [
       "<Figure size 640x480 with 1 Axes>"
      ]
     },
     "metadata": {},
     "output_type": "display_data"
    }
   ],
   "source": [
    "import matplotlib.pyplot as plt\n",
    "\n",
    "print(f\"Classes in train set: {np.unique(Y_train)}\")\n",
    "\n",
    "class_counts = np.bincount(Y_train)\n",
    "\n",
    "plt.bar(np.unique(Y_train), class_counts, tick_label=[iris.target_names[i] for i in np.unique(Y_train)])\n",
    "\n",
    "plt.xlabel('Class')\n",
    "plt.ylabel('Number of Samples')\n",
    "plt.title('Number of Samples in Each Class')\n",
    "\n",
    "plt.show()"
   ]
  },
  {
   "cell_type": "markdown",
   "id": "moderate-newport",
   "metadata": {},
   "source": [
    "- Implement the sigmoid function $\\sigma(x)=\\frac{1}{1+e^{-x}}$ in such a way that it can be applied to both `scalars` and `NumPy arrays`. In the latter case, the function should be applied to each entry of the array (`vectorization`!) and the result should be `output` as a `vector of the same dimension` (use `numpy.exp`) "
   ]
  },
  {
   "cell_type": "code",
   "execution_count": 5,
   "id": "shaped-identity",
   "metadata": {
    "ExecuteTime": {
     "end_time": "2024-04-27T08:55:35.521596100Z",
     "start_time": "2024-04-27T08:55:35.515590Z"
    }
   },
   "outputs": [],
   "source": [
    "def sigmoid(x):\n",
    "    return 1/(1+np.exp(-x))"
   ]
  },
  {
   "cell_type": "markdown",
   "id": "cathedral-finger",
   "metadata": {},
   "source": [
    "- Verify whether the function `sigmoid(x)`works in case of `scalar` and `vector` inputs!"
   ]
  },
  {
   "cell_type": "code",
   "execution_count": 6,
   "id": "understanding-insulin",
   "metadata": {
    "ExecuteTime": {
     "end_time": "2024-04-27T08:56:38.489554700Z",
     "start_time": "2024-04-27T08:56:38.466036800Z"
    }
   },
   "outputs": [
    {
     "name": "stdout",
     "output_type": "stream",
     "text": [
      "sigmoid(2) = 0.8807970779778823\n",
      "sigmoid([-2 -1  0  1  2]) = [0.11920292 0.26894142 0.5        0.73105858 0.88079708]\n"
     ]
    }
   ],
   "source": [
    "x_scalar = 2\n",
    "x_vector = np.array([-2,-1,0,1,2])\n",
    "\n",
    "print(f\"sigmoid({x_scalar}) = {sigmoid(x_scalar)}\")\n",
    "print(f\"sigmoid({x_vector}) = {sigmoid(x_vector)}\")"
   ]
  },
  {
   "cell_type": "markdown",
   "id": "entire-devil",
   "metadata": {},
   "source": [
    "- In order to train the logistic regression function, it is mandatory to find the gradient of the respective loss function\n",
    "- Logistic Regression uses the (binary) Cross-Entropy-Loss, defined as follows:\n",
    "$$L(\\vec{\\theta})= -\\frac{1}{m}\\sum_{i=1}^m y^{(i)}\\log\\left(\\sigma(\\vec{\\theta}^T\\vec{x}^{(i)})\\right)+(1-y^{(i)})\\log\\left(1-\\sigma(\\vec{\\theta}^T\\vec{x}^{(i)})\\right)~,$$\n",
    "wobei $\\vec{x}^{(i)}=(1,x_1^{(i)},\\ldots,x_p^{(i)})^T\\in\\mathbb{R}^{p+1}$, $\\vec{\\theta}=(\\theta_0,\\ldots,\\theta_p)^T\\in\\mathbb{R}^p$, $y^{(i)}\\in\\{0,1\\}$. "
   ]
  },
  {
   "cell_type": "markdown",
   "id": "progressive-phase",
   "metadata": {},
   "source": [
    "- The gradient of $L$ $=\\nabla L(\\vec{\\theta})$ has already been calculated as shown in the exercise sheet on \"Mathematical Foundations\":"
   ]
  },
  {
   "cell_type": "markdown",
   "id": "affiliated-picture",
   "metadata": {},
   "source": [
    "$$\\nabla L(\\vec{\\theta})=\\frac{1}{m}\\sum_{i=1}^m\\left(\\sigma(\\vec{\\theta}^T\\vec{x}^{(i)})-y^{(i)}\\right)\\vec{x}^{(i)}$$"
   ]
  },
  {
   "cell_type": "markdown",
   "id": "apparent-heading",
   "metadata": {},
   "source": [
    "- The vectorized form can also be created from the above representation (see lecture - `Training Parametric Models`) - its vectorized form looks as follows: "
   ]
  },
  {
   "cell_type": "markdown",
   "id": "affecting-dialogue",
   "metadata": {},
   "source": [
    "$$\\nabla L(\\vec{\\theta})=\\frac{1}{m}X^T\\left(\\sigma(X\\vec{\\theta})-\\vec{y}\\right)$$\n",
    "with: $$X=\\left(\\begin{array}{cccc}1&x_1^{(1)}&\\ldots &x_p^{(1)}\\\\1&x_1^{(2)}&\\ldots &x_p^{(2)}\\\\ \\vdots &\\vdots &\\ddots &\\vdots \\\\1&x_1^{(m)}&\\ldots& x_p^{(m)} \\end{array}\\right)~\\quad\\text{und}\\quad\\vec{y}=\\left(\\begin{array}{c} y^{(1)}\\\\ y^{(2)}\\\\ \\vdots \\\\ y^{(m)}\\end{array}\\right)~.$$"
   ]
  },
  {
   "cell_type": "markdown",
   "id": "continuous-merchant",
   "metadata": {},
   "source": [
    "- Applying the function $\\sigma$ to the vector $X\\vec{\\theta}$ is to be understood component by component (row after row)"
   ]
  },
  {
   "cell_type": "markdown",
   "id": "productive-logistics",
   "metadata": {},
   "source": [
    "- Complete the implementation of the following class for logistic regression. Carry out calculations in vectorised form if possible"
   ]
  },
  {
   "cell_type": "code",
   "execution_count": 7,
   "id": "balanced-copper",
   "metadata": {
    "ExecuteTime": {
     "end_time": "2024-04-27T09:18:55.430237100Z",
     "start_time": "2024-04-27T09:18:55.396708900Z"
    }
   },
   "outputs": [],
   "source": [
    "class MyLogisticRegression:\n",
    "    \n",
    "    def __init__(self, max_iter = 100, lr = 1.0):\n",
    "        self.max_iter = max_iter #max number of iterations regarding the gradient descent algorithm\n",
    "        self.learning_rate = lr #learning rate for the gradient descent algorithm\n",
    "        self.theta = None #parameter/weight vector to be determined using the gradient descent algorithm\n",
    "       \n",
    "    def cross_entropy_loss(self, X, y):\n",
    "        \"\"\"\n",
    "        Evaluation of cross entropy loss function\n",
    "        \n",
    "        :param X: batch of training data of dimension n_samples x n_features\n",
    "        :type X: numpy array\n",
    "        :param y: target values corresponding to records in X \n",
    "        :type y: numpy array\n",
    "        :return: value of cross entropy loss function\n",
    "        :rtype: float\n",
    "        \"\"\"\n",
    "        n_samples = X.shape[0]\n",
    "        Xtilde = np.hstack((np.ones((X.shape[0], 1)), X))\n",
    "        s = 0.0\n",
    "        for i in range(n_samples):\n",
    "            s += -1.0/n_samples*(y[i]*np.log(sigmoid(self.theta@Xtilde[i]))+(1-y[i])*np.log(1-sigmoid(self.theta@Xtilde[i])))\n",
    "        return s\n",
    "    \n",
    "    def cross_entropy_loss_vec(self, X, y):\n",
    "        \"\"\"\n",
    "        Evaluation of cross entropy loss function in vectorized form\n",
    "        \n",
    "        :param X: batch of training data of dimension n_samples x n_features\n",
    "        :type X: numpy array\n",
    "        :param y: target values corresponding to records in X \n",
    "        :type y: numpy array\n",
    "        :return: value of cross entropy loss function\n",
    "        :rtype: float\n",
    "        \"\"\"\n",
    "        Xtilde = np.hstack((np.ones((X.shape[0], 1)), X))\n",
    "        return -1.0/X.shape[0]*(y.T@np.log(sigmoid(Xtilde@self.theta))+((1-y).T)@np.log(1-sigmoid(Xtilde@self.theta)))\n",
    "    \n",
    "           \n",
    "    def train(self, X, y):\n",
    "        \"\"\"\n",
    "        Model training using gradient descent optimization algorithm\n",
    "        \n",
    "        :param X: batch of training data of dimension n_samples x n_features\n",
    "        :type X: numpy array\n",
    "        :param y: target values corresponding to records in X \n",
    "        :type y: numpy array\n",
    "        :return: List containing the values of the loss function after each iteration of Gradient descent\n",
    "        :rtype: list\n",
    "        \"\"\"\n",
    "        n_samples = X.shape[0]\n",
    "        n_features = X.shape[1]\n",
    "        self.theta = np.zeros(n_features+1)\n",
    "        \n",
    "        Xtilde = np.hstack((np.ones((X.shape[0], 1)), X))\n",
    "        \n",
    "        loss_history = []\n",
    "        for it in range(self.max_iter):         \n",
    "            delta = 1.0/n_samples * self.learning_rate * Xtilde.T@(sigmoid(Xtilde@self.theta)-y)\n",
    "            self.theta -= delta\n",
    "            loss_history.append(self.cross_entropy_loss_vec(X, y))\n",
    "        return loss_history\n",
    "       \n",
    "    def predict_proba(self, X):\n",
    "        \"\"\"\n",
    "        Predict scores\n",
    "        \n",
    "        :param X: batch of data to be scored\n",
    "        :type X: numpy array\n",
    "        :return: predicted scores for the records in X\n",
    "        :rtype: numpy array \n",
    "        \"\"\"        \n",
    "        Xtilde = np.hstack((np.ones((X.shape[0], 1)), X))\n",
    "        return sigmoid(Xtilde@self.theta)\n",
    " \n",
    "    def predict(self, X, threshold):\n",
    "        \"\"\"\n",
    "        Predict classes using the threshold value for the scores\n",
    "        \n",
    "        :param X: batch of data to be scored\n",
    "        :type X: numpy array\n",
    "        :param threshold: decision criterion, where the prediction probability of the model needs to be >= threshold to assign the binary (true) class =1 \n",
    "        :type threshold: float\n",
    "        :return: predicted classes for the records in X\n",
    "        :rtype: numpy array\n",
    "        \"\"\" \n",
    "        return (self.predict_proba(X)>=threshold).astype(int)"
   ]
  },
  {
   "cell_type": "markdown",
   "id": "ebc10faf",
   "metadata": {},
   "source": [
    "- Call the constructor of the class `MyLogisticRegression` to create an object `my_log_regressor` and train the algorithm in connection with the training data of the `Iris Dataset` (see above)"
   ]
  },
  {
   "cell_type": "code",
   "execution_count": 8,
   "id": "behind-recall",
   "metadata": {
    "ExecuteTime": {
     "end_time": "2024-04-27T09:18:56.626262900Z",
     "start_time": "2024-04-27T09:18:56.618256Z"
    }
   },
   "outputs": [],
   "source": [
    "my_log_regressor = MyLogisticRegression()\n",
    "loss = my_log_regressor.train(X=X_train, y=Y_train)"
   ]
  },
  {
   "cell_type": "markdown",
   "id": "10be48b2-8f3e-439a-9475-455af8f426b6",
   "metadata": {},
   "source": [
    "- The `preprocessing` package of the `sklear` module holds a class `StandardScaler`in order to standardize features by substracting the mean and scaling to unit variance via $$z = \\frac{x-\\mu}{s}$$ with $\\mu =$mean, $s=$stdv\n",
    "- Call the `fit_transform` function of the `sc` object in order to build the standardized data corpus"
   ]
  },
  {
   "cell_type": "code",
   "execution_count": 9,
   "id": "strong-machinery",
   "metadata": {
    "ExecuteTime": {
     "end_time": "2024-04-27T09:18:57.659648Z",
     "start_time": "2024-04-27T09:18:57.651641100Z"
    }
   },
   "outputs": [],
   "source": [
    "from sklearn.preprocessing import StandardScaler\n",
    "sc = StandardScaler()\n",
    "std_trains = sc.fit_transform(X_train, Y_train)"
   ]
  },
  {
   "cell_type": "markdown",
   "id": "759104d6-84e5-41ca-8026-32ea82455125",
   "metadata": {},
   "source": [
    "- Train the model by calling the `train` function of the `my_log_regressor` ojbect together with the standardized training data and respective labels"
   ]
  },
  {
   "cell_type": "code",
   "execution_count": 10,
   "id": "moral-stake",
   "metadata": {
    "ExecuteTime": {
     "end_time": "2024-04-27T09:18:58.605458600Z",
     "start_time": "2024-04-27T09:18:58.597952300Z"
    }
   },
   "outputs": [],
   "source": [
    "std_losses = my_log_regressor.train(std_trains, Y_train)"
   ]
  },
  {
   "cell_type": "markdown",
   "id": "registered-surface",
   "metadata": {},
   "source": [
    "- Using `matplotlib` in order to plot and visualize the temporal development regarding the values of the loss function"
   ]
  },
  {
   "cell_type": "code",
   "execution_count": 11,
   "id": "unlikely-orchestra",
   "metadata": {
    "ExecuteTime": {
     "end_time": "2024-04-27T09:18:59.646850900Z",
     "start_time": "2024-04-27T09:18:59.520743900Z"
    }
   },
   "outputs": [
    {
     "data": {
      "image/png": "[encoded data removed]",
      "text/plain": [
       "<Figure size 600x400 with 1 Axes>"
      ]
     },
     "metadata": {},
     "output_type": "display_data"
    }
   ],
   "source": [
    "import matplotlib.pyplot as plt\n",
    "plt.figure(figsize=(6,4))\n",
    "plt.plot(loss, color=\"darkorange\", lw=2, label=\"Losses non standardized\")\n",
    "plt.plot(std_losses, color=\"green\", lw=2, label=\"Losses standardized\")\n",
    "plt.xlabel(\"Iterations\")\n",
    "plt.ylabel(\"Value of the loss function\")\n",
    "plt.title(\"Loss history during training\")\n",
    "plt.legend(loc=\"upper right\")\n",
    "plt.show()"
   ]
  },
  {
   "cell_type": "markdown",
   "id": "opened-marshall",
   "metadata": {},
   "source": [
    "- Classification of the training dataset (Note: For the sake of simplicity, model validation by splitting the initial data corpus into training, validation, and test data paritions was not performed in this case. The aim of the task was primarily to introduce and present how to design a `logistic regression classifier`. In practice, of course, such partitioning is carried out in advance\n",
    "- Call the `predict` function of the `my_log_regressor` object with respect to the standardized training data corpus, using a `threshold=0.5`\n",
    "- What is the purpose of different thresholds and how they affect the outcome of the classification algorithm"
   ]
  },
  {
   "cell_type": "code",
   "execution_count": 12,
   "id": "inappropriate-spare",
   "metadata": {
    "ExecuteTime": {
     "end_time": "2024-04-27T09:19:00.606673300Z",
     "start_time": "2024-04-27T09:19:00.598731Z"
    }
   },
   "outputs": [],
   "source": [
    "preds = my_log_regressor.predict(std_trains, 0.5)"
   ]
  },
  {
   "cell_type": "markdown",
   "id": "biological-sullivan",
   "metadata": {},
   "source": [
    "- **Remark:** To finally evaluate the model, the predicted labels can then be compared with the actual values to calculate the metrics - True Positive (TP), False Positive (FP), False Negative (FN) and True Negative - of the confusion matrix. From this, the target metrics such as Accuarcy, True Positive Rate, Precision, etc. can be derived."
   ]
  },
  {
   "cell_type": "code",
   "execution_count": 13,
   "id": "2d6ce96f19d61d79",
   "metadata": {
    "ExecuteTime": {
     "end_time": "2024-04-27T09:19:01.035040100Z",
     "start_time": "2024-04-27T09:19:01.032037400Z"
    },
    "collapsed": false
   },
   "outputs": [
    {
     "name": "stdout",
     "output_type": "stream",
     "text": [
      "Evaluation Metrics:\n",
      "Accuracy: 1.0\n",
      "Precision: 1.0\n",
      "Recall: 1.0\n",
      "Specificity: 1.0\n",
      "F1 Score: 1.0\n"
     ]
    }
   ],
   "source": [
    "def evaluate_model(y_true, y_pred):\n",
    "    \"\"\"\n",
    "    Evaluate the model using various metrics\n",
    "    \n",
    "    :param y_true: true labels\n",
    "    :type y_true: numpy array\n",
    "    :param y_pred: predicted labels\n",
    "    :type y_pred: numpy array\n",
    "    :return: dictionary containing evaluation metrics\n",
    "    :rtype: dict\n",
    "    \"\"\"\n",
    "    \n",
    "    TP = np.sum(np.logical_and(y_true == 1, y_pred == 1))\n",
    "    FP = np.sum(np.logical_and(y_true == 0, y_pred == 1))\n",
    "    FN = np.sum(np.logical_and(y_true == 1, y_pred == 0))\n",
    "    TN = np.sum(np.logical_and(y_true == 0, y_pred == 0))\n",
    "\n",
    "    accuracy = (TP + TN) / (TP + FP + FN + TN)\n",
    "    precision = TP / (TP + FP) if TP + FP > 0 else 0\n",
    "    recall = TP / (TP + FN) if TP + FN > 0 else 0\n",
    "    specificity = TN / (TN + FP) if TN + FP > 0 else 0\n",
    "    f1_score = 2 * (precision * recall) / (precision + recall) if precision + recall > 0 else 0\n",
    "    \n",
    "    metrics = {\n",
    "        'Accuracy': accuracy,\n",
    "        'Precision': precision,\n",
    "        'Recall': recall,\n",
    "        'Specificity': specificity,\n",
    "        'F1 Score': f1_score\n",
    "    }\n",
    "    \n",
    "    return metrics\n",
    "\n",
    "metrics = evaluate_model(Y_train, preds)\n",
    "print(\"Evaluation Metrics:\")\n",
    "for metric, value in metrics.items():\n",
    "    print(f\"{metric}: {value}\")\n"
   ]
  },
  {
   "cell_type": "code",
   "execution_count": 14,
   "id": "6b99b1d944c4d03b",
   "metadata": {
    "ExecuteTime": {
     "end_time": "2024-04-27T09:19:01.376333100Z",
     "start_time": "2024-04-27T09:19:01.268740900Z"
    },
    "collapsed": false
   },
   "outputs": [
    {
     "data": {
      "image/png": "[encoded data removed]",
      "text/plain": [
       "<Figure size 600x400 with 2 Axes>"
      ]
     },
     "metadata": {},
     "output_type": "display_data"
    }
   ],
   "source": [
    "from sklearn.metrics import confusion_matrix\n",
    "import seaborn as sns\n",
    "\n",
    "confusion_mat = confusion_matrix(preds, Y_train)\n",
    "plt.figure(figsize=(6, 4))\n",
    "sns.heatmap(confusion_mat, annot=True, fmt=\"d\", cmap=\"Blues\")\n",
    "plt.xlabel('Predicted Label')\n",
    "plt.ylabel('True Label')\n",
    "plt.title('Confusion Matrix of all correctly classified labels')\n",
    "plt.show()"
   ]
  },
  {
   "cell_type": "code",
   "execution_count": null,
   "id": "2ba33626bc4344c6",
   "metadata": {
    "collapsed": false
   },
   "outputs": [],
   "source": []
  }
 ],
 "metadata": {
  "kernelspec": {
   "display_name": "Python 3 (ipykernel)",
   "language": "python",
   "name": "python3"
  },
  "language_info": {
   "codemirror_mode": {
    "name": "ipython",
    "version": 3
   },
   "file_extension": ".py",
   "mimetype": "text/x-python",
   "name": "python",
   "nbconvert_exporter": "python",
   "pygments_lexer": "ipython3",
   "version": "3.11.3"
  }
 },
 "nbformat": 4,
 "nbformat_minor": 5
}
