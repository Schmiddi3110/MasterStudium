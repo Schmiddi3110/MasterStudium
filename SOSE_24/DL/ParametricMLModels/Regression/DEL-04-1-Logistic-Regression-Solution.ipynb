{
 "cells": [
  {
   "cell_type": "markdown",
   "id": "behind-carrier",
   "metadata": {},
   "source": [
    "## DEL-01 Programming Excercise - Logistic Regression and Vectorization\n",
    "### (created by Prof. Dr.-Ing. Christian Bergler & Prof. Dr. Fabian Brunner)\n",
    "\n",
    "Documentation: **Python-Bibliothek Pandas** - https://pandas.pydata.org/docs/\n",
    "\n",
    "Documentation: **Numpy** - https://numpy.org/doc/\n",
    "\n",
    "Documentation: **Sklearn** - https://scikit-learn.org/stable/index.html\n",
    "\n",
    "Documentation: **Matplotlib** - Documentation: https://matplotlib.org/stable/index.html\n",
    "\n",
    "Documentation: **Matplotlib** - Graphics Gallery: https://matplotlib.org/2.0.2/gallery.html\n",
    "\n",
    "Additional Documentation: **Python Tutorial** - https://docs.python.org/3/tutorial/\n",
    "\n",
    "Additional Documentation: **Matthes Eric, \"Python crash course: A hands-on, project-based introduction to programming\"**, ISBN: 978-1-59327-603-4, ©2023 no starch press  "
   ]
  },
  {
   "cell_type": "code",
   "execution_count": 49,
   "id": "electrical-chamber",
   "metadata": {},
   "outputs": [],
   "source": [
    "import pandas as pd\n",
    "import numpy as np"
   ]
  },
  {
   "cell_type": "markdown",
   "id": "encouraging-characteristic",
   "metadata": {},
   "source": [
    "- In the following exercise, the first 100 samples of the `Iris Dataset` are used to train a logistic regression model\n",
    "- Familiarize yourself with the data structure (`data` and `target`) to understand the code below: https://scikit-learn.org/stable/auto_examples/datasets/plot_iris_dataset.html\n",
    "- Use the `sklearn` module to import and load the `Iris Dataset`\n",
    "- Get the training data (`X_train`) and corresponding ground truth (target/label) data `Y_train` for the first 100 data samples"
   ]
  },
  {
   "cell_type": "code",
   "execution_count": 50,
   "id": "average-lounge",
   "metadata": {},
   "outputs": [],
   "source": [
    "from sklearn import datasets\n",
    "\n",
    "iris = datasets.load_iris()\n",
    "X_train = iris.data[:100, :2]  \n",
    "Y_train = iris.target[:100]"
   ]
  },
  {
   "cell_type": "markdown",
   "id": "6c96c140-651e-4df8-b9af-d79e216857ca",
   "metadata": {},
   "source": [
    "- Return the shape for `X_train`and `Y_train`, as well as for the entire `Iris Dataset` and its `Targets`"
   ]
  },
  {
   "cell_type": "code",
   "execution_count": 51,
   "id": "411cf775-c09c-4e19-bd0f-104c2f497fa5",
   "metadata": {},
   "outputs": [
    {
     "name": "stdout",
     "output_type": "stream",
     "text": [
      "Shape of the training data: (100, 2)\n",
      "Shape of the respective ground truth label data: (100,)\n",
      "Shape of the entire Iris Dataset: (150, 4)\n",
      "Shape of the entire Iris Targets: (150,)\n"
     ]
    }
   ],
   "source": [
    "#TODO\n",
    "print(\"Shape of the training data:\", X_train.shape)\n",
    "print(\"Shape of the respective ground truth label data:\", Y_train.shape)\n",
    "print(\"Shape of the entire Iris Dataset:\", iris.data.shape)\n",
    "print(\"Shape of the entire Iris Targets:\", iris.target.shape)"
   ]
  },
  {
   "cell_type": "markdown",
   "id": "overall-amount",
   "metadata": {},
   "source": [
    "- The code above creates a binary classification problem with the two classes 0 and 1 in the `targets` - use the `numpy unique` function to verify and prove it! Please also visualize the entire `target` vector of the `Iris Dataset`. Are there by default two or more class indices?"
   ]
  },
  {
   "cell_type": "code",
   "execution_count": 52,
   "id": "loose-namibia",
   "metadata": {},
   "outputs": [
    {
     "name": "stdout",
     "output_type": "stream",
     "text": [
      "How many labels are within the target vector of Y_train: [0 1]\n",
      "Number of labels within the entire Iris Dataset: [0 1 2]\n",
      "Entire Iris Dataset target vector: [0 0 0 0 0 0 0 0 0 0 0 0 0 0 0 0 0 0 0 0 0 0 0 0 0 0 0 0 0 0 0 0 0 0 0 0 0\n",
      " 0 0 0 0 0 0 0 0 0 0 0 0 0 1 1 1 1 1 1 1 1 1 1 1 1 1 1 1 1 1 1 1 1 1 1 1 1\n",
      " 1 1 1 1 1 1 1 1 1 1 1 1 1 1 1 1 1 1 1 1 1 1 1 1 1 1 2 2 2 2 2 2 2 2 2 2 2\n",
      " 2 2 2 2 2 2 2 2 2 2 2 2 2 2 2 2 2 2 2 2 2 2 2 2 2 2 2 2 2 2 2 2 2 2 2 2 2\n",
      " 2 2]\n"
     ]
    }
   ],
   "source": [
    "#TODO\n",
    "print(\"How many labels are within the target vector of Y_train:\", np.unique(Y_train))\n",
    "print(\"Number of labels within the entire Iris Dataset:\", np.unique(iris.target))\n",
    "print(\"Entire Iris Dataset target vector:\", iris.target)"
   ]
  },
  {
   "cell_type": "markdown",
   "id": "moderate-newport",
   "metadata": {},
   "source": [
    "- Implement the sigmoid function $\\sigma(x)=\\frac{1}{1+e^{-x}}$ in such a way that it can be applied to both `scalars` and `NumPy arrays`. In the latter case, the function should be applied to each entry of the array (`vectorization`!) and the result should be `output` as a `vector of the same dimension` (use `numpy.exp`) "
   ]
  },
  {
   "cell_type": "code",
   "execution_count": 53,
   "id": "shaped-identity",
   "metadata": {},
   "outputs": [],
   "source": [
    "def sigmoid(x):\n",
    "    #TODO\n",
    "    return 1/(1+np.exp(-x))"
   ]
  },
  {
   "cell_type": "markdown",
   "id": "cathedral-finger",
   "metadata": {},
   "source": [
    "- Verify whether the function `sigmoid(x)`works in case of `scalar` and `vector` inputs!"
   ]
  },
  {
   "cell_type": "code",
   "execution_count": 54,
   "id": "understanding-insulin",
   "metadata": {},
   "outputs": [
    {
     "name": "stdout",
     "output_type": "stream",
     "text": [
      "Output of the sigmoid function using a scalar input: 0.8807970779778823\n",
      "Output of the sigmoid function using a vector input: [0.11920292 0.26894142 0.5        0.73105858 0.88079708]\n"
     ]
    }
   ],
   "source": [
    "x_scalar = 2\n",
    "x_vector = np.array([-2,-1,0,1,2])\n",
    "#TODO\n",
    "print(\"Output of the sigmoid function using a scalar input:\", sigmoid(x_scalar))\n",
    "print(\"Output of the sigmoid function using a vector input:\", sigmoid(x_vector))"
   ]
  },
  {
   "cell_type": "markdown",
   "id": "entire-devil",
   "metadata": {},
   "source": [
    "- In order to train the logistic regression function, it is mandatory to find the gradient of the respective loss function\n",
    "- Logistic Regression uses the (binary) Cross-Entropy-Loss, defined as follows:\n",
    "$$L(\\vec{\\theta})= -\\frac{1}{m}\\sum_{i=1}^m y^{(i)}\\log\\left(\\sigma(\\vec{\\theta}^T\\vec{x}^{(i)})\\right)+(1-y^{(i)})\\log\\left(1-\\sigma(\\vec{\\theta}^T\\vec{x}^{(i)})\\right)~,$$\n",
    "wobei $\\vec{x}^{(i)}=(1,x_1^{(i)},\\ldots,x_p^{(i)})^T\\in\\mathbb{R}^{p+1}$, $\\vec{\\theta}=(\\theta_0,\\ldots,\\theta_p)^T\\in\\mathbb{R}^p$, $y^{(i)}\\in\\{0,1\\}$. "
   ]
  },
  {
   "cell_type": "markdown",
   "id": "progressive-phase",
   "metadata": {},
   "source": [
    "- The gradient of $L$ $=\\nabla L(\\vec{\\theta})$ has already been calculated as shown in the exercise sheet on \"Mathematical Foundations\":"
   ]
  },
  {
   "cell_type": "markdown",
   "id": "affiliated-picture",
   "metadata": {},
   "source": [
    "$$\\nabla L(\\vec{\\theta})=\\frac{1}{m}\\sum_{i=1}^m\\left(\\sigma(\\vec{\\theta}^T\\vec{x}^{(i)})-y^{(i)}\\right)\\vec{x}^{(i)}$$"
   ]
  },
  {
   "cell_type": "markdown",
   "id": "apparent-heading",
   "metadata": {},
   "source": [
    "- The vectorized form can also be created from the above representation (see lecture - `Training Parametric Models`) - its vectorized form looks as follows: "
   ]
  },
  {
   "cell_type": "markdown",
   "id": "affecting-dialogue",
   "metadata": {},
   "source": [
    "$$\\nabla L(\\vec{\\theta})=\\frac{1}{m}X^T\\left(\\sigma(X\\vec{\\theta})-\\vec{y}\\right)$$\n",
    "with: $$X=\\left(\\begin{array}{cccc}1&x_1^{(1)}&\\ldots &x_p^{(1)}\\\\1&x_1^{(2)}&\\ldots &x_p^{(2)}\\\\ \\vdots &\\vdots &\\ddots &\\vdots \\\\1&x_1^{(m)}&\\ldots& x_p^{(m)} \\end{array}\\right)~\\quad\\text{und}\\quad\\vec{y}=\\left(\\begin{array}{c} y^{(1)}\\\\ y^{(2)}\\\\ \\vdots \\\\ y^{(m)}\\end{array}\\right)~.$$"
   ]
  },
  {
   "cell_type": "markdown",
   "id": "continuous-merchant",
   "metadata": {},
   "source": [
    "- Applying the function $\\sigma$ to the vector $X\\vec{\\theta}$ is to be understood component by component (row after row)"
   ]
  },
  {
   "cell_type": "markdown",
   "id": "productive-logistics",
   "metadata": {},
   "source": [
    "- Complete the implementation of the following class for logistic regression. Carry out calculations in vectorised form if possible"
   ]
  },
  {
   "cell_type": "code",
   "execution_count": 55,
   "id": "balanced-copper",
   "metadata": {},
   "outputs": [],
   "source": [
    "class MyLogisticRegression:\n",
    "    \n",
    "    def __init__(self, max_iter = 100, lr = 1.0):\n",
    "        self.max_iter = max_iter #max number of iterations regarding the gradient descent algorithm\n",
    "        self.learning_rate = lr #learning rate for the gradient descent algorithm\n",
    "        self.theta = None #parameter/weight vector to be determined using the gradient descent algorithm\n",
    "       \n",
    "    \n",
    "    def cross_entropy_loss(self, X, y):\n",
    "        \"\"\"\n",
    "        Evaluation of cross entropy loss function\n",
    "        \n",
    "        :param X: batch of training data of dimension n_samples x n_features\n",
    "        :type X: numpy array\n",
    "        :param y: target values corresponding to records in X \n",
    "        :type y: numpy array\n",
    "        :return: value of cross entropy loss function\n",
    "        :rtype: float\n",
    "        \"\"\"\n",
    "        #TODO\n",
    "\n",
    "        n_samples = X.shape[0]\n",
    "        Xtilde = np.hstack((np.ones((X.shape[0], 1)), X))\n",
    "        s = 0.0\n",
    "        for i in range(n_samples):\n",
    "            s += -1.0/n_samples*(y[i]*np.log(sigmoid(self.theta@Xtilde[i]))+(1-y[i])*np.log(1-sigmoid(self.theta@Xtilde[i])))\n",
    "        return s\n",
    "    \n",
    "    \n",
    "    def cross_entropy_loss_vec(self, X, y):\n",
    "        \"\"\"\n",
    "        Evaluation of cross entropy loss function in vectorized form\n",
    "        \n",
    "        :param X: batch of training data of dimension n_samples x n_features\n",
    "        :type X: numpy array\n",
    "        :param y: target values corresponding to records in X \n",
    "        :type y: numpy array\n",
    "        :return: value of cross entropy loss function\n",
    "        :rtype: float\n",
    "        \"\"\"\n",
    "        #TODO\n",
    "        Xtilde = np.hstack((np.ones((X.shape[0], 1)), X))\n",
    "        return -1.0/X.shape[0]*(y.T@np.log(sigmoid(Xtilde@self.theta))+((1-y).T)@np.log(1-sigmoid(Xtilde@self.theta)))\n",
    "    \n",
    "    def train(self, X, y):\n",
    "        \"\"\"\n",
    "        Model training using gradient descent optimization algorithm\n",
    "        \n",
    "        :param X: batch of training data of dimension n_samples x n_features\n",
    "        :type X: numpy array\n",
    "        :param y: target values corresponding to records in X \n",
    "        :type y: numpy array\n",
    "        :return: List containing the values of the loss function after each iteration of Gradient descent\n",
    "        :rtype: list\n",
    "        \"\"\"\n",
    "        #TODO\n",
    "        n_samples = X.shape[0]\n",
    "        n_features = X.shape[1]\n",
    "        self.theta = np.zeros(n_features+1)\n",
    "        \n",
    "        Xtilde = np.hstack((np.ones((X.shape[0], 1)), X))\n",
    "        \n",
    "        loss_history = []\n",
    "        for it in range(self.max_iter):         \n",
    "            delta = 1.0/n_samples * self.learning_rate * Xtilde.T@(sigmoid(Xtilde@self.theta)-y)\n",
    "            self.theta -= delta\n",
    "            loss_history.append(self.cross_entropy_loss_vec(X, y))\n",
    "        return loss_history\n",
    "\n",
    "    def predict_proba(self, X):\n",
    "        \"\"\"\n",
    "        Predict scores\n",
    "        \n",
    "        :param X: batch of data to be scored\n",
    "        :type X: numpy array\n",
    "        :return: predicted scores for the records in X\n",
    "        :rtype: numpy array \n",
    "        \"\"\"        \n",
    "        #TODO\n",
    "        Xtilde = np.hstack((np.ones((X.shape[0], 1)), X))\n",
    "        return sigmoid(Xtilde@self.theta)\n",
    "    \n",
    "    def predict(self, X, threshold):\n",
    "        \"\"\"\n",
    "        Predict classes using the threshold value for the scores\n",
    "        \n",
    "        :param X: batch of data to be scored\n",
    "        :type X: numpy array\n",
    "        :param threshold: decision criterion, where the prediction probability of the model needs to be >= threshold to assign the binary (true) class =1 \n",
    "        :type threshold: float\n",
    "        :return: predicted classes for the records in X\n",
    "        :rtype: numpy array\n",
    "        \"\"\" \n",
    "        #TODO\n",
    "        return (self.predict_proba(X)>=threshold).astype(int)"
   ]
  },
  {
   "cell_type": "markdown",
   "id": "ebc10faf",
   "metadata": {},
   "source": [
    "- Call the constructor of the class `MyLogisticRegression` to create an object `my_log_regressor` and train the algorithm in connection with the training data of the `Iris Dataset` (see above)"
   ]
  },
  {
   "cell_type": "code",
   "execution_count": 56,
   "id": "behind-recall",
   "metadata": {},
   "outputs": [],
   "source": [
    "#TODO\n",
    "my_log_regressor = MyLogisticRegression()"
   ]
  },
  {
   "cell_type": "markdown",
   "id": "10be48b2-8f3e-439a-9475-455af8f426b6",
   "metadata": {},
   "source": [
    "- The `preprocessing` package of the `sklear` module holds a class `StandardScaler`in order to standardize features by substracting the mean and scaling to unit variance via $$z = \\frac{x-\\mu}{s}$$ with $\\mu =$mean, $s=$stdv\n",
    "- Call the `fit_transform` function of the `sc` object in order to build the standardized data corpus"
   ]
  },
  {
   "cell_type": "code",
   "execution_count": 57,
   "id": "strong-machinery",
   "metadata": {},
   "outputs": [],
   "source": [
    "from sklearn.preprocessing import StandardScaler\n",
    "sc = StandardScaler()\n",
    "#TODO \n",
    "X_train_std = sc.fit_transform(X_train)"
   ]
  },
  {
   "cell_type": "markdown",
   "id": "759104d6-84e5-41ca-8026-32ea82455125",
   "metadata": {},
   "source": [
    "- Train the model by calling the `train` function of the `my_log_regressor` ojbect together with the standardized training data and respective labels"
   ]
  },
  {
   "cell_type": "code",
   "execution_count": 58,
   "id": "moral-stake",
   "metadata": {},
   "outputs": [],
   "source": [
    "#TODO\n",
    "loss_history = my_log_regressor.train(X_train_std, Y_train)"
   ]
  },
  {
   "cell_type": "markdown",
   "id": "registered-surface",
   "metadata": {},
   "source": [
    "- Using `matplotlib` in order to plot and visualize the temporal development regarding the values of the loss function"
   ]
  },
  {
   "cell_type": "code",
   "execution_count": 59,
   "id": "unlikely-orchestra",
   "metadata": {},
   "outputs": [
    {
     "data": {
      "text/plain": [
       "Text(0.5, 1.0, 'Loss history during training')"
      ]
     },
     "execution_count": 59,
     "metadata": {},
     "output_type": "execute_result"
    },
    {
     "data": {
      "image/png": "[encoded data removed]",
      "text/plain": [
       "<Figure size 640x480 with 1 Axes>"
      ]
     },
     "metadata": {},
     "output_type": "display_data"
    }
   ],
   "source": [
    "import matplotlib.pyplot as plt\n",
    "#TODO\n",
    "plt.plot(loss_history)\n",
    "\n",
    "plt.xlabel(\"Iterations\")\n",
    "plt.ylabel(\"Value of the loss function\")\n",
    "plt.title(\"Loss history during training\")"
   ]
  },
  {
   "cell_type": "markdown",
   "id": "opened-marshall",
   "metadata": {},
   "source": [
    "- Classification of the training dataset (Note: For the sake of simplicity, model validation by splitting the initial data corpus into training, validation, and test data paritions was not performed in this case. The aim of the task was primarily to introduce and present how to design a `logistic regression classifier`. In practice, of course, such partitioning is carried out in advance\n",
    "- Call the `predict` function of the `my_log_regressor` object with respect to the standardized training data corpus, using a `threshold=0.5`\n",
    "- What is the purpose of different thresholds and how they affect the outcome of the classification algorithm"
   ]
  },
  {
   "cell_type": "code",
   "execution_count": 60,
   "id": "inappropriate-spare",
   "metadata": {},
   "outputs": [
    {
     "data": {
      "text/plain": [
       "array([0, 0, 0, 0, 0, 0, 0, 0, 0, 0, 0, 0, 0, 0, 0, 0, 0, 0, 0, 0, 0, 0,\n",
       "       0, 0, 0, 0, 0, 0, 0, 0, 0, 0, 0, 0, 0, 0, 0, 0, 0, 0, 0, 0, 0, 0,\n",
       "       0, 0, 0, 0, 0, 0, 1, 1, 1, 1, 1, 1, 1, 1, 1, 1, 1, 1, 1, 1, 1, 1,\n",
       "       1, 1, 1, 1, 1, 1, 1, 1, 1, 1, 1, 1, 1, 1, 1, 1, 1, 1, 1, 1, 1, 1,\n",
       "       1, 1, 1, 1, 1, 1, 1, 1, 1, 1, 1, 1])"
      ]
     },
     "execution_count": 60,
     "metadata": {},
     "output_type": "execute_result"
    }
   ],
   "source": [
    "#TODO\n",
    "my_log_regressor.predict(X_train_std, 0.5)"
   ]
  },
  {
   "cell_type": "markdown",
   "id": "biological-sullivan",
   "metadata": {},
   "source": [
    "- **Remark:** To finally evaluate the model, the predicted labels can then be compared with the actual values to calculate the metrics - True Positive (TP), False Positive (FP), False Negative (FN) and True Negative - of the confusion matrix. From this, the target metrics such as Accuarcy, True Positive Rate, Precision, etc. can be derived."
   ]
  }
 ],
 "metadata": {
  "kernelspec": {
   "display_name": "Python 3 (ipykernel)",
   "language": "python",
   "name": "python3"
  },
  "language_info": {
   "codemirror_mode": {
    "name": "ipython",
    "version": 3
   },
   "file_extension": ".py",
   "mimetype": "text/x-python",
   "name": "python",
   "nbconvert_exporter": "python",
   "pygments_lexer": "ipython3",
   "version": "3.10.12"
  }
 },
 "nbformat": 4,
 "nbformat_minor": 5
}
