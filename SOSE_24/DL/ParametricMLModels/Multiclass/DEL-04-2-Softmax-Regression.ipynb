{
 "cells": [
  {
   "cell_type": "markdown",
   "id": "portable-honolulu",
   "metadata": {},
   "source": [
    "## DEL-02 Programming Excercise - Softmax Regression\n",
    "### (created by Prof. Dr.-Ing. Christian Bergler & Prof. Dr. Fabian Brunner)\n",
    "\n",
    "Documentation: **Python-Bibliothek Pandas** - https://pandas.pydata.org/docs/\n",
    "\n",
    "Documentation: **Numpy** - https://numpy.org/doc/\n",
    "\n",
    "Documentation: **Sklearn** - https://scikit-learn.org/stable/index.html\n",
    "\n",
    "Documentation: **Matplotlib** - Documentation: https://matplotlib.org/stable/index.html\n",
    "\n",
    "Documentation: **Matplotlib** - Graphics Gallery: https://matplotlib.org/2.0.2/gallery.html\n",
    "\n",
    "Additional Documentation: **Python Tutorial** - https://docs.python.org/3/tutorial/\n",
    "\n",
    "Additional Documentation: **Matthes Eric, \"Python crash course: A hands-on, project-based introduction to programming\"**, ISBN: 978-1-59327-603-4, ©2023 no starch press  "
   ]
  },
  {
   "cell_type": "markdown",
   "id": "english-abraham",
   "metadata": {},
   "source": [
    "### Softmax-Regression"
   ]
  },
  {
   "cell_type": "markdown",
   "id": "senior-vitamin",
   "metadata": {},
   "source": [
    "- The model function for the `softmax regression` is made up of the `affine-linear transformation`\n",
    "\\begin{align*}\n",
    "z_1 &= w_{11}x_1+ w_{21} x_2+\\ldots+w_{p1} x_p+b_1~,\\\\\n",
    "z_2 &= w_{12}x_1+w_{22} x_2+ \\ldots+w_{p2} x_p+b_2~,\\\\\n",
    "\\vdots & \\hspace{4cm}\\vdots \\\\\n",
    "z_n &= w_{1n}x_1+w_{2n} x_2+\\ldots +w_{pn} x_p +b_n\n",
    "\\end{align*}\n",
    "with $n$ number of (output) neurons and $p$ number of (input) neurons from the previous layer $l-1$."
   ]
  },
  {
   "cell_type": "markdown",
   "id": "vocational-petroleum",
   "metadata": {},
   "source": [
    "- Followed by the subsequent application of the `softmax function`\n",
    "$$\n",
    "\\begin{align*}\n",
    "\\hat{\\vec{y}}=\\mathrm{softmax}(\\vec{z})\n",
    "\\end{align*}\n",
    "$$\n",
    "with respect to the (output) feature vector $\\vec{z}$: $$\\vec{z}=(z_1,\\ldots,z_n)^T$$\n",
    "using:\n",
    "\\begin{align*}\n",
    "\\vec{W}=\\left(\\begin{array}{rrrr}\n",
    "w_{11}&w_{12}&\\ldots &w_{1n}\\\\\n",
    "w_{21}&w_{22}&\\ldots&w_{2n}\\\\\n",
    "\\vdots &\\vdots &\\ddots&\\vdots\\\\\n",
    "w_{p1}&w_{p2}&\\ldots& w_{pn}\n",
    "\\end{array}\\right)\\in\\mathbb{R}^{p\\times n}~,\\qquad \n",
    "\\vec{b}=\\left(\\begin{array}{c} b_1\\\\ b_2\\\\ \\vdots \\\\ b_n\\end{array}\\right)\\in\\mathbb{R}^n~\n",
    "\\end{align*}\n",
    "which represents the vectorized form:\n",
    "\\begin{align*}\n",
    "\\vec{z}&=\\vec{W}^T\\vec{x}+\\vec{b}\\\\\n",
    "\\hat{\\vec{y}}&=\\mathrm{softmax}(\\vec{z})\n",
    "\\end{align*}"
   ]
  },
  {
   "cell_type": "markdown",
   "id": "vertical-basketball",
   "metadata": {},
   "source": [
    "- When vectorizing over a batch $\\vec{X}\\in\\mathbb{R}^{m\\times p}$ (where $m$ denotes the number of samples and $p$ the number of features), the representation is as follows\n",
    "Bei Vektorisierung über ein Batch $\\vec{X}\\in\\mathbb{R}^{m\\times p}$ (wobei $m$ die Anzahl der Samples und $p$ die Anzahl der Features bezeichnen) lautet die Darstellung"
   ]
  },
  {
   "cell_type": "markdown",
   "id": "atomic-growing",
   "metadata": {},
   "source": [
    "$$\n",
    "\\begin{align*}\n",
    "\\vec{Z}&=\\vec{X}\\vec{W}+\\vec{b}\\\\\n",
    "\\hat{\\vec{Y}}&=\\mathrm{softmax}(\\vec{Z})\n",
    "\\end{align*}\n",
    "$$"
   ]
  },
  {
   "cell_type": "markdown",
   "id": "resistant-scroll",
   "metadata": {},
   "source": [
    "### Task DEL-02-1 (Shapes and Weights)"
   ]
  },
  {
   "cell_type": "markdown",
   "id": "permanent-lecture",
   "metadata": {},
   "source": [
    "- a) What is the dimension of the matrix $\\hat{\\vec{Y}}$? How should the rows of the matrix be interpreted?\n",
    "     - $\\hat{\\vec{Y}}$ has dimension of ${p\\times1}$. Each row represents a probability\n",
    "- b) Assume that all weights $\\vec{W}$ and $\\vec{b}$ have the value zero. What result/prediction does the model then provide for any input vector?\n",
    "     - The model will output equal probabilities for all classes"
   ]
  },
  {
   "cell_type": "markdown",
   "id": "experienced-fence",
   "metadata": {},
   "source": [
    "### Task DEL-02-2 (Numerical Stability)"
   ]
  },
  {
   "cell_type": "markdown",
   "id": "collective-auction",
   "metadata": {},
   "source": [
    "- a) Consider the following (vectorized) implementation of the `softmax function`:\n",
    "    - Explain this implementation! In particular, explain why ```keepdims=True``` is needed"
   ]
  },
  {
   "cell_type": "code",
   "execution_count": 3,
   "id": "pointed-philippines",
   "metadata": {},
   "outputs": [],
   "source": [
    "import numpy as np\n",
    "import pandas as pd\n",
    "\n",
    "def softmax(Z):\n",
    "    Z_exp = np.exp(Z)\n",
    "    Z_exp_sum = Z_exp.sum(axis=1, keepdims=True)\n",
    "    return Z_exp/Z_exp_sum"
   ]
  },
  {
   "cell_type": "markdown",
   "id": "684a29a9",
   "metadata": {},
   "source": [
    "1. elementwise exponential of input\n",
    "2. sum over all elements, keepdims ensures that resulting sum has same shape as input\n",
    "3. calculate class probability"
   ]
  },
  {
   "cell_type": "markdown",
   "id": "italian-disposition",
   "metadata": {},
   "source": [
    "- b) Show that for a given vector $\\vec{z}=(z_1,\\ldots,z_n)^T$ and any number $\\alpha\\in\\mathbb{R}$:\n",
    "$$\n",
    "\\begin{align*}\n",
    "\\mathrm{softmax}(\\vec{z})=\\mathrm{softmax}(\\vec{z}-\\alpha\\cdot (1,\\ldots,1)^T)\n",
    "\\end{align*}\n",
    "$$"
   ]
  },
  {
   "cell_type": "markdown",
   "id": "professional-dublin",
   "metadata": {},
   "source": [
    "- c) What problems can arise in the numerical evaluation of the `softmax function`? How can the property shown in subtask b) be utilised to evaluate the `softmax function` in a numerically stable way?"
   ]
  },
  {
   "cell_type": "markdown",
   "id": "streaming-bunch",
   "metadata": {},
   "source": [
    "### Task DEL-02-3 (Model Training with Softmax Regression)"
   ]
  },
  {
   "cell_type": "markdown",
   "id": "banned-intersection",
   "metadata": {},
   "source": [
    "- When training a `softmax regression` model, the unknown weights $\\vec{W}$ and $\\vec{b}$ are determined by minimizing the `cross-entropy loss function`\n",
    "$$\n",
    "L(\\vec{W},\\vec{b})=-\\frac{1}{m}\\sum_{i=1}^m\\sum_{j=1}^n y^{(i)}_j\\cdot \\log(\\hat{y}^{(i)}_j)~\\quad\\text{mit}~~\\hat{y}^{(i)}_j=f_{\\vec{W},\\vec{b}}(\\vec{x}^{(i)})_j\n",
    "$$\n",
    "Here, $y_j^{(i)}$ is the $j$-th component of the $i$-th (vector-valued, obtained by one hot encoding) label and $\\hat{y}_j^{(i)}$ is the $j$-th component of the probability distribution predicted by the model for the $i$-th sample of the batch.\n",
    "\n",
    "- a) In which case does $L(\\vec{W},\\vec{b})=0$?"
   ]
  },
  {
   "cell_type": "markdown",
   "id": "chemical-variation",
   "metadata": {},
   "source": [
    "- b) Let $L^{(i)}=-\\sum_{j=1}^n y_j^{(i)}\\log(\\hat{y}_j^{(i)})$ be the contribution of the $i$-th samples to the loss function. Using the chain rule, show that \n",
    "$$\\frac{\\partial L^{(i)}}{\\partial o_j^{(i)}}= \\hat{y}_j^{(i)}-y_j^{(i)}$$\n",
    "is valid."
   ]
  },
  {
   "cell_type": "markdown",
   "id": "expired-hacker",
   "metadata": {},
   "source": [
    "- c) Using the result from b), derive expressions for the partial derivatives of $L$ according to the weights:\n",
    "$$\n",
    "\\begin{align*}\n",
    "&\\frac{\\partial L}{\\partial w_{ij}}~,\\quad i=1,\\ldots,p,~ j=1,\\ldots,n~,\\\\\n",
    "&\\frac{\\partial L}{\\partial b_j}~,\\quad ~j=1,\\ldots,n~.\n",
    "\\end{align*}\n",
    "$$"
   ]
  },
  {
   "cell_type": "markdown",
   "id": "equivalent-reading",
   "metadata": {},
   "source": [
    "- <b>Result to verify:\n",
    "  \n",
    "    </b> If the partial derivatives are summarised in matrices $dW$ and $dB$ (with the same dimensions as $\\vec{W}$ and $\\vec{b}$), they are obtained in vectorized form by\n",
    "    $$dW=\\frac{1}{m}\\vec{X}^T(\\hat{\\vec{Y}}-\\vec{Y})~,\\qquad dB=\\frac{1}{m}(1,\\ldots,1)\\cdot(\\hat{\\vec{Y}}-\\vec{Y})$$\n",
    "    You can use this representation to implement the gradient method in the following task!"
   ]
  },
  {
   "cell_type": "markdown",
   "id": "correct-lotus",
   "metadata": {},
   "source": [
    "### Task DEL-02-4 (Implementation Softmax Regression)"
   ]
  },
  {
   "cell_type": "markdown",
   "id": "cutting-status",
   "metadata": {},
   "source": [
    "- Complete the following implementation of the MySoftmaxRegression class, which realises the Softmax regression."
   ]
  },
  {
   "cell_type": "code",
   "execution_count": 4,
   "id": "animal-simple",
   "metadata": {},
   "outputs": [],
   "source": [
    "from sklearn import datasets\n",
    "\n",
    "iris = datasets.load_iris()\n",
    "X = iris.data \n",
    "Y = iris.target"
   ]
  },
  {
   "cell_type": "code",
   "execution_count": 5,
   "id": "identical-conflict",
   "metadata": {},
   "outputs": [],
   "source": [
    "def softmax(Z):\n",
    "    \"\"\"\n",
    "    Vectorized implementation of softmax function\n",
    "    \"\"\"\n",
    "    Z_exp = np.exp(Z - np.max(Z, axis=1, keepdims=True))\n",
    "    partition = Z_exp.sum(axis=1, keepdims=True)\n",
    "    return Z_exp / partition"
   ]
  },
  {
   "cell_type": "code",
   "execution_count": 11,
   "id": "ruled-blogger",
   "metadata": {},
   "outputs": [],
   "source": [
    "class MySoftmaxRegression:\n",
    "    \n",
    "    def __init__(self, lr = 1.0, num_iter = 100):\n",
    "        self.learning_rate = lr #learning rate\n",
    "        self.num_iter = num_iter #number of iterations for gradient descent\n",
    "        self.W = None #weight matrix\n",
    "        self.b = None #bias vector\n",
    "        \n",
    "        \n",
    "    def net(self, X):\n",
    "        \"\"\"\n",
    "        Model function to predict scores for a batch of samples (for logistic regression, this function was called \"predict_proba\")\n",
    "        \n",
    "        :param X: batch of training data of dimension n_samples x n_features\n",
    "        :type X: numpy array\n",
    "        :return: array containing the predicted scores for all samples of the batch X (dimension: n_samples x n_classes)\n",
    "        :rtype: numpy array\n",
    "        \"\"\"\n",
    "        z = np.dot(X, self.W) + self.b\n",
    "        exp_z = np.exp(z)\n",
    "        return exp_z / np.sum(exp_z, axis=1, keepdims=True)\n",
    "    \n",
    "    def train(self, X, y):\n",
    "        \"\"\"\n",
    "        Model training using gradient descent optimization algorithm\n",
    "        \n",
    "        :param X: batch of training data of dimension n_samples x n_features\n",
    "        :type X: numpy array\n",
    "        :param y: target values corresponding to records in X \n",
    "        :type y: numpy array\n",
    "        :return: List containing the values of the loss function after each iteration of Gradient descent\n",
    "        :rtype: list\n",
    "        \"\"\"\n",
    "        n_samples, n_features = X.shape\n",
    "        n_classes = np.unique(y).shape[0]\n",
    "        \n",
    "        # Initialize weights and bias\n",
    "        self.W = np.zeros((n_features, n_classes))\n",
    "        self.b = np.zeros((1, n_classes))\n",
    "        \n",
    "        loss_history = []\n",
    "        \n",
    "        for i in range(self.num_iter):\n",
    "            # Forward pass\n",
    "            scores = self.net(X)\n",
    "            \n",
    "            # Calculate loss\n",
    "            correct_scores = scores[np.arange(n_samples), y]\n",
    "            loss = -np.log(correct_scores).mean()\n",
    "            loss_history.append(loss)\n",
    "            \n",
    "            # Backpropagation\n",
    "            dscores = scores\n",
    "            dscores[np.arange(n_samples), y] -= 1\n",
    "            dscores /= n_samples\n",
    "            \n",
    "            dW = np.dot(X.T, dscores)\n",
    "            db = np.sum(dscores, axis=0, keepdims=True)\n",
    "            \n",
    "            # Update weights and biases\n",
    "            self.W -= self.learning_rate * dW\n",
    "            self.b -= self.learning_rate * db\n",
    "        \n",
    "        return loss_history\n",
    "    \n",
    "    def predict(self, X):\n",
    "        \"\"\"\n",
    "        Predict classes based on the largest predicted class probability\n",
    "        \n",
    "        :param X: batch of data to be scored\n",
    "        :type X: numpy array\n",
    "        :param threshold: decision criterion, where the prediction probability of the model needs to be >= threshold to assign the binary (true) class =1 \n",
    "        :type threshold: float\n",
    "        :return: predicted classes for the records in X\n",
    "        :rtype: numpy array\n",
    "        \"\"\" \n",
    "        return np.argmax(self.net(X), axis=1)"
   ]
  },
  {
   "cell_type": "markdown",
   "id": "95299673-b15c-4030-89ed-13e65f012f38",
   "metadata": {},
   "source": [
    "- Call the constructor of the class `MySoftmaxRegression` to create an object `my_soft_regressor` and train the algorithm in connection with the training data of the `Iris Dataset` (see above)\n",
    "- Use a learning rate `lr=`$0.05$ and a number of iteration `num_iter`=$10000$ "
   ]
  },
  {
   "cell_type": "code",
   "execution_count": 12,
   "id": "typical-developer",
   "metadata": {},
   "outputs": [],
   "source": [
    "my_soft_reg = MySoftmaxRegression(lr=0.05, num_iter=1000)\n",
    "losses = my_soft_reg.train(X, Y)"
   ]
  },
  {
   "cell_type": "markdown",
   "id": "e7ce3d66-b86c-40aa-9a2f-50d641c4d074",
   "metadata": {},
   "source": [
    "- The `preprocessing` package of the `sklear` module holds a class `StandardScaler`in order to standardize features by substracting the mean and scaling to unit variance via $$z = \\frac{x-\\mu}{s}$$ with $\\mu =$mean, $s=$stdv\n",
    "- Call the `fit_transform` function of the `sc` object in order to build the standardized data corpus\n",
    "- Train the model by calling the `train` function of the `my_soft_regressor` ojbect together with the standardized training data and respective labels"
   ]
  },
  {
   "cell_type": "code",
   "execution_count": 13,
   "id": "positive-symphony",
   "metadata": {},
   "outputs": [],
   "source": [
    "from sklearn.preprocessing import StandardScaler\n",
    "sc = StandardScaler()\n",
    "std_trains = sc.fit_transform(X, Y)"
   ]
  },
  {
   "cell_type": "markdown",
   "id": "efa14cf9-d3ed-4e65-9979-a14cc50babc2",
   "metadata": {},
   "source": [
    "- Using `matplotlib` in order to plot and visualize the temporal development regarding the values of the loss function"
   ]
  },
  {
   "cell_type": "code",
   "execution_count": 14,
   "id": "peaceful-heater",
   "metadata": {},
   "outputs": [
    {
     "data": {
      "text/plain": [
       "Text(0, 0.5, 'Training loss')"
      ]
     },
     "execution_count": 14,
     "metadata": {},
     "output_type": "execute_result"
    },
    {
     "data": {
      "image/png": "[encoded data removed]",
      "text/plain": [
       "<Figure size 640x480 with 1 Axes>"
      ]
     },
     "metadata": {},
     "output_type": "display_data"
    }
   ],
   "source": [
    "import matplotlib.pyplot as plt\n",
    "\n",
    "plt.plot(losses)\n",
    "\n",
    "plt.xlabel('Anahl Iterationen')\n",
    "plt.ylabel('Training loss')"
   ]
  },
  {
   "cell_type": "markdown",
   "id": "ef16c34e-b926-4d73-9bef-7c33f9e6e9cd",
   "metadata": {},
   "source": [
    "- Classification of the training dataset (Note: For the sake of simplicity, model validation by splitting the initial data corpus into training, validation, and test data paritions was not performed in this case. The aim of the task was primarily to introduce and present how to design a `softmax regression classifier`. In practice, of course, such partitioning is carried out in advance\n",
    "- Call the `predict` function of the `my_soft_regressor` object with respect to the standardized training data corpus\n",
    "- How to handle a threshold operation also in the case of `softmax` regressor?"
   ]
  },
  {
   "cell_type": "code",
   "execution_count": 17,
   "id": "e80ab095",
   "metadata": {},
   "outputs": [
    {
     "data": {
      "text/plain": [
       "array([0, 0, 0, 0, 0, 0, 0, 0, 0, 0, 0, 0, 0, 0, 0, 0, 0, 0, 0, 0, 0, 0,\n",
       "       0, 0, 0, 0, 0, 0, 0, 0, 0, 0, 0, 0, 0, 0, 0, 0, 0, 0, 0, 0, 0, 0,\n",
       "       0, 0, 0, 0, 0, 0, 1, 1, 1, 1, 1, 1, 1, 1, 1, 1, 1, 1, 1, 1, 1, 1,\n",
       "       1, 1, 1, 1, 2, 1, 1, 1, 1, 1, 1, 2, 1, 1, 1, 1, 1, 2, 1, 1, 1, 1,\n",
       "       1, 1, 1, 1, 1, 1, 1, 1, 1, 1, 1, 1, 2, 2, 2, 2, 2, 2, 1, 2, 2, 2,\n",
       "       2, 2, 2, 2, 2, 2, 2, 2, 2, 1, 2, 2, 2, 2, 2, 2, 2, 2, 2, 2, 2, 2,\n",
       "       2, 1, 1, 2, 2, 2, 2, 2, 2, 2, 2, 2, 2, 2, 2, 2, 2, 2])"
      ]
     },
     "execution_count": 17,
     "metadata": {},
     "output_type": "execute_result"
    }
   ],
   "source": [
    "my_soft_reg.predict(std_trains)"
   ]
  },
  {
   "cell_type": "code",
   "execution_count": null,
   "id": "f7c655df",
   "metadata": {},
   "outputs": [],
   "source": []
  }
 ],
 "metadata": {
  "kernelspec": {
   "display_name": "Python 3 (ipykernel)",
   "language": "python",
   "name": "python3"
  },
  "language_info": {
   "codemirror_mode": {
    "name": "ipython",
    "version": 3
   },
   "file_extension": ".py",
   "mimetype": "text/x-python",
   "name": "python",
   "nbconvert_exporter": "python",
   "pygments_lexer": "ipython3",
   "version": "3.10.12"
  }
 },
 "nbformat": 4,
 "nbformat_minor": 5
}
