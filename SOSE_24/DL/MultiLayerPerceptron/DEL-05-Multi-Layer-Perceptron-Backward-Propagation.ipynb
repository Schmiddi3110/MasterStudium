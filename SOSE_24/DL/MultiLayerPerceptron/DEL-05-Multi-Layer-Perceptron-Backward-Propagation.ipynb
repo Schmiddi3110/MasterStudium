{
 "cells": [
  {
   "cell_type": "markdown",
   "id": "portable-honolulu",
   "metadata": {},
   "source": [
    "## DEL-03 Programming Excercise - Multi-Layer Perceptron - Backward Propagation\n",
    "### (created by Prof. Dr.-Ing. Christian Bergler & Prof. Dr. Fabian Brunner)\n",
    "\n",
    "Documentation: **Python-Bibliothek Pandas** - https://pandas.pydata.org/docs/\n",
    "\n",
    "Documentation: **Numpy** - https://numpy.org/doc/\n",
    "\n",
    "Documentation: **Sklearn** - https://scikit-learn.org/stable/index.html\n",
    "\n",
    "Documentation: **Matplotlib** - Documentation: https://matplotlib.org/stable/index.html\n",
    "\n",
    "Documentation: **Matplotlib** - Graphics Gallery: https://matplotlib.org/2.0.2/gallery.html\n",
    "\n",
    "Additional Documentation: **Python Tutorial** - https://docs.python.org/3/tutorial/\n",
    "\n",
    "Additional Documentation: **Matthes Eric, \"Python crash course: A hands-on, project-based introduction to programming\"**, ISBN: 978-1-59327-603-4, ©2023 no starch press  "
   ]
  },
  {
   "cell_type": "code",
   "execution_count": 1,
   "id": "775f02d0-0a43-4e74-ba20-2dd6e31d4c02",
   "metadata": {},
   "outputs": [],
   "source": [
    "import pandas as pd\n",
    "import numpy as np"
   ]
  },
  {
   "cell_type": "markdown",
   "id": "b4cf35aa-e63a-4614-82fd-bdd0930bc58e",
   "metadata": {},
   "source": [
    "### Task DEL-03-1 (Sigmoid Function)"
   ]
  },
  {
   "cell_type": "code",
   "execution_count": 95,
   "id": "c36ae757-3573-4d06-a17c-85dc653400fe",
   "metadata": {},
   "outputs": [],
   "source": [
    "def sigmoid(x):\n",
    "    return 1/(1+np.exp(-x))\n",
    "\n",
    "def sigmoid_derivative(Z):\n",
    "    return sigmoid(Z) * (1 - sigmoid(Z))"
   ]
  },
  {
   "cell_type": "markdown",
   "id": "english-abraham",
   "metadata": {},
   "source": [
    "### Task DEL-03-2 (Softmax Activation Function)"
   ]
  },
  {
   "cell_type": "code",
   "execution_count": 96,
   "id": "374b557d-ae54-4d6f-a28b-9e77c7a7b0e8",
   "metadata": {},
   "outputs": [],
   "source": [
    "def softmax(O):\n",
    "    O_exp = np.exp(O - np.max(O, axis=1, keepdims=True))\n",
    "    partition = O_exp.sum(axis=1, keepdims=True)\n",
    "    return O_exp / partition"
   ]
  },
  {
   "cell_type": "markdown",
   "id": "3a1b155c-caf8-4e0a-88d8-360297444f30",
   "metadata": {},
   "source": [
    "### Task DEL-03-3 (Implementation Multi-Layer Perceptron for Classification)"
   ]
  },
  {
   "cell_type": "markdown",
   "id": "7c9712ba-b48e-4229-8a2e-4bdb22ce3317",
   "metadata": {},
   "source": [
    "In this and the next exercise, an `Multi-Layer Perceptron (Deep Feed Forward Neural Network)`  for classification is to be implemented from scratch. The topology of the network is to be specified using a list called `nodes_per_layer`. The $i$th entry specifies how many nodes the $i$th layer consists of. The number of layers can be arbitrary. The number of classes corresponds to the number of nodes in the output layer. \n",
    "\n",
    "Example: ``nodes_per_layer = [4,5,3]`` would realize a network with 4 nodes in the input layer, 5 nodes in the hidden layer and 3 nodes in the output layer.\n",
    "\n",
    "Now that forward propagation has already been implemented in the other exercise, model training is to be implemented using the gradient (descent) method. To do this, complete the following class ``DeepFeedForward``. The gradient calculation should be carried out using the backpropagation algorithm presented in the lecture. In addition to the implementation of the ``fit`` method, a modification of the ``forward`` method is recommended by saving the `inputs` and `activations of the hidden layers` calculated during the forward propagation. These are accessed in the course of back propagation."
   ]
  },
  {
   "cell_type": "markdown",
   "id": "0c61402c-a356-4072-9987-973fbc6762f7",
   "metadata": {},
   "source": [
    "#### Equation for Backpropagation (Recap!)"
   ]
  },
  {
   "cell_type": "markdown",
   "id": "3413ed4f-99b6-4514-9afa-07ff22db93e6",
   "metadata": {},
   "source": [
    "- Rekursive Berechnung der Größen $\\delta^{[l]}$:\n",
    "\n",
    "$$\\begin{align*}\n",
    "\\delta^{[L]}&=\\nabla_{\\hat{y}}L \\odot ({f^{[L]}})'(z^{[L]})~,\\\\[0.2cm]\n",
    "\\delta^{[l]}&={\\mathbf{W}^{[l+1]}}\\delta^{[l+1]}\\odot{(f^{[l]}})'(z^{[l]})~,\\quad l=L-1,\\ldots,1\n",
    "\\end{align*}$$"
   ]
  },
  {
   "cell_type": "markdown",
   "id": "bc0c6cae-e6f4-4660-aa60-8b4382140a8d",
   "metadata": {},
   "source": [
    "- Calculation of the partial derivatives according to the weights as a function of the variables $\\delta^{[l]}$:\n",
    "\n",
    "$$\\begin{align*}\n",
    "\\frac{\\partial L}{\\partial b_j^{[l]}}&=\\delta^{[l]}_j~,\\quad l=1,\\ldots,L\\\\[0.2cm]\n",
    "\\frac{\\partial L}{\\partial w^{[l]}_{kj}}&=h_k^{[l-1]}\\delta_j^{[l]}~,\\quad l=1,\\ldots,L~.\n",
    "\\end{align*}\n",
    "$$"
   ]
  },
  {
   "cell_type": "code",
   "execution_count": 97,
   "id": "e799bd80-dae4-40d2-9cf8-44ae35d0b9e8",
   "metadata": {},
   "outputs": [],
   "source": [
    "import numpy as np\n",
    "\n",
    "class DeepFeedForward:\n",
    "    def __init__(self, nodes_per_layer, lr=1.0, num_iter=100):\n",
    "        self.learning_rate = lr\n",
    "        self.num_iter = num_iter\n",
    "        self.n_layers = len(nodes_per_layer)\n",
    "        self.nodes_per_layer = nodes_per_layer\n",
    "        self.n_classes = nodes_per_layer[-1]\n",
    "        self.weight_matrices = []\n",
    "        self.bias_vectors = []\n",
    "        self.initialize_weights()\n",
    "\n",
    "    def initialize_weights(self):\n",
    "        np.random.seed(42)\n",
    "        self.weight_matrices = [\n",
    "            np.random.randn(self.nodes_per_layer[i], self.nodes_per_layer[i - 1])\n",
    "            for i in range(1, self.n_layers)\n",
    "        ]\n",
    "        self.bias_vectors = [\n",
    "            np.random.randn(self.nodes_per_layer[i], 1)\n",
    "            for i in range(1, self.n_layers)\n",
    "        ]\n",
    "\n",
    "    def forward(self, X):\n",
    "        layer_inputs = []\n",
    "        layer_outputs = []\n",
    "        \n",
    "        A = X.T\n",
    "        for i in range(self.n_layers - 2):\n",
    "            Z = np.dot(self.weight_matrices[i], A) + self.bias_vectors[i]\n",
    "            A = sigmoid(Z)\n",
    "            layer_inputs.append(Z)\n",
    "            layer_outputs.append(A)\n",
    "        \n",
    "        Z = np.dot(self.weight_matrices[-1], A) + self.bias_vectors[-1]\n",
    "        A = softmax(Z)\n",
    "        layer_inputs.append(Z)\n",
    "        layer_outputs.append(A)\n",
    "        \n",
    "        self.layer_inputs = layer_inputs\n",
    "        self.layer_outputs = layer_outputs\n",
    "        \n",
    "        return A.T\n",
    "\n",
    "    def compute_loss(self, Y, Y_hat):\n",
    "        m = Y.shape[0]\n",
    "        return -np.sum(Y * np.log(Y_hat.T+ 1e-8)) / m\n",
    "\n",
    "    def backward(self, X, Y):\n",
    "        m = X.shape[0]\n",
    "        dW = [0] * (self.n_layers - 1)\n",
    "        dB = [0] * (self.n_layers - 1)\n",
    "        \n",
    "        dZ = self.layer_outputs[-1] - Y\n",
    "        for i in reversed(range(self.n_layers - 1)):\n",
    "            dW[i] = np.dot(dZ, self.layer_outputs[i - 1].T) / m if i > 0 else np.dot(dZ, X)\n",
    "            dB[i] = np.sum(dZ, axis=1, keepdims=True) / m\n",
    "            \n",
    "            if i > 0:\n",
    "                dA_prev = np.dot(self.weight_matrices[i].T, dZ)\n",
    "                dZ = dA_prev * sigmoid_derivative(self.layer_inputs[i - 1])\n",
    "        \n",
    "        return dW, dB\n",
    "\n",
    "    def update_parameters(self, dW, dB):\n",
    "        for i in range(self.n_layers - 1):\n",
    "            self.weight_matrices[i] -= self.learning_rate * dW[i]\n",
    "            self.bias_vectors[i] -= self.learning_rate * dB[i]\n",
    "\n",
    "    def fit(self, X, y):\n",
    "        Y = np.eye(self.n_classes)[y].T\n",
    "        loss_history = []\n",
    "        \n",
    "        for i in range(self.num_iter):\n",
    "            Y_hat = self.forward(X)\n",
    "            loss = self.compute_loss(Y, Y_hat)\n",
    "            loss_history.append(loss)\n",
    "            \n",
    "            dW, dB = self.backward(X, Y)\n",
    "            self.update_parameters(dW, dB)\n",
    "            \n",
    "            if i % 10 == 0:\n",
    "                print(f\"Iteration {i}, Loss: {loss}\")\n",
    "        \n",
    "        return loss_history\n",
    "\n",
    "    def predict(self, X):\n",
    "        Y_hat = self.forward(X)\n",
    "        return np.argmax(Y_hat, axis=1)\n"
   ]
  },
  {
   "cell_type": "markdown",
   "id": "resistant-scroll",
   "metadata": {},
   "source": [
    "### Task DEL-03-4 (Testing Implemented Backward Propagation)"
   ]
  },
  {
   "cell_type": "markdown",
   "id": "cutting-status",
   "metadata": {},
   "source": [
    "- Create a new `DeepFeedForward` object with `4 input neurons, 10 hidden neurons, and 3 output neurons`\n",
    "- learning rate of `lr=0.2`, and maximum iterations `num_iter=300`\n",
    "- Initialize `weights` and `biases`\n",
    "- Train the model using `fit`\n",
    "- Evaluate using `predict` and `plot` (matplotlib) the `loss` curve"
   ]
  },
  {
   "cell_type": "code",
   "execution_count": 110,
   "id": "animal-simple",
   "metadata": {},
   "outputs": [],
   "source": [
    "import numpy as np\n",
    "from sklearn import datasets\n",
    "from sklearn.model_selection import train_test_split\n",
    "from sklearn.preprocessing import StandardScaler\n",
    "\n",
    "iris = datasets.load_iris()\n",
    "X = iris.data \n",
    "Y = iris.target"
   ]
  },
  {
   "cell_type": "code",
   "execution_count": 117,
   "id": "identical-conflict",
   "metadata": {},
   "outputs": [],
   "source": [
    "# Split into training and test sets\n",
    "X_train, X_test, y_train, y_test = train_test_split(X, Y, test_size=0.2, random_state=42)\n",
    "\n",
    "# Normalize the features\n",
    "scaler = StandardScaler()\n",
    "X_train = scaler.fit_transform(X_train)\n",
    "X_test = scaler.transform(X_test)\n",
    "\n",
    "# Initialize and train the DeepFeedForward model\n",
    "model = DeepFeedForward([4,10,10,3], lr=0.2, num_iter=300)\n",
    "model.initialize_weights()"
   ]
  },
  {
   "cell_type": "code",
   "execution_count": 118,
   "id": "peaceful-heater",
   "metadata": {},
   "outputs": [
    {
     "name": "stdout",
     "output_type": "stream",
     "text": [
      "Iteration 0, Loss: 224.13353018981948\n",
      "Iteration 10, Loss: 164.40546595366052\n",
      "Iteration 20, Loss: 163.02632966837572\n",
      "Iteration 30, Loss: 162.3402360749208\n",
      "Iteration 40, Loss: 162.2990518693749\n",
      "Iteration 50, Loss: 162.57522843365714\n",
      "Iteration 60, Loss: 163.14201824513515\n",
      "Iteration 70, Loss: 163.6497003698394\n",
      "Iteration 80, Loss: 164.6350717193394\n",
      "Iteration 90, Loss: 165.04167456831098\n",
      "Iteration 100, Loss: 165.62204064834424\n",
      "Iteration 110, Loss: 165.7026935902342\n",
      "Iteration 120, Loss: 165.85167602072386\n",
      "Iteration 130, Loss: 165.92080333668727\n",
      "Iteration 140, Loss: 165.94980757969412\n",
      "Iteration 150, Loss: 165.96871186137352\n",
      "Iteration 160, Loss: 165.9825752860994\n",
      "Iteration 170, Loss: 165.99367158866497\n",
      "Iteration 180, Loss: 166.00285954514553\n",
      "Iteration 190, Loss: 166.0106795362631\n",
      "Iteration 200, Loss: 166.01763470954415\n",
      "Iteration 210, Loss: 166.0243209382132\n",
      "Iteration 220, Loss: 166.03158401126146\n",
      "Iteration 230, Loss: 166.04021621209165\n",
      "Iteration 240, Loss: 166.0478019028168\n",
      "Iteration 250, Loss: 166.05010283104178\n",
      "Iteration 260, Loss: 166.05084263883913\n",
      "Iteration 270, Loss: 166.05179907117335\n",
      "Iteration 280, Loss: 166.05300948412756\n",
      "Iteration 290, Loss: 166.05436525344794\n"
     ]
    }
   ],
   "source": [
    "# Fit the model\n",
    "loss_history = model.fit(X_train, y_train)\n",
    "\n",
    "# Predict on the test set\n",
    "y_pred = model.predict(X_test)"
   ]
  },
  {
   "cell_type": "code",
   "execution_count": 119,
   "id": "d27f4764",
   "metadata": {},
   "outputs": [
    {
     "data": {
      "image/png": "[encoded data removed]",
      "text/plain": [
       "<Figure size 640x480 with 1 Axes>"
      ]
     },
     "metadata": {},
     "output_type": "display_data"
    }
   ],
   "source": [
    "# Plotting the loss history\n",
    "import matplotlib.pyplot as plt\n",
    "\n",
    "plt.plot(loss_history)\n",
    "plt.xlabel('Iteration')\n",
    "plt.ylabel('Loss')\n",
    "plt.title('Loss history')\n",
    "plt.show()"
   ]
  },
  {
   "cell_type": "markdown",
   "id": "7dc1fe23-6071-4786-bb21-ee692dc080c0",
   "metadata": {},
   "source": [
    "#### Model Training\n",
    "\n",
    "- Train the `DeepFeedForward` neural network, using the implemented ``fit`` method and `plot` the progression of the loss function over time. How does the curve differ from the curve you observed with the `logistic regression` and the `softmax` regression? Explain!"
   ]
  },
  {
   "cell_type": "code",
   "execution_count": 104,
   "id": "24b2455c-8260-40be-828b-06f100825f9a",
   "metadata": {},
   "outputs": [
    {
     "name": "stdout",
     "output_type": "stream",
     "text": [
      "Iteration 0, Loss: 220.12496992401202\n",
      "Iteration 10, Loss: 165.08134329209815\n",
      "Iteration 20, Loss: 165.82458494173986\n",
      "Iteration 30, Loss: 169.22225287947077\n",
      "Iteration 40, Loss: 175.69760928393518\n",
      "Iteration 50, Loss: 178.10240828418569\n",
      "Iteration 60, Loss: 187.74960082348775\n",
      "Iteration 70, Loss: 201.0654744629145\n",
      "Iteration 80, Loss: 223.1867132635684\n",
      "Iteration 90, Loss: 242.46649731810112\n",
      "Iteration 100, Loss: 242.28889566524796\n",
      "Iteration 110, Loss: 272.43014336823234\n",
      "Iteration 120, Loss: 296.11375180566716\n",
      "Iteration 130, Loss: 294.74927480122443\n",
      "Iteration 140, Loss: 362.87846250772856\n",
      "Iteration 150, Loss: 345.3029101906777\n",
      "Iteration 160, Loss: 346.07415088452944\n",
      "Iteration 170, Loss: 343.3280848272734\n",
      "Iteration 180, Loss: 387.04086659507897\n",
      "Iteration 190, Loss: 416.9703259282267\n",
      "Iteration 200, Loss: 389.29542588955036\n",
      "Iteration 210, Loss: 367.77617327938884\n",
      "Iteration 220, Loss: 410.19761301128165\n",
      "Iteration 230, Loss: 461.48512822836466\n",
      "Iteration 240, Loss: 411.3879355896349\n",
      "Iteration 250, Loss: 427.6383449386382\n",
      "Iteration 260, Loss: 447.5857962136376\n",
      "Iteration 270, Loss: 472.7676760497346\n",
      "Iteration 280, Loss: 413.37444758870646\n",
      "Iteration 290, Loss: 370.0160490278228\n"
     ]
    }
   ],
   "source": [
    "# Load the Iris dataset\n",
    "iris = datasets.load_iris()\n",
    "X = iris.data\n",
    "y = iris.target\n",
    "\n",
    "# Split into training and test sets\n",
    "X_train, X_test, y_train, y_test = train_test_split(X, y, test_size=0.2, random_state=42)\n",
    "\n",
    "# Normalize the features\n",
    "scaler = StandardScaler()\n",
    "X_train = scaler.fit_transform(X_train)\n",
    "X_test = scaler.transform(X_test)\n",
    "\n",
    "# Initialize and train the DeepFeedForward model\n",
    "nodes_per_layer = [4, 10, 3]\n",
    "model = DeepFeedForward(nodes_per_layer, lr=0.2, num_iter=300)\n",
    "\n",
    "# Fit the model\n",
    "loss_history = model.fit(X_train, y_train)"
   ]
  },
  {
   "cell_type": "code",
   "execution_count": 105,
   "id": "81a0950b",
   "metadata": {},
   "outputs": [
    {
     "data": {
      "image/png": "[encoded data removed]",
      "text/plain": [
       "<Figure size 640x480 with 1 Axes>"
      ]
     },
     "metadata": {},
     "output_type": "display_data"
    }
   ],
   "source": []
  },
  {
   "cell_type": "code",
   "execution_count": null,
   "id": "fde7109a",
   "metadata": {},
   "outputs": [],
   "source": []
  }
 ],
 "metadata": {
  "kernelspec": {
   "display_name": "Python 3 (ipykernel)",
   "language": "python",
   "name": "python3"
  },
  "language_info": {
   "codemirror_mode": {
    "name": "ipython",
    "version": 3
   },
   "file_extension": ".py",
   "mimetype": "text/x-python",
   "name": "python",
   "nbconvert_exporter": "python",
   "pygments_lexer": "ipython3",
   "version": "3.10.12"
  }
 },
 "nbformat": 4,
 "nbformat_minor": 5
}
