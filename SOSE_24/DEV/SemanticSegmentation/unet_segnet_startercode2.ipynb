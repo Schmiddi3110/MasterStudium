{
 "cells": [
  {
   "cell_type": "markdown",
   "metadata": {},
   "source": [
    "### UNet and SegNet \n",
    "### Task 2: \n",
    "    * Extend a UNet and a SegNet by adding residual connections in the encoder and decoder\n",
    "    * Train the models and check the Dice coefficients"
   ]
  },
  {
   "cell_type": "code",
   "execution_count": 1,
   "metadata": {},
   "outputs": [
    {
     "name": "stdout",
     "output_type": "stream",
     "text": [
      "UNet(\n",
      "  (encoder1): Sequential(\n",
      "    (enc1conv1): Conv2d(3, 32, kernel_size=(3, 3), stride=(1, 1), padding=(1, 1), bias=False)\n",
      "    (enc1norm1): BatchNorm2d(32, eps=1e-05, momentum=0.1, affine=True, track_running_stats=True)\n",
      "    (enc1relu1): ReLU(inplace=True)\n",
      "    (enc1conv2): Conv2d(32, 32, kernel_size=(3, 3), stride=(1, 1), padding=(1, 1), bias=False)\n",
      "    (enc1norm2): BatchNorm2d(32, eps=1e-05, momentum=0.1, affine=True, track_running_stats=True)\n",
      "    (enc1relu2): ReLU(inplace=True)\n",
      "  )\n",
      "  (pool1): MaxPool2d(kernel_size=2, stride=2, padding=0, dilation=1, ceil_mode=False)\n",
      "  (encoder2): Sequential(\n",
      "    (enc2conv1): Conv2d(32, 64, kernel_size=(3, 3), stride=(1, 1), padding=(1, 1), bias=False)\n",
      "    (enc2norm1): BatchNorm2d(64, eps=1e-05, momentum=0.1, affine=True, track_running_stats=True)\n",
      "    (enc2relu1): ReLU(inplace=True)\n",
      "    (enc2conv2): Conv2d(64, 64, kernel_size=(3, 3), stride=(1, 1), padding=(1, 1), bias=False)\n",
      "    (enc2norm2): BatchNorm2d(64, eps=1e-05, momentum=0.1, affine=True, track_running_stats=True)\n",
      "    (enc2relu2): ReLU(inplace=True)\n",
      "  )\n",
      "  (pool2): MaxPool2d(kernel_size=2, stride=2, padding=0, dilation=1, ceil_mode=False)\n",
      "  (encoder3): Sequential(\n",
      "    (enc3conv1): Conv2d(64, 128, kernel_size=(3, 3), stride=(1, 1), padding=(1, 1), bias=False)\n",
      "    (enc3norm1): BatchNorm2d(128, eps=1e-05, momentum=0.1, affine=True, track_running_stats=True)\n",
      "    (enc3relu1): ReLU(inplace=True)\n",
      "    (enc3conv2): Conv2d(128, 128, kernel_size=(3, 3), stride=(1, 1), padding=(1, 1), bias=False)\n",
      "    (enc3norm2): BatchNorm2d(128, eps=1e-05, momentum=0.1, affine=True, track_running_stats=True)\n",
      "    (enc3relu2): ReLU(inplace=True)\n",
      "  )\n",
      "  (pool3): MaxPool2d(kernel_size=2, stride=2, padding=0, dilation=1, ceil_mode=False)\n",
      "  (encoder4): Sequential(\n",
      "    (enc4conv1): Conv2d(128, 256, kernel_size=(3, 3), stride=(1, 1), padding=(1, 1), bias=False)\n",
      "    (enc4norm1): BatchNorm2d(256, eps=1e-05, momentum=0.1, affine=True, track_running_stats=True)\n",
      "    (enc4relu1): ReLU(inplace=True)\n",
      "    (enc4conv2): Conv2d(256, 256, kernel_size=(3, 3), stride=(1, 1), padding=(1, 1), bias=False)\n",
      "    (enc4norm2): BatchNorm2d(256, eps=1e-05, momentum=0.1, affine=True, track_running_stats=True)\n",
      "    (enc4relu2): ReLU(inplace=True)\n",
      "  )\n",
      "  (pool4): MaxPool2d(kernel_size=2, stride=2, padding=0, dilation=1, ceil_mode=False)\n",
      "  (bottleneck): Sequential(\n",
      "    (bottleneckconv1): Conv2d(256, 512, kernel_size=(3, 3), stride=(1, 1), padding=(1, 1), bias=False)\n",
      "    (bottlenecknorm1): BatchNorm2d(512, eps=1e-05, momentum=0.1, affine=True, track_running_stats=True)\n",
      "    (bottleneckrelu1): ReLU(inplace=True)\n",
      "    (bottleneckconv2): Conv2d(512, 512, kernel_size=(3, 3), stride=(1, 1), padding=(1, 1), bias=False)\n",
      "    (bottlenecknorm2): BatchNorm2d(512, eps=1e-05, momentum=0.1, affine=True, track_running_stats=True)\n",
      "    (bottleneckrelu2): ReLU(inplace=True)\n",
      "  )\n",
      "  (upconv4): ConvTranspose2d(512, 256, kernel_size=(2, 2), stride=(2, 2))\n",
      "  (decoder4): Sequential(\n",
      "    (dec4conv1): Conv2d(512, 256, kernel_size=(3, 3), stride=(1, 1), padding=(1, 1), bias=False)\n",
      "    (dec4norm1): BatchNorm2d(256, eps=1e-05, momentum=0.1, affine=True, track_running_stats=True)\n",
      "    (dec4relu1): ReLU(inplace=True)\n",
      "    (dec4conv2): Conv2d(256, 256, kernel_size=(3, 3), stride=(1, 1), padding=(1, 1), bias=False)\n",
      "    (dec4norm2): BatchNorm2d(256, eps=1e-05, momentum=0.1, affine=True, track_running_stats=True)\n",
      "    (dec4relu2): ReLU(inplace=True)\n",
      "  )\n",
      "  (upconv3): ConvTranspose2d(256, 128, kernel_size=(2, 2), stride=(2, 2))\n",
      "  (decoder3): Sequential(\n",
      "    (dec3conv1): Conv2d(256, 128, kernel_size=(3, 3), stride=(1, 1), padding=(1, 1), bias=False)\n",
      "    (dec3norm1): BatchNorm2d(128, eps=1e-05, momentum=0.1, affine=True, track_running_stats=True)\n",
      "    (dec3relu1): ReLU(inplace=True)\n",
      "    (dec3conv2): Conv2d(128, 128, kernel_size=(3, 3), stride=(1, 1), padding=(1, 1), bias=False)\n",
      "    (dec3norm2): BatchNorm2d(128, eps=1e-05, momentum=0.1, affine=True, track_running_stats=True)\n",
      "    (dec3relu2): ReLU(inplace=True)\n",
      "  )\n",
      "  (upconv2): ConvTranspose2d(128, 64, kernel_size=(2, 2), stride=(2, 2))\n",
      "  (decoder2): Sequential(\n",
      "    (dec2conv1): Conv2d(128, 64, kernel_size=(3, 3), stride=(1, 1), padding=(1, 1), bias=False)\n",
      "    (dec2norm1): BatchNorm2d(64, eps=1e-05, momentum=0.1, affine=True, track_running_stats=True)\n",
      "    (dec2relu1): ReLU(inplace=True)\n",
      "    (dec2conv2): Conv2d(64, 64, kernel_size=(3, 3), stride=(1, 1), padding=(1, 1), bias=False)\n",
      "    (dec2norm2): BatchNorm2d(64, eps=1e-05, momentum=0.1, affine=True, track_running_stats=True)\n",
      "    (dec2relu2): ReLU(inplace=True)\n",
      "  )\n",
      "  (upconv1): ConvTranspose2d(64, 32, kernel_size=(2, 2), stride=(2, 2))\n",
      "  (decoder1): Sequential(\n",
      "    (dec1conv1): Conv2d(64, 32, kernel_size=(3, 3), stride=(1, 1), padding=(1, 1), bias=False)\n",
      "    (dec1norm1): BatchNorm2d(32, eps=1e-05, momentum=0.1, affine=True, track_running_stats=True)\n",
      "    (dec1relu1): ReLU(inplace=True)\n",
      "    (dec1conv2): Conv2d(32, 32, kernel_size=(3, 3), stride=(1, 1), padding=(1, 1), bias=False)\n",
      "    (dec1norm2): BatchNorm2d(32, eps=1e-05, momentum=0.1, affine=True, track_running_stats=True)\n",
      "    (dec1relu2): ReLU(inplace=True)\n",
      "  )\n",
      "  (conv): Conv2d(32, 2, kernel_size=(1, 1), stride=(1, 1))\n",
      ")\n",
      "----------------------------------------------------------------\n",
      "        Layer (type)               Output Shape         Param #\n",
      "================================================================\n",
      "            Conv2d-1         [-1, 32, 256, 256]             864\n",
      "       BatchNorm2d-2         [-1, 32, 256, 256]              64\n",
      "              ReLU-3         [-1, 32, 256, 256]               0\n",
      "            Conv2d-4         [-1, 32, 256, 256]           9,216\n",
      "       BatchNorm2d-5         [-1, 32, 256, 256]              64\n",
      "              ReLU-6         [-1, 32, 256, 256]               0\n",
      "         MaxPool2d-7         [-1, 32, 128, 128]               0\n",
      "            Conv2d-8         [-1, 64, 128, 128]          18,432\n",
      "       BatchNorm2d-9         [-1, 64, 128, 128]             128\n",
      "             ReLU-10         [-1, 64, 128, 128]               0\n",
      "           Conv2d-11         [-1, 64, 128, 128]          36,864\n",
      "      BatchNorm2d-12         [-1, 64, 128, 128]             128\n",
      "             ReLU-13         [-1, 64, 128, 128]               0\n",
      "        MaxPool2d-14           [-1, 64, 64, 64]               0\n",
      "           Conv2d-15          [-1, 128, 64, 64]          73,728\n",
      "      BatchNorm2d-16          [-1, 128, 64, 64]             256\n",
      "             ReLU-17          [-1, 128, 64, 64]               0\n",
      "           Conv2d-18          [-1, 128, 64, 64]         147,456\n",
      "      BatchNorm2d-19          [-1, 128, 64, 64]             256\n",
      "             ReLU-20          [-1, 128, 64, 64]               0\n",
      "        MaxPool2d-21          [-1, 128, 32, 32]               0\n",
      "           Conv2d-22          [-1, 256, 32, 32]         294,912\n",
      "      BatchNorm2d-23          [-1, 256, 32, 32]             512\n",
      "             ReLU-24          [-1, 256, 32, 32]               0\n",
      "           Conv2d-25          [-1, 256, 32, 32]         589,824\n",
      "      BatchNorm2d-26          [-1, 256, 32, 32]             512\n",
      "             ReLU-27          [-1, 256, 32, 32]               0\n",
      "        MaxPool2d-28          [-1, 256, 16, 16]               0\n",
      "           Conv2d-29          [-1, 512, 16, 16]       1,179,648\n",
      "      BatchNorm2d-30          [-1, 512, 16, 16]           1,024\n",
      "             ReLU-31          [-1, 512, 16, 16]               0\n",
      "           Conv2d-32          [-1, 512, 16, 16]       2,359,296\n",
      "      BatchNorm2d-33          [-1, 512, 16, 16]           1,024\n",
      "             ReLU-34          [-1, 512, 16, 16]               0\n",
      "  ConvTranspose2d-35          [-1, 256, 32, 32]         524,544\n",
      "           Conv2d-36          [-1, 256, 32, 32]       1,179,648\n",
      "      BatchNorm2d-37          [-1, 256, 32, 32]             512\n",
      "             ReLU-38          [-1, 256, 32, 32]               0\n",
      "           Conv2d-39          [-1, 256, 32, 32]         589,824\n",
      "      BatchNorm2d-40          [-1, 256, 32, 32]             512\n",
      "             ReLU-41          [-1, 256, 32, 32]               0\n",
      "  ConvTranspose2d-42          [-1, 128, 64, 64]         131,200\n",
      "           Conv2d-43          [-1, 128, 64, 64]         294,912\n",
      "      BatchNorm2d-44          [-1, 128, 64, 64]             256\n",
      "             ReLU-45          [-1, 128, 64, 64]               0\n",
      "           Conv2d-46          [-1, 128, 64, 64]         147,456\n",
      "      BatchNorm2d-47          [-1, 128, 64, 64]             256\n",
      "             ReLU-48          [-1, 128, 64, 64]               0\n",
      "  ConvTranspose2d-49         [-1, 64, 128, 128]          32,832\n",
      "           Conv2d-50         [-1, 64, 128, 128]          73,728\n",
      "      BatchNorm2d-51         [-1, 64, 128, 128]             128\n",
      "             ReLU-52         [-1, 64, 128, 128]               0\n",
      "           Conv2d-53         [-1, 64, 128, 128]          36,864\n",
      "      BatchNorm2d-54         [-1, 64, 128, 128]             128\n",
      "             ReLU-55         [-1, 64, 128, 128]               0\n",
      "  ConvTranspose2d-56         [-1, 32, 256, 256]           8,224\n",
      "           Conv2d-57         [-1, 32, 256, 256]          18,432\n",
      "      BatchNorm2d-58         [-1, 32, 256, 256]              64\n",
      "             ReLU-59         [-1, 32, 256, 256]               0\n",
      "           Conv2d-60         [-1, 32, 256, 256]           9,216\n",
      "      BatchNorm2d-61         [-1, 32, 256, 256]              64\n",
      "             ReLU-62         [-1, 32, 256, 256]               0\n",
      "           Conv2d-63          [-1, 2, 256, 256]              66\n",
      "================================================================\n",
      "Total params: 7,763,074\n",
      "Trainable params: 7,763,074\n",
      "Non-trainable params: 0\n",
      "----------------------------------------------------------------\n",
      "Input size (MB): 0.75\n",
      "Forward/backward pass size (MB): 404.50\n",
      "Params size (MB): 29.61\n",
      "Estimated Total Size (MB): 434.86\n",
      "----------------------------------------------------------------\n"
     ]
    },
    {
     "data": {
      "text/plain": [
       "tensor([[[[-0.5217,  0.3626, -0.0403,  ...,  0.1423, -0.2762, -0.1289],\n",
       "          [-0.0466,  0.0416, -0.0660,  ...,  0.0212, -0.2253,  0.1448],\n",
       "          [ 0.3894,  0.4534,  0.0098,  ..., -0.4448,  0.3847,  0.4533],\n",
       "          ...,\n",
       "          [-0.0154,  0.0557,  0.0581,  ..., -0.2072,  0.4322,  0.0344],\n",
       "          [ 0.0693,  0.2646,  0.2603,  ...,  0.1213, -0.5606,  0.1334],\n",
       "          [-0.0414, -0.0269,  0.0443,  ...,  0.3844, -0.5279, -0.0216]],\n",
       "\n",
       "         [[-0.7257, -0.7180, -0.4772,  ..., -0.6876, -0.6366, -0.7211],\n",
       "          [-0.8394, -0.5561, -1.3861,  ..., -0.3784, -0.6809, -0.7418],\n",
       "          [-0.9864, -0.8573, -1.2452,  ..., -0.4604, -0.4483,  0.0303],\n",
       "          ...,\n",
       "          [-0.9923, -0.1752, -1.4478,  ..., -0.5660, -0.7938,  0.0686],\n",
       "          [-0.4316, -0.7457, -0.8881,  ..., -0.8723, -0.5873, -0.9424],\n",
       "          [-0.2837, -0.3492, -0.4152,  ..., -0.6165, -0.2235, -0.1497]]]],\n",
       "       device='cuda:0', grad_fn=<ConvolutionBackward0>)"
      ]
     },
     "execution_count": 1,
     "metadata": {},
     "output_type": "execute_result"
    }
   ],
   "source": [
    "from collections import OrderedDict\n",
    "\n",
    "import torch\n",
    "import torch.nn as nn\n",
    "\n",
    "import torchsummary as summary\n",
    "\n",
    "\n",
    "class UNet(nn.Module):\n",
    "\n",
    "    def __init__(self, in_channels=3, out_channels=1, init_features=32):\n",
    "        super(UNet, self).__init__()\n",
    "\n",
    "        features = init_features\n",
    "        self.encoder1 = UNet._block(in_channels, features, name=\"enc1\")\n",
    "        self.pool1 = nn.MaxPool2d(kernel_size=2, stride=2)\n",
    "        self.encoder2 = UNet._block(features, features * 2, name=\"enc2\")\n",
    "        self.pool2 = nn.MaxPool2d(kernel_size=2, stride=2)\n",
    "        self.encoder3 = UNet._block(features * 2, features * 4, name=\"enc3\")\n",
    "        self.pool3 = nn.MaxPool2d(kernel_size=2, stride=2)\n",
    "        self.encoder4 = UNet._block(features * 4, features * 8, name=\"enc4\")\n",
    "        self.pool4 = nn.MaxPool2d(kernel_size=2, stride=2)\n",
    "\n",
    "        self.bottleneck = UNet._block(features * 8, features * 16, name=\"bottleneck\")\n",
    "\n",
    "        self.upconv4 = nn.ConvTranspose2d(\n",
    "            features * 16, features * 8, kernel_size=2, stride=2\n",
    "        )\n",
    "        self.decoder4 = UNet._block((features * 8) * 2, features * 8, name=\"dec4\")\n",
    "\n",
    "        self.upconv3 = nn.ConvTranspose2d(\n",
    "            features * 8, features * 4, kernel_size=2, stride=2\n",
    "        )\n",
    "        self.decoder3 = UNet._block((features * 4) * 2, features * 4, name=\"dec3\")\n",
    "\n",
    "        self.upconv2 = nn.ConvTranspose2d(\n",
    "            features * 4, features * 2, kernel_size=2, stride=2\n",
    "        )\n",
    "        self.decoder2 = UNet._block((features * 2) * 2, features * 2, name=\"dec2\")\n",
    "        self.upconv1 = nn.ConvTranspose2d(\n",
    "            features * 2, features, kernel_size=2, stride=2\n",
    "        )\n",
    "        self.decoder1 = UNet._block(features * 2, features, name=\"dec1\")\n",
    "\n",
    "        self.conv = nn.Conv2d(\n",
    "            in_channels=features, out_channels=out_channels, kernel_size=1\n",
    "        )\n",
    "\n",
    "    def forward(self, x):\n",
    "        enc1 = self.encoder1(x)\n",
    "        enc2 = self.encoder2(self.pool1(enc1))\n",
    "        enc3 = self.encoder3(self.pool2(enc2))\n",
    "        enc4 = self.encoder4(self.pool3(enc3))\n",
    "\n",
    "        bottleneck = self.bottleneck(self.pool4(enc4))\n",
    "\n",
    "        dec4 = self.upconv4(bottleneck)\n",
    "        dec4 = torch.cat((dec4, enc4), dim=1)\n",
    "        dec4 = self.decoder4(dec4)\n",
    "        dec3 = self.upconv3(dec4)\n",
    "        dec3 = torch.cat((dec3, enc3), dim=1)\n",
    "        dec3 = self.decoder3(dec3)\n",
    "        dec2 = self.upconv2(dec3)\n",
    "        dec2 = torch.cat((dec2, enc2), dim=1)\n",
    "        dec2 = self.decoder2(dec2)\n",
    "        dec1 = self.upconv1(dec2)\n",
    "        dec1 = torch.cat((dec1, enc1), dim=1)\n",
    "        dec1 = self.decoder1(dec1)\n",
    "        return self.conv(dec1)\n",
    "\n",
    "    @staticmethod\n",
    "    def _block(in_channels, features, name):\n",
    "        return nn.Sequential(\n",
    "            OrderedDict(\n",
    "                [\n",
    "                    (\n",
    "                        name + \"conv1\",\n",
    "                        nn.Conv2d(\n",
    "                            in_channels=in_channels,\n",
    "                            out_channels=features,\n",
    "                            kernel_size=3,\n",
    "                            padding=1,\n",
    "                            bias=False,\n",
    "                        ),\n",
    "                    ),\n",
    "                    (name + \"norm1\", nn.BatchNorm2d(num_features=features)),\n",
    "                    (name + \"relu1\", nn.ReLU(inplace=True)),\n",
    "                    (\n",
    "                        name + \"conv2\",\n",
    "                        nn.Conv2d(\n",
    "                            in_channels=features,\n",
    "                            out_channels=features,\n",
    "                            kernel_size=3,\n",
    "                            padding=1,\n",
    "                            bias=False,\n",
    "                        ),\n",
    "                    ),\n",
    "                    (name + \"norm2\", nn.BatchNorm2d(num_features=features)),\n",
    "                    (name + \"relu2\", nn.ReLU(inplace=True)),\n",
    "                ]\n",
    "            )\n",
    "        )\n",
    "    \n",
    "unet = UNet(in_channels=3, out_channels=2)\n",
    "print(unet)\n",
    "unet.cuda()\n",
    "summary.summary(unet, (3, 256, 256))\n",
    "test = torch.rand(1, 3, 256, 256).cuda()\n",
    "unet(test)"
   ]
  },
  {
   "cell_type": "code",
   "execution_count": 2,
   "metadata": {},
   "outputs": [
    {
     "name": "stdout",
     "output_type": "stream",
     "text": [
      "SegNet(\n",
      "  (encoder1): Sequential(\n",
      "    (enc1conv1): Conv2d(3, 32, kernel_size=(3, 3), stride=(1, 1), padding=(1, 1), bias=False)\n",
      "    (enc1norm1): BatchNorm2d(32, eps=1e-05, momentum=0.1, affine=True, track_running_stats=True)\n",
      "    (enc1relu1): ReLU(inplace=True)\n",
      "    (enc1conv2): Conv2d(32, 32, kernel_size=(3, 3), stride=(1, 1), padding=(1, 1), bias=False)\n",
      "    (enc1norm2): BatchNorm2d(32, eps=1e-05, momentum=0.1, affine=True, track_running_stats=True)\n",
      "    (enc1relu2): ReLU(inplace=True)\n",
      "  )\n",
      "  (pool1): MaxPool2d(kernel_size=2, stride=2, padding=0, dilation=1, ceil_mode=False)\n",
      "  (encoder2): Sequential(\n",
      "    (enc2conv1): Conv2d(32, 64, kernel_size=(3, 3), stride=(1, 1), padding=(1, 1), bias=False)\n",
      "    (enc2norm1): BatchNorm2d(64, eps=1e-05, momentum=0.1, affine=True, track_running_stats=True)\n",
      "    (enc2relu1): ReLU(inplace=True)\n",
      "    (enc2conv2): Conv2d(64, 64, kernel_size=(3, 3), stride=(1, 1), padding=(1, 1), bias=False)\n",
      "    (enc2norm2): BatchNorm2d(64, eps=1e-05, momentum=0.1, affine=True, track_running_stats=True)\n",
      "    (enc2relu2): ReLU(inplace=True)\n",
      "  )\n",
      "  (pool2): MaxPool2d(kernel_size=2, stride=2, padding=0, dilation=1, ceil_mode=False)\n",
      "  (encoder3): Sequential(\n",
      "    (enc3conv1): Conv2d(64, 128, kernel_size=(3, 3), stride=(1, 1), padding=(1, 1), bias=False)\n",
      "    (enc3norm1): BatchNorm2d(128, eps=1e-05, momentum=0.1, affine=True, track_running_stats=True)\n",
      "    (enc3relu1): ReLU(inplace=True)\n",
      "    (enc3conv2): Conv2d(128, 128, kernel_size=(3, 3), stride=(1, 1), padding=(1, 1), bias=False)\n",
      "    (enc3norm2): BatchNorm2d(128, eps=1e-05, momentum=0.1, affine=True, track_running_stats=True)\n",
      "    (enc3relu2): ReLU(inplace=True)\n",
      "  )\n",
      "  (pool3): MaxPool2d(kernel_size=2, stride=2, padding=0, dilation=1, ceil_mode=False)\n",
      "  (encoder4): Sequential(\n",
      "    (enc4conv1): Conv2d(128, 256, kernel_size=(3, 3), stride=(1, 1), padding=(1, 1), bias=False)\n",
      "    (enc4norm1): BatchNorm2d(256, eps=1e-05, momentum=0.1, affine=True, track_running_stats=True)\n",
      "    (enc4relu1): ReLU(inplace=True)\n",
      "    (enc4conv2): Conv2d(256, 256, kernel_size=(3, 3), stride=(1, 1), padding=(1, 1), bias=False)\n",
      "    (enc4norm2): BatchNorm2d(256, eps=1e-05, momentum=0.1, affine=True, track_running_stats=True)\n",
      "    (enc4relu2): ReLU(inplace=True)\n",
      "  )\n",
      "  (pool4): MaxPool2d(kernel_size=2, stride=2, padding=0, dilation=1, ceil_mode=False)\n",
      "  (bottleneck): Sequential(\n",
      "    (bottleneckconv1): Conv2d(256, 512, kernel_size=(3, 3), stride=(1, 1), padding=(1, 1), bias=False)\n",
      "    (bottlenecknorm1): BatchNorm2d(512, eps=1e-05, momentum=0.1, affine=True, track_running_stats=True)\n",
      "    (bottleneckrelu1): ReLU(inplace=True)\n",
      "    (bottleneckconv2): Conv2d(512, 512, kernel_size=(3, 3), stride=(1, 1), padding=(1, 1), bias=False)\n",
      "    (bottlenecknorm2): BatchNorm2d(512, eps=1e-05, momentum=0.1, affine=True, track_running_stats=True)\n",
      "    (bottleneckrelu2): ReLU(inplace=True)\n",
      "  )\n",
      "  (pool_bottleneck): MaxPool2d(kernel_size=2, stride=2, padding=0, dilation=1, ceil_mode=False)\n",
      "  (unpool_bottleneck): MaxUnpool2d(kernel_size=(2, 2), stride=(2, 2), padding=(0, 0))\n",
      "  (dec5): Sequential(\n",
      "    (dec5conv1): Conv2d(512, 256, kernel_size=(3, 3), stride=(1, 1), padding=(1, 1), bias=False)\n",
      "    (dec5norm1): BatchNorm2d(256, eps=1e-05, momentum=0.1, affine=True, track_running_stats=True)\n",
      "    (dec5relu1): ReLU(inplace=True)\n",
      "    (dec5conv2): Conv2d(256, 256, kernel_size=(3, 3), stride=(1, 1), padding=(1, 1), bias=False)\n",
      "    (dec5norm2): BatchNorm2d(256, eps=1e-05, momentum=0.1, affine=True, track_running_stats=True)\n",
      "    (dec5relu2): ReLU(inplace=True)\n",
      "  )\n",
      "  (unpool4): MaxUnpool2d(kernel_size=(2, 2), stride=(2, 2), padding=(0, 0))\n",
      "  (decoder4): Sequential(\n",
      "    (dec4conv1): Conv2d(256, 128, kernel_size=(3, 3), stride=(1, 1), padding=(1, 1), bias=False)\n",
      "    (dec4norm1): BatchNorm2d(128, eps=1e-05, momentum=0.1, affine=True, track_running_stats=True)\n",
      "    (dec4relu1): ReLU(inplace=True)\n",
      "    (dec4conv2): Conv2d(128, 128, kernel_size=(3, 3), stride=(1, 1), padding=(1, 1), bias=False)\n",
      "    (dec4norm2): BatchNorm2d(128, eps=1e-05, momentum=0.1, affine=True, track_running_stats=True)\n",
      "    (dec4relu2): ReLU(inplace=True)\n",
      "  )\n",
      "  (unpool3): MaxUnpool2d(kernel_size=(2, 2), stride=(2, 2), padding=(0, 0))\n",
      "  (decoder3): Sequential(\n",
      "    (dec3conv1): Conv2d(128, 64, kernel_size=(3, 3), stride=(1, 1), padding=(1, 1), bias=False)\n",
      "    (dec3norm1): BatchNorm2d(64, eps=1e-05, momentum=0.1, affine=True, track_running_stats=True)\n",
      "    (dec3relu1): ReLU(inplace=True)\n",
      "    (dec3conv2): Conv2d(64, 64, kernel_size=(3, 3), stride=(1, 1), padding=(1, 1), bias=False)\n",
      "    (dec3norm2): BatchNorm2d(64, eps=1e-05, momentum=0.1, affine=True, track_running_stats=True)\n",
      "    (dec3relu2): ReLU(inplace=True)\n",
      "  )\n",
      "  (unpool2): MaxUnpool2d(kernel_size=(2, 2), stride=(2, 2), padding=(0, 0))\n",
      "  (decoder2): Sequential(\n",
      "    (dec2conv1): Conv2d(64, 32, kernel_size=(3, 3), stride=(1, 1), padding=(1, 1), bias=False)\n",
      "    (dec2norm1): BatchNorm2d(32, eps=1e-05, momentum=0.1, affine=True, track_running_stats=True)\n",
      "    (dec2relu1): ReLU(inplace=True)\n",
      "    (dec2conv2): Conv2d(32, 32, kernel_size=(3, 3), stride=(1, 1), padding=(1, 1), bias=False)\n",
      "    (dec2norm2): BatchNorm2d(32, eps=1e-05, momentum=0.1, affine=True, track_running_stats=True)\n",
      "    (dec2relu2): ReLU(inplace=True)\n",
      "  )\n",
      "  (unpool1): MaxUnpool2d(kernel_size=(2, 2), stride=(2, 2), padding=(0, 0))\n",
      "  (decoder1): Sequential(\n",
      "    (dec1conv1): Conv2d(32, 32, kernel_size=(3, 3), stride=(1, 1), padding=(1, 1), bias=False)\n",
      "    (dec1norm1): BatchNorm2d(32, eps=1e-05, momentum=0.1, affine=True, track_running_stats=True)\n",
      "    (dec1relu1): ReLU(inplace=True)\n",
      "    (dec1conv2): Conv2d(32, 32, kernel_size=(3, 3), stride=(1, 1), padding=(1, 1), bias=False)\n",
      "    (dec1norm2): BatchNorm2d(32, eps=1e-05, momentum=0.1, affine=True, track_running_stats=True)\n",
      "    (dec1relu2): ReLU(inplace=True)\n",
      "  )\n",
      "  (conv): Conv2d(32, 2, kernel_size=(1, 1), stride=(1, 1))\n",
      ")\n",
      "----------------------------------------------------------------\n",
      "        Layer (type)               Output Shape         Param #\n",
      "================================================================\n",
      "            Conv2d-1         [-1, 32, 256, 256]             864\n",
      "       BatchNorm2d-2         [-1, 32, 256, 256]              64\n",
      "              ReLU-3         [-1, 32, 256, 256]               0\n",
      "            Conv2d-4         [-1, 32, 256, 256]           9,216\n",
      "       BatchNorm2d-5         [-1, 32, 256, 256]              64\n",
      "              ReLU-6         [-1, 32, 256, 256]               0\n",
      "         MaxPool2d-7  [[-1, 32, 128, 128], [-1, 32, 128, 128]]               0\n",
      "            Conv2d-8         [-1, 64, 128, 128]          18,432\n",
      "       BatchNorm2d-9         [-1, 64, 128, 128]             128\n",
      "             ReLU-10         [-1, 64, 128, 128]               0\n",
      "           Conv2d-11         [-1, 64, 128, 128]          36,864\n",
      "      BatchNorm2d-12         [-1, 64, 128, 128]             128\n",
      "             ReLU-13         [-1, 64, 128, 128]               0\n",
      "        MaxPool2d-14  [[-1, 64, 64, 64], [-1, 64, 64, 64]]               0\n",
      "           Conv2d-15          [-1, 128, 64, 64]          73,728\n",
      "      BatchNorm2d-16          [-1, 128, 64, 64]             256\n",
      "             ReLU-17          [-1, 128, 64, 64]               0\n",
      "           Conv2d-18          [-1, 128, 64, 64]         147,456\n",
      "      BatchNorm2d-19          [-1, 128, 64, 64]             256\n",
      "             ReLU-20          [-1, 128, 64, 64]               0\n",
      "        MaxPool2d-21  [[-1, 128, 32, 32], [-1, 128, 32, 32]]               0\n",
      "           Conv2d-22          [-1, 256, 32, 32]         294,912\n",
      "      BatchNorm2d-23          [-1, 256, 32, 32]             512\n",
      "             ReLU-24          [-1, 256, 32, 32]               0\n",
      "           Conv2d-25          [-1, 256, 32, 32]         589,824\n",
      "      BatchNorm2d-26          [-1, 256, 32, 32]             512\n",
      "             ReLU-27          [-1, 256, 32, 32]               0\n",
      "        MaxPool2d-28  [[-1, 256, 16, 16], [-1, 256, 16, 16]]               0\n",
      "           Conv2d-29          [-1, 512, 16, 16]       1,179,648\n",
      "      BatchNorm2d-30          [-1, 512, 16, 16]           1,024\n",
      "             ReLU-31          [-1, 512, 16, 16]               0\n",
      "           Conv2d-32          [-1, 512, 16, 16]       2,359,296\n",
      "      BatchNorm2d-33          [-1, 512, 16, 16]           1,024\n",
      "             ReLU-34          [-1, 512, 16, 16]               0\n",
      "        MaxPool2d-35  [[-1, 512, 8, 8], [-1, 512, 8, 8]]               0\n",
      "      MaxUnpool2d-36          [-1, 512, 16, 16]               0\n",
      "           Conv2d-37          [-1, 256, 16, 16]       1,179,648\n",
      "      BatchNorm2d-38          [-1, 256, 16, 16]             512\n",
      "             ReLU-39          [-1, 256, 16, 16]               0\n",
      "           Conv2d-40          [-1, 256, 16, 16]         589,824\n",
      "      BatchNorm2d-41          [-1, 256, 16, 16]             512\n",
      "             ReLU-42          [-1, 256, 16, 16]               0\n",
      "      MaxUnpool2d-43          [-1, 256, 32, 32]               0\n",
      "           Conv2d-44          [-1, 128, 32, 32]         294,912\n",
      "      BatchNorm2d-45          [-1, 128, 32, 32]             256\n",
      "             ReLU-46          [-1, 128, 32, 32]               0\n",
      "           Conv2d-47          [-1, 128, 32, 32]         147,456\n",
      "      BatchNorm2d-48          [-1, 128, 32, 32]             256\n",
      "             ReLU-49          [-1, 128, 32, 32]               0\n",
      "      MaxUnpool2d-50          [-1, 128, 64, 64]               0\n",
      "           Conv2d-51           [-1, 64, 64, 64]          73,728\n",
      "      BatchNorm2d-52           [-1, 64, 64, 64]             128\n",
      "             ReLU-53           [-1, 64, 64, 64]               0\n",
      "           Conv2d-54           [-1, 64, 64, 64]          36,864\n",
      "      BatchNorm2d-55           [-1, 64, 64, 64]             128\n",
      "             ReLU-56           [-1, 64, 64, 64]               0\n",
      "      MaxUnpool2d-57         [-1, 64, 128, 128]               0\n",
      "           Conv2d-58         [-1, 32, 128, 128]          18,432\n",
      "      BatchNorm2d-59         [-1, 32, 128, 128]              64\n",
      "             ReLU-60         [-1, 32, 128, 128]               0\n",
      "           Conv2d-61         [-1, 32, 128, 128]           9,216\n",
      "      BatchNorm2d-62         [-1, 32, 128, 128]              64\n",
      "             ReLU-63         [-1, 32, 128, 128]               0\n",
      "      MaxUnpool2d-64         [-1, 32, 256, 256]               0\n",
      "           Conv2d-65         [-1, 32, 256, 256]           9,216\n",
      "      BatchNorm2d-66         [-1, 32, 256, 256]              64\n",
      "             ReLU-67         [-1, 32, 256, 256]               0\n",
      "           Conv2d-68         [-1, 32, 256, 256]           9,216\n",
      "      BatchNorm2d-69         [-1, 32, 256, 256]              64\n",
      "             ReLU-70         [-1, 32, 256, 256]               0\n",
      "           Conv2d-71          [-1, 2, 256, 256]              66\n",
      "================================================================\n",
      "Total params: 7,084,834\n",
      "Trainable params: 7,084,834\n",
      "Non-trainable params: 0\n",
      "----------------------------------------------------------------\n",
      "Input size (MB): 0.75\n",
      "Forward/backward pass size (MB): 2793113.00\n",
      "Params size (MB): 27.03\n",
      "Estimated Total Size (MB): 2793140.78\n",
      "----------------------------------------------------------------\n"
     ]
    },
    {
     "data": {
      "text/plain": [
       "tensor([[[[ 0.2430,  0.2955,  0.1316,  ..., -0.4427,  0.5850,  0.0862],\n",
       "          [-0.0050,  0.5753, -0.0322,  ...,  0.1635, -0.5139,  0.3064],\n",
       "          [-0.0365, -0.2918,  0.2542,  ..., -0.0663,  0.0374,  0.3722],\n",
       "          ...,\n",
       "          [ 0.1155,  0.2315,  0.8452,  ..., -0.1884, -0.1642,  0.3882],\n",
       "          [-0.0481, -0.2769,  0.0111,  ...,  0.0276, -0.2462,  0.3786],\n",
       "          [ 0.0682, -0.0276,  0.2929,  ...,  0.1230, -0.5458,  0.2230]],\n",
       "\n",
       "         [[ 0.2089,  0.5464,  0.2899,  ...,  0.5966,  0.5673,  0.5280],\n",
       "          [ 0.2634, -0.0646,  0.6331,  ...,  0.2267,  0.2330,  0.2089],\n",
       "          [ 0.3110,  0.2823,  0.3419,  ...,  0.4564,  0.5015,  0.0962],\n",
       "          ...,\n",
       "          [ 0.2410,  0.1600,  0.2907,  ...,  0.0410,  0.0878,  0.2271],\n",
       "          [ 0.4737,  0.7047,  0.2640,  ...,  0.1486,  0.7912,  0.1977],\n",
       "          [ 0.3715,  0.3737,  0.3840,  ...,  0.2819,  0.5337,  0.3041]]]],\n",
       "       device='cuda:0', grad_fn=<ConvolutionBackward0>)"
      ]
     },
     "execution_count": 2,
     "metadata": {},
     "output_type": "execute_result"
    }
   ],
   "source": [
    "class SegNet(nn.Module):\n",
    "\n",
    "    def __init__(self, in_channels=3, out_channels=1, init_features=32):\n",
    "        super(SegNet, self).__init__()\n",
    "\n",
    "        features = init_features\n",
    "        self.encoder1 = SegNet._block(in_channels, features, name=\"enc1\")\n",
    "        self.pool1 = nn.MaxPool2d(kernel_size=2, stride=2, return_indices=True)\n",
    "        self.encoder2 = SegNet._block(features, features * 2, name=\"enc2\")\n",
    "        self.pool2 = nn.MaxPool2d(kernel_size=2, stride=2, return_indices=True)\n",
    "        self.encoder3 = SegNet._block(features * 2, features * 4, name=\"enc3\")\n",
    "        self.pool3 = nn.MaxPool2d(kernel_size=2, stride=2,return_indices=True)\n",
    "        self.encoder4 = SegNet._block(features * 4, features * 8, name=\"enc4\")\n",
    "        self.pool4 = nn.MaxPool2d(kernel_size=2, stride=2, return_indices=True)\n",
    "\n",
    "        self.bottleneck = SegNet._block(features * 8, features * 16, name=\"bottleneck\")\n",
    "        self.pool_bottleneck = nn.MaxPool2d(kernel_size=2, stride=2, return_indices=True)\n",
    "        self.unpool_bottleneck = nn.MaxUnpool2d(kernel_size=2, stride=2)\n",
    "        self.dec5 = SegNet._block(features * 16, features * 8, name=\"dec5\")\n",
    "\n",
    "        self.unpool4 = nn.MaxUnpool2d(kernel_size=2, stride=2)\n",
    "        #self.upconv4 = nn.ConvTranspose2d(\n",
    "        #    features * 16, features * 8, kernel_size=2, stride=2\n",
    "        #)\n",
    "        self.decoder4 = SegNet._block(features * 8 , features * 4, name=\"dec4\")\n",
    "\n",
    "        self.unpool3 = nn.MaxUnpool2d(kernel_size=2, stride=2)\n",
    "        #self.upconv3 = nn.ConvTranspose2d(\n",
    "        #    features * 8, features * 4, kernel_size=2, stride=2\n",
    "        #)\n",
    "        self.decoder3 = SegNet._block(features * 4 , features * 2, name=\"dec3\")\n",
    "        \n",
    "        self.unpool2 = nn.MaxUnpool2d(kernel_size=2, stride=2)\n",
    "        #self.upconv2 = nn.ConvTranspose2d(\n",
    "        #    features * 4, features * 2, kernel_size=2, stride=2\n",
    "        #)\n",
    "        self.decoder2 = SegNet._block(features * 2 , features , name=\"dec2\")\n",
    "        self.unpool1 = nn.MaxUnpool2d(kernel_size=2, stride=2)\n",
    "\n",
    "        #self.upconv1 = nn.ConvTranspose2d(\n",
    "        #    features * 2, features, kernel_size=2, stride=2\n",
    "        #)\n",
    "        self.decoder1 = SegNet._block(features , features, name=\"dec1\")\n",
    "\n",
    "        self.conv = nn.Conv2d(\n",
    "            in_channels=features, out_channels=out_channels, kernel_size=1\n",
    "        )\n",
    "\n",
    "    def forward(self, x):\n",
    "        enc1 = self.encoder1(x)\n",
    "        \n",
    "        enc1_1, indices1 = self.pool1(enc1)  \n",
    "        \n",
    "        enc2 = self.encoder2(enc1_1)\n",
    "        \n",
    "        enc2_1, indices2 = self.pool2(enc2)\n",
    "        \n",
    "        enc3 = self.encoder3(enc2_1)\n",
    "        \n",
    "        enc3_1, indices3 = self.pool3(enc3)\n",
    "        \n",
    "        enc4 = self.encoder4(enc3_1)\n",
    "        \n",
    "        enc4_1, indices4 = self.pool4(enc4)\n",
    "        \n",
    "        bottleneck = self.bottleneck(enc4_1)\n",
    "        \n",
    "        bottleneck, indices_bottleneck = self.pool_bottleneck(bottleneck)\n",
    "        \n",
    "        bottleneck_unpool = self.unpool_bottleneck(bottleneck, indices_bottleneck)\n",
    "        \n",
    "        bottleneck = self.dec5(bottleneck_unpool)\n",
    "        \n",
    "        dec4 = self.unpool4(bottleneck, indices4)\n",
    "        \n",
    "        #dec4 = self.upconv4(bottleneck)\n",
    "        #dec4 = torch.cat((dec4, enc4), dim=1)\n",
    "        dec4 = self.decoder4(dec4)\n",
    "        #dec3 = self.upconv3(dec4)\n",
    "        #dec3 = torch.cat((dec3, enc3), dim=1)\n",
    "        dec3 = self.unpool3(dec4, indices3)\n",
    "        dec3 = self.decoder3(dec3)\n",
    "        #dec2 = self.upconv2(dec3)\n",
    "\n",
    "        #dec2 = torch.cat((dec2, enc2), dim=1)\n",
    "        dec2 = self.unpool2(dec3, indices2)\n",
    "        dec2 = self.decoder2(dec2)\n",
    "        dec1 = self.unpool1(dec2, indices1)\n",
    "        #dec1 = self.upconv1(dec2)\n",
    "        #dec1 = torch.cat((dec1, enc1), dim=1)\n",
    "        dec1 = self.decoder1(dec1)\n",
    "        return self.conv(dec1)\n",
    "\n",
    "    @staticmethod\n",
    "    def _block(in_channels, features, name):\n",
    "        return nn.Sequential(\n",
    "            OrderedDict(\n",
    "                [\n",
    "                    (\n",
    "                        name + \"conv1\",\n",
    "                        nn.Conv2d(\n",
    "                            in_channels=in_channels,\n",
    "                            out_channels=features,\n",
    "                            kernel_size=3,\n",
    "                            padding=1,\n",
    "                            bias=False,\n",
    "                        ),\n",
    "                    ),\n",
    "                    (name + \"norm1\", nn.BatchNorm2d(num_features=features)),\n",
    "                    (name + \"relu1\", nn.ReLU(inplace=True)),\n",
    "                    (\n",
    "                        name + \"conv2\",\n",
    "                        nn.Conv2d(\n",
    "                            in_channels=features,\n",
    "                            out_channels=features,\n",
    "                            kernel_size=3,\n",
    "                            padding=1,\n",
    "                            bias=False,\n",
    "                        ),\n",
    "                    ),\n",
    "                    (name + \"norm2\", nn.BatchNorm2d(num_features=features)),\n",
    "                    (name + \"relu2\", nn.ReLU(inplace=True)),\n",
    "                ]\n",
    "            )\n",
    "        )\n",
    "segnet = SegNet(in_channels=3, out_channels=2)\n",
    "print(segnet)\n",
    "segnet.cuda()\n",
    "summary.summary(segnet, (3, 256, 256))\n",
    "test = torch.rand(1, 3, 256, 256).cuda()\n",
    "segnet(test)"
   ]
  },
  {
   "cell_type": "code",
   "execution_count": 33,
   "metadata": {},
   "outputs": [],
   "source": [
    "import os\n",
    "import cv2\n",
    "import zipfile\n",
    "import numpy as np\n",
    "import pandas as pd\n",
    "from PIL import Image\n",
    "from tqdm.auto import tqdm\n",
    "import matplotlib.pyplot as plt\n",
    "from sklearn.model_selection import train_test_split\n",
    "import torchvision\n",
    "\n",
    "\n",
    "all_img_path = \"./leaves/data/data\"\n",
    "all_img_lst = os.listdir(all_img_path+\"/images\") # \"./train\"\n",
    "all_mask_lst = os.listdir(all_img_path+\"/masks\") # \"./train_masks\"\n",
    "\n",
    "#print(len(all_img_lst))\n",
    "#print(len(all_mask_lst))\n",
    "\n",
    "sorted_img_lst = sorted(all_img_lst)\n",
    "sorted_mask_lst = sorted(all_mask_lst)\n",
    "\n",
    "#print(sorted_img_lst[:5])\n",
    "def show_images(imgs_lst,masks_lst,loops=2):\n",
    "    for i in range(loops):\n",
    "        img_path = os.path.join(all_img_path+\"/images\",imgs_lst[i])\n",
    "        print(img_path)\n",
    "        mask_path = os.path.join(all_img_path+\"/masks\",masks_lst[i])\n",
    "        img = Image.open(img_path)\n",
    "        mask = Image.open(mask_path)\n",
    "        print(img_path)\n",
    "        print(img.size)\n",
    "        print(type(img))\n",
    "        plt.imshow(img)\n",
    "        plt.show()\n",
    "        print(mask_path)\n",
    "        print(mask.size)\n",
    "        plt.imshow(mask)\n",
    "        plt.show()\n",
    "        print(\"----------------------------------------------------\")\n",
    "\n",
    "#show_images(sorted_img_lst, sorted_mask_lst)\n",
    "\n",
    "train_idx, val_idx = train_test_split(list(range(len(sorted_img_lst))), test_size=0.2)\n",
    "\n",
    "#print(len(train_idx))\n",
    "#print(len(val_idx))\n",
    "train_test_split = 0.8\n",
    "\n",
    "\n",
    "train_img_lst = [sorted_img_lst[i] for i in train_idx]\n",
    "train_mask_lst = [sorted_mask_lst[i] for i in train_idx]\n",
    "val_img_lst = [sorted_img_lst[i] for i in val_idx]\n",
    "val_mask_lst = [sorted_mask_lst[i] for i in val_idx]\n",
    "\n",
    "transform_img = torchvision.transforms.Compose([\n",
    "    torchvision.transforms.Resize((256,256),interpolation=Image.BILINEAR),\n",
    "    torchvision.transforms.ToTensor(),\n",
    "    torchvision.transforms.Normalize(mean=[0.485, 0.456, 0.406], std=[0.229, 0.224, 0.225])\n",
    "])\n",
    "\n",
    "transform_mask = torchvision.transforms.Compose([\n",
    "    torchvision.transforms.Resize((256,256),interpolation=Image.NEAREST),\n",
    "    torchvision.transforms.ToTensor()\n",
    "])\n",
    "\n",
    "class LeaveDataset(torch.utils.data.Dataset):\n",
    "    def __init__(self, img_lst, mask_lst, img_path, mask_path, transform_img=transform_img, transform_mask=transform_mask):\n",
    "        self.img_lst = img_lst\n",
    "        self.mask_lst = mask_lst\n",
    "        self.img_path = img_path\n",
    "        self.mask_path = mask_path\n",
    "        self.transform_img = transform_img\n",
    "        self.transform_mask = transform_mask\n",
    "\n",
    "    def __len__(self):\n",
    "        return len(self.img_lst)\n",
    "\n",
    "    def __getitem__(self, idx):\n",
    "        img_path = os.path.join(self.img_path, self.img_lst[idx])\n",
    "        mask_path = os.path.join(self.mask_path, self.mask_lst[idx])\n",
    "        img = Image.open(img_path)\n",
    "        mask = Image.open(mask_path)\n",
    "        mask= mask.convert('L')\n",
    "        mask = np.array(mask)\n",
    "        mask[mask>0] = 255\n",
    "        mask[mask==0] = 0\n",
    "        mask = Image.fromarray(mask)\n",
    "        \n",
    "        img = self.transform_img(img)\n",
    "        mask = self.transform_mask(mask)\n",
    "        \n",
    "        return img, mask\n",
    "    \n",
    "train_dataset = LeaveDataset(train_img_lst, train_mask_lst, all_img_path+\"/images\", all_img_path+\"/masks\")\n",
    "val_dataset = LeaveDataset(val_img_lst, val_mask_lst, all_img_path+\"/images\", all_img_path+\"/masks\")\n",
    "\n",
    "train_loader = torch.utils.data.DataLoader(train_dataset, batch_size=64, shuffle=True)\n",
    "val_loader = torch.utils.data.DataLoader(val_dataset, batch_size=64, shuffle=False)\n"
   ]
  },
  {
   "cell_type": "code",
   "execution_count": 11,
   "metadata": {},
   "outputs": [],
   "source": []
  },
  {
   "cell_type": "code",
   "execution_count": 37,
   "metadata": {},
   "outputs": [
    {
     "name": "stderr",
     "output_type": "stream",
     "text": [
      "100%|██████████| 8/8 [00:05<00:00,  1.55it/s]\n",
      "100%|██████████| 470/470 [00:06<00:00, 77.90it/s] \n"
     ]
    },
    {
     "name": "stdout",
     "output_type": "stream",
     "text": [
      "Epoch: 0, Train loss: 0.7485952898859978, Val loss: 0.7954186737537384\n"
     ]
    },
    {
     "name": "stderr",
     "output_type": "stream",
     "text": [
      "100%|██████████| 8/8 [00:05<00:00,  1.57it/s]\n",
      "100%|██████████| 470/470 [00:05<00:00, 79.96it/s] \n"
     ]
    },
    {
     "name": "stdout",
     "output_type": "stream",
     "text": [
      "Epoch: 1, Train loss: 0.6718902662396431, Val loss: 0.8158564818666336\n"
     ]
    },
    {
     "name": "stderr",
     "output_type": "stream",
     "text": [
      "100%|██████████| 8/8 [00:05<00:00,  1.56it/s]\n",
      "100%|██████████| 470/470 [00:06<00:00, 78.31it/s] \n"
     ]
    },
    {
     "name": "stdout",
     "output_type": "stream",
     "text": [
      "Epoch: 2, Train loss: 0.6446482241153717, Val loss: 0.6813266424422568\n"
     ]
    },
    {
     "name": "stderr",
     "output_type": "stream",
     "text": [
      "100%|██████████| 8/8 [00:05<00:00,  1.57it/s]\n",
      "100%|██████████| 470/470 [00:05<00:00, 78.96it/s] \n"
     ]
    },
    {
     "name": "stdout",
     "output_type": "stream",
     "text": [
      "Epoch: 3, Train loss: 0.6282661631703377, Val loss: 0.6407385242746232\n"
     ]
    },
    {
     "name": "stderr",
     "output_type": "stream",
     "text": [
      "100%|██████████| 8/8 [00:05<00:00,  1.56it/s]\n",
      "100%|██████████| 470/470 [00:05<00:00, 79.85it/s] \n"
     ]
    },
    {
     "name": "stdout",
     "output_type": "stream",
     "text": [
      "Epoch: 4, Train loss: 0.6180901825428009, Val loss: 0.6226946129443798\n"
     ]
    },
    {
     "name": "stderr",
     "output_type": "stream",
     "text": [
      "100%|██████████| 8/8 [00:05<00:00,  1.56it/s]\n",
      "100%|██████████| 470/470 [00:05<00:00, 78.55it/s] \n"
     ]
    },
    {
     "name": "stdout",
     "output_type": "stream",
     "text": [
      "Epoch: 5, Train loss: 0.5988706797361374, Val loss: 0.5768425335275366\n"
     ]
    },
    {
     "name": "stderr",
     "output_type": "stream",
     "text": [
      "100%|██████████| 8/8 [00:05<00:00,  1.59it/s]\n",
      "100%|██████████| 470/470 [00:06<00:00, 76.04it/s] \n"
     ]
    },
    {
     "name": "stdout",
     "output_type": "stream",
     "text": [
      "Epoch: 6, Train loss: 0.5905416011810303, Val loss: 0.5863564205930588\n"
     ]
    },
    {
     "name": "stderr",
     "output_type": "stream",
     "text": [
      "100%|██████████| 8/8 [00:05<00:00,  1.56it/s]\n",
      "100%|██████████| 470/470 [00:05<00:00, 80.54it/s] \n"
     ]
    },
    {
     "name": "stdout",
     "output_type": "stream",
     "text": [
      "Epoch: 7, Train loss: 0.5770328864455223, Val loss: 0.5741703553402677\n"
     ]
    },
    {
     "name": "stderr",
     "output_type": "stream",
     "text": [
      "100%|██████████| 8/8 [00:05<00:00,  1.57it/s]\n",
      "100%|██████████| 470/470 [00:05<00:00, 80.60it/s] \n"
     ]
    },
    {
     "name": "stdout",
     "output_type": "stream",
     "text": [
      "Epoch: 8, Train loss: 0.5693191289901733, Val loss: 0.5555930108466047\n"
     ]
    },
    {
     "name": "stderr",
     "output_type": "stream",
     "text": [
      "100%|██████████| 8/8 [00:05<00:00,  1.58it/s]\n",
      "100%|██████████| 470/470 [00:05<00:00, 80.38it/s] \n"
     ]
    },
    {
     "name": "stdout",
     "output_type": "stream",
     "text": [
      "Epoch: 9, Train loss: 0.5625678822398186, Val loss: 0.5346273485650408\n"
     ]
    },
    {
     "name": "stderr",
     "output_type": "stream",
     "text": [
      "100%|██████████| 8/8 [00:05<00:00,  1.55it/s]\n",
      "100%|██████████| 470/470 [00:05<00:00, 79.43it/s] \n"
     ]
    },
    {
     "name": "stdout",
     "output_type": "stream",
     "text": [
      "Epoch: 10, Train loss: 0.5468813106417656, Val loss: 0.56733235146137\n"
     ]
    },
    {
     "name": "stderr",
     "output_type": "stream",
     "text": [
      "100%|██████████| 8/8 [00:05<00:00,  1.48it/s]\n",
      "100%|██████████| 470/470 [00:06<00:00, 76.78it/s] \n"
     ]
    },
    {
     "name": "stdout",
     "output_type": "stream",
     "text": [
      "Epoch: 11, Train loss: 0.5305466875433922, Val loss: 0.5283840707007875\n"
     ]
    },
    {
     "name": "stderr",
     "output_type": "stream",
     "text": [
      "100%|██████████| 8/8 [00:05<00:00,  1.56it/s]\n",
      "100%|██████████| 470/470 [00:05<00:00, 79.40it/s] \n"
     ]
    },
    {
     "name": "stdout",
     "output_type": "stream",
     "text": [
      "Epoch: 12, Train loss: 0.5214428268373013, Val loss: 0.5102670817933184\n"
     ]
    },
    {
     "name": "stderr",
     "output_type": "stream",
     "text": [
      "100%|██████████| 8/8 [00:05<00:00,  1.56it/s]\n",
      "100%|██████████| 470/470 [00:05<00:00, 79.67it/s] \n"
     ]
    },
    {
     "name": "stdout",
     "output_type": "stream",
     "text": [
      "Epoch: 13, Train loss: 0.5070752948522568, Val loss: 0.5018564698543955\n"
     ]
    },
    {
     "name": "stderr",
     "output_type": "stream",
     "text": [
      "100%|██████████| 8/8 [00:05<00:00,  1.58it/s]\n",
      "100%|██████████| 470/470 [00:05<00:00, 79.61it/s] \n"
     ]
    },
    {
     "name": "stdout",
     "output_type": "stream",
     "text": [
      "Epoch: 14, Train loss: 0.49387284740805626, Val loss: 0.4856593843470228\n"
     ]
    },
    {
     "name": "stderr",
     "output_type": "stream",
     "text": [
      "100%|██████████| 8/8 [00:05<00:00,  1.59it/s]\n",
      "100%|██████████| 470/470 [00:05<00:00, 78.38it/s] \n"
     ]
    },
    {
     "name": "stdout",
     "output_type": "stream",
     "text": [
      "Epoch: 15, Train loss: 0.49056940898299217, Val loss: 0.487544259111932\n"
     ]
    },
    {
     "name": "stderr",
     "output_type": "stream",
     "text": [
      "100%|██████████| 8/8 [00:05<00:00,  1.58it/s]\n",
      "100%|██████████| 470/470 [00:05<00:00, 78.65it/s] \n"
     ]
    },
    {
     "name": "stdout",
     "output_type": "stream",
     "text": [
      "Epoch: 16, Train loss: 0.488463819026947, Val loss: 0.4976612037800728\n"
     ]
    },
    {
     "name": "stderr",
     "output_type": "stream",
     "text": [
      "100%|██████████| 8/8 [00:05<00:00,  1.57it/s]\n",
      "100%|██████████| 470/470 [00:05<00:00, 79.52it/s] \n"
     ]
    },
    {
     "name": "stdout",
     "output_type": "stream",
     "text": [
      "Epoch: 17, Train loss: 0.47181010618805885, Val loss: 0.476422040766858\n"
     ]
    },
    {
     "name": "stderr",
     "output_type": "stream",
     "text": [
      "100%|██████████| 8/8 [00:05<00:00,  1.58it/s]\n",
      "100%|██████████| 470/470 [00:05<00:00, 79.22it/s] \n"
     ]
    },
    {
     "name": "stdout",
     "output_type": "stream",
     "text": [
      "Epoch: 18, Train loss: 0.4590226784348488, Val loss: 0.44182113066632694\n"
     ]
    },
    {
     "name": "stderr",
     "output_type": "stream",
     "text": [
      "100%|██████████| 8/8 [00:05<00:00,  1.58it/s]\n",
      "100%|██████████| 470/470 [00:06<00:00, 77.20it/s] "
     ]
    },
    {
     "name": "stdout",
     "output_type": "stream",
     "text": [
      "Epoch: 19, Train loss: 0.46606898307800293, Val loss: 0.4855414268818307\n"
     ]
    },
    {
     "name": "stderr",
     "output_type": "stream",
     "text": [
      "\n"
     ]
    }
   ],
   "source": [
    "import torch.optim as optim\n",
    "from tqdm import tqdm\n",
    "import torch.nn.functional as F\n",
    "from monai.losses import DiceLoss\n",
    "\n",
    "\n",
    "\n",
    "def train_model(model,dataloader,criterion,optimizer):\n",
    "    model.train()\n",
    "    train_running_loss = 0.0\n",
    "    for j,img_mask in enumerate(tqdm(dataloader)):\n",
    "        img = img_mask[0].float().cuda()\n",
    "        \n",
    "        mask = img_mask[1].float().cuda()\n",
    "        \n",
    "        y_pred = model(img)\n",
    "       \n",
    "        optimizer.zero_grad()\n",
    "        \n",
    "        loss = criterion(y_pred,mask)\n",
    "        \n",
    "        \n",
    "        train_running_loss += loss.item() \n",
    "        \n",
    "        loss.backward()\n",
    "        optimizer.step()\n",
    "        \n",
    "    train_loss = train_running_loss / (j+1)\n",
    "    return train_loss\n",
    "\n",
    "def val_model(model,dataloader,criterion):\n",
    "    model.eval()\n",
    "    val_running_loss = 0.0\n",
    "    for j,img_mask in enumerate(tqdm(dataloader)):\n",
    "        img = img_mask[0].float().cuda()\n",
    "        \n",
    "        mask = img_mask[1].float().cuda()\n",
    "        \n",
    "        y_pred = model(img)\n",
    "        \n",
    "        loss = criterion(y_pred,mask)\n",
    "        \n",
    "        val_running_loss += loss.item() \n",
    "        \n",
    "    val_loss = val_running_loss / (j+1)\n",
    "    return val_loss\n",
    "\n",
    "model = SegNet(3, 1).cuda()\n",
    "optimizer = optim.Adam(model.parameters(), lr = 0.001)\n",
    "criterion = nn.BCEWithLogitsLoss()\n",
    "criterion = DiceLoss(sigmoid=True)\n",
    "\n",
    "train_loss_lst = []\n",
    "val_loss_lst = []  \n",
    "\n",
    "for epoch in range(20):\n",
    "    val_loss= 0\n",
    "    train_loss = train_model(model,train_loader,criterion,optimizer)\n",
    "    val_loss = val_model(model,val_loader,criterion)\n",
    "    train_loss_lst.append(train_loss)\n",
    "    val_loss_lst.append(val_loss)\n",
    "    print(f\"Epoch: {epoch}, Train loss: {train_loss}, Val loss: {val_loss}\")\n",
    "\n"
   ]
  },
  {
   "cell_type": "code",
   "execution_count": 36,
   "metadata": {},
   "outputs": [
    {
     "name": "stdout",
     "output_type": "stream",
     "text": [
      "[[0 0 0 ... 0 0 0]\n",
      " [0 0 0 ... 0 0 0]\n",
      " [0 0 0 ... 0 0 0]\n",
      " ...\n",
      " [0 0 0 ... 0 0 0]\n",
      " [0 0 0 ... 0 0 0]\n",
      " [0 0 0 ... 0 0 0]]\n"
     ]
    },
    {
     "data": {
      "image/png": "[encoded data removed]",
      "text/plain": [
       "<Figure size 640x480 with 1 Axes>"
      ]
     },
     "metadata": {},
     "output_type": "display_data"
    },
    {
     "name": "stdout",
     "output_type": "stream",
     "text": [
      "0.0 1.0\n"
     ]
    },
    {
     "data": {
      "image/png": "[encoded data removed]",
      "text/plain": [
       "<Figure size 640x480 with 1 Axes>"
      ]
     },
     "metadata": {},
     "output_type": "display_data"
    }
   ],
   "source": [
    "val_loader = torch.utils.data.DataLoader(train_dataset, batch_size=1, shuffle=False)\n",
    "\n",
    "val_img = next(iter(val_loader))[0].cuda()\n",
    "val_mask = next(iter(val_loader))[1].cuda()\n",
    "\n",
    "\n",
    "\n",
    "val_pred = model(val_img)\n",
    "val_pred = torch.sigmoid(val_pred)\n",
    "val_pred = val_pred.detach().cpu().numpy()\n",
    "val_pred = np.squeeze(val_pred)\n",
    "#val_pred = np.transpose(val_pred, (1, 2, 0))\n",
    "val_pred = np.squeeze(val_pred)\n",
    "val_pred = np.where(val_pred > 0.5, 1, 0)\n",
    "print(val_pred)\n",
    "plt.imshow(val_pred)\n",
    "plt.show()\n",
    "val_mask = val_mask[0].cpu().numpy().squeeze()\n",
    "print(val_mask.min(), val_mask.max())\n",
    "plt.imshow(val_mask)\n",
    "plt.show()\n",
    "#plt.imshow(val_img[0].cpu().numpy().squeeze().transpose(1,2,0))"
   ]
  }
 ],
 "metadata": {
  "kernelspec": {
   "display_name": "MonaiLatestEnv",
   "language": "python",
   "name": "python3"
  },
  "language_info": {
   "codemirror_mode": {
    "name": "ipython",
    "version": 3
   },
   "file_extension": ".py",
   "mimetype": "text/x-python",
   "name": "python",
   "nbconvert_exporter": "python",
   "pygments_lexer": "ipython3",
   "version": "3.10.13"
  }
 },
 "nbformat": 4,
 "nbformat_minor": 2
}
