{
 "cells": [
  {
   "cell_type": "markdown",
   "metadata": {},
   "source": [
    "### The concept of transposed convolution\n",
    "### Task 1:\n",
    "    * Define an input tensor and a kernel\n",
    "    * Compute the transposed convolution per hand\n",
    "    * Check that your computations are correct using ConvTranspose2d "
   ]
  },
  {
   "cell_type": "code",
   "execution_count": 66,
   "metadata": {},
   "outputs": [
    {
     "name": "stdout",
     "output_type": "stream",
     "text": [
      "torch.Size([2, 2])\n",
      "tensor([[[[0., 1.],\n",
      "          [2., 3.]]]])\n",
      "Parameter containing:\n",
      "tensor([[[[0., 1.],\n",
      "          [2., 3.]]]], requires_grad=True)\n",
      "torch.Size([1, 1, 2, 2])\n",
      "tensor([[[[0., 2.],\n",
      "          [2., 0.]]]], grad_fn=<ConvolutionBackward0>)\n"
     ]
    }
   ],
   "source": [
    "import torch\n",
    "import torch.nn as nn\n",
    "\n",
    "\n",
    "\n",
    "###########################################################\n",
    "## TODO: Define the input tensor # (batch_size, input_channels, input_height, input_width)\n",
    "input_tensor = None\n",
    "print(input_tensor.shape)\n",
    "input_tensor = input_tensor.unsqueeze(0).unsqueeze(0)\n",
    "print(input_tensor)\n",
    "\n",
    "## TODO: Define the kernel tensor\n",
    "kernel_tensor = None\n",
    "\n",
    "## TODO: Check the values of the transposed convolution\n",
    "# Define the transposed convolution layer\n",
    "transposed_conv = nn.ConvTranspose2d(1, 1, kernel_size=2, stride=2, padding=0, output_padding=0,bias=False)\n",
    "# (input_channels, output_channels, kernel_size, stride, padding, output_padding)\n",
    "transposed_conv.weight = nn.Parameter(kernel_tensor, dtype=torch.float32)\n",
    "print(transposed_conv.weight)\n",
    "# Perform the transposed convolution\n",
    "output_tensor = transposed_conv(input_tensor)\n",
    "\n",
    "# Print the shape of the output tensor\n",
    "print(output_tensor.shape)\n",
    "print(output_tensor)"
   ]
  }
 ],
 "metadata": {
  "kernelspec": {
   "display_name": "MonaiLatestEnv",
   "language": "python",
   "name": "python3"
  },
  "language_info": {
   "codemirror_mode": {
    "name": "ipython",
    "version": 3
   },
   "file_extension": ".py",
   "mimetype": "text/x-python",
   "name": "python",
   "nbconvert_exporter": "python",
   "pygments_lexer": "ipython3",
   "version": "3.10.13"
  }
 },
 "nbformat": 4,
 "nbformat_minor": 2
}
