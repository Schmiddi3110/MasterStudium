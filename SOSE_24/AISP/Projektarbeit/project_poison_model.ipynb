{
 "cells": [
  {
   "cell_type": "code",
   "execution_count": 2,
   "metadata": {},
   "outputs": [
    {
     "name": "stderr",
     "output_type": "stream",
     "text": [
      "/home/fabian/MasterStudium/PythonEnvironment/lib/python3.10/site-packages/tqdm/auto.py:21: TqdmWarning: IProgress not found. Please update jupyter and ipywidgets. See https://ipywidgets.readthedocs.io/en/stable/user_install.html\n",
      "  from .autonotebook import tqdm as notebook_tqdm\n"
     ]
    }
   ],
   "source": [
    "import numpy as np\n",
    "import os, sys\n",
    "import tqdm\n",
    "from tqdm import trange\n",
    "from art.attacks.poisoning import GradientMatchingAttack\n",
    "from art.utils import load_cifar10\n",
    "from art.estimators.classification import PyTorchClassifier\n",
    "from art.utils import to_categorical\n",
    "\n",
    "import torch\n",
    "import torch.nn as nn\n",
    "import torch.nn.functional as F\n",
    "from torch.utils.data import TensorDataset, DataLoader\n",
    "from torchvision import transforms"
   ]
  },
  {
   "cell_type": "code",
   "execution_count": 3,
   "metadata": {},
   "outputs": [],
   "source": [
    "module_path = os.path.abspath(os.path.join('..'))\n",
    "if module_path not in sys.path:\n",
    "    sys.path.append(module_path)\n",
    "module_path = os.path.abspath(os.path.join('.'))\n",
    "if module_path not in sys.path:\n",
    "    sys.path.append(module_path)"
   ]
  },
  {
   "cell_type": "code",
   "execution_count": 4,
   "metadata": {},
   "outputs": [
    {
     "name": "stdout",
     "output_type": "stream",
     "text": [
      "cuda\n"
     ]
    }
   ],
   "source": [
    "from art.utils import load_cifar10\n",
    "\n",
    "import torch\n",
    "import torch.nn as nn\n",
    "import torch.nn.functional as F\n",
    "from torch.utils.data import TensorDataset, DataLoader\n",
    "\n",
    "\n",
    "device = torch.device(\"cuda\" if torch.cuda.is_available() else \"cpu\") # mps does not work\n",
    "print(device)"
   ]
  },
  {
   "cell_type": "code",
   "execution_count": 5,
   "metadata": {},
   "outputs": [],
   "source": [
    "import timm\n",
    "\n",
    "def _create_model(model_name, classes):\n",
    "    model = timm.create_model(MODEL_NAME, pretrained=True) # TODO Consider pretrained=True and False\n",
    "    in_feats = model.fc.in_features\n",
    "    model.fc = nn.Linear(in_feats, classes) # adapt final layer to match the 10 classes of CIFAR-10\n",
    "\n",
    "    return model\n",
    "\n",
    "MODEL_NAME = \"resnet18.a1_in1k\"\n",
    "model = _create_model(MODEL_NAME, 10)\n",
    "upsampler = torch.nn.Upsample(scale_factor=7, mode='nearest')   # 32 --> 224, Faktor 7\n",
    "optimizer = torch.optim.SGD(model.parameters(), lr=0.1, momentum=0.9, weight_decay=5e-4, nesterov=True) # from poisoning example\n",
    "\n",
    "loss_fn = torch.nn.CrossEntropyLoss()"
   ]
  },
  {
   "cell_type": "code",
   "execution_count": 6,
   "metadata": {},
   "outputs": [
    {
     "name": "stdout",
     "output_type": "stream",
     "text": [
      "0.4733630004850874 0.25156892506322026\n"
     ]
    }
   ],
   "source": [
    "(x_train, y_train), (x_test, y_test), min_, max_ = load_cifar10()\n",
    "\n",
    "mean = np.mean(x_train,axis=(0,1,2,3))\n",
    "std = np.std(x_train,axis=(0,1,2,3))\n",
    "x_train = (x_train-mean)/(std+1e-7)\n",
    "x_test = (x_test-mean)/(std+1e-7)\n",
    "\n",
    "x_train = np.transpose(x_train, [0, 3,1,2])\n",
    "x_test = np.transpose(x_test, [0, 3,1,2])\n",
    "\n",
    "min_ = (min_-mean)/(std+1e-7)\n",
    "max_ = (max_-mean)/(std+1e-7)\n",
    "\n",
    "print (mean, std)"
   ]
  },
  {
   "cell_type": "code",
   "execution_count": 7,
   "metadata": {},
   "outputs": [],
   "source": [
    "def data_processing(x_train, y_train, x_test, y_test, upsampler, device=device):\n",
    "    \n",
    "    if upsampler is None:\n",
    "        x_tensor = torch.tensor(x_train, dtype=torch.float32, device=device) # transform to torch tensor\n",
    "        x_tensor_test = torch.tensor(x_test, dtype=torch.float32, device=device) # transform to torch tensor\n",
    "\n",
    "    else:\n",
    "        _x_tensor = torch.tensor(x_train, dtype=torch.float32, device=device) # transform to torch tensor\n",
    "        x_tensor = upsampler(_x_tensor)\n",
    "        del _x_tensor\n",
    "\n",
    "        _x_tensor_test = torch.tensor(x_test, dtype=torch.float32, device=device) # transform to torch tensor\n",
    "        x_tensor_test = upsampler(_x_tensor_test)\n",
    "        del _x_tensor_test\n",
    "\n",
    "    y_train = np.argmax(y_train, axis=1)\n",
    "    y_tensor = torch.tensor(y_train, dtype=torch.long, device=device)\n",
    "\n",
    "    y_test = np.argmax(y_test, axis=1)\n",
    "    y_tensor_test = torch.tensor(y_test, dtype=torch.long, device=device)\n",
    "\n",
    "    return x_tensor, y_tensor, x_tensor_test, y_tensor_test"
   ]
  },
  {
   "cell_type": "code",
   "execution_count": 8,
   "metadata": {},
   "outputs": [],
   "source": [
    "x_train, y_train, x_test, y_test = data_processing(x_train, y_train, x_test, y_test, upsampler=None)\n"
   ]
  },
  {
   "cell_type": "code",
   "execution_count": 9,
   "metadata": {},
   "outputs": [],
   "source": [
    "def _testAccuracy(model, test_loader, transform=None, max_steps=10):\n",
    "    model_was_training = model.training\n",
    "    model.eval()\n",
    "    accuracy = 0.0\n",
    "    total = 0.0\n",
    "    \n",
    "    with torch.no_grad():\n",
    "        for data in test_loader:\n",
    "            images, labels = data\n",
    "\n",
    "            if transform is not None:\n",
    "                images = transform(images)\n",
    "\n",
    "            # run the model on the test set to predict labels\n",
    "            outputs = model(images)\n",
    "            # the label with the highest energy will be our prediction\n",
    "            _, predicted = torch.max(outputs.data, 1)\n",
    "            total += labels.size(0)\n",
    "            accuracy += (predicted == labels).sum().item()\n",
    "    \n",
    "    # compute the accuracy over all test images\n",
    "    accuracy = (100 * accuracy / total)\n",
    "    if model_was_training:\n",
    "      model.train()\n",
    "    return(accuracy)"
   ]
  },
  {
   "cell_type": "code",
   "execution_count": 10,
   "metadata": {},
   "outputs": [],
   "source": [
    "def train_model(model, optimizer, loss_fn, x_train, y_train, x_test, y_test, x_trigger=None, y_trigger=None, transform=None, batch_size=128, epochs=80):\n",
    "    \n",
    "    model.to(device)\n",
    "\n",
    "    dataset_train = TensorDataset(x_train.to(device), y_train.to(device)) # create your datset\n",
    "    dataloader_train = DataLoader(dataset_train, batch_size=batch_size)\n",
    "\n",
    "    dataset_test = TensorDataset(x_test.to(device), y_test.to(device)) # create your datset\n",
    "    dataloader_test = DataLoader(dataset_test, batch_size=batch_size)\n",
    "\n",
    "    iter = trange(epochs)\n",
    "    for _ in iter:\n",
    "        running_loss = 0.0\n",
    "        total = 0\n",
    "        accuracy = 0\n",
    "        for _, data in enumerate(dataloader_train, 0):\n",
    "            inputs, labels = data\n",
    "            optimizer.zero_grad()\n",
    "\n",
    "            if transform is not None:\n",
    "                outputs = model(transform(inputs))\n",
    "            else:\n",
    "                outputs = model(inputs)\n",
    "\n",
    "            loss = loss_fn(outputs, labels)\n",
    "            loss.backward()\n",
    "            optimizer.step()\n",
    "\n",
    "            _, predicted = torch.max(outputs.data, 1)\n",
    "            total += labels.size(0)\n",
    "            accuracy += (predicted == labels).sum().item()\n",
    "            running_loss += loss.item()\n",
    "        train_accuracy = (accuracy / total)\n",
    "        print (\"train acc\", train_accuracy)\n",
    "\n",
    "        if x_trigger is not None:\n",
    "            y_ = model(x_trigger)\n",
    "            y_ = F.softmax(y_, dim=-1)[0]\n",
    "            output_target = y_.detach().cpu().numpy()[y_trigger]\n",
    "            iter.set_postfix({'acc': train_accuracy, 'target': output_target})\n",
    "            tqdm.tqdm.write(str(output_target))\n",
    "        else:\n",
    "            iter.set_postfix({'acc': train_accuracy})\n",
    "    test_accuracy = _testAccuracy(model, dataloader_test, transform)\n",
    "    print(\"Final test accuracy: %f\" % test_accuracy)\n",
    "\n",
    "    del dataset_train, dataloader_train\n",
    "    del dataset_test, dataloader_test\n",
    "\n",
    "    return model"
   ]
  },
  {
   "cell_type": "code",
   "execution_count": null,
   "metadata": {},
   "outputs": [],
   "source": [
    "model_checkpoint_path = './state_dicts/poison_%s_cifar10_model.pt' % MODEL_NAME\n",
    "if os.path.isfile(model_checkpoint_path):\n",
    "    checkpoint = torch.load(model_checkpoint_path, map_location=device)\n",
    "    model.load_state_dict(checkpoint['model_state_dict'])\n",
    "    optimizer.load_state_dict(checkpoint['optimizer_state_dict'])    \n",
    "    print('loaded model checkpoint')\n",
    "else:\n",
    "    model = train_model(model, optimizer, loss_fn, x_train, y_train, x_test, y_test, transform=None, epochs=80)\n",
    "    checkpoint = {'model_state_dict': model.state_dict(),'optimizer_state_dict' :optimizer.state_dict()}\n",
    "    torch.save(checkpoint, model_checkpoint_path)\n",
    "    print('saved model checkpoint')\n",
    "\n",
    "print(\"Model and data preparation done.\")\n",
    "\n"
   ]
  },
  {
   "cell_type": "markdown",
   "metadata": {},
   "source": [
    "#### Poison the Dataset"
   ]
  },
  {
   "cell_type": "code",
   "execution_count": 13,
   "metadata": {},
   "outputs": [],
   "source": [
    "from art.attacks.poisoning.gradient_matching_attack import GradientMatchingAttack\n",
    "def poison_data(model, x_trigger, y_trigger, max_epochs = 100):\n",
    "    epsilson = 16/255\n",
    "\n",
    "    model_art = PyTorchClassifier(\n",
    "        model=model,\n",
    "        loss=loss_fn,\n",
    "        optimizer=optimizer,    \n",
    "        input_shape=(1, 28, 28),\n",
    "        nb_classes=10,\n",
    "    ) \n",
    "\n",
    "    attack = GradientMatchingAttack(model_art,\n",
    "            percent_poison=0.10,\n",
    "            max_trials=1,\n",
    "            max_epochs=max_epochs,\n",
    "            clip_values=(min_,max_),\n",
    "            learning_rate_schedule=(np.array([1e-1, 1e-2, 1e-3, 1e-4, 1e-5]), [250, 350, 400, 430, 460]),\n",
    "            epsilon=epsilson,\n",
    "            verbose=1)\n",
    "\n",
    "    x_poison, y_poison = attack.poison(x_trigger, y_trigger, x_train.cpu(), y_train.cpu())\n",
    "    return torch.tensor(x_poison), torch.tensor(y_poison)"
   ]
  },
  {
   "cell_type": "code",
   "execution_count": 12,
   "metadata": {},
   "outputs": [],
   "source": [
    "target_class = 1\n",
    "source_class = 0\n",
    "target_indices = np.where(y_test.cpu().numpy() == source_class)[0][:10]\n",
    "\n",
    "x_trigger = x_test[target_indices]\n",
    "y_trigger  = to_categorical([target_class], nb_classes=10)"
   ]
  },
  {
   "cell_type": "code",
   "execution_count": null,
   "metadata": {},
   "outputs": [],
   "source": [
    "import torch\n",
    "\n",
    "x_poisons = []\n",
    "y_poisons = []\n",
    "\n",
    "for i in range(len(target_indices)):\n",
    "    x_poison, y_poison = poison_data(model, x_trigger[i:i+1], y_trigger, max_epochs=500)\n",
    "    x_poisons.append(x_poison)\n",
    "    y_poisons.append(y_poison)\n",
    "\n",
    "# Concatenate all the poisoned samples into a single tensor\n",
    "x_poisons = torch.cat(x_poisons, dim=0)\n",
    "y_poisons = torch.cat(y_poisons, dim=0)\n",
    "torch.save((x_poisons, y_poisons), 'poisoned_data.pt')"
   ]
  },
  {
   "cell_type": "code",
   "execution_count": 15,
   "metadata": {},
   "outputs": [
    {
     "name": "stdout",
     "output_type": "stream",
     "text": [
      "Poisoned data loaded successfully\n"
     ]
    }
   ],
   "source": [
    "x_poisons, y_poisons = torch.load('poisoned_data.pt')\n",
    "\n",
    "print(\"Poisoned data loaded successfully\")"
   ]
  },
  {
   "cell_type": "markdown",
   "metadata": {},
   "source": [
    "#### Train poisoned Models"
   ]
  },
  {
   "cell_type": "code",
   "execution_count": null,
   "metadata": {},
   "outputs": [],
   "source": [
    "MODEL_NAME = \"resnet18.a1_in1k\"\n",
    "upsampler = torch.nn.Upsample(scale_factor=7, mode='nearest')   # 32 --> 224, Faktor 7\n",
    "optimizer = torch.optim.SGD(model.parameters(), lr=0.1, momentum=0.9, weight_decay=5e-4, nesterov=True) # from poisoning example\n",
    "loss_fn = torch.nn.CrossEntropyLoss()\n",
    "models = []\n",
    "\n",
    "for i in range(len(target_indices)):\n",
    "    model_checkpoint_path = f'./state_dicts/poison_{MODEL_NAME}_cifar10_model_{i}.pt'\n",
    "\n",
    "    model = _create_model(MODEL_NAME, 10)\n",
    "    model = train_model(model, optimizer, loss_fn, x_poisons[50000*i:50000*(i + 1)], y_poisons[50000*i:50000*(i + 1)], x_test, y_test, transform=None, epochs=80)\n",
    "    checkpoint = {'model_state_dict': model.state_dict(),'optimizer_state_dict' :optimizer.state_dict()}\n",
    "    torch.save(checkpoint, model_checkpoint_path)\n",
    "    print('saved model checkpoint')\n",
    "\n",
    "    models.append(model)"
   ]
  },
  {
   "cell_type": "markdown",
   "metadata": {},
   "source": [
    "#### Check Poison effectiveness"
   ]
  },
  {
   "cell_type": "code",
   "execution_count": 25,
   "metadata": {},
   "outputs": [
    {
     "name": "stderr",
     "output_type": "stream",
     "text": [
      "Processing model 0:   0%|          | 0/50000 [00:00<?, ?it/s]/tmp/ipykernel_3692/2666724586.py:21: UserWarning: To copy construct from a tensor, it is recommended to use sourceTensor.clone().detach() or sourceTensor.clone().detach().requires_grad_(True), rather than torch.tensor(sourceTensor).\n",
      "  test = torch.tensor(x_poisons[j:j+1], device=device, dtype=torch.float)\n",
      "Processing model 0: 100%|██████████| 50000/50000 [01:41<00:00, 490.40it/s]\n",
      "Processing model 1: 100%|██████████| 50000/50000 [01:42<00:00, 486.30it/s]\n",
      "Processing model 2: 100%|██████████| 50000/50000 [01:42<00:00, 487.85it/s]\n",
      "Processing model 3: 100%|██████████| 50000/50000 [01:42<00:00, 487.72it/s]\n",
      "Processing model 4: 100%|██████████| 50000/50000 [01:40<00:00, 495.49it/s]\n",
      "Processing model 5: 100%|██████████| 50000/50000 [01:42<00:00, 488.19it/s]\n",
      "Processing model 6: 100%|██████████| 50000/50000 [01:41<00:00, 490.71it/s]\n",
      "Processing model 7: 100%|██████████| 50000/50000 [01:42<00:00, 487.48it/s]\n",
      "Processing model 8: 100%|██████████| 50000/50000 [01:42<00:00, 490.09it/s]\n",
      "Processing model 9: 100%|██████████| 50000/50000 [01:43<00:00, 483.28it/s]\n"
     ]
    }
   ],
   "source": [
    "import torch\n",
    "import numpy as np\n",
    "from tqdm import tqdm  \n",
    "\n",
    "poison_success_dict = {}\n",
    "poison_fail_dict = {}\n",
    "\n",
    "for i in range(len(target_indices)):\n",
    "    model = _create_model(MODEL_NAME, 10).cuda()\n",
    "\n",
    "    # import the model, training routines you need from your victim's code...\n",
    "    model_path = f\"./state_dicts/poison_resnet18.a1_in1k_cifar10_model_{i}.pt\"\n",
    "    state_dict = torch.load(model_path)\n",
    "    model.load_state_dict(state_dict['model_state_dict'])\n",
    "    # model.cuda()\n",
    "    model.eval()\n",
    "    poison_success = 0\n",
    "    poison_fail = 0    \n",
    "\n",
    "    for j in tqdm(range(50000*i,50000*(i+1)), desc=f\"Processing model {i}\"):\n",
    "        test = torch.tensor(x_poisons[j:j+1], device=device, dtype=torch.float)\n",
    "        \n",
    "        y_ = model(test).cuda()\n",
    "        \n",
    "        y__np = y_.cpu().detach().numpy()          \n",
    "        \n",
    "        if np.argmax(y_trigger) == np.argmax(y__np):\n",
    "            poison_success += 1\n",
    "        else:\n",
    "            poison_fail += 1\n",
    "    \n",
    "    poison_success_dict[i] = poison_success\n",
    "    poison_fail_dict[i] = poison_fail\n",
    "\n",
    "    del model\n",
    "    torch.cuda.empty_cache()\n"
   ]
  },
  {
   "cell_type": "code",
   "execution_count": 28,
   "metadata": {},
   "outputs": [
    {
     "data": {
      "image/png": "[encoded data removed]",
      "text/plain": [
       "<Figure size 640x480 with 1 Axes>"
      ]
     },
     "metadata": {},
     "output_type": "display_data"
    }
   ],
   "source": [
    "import matplotlib.pyplot as plt\n",
    "indices = list(poison_success_dict.keys())\n",
    "successes = list(poison_success_dict.values())\n",
    "failures = list(poison_fail_dict.values())\n",
    "\n",
    "fig, ax = plt.subplots()\n",
    "bar_width = 0.35\n",
    "\n",
    "bar1 = ax.bar(indices, successes, bar_width, label='Poison Success')\n",
    "bar2 = ax.bar(indices, failures, bar_width, bottom=successes, label='Poison Fail')\n",
    "\n",
    "ax.set_xlabel('Model Index')\n",
    "ax.set_ylabel('Count')\n",
    "ax.set_title('Poison Success and Fail Counts per Model')\n",
    "ax.legend()\n",
    "\n",
    "plt.show()"
   ]
  },
  {
   "cell_type": "code",
   "execution_count": null,
   "metadata": {},
   "outputs": [],
   "source": []
  }
 ],
 "metadata": {
  "kernelspec": {
   "display_name": "PythonEnvironment",
   "language": "python",
   "name": "python3"
  },
  "language_info": {
   "codemirror_mode": {
    "name": "ipython",
    "version": 3
   },
   "file_extension": ".py",
   "mimetype": "text/x-python",
   "name": "python",
   "nbconvert_exporter": "python",
   "pygments_lexer": "ipython3",
   "version": "3.10.12"
  }
 },
 "nbformat": 4,
 "nbformat_minor": 2
}
