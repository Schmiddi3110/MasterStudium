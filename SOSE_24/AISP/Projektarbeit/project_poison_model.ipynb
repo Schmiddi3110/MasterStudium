{
 "cells": [
  {
   "cell_type": "markdown",
   "metadata": {},
   "source": [
    "<a id=\"0\"></a>\n",
    " # Table of Contents\n",
    "1. [Setting up](#1)\n",
    "2. [Prepare Dataset](#2)\n",
    "3. [Train clean Model](#3)\n",
    "4. [Running the Attack](#4)\n",
    "    - [Poison the Dataset](#4a)\n",
    "    - [Visualize poison sample](#4b)\n",
    "    - [Train poisoned Models](#4c)\n",
    "    - [Check poison effectiveness](#4d)\n",
    "5. [Defense](#5)\n"
   ]
  },
  {
   "cell_type": "markdown",
   "metadata": {},
   "source": [
    "## Setting up<a class=\"anchor\" id=\"1\"></a>"
   ]
  },
  {
   "cell_type": "code",
   "execution_count": 9,
   "metadata": {},
   "outputs": [],
   "source": [
    "import numpy as np\n",
    "import os, sys\n",
    "import tqdm\n",
    "from tqdm import trange\n",
    "from art.attacks.poisoning import GradientMatchingAttack\n",
    "from art.utils import load_cifar10\n",
    "from art.estimators.classification import PyTorchClassifier\n",
    "from art.utils import to_categorical\n",
    "import torch\n",
    "import torch.nn as nn\n",
    "import torch.nn.functional as F\n",
    "from torch.utils.data import TensorDataset, DataLoader\n",
    "from torchvision import transforms\n",
    "import timm\n",
    "from project_poison_model import _create_model, _testAccuracy, train_model, data_processing"
   ]
  },
  {
   "cell_type": "code",
   "execution_count": 10,
   "metadata": {},
   "outputs": [],
   "source": [
    "module_path = os.path.abspath(os.path.join('..'))\n",
    "if module_path not in sys.path:\n",
    "    sys.path.append(module_path)\n",
    "module_path = os.path.abspath(os.path.join('.'))\n",
    "if module_path not in sys.path:\n",
    "    sys.path.append(module_path)"
   ]
  },
  {
   "cell_type": "code",
   "execution_count": 11,
   "metadata": {},
   "outputs": [
    {
     "name": "stdout",
     "output_type": "stream",
     "text": [
      "cuda\n"
     ]
    }
   ],
   "source": [
    "device = torch.device(\"cuda\" if torch.cuda.is_available() else \"cpu\") \n",
    "print(device)"
   ]
  },
  {
   "cell_type": "markdown",
   "metadata": {},
   "source": [
    "[Back to the top](#0) "
   ]
  },
  {
   "cell_type": "markdown",
   "metadata": {},
   "source": [
    "## Prepare Dataset<a class=\"anchor\" id=\"2\"></a>"
   ]
  },
  {
   "cell_type": "code",
   "execution_count": 12,
   "metadata": {},
   "outputs": [
    {
     "name": "stdout",
     "output_type": "stream",
     "text": [
      "0.4733630004850874 0.25156892506322026\n"
     ]
    }
   ],
   "source": [
    "(x_train, y_train), (x_test, y_test), min_, max_ = load_cifar10()\n",
    "\n",
    "# Normalize Dataset\n",
    "mean = np.mean(x_train,axis=(0,1,2,3))\n",
    "std = np.std(x_train,axis=(0,1,2,3))\n",
    "x_train = (x_train-mean)/(std+1e-7)\n",
    "x_test = (x_test-mean)/(std+1e-7)\n",
    "\n",
    "x_train = np.transpose(x_train, [0, 3,1,2])\n",
    "x_test = np.transpose(x_test, [0, 3,1,2])\n",
    "\n",
    "min_ = (min_-mean)/(std+1e-7)\n",
    "max_ = (max_-mean)/(std+1e-7)\n",
    "\n",
    "print (mean, std)"
   ]
  },
  {
   "cell_type": "code",
   "execution_count": 13,
   "metadata": {},
   "outputs": [],
   "source": [
    "# Define Train-Test-Split\n",
    "upsampler = torch.nn.Upsample(scale_factor=7, mode='nearest')\n",
    "x_train, y_train, x_test, y_test = data_processing(x_train, y_train, x_test, y_test, upsampler=None)"
   ]
  },
  {
   "cell_type": "markdown",
   "metadata": {},
   "source": [
    "[Back to the top](#0) "
   ]
  },
  {
   "cell_type": "markdown",
   "metadata": {},
   "source": [
    "## Train clean Model<a class=\"anchor\" id=\"3\"></a>"
   ]
  },
  {
   "cell_type": "code",
   "execution_count": 14,
   "metadata": {},
   "outputs": [
    {
     "name": "stdout",
     "output_type": "stream",
     "text": [
      "loaded model checkpoint\n",
      "Model and data preparation done.\n"
     ]
    }
   ],
   "source": [
    "MODEL_NAME = \"resnet18.a1_in1k\"\n",
    "model = _create_model(MODEL_NAME, 10)\n",
    "optimizer = torch.optim.SGD(model.parameters(), lr=0.1, momentum=0.9, weight_decay=5e-4, nesterov=True)\n",
    "\n",
    "loss_fn = torch.nn.CrossEntropyLoss()\n",
    "\n",
    "model_checkpoint_path = './state_dicts/poison_%s_cifar10_model_clean.pt' % MODEL_NAME\n",
    "if os.path.isfile(model_checkpoint_path):\n",
    "    checkpoint = torch.load(model_checkpoint_path, map_location=device)\n",
    "    model.load_state_dict(checkpoint['model_state_dict'])\n",
    "    optimizer.load_state_dict(checkpoint['optimizer_state_dict'])    \n",
    "    print('loaded model checkpoint')\n",
    "else:\n",
    "    model = train_model(model, optimizer, loss_fn, x_train, y_train, x_test, y_test, transform=None, epochs=80)\n",
    "    checkpoint = {'model_state_dict': model.state_dict(),'optimizer_state_dict' :optimizer.state_dict()}\n",
    "    torch.save(checkpoint, model_checkpoint_path)\n",
    "    print('saved model checkpoint')\n",
    "\n",
    "print(\"Model and data preparation done.\")"
   ]
  },
  {
   "cell_type": "code",
   "execution_count": 15,
   "metadata": {},
   "outputs": [
    {
     "name": "stdout",
     "output_type": "stream",
     "text": [
      "Clean model Accuracy: 73.39\n"
     ]
    }
   ],
   "source": [
    "model = _create_model(MODEL_NAME, 10).cuda()\n",
    "\n",
    "model_path = f\"./state_dicts/poison_resnet18.a1_in1k_cifar10_model_clean.pt\"\n",
    "state_dict = torch.load(model_path)\n",
    "model.load_state_dict(state_dict['model_state_dict'])\n",
    "\n",
    "model.eval()\n",
    "\n",
    "dataset_test = TensorDataset(x_test.to(device), y_test.to(device))\n",
    "dataloader_test = DataLoader(dataset_test, batch_size=128)\n",
    "\n",
    "acc = _testAccuracy(model=model, test_loader= dataloader_test)\n",
    "print(f\"Clean model Accuracy: {acc}\")    "
   ]
  },
  {
   "cell_type": "markdown",
   "metadata": {},
   "source": [
    "[Back to the top](#0) "
   ]
  },
  {
   "cell_type": "markdown",
   "metadata": {},
   "source": [
    "## Running the Attack <a class=\"anchor\" id = \"4\"></a>"
   ]
  },
  {
   "cell_type": "markdown",
   "metadata": {},
   "source": [
    "#### Poison the Dataset<a class=\"anchor\" id=\"4a\"></a>"
   ]
  },
  {
   "cell_type": "code",
   "execution_count": 20,
   "metadata": {},
   "outputs": [],
   "source": [
    "from art.attacks.poisoning.gradient_matching_attack import GradientMatchingAttack\n",
    "def poison_data(model, epsilon, percent_poison, x_trigger, y_trigger, max_epochs = 100):\n",
    "    \"\"\"\n",
    "    Poisons a PyTorch model using a gradient matching attack.\n",
    "\n",
    "    Parameters:\n",
    "    -----------\n",
    "    model : torch.nn.Module\n",
    "        The PyTorch model to be attacked.\n",
    "\n",
    "    epsilon : float\n",
    "        The maximum perturbation allowed.\n",
    "\n",
    "    percent_poison : float\n",
    "        The proportion of the dataset to be poisoned.\n",
    "\n",
    "    x_trigger : numpy.ndarray\n",
    "        The input data that serves as the trigger for the attack.\n",
    "\n",
    "    y_trigger : numpy.ndarray\n",
    "        The target labels corresponding to the x_trigger data.\n",
    "\n",
    "    max_epochs : int, optional\n",
    "        The maximum number of epochs to run the attack (default is 100).\n",
    "\n",
    "    Returns:\n",
    "    --------\n",
    "    None\n",
    "\n",
    "    Notes:\n",
    "    ------\n",
    "    This function leverages the Adversarial Robustness Toolbox (ART) to perform a gradient matching attack.\n",
    "    \"\"\"\n",
    "    \n",
    "\n",
    "    model_art = PyTorchClassifier(\n",
    "        model=model,\n",
    "        loss=loss_fn,\n",
    "        optimizer=optimizer,    \n",
    "        input_shape=x_train.shape[1:],\n",
    "        nb_classes=10,\n",
    "    ) \n",
    "\n",
    "    attack = GradientMatchingAttack(model_art,\n",
    "            percent_poison=percent_poison,\n",
    "            max_trials=1,\n",
    "            max_epochs=max_epochs,\n",
    "            clip_values=(min_,max_),\n",
    "            learning_rate_schedule=(np.array([1e-1, 1e-2, 1e-3, 1e-4, 1e-5]), [250, 350, 400, 430, 460]),\n",
    "            epsilon=epsilon,\n",
    "            verbose=1)\n",
    "\n",
    "    x_poison, y_poison = attack.poison(x_trigger, y_trigger, x_train.cpu(), y_train.cpu())\n",
    "    return torch.tensor(x_poison), torch.tensor(y_poison)"
   ]
  },
  {
   "cell_type": "code",
   "execution_count": 21,
   "metadata": {},
   "outputs": [],
   "source": [
    "target_class = 1\n",
    "source_class = 0\n",
    "target_indices = np.where(y_test.cpu().numpy() == source_class)[0][:10]\n",
    "\n",
    "x_trigger = x_test[target_indices]\n",
    "y_trigger  = to_categorical([target_class], nb_classes=10)"
   ]
  },
  {
   "cell_type": "code",
   "execution_count": null,
   "metadata": {},
   "outputs": [],
   "source": [
    "x_poisons = []\n",
    "y_poisons = []\n",
    "\n",
    "epsilon = (16/255)/std\n",
    "percent_poison = 0.01\n",
    "\n",
    "for i in range(len(target_indices)):\n",
    "    x_poison, y_poison = poison_data(model, epsilon, percent_poison, x_trigger[i:i+1], y_trigger, max_epochs=500)\n",
    "    x_poisons.append(x_poison)\n",
    "    y_poisons.append(y_poison)\n",
    "\n",
    "# Concatenate all the poisoned samples into a single tensor (this will be accounted for later)\n",
    "x_poisons = torch.cat(x_poisons, dim=0)\n",
    "y_poisons = torch.cat(y_poisons, dim=0)\n",
    "torch.save((x_poisons, y_poisons), 'poisoned_data.pt')"
   ]
  },
  {
   "cell_type": "code",
   "execution_count": 18,
   "metadata": {},
   "outputs": [
    {
     "name": "stdout",
     "output_type": "stream",
     "text": [
      "Poisoned data loaded successfully\n"
     ]
    }
   ],
   "source": [
    "x_poisons, y_poisons = torch.load('poisoned_data.pt')\n",
    "\n",
    "print(\"Poisoned data loaded successfully\")"
   ]
  },
  {
   "cell_type": "markdown",
   "metadata": {},
   "source": [
    "[Back to the top](#0) "
   ]
  },
  {
   "cell_type": "markdown",
   "metadata": {},
   "source": [
    "#### Visualize poison sample <a class=\"anchor\" id = \"4b\"></a>"
   ]
  },
  {
   "cell_type": "code",
   "execution_count": 19,
   "metadata": {},
   "outputs": [
    {
     "data": {
      "image/png": "[encoded data removed]",
      "text/plain": [
       "<Figure size 1500x500 with 3 Axes>"
      ]
     },
     "metadata": {},
     "output_type": "display_data"
    }
   ],
   "source": [
    "import matplotlib.pyplot as plt\n",
    "# Identify the index of the poisoned example\n",
    "index_poisoned_example = np.where([np.any(p != o) for (p, o) in zip(x_poisons.cpu().numpy(), x_train.cpu().numpy())])[0]\n",
    "\n",
    "fig, axes = plt.subplots(1, 3, figsize=(15, 5))\n",
    "\n",
    "# Display the trigger image\n",
    "axes[0].imshow(np.transpose(x_trigger.cpu().numpy()[0], (1, 2, 0)) * (std + 1e-7) + mean)\n",
    "axes[0].set_title('Trigger image')\n",
    "axes[0].axis('off') \n",
    "\n",
    "# Display the original image\n",
    "axes[1].imshow(np.transpose(x_train.cpu().numpy()[index_poisoned_example[0]], (1, 2, 0)) * (std + 1e-7) + mean)\n",
    "axes[1].set_title('Original image')\n",
    "axes[1].axis('off') \n",
    "\n",
    "# Display the poisoned image\n",
    "axes[2].imshow(np.transpose(x_poisons.cpu().numpy()[index_poisoned_example[0]], (1, 2, 0)) * (std + 1e-7) + mean)\n",
    "axes[2].set_title('Poisoned image')\n",
    "axes[2].axis('off') \n",
    "\n",
    "plt.show()"
   ]
  },
  {
   "cell_type": "markdown",
   "metadata": {},
   "source": [
    "[Back to the top](#0) "
   ]
  },
  {
   "cell_type": "markdown",
   "metadata": {},
   "source": [
    "#### Train poisoned Models<a class=\"anchor\" id=\"4c\"></a>"
   ]
  },
  {
   "cell_type": "code",
   "execution_count": null,
   "metadata": {},
   "outputs": [],
   "source": [
    "MODEL_NAME = \"resnet18.a1_in1k\"\n",
    "\n",
    "for i in range(len(target_indices)):\n",
    "    model_checkpoint_path = f'./state_dicts/poison_{MODEL_NAME}_cifar10_model_{i}.pt'\n",
    "    model = _create_model(MODEL_NAME, 10)\n",
    "    upsampler = torch.nn.Upsample(scale_factor=7, mode='nearest')   \n",
    "    optimizer = torch.optim.SGD(model.parameters(), lr=0.1, momentum=0.9, weight_decay=5e-4, nesterov=True) \n",
    "    loss_fn = torch.nn.CrossEntropyLoss()\n",
    "    \n",
    "    model = train_model(model, optimizer, loss_fn, x_poisons[50000*i:50000*(i + 1)], y_poisons[50000*i:50000*(i + 1)], x_test, y_test, transform=None, epochs=80)\n",
    "    checkpoint = {'model_state_dict': model.state_dict(),'optimizer_state_dict' :optimizer.state_dict()}\n",
    "    torch.save(checkpoint, model_checkpoint_path)\n",
    "    print('saved model checkpoint')   "
   ]
  },
  {
   "cell_type": "markdown",
   "metadata": {},
   "source": [
    "[Back to the top](#0) "
   ]
  },
  {
   "cell_type": "markdown",
   "metadata": {},
   "source": [
    "### Check poison effectiveness<a class=\"anchor\" id=\"4d\"></a>"
   ]
  },
  {
   "cell_type": "code",
   "execution_count": 24,
   "metadata": {},
   "outputs": [
    {
     "name": "stderr",
     "output_type": "stream",
     "text": [
      "Processing models:   0%|          | 0/10 [00:00<?, ?it/s]/tmp/ipykernel_10572/2373957678.py:27: UserWarning: To copy construct from a tensor, it is recommended to use sourceTensor.clone().detach() or sourceTensor.clone().detach().requires_grad_(True), rather than torch.tensor(sourceTensor).\n",
      "  test = torch.tensor(x_trigger[i:i+1], device=device, dtype=torch.float)\n",
      "Processing models: 100%|██████████| 10/10 [00:05<00:00,  1.94it/s]\n"
     ]
    },
    {
     "data": {
      "text/html": [
       "<div>\n",
       "<style scoped>\n",
       "    .dataframe tbody tr th:only-of-type {\n",
       "        vertical-align: middle;\n",
       "    }\n",
       "\n",
       "    .dataframe tbody tr th {\n",
       "        vertical-align: top;\n",
       "    }\n",
       "\n",
       "    .dataframe thead th {\n",
       "        text-align: right;\n",
       "    }\n",
       "</style>\n",
       "<table border=\"1\" class=\"dataframe\">\n",
       "  <thead>\n",
       "    <tr style=\"text-align: right;\">\n",
       "      <th></th>\n",
       "      <th>Poison Success</th>\n",
       "      <th>Model Accuracy</th>\n",
       "    </tr>\n",
       "  </thead>\n",
       "  <tbody>\n",
       "    <tr>\n",
       "      <th>0</th>\n",
       "      <td>False</td>\n",
       "      <td>73.71</td>\n",
       "    </tr>\n",
       "    <tr>\n",
       "      <th>1</th>\n",
       "      <td>True</td>\n",
       "      <td>73.02</td>\n",
       "    </tr>\n",
       "    <tr>\n",
       "      <th>2</th>\n",
       "      <td>True</td>\n",
       "      <td>72.45</td>\n",
       "    </tr>\n",
       "    <tr>\n",
       "      <th>3</th>\n",
       "      <td>True</td>\n",
       "      <td>70.86</td>\n",
       "    </tr>\n",
       "    <tr>\n",
       "      <th>4</th>\n",
       "      <td>True</td>\n",
       "      <td>72.49</td>\n",
       "    </tr>\n",
       "    <tr>\n",
       "      <th>5</th>\n",
       "      <td>True</td>\n",
       "      <td>71.61</td>\n",
       "    </tr>\n",
       "    <tr>\n",
       "      <th>6</th>\n",
       "      <td>True</td>\n",
       "      <td>71.70</td>\n",
       "    </tr>\n",
       "    <tr>\n",
       "      <th>7</th>\n",
       "      <td>True</td>\n",
       "      <td>71.43</td>\n",
       "    </tr>\n",
       "    <tr>\n",
       "      <th>8</th>\n",
       "      <td>False</td>\n",
       "      <td>73.88</td>\n",
       "    </tr>\n",
       "    <tr>\n",
       "      <th>9</th>\n",
       "      <td>True</td>\n",
       "      <td>73.30</td>\n",
       "    </tr>\n",
       "  </tbody>\n",
       "</table>\n",
       "</div>"
      ],
      "text/plain": [
       "   Poison Success  Model Accuracy\n",
       "0           False           73.71\n",
       "1            True           73.02\n",
       "2            True           72.45\n",
       "3            True           70.86\n",
       "4            True           72.49\n",
       "5            True           71.61\n",
       "6            True           71.70\n",
       "7            True           71.43\n",
       "8           False           73.88\n",
       "9            True           73.30"
      ]
     },
     "execution_count": 24,
     "metadata": {},
     "output_type": "execute_result"
    }
   ],
   "source": [
    "import torch\n",
    "import numpy as np\n",
    "from tqdm import tqdm  \n",
    "import pandas as pd\n",
    "\n",
    "accuracies = {}\n",
    "poison_success_dict = {}\n",
    "\n",
    "for i in tqdm(range(len(target_indices)), desc=f\"Processing models\"):\n",
    "    model = _create_model(MODEL_NAME, 10).cuda()\n",
    "\n",
    "    model_path = f\"./state_dicts/poison_resnet18.a1_in1k_cifar10_model_{i}.pt\"\n",
    "    state_dict = torch.load(model_path)\n",
    "    model.load_state_dict(state_dict['model_state_dict'])\n",
    "\n",
    "    model.eval()\n",
    "    \n",
    "    dataset_test = TensorDataset(x_test.to(device), y_test.to(device)) \n",
    "    dataloader_test = DataLoader(dataset_test, batch_size=128)\n",
    "        \n",
    "    accuracies[i] = _testAccuracy(model=model, test_loader= dataloader_test)       \n",
    "    test = torch.tensor(x_trigger[i:i+1], device=device, dtype=torch.float)\n",
    "    \n",
    "    y_ = model(test).cuda()\n",
    "    \n",
    "    y__np = y_.cpu().detach().numpy()          \n",
    "    \n",
    "    if np.argmax(y_trigger) == np.argmax(y__np):\n",
    "        poison_success = True\n",
    "    else:\n",
    "        poison_success = False\n",
    "    \n",
    "    poison_success_dict[i] = poison_success    \n",
    "\n",
    "    del model\n",
    "    torch.cuda.empty_cache()\n",
    "\n",
    "data = {    \n",
    "    'Poison Success': poison_success_dict,    \n",
    "    'Model Accuracy': accuracies\n",
    "}\n",
    "\n",
    "df = pd.DataFrame(data)\n",
    "df"
   ]
  },
  {
   "cell_type": "markdown",
   "metadata": {},
   "source": [
    "[Back to the top](#0) "
   ]
  },
  {
   "cell_type": "markdown",
   "metadata": {},
   "source": [
    "## Defense<a class=\"anchor\" id=\"5\"></a>"
   ]
  },
  {
   "cell_type": "markdown",
   "metadata": {},
   "source": [
    "#### Add noise to Dataset <a class=\"anchor\" id=\"5a\"></a>"
   ]
  },
  {
   "cell_type": "code",
   "execution_count": 28,
   "metadata": {},
   "outputs": [],
   "source": [
    "def add_gaussian_noise(x, mean=0, std=0.75):\n",
    "    noise = torch.randn_like(x) * std + mean\n",
    "    return x + noise"
   ]
  },
  {
   "cell_type": "code",
   "execution_count": 29,
   "metadata": {},
   "outputs": [
    {
     "name": "stderr",
     "output_type": "stream",
     "text": [
      "Clipping input data to the valid range for imshow with RGB data ([0..1] for floats or [0..255] for integers). Got range [-0.3281469768028613..1.3960424269631504].\n",
      "Clipping input data to the valid range for imshow with RGB data ([0..1] for floats or [0..255] for integers). Got range [-0.42463673825005954..1.5692572790823638].\n",
      "Clipping input data to the valid range for imshow with RGB data ([0..1] for floats or [0..255] for integers). Got range [-0.45583407461298975..1.5083108527590476].\n"
     ]
    },
    {
     "data": {
      "image/png": "[encoded data removed]",
      "text/plain": [
       "<Figure size 1500x500 with 3 Axes>"
      ]
     },
     "metadata": {},
     "output_type": "display_data"
    }
   ],
   "source": [
    "import matplotlib.pyplot as plt\n",
    "# Identify the index of the poisoned example\n",
    "index_poisoned_example = np.where([np.any(p != o) for (p, o) in zip(x_poisons.cpu().numpy(), x_train.cpu().numpy())])[0]\n",
    "\n",
    "fig, axes = plt.subplots(1, 3, figsize=(15, 5))\n",
    "\n",
    "# Display the trigger image\n",
    "axes[0].imshow(np.transpose(add_gaussian_noise(x_trigger).cpu().numpy()[0], (1, 2, 0)) * (std + 1e-7) + mean)\n",
    "axes[0].set_title('Trigger image')\n",
    "axes[0].axis('off')\n",
    "\n",
    "# Display the original image\n",
    "axes[1].imshow(np.transpose(add_gaussian_noise(x_train).cpu().numpy()[index_poisoned_example[0]], (1, 2, 0)) * (std + 1e-7) + mean)\n",
    "axes[1].set_title('Original image')\n",
    "axes[1].axis('off')\n",
    "\n",
    "# Display the poisoned image\n",
    "axes[2].imshow(np.transpose(add_gaussian_noise(x_poisons).cpu().numpy()[index_poisoned_example[0]], (1, 2, 0)) * (std + 1e-7) + mean)\n",
    "axes[2].set_title('Poisoned image')\n",
    "axes[2].axis('off')\n",
    "\n",
    "plt.show()"
   ]
  },
  {
   "cell_type": "markdown",
   "metadata": {},
   "source": [
    "[Back to the top](#0) "
   ]
  },
  {
   "cell_type": "markdown",
   "metadata": {},
   "source": [
    "#### Retrain Models with noisy poisoned Dataset <a class=\"anchor\" id=\"5b\"></a>"
   ]
  },
  {
   "cell_type": "code",
   "execution_count": null,
   "metadata": {},
   "outputs": [],
   "source": [
    "MODEL_NAME = \"resnet18.a1_in1k\"\n",
    "\n",
    "for i in range(len(target_indices)):\n",
    "    model_checkpoint_path = f'./state_dicts/poison_{MODEL_NAME}_cifar10_model_{i}_defence.pt'\n",
    "\n",
    "    x_poisons_noisy = add_gaussian_noise(x_poisons[50000*i:50000*(i + 1)])\n",
    "\n",
    "    model = _create_model(MODEL_NAME, 10)\n",
    "    upsampler = torch.nn.Upsample(scale_factor=7, mode='nearest')\n",
    "    optimizer = torch.optim.SGD(model.parameters(), lr=0.1, momentum=0.9, weight_decay=5e-4, nesterov=True)\n",
    "    loss_fn = torch.nn.CrossEntropyLoss()\n",
    "\n",
    "    #model = _create_model(MODEL_NAME, 10)\n",
    "    model = train_model(model, optimizer, loss_fn, x_poisons_noisy, y_poisons[50000*i:50000*(i + 1)], x_test, y_test, transform=None, epochs=80)\n",
    "    checkpoint = {'model_state_dict': model.state_dict(),'optimizer_state_dict' :optimizer.state_dict()}\n",
    "    torch.save(checkpoint, model_checkpoint_path)\n",
    "    print('saved model checkpoint')   "
   ]
  },
  {
   "cell_type": "markdown",
   "metadata": {},
   "source": [
    "[Back to the top](#0) "
   ]
  },
  {
   "cell_type": "markdown",
   "metadata": {},
   "source": [
    "#### Check poison effectivness on defended Models <a class=\"anchor\" id=\"5c\"></a>"
   ]
  },
  {
   "cell_type": "code",
   "execution_count": 25,
   "metadata": {},
   "outputs": [
    {
     "name": "stderr",
     "output_type": "stream",
     "text": [
      "Processing models:   0%|          | 0/10 [00:00<?, ?it/s]/tmp/ipykernel_10572/2043507614.py:22: UserWarning: To copy construct from a tensor, it is recommended to use sourceTensor.clone().detach() or sourceTensor.clone().detach().requires_grad_(True), rather than torch.tensor(sourceTensor).\n",
      "  test = torch.tensor(x_trigger[i:i+1], device=device, dtype=torch.float)\n",
      "Processing models: 100%|██████████| 10/10 [00:04<00:00,  2.01it/s]\n"
     ]
    },
    {
     "data": {
      "text/html": [
       "<div>\n",
       "<style scoped>\n",
       "    .dataframe tbody tr th:only-of-type {\n",
       "        vertical-align: middle;\n",
       "    }\n",
       "\n",
       "    .dataframe tbody tr th {\n",
       "        vertical-align: top;\n",
       "    }\n",
       "\n",
       "    .dataframe thead th {\n",
       "        text-align: right;\n",
       "    }\n",
       "</style>\n",
       "<table border=\"1\" class=\"dataframe\">\n",
       "  <thead>\n",
       "    <tr style=\"text-align: right;\">\n",
       "      <th></th>\n",
       "      <th>Poison Success</th>\n",
       "      <th>Model Accuracy</th>\n",
       "    </tr>\n",
       "  </thead>\n",
       "  <tbody>\n",
       "    <tr>\n",
       "      <th>0</th>\n",
       "      <td>False</td>\n",
       "      <td>57.66</td>\n",
       "    </tr>\n",
       "    <tr>\n",
       "      <th>1</th>\n",
       "      <td>False</td>\n",
       "      <td>59.21</td>\n",
       "    </tr>\n",
       "    <tr>\n",
       "      <th>2</th>\n",
       "      <td>False</td>\n",
       "      <td>55.65</td>\n",
       "    </tr>\n",
       "    <tr>\n",
       "      <th>3</th>\n",
       "      <td>False</td>\n",
       "      <td>56.33</td>\n",
       "    </tr>\n",
       "    <tr>\n",
       "      <th>4</th>\n",
       "      <td>False</td>\n",
       "      <td>59.05</td>\n",
       "    </tr>\n",
       "    <tr>\n",
       "      <th>5</th>\n",
       "      <td>False</td>\n",
       "      <td>58.83</td>\n",
       "    </tr>\n",
       "    <tr>\n",
       "      <th>6</th>\n",
       "      <td>False</td>\n",
       "      <td>54.18</td>\n",
       "    </tr>\n",
       "    <tr>\n",
       "      <th>7</th>\n",
       "      <td>False</td>\n",
       "      <td>58.35</td>\n",
       "    </tr>\n",
       "    <tr>\n",
       "      <th>8</th>\n",
       "      <td>False</td>\n",
       "      <td>61.27</td>\n",
       "    </tr>\n",
       "    <tr>\n",
       "      <th>9</th>\n",
       "      <td>False</td>\n",
       "      <td>56.99</td>\n",
       "    </tr>\n",
       "  </tbody>\n",
       "</table>\n",
       "</div>"
      ],
      "text/plain": [
       "   Poison Success  Model Accuracy\n",
       "0           False           57.66\n",
       "1           False           59.21\n",
       "2           False           55.65\n",
       "3           False           56.33\n",
       "4           False           59.05\n",
       "5           False           58.83\n",
       "6           False           54.18\n",
       "7           False           58.35\n",
       "8           False           61.27\n",
       "9           False           56.99"
      ]
     },
     "execution_count": 25,
     "metadata": {},
     "output_type": "execute_result"
    }
   ],
   "source": [
    "import torch\n",
    "import numpy as np\n",
    "from tqdm import tqdm  \n",
    "import pandas as pd\n",
    "\n",
    "accuracies = {}\n",
    "poison_success_dict = {}\n",
    "\n",
    "for i in tqdm(range(len(target_indices)), desc=f\"Processing models\"):\n",
    "    model = _create_model(MODEL_NAME, 10).cuda()\n",
    "\n",
    "    model_path = f\"./state_dicts/poison_resnet18.a1_in1k_cifar10_model_{i}_defence.pt\"\n",
    "    state_dict = torch.load(model_path)\n",
    "    model.load_state_dict(state_dict['model_state_dict'])\n",
    "\n",
    "    model.eval()\n",
    "    \n",
    "    dataset_test = TensorDataset(x_test.to(device), y_test.to(device)) \n",
    "    dataloader_test = DataLoader(dataset_test, batch_size=128)\n",
    "        \n",
    "    accuracies[i] = _testAccuracy(model=model, test_loader= dataloader_test)       \n",
    "    test = torch.tensor(x_trigger[i:i+1], device=device, dtype=torch.float)\n",
    "    \n",
    "    y_ = model(test).cuda()\n",
    "    \n",
    "    y__np = y_.cpu().detach().numpy()          \n",
    "    \n",
    "    if np.argmax(y_trigger) == np.argmax(y__np):\n",
    "        poison_success = True\n",
    "    else:\n",
    "        poison_success = False\n",
    "    \n",
    "    poison_success_dict[i] = poison_success    \n",
    "\n",
    "    del model\n",
    "    torch.cuda.empty_cache()\n",
    "\n",
    "data = {    \n",
    "    'Poison Success': poison_success_dict,    \n",
    "    'Model Accuracy': accuracies\n",
    "}\n",
    "\n",
    "df = pd.DataFrame(data)\n",
    "df"
   ]
  },
  {
   "cell_type": "markdown",
   "metadata": {},
   "source": [
    "[Back to the top](#0) "
   ]
  }
 ],
 "metadata": {
  "kernelspec": {
   "display_name": "PythonEnvironment",
   "language": "python",
   "name": "python3"
  },
  "language_info": {
   "codemirror_mode": {
    "name": "ipython",
    "version": 3
   },
   "file_extension": ".py",
   "mimetype": "text/x-python",
   "name": "python",
   "nbconvert_exporter": "python",
   "pygments_lexer": "ipython3",
   "version": "3.10.12"
  }
 },
 "nbformat": 4,
 "nbformat_minor": 2
}
