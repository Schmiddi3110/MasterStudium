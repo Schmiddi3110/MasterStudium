{
 "cells": [
  {
   "cell_type": "code",
   "execution_count": null,
   "metadata": {},
   "outputs": [],
   "source": [
    "import numpy as np\n",
    "import os, sys\n",
    "import tqdm\n",
    "from tqdm import trange"
   ]
  },
  {
   "cell_type": "code",
   "execution_count": null,
   "metadata": {},
   "outputs": [],
   "source": [
    "module_path = os.path.abspath(os.path.join('..'))\n",
    "if module_path not in sys.path:\n",
    "    sys.path.append(module_path)\n",
    "module_path = os.path.abspath(os.path.join('.'))\n",
    "if module_path not in sys.path:\n",
    "    sys.path.append(module_path)\n"
   ]
  },
  {
   "cell_type": "code",
   "execution_count": null,
   "metadata": {},
   "outputs": [],
   "source": [
    "from art.utils import load_cifar10\n",
    "\n",
    "import torch\n",
    "import torch.nn as nn\n",
    "import torch.nn.functional as F\n",
    "from torch.utils.data import TensorDataset, DataLoader\n",
    "\n",
    "\n",
    "device = torch.device(\"cuda:0\" if torch.cuda.is_available() else \"cpu\") # mps does not work\n"
   ]
  },
  {
   "cell_type": "code",
   "execution_count": null,
   "metadata": {},
   "outputs": [],
   "source": [
    "# Model \n",
    "\n",
    "\n",
    "import timm\n",
    "\n",
    "def _create_model(model_name, classes):\n",
    "    model = timm.create_model(MODEL_NAME, pretrained=True) # TODO Consider pretrained=True and False\n",
    "    in_feats = model.fc.in_features\n",
    "    model.fc = nn.Linear(in_feats, classes) # adapt final layer to match the 10 classes of CIFAR-10\n",
    "\n",
    "    return model\n",
    "\n",
    "MODEL_NAME = \"resnet18.a1_in1k\"\n",
    "model = _create_model(MODEL_NAME, 10)\n",
    "upsampler = torch.nn.Upsample(scale_factor=7, mode='nearest')   # 32 --> 224, Faktor 7\n",
    "optimizer = torch.optim.SGD(model.parameters(), lr=0.1, momentum=0.9, weight_decay=5e-4, nesterov=True) # from poisoning example\n",
    "\n",
    "loss_fn = torch.nn.CrossEntropyLoss()"
   ]
  },
  {
   "cell_type": "code",
   "execution_count": null,
   "metadata": {},
   "outputs": [],
   "source": [
    "# Data with upsampling\n",
    "(x_train, y_train), (x_test, y_test), min_, max_ = load_cifar10()\n",
    "\n",
    "mean = np.mean(x_train,axis=(0,1,2,3))\n",
    "std = np.std(x_train,axis=(0,1,2,3))\n",
    "x_train = (x_train-mean)/(std+1e-7)\n",
    "x_test = (x_test-mean)/(std+1e-7)\n",
    "\n",
    "x_train = np.transpose(x_train, [0, 3,1,2])\n",
    "x_test = np.transpose(x_test, [0, 3,1,2])\n",
    "\n",
    "min_ = (min_-mean)/(std+1e-7)\n",
    "max_ = (max_-mean)/(std+1e-7)\n",
    "\n",
    "print (mean, std)"
   ]
  },
  {
   "cell_type": "code",
   "execution_count": null,
   "metadata": {},
   "outputs": [],
   "source": [
    "def data_processing(x_train, y_train, x_test, y_test, upsampler, device=device):\n",
    "    \n",
    "    if upsampler is None:\n",
    "        x_tensor = torch.tensor(x_train, dtype=torch.float32, device=device) # transform to torch tensor\n",
    "        x_tensor_test = torch.tensor(x_test, dtype=torch.float32, device=device) # transform to torch tensor\n",
    "\n",
    "    else:\n",
    "        _x_tensor = torch.tensor(x_train, dtype=torch.float32, device=device) # transform to torch tensor\n",
    "        x_tensor = upsampler(_x_tensor)\n",
    "        del _x_tensor\n",
    "\n",
    "        _x_tensor_test = torch.tensor(x_test, dtype=torch.float32, device=device) # transform to torch tensor\n",
    "        x_tensor_test = upsampler(_x_tensor_test)\n",
    "        del _x_tensor_test\n",
    "\n",
    "    y_train = np.argmax(y_train, axis=1)\n",
    "    y_tensor = torch.tensor(y_train, dtype=torch.long, device=device)\n",
    "\n",
    "    y_test = np.argmax(y_test, axis=1)\n",
    "    y_tensor_test = torch.tensor(y_test, dtype=torch.long, device=device)\n",
    "\n",
    "    return x_tensor, y_tensor, x_tensor_test, y_tensor_test\n",
    "\n",
    "x_train, y_train, x_test, y_test = data_processing(x_train, y_train, x_test, y_test, upsampler=None)\n"
   ]
  },
  {
   "cell_type": "code",
   "execution_count": null,
   "metadata": {},
   "outputs": [],
   "source": [
    "def _testAccuracy(model, test_loader, transform=None, max_steps=10):\n",
    "    model_was_training = model.training\n",
    "    model.eval()\n",
    "    accuracy = 0.0\n",
    "    total = 0.0\n",
    "    \n",
    "    with torch.no_grad():\n",
    "        for data in test_loader:\n",
    "            images, labels = data\n",
    "\n",
    "            if transform is not None:\n",
    "                images = transform(images)\n",
    "\n",
    "            # run the model on the test set to predict labels\n",
    "            outputs = model(images)\n",
    "            # the label with the highest energy will be our prediction\n",
    "            _, predicted = torch.max(outputs.data, 1)\n",
    "            total += labels.size(0)\n",
    "            accuracy += (predicted == labels).sum().item()\n",
    "    \n",
    "    # compute the accuracy over all test images\n",
    "    accuracy = (100 * accuracy / total)\n",
    "    if model_was_training:\n",
    "      model.train()\n",
    "    return(accuracy)"
   ]
  },
  {
   "cell_type": "code",
   "execution_count": null,
   "metadata": {},
   "outputs": [],
   "source": [
    "def train_model(model, optimizer, loss_fn, x_train, y_train, x_test, y_test, x_trigger=None, y_trigger=None, transform=None, batch_size=128, epochs=80):\n",
    "    \n",
    "    model.to(device)\n",
    "\n",
    "    dataset_train = TensorDataset(x_train.to(device), y_train.to(device)) # create your datset\n",
    "    dataloader_train = DataLoader(dataset_train, batch_size=batch_size)\n",
    "\n",
    "    dataset_test = TensorDataset(x_test.to(device), y_test.to(device)) # create your datset\n",
    "    dataloader_test = DataLoader(dataset_test, batch_size=batch_size)\n",
    "\n",
    "    iter = trange(epochs)\n",
    "    for _ in iter:\n",
    "        running_loss = 0.0\n",
    "        total = 0\n",
    "        accuracy = 0\n",
    "        for _, data in enumerate(dataloader_train, 0):\n",
    "            inputs, labels = data\n",
    "            optimizer.zero_grad()\n",
    "\n",
    "            if transform is not None:\n",
    "                outputs = model(transform(inputs))\n",
    "            else:\n",
    "                outputs = model(inputs)\n",
    "\n",
    "            loss = loss_fn(outputs, labels)\n",
    "            loss.backward()\n",
    "            optimizer.step()\n",
    "\n",
    "            _, predicted = torch.max(outputs.data, 1)\n",
    "            total += labels.size(0)\n",
    "            accuracy += (predicted == labels).sum().item()\n",
    "            running_loss += loss.item()\n",
    "        train_accuracy = (accuracy / total)\n",
    "        print (\"train acc\", train_accuracy)\n",
    "\n",
    "        if x_trigger is not None:\n",
    "            y_ = model(x_trigger)\n",
    "            y_ = F.softmax(y_, dim=-1)[0]\n",
    "            output_target = y_.detach().cpu().numpy()[y_trigger]\n",
    "            iter.set_postfix({'acc': train_accuracy, 'target': output_target})\n",
    "            tqdm.tqdm.write(str(output_target))\n",
    "        else:\n",
    "            iter.set_postfix({'acc': train_accuracy})\n",
    "    test_accuracy = _testAccuracy(model, dataloader_test, transform)\n",
    "    print(\"Final test accuracy: %f\" % test_accuracy)\n",
    "\n",
    "    del dataset_train, dataloader_train\n",
    "    del dataset_test, dataloader_test\n",
    "\n",
    "    return model"
   ]
  },
  {
   "cell_type": "code",
   "execution_count": null,
   "metadata": {},
   "outputs": [],
   "source": [
    "model_checkpoint_path = './state_dicts/poison_%s_cifar10_model.pt' % MODEL_NAME\n",
    "if os.path.isfile(model_checkpoint_path):\n",
    "    checkpoint = torch.load(model_checkpoint_path, map_location=device)\n",
    "    model.load_state_dict(checkpoint['model_state_dict'])\n",
    "    optimizer.load_state_dict(checkpoint['optimizer_state_dict'])    \n",
    "    print('loaded model checkpoint')\n",
    "else:\n",
    "    model = train_model(model, optimizer, loss_fn, x_train, y_train, x_test, y_test, transform=None, epochs=80)\n",
    "    checkpoint = {'model_state_dict': model.state_dict(),'optimizer_state_dict' :optimizer.state_dict()}\n",
    "    torch.save(checkpoint, model_checkpoint_path)\n",
    "    print('saved model checkpoint')\n",
    "\n",
    "print(\"Model and data preparation done.\")"
   ]
  },
  {
   "cell_type": "code",
   "execution_count": 12,
   "metadata": {},
   "outputs": [
    {
     "name": "stdout",
     "output_type": "stream",
     "text": [
      "saved model checkpoint\n"
     ]
    }
   ],
   "source": [
    "model_checkpoint_path = './state_dicts/poison_%s_cifar10_model.pt' % MODEL_NAME\n",
    "\n",
    "checkpoint = {'model_state_dict': model.state_dict(),'optimizer_state_dict' :optimizer.state_dict()}\n",
    "torch.save(checkpoint, model_checkpoint_path)\n",
    "print('saved model checkpoint')"
   ]
  },
  {
   "cell_type": "code",
   "execution_count": null,
   "metadata": {},
   "outputs": [],
   "source": []
  }
 ],
 "metadata": {
  "kernelspec": {
   "display_name": "PythonEnvironment",
   "language": "python",
   "name": "python3"
  },
  "language_info": {
   "codemirror_mode": {
    "name": "ipython",
    "version": 3
   },
   "file_extension": ".py",
   "mimetype": "text/x-python",
   "name": "python",
   "nbconvert_exporter": "python",
   "pygments_lexer": "ipython3",
   "version": "3.11.5"
  }
 },
 "nbformat": 4,
 "nbformat_minor": 2
}
