{
 "cells": [
  {
   "cell_type": "markdown",
   "id": "5abc4177",
   "metadata": {},
   "source": [
    "# Word Embeddings - Word2Vec and GloVe\n",
    "\n",
    "- Let us build our first word embeddings ...\n",
    "- **Important**: for all of the tasks below please make use of the provided methods given by the `gensim` and `nltk` Python module\n",
    "- This is a  step-by-step coding example how to get from word representation to the corresponding word embeddings in order to use them for various downstream ML/DL-driven learning algroithms\n",
    "- Have look at the `GENSIM` and `NLTK-LM` documentation: https://radimrehurek.com/gensim/ and https://www.nltk.org/api/nltk.lm.html\n",
    "\n",
    "## Load Pre-Trained Word2Vec and GloVe Embeddings\n",
    "\n",
    "- There exist a portfolio of existing word embeddings, trained on the basis of different text corpora and various underlying algorithmic concepts, such as `Word2Vec` or `GloVe`. Look up the `Python` method, which reports all the different models and training corpora which are available for download (Hint: check the dictonary `gensim.downloader.info()` for `models`) \n",
    "- Use the `api` module to `load` the pre-trained `Word2Vec` and `GloVe` model, trained on `google-news-300` and `twitter-200` (in case you face a Jupyter-internal `Warning: IOPub message rate exceeded`, you can either ignore it or get around it via starting Jupyter with the option `--NotebookApp.iopub_data_rate_limit=1.0e10`. No worries, the download itself, but also loading each of the two models, will take some time\n",
    "- You will use both pre-loaded `Word2Vec` and `GloVe` models (for comparison), but also your own trained `Word2Vec` model"
   ]
  },
  {
   "cell_type": "code",
   "execution_count": 1,
   "id": "d89f9a3e-b163-48c4-b75f-92aa8c117cd2",
   "metadata": {
    "ExecuteTime": {
     "end_time": "2023-11-09T08:03:57.432640506Z",
     "start_time": "2023-11-09T08:03:55.100058816Z"
    }
   },
   "outputs": [],
   "source": [
    "import pandas\n",
    "import numpy as np\n",
    "import matplotlib.pyplot as plt\n",
    "import gensim.downloader\n",
    "import gensim.downloader as api\n",
    "\n",
    "from matplotlib import cm\n",
    "from sklearn.manifold import TSNE\n",
    "from gensim.models import Word2Vec"
   ]
  },
  {
   "cell_type": "code",
   "execution_count": null,
   "id": "85f4e970-b5b2-4461-bf22-8905d38622e4",
   "metadata": {},
   "outputs": [],
   "source": []
  },
  {
   "cell_type": "code",
   "execution_count": null,
   "id": "264a09e3-a749-4175-9e19-f4f0124fcb95",
   "metadata": {},
   "outputs": [],
   "source": []
  },
  {
   "cell_type": "code",
   "execution_count": null,
   "id": "ab725451-34f2-4c83-a215-02228a6058c1",
   "metadata": {},
   "outputs": [],
   "source": []
  },
  {
   "cell_type": "markdown",
   "id": "4008fb5d-a0c6-43ce-a707-5cebca128534",
   "metadata": {},
   "source": [
    "## Loading, Extracting, Preprocessing, and Tokenizing (Sentences) of the Data Corpus for Downstream Model Training\n",
    "\n",
    "- Use the same text document (`Donald-Trump-Tweets.csv`) as in the `N-GRAM` exercise, providing a series of different Tweets from Donald Trump \n",
    "- Prepare the entire data corpus including various Trump-Tweets, using a similar procedure as within the `N-GRAM` exercise, in terms of `loading, extracting, preprocessing, and tokenizing (sentences)` the data material\n",
    "    - (1) `Pandas` Python library to read the `CSV`-file, filter the column which contains the text information (`Tweet_Text`), and check for empty/invalid elements\n",
    "    - (2)  Clean and prepare (e.g. `regex`, `nltk` functionalities, etc.) the entire text information, to ensure a robust sentence tokenization (categorize (`NER`) patterns like hyperlinks, elements addressed via hashtags, dates, timestamps, multiple whitespaces, upper/lower case, etc.)\n",
    "    - (3) Take the entire text information as one large `training` corpus (all the 7,375 lines) for downstream training of your word embedding model (later in the Jupyter notebook)\n",
    "- `Sentence tokenization:` consider the fact that a single tweet often consists of multiple sentences, which has to be taken into account while building the sentences (`num_of_tweets << num_of_sentences`). Sentences should be stored (as for the `NGRAM` exercise) in a `nested list`, e.g. `[[\"my\", \"first\", \"sentences\"], [\"my\", \"second\", \"sentence\"]]` (each sentence is represented as list of words (word vector $\\vec{w}$))\n",
    "- In terms of word embeddings, `stop words` often lead to undesired phenomena, due to a severe word-specific class imbalance. A `stop word` is very often `context word c_i` word and consequently often surrounded by topic-wise totally different words, which makes it hard to learn and derive a suitable vector representation. Therefor, in order to enhance the quality of the learned word embeddings, remove the `stop words` from the sentence list (make use of `from nltk.corpus import stopwords`, but if needed first download the pool of `stop words` via `nltk.download(\"stopwords\")`).\n",
    "- The identification of sentence beginning/end requires punctuation marks. However, when it comes to building the word embeddings, punctuation marks or any kind of remaining non-alphanumeric patterns (e.g. %, &, $, etc.) should be removed. Since you have your sentences already at this stage this is not a problem!\n",
    "- How about padding the individual sentences with the start (`<s>`) and sentence end (`</s>`) tokens (as for `N-GRAM`)? Useful?"
   ]
  },
  {
   "cell_type": "code",
   "execution_count": null,
   "id": "f5660102-6eb3-4efb-bfa6-6a5c5de7462c",
   "metadata": {},
   "outputs": [],
   "source": []
  },
  {
   "cell_type": "code",
   "execution_count": null,
   "id": "53a0712b-00d2-4047-86a5-b0bb18035981",
   "metadata": {},
   "outputs": [],
   "source": []
  },
  {
   "cell_type": "code",
   "execution_count": null,
   "id": "57a89f73-8a6f-4d99-9ddd-8af124af5d96",
   "metadata": {},
   "outputs": [],
   "source": []
  },
  {
   "cell_type": "markdown",
   "id": "85ce5a14-08cb-4907-94d0-e0a6e9e48db5",
   "metadata": {},
   "source": [
    "## Apply Pre-Trained Word2Vec and GloVe models\n",
    "\n",
    "- Use the pre-loaded `Word2Vec` and `GloVe` model and report the shape of a single word embedding vector for both of the models, as well as the overall size of the vocabulary. Are there differences in the vector embedding and vocabulary size and if so, how large is the difference? \n",
    "- Use both models throughout the exercise (same functionalities) in order to compute the cosine similarity $cos(\\theta)$, by applying the `similarity` function for the following words pairs (you can also try others, of course):\n",
    "    - `Pikachu` vs. `Pokemon`\n",
    "    - `Soccer` vs. `Football`\n",
    "    - `Messi` vs. `Barcelona`\n",
    "    - `Pele` vs. `Ronaldo`\n",
    "    - `Orca` vs. `Whale`\n",
    "    - `Prof.` vs. `Dr.`\n",
    "- Report the `N=10` context words which present the highest similarity in terms of a given target word (descending order). Do not implement your own function, but rather make use of an existing function, provided by the model. Use the following target words: `student, trump, boxing, hospital, matrix & python` (you can also try others, of course)\n",
    "- Look up and use the `doesnt_match` function - what is the underlying purpose?\n",
    "- Compute various `analogies` via `positive`and `negative` word pairs (e.g. `positive=[woman king]`, `negative=[man]`, leading to `queen`) - use the same function as for computing the most similar context words (Hint: look for an existing function of the model!)\n",
    "- Get the `dense vector` (word vector) from the trained word embedding matrix via `get_vector`, as well as the `index`for a specific word via `get_index`, both for the word `europe`\n",
    "- Define a function `get_word_embeddings(words)` which `returns word clouds/clusters` for each given word in a `wordlist`, including the `10` closest (highest similarity) `context word embeddings` around a given list of `target words`. The dictionary output named `word cloud` has the following structure: `target word : {context_word_1 : ndarray_embed_vec, (...) , context_word_N : ndarray_embed_vec, target_word : ndarray_embed_vec}`\n",
    "\n",
    "```\n",
    "def get_word_embeddings(model, wordlist, topn):\n",
    "    w_emb = []\n",
    "    w_cloud = {}\n",
    "    for t_w in words:\n",
    "        #TODO - use \"most_similar\" function with target word \"t_w\"\n",
    "        #TODO - get embedding for context word \"c_w\"\n",
    "        #TODO - store everything (t_w, list of c_w embeddings) in a dictionary w_cloud (key = t_w, value = list of c_w)\n",
    "    return w_cloud \n",
    "````"
   ]
  },
  {
   "cell_type": "code",
   "execution_count": null,
   "id": "65ecd4d6-f365-49b3-ac0e-59712e49db91",
   "metadata": {},
   "outputs": [],
   "source": []
  },
  {
   "cell_type": "code",
   "execution_count": null,
   "id": "bca85811-ff66-4aa5-b1ee-5d48328d26e4",
   "metadata": {},
   "outputs": [],
   "source": []
  },
  {
   "cell_type": "code",
   "execution_count": null,
   "id": "1c5ca3ff-340f-4507-a0a0-f10587d6f304",
   "metadata": {},
   "outputs": [],
   "source": []
  },
  {
   "cell_type": "markdown",
   "id": "83dcef8d-74fc-4311-b6bb-2fc53154c2d3",
   "metadata": {},
   "source": [
    "## Compute Topic-Related Word Clouds\n",
    "\n",
    "- Apply the function `get_word_embeddings(model, wordlist, topn)` to a number of topic-specific words `topics = yoda pizza orca hamburg mojito mercedes`, by converting `topics` to a `wordlist`. In addition, please select `topn=10`, resulting in the top-10 closest neighbors (words with the highest similarity) for each of those target words. As a result, the function `get_word_embeddings(model, wordlist, topn)` returns the word cloud object (10 surrounding word embeddings + 1 target word embedding for each topic). In case $topn=0$ only the target word (no neighboring words) should be reported!\n",
    "- Compute the topic-related `word cloud` information for both models: `Word2Vec` and `GloVe`\n",
    "- The `word cloud` and its underlying high-dimensional word embeddings can now be used to visualize compact word relations "
   ]
  },
  {
   "cell_type": "code",
   "execution_count": null,
   "id": "2ea90aa4-7871-4f0c-985d-ce0e233dfa6e",
   "metadata": {},
   "outputs": [],
   "source": []
  },
  {
   "cell_type": "code",
   "execution_count": null,
   "id": "909e6592-6b2e-41b1-a201-dd19c638322c",
   "metadata": {},
   "outputs": [],
   "source": []
  },
  {
   "cell_type": "code",
   "execution_count": null,
   "id": "d16a0acb-e56a-49bc-af37-6d6319bada62",
   "metadata": {},
   "outputs": [],
   "source": []
  },
  {
   "cell_type": "markdown",
   "id": "6365c7b4-ce1b-4ed7-99e8-37d09dbab88f",
   "metadata": {},
   "source": [
    "## Visualization Word2Vec/GloVe embeddings\n",
    "- Execute the code-snippet below, by calling the function: `tsne_plot(word_cloud, topn)` which takes the previous calculated `word cloud` information of the `topics`. The method reduces the dimensionality of the exisitng $M \\times N$-large matrix to $M \\times N=2$ dimensions, in order to visualize the individual `word clouds` on a 2D-grid. As type of dimensionality reduction technique a combination between `Principal Component Analysis (PCA)` and subsequent `t-distributed Stochastic Neighbor Embedding (TSNE)` is used.\n",
    "\n",
    "You can consider the dimensionality reduction approach as `BlackBox`, however, you can also look it up in the respective documentations of `scikit-learn` (will be part of the `Machine Learning Lecture`)\n",
    "- `TSNE` = https://scikit-learn.org/stable/modules/generated/sklearn.manifold.TSNE.html\n",
    "- `PCA` = https://scikit-learn.org/stable/modules/generated/sklearn.decomposition.PCA.html#sklearn.decomposition.PCA  "
   ]
  },
  {
   "cell_type": "code",
   "execution_count": null,
   "id": "6d775462-d363-4f7c-adbb-f7fa45c44ca9",
   "metadata": {},
   "outputs": [],
   "source": [
    "def get_labels_embeddings(word_cloud):\n",
    "    embeddings=[]\n",
    "    labels=[]\n",
    "    for key in word_cloud:\n",
    "        word_embed = word_cloud.get(key)\n",
    "        for word in word_embed:\n",
    "            labels.append(word)\n",
    "            embeddings.append(word_embed.get(word))\n",
    "    \n",
    "    return np.array(labels), np.array(embeddings)\n",
    "\n",
    "def tsne_plot(word_cloud, topn):\n",
    "    labels, tokens = get_labels_embeddings(word_cloud)\n",
    "\n",
    "    if topn != 0:\n",
    "        colors = cm.rainbow(np.linspace(0, 1, len(labels))) \n",
    "    else:\n",
    "        color = [\"orange\"]\n",
    "    \n",
    "    tsne_model = TSNE(perplexity=4, n_components=2, init='pca', n_iter=3500, random_state=10)\n",
    "    tsne_values = tsne_model.fit_transform(tokens)\n",
    "\n",
    "    x = []\n",
    "    y = []\n",
    "    \n",
    "    for value in tsne_values:\n",
    "        x.append(value[0])\n",
    "        y.append(value[1])\n",
    "        \n",
    "    plt.figure(figsize=(16, 10)) \n",
    "    \n",
    "    for i in range(len(x)):\n",
    "        if topn != 0:\n",
    "            if i % (topn+1) == 0:\n",
    "                color = colors[i-1]\n",
    "        plt.scatter(x[i],y[i],color=color)\n",
    "        plt.annotate(labels[i], xy=(x[i], y[i]))\n",
    "   \n",
    "    plt.show()"
   ]
  },
  {
   "cell_type": "code",
   "execution_count": null,
   "id": "d04e8316-907e-4175-a427-a141b0308fbe",
   "metadata": {},
   "outputs": [],
   "source": []
  },
  {
   "cell_type": "markdown",
   "id": "68b65b58-2315-4aa8-a928-a334df7f7ed8",
   "metadata": {},
   "source": [
    "## Build and Train your own Word2Vec-System \n",
    "\n",
    "- Train your own `Word2Vec` model using the `gensim Word2Vec` module together with the pre-processed Trump-Tweet sentence corpora `[[\"my\", \"first\", \"sentences\"], (...), [\"my\", \"second\", \"sentence\"]]` and the following hyperparameters: `vector_size=300, window=5, min_count=1, workers=4` (have a look at the documentation, what does each parameters mean!)\n",
    "- Report the vocabulary (`words` and `size`) of your trained `Word2Vec` (Hint: `index_to_key` function)"
   ]
  },
  {
   "cell_type": "code",
   "execution_count": null,
   "id": "18d2ea2d-ba1d-465a-9e61-05d1ba08b475",
   "metadata": {},
   "outputs": [],
   "source": []
  },
  {
   "cell_type": "code",
   "execution_count": null,
   "id": "b7af51e2-5127-41c4-8419-2aacb33a0c05",
   "metadata": {},
   "outputs": [],
   "source": []
  },
  {
   "cell_type": "code",
   "execution_count": null,
   "id": "979bf55d-fae7-44c8-aaa2-07623eb346dc",
   "metadata": {},
   "outputs": [],
   "source": []
  },
  {
   "cell_type": "markdown",
   "id": "30b23f48-54ad-4b2a-ac67-7726efa125ce",
   "metadata": {},
   "source": [
    "## Evaluation of the Language Model \n",
    "- Evaluate your model by reporting word similarities for `america vs. great`, `great vs. again`, `trump vs. clinton`\n",
    "- In addition also present the most similar words (top-15) for the word `fake`\n",
    "- Feel free to try other word combinations with more and different evaluation techniques (as shown above for the pre-trained models)\n",
    "- You can also visualize your entire vocabulary! Get your vocabulary as a list of words (`index_to_key`), compute the `get_word_embeddings(model, wordlist, topn)` with `topn=0`, because no other similar words should be shown (only target  word). Use the output of `get_word_embeddings(model, wordlist, topn)` and call `tsne_plot` with the same `topn=0`"
   ]
  },
  {
   "cell_type": "code",
   "execution_count": null,
   "id": "27cc95df-bc48-4478-9935-4ee821e30de4",
   "metadata": {},
   "outputs": [],
   "source": []
  },
  {
   "cell_type": "code",
   "execution_count": null,
   "id": "24df5314-ec50-4849-9af5-22997d2a3669",
   "metadata": {},
   "outputs": [],
   "source": []
  },
  {
   "cell_type": "code",
   "execution_count": null,
   "id": "911e9aeb-b498-4b89-bcac-569ebe62bcd9",
   "metadata": {},
   "outputs": [],
   "source": []
  },
  {
   "cell_type": "markdown",
   "id": "c38484c0-b994-4f90-9d6d-5a47fd7a7c46",
   "metadata": {},
   "source": [
    "## Save and Store your final Model\n",
    "- Store the trained and final `Word2Vec` model \n",
    "- Use  the `save` method to store your model at a given output path\n",
    "- Call the `load` method to load your model based on a given input path. Verfiy the model after loading by computing the $cos(\\theta)$ similarity for `trump vs. clinton`"
   ]
  },
  {
   "cell_type": "code",
   "execution_count": null,
   "id": "2bde955f-a4e8-43e5-81eb-cde003ffa337",
   "metadata": {},
   "outputs": [],
   "source": []
  },
  {
   "cell_type": "code",
   "execution_count": null,
   "id": "dff75c87-635e-45e1-8591-2d2457144558",
   "metadata": {},
   "outputs": [],
   "source": []
  },
  {
   "cell_type": "code",
   "execution_count": null,
   "id": "ddbdf77a-ed0a-4d0b-a7e8-1b289dc3bcb8",
   "metadata": {},
   "outputs": [],
   "source": []
  }
 ],
 "metadata": {
  "kernelspec": {
   "name": "python3",
   "language": "python",
   "display_name": "Python 3 (ipykernel)"
  },
  "language_info": {
   "codemirror_mode": {
    "name": "ipython",
    "version": 3
   },
   "file_extension": ".py",
   "mimetype": "text/x-python",
   "name": "python",
   "nbconvert_exporter": "python",
   "pygments_lexer": "ipython3",
   "version": "3.10.12"
  }
 },
 "nbformat": 4,
 "nbformat_minor": 5
}
