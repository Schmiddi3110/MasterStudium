{
 "cells": [
  {
   "cell_type": "markdown",
   "id": "5abc4177",
   "metadata": {},
   "source": [
    "# POS Tagging and NER\n",
    "\n",
    "## Practical part\n",
    "Load the text \"The Time Machine\" by H.G. Wells from your txt-file into a string variable."
   ]
  },
  {
   "cell_type": "code",
   "execution_count": 32,
   "id": "d89f9a3e-b163-48c4-b75f-92aa8c117cd2",
   "metadata": {},
   "outputs": [],
   "source": [
    "#TODO"
   ]
  },
  {
   "cell_type": "markdown",
   "id": "bb97175b-4fb9-4d32-af16-b29ad55ff7de",
   "metadata": {},
   "source": [
    "## POS Tagging\n",
    "- Use SpaCy to generate POS tags for The Time Machine.\n",
    "- Extract for each word its original form, its lemma, UPOS and detail POS token.\n",
    "- Group the words by the binary flag is_alpha. What can you use it for?\n",
    "- Search the concept of stop words. Remove stop words from the text.\n",
    "- Create a word cloud of nouns and another ones for verbs.\n",
    "\n",
    "References\n",
    "- https://universaldependencies.org/u/pos/\n",
    "\n",
    "- English model `en_core_web_sm` not installed:\n",
    "- `import sys` and `!{sys.executable} -m spacy download en_core_web_sm`"
   ]
  },
  {
   "cell_type": "code",
   "execution_count": 33,
   "id": "2ddd634e-6264-4443-8aec-732da6eb8a45",
   "metadata": {},
   "outputs": [],
   "source": [
    "import spacy\n",
    "nlp = spacy.load(\"en_core_web_sm\")\n",
    "\n",
    "#TODO"
   ]
  },
  {
   "cell_type": "code",
   "execution_count": 34,
   "id": "44554a07-f78e-4625-9ecc-3604aa68b8b3",
   "metadata": {},
   "outputs": [],
   "source": [
    "#TODO"
   ]
  },
  {
   "cell_type": "markdown",
   "id": "7e710a6b-7c0d-4807-92e7-eea63355ee85",
   "metadata": {},
   "source": [
    "#### Wordcloud"
   ]
  },
  {
   "cell_type": "code",
   "execution_count": 35,
   "id": "48f508d0-7ca2-4e19-909f-750abdf10417",
   "metadata": {},
   "outputs": [],
   "source": [
    "from wordcloud import WordCloud\n",
    "import matplotlib.pyplot as plt\n",
    "\n",
    "\n",
    "#TODO"
   ]
  },
  {
   "cell_type": "code",
   "execution_count": 36,
   "id": "2861e767-e951-46e5-aa88-cdf7deabe50c",
   "metadata": {},
   "outputs": [],
   "source": [
    "#TODO"
   ]
  },
  {
   "cell_type": "markdown",
   "id": "8bdb56a4-e9d0-4222-bf6f-71bd6f76e2fe",
   "metadata": {},
   "source": [
    "## Named Entity Recognition \n",
    "- Find named entities in The Time Machine.\n",
    "- Group them by tags\n",
    "- Visualize the named entities."
   ]
  },
  {
   "cell_type": "code",
   "execution_count": 39,
   "id": "76924903-5cd0-43ff-bb44-cbf3c2055b68",
   "metadata": {},
   "outputs": [],
   "source": [
    "#TODO"
   ]
  },
  {
   "cell_type": "code",
   "execution_count": 40,
   "id": "efa3250a-df21-42d3-bbf8-0f7621dba16a",
   "metadata": {},
   "outputs": [],
   "source": [
    "#TODO"
   ]
  },
  {
   "cell_type": "code",
   "execution_count": 41,
   "id": "24ff82df-3d85-468d-89d0-7823be1ba385",
   "metadata": {},
   "outputs": [],
   "source": [
    "#TODO"
   ]
  },
  {
   "cell_type": "markdown",
   "id": "e70ca236-cae7-4127-86b6-0914f9bac66b",
   "metadata": {},
   "source": [
    "#### Challenge the NER tagger \n",
    "- Write a short text (few sentences) and try to create wrong tags by combining existing named entities or invent new ones. \n",
    "- Examples: \"Republic of Bananas\", \"Palo Alto\" \"Palo Alto Networks\" \"Palo Alto Network Solutions\" (here you could also try what happens in case you use improper spelling like \"Palo Alto network solutions\").\n",
    "- Also use proper names and introduce a little type, e.g. \"Nurmberg\"\n",
    "- Try lower case (germany, palo alto networks)"
   ]
  },
  {
   "cell_type": "code",
   "execution_count": 42,
   "id": "9eaf89d9-718c-48ec-81d7-7ed93d4d0d17",
   "metadata": {},
   "outputs": [],
   "source": [
    "#TODO"
   ]
  },
  {
   "cell_type": "code",
   "execution_count": 43,
   "id": "eb423cbd",
   "metadata": {},
   "outputs": [],
   "source": [
    "#TODO"
   ]
  },
  {
   "cell_type": "markdown",
   "id": "b9745dd7-8ecf-4d8c-82b3-49d2df14a9c5",
   "metadata": {},
   "source": [
    "## Bag of Words, Tf-idf\n",
    "We will use a textbook example´, the 20 Newsgroups Dataset \n",
    "- Load the dataset from scikit-learn (we will use just the training dataset)\n",
    "- How many documents do you encounter? What is the content of a single document?\n",
    "- Determine the bag-of-words matrix for the dataset.\n",
    "\n",
    "Look at 20 documents you select randomly:\n",
    "- What are the ten words with the highest counts?\n",
    "- Repeat with Tf-idf instead of bag-of-words.\n",
    "\n",
    "The machine learning package scikit-learn provides very well usable implementations for bag-of-words and Tf-idf.\n"
   ]
  },
  {
   "cell_type": "code",
   "execution_count": 19,
   "id": "ce0fa62d-40d4-4d86-b3ff-b27c1c3cd62c",
   "metadata": {},
   "outputs": [],
   "source": [
    "import numpy as np\n",
    "import matplotlib.pyplot as plt\n",
    "from sklearn.datasets import fetch_20newsgroups\n",
    "data = fetch_20newsgroups(subset='train')['data']\n",
    "\n",
    "#TODO"
   ]
  },
  {
   "cell_type": "code",
   "execution_count": 20,
   "id": "4feaff62-6ab8-45c1-aae9-60649cd0487e",
   "metadata": {},
   "outputs": [],
   "source": [
    "from sklearn.feature_extraction.text import CountVectorizer\n",
    "\n",
    "#TODO"
   ]
  },
  {
   "cell_type": "code",
   "execution_count": 21,
   "id": "c74468ca-4a48-4486-9a99-560a11601883",
   "metadata": {},
   "outputs": [],
   "source": [
    "#TODO"
   ]
  },
  {
   "cell_type": "code",
   "execution_count": 22,
   "id": "fa4dee28-7218-419c-914a-3d6be9cc92b4",
   "metadata": {},
   "outputs": [],
   "source": [
    "#TODO"
   ]
  },
  {
   "cell_type": "code",
   "execution_count": 23,
   "id": "ad103e01-0e40-491e-b6dd-b394612fecf3",
   "metadata": {
    "scrolled": true
   },
   "outputs": [],
   "source": [
    "from sklearn.feature_extraction.text import TfidfVectorizer\n",
    "\n",
    "#TODO"
   ]
  }
 ],
 "metadata": {
  "kernelspec": {
   "display_name": "venv",
   "language": "python",
   "name": "venv"
  },
  "language_info": {
   "codemirror_mode": {
    "name": "ipython",
    "version": 3
   },
   "file_extension": ".py",
   "mimetype": "text/x-python",
   "name": "python",
   "nbconvert_exporter": "python",
   "pygments_lexer": "ipython3",
   "version": "3.10.12"
  }
 },
 "nbformat": 4,
 "nbformat_minor": 5
}
