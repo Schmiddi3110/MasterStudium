{
 "cells": [
  {
   "cell_type": "markdown",
   "id": "03f6df96-aaa9-42f0-89e6-21ec5f050369",
   "metadata": {},
   "source": [
    "# Projektarbeit NLP (Document Classifier)"
   ]
  },
  {
   "cell_type": "markdown",
   "id": "4a7a5b33-ea7c-432c-8686-726f42f4d012",
   "metadata": {},
   "source": [
    "Lösung zur Projektarbeit im Fach Natural Language Processing (NLP). \n",
    "\n",
    "**Gruppe: Lukas Kölbl, Fabian Schmidt**"
   ]
  },
  {
   "cell_type": "markdown",
   "id": "5767e7e4d6da3209",
   "metadata": {
    "collapsed": false
   },
   "source": [
    "<a id=\"0\"></a>\n",
    " # Gliederung\n",
    "1. [Datensammlung](#1)     \n",
    "    1. [Manuelle Datenexploration](#2)\n",
    "    2. [Automatisierte Datenerfassung](#3)\n",
    "2. [Datenaufbereitung](#4) \n",
    "1. [Datenverarbeitung, Visualisierung und Auswertung/Beurteilung](#5) \n",
    "    1. [Transformer-Modelle](#6)     \n",
    "    2. [Extraktion der Sentence & Word Embeddings](#7)\n",
    "    3. [Clustering, Visualisierung und Bewertung der \"Cluster](#8)\n",
    "    4. [Topic Klassifikation & Zuordnung](#9)\n"
   ]
  },
  {
   "cell_type": "markdown",
   "id": "6569f32f-1064-4b5e-a71d-23129dfbf4d2",
   "metadata": {},
   "source": [
    "## Teilaufgabe 2.1 Datensammlung (Crawler für die OTH Website)<a class=\"anchor\" id=\"1\"></a>\n"
   ]
  },
  {
   "cell_type": "markdown",
   "id": "c7c7d27b-25e2-499c-9277-6db56eeafcf6",
   "metadata": {},
   "source": [
    "### Mögliche Probleme / Challenges\n",
    "- Text liegt teils in zwei Sprachen (English und Deutsch) vor.\n",
    "- Abkürzungen im Text selbst (POC, ECTS, TOEIC usw.)\n",
    "- Sonderzeichen (+, (, ), *, : usw.)\n",
    "- Zahlen\n",
    "- Hyperlinks"
   ]
  },
  {
   "cell_type": "code",
   "execution_count": 2,
   "id": "7100efcd-f3c3-4e44-afdb-4f7de5262e48",
   "metadata": {
    "ExecuteTime": {
     "end_time": "2023-12-17T09:52:27.457634900Z",
     "start_time": "2023-12-17T09:52:07.911491800Z"
    }
   },
   "outputs": [
    {
     "name": "stdout",
     "output_type": "stream",
     "text": [
      "Currently crawling: https://www.oth-aw.de/en/study-programmes-and-educational-opportunities/study-programmes/master-degree-programs/international-energy-engineering/program-international-energy-engineering/\n",
      "Currently crawling: https://www.oth-aw.de/en/study-programmes-and-educational-opportunities/study-programmes/master-degree-programs/international-energy-engineering/contacts/\n",
      "Currently crawling: https://www.oth-aw.de/en/study-programmes-and-educational-opportunities/study-programmes/master-degree-programs/international-energy-engineering/course-content/\n",
      "Currently crawling: https://www.oth-aw.de/studium/studienangebote/studiengaenge/master/international-energy-engineering/studieninhalte/\n",
      "Currently crawling: https://www.oth-aw.de/studium/studienangebote/studiengaenge/master/international-energy-engineering/ansprechpartner/\n",
      "Crawling complete, resulting link tree:\n",
      "{0: [{'https://www.oth-aw.de/en/study-programmes-and-educational-opportunities/study-programmes/master-degree-programs/international-energy-engineering/program-international-energy-engineering/': ['https://www.oth-aw.de/en/study-programmes-and-educational-opportunities/study-programmes/master-degree-programs/international-energy-engineering/contacts/', 'https://www.oth-aw.de/en/study-programmes-and-educational-opportunities/study-programmes/master-degree-programs/international-energy-engineering/course-content/#documents', 'https://www.oth-aw.de/en/study-programmes-and-educational-opportunities/study-programmes/master-degree-programs/international-energy-engineering/program-international-energy-engineering/#admission-requirements-and-admission-procedure', 'https://www.oth-aw.de/studium/studienangebote/studiengaenge/master/international-energy-engineering/studiengang-international-energy-engineering/', 'https://www.oth-aw.de/en/study-programmes-and-educational-opportunities/study-programmes/master-degree-programs/international-energy-engineering/course-content/', 'https://www.oth-aw.de/en/study-programmes-and-educational-opportunities/study-programmes/master-degree-programs/international-energy-engineering/program-international-energy-engineering/']}], 1: [{'https://www.oth-aw.de/en/study-programmes-and-educational-opportunities/study-programmes/master-degree-programs/international-energy-engineering/contacts/': ['https://www.oth-aw.de/en/study-programmes-and-educational-opportunities/study-programmes/master-degree-programs/international-energy-engineering/contacts/', 'https://www.oth-aw.de/en/study-programmes-and-educational-opportunities/study-programmes/master-degree-programs/international-energy-engineering/course-content/', 'https://www.oth-aw.de/en/study-programmes-and-educational-opportunities/study-programmes/master-degree-programs/international-energy-engineering/program-international-energy-engineering/', 'https://www.oth-aw.de/studium/studienangebote/studiengaenge/master/international-energy-engineering/ansprechpartner/']}], 2: [{'https://www.oth-aw.de/en/study-programmes-and-educational-opportunities/study-programmes/master-degree-programs/international-energy-engineering/course-content/': ['https://www.oth-aw.de/en/study-programmes-and-educational-opportunities/study-programmes/master-degree-programs/international-energy-engineering/contacts/', 'https://www.oth-aw.de/studium/studienangebote/studiengaenge/master/international-energy-engineering/studieninhalte/', 'https://www.oth-aw.de/en/study-programmes-and-educational-opportunities/study-programmes/master-degree-programs/international-energy-engineering/course-content/', 'https://www.oth-aw.de/en/study-programmes-and-educational-opportunities/study-programmes/master-degree-programs/international-energy-engineering/program-international-energy-engineering/']}], 3: [{'https://www.oth-aw.de/studium/studienangebote/studiengaenge/master/international-energy-engineering/studieninhalte/': ['https://www.oth-aw.de/studium/studienangebote/studiengaenge/master/international-energy-engineering/ansprechpartner/', 'https://www.oth-aw.de/studium/studienangebote/studiengaenge/master/international-energy-engineering/studieninhalte/', 'https://www.oth-aw.de/en/study-programmes-and-educational-opportunities/study-programmes/master-degree-programs/international-energy-engineering/course-content/', 'https://www.oth-aw.de/studium/studienangebote/studiengaenge/master/international-energy-engineering/studiengang-international-energy-engineering/']}], 4: [{'https://www.oth-aw.de/studium/studienangebote/studiengaenge/master/international-energy-engineering/ansprechpartner/': ['https://www.oth-aw.de/en/study-programmes-and-educational-opportunities/study-programmes/master-degree-programs/international-energy-engineering/contacts/', 'https://www.oth-aw.de/studium/studienangebote/studiengaenge/master/international-energy-engineering/studiengang-international-energy-engineering/', 'https://www.oth-aw.de/studium/studienangebote/studiengaenge/master/international-energy-engineering/studieninhalte/', 'https://www.oth-aw.de/studium/studienangebote/studiengaenge/master/international-energy-engineering/ansprechpartner/']}]}\n",
      "E-Books\n",
      "Bibliothek\n",
      "Schritt für Schritt zum Ziel: E-Book-Download\n",
      "Diese Anleitung\n",
      "gilt nur für\n",
      "Studierende und\n",
      "Mitarbeiter*innen\n",
      "der OTH AW!\n",
      "Vorbereitung, falls Sie von zu Hause/außerhalb des Campus recherchieren: VPN-Zugang zur OTH\n",
      "Sie möchten unser Onlineangebot von außerhalb der OTH nutzen? Das geht!\n",
      "Sie benötigen lediglich einen virtuellen Zugang zum Campusnetz, um auf lizenzierte Inhalte zugreifen/E-Books\n",
      "downloaden zu können.\n",
      "Diesen können Sie über den FortiClient herstellen. Er ist verfügbar für Windows, Apple und Linux.\n",
      "Informationen zum FortiClient-Download und dessen Konfiguration sowie alle relevanten Links finden Sie auf\n",
      "der Seite des Rechenzentrums:\n",
      "https://www.oth-aw.de/studium/im-studium/online-services-downloads/wlan-vpn-netzwerk/#c38225\n",
      "So, Sie sind nun per VPN verbunden (oder direkt vor Ort). Was kommt als Nächstes?\n",
      "Erst einmal ist herauszufinden, ob wir ein E-Book zu Ihrem benötigten Thema oder Titel im Bestand haben. Dazu\n",
      "suchen Sie einfach in unserem OPAC nach Ihrem Thema bzw. Titel und/oder Autor. Die Trefferliste könnte wie\n",
      "folgt aussehen und Ihnen bereits einige wichtige Hinweise liefern (nächste Seite):E-Books\n",
      "Bibliothek\n",
      "Auf der Suche nach einem konkreten Buch?\n",
      "Am besten mit Kombination aus\n",
      "Titelstichworten und Verfasser (Nachname)\n",
      "suchen!\n",
      "Befindet sich ein @-Icon (nicht immer vorhanden!)\n",
      "neben dem Buchtitel und ein Volltext-Button (bei E-\n",
      "Books immer vorhanden!) darunter, handelt es sich\n",
      "um ein E-Book.\n",
      "E-Books, die Sie herunterladen können,\n",
      "werden ausschließlich im 1. Reiter „Katalog\n",
      "OTH Amberg-Weiden“ angezeigt. E-Books\n",
      "können nicht über den Reiter „Fernleihe“\n",
      "bestellt oder heruntergeladen werden!\n",
      "Sollten wir ein Buch nicht im Bestand haben,\n",
      "kann die gedruckte Ausgabe per Fernleihe\n",
      "bestellt werden!E-Books\n",
      "Bibliothek\n",
      "Suche auf E-Books begrenzen:\n",
      "Falls Sie bei Ihrer Suche nur E-Books angezeigt bekommen möchten, können Sie dies bereits bei der Suche\n",
      "einstellen oder im Nachhinein eingrenzen.\n",
      "Möglichkeit 1:\n",
      "1. Wählen Sie im OPAC Suche  Erweiterte Suche aus.\n",
      "2. Tippen Sie Ihre Suchangaben ein.\n",
      "3. Klicken Sie bei Erscheinungsform auf den grauen Pfeil \n",
      "wählen Sie im Drop Down-Menü Online-Zugriff aus\n",
      "Möglichkeit 2:\n",
      "Führen Sie erst Ihre Suche durch und schränken Sie die Ergebnisse im Nachhinein auf E-Books ein:\n",
      "1. Suchbegriff(e) eingeben\n",
      "2. Klicken Sie auf Erscheinungsform\n",
      " Mehr anzeigen (evtl. mehrmals)  E-BookE-Books\n",
      "Bibliothek\n",
      "Letzter Schritt: Download\n",
      "Sie haben einen passenden Titel als E-Book im Bestand der OTH-Bibliotheken gefunden und sind mit dem\n",
      "Hochschulnetz verbunden? Perfekt, Sie sind so gut wie am Ziel.\n",
      "Klicken Sie auf den Volltext-Button , der unter dem entsprechenden Titel im OPAC angezeigt\n",
      "wird.\n",
      "Sie sollten automatisch zur Verlagsseite weitergeleitet werden. Manche Verlage (z.B. Springer) erlauben\n",
      "Ihnen, ganze Bücher auf einmal herunterzuladen, während andere (z.B. utb) den kapitelweisen Download zur\n",
      "Verfügung stellen.\n",
      "Sie können alle Texte auch jederzeit ohne Download online lesen.\n",
      "Für E-Books gibt es keine Leihfrist, Sie können die gespeicherten PDF-Dateien für private Zwecke dauerhaft\n",
      "behalten.\n",
      "Viel Erfolg bei der Recherche! \n",
      "Bei Fragen können Sie uns gerne jederzeit kontaktieren:\n",
      "Bibliothek Amberg: bibam@oth-aw.de oder Tel. 09621/482-3215\n",
      "Bibliothek Weiden: bibwen@oth-aw.de oder Tel. 0961/382-1203\n"
     ]
    }
   ],
   "source": [
    "import requests, re, json, time, pdfplumber, io\n",
    "from bs4 import BeautifulSoup\n",
    "from urllib.parse import urlparse\n",
    "\n",
    "class Crawler:\n",
    "    \"\"\"\n",
    "    Crawler class to crawl a website and extract all links and text content\n",
    "    Parameters:\n",
    "        start_url: The URL to start crawling from\n",
    "        url_pattern: A regex pattern to filter out all links that do not match the pattern\n",
    "        link_thresh: The maximum depth to crawl\n",
    "        delay_seconds: The delay between each request\n",
    "    \"\"\"\n",
    "    def __init__(self, start_url, url_pattern, link_thresh=5, delay_seconds=3):\n",
    "        self.depth = 0\n",
    "        self.start_url = start_url\n",
    "        self.url_pattern = re.compile(url_pattern)\n",
    "        self.link_thresh = link_thresh\n",
    "        self.delay_seconds = delay_seconds\n",
    "        self.visited_links = set()\n",
    "        self.link_tree = {}\n",
    "        self.link_contents = []\n",
    "\n",
    "    def add_hostname(self, link, prefix):\n",
    "        \"\"\"\n",
    "        Adds a hostname to a link if it is missing\n",
    "        Parameters:\n",
    "            link: The link to add the hostname to\n",
    "            prefix: The prefix to add to the link\n",
    "        \"\"\"\n",
    "        prefix_pattern = re.compile(prefix)\n",
    "        if prefix_pattern.search(link) is None:\n",
    "            link = prefix + link\n",
    "        return link\n",
    "    \n",
    "    def crawl_url(self, url):\n",
    "        \"\"\"\n",
    "        Crawls a single URL and extracts all text content and links.\n",
    "        If the url links to a pdf, the content of the pdf is extracted\n",
    "        as text and returned, just like the html content for a normal website.\n",
    "        Parameters:\n",
    "            url: The URL to crawl\n",
    "        Returns:\n",
    "            text: The text/pdf content of the URL\n",
    "            links: All links found on the URL\n",
    "        \"\"\"\n",
    "        response = requests.get(url)\n",
    "        content_type = response.headers.get('content-type')\n",
    "        response.raise_for_status()\n",
    "        \n",
    "        #If the url links to a pdf, download it and read the content\n",
    "        if 'application/pdf' in content_type:\n",
    "            try:\n",
    "                text = \"\"\n",
    "                with pdfplumber.open(io.BytesIO(response.content)) as pdf:\n",
    "                    for page in pdf.pages:\n",
    "                        text += page.extract_text()\n",
    "                        \n",
    "                return text, url\n",
    "            except Exception as e:\n",
    "                error = f\"An error occured while processing the pdf content: {e}\"\n",
    "                print(error)\n",
    "                \n",
    "                return error, url\n",
    "        elif 'text/html' in content_type:\n",
    "            try:\n",
    "                soup = BeautifulSoup(response.text, \"html.parser\")  #Format text for readability\n",
    "                text = soup.get_text()\n",
    "                links = [link.get('href') for link in soup.find_all('a') if link.get('href') is not None]\n",
    "            \n",
    "                return text, links\n",
    "            except Exception as e:\n",
    "                error = f\"An error occured while parsing the html content: {e}\"\n",
    "                print(error)\n",
    "                \n",
    "                return error, url\n",
    "        else:\n",
    "            return 'unknown content type', url\n",
    "    \n",
    "    def crawl_urls(self, url):\n",
    "        \"\"\"\n",
    "        Crawls a URL and extracts all text content and links\n",
    "        Parameters:\n",
    "            url: The URL to crawl\n",
    "            \n",
    "        \"\"\"\n",
    "        #Return if max depth is reached, or the start_url was already visited\n",
    "        if self.depth >= self.link_thresh or url in self.visited_links:\n",
    "            return\n",
    "            \n",
    "        try:    \n",
    "            #Extract scheme/hostname to be able to crawl links that are missing these\n",
    "            print(\"Currently crawling: \" + url)\n",
    "            scheme = urlparse(url).scheme\n",
    "            hostname = urlparse(url).hostname\n",
    "            prefix = scheme + \"://\" + hostname\n",
    "            time.sleep(self.delay_seconds)\n",
    "            text, links = self.crawl_url(url)\n",
    "            self.link_contents.append({url: text})\n",
    "            \n",
    "            #Mark the current URL as visited\n",
    "            self.visited_links.add(url)\n",
    "        \n",
    "            #Filter out all topic irrelevant links (correct choice of url_pattern is important!) and add hostname to the link if needed\n",
    "            valid_urls = list(set([self.add_hostname(link, prefix) for link in links if self.url_pattern.search(link) is not None and link is not url]))\n",
    "        \n",
    "            #Update the link tree\n",
    "            if self.depth not in self.link_tree:\n",
    "                self.link_tree[self.depth] = []\n",
    "            self.link_tree[self.depth].append({url: valid_urls})\n",
    "            self.depth = self.depth + 1\n",
    "\n",
    "            for curr_url in valid_urls:\n",
    "                if curr_url not in self.visited_links:\n",
    "                    self.crawl_urls(curr_url)\n",
    "\n",
    "        except Exception as e:\n",
    "            print(f\"Crawling failed on {start_url}: {e}\")\n",
    "    \n",
    "        #Save the crawled data \n",
    "        with open (\"crawler_result.json\", 'w') as fh:\n",
    "            json.dump(self.link_contents, fh)\n",
    "\n",
    "        return \n",
    "\n",
    "    def start_crawling(self):\n",
    "        \"\"\"\n",
    "        Starts the crawling process\n",
    "        \"\"\"        \n",
    "        self.crawl_urls(self.start_url)\n",
    "        print(\"Crawling complete, resulting link tree:\")\n",
    "        print(self.link_tree)\n",
    "\n",
    "start_url = \"https://www.oth-aw.de/en/study-programmes-and-educational-opportunities/study-programmes/master-degree-programs/international-energy-engineering/program-international-energy-engineering/\"\n",
    "url_pattern = \"international-energy-engineering\"\n",
    "\n",
    "crawler = Crawler(start_url, url_pattern)\n",
    "crawler.start_crawling()\n",
    "text, url = crawler.crawl_url(\"https://www.oth-aw.de/files/oth-aw/Einrichtungen/Bib/Suchen_und_Finden/Infoblatt_E-Books.pdf\")\n",
    "print(text)"
   ]
  },
  {
   "cell_type": "code",
   "execution_count": null,
   "id": "915b14e43f02cafe",
   "metadata": {
    "collapsed": false
   },
   "outputs": [],
   "source": []
  },
  {
   "cell_type": "markdown",
   "id": "14a7268c-2b6e-43ef-84a9-44e969f70ce5",
   "metadata": {},
   "source": [
    "### Fragen zu Teilaufgabe 2.2.1 - Manuelle Datenexploration <a class=\"anchor\" id=\"2\"></a>\n",
    "- Wie sehen die inhaltlichen Textstrukturen aus?\n",
    "    - Strukturell Fließtext aber auch Aufzählungen / Stichpunkte\n",
    "    - Inhaltlich hauptsächlich allgemeine Informationen über den Studiengang\n",
    "    - Aber auch Beschreibung, weswegen dieser wichtig ist\n",
    "    - Cookie Informationen werden ebenfalls mit extrahiert (bspw. Laufzeit usw.)\n",
    "- Wie und in welcher Form werden alle Textinformationen dargestellt?\n",
    "    - Text wird teils in Englisch / Deutsch angezeigt\n",
    "- Reduntante Strukturen / Inhalte?\n",
    "    - Teils ist dieselbe Website nur in anderen Sprachen (Tschechisch, Russisch usw.) verlinkt\n",
    "    - Folgt man diesen hat man dann natürlich wieder dieselben links, auch zur vorherigen Seite (evtl. Endlosschleife, wenn man den crawler nicht durch eine Schranke o.ä. stoppt)\n",
    "    - Ansonsten ähnelt sich der Aufbau auch in diesem Fall wieder (Überschriften gefolgt von Fließtext und Aufzählungen zwischendrin)"
   ]
  },
  {
   "cell_type": "markdown",
   "id": "d589319f-b745-4c61-93f9-dfe3ac335e69",
   "metadata": {},
   "source": [
    "### Automatisierte Datenerfassung <a class=\"anchor\" id=\"3\"></a>"
   ]
  },
  {
   "cell_type": "markdown",
   "id": "c011556b5daccffb",
   "metadata": {
    "collapsed": false
   },
   "source": [
    "## Datenaufbereitung <a class=\"anchor\" id=\"4\"></a>"
   ]
  },
  {
   "cell_type": "markdown",
   "id": "6cc91be9f6b90d26",
   "metadata": {
    "collapsed": false
   },
   "source": [
    "## Datenverarbeitung, Visualisierung und Auswertung/Beurteilung <a class=\"anchor\" id=\"5\"></a>"
   ]
  },
  {
   "cell_type": "markdown",
   "id": "924c71c677f35bd7",
   "metadata": {
    "collapsed": false
   },
   "source": [
    "### Transformer-Modelle <a class=\"anchor\" id=\"6\"></a>"
   ]
  },
  {
   "cell_type": "markdown",
   "id": "757b0f5e6b041d10",
   "metadata": {
    "collapsed": false
   },
   "source": [
    "### Extraktion der Sentence & Word Embeddings <a class=\"anchor\" id=\"7\"></a>"
   ]
  },
  {
   "cell_type": "markdown",
   "id": "cbcbc36720470d2a",
   "metadata": {
    "collapsed": false
   },
   "source": [
    "### Clustering, Visualisierung und Bewertung der \"Cluster\" <a class=\"anchor\" id=\"8\"></a>"
   ]
  },
  {
   "cell_type": "markdown",
   "id": "da2600b871c31df",
   "metadata": {
    "collapsed": false
   },
   "source": [
    "### Topic Klassifikation & Zuordnung <a class=\"anchor\" id=\"9\"></a>"
   ]
  },
  {
   "cell_type": "code",
   "execution_count": null,
   "id": "36aafb07551954a9",
   "metadata": {
    "collapsed": false
   },
   "outputs": [],
   "source": []
  }
 ],
 "metadata": {
  "kernelspec": {
   "display_name": "nlp-env-win",
   "language": "python",
   "name": "nlp-env-win"
  },
  "language_info": {
   "codemirror_mode": {
    "name": "ipython",
    "version": 3
   },
   "file_extension": ".py",
   "mimetype": "text/x-python",
   "name": "python",
   "nbconvert_exporter": "python",
   "pygments_lexer": "ipython3",
   "version": "3.11.7"
  }
 },
 "nbformat": 4,
 "nbformat_minor": 5
}
