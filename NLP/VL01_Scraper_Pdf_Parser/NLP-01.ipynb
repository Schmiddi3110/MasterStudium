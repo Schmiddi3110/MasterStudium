{
 "cells": [
  {
   "cell_type": "markdown",
   "id": "5abc4177",
   "metadata": {},
   "source": [
    "# Regular Expressions \n",
    "\n",
    "## Practical part\n",
    "Load the text \"The Time Machine\" by H.G. Wells from your txt-file into a string variable."
   ]
  },
  {
   "cell_type": "code",
   "execution_count": null,
   "id": "d89f9a3e-b163-48c4-b75f-92aa8c117cd2",
   "metadata": {},
   "outputs": [],
   "source": []
  },
  {
   "cell_type": "markdown",
   "id": "bb97175b-4fb9-4d32-af16-b29ad55ff7de",
   "metadata": {},
   "source": [
    "## String Operations"
   ]
  },
  {
   "cell_type": "markdown",
   "id": "e70ca236-cae7-4127-86b6-0914f9bac66b",
   "metadata": {},
   "source": [
    "Work with the pure text string and use the Python string methods to solve the following problems:\n",
    "\n",
    "- Find all occurrences of the phrase \"The Time Machine\".\n",
    "- Find all occurrences of the word \"time\", independent of letter capitalization (so also \"Time\" or even \"tiMe\", if it appeared).\n",
    "- Split your text at every occurrence of a newline \"\\n”. You will get a list of strings.\n",
    "- Afterwards, revert this operation by joining the resulting list of strings again correctly. Make sure that your result equals the original text. \n",
    "- Try to transform the text into a list of words by using the split() operation. \n",
    "   "
   ]
  },
  {
   "cell_type": "code",
   "execution_count": 1,
   "id": "9eaf89d9-718c-48ec-81d7-7ed93d4d0d17",
   "metadata": {},
   "outputs": [
    {
     "name": "stdout",
     "output_type": "stream",
     "text": [
      "test\n"
     ]
    }
   ],
   "source": []
  },
  {
   "cell_type": "code",
   "execution_count": null,
   "id": "e5b61210-db9d-4bbb-85d0-416730cf29af",
   "metadata": {},
   "outputs": [],
   "source": []
  },
  {
   "cell_type": "code",
   "execution_count": null,
   "id": "bfa88211-72bd-47b5-bcb7-f5a157b064aa",
   "metadata": {},
   "outputs": [],
   "source": []
  },
  {
   "cell_type": "markdown",
   "id": "176f5b32-9600-42ef-901a-c3391c40a401",
   "metadata": {},
   "source": [
    "## Encodings\n",
    "\n",
    "Some small exercises to see unicode in action. \n",
    "\n",
    "\n",
    "https://docs.python.org/3/howto/unicode.html\n",
    "\n",
    "Examples:"
   ]
  },
  {
   "cell_type": "code",
   "execution_count": 5,
   "id": "b536c40c-7dfd-47cf-b823-b76a97c4ce29",
   "metadata": {},
   "outputs": [],
   "source": [
    "str = \"This is a unicode lesson.\""
   ]
  },
  {
   "cell_type": "code",
   "execution_count": 2,
   "id": "3d7c8b7a-1a84-4d31-b54a-b346da184465",
   "metadata": {},
   "outputs": [
    {
     "data": {
      "text/plain": [
       "b'This is a unicode lesson.'"
      ]
     },
     "execution_count": 2,
     "metadata": {},
     "output_type": "execute_result"
    }
   ],
   "source": [
    "str.encode(\"utf-8\")"
   ]
  },
  {
   "cell_type": "code",
   "execution_count": 3,
   "id": "c226ff92-19d6-412a-8275-d9e514b77277",
   "metadata": {},
   "outputs": [],
   "source": [
    "str = \"This is ánother unicode lesson. $%\""
   ]
  },
  {
   "cell_type": "code",
   "execution_count": 4,
   "id": "60030056-72ce-4956-9d69-434eeedaf3a6",
   "metadata": {},
   "outputs": [
    {
     "data": {
      "text/plain": [
       "b'This is \\xc3\\xa1nother unicode lesson. $%'"
      ]
     },
     "execution_count": 4,
     "metadata": {},
     "output_type": "execute_result"
    }
   ],
   "source": [
    "str.encode(\"utf-8\")"
   ]
  },
  {
   "cell_type": "markdown",
   "id": "ca11afe9-2efc-497f-915d-f9221605c5f8",
   "metadata": {},
   "source": [
    "### Unicode\n",
    "- Copy some text in kyrillic or Chinese from a website you trust, e.g. OTH.\n",
    "- Print the unicode representation to each char. Use the package _unicodedata_ to get the category and the name of each string.\n",
    "\n",
    "Normalization:\n",
    "- Unicode representations are not unique. Find below two different representations for the letter \"á\".\n",
    "- Convince yourself that they represent the same letter.\n",
    "- Evaluate whether the strings are equal in Python.\n",
    "- Use unicodedata.normalize to achieve string equality.\n",
    "- How is the normalized representation?"
   ]
  },
  {
   "cell_type": "code",
   "execution_count": 23,
   "id": "ed90b9d5-1308-4d86-ae98-4c891ef58705",
   "metadata": {},
   "outputs": [
    {
     "name": "stdout",
     "output_type": "stream",
     "text": [
      "b'\\xd0\\x97\\xd0\\xb4\\xd0\\xb5\\xd1\\x81\\xd1\\x8c \\xd0\\xb2\\xd1\\x8b \\xd0\\xbc\\xd0\\xbe\\xd0\\xb6\\xd0\\xb5\\xd1\\x82\\xd0\\xb5 \\xd0\\xbf\\xd0\\xbe\\xd1\\x81\\xd0\\xbc\\xd0\\xbe\\xd1\\x82\\xd1\\x80\\xd0\\xb5\\xd1\\x82\\xd1\\x8c \\xd0\\xba\\xd0\\xbe\\xd1\\x80\\xd0\\xbe\\xd1\\x82\\xd0\\xba\\xd1\\x83\\xd1\\x8e \\xd0\\xb2\\xd0\\xb8\\xd0\\xb4\\xd0\\xb5\\xd0\\xbe\\xd0\\xbf\\xd1\\x80\\xd0\\xb5\\xd0\\xb7\\xd0\\xb5\\xd0\\xbd\\xd1\\x82\\xd0\\xb0\\xd1\\x86\\xd0\\xb8\\xd1\\x8e \\xd0\\xbe \\xd0\\xa2\\xd0\\xb5\\xd1\\x85\\xd0\\xbd\\xd0\\xb8\\xd1\\x87\\xd0\\xb5\\xd1\\x81\\xd0\\xba\\xd0\\xbe\\xd0\\xbc \\xd0\\xb8\\xd0\\xbd\\xd1\\x81\\xd1\\x82\\xd0\\xb8\\xd1\\x82\\xd1\\x83\\xd1\\x82\\xd0\\xb5 \\xd0\\x90\\xd0\\xbc\\xd0\\xb1\\xd0\\xb5\\xd1\\x80\\xd0\\xb3-\\xd0\\x92\\xd0\\xb0\\xd0\\xb9\\xd0\\xb4\\xd0\\xb5\\xd0\\xbd'\n",
      "Здесь вы можете посмотреть короткую видеопрезентацию о Техническом институте Амберг-Вайден\n"
     ]
    }
   ],
   "source": [
    "#TODO\n",
    "import unicodedata\n",
    "\n",
    "styled_R = 'ℜ'\n",
    "normal_R = 'R'\n",
    "str_a = 'á'\n",
    "\n",
    "str =  \"Здесь вы можете посмотреть короткую видеопрезентацию о Техническом институте Амберг-Вайден\"\n",
    "\n",
    "#print(str.encode())\n",
    "#print(unicodedata.category(styled_R))\n",
    "#print(unicodedata.category(normal_R))\n",
    "#print(unicodedata.category('д'))\n",
    "\n",
    "#print(unicodedata.name(styled_R))\n",
    "#print(unicodedata.name(normal_R))\n",
    "#print(unicodedata.name('д'))\n",
    "\n",
    "print(str.encode())\n",
    "print(unicodedata.normalize('NFC', str))"
   ]
  },
  {
   "cell_type": "markdown",
   "id": "d510f162-bfb9-487c-a95a-8ce88f0d9669",
   "metadata": {},
   "source": []
  },
  {
   "cell_type": "markdown",
   "id": "5c24dbc4-e796-4595-9e70-c28357b3af44",
   "metadata": {},
   "source": [
    "### ASCII encoding\n",
    "Encode the string in ASCII and decode it into UTF-8.\n",
    "- What happens?\n",
    "- What could you use it for?\n",
    "- use different options for encoding (\"strict\", \"replace\", \"backslashreplace\", \"namereplace\", [there are even more])\n",
    "\n"
   ]
  },
  {
   "cell_type": "code",
   "execution_count": 30,
   "id": "dab3f7ff-1216-4cf0-b6d1-c7fd3d2ad909",
   "metadata": {},
   "outputs": [
    {
     "name": "stdout",
     "output_type": "stream",
     "text": [
      "This is \\xe0nother unicode lesson\n"
     ]
    }
   ],
   "source": [
    "str = \"This is ànother unicode lesson\"\n",
    "encode = str.encode('ascii', 'backslashreplace')\n",
    "print(encode.decode('UTF-8'))"
   ]
  },
  {
   "cell_type": "code",
   "execution_count": null,
   "id": "002403fa-0573-439d-9544-7a03abf7dce2",
   "metadata": {},
   "outputs": [],
   "source": [
    "# TODO"
   ]
  },
  {
   "cell_type": "code",
   "execution_count": null,
   "id": "8c6aed36-403a-4623-85f7-a7e05dd56e1a",
   "metadata": {},
   "outputs": [],
   "source": []
  },
  {
   "cell_type": "markdown",
   "id": "d10e4c20-4abc-4770-9ab4-23e77e2f7d2a",
   "metadata": {},
   "source": [
    "## Regular Expressions"
   ]
  },
  {
   "cell_type": "markdown",
   "id": "c86b842e-d4a1-48ab-9d0e-944ba57a150a",
   "metadata": {},
   "source": [
    "Familiarize with the Python re package: https://docs.python.org/3/library/re.html"
   ]
  },
  {
   "cell_type": "markdown",
   "id": "d0e2af53",
   "metadata": {},
   "source": [
    "Warmup: Find all occurrences of the pattern \"a[bcd]*b\" in the string \"abcbdab\""
   ]
  },
  {
   "cell_type": "code",
   "execution_count": 41,
   "id": "4c7bfd01-930e-433e-a36f-f3f22ba3cc1a",
   "metadata": {},
   "outputs": [
    {
     "name": "stdout",
     "output_type": "stream",
     "text": [
      "abcb\n",
      "abcb\n",
      "ab\n"
     ]
    }
   ],
   "source": [
    "import re\n",
    "\n",
    "search_string = \"abcbdab\"\n",
    "regex = re.compile(\"a[bcd]*b\")\n",
    "\n",
    "match = regex.match(search_string)\n",
    "all = regex.findall(search_string)\n",
    "\n",
    "print(match.group(0))\n",
    "for el in all:\n",
    "    print(el)"
   ]
  },
  {
   "cell_type": "code",
   "execution_count": null,
   "id": "324e0cb1-4348-44de-b7b4-010a19698d68",
   "metadata": {},
   "outputs": [],
   "source": []
  },
  {
   "cell_type": "code",
   "execution_count": null,
   "id": "04a05d97-93b4-4268-8d1d-e76b292d54dc",
   "metadata": {},
   "outputs": [],
   "source": []
  },
  {
   "cell_type": "markdown",
   "id": "a06da360",
   "metadata": {},
   "source": [
    "Perform the following searches on your Time Machine text:\n",
    "- Find the word \"time\"\n",
    "- Find the word \"time\" with small or capital letter at the beginning (\"time\" and \"Time\")\n",
    "- Print context for each occurrence (e.g. 10 chars before and after the finding)\n",
    "- Are there any digits in the text?\n",
    "- Count the number of fullstops (\".\") in the text (this might give you an impression of how many sentences you have...)\n",
    "- Find patterns with various (at least 2) fullstops in a row (e.g. \"...\")\n",
    "- However, some fullstops do not mark the end of a sentence. For example abbreviations like \"e.g.\", \"i.e.\", names (\"H.G. Wells\"), or patterns like \"...\". We may assume that the end of a sentence is marked by a fullstop followed by a space. Find those patterns. \n",
    "- Which words are written in capital letters although they are not at the beginning of a sentence? Find all such ocurrences.\n",
    "\n",
    "\n",
    "\n"
   ]
  },
  {
   "cell_type": "code",
   "execution_count": null,
   "id": "6d99bc54-2acb-4d68-b725-e9b21b1b5c93",
   "metadata": {},
   "outputs": [],
   "source": [
    "# TODO"
   ]
  },
  {
   "cell_type": "code",
   "execution_count": null,
   "id": "ee67076f-888d-4c32-b88c-3fef9b155b63",
   "metadata": {},
   "outputs": [],
   "source": []
  },
  {
   "cell_type": "code",
   "execution_count": null,
   "id": "21734d51-b9f6-41bc-87e2-a6aac236076b",
   "metadata": {},
   "outputs": [],
   "source": []
  },
  {
   "cell_type": "markdown",
   "id": "08cdd343",
   "metadata": {},
   "source": [
    "#### Sentence tokenization \n",
    "\n",
    "Manually using regex, see task description in lecture (NLP02-1).\n",
    "Do not use any dedicated method from a language package here."
   ]
  },
  {
   "cell_type": "code",
   "execution_count": 2,
   "id": "e90501d7",
   "metadata": {},
   "outputs": [
    {
     "name": "stdout",
     "output_type": "stream",
     "text": [
      "[('The', ''), ('Project', ''), ('Gutenberg', ' e'), ('Book', ' o'), ('The', ''), ('Time', ''), ('Machine', ''), ('H', ''), ('G', ''), ('Wells', ''), ('This', ' e'), ('Book', ' i'), ('United', ''), ('States', ' a'), ('You', ' m'), ('Project', ''), ('Gutenberg', ''), ('License', ' i'), ('Book', ' o'), ('If', ' y'), ('United', ''), ('States', ''), ('Book', ''), ('Title', ''), ('The', ''), ('Time', ''), ('Machine', ''), ('Author', ''), ('H', ''), ('G', ''), ('Wells', ''), ('Release', ''), ('Date', ''), ('July', ''), ('Book', ''), ('Most', ' r'), ('October', ''), ('Language', ''), ('English', ''), ('Character', ' s'), ('U', ''), ('T', ''), ('F', ''), ('S', ''), ('T', ''), ('A', ''), ('R', ''), ('T', ''), ('O', ''), ('F', ''), ('T', ''), ('H', ''), ('E', ''), ('P', ''), ('R', ''), ('O', ''), ('J', ''), ('E', ''), ('C', ''), ('T', ''), ('G', ''), ('U', ''), ('T', ''), ('E', ''), ('N', ''), ('B', ''), ('E', ''), ('R', ''), ('G', ''), ('E', ''), ('B', ''), ('O', ''), ('O', ''), ('K', ''), ('T', ''), ('H', ''), ('E', ''), ('T', ''), ('I', ''), ('M', ''), ('E', ''), ('M', ''), ('A', ''), ('C', ''), ('H', ''), ('I', ''), ('N', ''), ('E', ''), ('The', ''), ('Time', ''), ('Machine', ''), ('An', ''), ('Invention', ''), ('H', ''), ('G', ''), ('Wells', ''), ('C', ''), ('O', ''), ('N', ''), ('T', ''), ('E', ''), ('N', ''), ('T', ''), ('S', ''), ('I', ''), ('Introduction', ''), ('I', ''), ('I', ''), ('The', ''), ('Machine', ''), ('I', ''), ('I', ''), ('I', ''), ('The', ''), ('Time', ''), ('Traveller', ''), ('Returns', ''), ('I', ''), ('V', ''), ('Time', ''), ('Travelling', ''), ('V', ''), ('In', ' t'), ('Golden', ''), ('Age', ''), ('V', ''), ('I', ''), ('The', ''), ('Sunset', ' o'), ('Mankind', ''), ('V', ''), ('I', ''), ('I', ''), ('A', ''), ('Sudden', ''), ('Shock', ''), ('V', ''), ('I', ''), ('I', ''), ('I', ''), ('Explanation', ''), ('I', ''), ('X', ''), ('The', ''), ('Morlocks', ''), ('X', ''), ('When', ''), ('Night', ''), ('Came', ''), ('X', ''), ('I', ''), ('The', ''), ('Palace', ' o'), ('Green', ''), ('Porcelain', ''), ('X', ''), ('I', ''), ('I', ''), ('In', ' t'), ('Darkness', ''), ('X', ''), ('I', ''), ('I', ''), ('I', ''), ('The', ''), ('Trap', ' o'), ('White', ''), ('Sphinx', ''), ('X', ''), ('I', ''), ('V', ''), ('The', ''), ('Further', ''), ('Vision', ''), ('X', ''), ('V', ''), ('The', ''), ('Time', ''), ('Traveller', ''), ('Return', ''), ('X', ''), ('V', ''), ('I', ''), ('After', ' t'), ('Story', ''), ('Epilogue', ''), ('I', ''), ('Introduction', ''), ('The', ''), ('Time', ''), ('Traveller', ''), ('His', ' p'), ('The', ' f'), ('Our', ' c'), ('And', ' h'), ('You', ' m'), ('I', ' s'), ('The', ' g'), ('Is', ' n'), ('Filby', ''), ('I', ' d'), ('You', ' w'), ('I', ' n'), ('You', ' k'), ('They', ' t'), ('Neither', ' h'), ('These', ' t'), ('That', ' i'), ('Psychologist', ''), ('Nor', ''), ('There', ''), ('I', ' o'), ('Filby', ''), ('Of', ' c'), ('All', '\\nr'), ('So', ' m'), ('But', ' w'), ('Can', ' a'), ('Don', ''), ('Filby', ''), ('Can', ' c'), ('Filby', ' b'), ('Clearly', ''), ('Time', ''), ('Traveller', ' p'), ('Length', ''), ('Breadth', ''), ('Thickness', ''), ('Duration', ''), ('But', ' t'), ('I', ' w'), ('There', ' a'), ('Space', ''), ('Time', ''), ('There', ' i'), ('That', ''), ('Now', ''), ('Time', ''), ('Traveller', ''), ('Really', ' t'), ('Fourth', ''), ('Dimension', ''), ('Fourth', ''), ('Dimension', ' d'), ('It', '\\ni'), ('Time', ''), ('There', ' i'), ('Time', ' a'), ('Space', ' e'), ('But', ' s'), ('You', ' h'), ('Fourth', ''), ('Dimension', ''), ('I', ''), ('Provincial', ''), ('Mayor', ''), ('It', ' i'), ('That', ''), ('Space', ''), ('Length', ''), ('Breadth', ''), ('Thickness', ''), ('But', ' s'), ('Four', ''), ('Dimensional', ' g'), ('Professor', ''), ('Simon', ''), ('Newcomb', '\\nw'), ('New', ''), ('York', ''), ('Mathematical', ''), ('Society', ' o'), ('You', ' k'), ('See', ''), ('I', ' t'), ('Provincial', ''), ('Mayor', ''), ('Yes', ''), ('I', ' t'), ('I', ' s'), ('Well', ''), ('I', ' d'), ('I', ' h'), ('Four', ''), ('Dimensions', ' f'), ('Some', ' o'), ('For', '\\ni'), ('All', '\\nt'), ('Three', ''), ('Dimensional', '\\nr'), ('Four', ''), ('Dimensioned', ' b'), ('Scientific', ' p'), ('Time', ''), ('Traveller', ''), ('Time', '\\ni'), ('Space', ''), ('Here', ' i'), ('This', ' l'), ('I', ' t'), ('Yesterday', ' i'), ('Surely', ' t'), ('Space', '\\ng'), ('But', ' c'), ('Time', ''), ('Dimension', ''), ('But', ''), ('Medical', ''), ('Man', ''), ('Time', ' i'), ('Space', ''), ('And', ' w'), ('Time', ' a'), ('Space', ''), ('The', ''), ('Time', ''), ('Traveller', ' s'), ('Are', ' y'), ('Space', ''), ('Right', ' a'), ('I', ' a'), ('But', ' h'), ('Gravitation', ' l'), ('Not', ' e'), ('Medical', ''), ('Man', ''), ('There', ' a'), ('But', ' b'), ('Still', ' t'), ('Medical', ''), ('Man', ''), ('Easier', ''), ('And', ' y'), ('Time', ''), ('My', ' d'), ('That', ' i'), ('We', ' a'), ('Our', ' m'), ('Time', ''), ('Dimension', ' w'), ('Just', ' a'), ('But', ' t'), ('Psychologist', ''), ('You', ''), ('Space', ''), ('Time', ''), ('That', ' i'), ('But', ' y'), ('Time', ''), ('For', ' i'), ('I', ' a'), ('I', ' g'), ('I', '\\nb'), ('I', ' j'), ('Of', ' c'), ('Time', ''), ('But', '\\nc'), ('He', ' c'), ('Time', ''), ('Dimension', ''), ('Oh', ''), ('Filby', ''), ('Why', ' n'), ('Time', ''), ('Traveller', ''), ('It', ''), ('Filby', ''), ('What', ' r'), ('Time', ''), ('Traveller', ''), ('You', ' c'), ('Filby', ''), ('Possibly', ' n'), ('Time', ''), ('Traveller', ''), ('But', ' n'), ('Four', ''), ('Dimensions', ''), ('Long', '\\na'), ('I', ' h'), ('To', ' t'), ('Time', ''), ('Very', ''), ('Young', ''), ('Man', ''), ('That', ' s'), ('Space', ' a'), ('Time', ''), ('Filby', ' c'), ('But', ''), ('I', ' h'), ('Time', ''), ('Traveller', ''), ('It', ' w'), ('Psychologist', '\\ns'), ('One', ' m'), ('Battle', ' o'), ('Hastings', ''), ('Don', ''), ('Medical', ''), ('Man', ''), ('Our', ' a'), ('One', ' m'), ('Greek', ' f'), ('Homer', ' a'), ('Plato', ''), ('Very', ''), ('Young', ''), ('Man', ' t'), ('In', ' w'), ('Little', ''), ('The', ''), ('German', ' s'), ('Greek', ' s'), ('Then', ' t'), ('Very', ''), ('Young', ''), ('Man', ''), ('Just', ' t'), ('One', '\\nm'), ('To', ' d'), ('I', ''), ('Of', ' a'), ('Psychologist', ''), ('Yes', ''), ('I', ' n'), ('Experimental', ' v'), ('I', ''), ('You', ' a'), ('The', ' e'), ('Filby', ''), ('Let', ''), ('Psychologist', ''), ('The', ''), ('Time', ''), ('Traveller', ' s'), ('Then', ''), ('The', ''), ('Psychologist', ' l'), ('I', ' w'), ('Some', ' s'), ('Medical', ''), ('Man', ''), ('Filby', '\\nt'), ('Burslem', ''), ('Time', ''), ('Traveller', ' c'), ('Filby', ''), ('I', ''), ('I', ''), ('The', ''), ('Machine', ''), ('The', ' t'), ('Time', ''), ('Traveller', ' h'), ('There', ' w'), ('And', ' n'), ('I', ' m'), ('He', '\\nt'), ('On', ' t'), ('Then', ' h'), ('The', ' o'), ('There', ' w'), ('I', ' s'), ('I', ' d'), ('Time', ''), ('Traveller', ' a'), ('Filby', ' s'), ('The', ''), ('Medical', ''), ('Man', ' a'), ('Provincial', ''), ('Mayor', ' w'), ('Psychologist', ' f'), ('The', ''), ('Very', ''), ('Young', ''), ('Man', ' s'), ('Psychologist', ''), ('We', ' w'), ('It', ' a'), ('The', ''), ('Time', ''), ('Traveller', ' l'), ('Well', ''), ('Psychologist', ''), ('This', ' l'), ('Time', ''), ('Traveller', ''), ('It', ' i'), ('You', ' w'), ('He', ' p'), ('Also', ''), ('The', ''), ('Medical', ''), ('Man', ' g'), ('It', ''), ('It', ' t'), ('Time', ''), ('Traveller', ''), ('Then', ''), ('Medical', ''), ('Man', ''), ('Now', ''), ('I', ' w'), ('This', ' s'), ('Presently', ''), ('I', ' a'), ('It', ' w'), ('Time', ''), ('Have', ' g'), ('Look', ' a'), ('I', ' d'), ('I', ''), ('There', ' w'), ('The', ''), ('Psychologist', ' s'), ('Then', ' t'), ('Time', ''), ('Traveller', ' p'), ('No', ''), ('Lend', ' m'), ('And', ' t'), ('Psychologist', ''), ('So', ' t'), ('Psychologist', ' h'), ('Time', ''), ('Machine', ' o'), ('We', ' a'), ('I', ' a'), ('There', ' w'), ('One', ' o'), ('Save', ' f'), ('Everyone', ' w'), ('Then', ''), ('Filby', ' s'), ('The', ''), ('Psychologist', ' r'), ('At', ' t'), ('Time', ''), ('Traveller', ' l'), ('Well', ''), ('Psychologist', ''), ('Then', ''), ('We', ' s'), ('Look', ' h'), ('Medical', ''), ('Man', ''), ('Do', ' y'), ('Certainly', ''), ('Time', ''), ('Traveller', ''), ('Then', ' h'), ('Psychologist', ''), ('The', ''), ('Psychologist', ''), ('What', ' i'), ('I', ' h'), ('I', ' m'), ('You', ' m'), ('Filby', ''), ('Into', ' t'), ('I', ' d'), ('After', ' a'), ('Psychologist', ' h'), ('It', ' m'), ('Why', ''), ('Time', ''), ('Traveller', ''), ('Because', ''), ('I', ' p'), ('But', ''), ('I', ''), ('If', ' i'), ('Thursday', ' w'), ('Thursday', ' b'), ('Serious', ' o'), ('Provincial', ''), ('Mayor', ''), ('Time', ''), ('Traveller', ''), ('Not', ' b'), ('Time', ''), ('Traveller', ''), ('Psychologist', ''), ('You', '\\nt'), ('You', ''), ('It', ''), ('Of', ' c'), ('Psychologist', ''), ('That', ''), ('I', ' s'), ('It', ''), ('We', ' c'), ('If', ' i'), ('That', ''), ('He', '\\np'), ('You', '\\ns'), ('We', ' s'), ('Then', ' t'), ('Time', ''), ('Traveller', ' a'), ('It', ' s'), ('Medical', ''), ('Man', ''), ('Wait', ' f'), ('Would', ' y'), ('Time', ''), ('Machine', ' i'), ('Time', ''), ('Traveller', ''), ('And', ' t'), ('I', ' r'), ('Parts', ' w'), ('The', ' t'), ('I', ' t'), ('Quartz', ' i'), ('Look', ' h'), ('Medical', ''), ('Man', ''), ('Or', ' i'), ('Christmas', ''), ('Upon', ' t'), ('Time', ''), ('Traveller', ''), ('I', ' i'), ('Is', ' t'), ('I', ' w'), ('None', ' o'), ('I', ' c'), ('Filby', ''), ('Medical', ''), ('Man', ''), ('I', ''), ('I', ''), ('I', ''), ('The', ''), ('Time', ''), ('Traveller', ''), ('Returns', ''), ('I', ' t'), ('Time', ''), ('Machine', ''), ('The', ' f'), ('Time', ''), ('Traveller', ' w'), ('Had', ''), ('Filby', ' s'), ('Time', ''), ('Traveller', ''), ('For', ' w'), ('Filby', ''), ('But', ' t'), ('Time', ''), ('Traveller', ' h'), ('Things', '\\nt'), ('It', ' i'), ('The', ' s'), ('So', ''), ('I', ' d'), ('Thursday', ' a'), ('For', ' m'), ('I', ' w'), ('That', ''), ('I', ' r'), ('Medical', ''), ('Man', ''), ('I', ' m'), ('Friday', ' a'), ('Linn', ''), ('He', ' s'), ('T', ''), ('But', ' h'), ('The', ' n'), ('Thursday', ''), ('I', ' w'), ('Richmond', ''), ('I', ' s'), ('I', ' w'), ('Time', ''), ('Traveller', ''), ('The', ''), ('Medical', ''), ('Man', ' w'), ('I', ' l'), ('Time', ''), ('Traveller', ''), ('It', ''), ('Medical', ''), ('Man', ''), ('I', ' s'), ('Where', ''), ('I', ''), ('You', ''), ('It', ''), ('He', ''), ('He', ' a'), ('Says', '\\nh'), ('It', ' s'), ('Editor', ' o'), ('Doctor', ' r'), ('The', ''), ('Psychologist', ' w'), ('Doctor', ' a'), ('The', ' o'), ('Blank', ''), ('Editor', '\\na'), ('I', ' d'), ('There', ' w'), ('Time', ''), ('Traveller', ''), ('I', ' s'), ('The', ''), ('Editor', ' w'), ('Psychologist', ' v'), ('He', '\\nw'), ('I', ' w'), ('Hallo', ''), ('I', ' s'), ('At', ' l'), ('And', ' t'), ('Time', ''), ('Traveller', ' s'), ('I', ' g'), ('Good', '\\nh'), ('Medical', ''), ('Man', ''), ('And', ' t'), ('He', ' w'), ('His', ' c'), ('His', ' f'), ('For', ' m'), ('Then', ' h'), ('He', ' w'), ('I', ' h'), ('We', ' s'), ('He', ' s'), ('The', ''), ('Editor', ' f'), ('He', ' d'), ('What', ' o'), ('Doctor', ''), ('The', ''), ('Time', ''), ('Traveller', ' d'), ('Don', ''), ('I', ''), ('He', '\\ns'), ('That', ''), ('His', ' e'), ('His', ' g'), ('Then', '\\nh'), ('I', ''), ('I', ''), ('Save', ' m'), ('I', ''), ('He', ' l'), ('Editor', ''), ('The', ''), ('Editor', ' b'), ('Tell', ' y'), ('Time', ''), ('Traveller', ''), ('I', ''), ('Be', ' a'), ('He', ' p'), ('Again', ''), ('I', '\\nr'), ('I', ' s'), ('He', ' h'), ('Then', ' t'), ('I', ' h'), ('I', ' r'), ('For', ' m'), ('Then', ''), ('Remarkable', ''), ('Behaviour', ' o'), ('Eminent', ''), ('Scientist', ''), ('I', '\\nh'), ('Editor', ' s'), ('And', ' t'), ('What', ''), ('Journalist', ''), ('Has', ' h'), ('Amateur', ''), ('Cadger', ''), ('I', ' d'), ('I', ' m'), ('Psychologist', ''), ('I', ' t'), ('Time', ''), ('Traveller', ' l'), ('I', ' d'), ('The', ' f'), ('Medical', ''), ('Man', ''), ('Time', ''), ('Traveller', ' h'), ('At', ' t'), ('Editor', ' t'), ('Silent', ''), ('Man', ' f'), ('The', ' d'), ('Conversation', ' w'), ('Editor', ' g'), ('Does', ' o'), ('Nebuchadnezzar', ' p'), ('I', ' f'), ('Time', ''), ('Machine', ''), ('I', ' s'), ('Psychologist', ''), ('The', ' n'), ('The', ''), ('Editor', ' r'), ('What', ''), ('A', ' m'), ('And', ' t'), ('Hadn', ''), ('Future', ''), ('The', ''), ('Journalist', ' t'), ('Editor', ' i'), ('They', ' w'), ('Our', ''), ('Special', ''), ('Correspondent', ' i'), ('Day', ' a'), ('Tomorrow', ' r'), ('Journalist', ' w'), ('Time', ''), ('Traveller', ' c'), ('He', ' w'), ('I', ' s'), ('Editor', ' h'), ('Tell', ' u'), ('Rosebery', ''), ('What', ' w'), ('The', ''), ('Time', ''), ('Traveller', ' c'), ('He', ' s'), ('Where', ''), ('What', ' t'), ('Story', ''), ('Editor', ''), ('Story', ' b'), ('Time', ''), ('Traveller', ''), ('I', ' w'), ('I', '\\nw'), ('I', ' g'), ('Thanks', ''), ('And', '\\nt'), ('One', ' w'), ('I', ''), ('Have', ' y'), ('Yes', ''), ('Time', ''), ('Traveller', ''), ('I', ''), ('Editor', ''), ('The', ''), ('Time', ''), ('Traveller', ' p'), ('Silent', ''), ('Man', ' a'), ('Silent', ''), ('Man', ''), ('The', ' r'), ('For', ' m'), ('I', ' d'), ('The', ''), ('Journalist', '\\nt'), ('Hettie', ''), ('Potter', ''), ('The', ''), ('Time', ''), ('Traveller', ' d'), ('The', ''), ('Medical', ''), ('Man', ' s'), ('Time', ''), ('Traveller', ' t'), ('The', ''), ('Silent', ''), ('Man', ' s'), ('At', ' l'), ('Time', ''), ('Traveller', '\\np'), ('I', ' s'), ('I', ' m'), ('I', ' w'), ('I', ''), ('He', ' r'), ('But', ' c'), ('It', ''), ('And', ' r'), ('You', ' h'), ('Blank', ''), ('Dash', ''), ('Chose', ' a'), ('But', ' t'), ('Editor', ''), ('I', ' c'), ('I', ' d'), ('I', ' c'), ('I', ' w'), ('I', ' w'), ('Badly', ''), ('Most', ' o'), ('So', ' b'), ('It', ''), ('I', ' w'), ('I', ''), ('I', ''), ('I', ' s'), ('I', ''), ('Then', ''), ('I', ' s'), ('But', ' n'), ('Is', ' i'), ('Agreed', ''), ('Editor', ''), ('Agreed', ''), ('And', ' w'), ('Time', ''), ('Traveller', ' b'), ('I', ' h'), ('He', ' s'), ('Afterwards', ' h'), ('In', ' w'), ('I', ' f'), ('You', ' r'), ('I', ' w'), ('You', ' c'), ('Most', ' o'), ('Journalist', '\\na'), ('Silent', ''), ('Man', ' f'), ('At', ' f'), ('After', '\\nt'), ('Time', ''), ('Traveller', ''), ('I', ''), ('V', ''), ('Time', ''), ('Travelling', ''), ('I', ' t'), ('Thursday', ' o'), ('Time', ''), ('Machine', ''), ('There', ' i'), ('I', ' e'), ('Friday', ''), ('Friday', ''), ('I', ' f'), ('I', ' h'), ('It', ' w'), ('Time', ''), ('Machines', ' b'), ('I', '\\ng'), ('I', ' s'), ('I', ' f'), ('I', ' t'), ('I', ' s'), ('I', ' f'), ('I', ' s'), ('Had', ' a'), ('For', ' m'), ('I', ' s'), ('Then', ''), ('I', ' n'), ('A', ' m'), ('I', ' d'), ('The', ' l'), ('Mrs', ''), ('Watchett', ' c'), ('I', ' s'), ('I', '\\np'), ('The', ' n'), ('The', '\\nl'), ('Tomorrow', '\\nn'), ('An', ' e'), ('I', ' a'), ('I', ' c'), ('They', ' a'), ('There', ' i'), ('I', '\\nf'), ('As', ''), ('I', '\\np'), ('The', '\\nd'), ('I', ' s'), ('I', ' s'), ('I', ' h'), ('I', ' h'), ('I', ' w'), ('The', ' s'), ('The', ' t'), ('Then', ''), ('I', ' s'), ('Presently', ''), ('I', ' w'), ('I', ' c'), ('The', ' l'), ('I', ' w'), ('I', ' s'), ('I', ' s'), ('The', ' w'), ('The', ' l'), ('Presently', ''), ('I', ' n'), ('The', ' u'), ('They', '\\nm'), ('I', ' r'), ('I', ' w'), ('But', ' m'), ('I', ' f'), ('At', ' f'), ('I', '\\ns'), ('But', ' p'), ('What', ' s'), ('I', '\\nt'), ('I', ' c'), ('I', ' s'), ('I', '\\ns'), ('Even', ' t'), ('And', ' s'), ('The', ' p'), ('I', ''), ('So', ' l'), ('I', ' t'), ('I', ' w'), ('But', ' t'), ('Unknown', ''), ('This', ' p'), ('I', ' w'), ('I', ' h'), ('Now', ' t'), ('I', ' n'), ('The', ' f'), ('I', ' t'), ('I', ' c'), ('I', ' r'), ('Like', ' a'), ('I', '\\nl'), ('I', ' w'), ('There', ' w'), ('I', ' m'), ('A', ' p'), ('I', ' w'), ('Everything', ' s'), ('I', ' r'), ('I', ' l'), ('I', ' w'), ('I', ' n'), ('The', ' r'), ('In', ' m'), ('I', '\\nw'), ('Fine', ' h'), ('I', ''), ('Presently', ''), ('I', ' t'), ('I', ' w'), ('I', ' s'), ('A', ' c'), ('But', ' a'), ('My', ' s'), ('As', ' t'), ('I', ' s'), ('It', ' w'), ('It', ' w'), ('The', ' p'), ('It', ' c'), ('It', ' w'), ('I', ' s'), ('It', ' s'), ('At', ' l'), ('I', ' t'), ('I', ' l'), ('What', ' m'), ('What', ' m'), ('What', ' i'), ('What', ' i'), ('I', ' m'), ('Already', ''), ('I', ' s'), ('I', ' w'), ('I', ' t'), ('Time', ''), ('Machine', ''), ('As', ''), ('I', '\\nd'), ('The', ' g'), ('Above', ' m'), ('The', ' g'), ('I', ' f'), ('I', ' f'), ('My', ' f'), ('I', ' t'), ('It', ' g'), ('It', ' s'), ('One', ' h'), ('I', ' s'), ('But', ' w'), ('I', '\\nl'), ('In', ' c'), ('I', ' s'), ('They', ' h'), ('Then', ''), ('I', ' h'), ('Coming', ' t'), ('White', ''), ('Sphinx', ' w'), ('One', ' o'), ('I', '\\ns'), ('He', ' w'), ('Sandals', ' o'), ('I', ' c'), ('Noticing', '\\nt'), ('I', ' n'), ('He', ' s'), ('His', ' f'), ('At', ' t'), ('I', ' s'), ('I', ' t'), ('V', ''), ('In', ' t'), ('Golden', ''), ('Age', ''), ('In', ' a'), ('I', ' a'), ('He', ' c'), ('The', ' a'), ('Then', ' h'), ('There', ' w'), ('One', ' o'), ('It', ' c'), ('So', ''), ('I', ' s'), ('He', ' c'), ('Then', ''), ('I', ' f'), ('They', ' w'), ('I', ' w'), ('There', ' w'), ('Indeed', ''), ('And', ' b'), ('I', ' c'), ('But', ''), ('I', ' m'), ('I', ' s'), ('Time', ''), ('Machine', ''), ('Happily', ' t'), ('I', ' t'), ('I', ' h'), ('I', ' u'), ('Then', ''), ('I', ' t'), ('I', ' c'), ('And', ' t'), ('I', ' s'), ('Dresden', ' c'), ('Their', ' h'), ('The', ' m'), ('The', ' e'), ('I', ' f'), ('I', ' m'), ('As', ' t'), ('I', ' b'), ('I', ' p'), ('Time', ''), ('Machine', ' a'), ('Then', ''), ('Time', ''), ('I', ' p'), ('At', '\\no'), ('For', ' m'), ('I', ' w'), ('The', ' q'), ('You', ' m'), ('You', ' s'), ('I', '\\nh'), ('Eight', ''), ('Hundred', ' a'), ('Two', ''), ('Thousand', ' o'), ('Then', ' o'), ('I', ' h'), ('It', ' l'), ('I', ' h'), ('A', ' f'), ('For', ' m'), ('I', ' f'), ('I', ' h'), ('Time', ''), ('Machine', ' i'), ('I', ' n'), ('They', ' a'), ('Then', ' c'), ('The', ' i'), ('I', '\\nw'), ('You', ' w'), ('Then', ' s'), ('I', ' w'), ('As', ''), ('I', ' w'), ('The', ' b'), ('I', ' w'), ('My', ' g'), ('I', ' s'), ('I', ' s'), ('They', ' g'), ('I', ' s'), ('I', ' d'), ('The', ''), ('Time', ''), ('Machine', ' w'), ('The', ' a'), ('I', ' d'), ('I', ' f'), ('I', ' s'), ('Ph', ''), ('I', ' p'), ('Several', ' m'), ('I', ''), ('The', ' b'), ('The', ' r'), ('The', '\\nf'), ('I', ' j'), ('Transverse', ' t'), ('Some', ''), ('I', ' r'), ('Between', ' t'), ('Upon', '\\nt'), ('With', ' p'), ('I', ' w'), ('I', ' f'), ('As', ''), ('I', ' d'), ('I', ' s'), ('And', ' p'), ('The', ' s'), ('And', ' i'), ('Nevertheless', ''), ('There', ' w'), ('All', ' w'), ('Fruit', ''), ('These', ' p'), ('I', ' w'), ('I', ' h'), ('Indeed', ''), ('I', ' f'), ('Ichthyosaurus', ' i'), ('But', ' t'), ('I', ' w'), ('I', '\\nm'), ('At', ' f'), ('I', ' w'), ('I', ' s'), ('I', ' b'), ('However', ''), ('I', ' a'), ('So', ' s'), ('I', ' d'), ('Clearly', ' t'), ('The', ' f'), ('I', ' b'), ('I', ' h'), ('At', ' f'), ('They', '\\nh'), ('However', ''), ('I', ' f'), ('I', ' h'), ('I', ' g'), ('But', ' i'), ('I', ' d'), ('And', ' v'), ('I', ' f'), ('I', ' n'), ('V', ''), ('I', ''), ('The', ''), ('Sunset', ' o'), ('Mankind', ''), ('A', ' q'), ('I', ' s'), ('They', ' w'), ('The', ' d'), ('I', ' n'), ('It', ' i'), ('I', ' c'), ('I', ' w'), ('I', ' w'), ('The', ' c'), ('I', ' e'), ('At', '\\nf'), ('Everything', ' w'), ('I', ' h'), ('The', ' b'), ('I', ' h'), ('Thames', '\\nh'), ('I', ' r'), ('I', ' c'), ('Eight', ''), ('Hundred', ' a'), ('Two', ''), ('Thousand', ''), ('Seven', ''), ('Hundred', ' a'), ('One', ''), ('A', ''), ('D', ''), ('For', ' t'), ('I', ' s'), ('As', ''), ('I', ' w'), ('I', ' w'), ('I', ' f'), ('A', ' l'), ('It', ' w'), ('I', ' c'), ('It', ' w'), ('I', ' w'), ('I', ' w'), ('Looking', ' r'), ('I', ' r'), ('I', ' r'), ('Apparently', ' t'), ('Here', ' a'), ('English', ' l'), ('Communism', ''), ('I', ' t'), ('And', ' o'), ('I', ' l'), ('Then', ''), ('I', '\\np'), ('It', ' m'), ('I', ' h'), ('But', ' e'), ('Now', ''), ('I', ' s'), ('In', ' c'), ('And', ' t'), ('I', ' j'), ('I', ' f'), ('Seeing', ' t'), ('I', ' f'), ('Where', ' p'), ('State', ''), ('We', ' s'), ('This', ''), ('I', ' m'), ('Later', ''), ('I', ' w'), ('While', ''), ('I', ' w'), ('I', ' t'), ('There', ' w'), ('I', ' w'), ('With', '\\ns'), ('I', ' p'), ('There', ''), ('I', ' f'), ('I', ' d'), ('I', ' s'), ('I', ' s'), ('It', ' w'), ('I', ' h'), ('The', ' s'), ('Below', ' w'), ('Thames', ''), ('I', ' h'), ('Here', ' a'), ('There', ' w'), ('So', ' w'), ('I', ' b'), ('I', ' h'), ('Afterwards', ''), ('I', ' f'), ('I', ' h'), ('It', ' s'), ('I', ' h'), ('The', '\\nr'), ('For', ' t'), ('I', ' b'), ('And', ' y'), ('Strength', ' i'), ('The', ' w'), ('One', ' t'), ('Nature', ' h'), ('Things', ' t'), ('And', ' t'), ('I', ' s'), ('After', ' a'), ('The', ' s'), ('Our', ' a'), ('We', ' i'), ('We', ' i'), ('Nature', ''), ('Some', ' d'), ('That', ' i'), ('The', '\\nw'), ('Nature', ''), ('In', ' t'), ('This', ' a'), ('I', ' s'), ('Time', ''), ('Time', ' a'), ('The', ' a'), ('The', ' i'), ('Diseases', ' h'), ('I', ' s'), ('And', ''), ('I', ' s'), ('Social', ' t'), ('I', ' s'), ('I', ' h'), ('There', ' w'), ('The', ' s'), ('It', ' w'), ('I', ' s'), ('The', ' d'), ('I', ' g'), ('But', ' w'), ('What', ''), ('Hardship', ' a'), ('And', ' t'), ('Now', ''), ('There', ' i'), ('I', ' t'), ('Nature', ''), ('For', ' a'), ('Quiet', ''), ('Humanity', ' h'), ('And', ' n'), ('Under', ' t'), ('Even', '\\ni'), ('Physical', ' c'), ('And', ' i'), ('For', ' c'), ('I', ' j'), ('For', ' s'), ('Better', ' e'), ('No', ' d'), ('I', ' s'), ('This', ' h'), ('Even', ' t'), ('Time', ''), ('I', ' s'), ('To', ' a'), ('Even', ' t'), ('We', ' a'), ('As', ''), ('I', ' s'), ('I', ' t'), ('I', ' h'), ('Possibly', ' t'), ('That', ' w'), ('Very', ' s'), ('V', ''), ('I', ''), ('I', ''), ('A', ''), ('Sudden', ''), ('Shock', ''), ('As', ''), ('I', ' s'), ('The', ' b'), ('I', ' s'), ('I', '\\nd'), ('I', ' c'), ('I', ' l'), ('I', ' k'), ('Then', ' m'), ('White', ''), ('Sphinx', ' u'), ('I', ' c'), ('There', ' w'), ('I', ' l'), ('A', ' q'), ('No', ''), ('I', ' s'), ('But', ' i'), ('For', ' t'), ('Can', ' y'), ('I', ' f'), ('But', ' y'), ('The', ''), ('Time', ''), ('Machine', ' w'), ('At', ' o'), ('The', ' b'), ('I', ' c'), ('In', ' a'), ('I', ' w'), ('Once', ''), ('I', ' f'), ('I', ' l'), ('All', ' t'), ('I', ' r'), ('I', ' w'), ('They', ' h'), ('Nevertheless', ''), ('I', ' r'), ('All', ' t'), ('I', ' k'), ('My', ' b'), ('I', ' s'), ('I', ' c'), ('And', ''), ('I', ' a'), ('I', ' c'), ('I', ' r'), ('I', ' c'), ('Not', ' c'), ('When', ''), ('I', ' r'), ('Not', ' t'), ('I', ' f'), ('I', ' f'), ('I', ' r'), ('Above', ' m'), ('It', ' s'), ('I', ' m'), ('I', ' n'), ('That', ' i'), ('Yet', ''), ('I', ' f'), ('The', ' a'), ('I', ' w'), ('It', ' h'), ('But', ' t'), ('I', ' t'), ('I', ' m'), ('I', ' r'), ('I', ' t'), ('I', '\\nr'), ('Then', ''), ('I', ' w'), ('The', ' b'), ('I', '\\ns'), ('I', ' l'), ('I', ' h'), ('There', ''), ('I', ' f'), ('I', ' h'), ('For', ' t'), ('Where', ' i'), ('Time', ''), ('Machine', ''), ('I', ' b'), ('It', ' m'), ('Some', ' l'), ('When', ''), ('I', ' s'), ('I', ' w'), ('For', ''), ('I', ' t'), ('Abruptly', ''), ('I', ' d'), ('I', ' h'), ('I', ' d'), ('I', ' d'), ('I', ' s'), ('I', ' f'), ('I', ' m'), ('God', ' a'), ('Fate', ''), ('I', ' h'), ('I', '\\nh'), ('Then', ''), ('I', ' s'), ('I', ' w'), ('I', ' s'), ('I', ' h'), ('I', ' h'), ('Then', ' t'), ('With', ' t'), ('I', ' c'), ('I', ' s'), ('I', ' c'), ('Suppose', ' t'), ('I', ' s'), ('Suppose', ' t'), ('It', ' b'), ('I', ' m'), ('That', ' w'), ('And', ''), ('But', ' p'), ('Still', ''), ('I', ' m'), ('And', ' w'), ('I', ' s'), ('I', ' c'), ('I', ' f'), ('The', ' f'), ('I', ' h'), ('Indeed', ''), ('I', ' w'), ('I', ' f'), ('I', ' m'), ('I', ' w'), ('I', ' w'), ('They', ' a'), ('I', ' h'), ('It', ' w'), ('The', ' t'), ('I', ' f'), ('I', ' h'), ('There', ' w'), ('I', ' c'), ('This', ' d'), ('It', ' w'), ('I', ' t'), ('I', ' h'), ('It', ' w'), ('I', ' w'), ('The', ' p'), ('Examining', ' t'), ('I', ' f'), ('There', ' w'), ('I', ' s'), ('One', ' t'), ('It', ' t'), ('Time', ''), ('Machine', ' w'), ('But', ' h'), ('I', ' s'), ('I', ' t'), ('They', ' c'), ('I', ' t'), ('But', ' a'), ('I', ' d'), ('Suppose', ' y'), ('They', ' w'), ('I', ' t'), ('Somehow', ''), ('But', ''), ('I', ' w'), ('Time', ''), ('Machine', ''), ('I', ' t'), ('As', ' h'), ('In', ' t'), ('I', ' w'), ('Then', ''), ('I', ' s'), ('I', ' l'), ('But', ''), ('I', ' w'), ('I', ' b'), ('I', ' t'), ('I', ' h'), ('I', ' t'), ('I', '\\nh'), ('I', ' m'), ('Then', ''), ('I', ' g'), ('I', ' h'), ('The', ' d'), ('I', '\\ns'), ('At', ' l'), ('I', ' s'), ('But', ''), ('I', ' w'), ('I', ' a'), ('Occidental', ' f'), ('I', ' c'), ('I', ' g'), ('Patience', ''), ('I', ' t'), ('If', ' y'), ('If', ' t'), ('To', ' s'), ('That', ' w'), ('Face', ' t'), ('Learn', ' i'), ('In', ' t'), ('Then', ' s'), ('I', ' h'), ('I', ' h'), ('Although', ' i'), ('I', ' c'), ('I', ' l'), ('Going', ' t'), ('It', ' m'), ('Yet', ''), ('I', ' f'), ('I', ' w'), ('I', ' m'), ('I', ' c'), ('I', ' p'), ('Either', ''), ('I', ' m'), ('There', ' s'), ('Their', ' s'), ('I', ' f'), ('I', ' d'), ('Time', ''), ('Machine', ' a'), ('Yet', ' c'), ('V', ''), ('I', ''), ('I', ''), ('I', ''), ('Explanation', ''), ('So', ' f'), ('I', ' c'), ('Thames', ' v'), ('From', ' e'), ('I', ' c'), ('I', ' s'), ('Here', ' a'), ('A', ' p'), ('One', ' l'), ('I', ' h'), ('Like', ' t'), ('Sitting', ' b'), ('I', ' c'), ('I', ' s'), ('But', ' i'), ('I', '\\nh'), ('I', ' d'), ('Further', ''), ('I', ' t'), ('After', ' t'), ('I', ' c'), ('Putting', ' t'), ('I', ' r'), ('I', ' w'), ('It', ' w'), ('And', ' h'), ('I', ' m'), ('I', ' l'), ('In', ' s'), ('Utopias', ' a'), ('I', ' h'), ('But', ' w'), ('I', ' f'), ('Conceive', ' t'), ('London', ' w'), ('Central', ''), ('Africa', ''), ('What', '\\nw'), ('Parcels', ''), ('Delivery', ''), ('Company', ''), ('Yet', ' w'), ('And', ' e'), ('Then', ''), ('Golden', ''), ('Age', ''), ('I', ' w'), ('I', ' f'), ('I', '\\nc'), ('In', ' t'), ('I', ' c'), ('But', ' i'), ('This', ''), ('I', '\\nd'), ('The', ' t'), ('I', ' w'), ('I', ' m'), ('Yet', ''), ('I', ' c'), ('Let', ' m'), ('The', ' s'), ('I', ' h'), ('I', ' c'), ('Yet', ' t'), ('Somehow', ' s'), ('And', '\\nt'), ('There', '\\nw'), ('They', '\\ns'), ('I', '\\nc'), ('Then', ''), ('Time', ''), ('Machine', ''), ('I', ' k'), ('White', ''), ('Sphinx', ''), ('Why', ''), ('For', ' t'), ('I', ' c'), ('Those', ' w'), ('I', ' f'), ('I', ' l'), ('I', ' f'), ('I', ' p'), ('Suppose', ' y'), ('English', ''), ('Well', ''), ('Eight', ''), ('Hundred', ' a'), ('Two', ''), ('Thousand', ''), ('Seven', ''), ('Hundred', ' a'), ('One', ' p'), ('That', ' d'), ('I', ' m'), ('It', ' h'), ('I', ' w'), ('The', ' m'), ('It', ' w'), ('I', ' t'), ('When', ''), ('I', ' r'), ('I', ' h'), ('I', ' c'), ('A', ' l'), ('I', ' h'), ('I', ' l'), ('I', '\\nh'), ('I', ' d'), ('In', ' t'), ('I', ' w'), ('This', ' h'), ('In', ' t'), ('I', ' m'), ('I', ' b'), ('I', ' w'), ('The', '\\nt'), ('Very', ' p'), ('I', ' h'), ('At', ' a'), ('I', ' d'), ('We', '\\nw'), ('The', ' c'), ('We', ' p'), ('I', ' d'), ('Then', ''), ('I', ' t'), ('Weena', ''), ('I', ' d'), ('That', ' w'), ('I', ' w'), ('She', ' w'), ('She', ' w'), ('She', '\\nt'), ('But', ' t'), ('I', ' h'), ('I', ' s'), ('Yet', ' h'), ('I', ' l'), ('I', ' t'), ('I', ' h'), ('Nevertheless', ' s'), ('I', '\\nt'), ('Until', '\\ni'), ('I', ' d'), ('I', ' h'), ('I', ' l'), ('Nor', ' u'), ('I', ' c'), ('For', ''), ('White', ''), ('Sphinx', ' a'), ('I', ' w'), ('I', ' c'), ('It', ' w'), ('I', ' l'), ('She', ' w'), ('I', ' m'), ('But', ' s'), ('Darkness', ' t'), ('It', ' w'), ('I', ' d'), ('To', ' e'), ('I', ' n'), ('Yet', ''), ('I', ' w'), ('I', ' m'), ('Weena', ''), ('I', ' i'), ('It', ' t'), ('But', '\\nm'), ('I', ' s'), ('It', ' m'), ('I', ' w'), ('I', ' h'), ('I', ' w'), ('I', ' w'), ('I', ' t'), ('I', ' f'), ('It', ' w'), ('I', ' g'), ('I', ' t'), ('I', ' w'), ('The', ' m'), ('The', ' b'), ('And', ' u'), ('I', ' t'), ('I', ' c'), ('Three', ' s'), ('I', ' s'), ('I', ' s'), ('Twice', ''), ('I', ' f'), ('I', ' s'), ('I', ' s'), ('They', ' m'), ('I', ' d'), ('It', ' s'), ('The', ' d'), ('I', ' w'), ('I', ' d'), ('As', ' t'), ('I', ' s'), ('But', ''), ('I', ' s'), ('They', ' w'), ('They', ' m'), ('I', ' s'), ('I', '\\nw'), ('For', ' q'), ('Grant', ''), ('Allen', ''), ('If', ' e'), ('On', ' t'), ('Eight', ''), ('Hundred', ''), ('Thousand', ''), ('Years', ' h'), ('But', ' t'), ('I', ' w'), ('Weena', ''), ('I', ' a'), ('I', ' h'), ('Time', ''), ('Machine', ''), ('But', ''), ('Weena', ' w'), ('Yet', ' a'), ('I', ' t'), ('I', ' h'), ('Golden', ''), ('Age', ''), ('I', ' c'), ('It', ' m'), ('It', ' i'), ('But', ' p'), ('Darwin', ''), ('As', '\\nt'), ('Whatever', ' t'), ('Well', ''), ('I', ' t'), ('I', ' w'), ('I', '\\ns'), ('Clambering', ' a'), ('I', ' f'), ('By', ' c'), ('I', '\\ne'), ('Suddenly', ''), ('I', ' h'), ('A', ' p'), ('The', ' o'), ('I', ' c'), ('I', ' w'), ('Then', ' t'), ('And', ' t'), ('I', ' r'), ('Overcoming', ' m'), ('I', '\\na'), ('I', ' w'), ('I', ' p'), ('At', ' o'), ('I', ' t'), ('It', ' b'), ('My', ' i'), ('I', ' k'), ('But', ''), ('I', ' s'), ('I', ' c'), ('After', ' a'), ('I', ' f'), ('I', ' c'), ('I', ' c'), ('I', ' h'), ('A', ' s'), ('Could', ' t'), ('Thing', ' h'), ('I', ' l'), ('I', ' s'), ('It', ' m'), ('It', ' w'), ('It', ' w'), ('I', ' s'), ('Then', ' t'), ('I', ' h'), ('I', ' d'), ('I', ' s'), ('It', ' w'), ('I', ' c'), ('I', '\\nh'), ('But', ''), ('Man', '\\nh'), ('Upper', ''), ('World', ' w'), ('Thing', ''), ('I', ' t'), ('I', ' b'), ('And', ' w'), ('I', '\\nw'), ('Lemur', ' d'), ('How', ' w'), ('Overworlders', ''), ('And', ' w'), ('I', ' s'), ('I', ' m'), ('And', ' w'), ('I', ' w'), ('As', ''), ('I', ' h'), ('The', ' m'), ('They', ' s'), ('Apparently', ' i'), ('I', ' p'), ('But', ' t'), ('I', ' s'), ('I', ' t'), ('I', ' f'), ('So', ' p'), ('I', ' l'), ('Weena', ''), ('I', ' c'), ('But', ' m'), ('I', ' h'), ('Time', ''), ('Machine', ''), ('And', ' v'), ('Here', ' w'), ('Plainly', ''), ('Man', ' w'), ('There', ' w'), ('In', ' t'), ('Kentucky', ' c'), ('Then', ''), ('And', ' l'), ('Beneath', ' m'), ('New', ''), ('Race', ''), ('The', ' p'), ('What', ' s'), ('Underworld', ' t'), ('The', ' n'), ('I', ' a'), ('I', ' d'), ('I', ' v'), ('At', ' f'), ('Capitalist', ' a'), ('Labourer', '\\nw'), ('No', ' d'), ('There', ' i'), ('Metropolitan', ''), ('Railway', ' i'), ('London', ''), ('Evidently', ''), ('I', ' t'), ('Industry', ' h'), ('I', ' m'), ('Even', ' n'), ('East', ''), ('Again', ''), ('About', ''), ('London', ''), ('And', ' t'), ('So', ''), ('Haves', ''), ('Have', ''), ('Workers', ' g'), ('Once', ' t'), ('Such', '\\no'), ('Overworld', ' p'), ('As', ' i'), ('The', ' g'), ('Humanity', ''), ('I', ' h'), ('It', ' h'), ('I', ' h'), ('Instead', ''), ('I', ' s'), ('Its', ' t'), ('Nature', ''), ('Nature', ' a'), ('This', ''), ('I', ' m'), ('I', ' h'), ('Utopian', ' b'), ('My', ' e'), ('I', ' s'), ('But', ' e'), ('The', ' t'), ('Overworlders', ' h'), ('That', ''), ('I', ' c'), ('What', ' h'), ('Undergrounders', ''), ('I', ' d'), ('I', '\\nh'), ('Morlocks', ''), ('I', ' c'), ('Eloi', ''), ('I', ' a'), ('Then', ' c'), ('Why', ' h'), ('Morlocks', ' t'), ('Time', ''), ('Machine', ''), ('For', ''), ('I', ' f'), ('Why', ''), ('Eloi', ' w'), ('And', ' w'), ('I', ' p'), ('I', ' h'), ('Weena', ' a'), ('Underworld', ''), ('I', ' w'), ('At', ' f'), ('She', ' s'), ('And', ' w'), ('I', ' p'), ('They', ' w'), ('I', ' e'), ('Golden', ''), ('Age', ''), ('When', ''), ('I', ' s'), ('I', ' c'), ('Morlocks', ''), ('Weena', ''), ('And', ' v'), ('I', ' s'), ('I', ''), ('X', ''), ('The', ''), ('Morlocks', ''), ('It', ' m'), ('I', ' c'), ('I', ' f'), ('They', ' w'), ('And', ' t'), ('Probably', ' m'), ('Eloi', ''), ('Morlocks', ''), ('I', ' n'), ('The', ' n'), ('I', ' d'), ('Probably', ' m'), ('I', ' w'), ('Once', ' o'), ('I', '\\nh'), ('I', ' c'), ('I', ' r'), ('Weena', ' w'), ('It', ' o'), ('Lemurs', ''), ('And', ' o'), ('I', ' h'), ('I', '\\nf'), ('Time', ''), ('Machine', ' w'), ('Yet', ''), ('I', ' c'), ('If', ' o'), ('I', ' h'), ('But', ''), ('I', ' w'), ('I', ' d'), ('I', ' n'), ('It', ' w'), ('Going', ' t'), ('Combe', ''), ('Wood', ''), ('I', ' o'), ('Banstead', ''), ('I', ' h'), ('It', ' w'), ('I', '\\nk'), ('Oriental', ' l'), ('Chinese', ' p'), ('This', ' d'), ('I', ' w'), ('But', ' t'), ('I', ' h'), ('I', ' r'), ('I', ' r'), ('Weena', ''), ('But', ' n'), ('I', ' p'), ('Palace', ' o'), ('Green', ''), ('Porcelain', ' w'), ('I', '\\nd'), ('I', ' r'), ('I', ' w'), ('Little', ''), ('Weena', ' r'), ('She', ' d'), ('Good', ''), ('Weena', ''), ('I', ' s'), ('I', ' b'), ('Rather', ' h'), ('I', ' m'), ('I', ' f'), ('At', ' f'), ('Then', ' s'), ('I', ' t'), ('I', '\\ns'), ('I', ' w'), ('I', ' s'), ('Then', ''), ('I', ' h'), ('I', ' c'), ('I', ' h'), ('The', '\\nd'), ('I', ' w'), ('And', ' n'), ('One', ' o'), ('For', ' m'), ('I', ' h'), ('I', '\\nd'), ('Though', ' m'), ('I', ' w'), ('Glancing', ' u'), ('I', ' s'), ('Weena', ''), ('The', ' t'), ('Everything', ' s'), ('I', ' l'), ('Weena', ' h'), ('I', ' w'), ('I', ' h'), ('Underworld', ' a'), ('But', ' e'), ('I', '\\nt'), ('I', ' c'), ('At', ' l'), ('I', ' s'), ('Swinging', ' m'), ('I', ' f'), ('I', ' c'), ('It', ' w'), ('My', ' a'), ('I', '\\nw'), ('Besides', ' t'), ('The', ' a'), ('I', ' d'), ('I', ' l'), ('I', ' w'), ('Starting', ' u'), ('I', ' s'), ('I', ' s'), ('I', ' h'), ('Living', ''), ('I', ' h'), ('But', ''), ('I', ' s'), ('I', ' t'), ('Overworld', ' p'), ('I', ' w'), ('But', ''), ('I', ' s'), ('You', ' a'), ('I', ' f'), ('Presently', ' t'), ('I', '\\nc'), ('I', ' h'), ('The', ' v'), ('I', ' h'), ('Necessarily', ' m'), ('Great', ' s'), ('Morlocks', ' s'), ('The', ' p'), ('Some', ' w'), ('The', ''), ('Morlocks', ' a'), ('Even', ' a'), ('I', ' r'), ('I', ' s'), ('It', ' w'), ('Then', ' t'), ('I', ' h'), ('I', ' w'), ('When', ''), ('I', ' h'), ('Time', ''), ('Machine', ''), ('I', ' h'), ('Future', ' w'), ('I', ' h'), ('I', '\\nm'), ('If', ' o'), ('I', ' h'), ('Kodak', ''), ('I', ' c'), ('Underworld', '\\ni'), ('But', ''), ('I', ' s'), ('Nature', ' h'), ('I', ' w'), ('I', ' d'), ('It', ' h'), ('I', ' h'), ('Overworlders', ''), ('Now', ''), ('I', ' s'), ('I', ' h'), ('I', ' s'), ('I', ' w'), ('I', ' f'), ('I', ' h'), ('I', ' f'), ('The', ' s'), ('The', ' s'), ('I', ' s'), ('I', ' c'), ('They', '\\ns'), ('I', ' c'), ('They', '\\nc'), ('I', '\\ns'), ('This', ' t'), ('I', ' w'), ('I', ' w'), ('I', ' d'), ('I', ' d'), ('I', ' m'), ('But', ''), ('I', ' h'), ('I', ' c'), ('Morlocks', ' r'), ('In', ' m'), ('I', ' w'), ('I', ' s'), ('You', ' c'), ('But', ''), ('I', ' d'), ('I', ' p'), ('I', ' r'), ('I', ' s'), ('It', ' h'), ('I', ' r'), ('I', ' l'), ('Then', ''), ('I', ' f'), ('I', ' d'), ('I', ' w'), ('I', '\\nl'), ('But', ''), ('I', ' h'), ('I', ' d'), ('Morlocks', ''), ('That', ' c'), ('With', ' t'), ('I', ' h'), ('The', ' l'), ('Several', ' t'), ('I', ' f'), ('At', ' l'), ('I', ' g'), ('I', '\\nf'), ('Even', ' t'), ('Then', ''), ('I', ' r'), ('Weena', ' k'), ('Eloi', ''), ('Then', ''), ('I', ' w'), ('X', ''), ('When', ''), ('Night', ''), ('Came', ''), ('Now', ''), ('I', ' s'), ('Hitherto', ''), ('Time', ''), ('Machine', ''), ('I', ' h'), ('Hitherto', ''), ('I', ' h'), ('I', ' h'), ('Morlocks', ''), ('Instinctively', ''), ('I', ' l'), ('Before', ''), ('I', '\\nh'), ('Now', ''), ('I', ' f'), ('The', ' e'), ('I', ' d'), ('It', ' w'), ('Weena', ' h'), ('Dark', ''), ('Nights', ''), ('It', ' w'), ('Dark', ''), ('Nights', ' m'), ('The', ' m'), ('And', ''), ('I', '\\nn'), ('Upperworld', ' p'), ('I', ' w'), ('Morlocks', ' d'), ('I', ' f'), ('The', ''), ('Upperworld', '\\np'), ('Morlocks', '\\nt'), ('The', ' t'), ('The', ''), ('Eloi', ''), ('Carlovignan', ' k'), ('They', ' s'), ('Morlocks', ''), ('And', ' t'), ('Morlocks', ' m'), ('I', ' i'), ('They', ' d'), ('But', ''), ('The', ''), ('Nemesis', ' o'), ('Ages', ' a'), ('And', ' n'), ('Already', ' t'), ('Eloi', ' h'), ('They', ' w'), ('Fear', ''), ('And', ' s'), ('I', ' h'), ('Underworld', ''), ('It', ' s'), ('I', ' t'), ('I', ' h'), ('I', ' c'), ('Still', ''), ('Fear', ''), ('I', ' w'), ('I', ' c'), ('Fear', ' d'), ('I', ' a'), ('Without', ' f'), ('I', ' d'), ('I', ' m'), ('With', ' t'), ('I', ' c'), ('I', ' h'), ('I', ' l'), ('I', ' f'), ('I', ' c'), ('I', ' s'), ('I', ' w'), ('Thames', ''), ('All', ' t'), ('Morlocks', ''), ('Then', ' t'), ('Palace', ' o'), ('Green', ''), ('Porcelain', ' a'), ('Weena', '\\nl'), ('I', ' w'), ('The', ' d'), ('I', ' h'), ('I', ' h'), ('In', ' a'), ('I', ' w'), ('I', '\\nw'), ('And', ' i'), ('I', ' c'), ('Weena', ' h'), ('I', ' b'), ('My', ' p'), ('Weena', ''), ('At', ' l'), ('And', ' t'), ('In', ' c'), ('I', ' f'), ('The', ''), ('Time', ''), ('Traveller', ' p'), ('Then', ' h'), ('As', ' t'), ('Wimbledon', ''), ('Weena', ' g'), ('But', ''), ('I', ' p'), ('Palace', ' o'), ('Green', ''), ('Porcelain', ' t'), ('Fear', ''), ('You', ' k'), ('Even', ' t'), ('To', ' m'), ('The', ' s'), ('Well', ''), ('In', ' t'), ('I', ' f'), ('I', ' c'), ('Morlocks', ' o'), ('In', ' m'), ('I', ' f'), ('And', ' w'), ('Time', ''), ('Machine', ''), ('So', ' w'), ('The', '\\nc'), ('The', ' g'), ('Weena', ''), ('I', ' t'), ('Then', ''), ('So', '\\nw'), ('I', '\\na'), ('This', ''), ('I', ' w'), ('Faun', ''), ('Here', ' t'), ('So', ' f'), ('I', ' h'), ('Morlocks', ''), ('From', ' t'), ('I', ' s'), ('I', ' h'), ('I', ' c'), ('Feeling', ' t'), ('I', ' c'), ('Weena', ' f'), ('I', ' h'), ('I', ' c'), ('Palace', ' o'), ('Green', ''), ('Porcelain', ''), ('I', ' w'), ('I', ' l'), ('Under', ' t'), ('Even', '\\nw'), ('I', ' d'), ('I', ' w'), ('I', ' d'), ('I', ' w'), ('Weena', ''), ('I', ' w'), ('I', ' c'), ('The', '\\nh'), ('Above', ' m'), ('I', ' f'), ('All', ' t'), ('But', ' t'), ('Milky', ''), ('Way', ''), ('Southward', ''), ('I', ' j'), ('Sirius', ''), ('And', ' a'), ('Looking', ' a'), ('I', ' t'), ('I', ' t'), ('Only', ' f'), ('I', '\\nh'), ('And', ' d'), ('Man', ' a'), ('I', ' k'), ('Instead', ' w'), ('Things', ' o'), ('I', ' w'), ('Then', ''), ('I', ' t'), ('Great', ''), ('Fear', ' t'), ('I', ' h'), ('Yet', ' i'), ('I', ' l'), ('Weena', ' s'), ('Through', ' t'), ('I', ' h'), ('Morlocks', ' a'), ('I', '\\nc'), ('I', ' c'), ('The', ' s'), ('No', ' d'), ('I', ' d'), ('Then', ''), ('And', ' c'), ('No', ''), ('Morlocks', ' h'), ('Indeed', ''), ('I', ' h'), ('And', ' i'), ('I', ' s'), ('I', ' s'), ('I', ' a'), ('Weena', ''), ('We', ' f'), ('We', ' s'), ('And', ' t'), ('I', ' t'), ('I', ' h'), ('I', '\\nf'), ('I', '\\np'), ('Clearly', ''), ('Long', ''), ('Ago', ' o'), ('Morlocks', ''), ('Possibly', ' t'), ('Even', ' n'), ('His', ' p'), ('And', ' s'), ('I', ' t'), ('After', ' a'), ('And', ' t'), ('Why', ' s'), ('I', ' t'), ('These', ''), ('Eloi', ' w'), ('Morlocks', ' p'), ('And', ' t'), ('Weena', '\\nd'), ('Then', ''), ('I', ' t'), ('Man', '\\nh'), ('Necessity', ' a'), ('Necessity', ' h'), ('I', ' e'), ('Carlyle', ''), ('But', ' t'), ('However', ' g'), ('Eloi', ' h'), ('Fear', ''), ('I', ' h'), ('I', ' s'), ('My', ' f'), ('I', ' c'), ('That', ' n'), ('In', ' t'), ('I', ' h'), ('I', ' s'), ('I', ' k'), ('Morlocks', ''), ('Then', ''), ('I', ' w'), ('White', ''), ('Sphinx', ''), ('I', ' h'), ('I', ' h'), ('I', ' c'), ('I', ' s'), ('Time', ''), ('Machine', ' a'), ('I', ' c'), ('Morlocks', '\\nw'), ('Weena', ''), ('I', ' h'), ('And', ' t'), ('I', '\\np'), ('X', ''), ('I', ''), ('The', ''), ('Palace', ' o'), ('Green', ''), ('Porcelain', ''), ('I', ' f'), ('Palace', ' o'), ('Green', ''), ('Porcelain', ''), ('Only', ' r'), ('It', ' l'), ('I', ' e'), ('I', ' w'), ('I', ' j'), ('Wandsworth', ' a'), ('Battersea', ' m'), ('I', ' t'), ('I', '\\nn'), ('The', ' m'), ('Palace', ' p'), ('I', ' s'), ('I', ' t'), ('Weena', ' m'), ('I', ' o'), ('She', ' a'), ('I', ' f'), ('Within', ' t'), ('At', ' t'), ('I', ' w'), ('The', ' t'), ('Then', ''), ('I', ' p'), ('I', ' r'), ('Megatherium', ''), ('The', ' s'), ('Further', ' i'), ('Brontosaurus', ''), ('My', ' m'), ('Going', '\\nt'), ('I', ' f'), ('I', ' f'), ('But', ' t'), ('Clearly', ' w'), ('South', ''), ('Kensington', ''), ('Here', ''), ('Pal', ''), ('Section', ''), ('Here', ' a'), ('I', ' f'), ('And', ' t'), ('Morlocks', ''), ('I', ' j'), ('The', ' p'), ('The', ' t'), ('Weena', ''), ('I', ' s'), ('And', ' a'), ('I', ' w'), ('I', ' g'), ('Even', ' m'), ('Time', ''), ('Machine', ' r'), ('To', ' j'), ('Palace', ' o'), ('Green', ''), ('Porcelain', '\\nh'), ('Gallery', ' o'), ('Pal', ''), ('To', ' m'), ('Exploring', ''), ('I', ' f'), ('This', ' a'), ('But', ''), ('I', ' c'), ('Doubtless', ' t'), ('Yet', ' t'), ('As', ' f'), ('I', ' s'), ('I', ' h'), ('I', ' a'), ('I', ' w'), ('I', ' h'), ('Apparently', ' t'), ('A', ' f'), ('I', ' w'), ('I', ' s'), ('Then', ' w'), ('I', ' e'), ('At', ' i'), ('Here', ''), ('I', ' w'), ('You', ' k'), ('I', ' h'), ('I', ' w'), ('I', ' c'), ('I', ' f'), ('I', ' c'), ('I', ' s'), ('Morlocks', ''), ('Suddenly', ''), ('Weena', ' c'), ('So', ' s'), ('Had', ' i'), ('I', ' d'), ('I', ' s'), ('Footnote', ''), ('It', ' m'), ('E', ''), ('D', ''), ('The', ' e'), ('I', ' h'), ('As', ' y'), ('London', ' h'), ('I', ' w'), ('Weena', ''), ('Then', ''), ('I', ' s'), ('I', ' h'), ('I', ' l'), ('I', ' s'), ('Further', ' a'), ('My', ' s'), ('Morlocks', '\\nr'), ('I', ' f'), ('I', ' w'), ('I', ' c'), ('I', ' h'), ('And', ' t'), ('I', ' h'), ('I', ' h'), ('I', ' t'), ('Weena', ''), ('Then', ''), ('I', ' l'), ('Clambering', ' u'), ('I', ' p'), ('Suddenly', ''), ('Weena', ''), ('I', ' h'), ('I', ' r'), ('I', ' j'), ('Morlock', ' s'), ('I', ' m'), ('And', ''), ('I', ' l'), ('Morlock', ' o'), ('Very', ' i'), ('But', ' i'), ('Only', ' m'), ('Weena', ''), ('I', ' b'), ('Time', ''), ('Machine', ' m'), ('I', ' h'), ('Well', ''), ('Weena', ' i'), ('I', ' w'), ('The', '\\nb'), ('I', ' p'), ('They', ' h'), ('But', ' h'), ('Had', ''), ('I', ' b'), ('I', ' m'), ('But', ' a'), ('At', ' t'), ('I', '\\nw'), ('I', ' t'), ('Philosophical', ''), ('Transactions', ''), ('Then', ''), ('And', ' h'), ('I', ' h'), ('Except', ' a'), ('I', ' w'), ('And', ' a'), ('I', ' f'), ('Very', ' e'), ('I', ' t'), ('They', ' w'), ('They', ' w'), ('I', ' t'), ('Weena', ''), ('Dance', ''), ('I', ' c'), ('For', ' n'), ('I', ' h'), ('And', ' s'), ('Weena', ''), ('I', ' s'), ('The', ''), ('Land', ' o'), ('Leal', ''), ('I', '\\nc'), ('In', ' p'), ('For', ''), ('I', ' a'), ('Now', ''), ('I', ' s'), ('Yet', ''), ('I', ' f'), ('I', ' f'), ('I', ' s'), ('I', ' f'), ('But', '\\nt'), ('In', ' t'), ('It', ' r'), ('I', ' h'), ('Belemnite', ' t'), ('I', ' w'), ('I', ' r'), ('I', ' p'), ('I', ' f'), ('As', ' y'), ('I', '\\nh'), ('Nevertheless', ''), ('I', ' l'), ('I', ' c'), ('It', ' w'), ('I', ' r'), ('I', ' h'), ('I', '\\nc'), ('There', ' w'), ('The', '\\nm'), ('But', ' a'), ('One', ' c'), ('I', ' s'), ('I', ' t'), ('In', ' a'), ('Polynesian', ''), ('Mexican', ''), ('Grecian', ''), ('Ph', ''), ('I', ' s'), ('And', ' h'), ('I', ' w'), ('South', ''), ('America', ' t'), ('As', ' t'), ('I', ' w'), ('In', ' o'), ('I', '\\ns'), ('I', ' d'), ('I', ' s'), ('Eureka', ''), ('Then', '\\nc'), ('I', ' h'), ('Then', ''), ('I', '\\nm'), ('I', ' n'), ('I', ' d'), ('Of', ' c'), ('I', ' m'), ('I', '\\nr'), ('I', ' s'), ('Sphinx', ''), ('Time', ''), ('Machine', ''), ('It', ' w'), ('I', ' t'), ('It', ' w'), ('So', ' w'), ('Towards', ' s'), ('I', ' b'), ('Night', ' w'), ('But', ' t'), ('I', ' h'), ('Morlocks', ''), ('I', ' h'), ('I', ' h'), ('It', ' s'), ('In', ' t'), ('Time', ''), ('Machine', ''), ('Towards', ' t'), ('I', ' h'), ('But', ' n'), ('I', '\\nf'), ('Up', ' t'), ('I', ' h'), ('They', ' h'), ('I', '\\nh'), ('X', ''), ('I', ''), ('I', ''), ('In', ' t'), ('Darkness', ''), ('We', ' e'), ('Palace', ' w'), ('I', ' w'), ('White', ''), ('Sphinx', ' e'), ('I', ' p'), ('My', ' p'), ('Accordingly', ''), ('I', ' g'), ('I', ' s'), ('Thus', ' l'), ('I', ' h'), ('Weena', ' w'), ('And', ''), ('I', ''), ('Upon', ' t'), ('Weena', ' w'), ('I', ' h'), ('I', ' w'), ('I', ' f'), ('Morlocks', ' w'), ('While', ' w'), ('I', ' s'), ('There', ' w'), ('I', ' d'), ('The', ' f'), ('I', ' c'), ('If', ' w'), ('I', ' t'), ('I', ' c'), ('Yet', ' i'), ('I', ' w'), ('I', ' s'), ('I', ' p'), ('And', ' t'), ('I', ' w'), ('I', ' w'), ('I', ' d'), ('The', ' s'), ('Lightning', ' m'), ('Decaying', '\\nv'), ('In', ' t'), ('The', ' r'), ('Weena', ''), ('She', ' w'), ('I', ' b'), ('I', ' n'), ('But', ''), ('I', ' c'), ('For', ' l'), ('Looking', ' b'), ('I', ' c'), ('I', ' l'), ('It', ' w'), ('Weena', ' c'), ('Overhead', ' i'), ('I', ' l'), ('I', ' h'), ('Upon', ' m'), ('I', ' c'), ('I', ' h'), ('For', ' s'), ('I', ' h'), ('Then', ''), ('I', ' s'), ('I', ' p'), ('The', ' p'), ('I', ' c'), ('I', ' h'), ('Underworld', ''), ('There', ' w'), ('Morlocks', ''), ('Indeed', ''), ('I', ' f'), ('And', ''), ('Weena', ' s'), ('It', ' w'), ('But', ' t'), ('I', ' m'), ('I', ' d'), ('I', ' f'), ('Morlocks', ''), ('Soft', ' l'), ('Then', ' t'), ('I', ' h'), ('Morlocks', '\\ni'), ('I', ' h'), ('Then', ''), ('I', ' l'), ('Weena', ''), ('She', ' w'), ('With', ' s'), ('I', ' s'), ('She', ' s'), ('I', ' l'), ('Morlocks', ' a'), ('I', ' k'), ('The', ' w'), ('She', ' s'), ('I', ' p'), ('In', '\\nm'), ('Weena', ''), ('I', ' h'), ('I', ' h'), ('For', ' a'), ('I', ' k'), ('I', ' m'), ('Palace', ' o'), ('Green', ''), ('Porcelain', ''), ('I', ' f'), ('I', ' h'), ('I', ' d'), ('I', '\\np'), ('Weena', ''), ('I', ' b'), ('Here', ' a'), ('Morlocks', ''), ('The', ' c'), ('I', ' l'), ('I', ' d'), ('Weena', ' d'), ('One', ' w'), ('I', '\\nf'), ('He', ' g'), ('I', ' l'), ('Presently', ''), ('I', ' n'), ('Time', ''), ('Machine', ''), ('So', ''), ('I', ' b'), ('Very', ' s'), ('I', ' h'), ('Then', ''), ('I', ' t'), ('Weena', ' l'), ('I', ' t'), ('I', ' c'), ('I', ' c'), ('Now', ''), ('Moreover', ''), ('My', ' f'), ('I', ' f'), ('The', ' w'), ('I', ' d'), ('I', ' s'), ('But', ' a'), ('Morlocks', ' h'), ('Flinging', ' o'), ('I', ' h'), ('Then', ' t'), ('In', ' m'), ('I', ' k'), ('I', ' h'), ('The', ' f'), ('I', ' w'), ('It', ' w'), ('I', ' f'), ('I', ' w'), ('I', ' w'), ('I', ' f'), ('I', ' r'), ('I', '\\nd'), ('It', ' g'), ('I', '\\ns'), ('I', ' t'), ('I', ' j'), ('I', ' c'), ('I', '\\nw'), ('The', ' s'), ('I', ' k'), ('I', ' a'), ('Weena', ' w'), ('I', ' d'), ('Morlocks', ' p'), ('I', ' s'), ('The', ' w'), ('A', ' m'), ('Their', ' v'), ('Yet', ' n'), ('I', ' s'), ('Then', ' s'), ('What', ' i'), ('Morlocks', ' w'), ('And', ' c'), ('The', ' d'), ('Very', ' d'), ('I', ' b'), ('Morlocks', ' a'), ('I', ' r'), ('And', ' t'), ('As', ''), ('I', ' s'), ('I', ' s'), ('And', ' a'), ('I', ' u'), ('Morlocks', ''), ('Stepping', ' o'), ('I', ' s'), ('It', '\\nw'), ('With', ' t'), ('I', ' l'), ('Weena', ''), ('The', ' h'), ('My', ' i'), ('I', ' f'), ('Morlocks', ''), ('It', ' w'), ('Once', ' t'), ('I', '\\nr'), ('I', ' w'), ('But', ' a'), ('I', ' e'), ('I', ' d'), ('Morlock', ' c'), ('And', ' n'), ('I', ' w'), ('I', ' t'), ('I', ' b'), ('This', ' w'), ('In', ' t'), ('Beyond', ' t'), ('Upon', ' t'), ('Morlocks', ''), ('At', ' f'), ('I', ' d'), ('But', ' w'), ('I', ' h'), ('I', ' w'), ('I', ' s'), ('Yet', ' e'), ('At', ' o'), ('I', ' f'), ('I', ' w'), ('I', ' s'), ('I', ' w'), ('Weena', ''), ('But', ''), ('Weena', ' w'), ('At', ' l'), ('I', ' s'), ('The', ' c'), ('Two', ' o'), ('Morlocks', ' c'), ('I', ' d'), ('I', ' d'), ('For', ' t'), ('I', ' w'), ('I', '\\nb'), ('I', ' b'), ('Then', ''), ('I', ' w'), ('God', ' t'), ('Thrice', ''), ('I', ' s'), ('Morlocks', ' p'), ('But', ''), ('I', ' s'), ('Weena', ''), ('It', ' w'), ('I', ' c'), ('As', ''), ('I', ' t'), ('I', ' w'), ('I', '\\nc'), ('The', ' h'), ('I', ' h'), ('From', ' i'), ('I', ' c'), ('Palace', ' o'), ('Green', ''), ('Porcelain', ''), ('I', ' c'), ('White', ''), ('Sphinx', ''), ('And', ' s'), ('I', ' t'), ('Time', ''), ('Machine', ''), ('I', ' w'), ('I', ' w'), ('I', ' f'), ('Weena', ''), ('It', ' s'), ('Now', ''), ('But', ' t'), ('I', ' b'), ('But', ''), ('I', ' w'), ('I', ' m'), ('In', ' m'), ('The', ' b'), ('X', ''), ('I', ''), ('I', ''), ('I', ''), ('The', ''), ('Trap', ' o'), ('White', ''), ('Sphinx', ''), ('About', ' e'), ('I', ' c'), ('I', ' h'), ('I', ' t'), ('Here', ' w'), ('The', ' g'), ('Some', ' w'), ('I', '\\nh'), ('Weena', ''), ('And', '\\nl'), ('Underworld', ''), ('I', ' u'), ('Overworld', '\\np'), ('Very', ' p'), ('Like', ' t'), ('And', ' t'), ('I', ' g'), ('It', ' h'), ('It', ' h'), ('Once', ''), ('The', ' r'), ('No', ' d'), ('And', ' g'), ('It', ' i'), ('An', ' a'), ('Nature', ' n'), ('There', ' i'), ('Only', '\\nt'), ('So', ''), ('I', ' s'), ('Upperworld', ' m'), ('Underworld', ' t'), ('But', ' t'), ('Apparently', ' a'), ('Underworld', ''), ('Mother', ''), ('Necessity', ''), ('The', ''), ('Underworld', ' b'), ('Upper', ''), ('And', ' w'), ('So', ''), ('I', ' s'), ('I', ' s'), ('Eight', ''), ('Hundred', ' a'), ('Two', ''), ('Thousand', ''), ('Seven', ''), ('Hundred', ' a'), ('One', ''), ('It', ' m'), ('It', ' i'), ('I', ' g'), ('After', ' t'), ('I', ' w'), ('Catching', ' m'), ('I', ' t'), ('I', ' h'), ('I', ' a'), ('I', ' n'), ('Morlocks', ''), ('I', ' c'), ('White', ''), ('Sphinx', ''), ('I', ' h'), ('And', ' n'), ('As', ''), ('I', ' a'), ('I', ' f'), ('They', ' h'), ('At', ' t'), ('I', ' s'), ('Within', ' w'), ('Time', ''), ('Machine', ''), ('I', ' h'), ('So', '\\nh'), ('White', ''), ('Sphinx', ''), ('I', ' t'), ('A', ' s'), ('I', ' s'), ('For', ' o'), ('I', ' g'), ('Morlocks', ''), ('Suppressing', ' s'), ('I', ' s'), ('Time', ''), ('Machine', ''), ('I', ' w'), ('I', ' h'), ('Morlocks', '\\nh'), ('Now', ' a'), ('I', ' s'), ('I', ' h'), ('The', ' b'), ('I', ' w'), ('So', ' t'), ('Morlocks', ' t'), ('At', ' t'), ('I', ' c'), ('I', ' c'), ('Very', ' c'), ('I', ' t'), ('I', ' h'), ('But', ''), ('I', ' h'), ('The', ' m'), ('You', ' m'), ('The', ' l'), ('One', ' t'), ('I', ' m'), ('Then', ' c'), ('Then', ''), ('I', ' h'), ('One', ''), ('As', ' i'), ('I', ' h'), ('I', ' c'), ('Morlock', ''), ('It', '\\nw'), ('I', ' t'), ('But', ' a'), ('The', ' c'), ('The', ' d'), ('I', ' f'), ('I', ' h'), ('X', ''), ('I', ''), ('V', ''), ('The', ''), ('Further', ''), ('Vision', ''), ('I', ' h'), ('And', ' t'), ('I', ' w'), ('For', ' a'), ('I', ' c'), ('I', ' w'), ('I', ' b'), ('I', ' w'), ('I', ' h'), ('One', ' d'), ('Now', ''), ('I', ' h'), ('I', ' c'), ('I', '\\nf'), ('As', ''), ('I', ' d'), ('The', ' p'), ('I', ' w'), ('This', ' p'), ('The', '\\na'), ('At', ' l'), ('The', ' b'), ('All', ' t'), ('The', ' c'), ('At', ' l'), ('I', '\\ns'), ('At', ' o'), ('I', ' p'), ('The', ' e'), ('Very', ' c'), ('I', ' r'), ('I', '\\nb'), ('Slower', ' a'), ('Still', ' s'), ('I', ' s'), ('Time', ''), ('Machine', ''), ('The', ' s'), ('North', ''), ('Overhead', ' i'), ('Indian', ' r'), ('The', ' r'), ('I', ' c'), ('It', ' w'), ('The', ' m'), ('The', ' s'), ('There', ' w'), ('Only', ' s'), ('And', ' a'), ('There', ' w'), ('I', ' n'), ('I', ' w'), ('The', ' s'), ('I', ' j'), ('Far', ' a'), ('I', ' h'), ('The', ' s'), ('I', ' s'), ('Looking', ' r'), ('I', ' s'), ('I', ' h'), ('Then', ''), ('I', ' s'), ('Can', ' y'), ('Its', ' b'), ('I', ' c'), ('As', ''), ('I', ' s'), ('I', ' f'), ('I', ' t'), ('I', ' s'), ('It', ' w'), ('With', '\\nf'), ('I', ' t'), ('I', ' s'), ('I', ' h'), ('Its', ' e'), ('In', ' m'), ('I', ' h'), ('But', ''), ('I', ' w'), ('I', ' s'), ('I', ' s'), ('Dozens', ' o'), ('I', ' c'), ('The', ' r'), ('Dead', ''), ('Sea', ''), ('I', ' m'), ('And', ' i'), ('I', ' s'), ('So', ''), ('I', ' t'), ('At', ' l'), ('Then', ''), ('I', '\\ns'), ('And', ' n'), ('A', ' b'), ('Rare', ' w'), ('To', ' t'), ('I', ' c'), ('There', ' w'), ('I', ' l'), ('A', '\\nc'), ('But', ''), ('I', ' s'), ('The', ' g'), ('A', ' s'), ('I', ' f'), ('I', ' s'), ('I', ' l'), ('I', ' j'), ('The', '\\ns'), ('Suddenly', ''), ('I', ' n'), ('I', ' s'), ('For', ' m'), ('I', ' s'), ('I', ' r'), ('Either', ' t'), ('Mercury', ' w'), ('Naturally', ''), ('I', ' t'), ('I', ' r'), ('The', ' d'), ('From', ' t'), ('Beyond', '\\nt'), ('Silent', ''), ('It', ' w'), ('All', ' t'), ('As', ' t'), ('At', ' l'), ('The', ' b'), ('I', ' s'), ('In', ' a'), ('All', ' e'), ('The', ' s'), ('A', ' h'), ('The', ' c'), ('I', ' f'), ('I', ' s'), ('Then', ' l'), ('I', ' g'), ('I', ' f'), ('As', ''), ('I', ' s'), ('I', ' s'), ('It', ' w'), ('Then', ''), ('I', ' f'), ('I', ' w'), ('But', ' t'), ('I', ' c'), ('X', ''), ('V', ''), ('The', ''), ('Time', ''), ('Traveller', ''), ('Return', ''), ('So', ''), ('I', ' c'), ('For', ' l'), ('I', ' m'), ('The', ' b'), ('I', ' b'), ('The', ' f'), ('The', '\\nh'), ('At', ' l'), ('I', ' s'), ('These', ''), ('Presently', ''), ('I', ' s'), ('I', ' b'), ('Then', ' t'), ('Very', ' g'), ('I', ' s'), ('I', ' s'), ('I', ' t'), ('I', ' h'), ('I', ' s'), ('Mrs', ''), ('Watchett', '\\nh'), ('As', ''), ('I', ' r'), ('I', ' p'), ('But', ' n'), ('The', ' d'), ('Just', '\\nb'), ('I', ' s'), ('Hillyer', ' f'), ('Then', ''), ('I', ' s'), ('I', ' h'), ('I', ' g'), ('For', ' s'), ('I', ' t'), ('Then', ''), ('I', ' b'), ('Around', ' m'), ('I', ' m'), ('And', ' y'), ('The', ' t'), ('It', ' h'), ('That', ' g'), ('White', ''), ('Sphinx', ''), ('Morlocks', ' h'), ('For', ' t'), ('Presently', ''), ('I', ' g'), ('I', ' s'), ('Pall', ''), ('Mall', ''), ('Gazette', ''), ('I', ' f'), ('I', ' h'), ('I', ' h'), ('I', ' f'), ('Then', ''), ('I', '\\ns'), ('You', ' k'), ('I', ' w'), ('I', ' a'), ('X', ''), ('V', ''), ('I', ''), ('After', ' t'), ('Story', ''), ('I', ' k'), ('I', ' a'), ('He', ' l'), ('Medical', ''), ('Man', ''), ('No', ''), ('I', ' c'), ('Take', ' i'), ('Say', ''), ('I', ' d'), ('Consider', ''), ('I', ' h'), ('I', ' h'), ('Treat', ' m'), ('And', ' t'), ('He', ' t'), ('There', ' w'), ('Then', ' c'), ('I', ' t'), ('Time', ''), ('Traveller', ''), ('They', ' w'), ('The', ''), ('Medical', ''), ('Man', ' s'), ('The', ''), ('Editor', ' w'), ('The', ''), ('Journalist', ' f'), ('The', ' o'), ('I', '\\nr'), ('The', ''), ('Editor', ' s'), ('What', ' p'), ('Time', ''), ('Traveller', ''), ('You', ' d'), ('Well', ''), ('I', ' t'), ('The', ''), ('Time', ''), ('Traveller', ' t'), ('Where', ' a'), ('He', '\\nl'), ('To', ' t'), ('I', '\\nh'), ('And', ' y'), ('His', ' e'), ('Then', ' h'), ('I', '\\ns'), ('The', ''), ('Medical', ''), ('Man', ' r'), ('The', '\\ng'), ('The', ''), ('Psychologist', ' l'), ('I', ''), ('Journalist', ''), ('How', '\\ns'), ('Plenty', ' o'), ('Psychologist', ''), ('It', ''), ('Medical', ''), ('Man', ''), ('I', ' c'), ('May', ''), ('I', ' h'), ('The', ''), ('Time', ''), ('Traveller', ' h'), ('Then', ' s'), ('Certainly', ' n'), ('Where', ' d'), ('Medical', ''), ('Man', ''), ('The', ''), ('Time', ''), ('Traveller', ' p'), ('He', ' s'), ('They', ' w'), ('Weena', ''), ('I', ' t'), ('Time', ''), ('He', ' s'), ('I', ''), ('This', ' r'), ('Did', ''), ('I', ' e'), ('Time', ''), ('Machine', ''), ('Time', ''), ('Machine', ''), ('Or', ' i'), ('They', ' s'), ('I', ' c'), ('It', ''), ('And', ' w'), ('I', '\\nm'), ('If', ' t'), ('He', ' c'), ('We', ' f'), ('There', ' i'), ('Solid', '\\nt'), ('I', ' p'), ('The', ''), ('Time', ''), ('Traveller', ' p'), ('It', ''), ('The', ' s'), ('I', '\\nt'), ('I', ''), ('He', ' t'), ('He', ' c'), ('Editor', ' o'), ('The', ''), ('Medical', ''), ('Man', ' l'), ('I', '\\nr'), ('I', ' s'), ('Editor', ''), ('He', ' t'), ('For', '\\nm'), ('I', ' w'), ('The', ' s'), ('I', ' l'), ('I', ' d'), ('Time', ''), ('Traveller', ' a'), ('I', ' w'), ('I', ' w'), ('The', ' l'), ('I', ' s'), ('Time', ''), ('Machine', ' a'), ('At', ' t'), ('Its', '\\ni'), ('I', ' h'), ('I', ' u'), ('I', ' c'), ('The', ''), ('Time', ''), ('Traveller', ' m'), ('He', '\\nw'), ('He', ' h'), ('He', ' l'), ('I', ''), ('But', ' i'), ('I', ' s'), ('Do', ' y'), ('Really', ' a'), ('I', ' d'), ('And', ' h'), ('He', '\\nh'), ('His', ' e'), ('I', ' o'), ('I', ' k'), ('There', ''), ('If', ' y'), ('I', ''), ('If', ' y'), ('I', ' c'), ('I', ' h'), ('What', ' w'), ('Then', ' s'), ('I', ' w'), ('I', ' h'), ('Richardson', ''), ('I', ' l'), ('I', ' c'), ('I', ' g'), ('Time', ''), ('Traveller', ''), ('As', ''), ('I', ' t'), ('I', ' h'), ('A', ' g'), ('I', ' o'), ('The', ''), ('Time', ''), ('Traveller', ' w'), ('I', ' s'), ('I', ' r'), ('The', ''), ('Time', ''), ('Machine', ' h'), ('Save', ' f'), ('A', '\\np'), ('I', ' f'), ('I', ' k'), ('As', ''), ('I', ' s'), ('We', ' l'), ('Then', ' i'), ('Has', ''), ('Mr', ''), ('I', ''), ('No', ''), ('No', ' o'), ('I', ' w'), ('At', ' t'), ('I', ' u'), ('At', ' t'), ('Richardson', ''), ('I', ' s'), ('Time', ''), ('Traveller', ''), ('But', ''), ('I', ' a'), ('I', ' m'), ('The', ''), ('Time', ''), ('Traveller', ' v'), ('And', ''), ('Epilogue', ''), ('One', ' c'), ('Will', ' h'), ('It', ' m'), ('Age', ' o'), ('Unpolished', ''), ('Stone', ''), ('Cretaceous', ''), ('Sea', ''), ('Jurassic', ' t'), ('He', ' m'), ('I', ' m'), ('Oolitic', ' c'), ('Triassic', ''), ('Age', ''), ('Or', ' d'), ('Into', ' t'), ('I', ''), ('I', ' s'), ('He', ''), ('I', ' k'), ('Time', ''), ('Machine', ' w'), ('Advancement', ' o'), ('Mankind', ''), ('If', ' t'), ('But', ' t'), ('And', ''), ('I', ' h'), ('E', ''), ('N', ''), ('D', ''), ('O', ''), ('F', ''), ('T', ''), ('H', ''), ('E', ''), ('P', ''), ('R', ''), ('O', ''), ('J', ''), ('E', ''), ('C', ''), ('T', ''), ('G', ''), ('U', ''), ('T', ''), ('E', ''), ('N', ''), ('B', ''), ('E', ''), ('R', ''), ('G', ''), ('E', ''), ('B', ''), ('O', ''), ('O', ''), ('K', ''), ('T', ''), ('H', ''), ('E', ''), ('T', ''), ('I', ''), ('M', ''), ('E', ''), ('M', ''), ('A', ''), ('C', ''), ('H', ''), ('I', ''), ('N', ''), ('E', ''), ('This', ' f'), ('This', ' a'), ('Updated', ' e'), ('Creating', ' t'), ('U', ''), ('S', ''), ('United', ''), ('States', ' c'), ('Foundation', ''), ('United', ''), ('States', ' w'), ('Special', ' r'), ('General', ''), ('Terms', ' o'), ('Use', ' p'), ('Project', ''), ('Gutenberg', ''), ('P', ''), ('R', ''), ('O', ''), ('J', ''), ('E', ''), ('C', ''), ('T', ''), ('G', ''), ('U', ''), ('T', ''), ('E', ''), ('N', ''), ('B', ''), ('E', ''), ('R', ''), ('G', ''), ('Project', ''), ('Gutenberg', ' i'), ('Book', ''), ('Project', ''), ('Gutenberg', ' t'), ('If', ' y'), ('Book', ''), ('You', ' m'), ('Book', ' f'), ('Project', ''), ('Gutenberg', ' e'), ('Books', ' m'), ('A', ''), ('N', ''), ('Y', ''), ('T', ''), ('H', ''), ('I', ''), ('N', ''), ('G', ' i'), ('United', ''), ('States', ' w'), ('Books', ' n'), ('U', ''), ('S', ''), ('Redistribution', ' i'), ('S', ''), ('T', ''), ('A', ''), ('R', ''), ('T', ''), ('F', ''), ('U', ''), ('L', ''), ('L', ''), ('L', ''), ('I', ''), ('C', ''), ('E', ''), ('N', ''), ('S', ''), ('E', ''), ('T', ''), ('H', ''), ('E', ''), ('F', ''), ('U', ''), ('L', ''), ('L', ''), ('P', ''), ('R', ''), ('O', ''), ('J', ''), ('E', ''), ('C', ''), ('T', ''), ('G', ''), ('U', ''), ('T', ''), ('E', ''), ('N', ''), ('B', ''), ('E', ''), ('R', ''), ('G', ''), ('L', ''), ('I', ''), ('C', ''), ('E', ''), ('N', ''), ('S', ''), ('E', ''), ('P', ''), ('L', ''), ('E', ''), ('A', ''), ('S', ''), ('E', ''), ('R', ''), ('E', ''), ('A', ''), ('D', ''), ('T', ''), ('H', ''), ('I', ''), ('S', ''), ('B', ''), ('E', ''), ('F', ''), ('O', ''), ('R', ''), ('E', ''), ('Y', ''), ('O', ''), ('U', ''), ('D', ''), ('I', ''), ('S', ''), ('T', ''), ('R', ''), ('I', ''), ('B', ''), ('U', ''), ('T', ''), ('E', ''), ('O', ''), ('R', ''), ('U', ''), ('S', ''), ('E', ''), ('T', ''), ('H', ''), ('I', ''), ('S', ''), ('W', ''), ('O', ''), ('R', ''), ('K', ''), ('To', ' p'), ('Project', ''), ('Gutenberg', ''), ('Project', ''), ('Gutenberg', ''), ('Full', ''), ('Project', ''), ('Gutenberg', ''), ('License', ' a'), ('Section', ''), ('General', ''), ('Terms', ' o'), ('Use', ' a'), ('Redistributing', ''), ('Project', ''), ('Gutenberg', ''), ('A', ''), ('By', ' r'), ('Project', ''), ('Gutenberg', ''), ('If', ' y'), ('Project', ''), ('Gutenberg', ''), ('If', ' y'), ('Project', ''), ('Gutenberg', ''), ('E', ''), ('B', ''), ('Project', ''), ('Gutenberg', ''), ('It', ' m'), ('There', ' a'), ('Project', ''), ('Gutenberg', ''), ('See', '\\np'), ('C', ' b'), ('There', ' a'), ('Project', ''), ('Gutenberg', ''), ('Project', ''), ('Gutenberg', ''), ('See', ' p'), ('E', ' b'), ('C', ''), ('The', ''), ('Project', ''), ('Gutenberg', ''), ('Literary', ''), ('Archive', ''), ('Foundation', ''), ('Foundation', ''), ('P', ''), ('G', ''), ('L', ''), ('A', ''), ('F', ''), ('Project', ''), ('Gutenberg', ''), ('Nearly', ' a'), ('United', ''), ('States', ''), ('If', ' a'), ('United', ''), ('States', ' a'), ('United', ''), ('States', ''), ('Project', ''), ('Gutenberg', ' a'), ('Of', ' c'), ('Project', ''), ('Gutenberg', ''), ('Project', ''), ('Gutenberg', ''), ('Project', ''), ('Gutenberg', ''), ('You', ' c'), ('Project', ''), ('Gutenberg', ''), ('License', ' w'), ('D', ''), ('The', ' c'), ('Copyright', ' l'), ('If', ' y'), ('United', ''), ('States', ''), ('Project', ''), ('Gutenberg', ''), ('The', ''), ('Foundation', ' m'), ('United', ''), ('States', ''), ('E', ''), ('Unless', ' y'), ('Project', ''), ('Gutenberg', ''), ('E', ''), ('The', ' f'), ('Project', ''), ('Gutenberg', ''), ('License', ' m'), ('Project', ''), ('Gutenberg', ''), ('Project', ''), ('Gutenberg', ''), ('Project', ''), ('Gutenberg', ''), ('This', ' e'), ('Book', ' i'), ('United', ''), ('States', ' a'), ('You', ' m'), ('Project', ''), ('Gutenberg', ''), ('License', ' i'), ('Book', ' o'), ('If', ' y'), ('United', ''), ('States', ''), ('Book', ''), ('E', ''), ('If', ' a'), ('Project', ''), ('Gutenberg', ''), ('U', ''), ('S', ''), ('United', ''), ('States', ' w'), ('If', ' y'), ('Project', ''), ('Gutenberg', ''), ('E', ''), ('E', ''), ('Project', ''), ('Gutenberg', ''), ('E', ''), ('E', ''), ('E', ''), ('If', ' a'), ('Project', ''), ('Gutenberg', ''), ('E', ''), ('E', ''), ('Additional', ' t'), ('Project', ''), ('Gutenberg', ''), ('License', ' f'), ('E', ''), ('Do', ' n'), ('Project', ''), ('Gutenberg', ''), ('License', ' t'), ('Project', ''), ('Gutenberg', ''), ('E', ''), ('Do', ' n'), ('E', ''), ('Project', ''), ('Gutenberg', ''), ('License', ''), ('E', ''), ('You', ' m'), ('However', ''), ('Project', ''), ('Gutenberg', ''), ('Plain', ''), ('Vanilla', ''), ('A', ''), ('S', ''), ('C', ''), ('I', ''), ('I', ''), ('Project', ''), ('Gutenberg', ''), ('Plain', ''), ('Vanilla', ''), ('A', ''), ('S', ''), ('C', ''), ('I', ''), ('I', ''), ('Any', ' a'), ('Project', ''), ('Gutenberg', ''), ('License', ' a'), ('E', ''), ('E', ''), ('Do', ' n'), ('Project', ''), ('Gutenberg', ''), ('E', ''), ('E', ''), ('E', ''), ('You', ' m'), ('Project', ''), ('Gutenberg', ''), ('You', ' p'), ('Project', ''), ('Gutenberg', ''), ('The', ' f'), ('Project', ''), ('Gutenberg', ''), ('Project', ''), ('Gutenberg', ''), ('Literary', ''), ('Archive', ''), ('Foundation', ''), ('Royalty', ' p'), ('Royalty', ''), ('Project', ''), ('Gutenberg', ''), ('Literary', ''), ('Archive', ''), ('Foundation', ' a'), ('Section', ''), ('Information', ' a'), ('Project', ''), ('Gutenberg', ''), ('Literary', ''), ('Archive', ''), ('Foundation', ''), ('You', ' p'), ('Project', ''), ('Gutenberg', ''), ('License', ''), ('You', ' m'), ('Project', ''), ('Gutenberg', ''), ('You', ' p'), ('F', ''), ('You', ' c'), ('Project', ''), ('Gutenberg', ''), ('E', ''), ('If', ' y'), ('Project', ''), ('Gutenberg', ''), ('Project', ''), ('Gutenberg', ''), ('Literary', ''), ('Archive', ''), ('Foundation', ''), ('Project', ''), ('Gutenberg', ''), ('Contact', ' t'), ('Foundation', ' a'), ('Section', ''), ('F', ''), ('F', ''), ('Project', ''), ('Gutenberg', ' v'), ('U', ''), ('S', ''), ('Project', ''), ('Gutenberg', ''), ('Despite', ' t'), ('Project', ''), ('Gutenberg', ''), ('Defects', ''), ('F', ''), ('L', ''), ('I', ''), ('M', ''), ('I', ''), ('T', ''), ('E', ''), ('D', ''), ('W', ''), ('A', ''), ('R', ''), ('R', ''), ('A', ''), ('N', ''), ('T', ''), ('Y', ''), ('D', ''), ('I', ''), ('S', ''), ('C', ''), ('L', ''), ('A', ''), ('I', ''), ('M', ''), ('E', ''), ('R', ''), ('O', ''), ('F', ''), ('D', ''), ('A', ''), ('M', ''), ('A', ''), ('G', ''), ('E', ''), ('S', ''), ('Except', ' f'), ('Right', '\\no'), ('Replacement', ' o'), ('Refund', ''), ('F', ''), ('Project', ''), ('Gutenberg', ''), ('Literary', ''), ('Archive', ''), ('Foundation', ''), ('Project', ''), ('Gutenberg', ''), ('Project', ''), ('Gutenberg', ''), ('Y', ''), ('O', ''), ('U', ''), ('A', ''), ('G', ''), ('R', ''), ('E', ''), ('E', ''), ('T', ''), ('H', ''), ('A', ''), ('T', ''), ('Y', ''), ('O', ''), ('U', ''), ('H', ''), ('A', ''), ('V', ''), ('E', ''), ('N', ''), ('O', ''), ('R', ''), ('E', ''), ('M', ''), ('E', ''), ('D', ''), ('I', ''), ('E', ''), ('S', ''), ('F', ''), ('O', ''), ('R', ''), ('N', ''), ('E', ''), ('G', ''), ('L', ''), ('I', ''), ('G', ''), ('E', ''), ('N', ''), ('C', ''), ('E', ''), ('S', ''), ('T', ''), ('R', ''), ('I', ''), ('C', ''), ('T', ''), ('L', ''), ('I', ''), ('A', ''), ('B', ''), ('I', ''), ('L', ''), ('I', ''), ('T', ''), ('Y', ''), ('B', ''), ('R', ''), ('E', ''), ('A', ''), ('C', ''), ('H', ''), ('O', ''), ('F', ''), ('W', ''), ('A', ''), ('R', ''), ('R', ''), ('A', ''), ('N', ''), ('T', ''), ('Y', ''), ('O', ''), ('R', ''), ('B', ''), ('R', ''), ('E', ''), ('A', ''), ('C', ''), ('H', ''), ('O', ''), ('F', ''), ('C', ''), ('O', ''), ('N', ''), ('T', ''), ('R', ''), ('A', ''), ('C', ''), ('T', ''), ('E', ''), ('X', ''), ('C', ''), ('E', ''), ('P', ''), ('T', ''), ('T', ''), ('H', ''), ('O', ''), ('S', ''), ('E', ''), ('P', ''), ('R', ''), ('O', ''), ('V', ''), ('I', ''), ('D', ''), ('E', ''), ('D', ''), ('I', ''), ('N', ''), ('P', ''), ('A', ''), ('R', ''), ('A', ''), ('G', ''), ('R', ''), ('A', ''), ('P', ''), ('H', ''), ('F', ''), ('Y', ''), ('O', ''), ('U', ''), ('A', ''), ('G', ''), ('R', ''), ('E', ''), ('E', ''), ('T', ''), ('H', ''), ('A', ''), ('T', ''), ('T', ''), ('H', ''), ('E', ''), ('F', ''), ('O', ''), ('U', ''), ('N', ''), ('D', ''), ('A', ''), ('T', ''), ('I', ''), ('O', ''), ('N', ''), ('T', ''), ('H', ''), ('E', ''), ('T', ''), ('R', ''), ('A', ''), ('D', ''), ('E', ''), ('M', ''), ('A', ''), ('R', ''), ('K', ''), ('O', ''), ('W', ''), ('N', ''), ('E', ''), ('R', ''), ('A', ''), ('N', ''), ('D', ''), ('A', ''), ('N', ''), ('Y', ''), ('D', ''), ('I', ''), ('S', ''), ('T', ''), ('R', ''), ('I', ''), ('B', ''), ('U', ''), ('T', ''), ('O', ''), ('R', ''), ('U', ''), ('N', ''), ('D', ''), ('E', ''), ('R', ''), ('T', ''), ('H', ''), ('I', ''), ('S', ''), ('A', ''), ('G', ''), ('R', ''), ('E', ''), ('E', ''), ('M', ''), ('E', ''), ('N', ''), ('T', ''), ('W', ''), ('I', ''), ('L', ''), ('L', ''), ('N', ''), ('O', ''), ('T', ''), ('B', ''), ('E', ''), ('L', ''), ('I', ''), ('A', ''), ('B', ''), ('L', ''), ('E', ''), ('T', ''), ('O', ''), ('Y', ''), ('O', ''), ('U', ''), ('F', ''), ('O', ''), ('R', ''), ('A', ''), ('C', ''), ('T', ''), ('U', ''), ('A', ''), ('L', ''), ('D', ''), ('I', ''), ('R', ''), ('E', ''), ('C', ''), ('T', ''), ('I', ''), ('N', ''), ('D', ''), ('I', ''), ('R', ''), ('E', ''), ('C', ''), ('T', ''), ('C', ''), ('O', ''), ('N', ''), ('S', ''), ('E', ''), ('Q', ''), ('U', ''), ('E', ''), ('N', ''), ('T', ''), ('I', ''), ('A', ''), ('L', ''), ('P', ''), ('U', ''), ('N', ''), ('I', ''), ('T', ''), ('I', ''), ('V', ''), ('E', ''), ('O', ''), ('R', ''), ('I', ''), ('N', ''), ('C', ''), ('I', ''), ('D', ''), ('E', ''), ('N', ''), ('T', ''), ('A', ''), ('L', ''), ('D', ''), ('A', ''), ('M', ''), ('A', ''), ('G', ''), ('E', ''), ('S', ''), ('E', ''), ('V', ''), ('E', ''), ('N', ''), ('I', ''), ('F', ''), ('Y', ''), ('O', ''), ('U', ''), ('G', ''), ('I', ''), ('V', ''), ('E', ''), ('N', ''), ('O', ''), ('T', ''), ('I', ''), ('C', ''), ('E', ''), ('O', ''), ('F', ''), ('T', ''), ('H', ''), ('E', ''), ('P', ''), ('O', ''), ('S', ''), ('S', ''), ('I', ''), ('B', ''), ('I', ''), ('L', ''), ('I', ''), ('T', ''), ('Y', ''), ('O', ''), ('F', ''), ('S', ''), ('U', ''), ('C', ''), ('H', ''), ('D', ''), ('A', ''), ('M', ''), ('A', ''), ('G', ''), ('E', ''), ('F', ''), ('L', ''), ('I', ''), ('M', ''), ('I', ''), ('T', ''), ('E', ''), ('D', ''), ('R', ''), ('I', ''), ('G', ''), ('H', ''), ('T', ''), ('O', ''), ('F', ''), ('R', ''), ('E', ''), ('P', ''), ('L', ''), ('A', ''), ('C', ''), ('E', ''), ('M', ''), ('E', ''), ('N', ''), ('T', ''), ('O', ''), ('R', ''), ('R', ''), ('E', ''), ('F', ''), ('U', ''), ('N', ''), ('D', ''), ('If', ' y'), ('If', ' y'), ('The', ' p'), ('If', ' y'), ('If', '\\nt'), ('F', ''), ('Except', ' f'), ('F', ''), ('A', ''), ('S', ''), ('I', ''), ('S', ''), ('W', ''), ('I', ''), ('T', ''), ('H', ''), ('N', ''), ('O', ''), ('O', ''), ('T', ''), ('H', ''), ('E', ''), ('R', ''), ('W', ''), ('A', ''), ('R', ''), ('R', ''), ('A', ''), ('N', ''), ('T', ''), ('I', ''), ('E', ''), ('S', ''), ('O', ''), ('F', ''), ('A', ''), ('N', ''), ('Y', ''), ('K', ''), ('I', ''), ('N', ''), ('D', ''), ('E', ''), ('X', ''), ('P', ''), ('R', ''), ('E', ''), ('S', ''), ('S', ''), ('O', ''), ('R', ''), ('I', ''), ('M', ''), ('P', ''), ('L', ''), ('I', ''), ('E', ''), ('D', ''), ('I', ''), ('N', ''), ('C', ''), ('L', ''), ('U', ''), ('D', ''), ('I', ''), ('N', ''), ('G', ''), ('B', ''), ('U', ''), ('T', ''), ('N', ''), ('O', ''), ('T', ''), ('L', ''), ('I', ''), ('M', ''), ('I', ''), ('T', ''), ('E', ''), ('D', ''), ('T', ''), ('O', ''), ('W', ''), ('A', ''), ('R', ''), ('R', ''), ('A', ''), ('N', ''), ('T', ''), ('I', ''), ('E', ''), ('S', ''), ('O', ''), ('F', ''), ('M', ''), ('E', ''), ('R', ''), ('C', ''), ('H', ''), ('A', ''), ('N', ''), ('T', ''), ('A', ''), ('B', ''), ('I', ''), ('L', ''), ('I', ''), ('T', ''), ('Y', ''), ('O', ''), ('R', ''), ('F', ''), ('I', ''), ('T', ''), ('N', ''), ('E', ''), ('S', ''), ('S', ''), ('F', ''), ('O', ''), ('R', ''), ('A', ''), ('N', ''), ('Y', ''), ('P', ''), ('U', ''), ('R', ''), ('P', ''), ('O', ''), ('S', ''), ('E', ''), ('F', ''), ('Some', ' s'), ('If', ' a'), ('The', ' i'), ('F', ''), ('I', ''), ('N', ''), ('D', ''), ('E', ''), ('M', ''), ('N', ''), ('I', ''), ('T', ''), ('Y', ''), ('You', ' a'), ('Foundation', ''), ('Foundation', ''), ('Project', ''), ('Gutenberg', ''), ('Project', ''), ('Gutenberg', ''), ('Project', ''), ('Gutenberg', ''), ('Project', ''), ('Gutenberg', ''), ('Defect', ' y'), ('Section', ''), ('Information', ' a'), ('Mission', ' o'), ('Project', ''), ('Gutenberg', ''), ('Project', ''), ('Gutenberg', ''), ('It', '\\ne'), ('Volunteers', ' a'), ('Project', ''), ('Gutenberg', ''), ('Project', ''), ('Gutenberg', ''), ('In', ''), ('Project', ''), ('Gutenberg', ''), ('Literary', ''), ('Archive', ''), ('Foundation', ' w'), ('Project', ''), ('Gutenberg', ''), ('To', ' l'), ('Project', ''), ('Gutenberg', ''), ('Literary', ''), ('Archive', ''), ('Foundation', ' a'), ('Sections', ''), ('Foundation', ' i'), ('Section', ''), ('Information', ' a'), ('Project', ''), ('Gutenberg', ''), ('Literary', ''), ('Archive', ''), ('Foundation', ''), ('The', ''), ('Project', ''), ('Gutenberg', ''), ('Literary', ''), ('Archive', ''), ('Foundation', ' i'), ('Mississippi', ' a'), ('Internal', ''), ('Revenue', ''), ('Service', ''), ('The', ''), ('Foundation', ''), ('E', ''), ('I', ''), ('N', ' o'), ('Contributions', ' t'), ('Project', ''), ('Gutenberg', ''), ('Literary', ''), ('Archive', ''), ('Foundation', ' a'), ('U', ''), ('S', ''), ('The', ''), ('Foundation', ''), ('North', ''), ('West', ''), ('Salt', ''), ('Lake', ''), ('City', ''), ('U', ''), ('T', ''), ('Email', ' c'), ('Foundation', ''), ('Section', ''), ('Information', ' a'), ('Donations', ' t'), ('Project', ''), ('Gutenberg', ''), ('Literary', ''), ('Archive', ''), ('Foundation', ''), ('Project', ''), ('Gutenberg', ''), ('Many', ' s'), ('I', ''), ('R', ''), ('S', ''), ('The', ''), ('Foundation', ' i'), ('United', ''), ('States', ''), ('Compliance', ' r'), ('We', ' d'), ('To', ''), ('S', ''), ('E', ''), ('N', ''), ('D', ''), ('D', ''), ('O', ''), ('N', ''), ('A', ''), ('T', ''), ('I', ''), ('O', ''), ('N', ''), ('S', ' o'), ('While', ' w'), ('International', ' d'), ('United', ''), ('States', ''), ('U', ''), ('S', ''), ('Please', ' c'), ('Project', ''), ('Gutenberg', ' w'), ('Donations', ' a'), ('To', '\\nd'), ('Section', ''), ('General', ''), ('Information', ''), ('About', ''), ('Project', ''), ('Gutenberg', ''), ('Professor', ''), ('Michael', ''), ('S', ''), ('Hart', ' w'), ('Project', ''), ('Gutenberg', ''), ('For', ' f'), ('Project', ''), ('Gutenberg', ''), ('Books', ' w'), ('Project', ''), ('Gutenberg', ''), ('Books', ' a'), ('U', ''), ('S', ''), ('Thus', ''), ('Books', ' i'), ('Most', ' p'), ('P', ''), ('G', ' s'), ('This', ' w'), ('Project', ''), ('Gutenberg', ''), ('Project', ''), ('Gutenberg', ''), ('Literary', ''), ('Archive', ''), ('Foundation', ''), ('Books', ''), ('Books', '')]\n",
      "5022\n"
     ]
    }
   ],
   "source": [
    "import re\n",
    "\n",
    "pattern = re.compile(r'([A-Z][a-z]*)([\\s][a-z])*')\n",
    "with open(\"time_machine.txt\", 'r') as fh:\n",
    "    content = fh.read()\n",
    "    sentences = pattern.findall(content)\n",
    "    print(sentences)\n",
    "    print(len(sentences))\n",
    "    \n",
    "    "
   ]
  },
  {
   "cell_type": "code",
   "execution_count": null,
   "id": "eb423cbd",
   "metadata": {},
   "outputs": [],
   "source": []
  },
  {
   "cell_type": "code",
   "execution_count": null,
   "id": "f51bc0b9-4de9-44eb-a567-044517cde576",
   "metadata": {},
   "outputs": [],
   "source": []
  }
 ],
 "metadata": {
  "kernelspec": {
   "display_name": "nlp_env",
   "language": "python",
   "name": "nlp_env"
  },
  "language_info": {
   "codemirror_mode": {
    "name": "ipython",
    "version": 3
   },
   "file_extension": ".py",
   "mimetype": "text/x-python",
   "name": "python",
   "nbconvert_exporter": "python",
   "pygments_lexer": "ipython3",
   "version": "3.10.12"
  }
 },
 "nbformat": 4,
 "nbformat_minor": 5
}
