{
 "cells": [
  {
   "cell_type": "code",
   "execution_count": 1,
   "metadata": {
    "ExecuteTime": {
     "end_time": "2023-10-29T20:36:44.228153449Z",
     "start_time": "2023-10-29T20:36:43.477272786Z"
    }
   },
   "outputs": [],
   "source": [
    "import pandas as pd\n",
    "import numpy as np"
   ]
  },
  {
   "cell_type": "markdown",
   "metadata": {},
   "source": [
    "### Aufgabe 1: Decision Trees in Scikit-learn, Datenverarbeitung mit pandas"
   ]
  },
  {
   "cell_type": "markdown",
   "metadata": {},
   "source": [
    "#### a) Einlesen des Diabetes-Datensatzes"
   ]
  },
  {
   "cell_type": "markdown",
   "metadata": {},
   "source": [
    "Lesen Sie den Diabetest-Datensatz (vgl. Moodle) in einen pandas DataFrame ein. Dieser enthält verschiedene numerische Features, mit denen ein Entscheidungsbaum zur Vorhersage, ob ein Patient an Diabetes erkrankt ist oder nicht (Spalte Outcome), trainiert werden soll.\n",
    "\n",
    "Verwenden Sie dazu die Funktion **read_csv**. Verschaffen Sie sich mittels der Funktion **head** einen Überblick über den Datensatz."
   ]
  },
  {
   "cell_type": "code",
   "execution_count": 2,
   "metadata": {
    "ExecuteTime": {
     "end_time": "2023-10-29T20:36:44.300616399Z",
     "start_time": "2023-10-29T20:36:44.272955029Z"
    }
   },
   "outputs": [
    {
     "data": {
      "text/plain": "   Pregnancies  Glucose  BloodPressure  SkinThickness  Insulin   BMI  \\\n0            6      148             72             35        0  33.6   \n1            1       85             66             29        0  26.6   \n2            8      183             64              0        0  23.3   \n3            1       89             66             23       94  28.1   \n4            0      137             40             35      168  43.1   \n\n   DiabetesPedigreeFunction  Age  Outcome  \n0                     0.627   50        1  \n1                     0.351   31        0  \n2                     0.672   32        1  \n3                     0.167   21        0  \n4                     2.288   33        1  ",
      "text/html": "<div>\n<style scoped>\n    .dataframe tbody tr th:only-of-type {\n        vertical-align: middle;\n    }\n\n    .dataframe tbody tr th {\n        vertical-align: top;\n    }\n\n    .dataframe thead th {\n        text-align: right;\n    }\n</style>\n<table border=\"1\" class=\"dataframe\">\n  <thead>\n    <tr style=\"text-align: right;\">\n      <th></th>\n      <th>Pregnancies</th>\n      <th>Glucose</th>\n      <th>BloodPressure</th>\n      <th>SkinThickness</th>\n      <th>Insulin</th>\n      <th>BMI</th>\n      <th>DiabetesPedigreeFunction</th>\n      <th>Age</th>\n      <th>Outcome</th>\n    </tr>\n  </thead>\n  <tbody>\n    <tr>\n      <th>0</th>\n      <td>6</td>\n      <td>148</td>\n      <td>72</td>\n      <td>35</td>\n      <td>0</td>\n      <td>33.6</td>\n      <td>0.627</td>\n      <td>50</td>\n      <td>1</td>\n    </tr>\n    <tr>\n      <th>1</th>\n      <td>1</td>\n      <td>85</td>\n      <td>66</td>\n      <td>29</td>\n      <td>0</td>\n      <td>26.6</td>\n      <td>0.351</td>\n      <td>31</td>\n      <td>0</td>\n    </tr>\n    <tr>\n      <th>2</th>\n      <td>8</td>\n      <td>183</td>\n      <td>64</td>\n      <td>0</td>\n      <td>0</td>\n      <td>23.3</td>\n      <td>0.672</td>\n      <td>32</td>\n      <td>1</td>\n    </tr>\n    <tr>\n      <th>3</th>\n      <td>1</td>\n      <td>89</td>\n      <td>66</td>\n      <td>23</td>\n      <td>94</td>\n      <td>28.1</td>\n      <td>0.167</td>\n      <td>21</td>\n      <td>0</td>\n    </tr>\n    <tr>\n      <th>4</th>\n      <td>0</td>\n      <td>137</td>\n      <td>40</td>\n      <td>35</td>\n      <td>168</td>\n      <td>43.1</td>\n      <td>2.288</td>\n      <td>33</td>\n      <td>1</td>\n    </tr>\n  </tbody>\n</table>\n</div>"
     },
     "execution_count": 2,
     "metadata": {},
     "output_type": "execute_result"
    }
   ],
   "source": [
    "data = pd.read_csv('diabetes.csv').dropna().drop_duplicates()\n",
    "data.head()"
   ]
  },
  {
   "cell_type": "markdown",
   "metadata": {},
   "source": [
    "#### b) Train-Test-Split"
   ]
  },
  {
   "cell_type": "markdown",
   "metadata": {},
   "source": [
    "Splitten Sie den Datenatz in einen Trainingsdatensatz und einen Testdatensatz, sodass der Testdatensatz 30% der Samples enthält. Verwenden Sie dazu die Funktion **train_test_split** aus dem Modul sklearn.model_selection"
   ]
  },
  {
   "cell_type": "code",
   "execution_count": 3,
   "metadata": {
    "ExecuteTime": {
     "end_time": "2023-10-29T20:36:45.162097078Z",
     "start_time": "2023-10-29T20:36:44.276088993Z"
    }
   },
   "outputs": [],
   "source": [
    "from sklearn.model_selection import train_test_split\n",
    "train_data, test_data = train_test_split(data, test_size=0.3)"
   ]
  },
  {
   "cell_type": "markdown",
   "metadata": {},
   "source": [
    "#### b) Datenvorbereitung"
   ]
  },
  {
   "cell_type": "markdown",
   "metadata": {},
   "source": [
    "Legen Sie neue Variablen y_train und y_test an, in denen die Labels gespeichert werden sollen. Diese befinden sich in der Spalte **Outcome**. Löschen Sie diese anschließend aus X_train und X_test."
   ]
  },
  {
   "cell_type": "code",
   "execution_count": 4,
   "metadata": {
    "ExecuteTime": {
     "end_time": "2023-10-29T20:36:45.164732891Z",
     "start_time": "2023-10-29T20:36:45.160869276Z"
    }
   },
   "outputs": [],
   "source": [
    "y_train = train_data.loc[:, ['Outcome']]    #Ergebnis Trainingsdaten\n",
    "y_test = test_data.loc[:, ['Outcome']]  #Ergebnis Testdaten\n",
    "\n",
    "X_train = train_data.drop(columns=['Outcome'])  #Daten zum Modeltrainieren\n",
    "X_test = test_data.drop(columns=['Outcome'])    #Daten zum Modeltesten"
   ]
  },
  {
   "cell_type": "code",
   "execution_count": 5,
   "metadata": {
    "ExecuteTime": {
     "end_time": "2023-10-29T20:36:45.166340325Z",
     "start_time": "2023-10-29T20:36:45.161903182Z"
    }
   },
   "outputs": [
    {
     "data": {
      "text/plain": "(231, 8)"
     },
     "execution_count": 5,
     "metadata": {},
     "output_type": "execute_result"
    }
   ],
   "source": [
    "X_test.shape"
   ]
  },
  {
   "cell_type": "markdown",
   "metadata": {},
   "source": [
    "#### c) Training eines Entscheidungsbaums"
   ]
  },
  {
   "cell_type": "markdown",
   "metadata": {},
   "source": [
    "Fitten Sie einen DecisionTreeClassifier aus Scikit-learn mit den Parametern max_depth=10 und min_samples_leaf = 1"
   ]
  },
  {
   "cell_type": "code",
   "execution_count": 6,
   "metadata": {
    "ExecuteTime": {
     "end_time": "2023-10-29T20:36:45.354370569Z",
     "start_time": "2023-10-29T20:36:45.163095270Z"
    }
   },
   "outputs": [
    {
     "data": {
      "text/plain": "DecisionTreeClassifier(max_depth=5, min_samples_leaf=5, random_state=69)",
      "text/html": "<style>#sk-container-id-1 {color: black;}#sk-container-id-1 pre{padding: 0;}#sk-container-id-1 div.sk-toggleable {background-color: white;}#sk-container-id-1 label.sk-toggleable__label {cursor: pointer;display: block;width: 100%;margin-bottom: 0;padding: 0.3em;box-sizing: border-box;text-align: center;}#sk-container-id-1 label.sk-toggleable__label-arrow:before {content: \"▸\";float: left;margin-right: 0.25em;color: #696969;}#sk-container-id-1 label.sk-toggleable__label-arrow:hover:before {color: black;}#sk-container-id-1 div.sk-estimator:hover label.sk-toggleable__label-arrow:before {color: black;}#sk-container-id-1 div.sk-toggleable__content {max-height: 0;max-width: 0;overflow: hidden;text-align: left;background-color: #f0f8ff;}#sk-container-id-1 div.sk-toggleable__content pre {margin: 0.2em;color: black;border-radius: 0.25em;background-color: #f0f8ff;}#sk-container-id-1 input.sk-toggleable__control:checked~div.sk-toggleable__content {max-height: 200px;max-width: 100%;overflow: auto;}#sk-container-id-1 input.sk-toggleable__control:checked~label.sk-toggleable__label-arrow:before {content: \"▾\";}#sk-container-id-1 div.sk-estimator input.sk-toggleable__control:checked~label.sk-toggleable__label {background-color: #d4ebff;}#sk-container-id-1 div.sk-label input.sk-toggleable__control:checked~label.sk-toggleable__label {background-color: #d4ebff;}#sk-container-id-1 input.sk-hidden--visually {border: 0;clip: rect(1px 1px 1px 1px);clip: rect(1px, 1px, 1px, 1px);height: 1px;margin: -1px;overflow: hidden;padding: 0;position: absolute;width: 1px;}#sk-container-id-1 div.sk-estimator {font-family: monospace;background-color: #f0f8ff;border: 1px dotted black;border-radius: 0.25em;box-sizing: border-box;margin-bottom: 0.5em;}#sk-container-id-1 div.sk-estimator:hover {background-color: #d4ebff;}#sk-container-id-1 div.sk-parallel-item::after {content: \"\";width: 100%;border-bottom: 1px solid gray;flex-grow: 1;}#sk-container-id-1 div.sk-label:hover label.sk-toggleable__label {background-color: #d4ebff;}#sk-container-id-1 div.sk-serial::before {content: \"\";position: absolute;border-left: 1px solid gray;box-sizing: border-box;top: 0;bottom: 0;left: 50%;z-index: 0;}#sk-container-id-1 div.sk-serial {display: flex;flex-direction: column;align-items: center;background-color: white;padding-right: 0.2em;padding-left: 0.2em;position: relative;}#sk-container-id-1 div.sk-item {position: relative;z-index: 1;}#sk-container-id-1 div.sk-parallel {display: flex;align-items: stretch;justify-content: center;background-color: white;position: relative;}#sk-container-id-1 div.sk-item::before, #sk-container-id-1 div.sk-parallel-item::before {content: \"\";position: absolute;border-left: 1px solid gray;box-sizing: border-box;top: 0;bottom: 0;left: 50%;z-index: -1;}#sk-container-id-1 div.sk-parallel-item {display: flex;flex-direction: column;z-index: 1;position: relative;background-color: white;}#sk-container-id-1 div.sk-parallel-item:first-child::after {align-self: flex-end;width: 50%;}#sk-container-id-1 div.sk-parallel-item:last-child::after {align-self: flex-start;width: 50%;}#sk-container-id-1 div.sk-parallel-item:only-child::after {width: 0;}#sk-container-id-1 div.sk-dashed-wrapped {border: 1px dashed gray;margin: 0 0.4em 0.5em 0.4em;box-sizing: border-box;padding-bottom: 0.4em;background-color: white;}#sk-container-id-1 div.sk-label label {font-family: monospace;font-weight: bold;display: inline-block;line-height: 1.2em;}#sk-container-id-1 div.sk-label-container {text-align: center;}#sk-container-id-1 div.sk-container {/* jupyter's `normalize.less` sets `[hidden] { display: none; }` but bootstrap.min.css set `[hidden] { display: none !important; }` so we also need the `!important` here to be able to override the default hidden behavior on the sphinx rendered scikit-learn.org. See: https://github.com/scikit-learn/scikit-learn/issues/21755 */display: inline-block !important;position: relative;}#sk-container-id-1 div.sk-text-repr-fallback {display: none;}</style><div id=\"sk-container-id-1\" class=\"sk-top-container\"><div class=\"sk-text-repr-fallback\"><pre>DecisionTreeClassifier(max_depth=5, min_samples_leaf=5, random_state=69)</pre><b>In a Jupyter environment, please rerun this cell to show the HTML representation or trust the notebook. <br />On GitHub, the HTML representation is unable to render, please try loading this page with nbviewer.org.</b></div><div class=\"sk-container\" hidden><div class=\"sk-item\"><div class=\"sk-estimator sk-toggleable\"><input class=\"sk-toggleable__control sk-hidden--visually\" id=\"sk-estimator-id-1\" type=\"checkbox\" checked><label for=\"sk-estimator-id-1\" class=\"sk-toggleable__label sk-toggleable__label-arrow\">DecisionTreeClassifier</label><div class=\"sk-toggleable__content\"><pre>DecisionTreeClassifier(max_depth=5, min_samples_leaf=5, random_state=69)</pre></div></div></div></div></div>"
     },
     "execution_count": 6,
     "metadata": {},
     "output_type": "execute_result"
    }
   ],
   "source": [
    "from sklearn.tree import DecisionTreeClassifier\n",
    "from sklearn.model_selection import cross_val_score\n",
    "clf = DecisionTreeClassifier(random_state=69, min_samples_leaf=5,max_depth=5)\n",
    "\n",
    "clf.fit(X_train, y_train)"
   ]
  },
  {
   "cell_type": "markdown",
   "metadata": {},
   "source": [
    "#### d) Modellvalidierung"
   ]
  },
  {
   "cell_type": "markdown",
   "metadata": {},
   "source": [
    "Validieren Sie das resultierende Modell, indem Sie den Anteil der falsch klassifizierten Datensätze im Trainings- und im Testdatensatz berechnen. Wie erklären Sie Ihre Beobachtung? Trainieren Sie den Baum erneut mit den Parametern *max_depth=3* und *min_samples_leaf=5* und wiederholen Sie die Berechnung der Anteile der falsch klassifizierten Datensätze."
   ]
  },
  {
   "cell_type": "code",
   "execution_count": 7,
   "metadata": {
    "ExecuteTime": {
     "end_time": "2023-10-29T20:36:45.356466491Z",
     "start_time": "2023-10-29T20:36:45.296491036Z"
    }
   },
   "outputs": [
    {
     "name": "stdout",
     "output_type": "stream",
     "text": [
      "Accuracy: 0.7489177489177489\n"
     ]
    }
   ],
   "source": [
    "from sklearn import metrics\n",
    "y_pred = clf.predict(X_test)\n",
    "print(\"Accuracy:\", metrics.accuracy_score(y_test, y_pred))"
   ]
  },
  {
   "cell_type": "markdown",
   "metadata": {},
   "source": [
    "#### e) Visualisierung"
   ]
  },
  {
   "cell_type": "markdown",
   "metadata": {},
   "source": [
    "Visualisieren Sie den Baum mit graphviz, indem Sie den folgenden Code ausführen. Ggf. müssen Sie zuerst durch Eingabe von *conda install python-graphviz* im Anaconda Prompt das Paket graphviz installieren und es zum Such-Pfad hinzufügen."
   ]
  },
  {
   "cell_type": "code",
   "execution_count": 10,
   "metadata": {
    "ExecuteTime": {
     "end_time": "2023-10-29T20:39:51.699077404Z",
     "start_time": "2023-10-29T20:39:51.599064418Z"
    }
   },
   "outputs": [
    {
     "data": {
      "image/svg+xml": "<?xml version=\"1.0\" encoding=\"UTF-8\" standalone=\"no\"?>\n<!DOCTYPE svg PUBLIC \"-//W3C//DTD SVG 1.1//EN\"\n \"http://www.w3.org/Graphics/SVG/1.1/DTD/svg11.dtd\">\n<!-- Generated by graphviz version 2.43.0 (0)\n -->\n<!-- Title: Tree Pages: 1 -->\n<svg width=\"1948pt\" height=\"671pt\"\n viewBox=\"0.00 0.00 1947.50 671.00\" xmlns=\"http://www.w3.org/2000/svg\" xmlns:xlink=\"http://www.w3.org/1999/xlink\">\n<g id=\"graph0\" class=\"graph\" transform=\"scale(1 1) rotate(0) translate(4 667)\">\n<title>Tree</title>\n<polygon fill=\"white\" stroke=\"transparent\" points=\"-4,4 -4,-667 1943.5,-667 1943.5,4 -4,4\"/>\n<!-- 0 -->\n<g id=\"node1\" class=\"node\">\n<title>0</title>\n<path fill=\"#f4cbad\" stroke=\"black\" d=\"M1035.5,-663C1035.5,-663 910.5,-663 910.5,-663 904.5,-663 898.5,-657 898.5,-651 898.5,-651 898.5,-592 898.5,-592 898.5,-586 904.5,-580 910.5,-580 910.5,-580 1035.5,-580 1035.5,-580 1041.5,-580 1047.5,-586 1047.5,-592 1047.5,-592 1047.5,-651 1047.5,-651 1047.5,-657 1041.5,-663 1035.5,-663\"/>\n<text text-anchor=\"start\" x=\"914.5\" y=\"-647.8\" font-family=\"Helvetica,sans-Serif\" font-size=\"14.00\">Glucose ≤ 154.5</text>\n<text text-anchor=\"start\" x=\"929\" y=\"-632.8\" font-family=\"Helvetica,sans-Serif\" font-size=\"14.00\">gini = 0.466</text>\n<text text-anchor=\"start\" x=\"920\" y=\"-617.8\" font-family=\"Helvetica,sans-Serif\" font-size=\"14.00\">samples = 537</text>\n<text text-anchor=\"start\" x=\"906.5\" y=\"-602.8\" font-family=\"Helvetica,sans-Serif\" font-size=\"14.00\">value = [339, 198]</text>\n<text text-anchor=\"start\" x=\"940.5\" y=\"-587.8\" font-family=\"Helvetica,sans-Serif\" font-size=\"14.00\">class = 0</text>\n</g>\n<!-- 1 -->\n<g id=\"node2\" class=\"node\">\n<title>1</title>\n<path fill=\"#efb185\" stroke=\"black\" d=\"M825.5,-544C825.5,-544 700.5,-544 700.5,-544 694.5,-544 688.5,-538 688.5,-532 688.5,-532 688.5,-473 688.5,-473 688.5,-467 694.5,-461 700.5,-461 700.5,-461 825.5,-461 825.5,-461 831.5,-461 837.5,-467 837.5,-473 837.5,-473 837.5,-532 837.5,-532 837.5,-538 831.5,-544 825.5,-544\"/>\n<text text-anchor=\"start\" x=\"719\" y=\"-528.8\" font-family=\"Helvetica,sans-Serif\" font-size=\"14.00\">BMI ≤ 26.35</text>\n<text text-anchor=\"start\" x=\"719\" y=\"-513.8\" font-family=\"Helvetica,sans-Serif\" font-size=\"14.00\">gini = 0.401</text>\n<text text-anchor=\"start\" x=\"710\" y=\"-498.8\" font-family=\"Helvetica,sans-Serif\" font-size=\"14.00\">samples = 454</text>\n<text text-anchor=\"start\" x=\"696.5\" y=\"-483.8\" font-family=\"Helvetica,sans-Serif\" font-size=\"14.00\">value = [328, 126]</text>\n<text text-anchor=\"start\" x=\"730.5\" y=\"-468.8\" font-family=\"Helvetica,sans-Serif\" font-size=\"14.00\">class = 0</text>\n</g>\n<!-- 0&#45;&gt;1 -->\n<g id=\"edge1\" class=\"edge\">\n<title>0&#45;&gt;1</title>\n<path fill=\"none\" stroke=\"black\" d=\"M900.14,-579.91C882.22,-569.92 862.92,-559.17 844.62,-548.98\"/>\n<polygon fill=\"black\" stroke=\"black\" points=\"846.17,-545.83 835.73,-544.02 842.76,-551.95 846.17,-545.83\"/>\n<text text-anchor=\"middle\" x=\"842.57\" y=\"-564.37\" font-family=\"Helvetica,sans-Serif\" font-size=\"14.00\">True</text>\n</g>\n<!-- 24 -->\n<g id=\"node25\" class=\"node\">\n<title>24</title>\n<path fill=\"#57ace9\" stroke=\"black\" d=\"M1248.5,-544C1248.5,-544 1141.5,-544 1141.5,-544 1135.5,-544 1129.5,-538 1129.5,-532 1129.5,-532 1129.5,-473 1129.5,-473 1129.5,-467 1135.5,-461 1141.5,-461 1141.5,-461 1248.5,-461 1248.5,-461 1254.5,-461 1260.5,-467 1260.5,-473 1260.5,-473 1260.5,-532 1260.5,-532 1260.5,-538 1254.5,-544 1248.5,-544\"/>\n<text text-anchor=\"start\" x=\"1151\" y=\"-528.8\" font-family=\"Helvetica,sans-Serif\" font-size=\"14.00\">BMI ≤ 29.85</text>\n<text text-anchor=\"start\" x=\"1155.5\" y=\"-513.8\" font-family=\"Helvetica,sans-Serif\" font-size=\"14.00\">gini = 0.23</text>\n<text text-anchor=\"start\" x=\"1146.5\" y=\"-498.8\" font-family=\"Helvetica,sans-Serif\" font-size=\"14.00\">samples = 83</text>\n<text text-anchor=\"start\" x=\"1137.5\" y=\"-483.8\" font-family=\"Helvetica,sans-Serif\" font-size=\"14.00\">value = [11, 72]</text>\n<text text-anchor=\"start\" x=\"1162.5\" y=\"-468.8\" font-family=\"Helvetica,sans-Serif\" font-size=\"14.00\">class = 1</text>\n</g>\n<!-- 0&#45;&gt;24 -->\n<g id=\"edge24\" class=\"edge\">\n<title>0&#45;&gt;24</title>\n<path fill=\"none\" stroke=\"black\" d=\"M1047.54,-581.22C1071,-568.85 1096.9,-555.2 1120.36,-542.84\"/>\n<polygon fill=\"black\" stroke=\"black\" points=\"1122.01,-545.93 1129.22,-538.17 1118.74,-539.73 1122.01,-545.93\"/>\n<text text-anchor=\"middle\" x=\"1121.82\" y=\"-558.35\" font-family=\"Helvetica,sans-Serif\" font-size=\"14.00\">False</text>\n</g>\n<!-- 2 -->\n<g id=\"node3\" class=\"node\">\n<title>2</title>\n<path fill=\"#e6833d\" stroke=\"black\" d=\"M553.5,-425C553.5,-425 444.5,-425 444.5,-425 438.5,-425 432.5,-419 432.5,-413 432.5,-413 432.5,-354 432.5,-354 432.5,-348 438.5,-342 444.5,-342 444.5,-342 553.5,-342 553.5,-342 559.5,-342 565.5,-348 565.5,-354 565.5,-354 565.5,-413 565.5,-413 565.5,-419 559.5,-425 553.5,-425\"/>\n<text text-anchor=\"start\" x=\"440.5\" y=\"-409.8\" font-family=\"Helvetica,sans-Serif\" font-size=\"14.00\">Glucose ≤ 138.0</text>\n<text text-anchor=\"start\" x=\"455\" y=\"-394.8\" font-family=\"Helvetica,sans-Serif\" font-size=\"14.00\">gini = 0.037</text>\n<text text-anchor=\"start\" x=\"446\" y=\"-379.8\" font-family=\"Helvetica,sans-Serif\" font-size=\"14.00\">samples = 105</text>\n<text text-anchor=\"start\" x=\"441.5\" y=\"-364.8\" font-family=\"Helvetica,sans-Serif\" font-size=\"14.00\">value = [103, 2]</text>\n<text text-anchor=\"start\" x=\"466.5\" y=\"-349.8\" font-family=\"Helvetica,sans-Serif\" font-size=\"14.00\">class = 0</text>\n</g>\n<!-- 1&#45;&gt;2 -->\n<g id=\"edge2\" class=\"edge\">\n<title>1&#45;&gt;2</title>\n<path fill=\"none\" stroke=\"black\" d=\"M688.41,-468.44C652.99,-452.75 610.74,-434.02 575.13,-418.24\"/>\n<polygon fill=\"black\" stroke=\"black\" points=\"576.31,-414.94 565.75,-414.08 573.48,-421.34 576.31,-414.94\"/>\n</g>\n<!-- 9 -->\n<g id=\"node10\" class=\"node\">\n<title>9</title>\n<path fill=\"#f3c6a6\" stroke=\"black\" d=\"M825.5,-425C825.5,-425 700.5,-425 700.5,-425 694.5,-425 688.5,-419 688.5,-413 688.5,-413 688.5,-354 688.5,-354 688.5,-348 694.5,-342 700.5,-342 700.5,-342 825.5,-342 825.5,-342 831.5,-342 837.5,-348 837.5,-354 837.5,-354 837.5,-413 837.5,-413 837.5,-419 831.5,-425 825.5,-425\"/>\n<text text-anchor=\"start\" x=\"723\" y=\"-409.8\" font-family=\"Helvetica,sans-Serif\" font-size=\"14.00\">Age ≤ 30.5</text>\n<text text-anchor=\"start\" x=\"719\" y=\"-394.8\" font-family=\"Helvetica,sans-Serif\" font-size=\"14.00\">gini = 0.458</text>\n<text text-anchor=\"start\" x=\"710\" y=\"-379.8\" font-family=\"Helvetica,sans-Serif\" font-size=\"14.00\">samples = 349</text>\n<text text-anchor=\"start\" x=\"696.5\" y=\"-364.8\" font-family=\"Helvetica,sans-Serif\" font-size=\"14.00\">value = [225, 124]</text>\n<text text-anchor=\"start\" x=\"730.5\" y=\"-349.8\" font-family=\"Helvetica,sans-Serif\" font-size=\"14.00\">class = 0</text>\n</g>\n<!-- 1&#45;&gt;9 -->\n<g id=\"edge9\" class=\"edge\">\n<title>1&#45;&gt;9</title>\n<path fill=\"none\" stroke=\"black\" d=\"M763,-460.91C763,-452.65 763,-443.86 763,-435.3\"/>\n<polygon fill=\"black\" stroke=\"black\" points=\"766.5,-435.02 763,-425.02 759.5,-435.02 766.5,-435.02\"/>\n</g>\n<!-- 3 -->\n<g id=\"node4\" class=\"node\">\n<title>3</title>\n<path fill=\"#e5823b\" stroke=\"black\" d=\"M318,-306C318,-306 84,-306 84,-306 78,-306 72,-300 72,-294 72,-294 72,-235 72,-235 72,-229 78,-223 84,-223 84,-223 318,-223 318,-223 324,-223 330,-229 330,-235 330,-235 330,-294 330,-294 330,-300 324,-306 318,-306\"/>\n<text text-anchor=\"start\" x=\"80\" y=\"-290.8\" font-family=\"Helvetica,sans-Serif\" font-size=\"14.00\">DiabetesPedigreeFunction ≤ 0.675</text>\n<text text-anchor=\"start\" x=\"157\" y=\"-275.8\" font-family=\"Helvetica,sans-Serif\" font-size=\"14.00\">gini = 0.021</text>\n<text text-anchor=\"start\" x=\"152.5\" y=\"-260.8\" font-family=\"Helvetica,sans-Serif\" font-size=\"14.00\">samples = 96</text>\n<text text-anchor=\"start\" x=\"148\" y=\"-245.8\" font-family=\"Helvetica,sans-Serif\" font-size=\"14.00\">value = [95, 1]</text>\n<text text-anchor=\"start\" x=\"168.5\" y=\"-230.8\" font-family=\"Helvetica,sans-Serif\" font-size=\"14.00\">class = 0</text>\n</g>\n<!-- 2&#45;&gt;3 -->\n<g id=\"edge3\" class=\"edge\">\n<title>2&#45;&gt;3</title>\n<path fill=\"none\" stroke=\"black\" d=\"M432.49,-356.39C397.56,-342.67 353.78,-325.49 313.73,-309.76\"/>\n<polygon fill=\"black\" stroke=\"black\" points=\"314.76,-306.41 304.18,-306.01 312.21,-312.92 314.76,-306.41\"/>\n</g>\n<!-- 8 -->\n<g id=\"node9\" class=\"node\">\n<title>8</title>\n<path fill=\"#e89152\" stroke=\"black\" d=\"M543.5,-298.5C543.5,-298.5 454.5,-298.5 454.5,-298.5 448.5,-298.5 442.5,-292.5 442.5,-286.5 442.5,-286.5 442.5,-242.5 442.5,-242.5 442.5,-236.5 448.5,-230.5 454.5,-230.5 454.5,-230.5 543.5,-230.5 543.5,-230.5 549.5,-230.5 555.5,-236.5 555.5,-242.5 555.5,-242.5 555.5,-286.5 555.5,-286.5 555.5,-292.5 549.5,-298.5 543.5,-298.5\"/>\n<text text-anchor=\"start\" x=\"455\" y=\"-283.3\" font-family=\"Helvetica,sans-Serif\" font-size=\"14.00\">gini = 0.198</text>\n<text text-anchor=\"start\" x=\"455\" y=\"-268.3\" font-family=\"Helvetica,sans-Serif\" font-size=\"14.00\">samples = 9</text>\n<text text-anchor=\"start\" x=\"450.5\" y=\"-253.3\" font-family=\"Helvetica,sans-Serif\" font-size=\"14.00\">value = [8, 1]</text>\n<text text-anchor=\"start\" x=\"466.5\" y=\"-238.3\" font-family=\"Helvetica,sans-Serif\" font-size=\"14.00\">class = 0</text>\n</g>\n<!-- 2&#45;&gt;8 -->\n<g id=\"edge8\" class=\"edge\">\n<title>2&#45;&gt;8</title>\n<path fill=\"none\" stroke=\"black\" d=\"M499,-341.91C499,-331.2 499,-319.62 499,-308.78\"/>\n<polygon fill=\"black\" stroke=\"black\" points=\"502.5,-308.67 499,-298.67 495.5,-308.67 502.5,-308.67\"/>\n</g>\n<!-- 4 -->\n<g id=\"node5\" class=\"node\">\n<title>4</title>\n<path fill=\"#e58139\" stroke=\"black\" d=\"M110,-179.5C110,-179.5 12,-179.5 12,-179.5 6,-179.5 0,-173.5 0,-167.5 0,-167.5 0,-123.5 0,-123.5 0,-117.5 6,-111.5 12,-111.5 12,-111.5 110,-111.5 110,-111.5 116,-111.5 122,-117.5 122,-123.5 122,-123.5 122,-167.5 122,-167.5 122,-173.5 116,-179.5 110,-179.5\"/>\n<text text-anchor=\"start\" x=\"26\" y=\"-164.3\" font-family=\"Helvetica,sans-Serif\" font-size=\"14.00\">gini = 0.0</text>\n<text text-anchor=\"start\" x=\"12.5\" y=\"-149.3\" font-family=\"Helvetica,sans-Serif\" font-size=\"14.00\">samples = 79</text>\n<text text-anchor=\"start\" x=\"8\" y=\"-134.3\" font-family=\"Helvetica,sans-Serif\" font-size=\"14.00\">value = [79, 0]</text>\n<text text-anchor=\"start\" x=\"28.5\" y=\"-119.3\" font-family=\"Helvetica,sans-Serif\" font-size=\"14.00\">class = 0</text>\n</g>\n<!-- 3&#45;&gt;4 -->\n<g id=\"edge4\" class=\"edge\">\n<title>3&#45;&gt;4</title>\n<path fill=\"none\" stroke=\"black\" d=\"M152.43,-222.91C138.17,-210.99 122.59,-197.98 108.41,-186.12\"/>\n<polygon fill=\"black\" stroke=\"black\" points=\"110.6,-183.39 100.69,-179.67 106.12,-188.77 110.6,-183.39\"/>\n</g>\n<!-- 5 -->\n<g id=\"node6\" class=\"node\">\n<title>5</title>\n<path fill=\"#e78945\" stroke=\"black\" d=\"M250,-187C250,-187 152,-187 152,-187 146,-187 140,-181 140,-175 140,-175 140,-116 140,-116 140,-110 146,-104 152,-104 152,-104 250,-104 250,-104 256,-104 262,-110 262,-116 262,-116 262,-175 262,-175 262,-181 256,-187 250,-187\"/>\n<text text-anchor=\"start\" x=\"157\" y=\"-171.8\" font-family=\"Helvetica,sans-Serif\" font-size=\"14.00\">BMI ≤ 23.35</text>\n<text text-anchor=\"start\" x=\"157\" y=\"-156.8\" font-family=\"Helvetica,sans-Serif\" font-size=\"14.00\">gini = 0.111</text>\n<text text-anchor=\"start\" x=\"152.5\" y=\"-141.8\" font-family=\"Helvetica,sans-Serif\" font-size=\"14.00\">samples = 17</text>\n<text text-anchor=\"start\" x=\"148\" y=\"-126.8\" font-family=\"Helvetica,sans-Serif\" font-size=\"14.00\">value = [16, 1]</text>\n<text text-anchor=\"start\" x=\"168.5\" y=\"-111.8\" font-family=\"Helvetica,sans-Serif\" font-size=\"14.00\">class = 0</text>\n</g>\n<!-- 3&#45;&gt;5 -->\n<g id=\"edge5\" class=\"edge\">\n<title>3&#45;&gt;5</title>\n<path fill=\"none\" stroke=\"black\" d=\"M201,-222.91C201,-214.65 201,-205.86 201,-197.3\"/>\n<polygon fill=\"black\" stroke=\"black\" points=\"204.5,-197.02 201,-187.02 197.5,-197.02 204.5,-197.02\"/>\n</g>\n<!-- 6 -->\n<g id=\"node7\" class=\"node\">\n<title>6</title>\n<path fill=\"#eca06a\" stroke=\"black\" d=\"M109.5,-68C109.5,-68 20.5,-68 20.5,-68 14.5,-68 8.5,-62 8.5,-56 8.5,-56 8.5,-12 8.5,-12 8.5,-6 14.5,0 20.5,0 20.5,0 109.5,0 109.5,0 115.5,0 121.5,-6 121.5,-12 121.5,-12 121.5,-56 121.5,-56 121.5,-62 115.5,-68 109.5,-68\"/>\n<text text-anchor=\"start\" x=\"25.5\" y=\"-52.8\" font-family=\"Helvetica,sans-Serif\" font-size=\"14.00\">gini = 0.32</text>\n<text text-anchor=\"start\" x=\"21\" y=\"-37.8\" font-family=\"Helvetica,sans-Serif\" font-size=\"14.00\">samples = 5</text>\n<text text-anchor=\"start\" x=\"16.5\" y=\"-22.8\" font-family=\"Helvetica,sans-Serif\" font-size=\"14.00\">value = [4, 1]</text>\n<text text-anchor=\"start\" x=\"32.5\" y=\"-7.8\" font-family=\"Helvetica,sans-Serif\" font-size=\"14.00\">class = 0</text>\n</g>\n<!-- 5&#45;&gt;6 -->\n<g id=\"edge6\" class=\"edge\">\n<title>5&#45;&gt;6</title>\n<path fill=\"none\" stroke=\"black\" d=\"M150.36,-103.73C138.58,-94.24 126.05,-84.16 114.33,-74.72\"/>\n<polygon fill=\"black\" stroke=\"black\" points=\"116.34,-71.84 106.36,-68.3 111.95,-77.3 116.34,-71.84\"/>\n</g>\n<!-- 7 -->\n<g id=\"node8\" class=\"node\">\n<title>7</title>\n<path fill=\"#e58139\" stroke=\"black\" d=\"M250,-68C250,-68 152,-68 152,-68 146,-68 140,-62 140,-56 140,-56 140,-12 140,-12 140,-6 146,0 152,0 152,0 250,0 250,0 256,0 262,-6 262,-12 262,-12 262,-56 262,-56 262,-62 256,-68 250,-68\"/>\n<text text-anchor=\"start\" x=\"166\" y=\"-52.8\" font-family=\"Helvetica,sans-Serif\" font-size=\"14.00\">gini = 0.0</text>\n<text text-anchor=\"start\" x=\"152.5\" y=\"-37.8\" font-family=\"Helvetica,sans-Serif\" font-size=\"14.00\">samples = 12</text>\n<text text-anchor=\"start\" x=\"148\" y=\"-22.8\" font-family=\"Helvetica,sans-Serif\" font-size=\"14.00\">value = [12, 0]</text>\n<text text-anchor=\"start\" x=\"168.5\" y=\"-7.8\" font-family=\"Helvetica,sans-Serif\" font-size=\"14.00\">class = 0</text>\n</g>\n<!-- 5&#45;&gt;7 -->\n<g id=\"edge7\" class=\"edge\">\n<title>5&#45;&gt;7</title>\n<path fill=\"none\" stroke=\"black\" d=\"M201,-103.73C201,-95.52 201,-86.86 201,-78.56\"/>\n<polygon fill=\"black\" stroke=\"black\" points=\"204.5,-78.3 201,-68.3 197.5,-78.3 204.5,-78.3\"/>\n</g>\n<!-- 10 -->\n<g id=\"node11\" class=\"node\">\n<title>10</title>\n<path fill=\"#eda673\" stroke=\"black\" d=\"M761,-306C761,-306 645,-306 645,-306 639,-306 633,-300 633,-294 633,-294 633,-235 633,-235 633,-229 639,-223 645,-223 645,-223 761,-223 761,-223 767,-223 773,-229 773,-235 773,-235 773,-294 773,-294 773,-300 767,-306 761,-306\"/>\n<text text-anchor=\"start\" x=\"663.5\" y=\"-290.8\" font-family=\"Helvetica,sans-Serif\" font-size=\"14.00\">BMI ≤ 41.8</text>\n<text text-anchor=\"start\" x=\"659\" y=\"-275.8\" font-family=\"Helvetica,sans-Serif\" font-size=\"14.00\">gini = 0.349</text>\n<text text-anchor=\"start\" x=\"650\" y=\"-260.8\" font-family=\"Helvetica,sans-Serif\" font-size=\"14.00\">samples = 191</text>\n<text text-anchor=\"start\" x=\"641\" y=\"-245.8\" font-family=\"Helvetica,sans-Serif\" font-size=\"14.00\">value = [148, 43]</text>\n<text text-anchor=\"start\" x=\"670.5\" y=\"-230.8\" font-family=\"Helvetica,sans-Serif\" font-size=\"14.00\">class = 0</text>\n</g>\n<!-- 9&#45;&gt;10 -->\n<g id=\"edge10\" class=\"edge\">\n<title>9&#45;&gt;10</title>\n<path fill=\"none\" stroke=\"black\" d=\"M742.18,-341.91C737.76,-333.29 733.05,-324.09 728.47,-315.17\"/>\n<polygon fill=\"black\" stroke=\"black\" points=\"731.46,-313.32 723.78,-306.02 725.23,-316.52 731.46,-313.32\"/>\n</g>\n<!-- 17 -->\n<g id=\"node18\" class=\"node\">\n<title>17</title>\n<path fill=\"#f5fafe\" stroke=\"black\" d=\"M1033.5,-306C1033.5,-306 924.5,-306 924.5,-306 918.5,-306 912.5,-300 912.5,-294 912.5,-294 912.5,-235 912.5,-235 912.5,-229 918.5,-223 924.5,-223 924.5,-223 1033.5,-223 1033.5,-223 1039.5,-223 1045.5,-229 1045.5,-235 1045.5,-235 1045.5,-294 1045.5,-294 1045.5,-300 1039.5,-306 1033.5,-306\"/>\n<text text-anchor=\"start\" x=\"920.5\" y=\"-290.8\" font-family=\"Helvetica,sans-Serif\" font-size=\"14.00\">Glucose ≤ 106.5</text>\n<text text-anchor=\"start\" x=\"944\" y=\"-275.8\" font-family=\"Helvetica,sans-Serif\" font-size=\"14.00\">gini = 0.5</text>\n<text text-anchor=\"start\" x=\"926\" y=\"-260.8\" font-family=\"Helvetica,sans-Serif\" font-size=\"14.00\">samples = 158</text>\n<text text-anchor=\"start\" x=\"921.5\" y=\"-245.8\" font-family=\"Helvetica,sans-Serif\" font-size=\"14.00\">value = [77, 81]</text>\n<text text-anchor=\"start\" x=\"946.5\" y=\"-230.8\" font-family=\"Helvetica,sans-Serif\" font-size=\"14.00\">class = 1</text>\n</g>\n<!-- 9&#45;&gt;17 -->\n<g id=\"edge17\" class=\"edge\">\n<title>9&#45;&gt;17</title>\n<path fill=\"none\" stroke=\"black\" d=\"M837.64,-342.07C858.87,-330.57 882.01,-318.04 903.31,-306.5\"/>\n<polygon fill=\"black\" stroke=\"black\" points=\"905.18,-309.46 912.31,-301.62 901.85,-303.31 905.18,-309.46\"/>\n</g>\n<!-- 11 -->\n<g id=\"node12\" class=\"node\">\n<title>11</title>\n<path fill=\"#eb9d65\" stroke=\"black\" d=\"M543.5,-187C543.5,-187 400.5,-187 400.5,-187 394.5,-187 388.5,-181 388.5,-175 388.5,-175 388.5,-116 388.5,-116 388.5,-110 394.5,-104 400.5,-104 400.5,-104 543.5,-104 543.5,-104 549.5,-104 555.5,-110 555.5,-116 555.5,-116 555.5,-175 555.5,-175 555.5,-181 549.5,-187 543.5,-187\"/>\n<text text-anchor=\"start\" x=\"396.5\" y=\"-171.8\" font-family=\"Helvetica,sans-Serif\" font-size=\"14.00\">BloodPressure ≤ 12.0</text>\n<text text-anchor=\"start\" x=\"437\" y=\"-156.8\" font-family=\"Helvetica,sans-Serif\" font-size=\"14.00\">gini = 0.3</text>\n<text text-anchor=\"start\" x=\"419\" y=\"-141.8\" font-family=\"Helvetica,sans-Serif\" font-size=\"14.00\">samples = 169</text>\n<text text-anchor=\"start\" x=\"410\" y=\"-126.8\" font-family=\"Helvetica,sans-Serif\" font-size=\"14.00\">value = [138, 31]</text>\n<text text-anchor=\"start\" x=\"439.5\" y=\"-111.8\" font-family=\"Helvetica,sans-Serif\" font-size=\"14.00\">class = 0</text>\n</g>\n<!-- 10&#45;&gt;11 -->\n<g id=\"edge11\" class=\"edge\">\n<title>10&#45;&gt;11</title>\n<path fill=\"none\" stroke=\"black\" d=\"M632.75,-227.92C610.15,-216.47 584.81,-203.64 561.04,-191.6\"/>\n<polygon fill=\"black\" stroke=\"black\" points=\"562.53,-188.43 552.02,-187.03 559.36,-194.67 562.53,-188.43\"/>\n</g>\n<!-- 14 -->\n<g id=\"node15\" class=\"node\">\n<title>14</title>\n<path fill=\"#deeffb\" stroke=\"black\" d=\"M820,-187C820,-187 586,-187 586,-187 580,-187 574,-181 574,-175 574,-175 574,-116 574,-116 574,-110 580,-104 586,-104 586,-104 820,-104 820,-104 826,-104 832,-110 832,-116 832,-116 832,-175 832,-175 832,-181 826,-187 820,-187\"/>\n<text text-anchor=\"start\" x=\"582\" y=\"-171.8\" font-family=\"Helvetica,sans-Serif\" font-size=\"14.00\">DiabetesPedigreeFunction ≤ 0.366</text>\n<text text-anchor=\"start\" x=\"659\" y=\"-156.8\" font-family=\"Helvetica,sans-Serif\" font-size=\"14.00\">gini = 0.496</text>\n<text text-anchor=\"start\" x=\"654.5\" y=\"-141.8\" font-family=\"Helvetica,sans-Serif\" font-size=\"14.00\">samples = 22</text>\n<text text-anchor=\"start\" x=\"645.5\" y=\"-126.8\" font-family=\"Helvetica,sans-Serif\" font-size=\"14.00\">value = [10, 12]</text>\n<text text-anchor=\"start\" x=\"670.5\" y=\"-111.8\" font-family=\"Helvetica,sans-Serif\" font-size=\"14.00\">class = 1</text>\n</g>\n<!-- 10&#45;&gt;14 -->\n<g id=\"edge14\" class=\"edge\">\n<title>10&#45;&gt;14</title>\n<path fill=\"none\" stroke=\"black\" d=\"M703,-222.91C703,-214.65 703,-205.86 703,-197.3\"/>\n<polygon fill=\"black\" stroke=\"black\" points=\"706.5,-197.02 703,-187.02 699.5,-197.02 706.5,-197.02\"/>\n</g>\n<!-- 12 -->\n<g id=\"node13\" class=\"node\">\n<title>12</title>\n<path fill=\"#88c4ef\" stroke=\"black\" d=\"M381.5,-68C381.5,-68 292.5,-68 292.5,-68 286.5,-68 280.5,-62 280.5,-56 280.5,-56 280.5,-12 280.5,-12 280.5,-6 286.5,0 292.5,0 292.5,0 381.5,0 381.5,0 387.5,0 393.5,-6 393.5,-12 393.5,-12 393.5,-56 393.5,-56 393.5,-62 387.5,-68 381.5,-68\"/>\n<text text-anchor=\"start\" x=\"293\" y=\"-52.8\" font-family=\"Helvetica,sans-Serif\" font-size=\"14.00\">gini = 0.408</text>\n<text text-anchor=\"start\" x=\"293\" y=\"-37.8\" font-family=\"Helvetica,sans-Serif\" font-size=\"14.00\">samples = 7</text>\n<text text-anchor=\"start\" x=\"288.5\" y=\"-22.8\" font-family=\"Helvetica,sans-Serif\" font-size=\"14.00\">value = [2, 5]</text>\n<text text-anchor=\"start\" x=\"304.5\" y=\"-7.8\" font-family=\"Helvetica,sans-Serif\" font-size=\"14.00\">class = 1</text>\n</g>\n<!-- 11&#45;&gt;12 -->\n<g id=\"edge12\" class=\"edge\">\n<title>11&#45;&gt;12</title>\n<path fill=\"none\" stroke=\"black\" d=\"M421.73,-103.73C410.04,-94.24 397.6,-84.16 385.96,-74.72\"/>\n<polygon fill=\"black\" stroke=\"black\" points=\"388.03,-71.88 378.05,-68.3 383.62,-77.32 388.03,-71.88\"/>\n</g>\n<!-- 13 -->\n<g id=\"node14\" class=\"node\">\n<title>13</title>\n<path fill=\"#ea995f\" stroke=\"black\" d=\"M540,-68C540,-68 424,-68 424,-68 418,-68 412,-62 412,-56 412,-56 412,-12 412,-12 412,-6 418,0 424,0 424,0 540,0 540,0 546,0 552,-6 552,-12 552,-12 552,-56 552,-56 552,-62 546,-68 540,-68\"/>\n<text text-anchor=\"start\" x=\"438\" y=\"-52.8\" font-family=\"Helvetica,sans-Serif\" font-size=\"14.00\">gini = 0.269</text>\n<text text-anchor=\"start\" x=\"429\" y=\"-37.8\" font-family=\"Helvetica,sans-Serif\" font-size=\"14.00\">samples = 162</text>\n<text text-anchor=\"start\" x=\"420\" y=\"-22.8\" font-family=\"Helvetica,sans-Serif\" font-size=\"14.00\">value = [136, 26]</text>\n<text text-anchor=\"start\" x=\"449.5\" y=\"-7.8\" font-family=\"Helvetica,sans-Serif\" font-size=\"14.00\">class = 0</text>\n</g>\n<!-- 11&#45;&gt;13 -->\n<g id=\"edge13\" class=\"edge\">\n<title>11&#45;&gt;13</title>\n<path fill=\"none\" stroke=\"black\" d=\"M475.72,-103.73C476.48,-95.43 477.28,-86.67 478.05,-78.28\"/>\n<polygon fill=\"black\" stroke=\"black\" points=\"481.53,-78.58 478.96,-68.3 474.56,-77.94 481.53,-78.58\"/>\n</g>\n<!-- 15 -->\n<g id=\"node16\" class=\"node\">\n<title>15</title>\n<path fill=\"#5aade9\" stroke=\"black\" d=\"M671.5,-68C671.5,-68 582.5,-68 582.5,-68 576.5,-68 570.5,-62 570.5,-56 570.5,-56 570.5,-12 570.5,-12 570.5,-6 576.5,0 582.5,0 582.5,0 671.5,0 671.5,0 677.5,0 683.5,-6 683.5,-12 683.5,-12 683.5,-56 683.5,-56 683.5,-62 677.5,-68 671.5,-68\"/>\n<text text-anchor=\"start\" x=\"583\" y=\"-52.8\" font-family=\"Helvetica,sans-Serif\" font-size=\"14.00\">gini = 0.245</text>\n<text text-anchor=\"start\" x=\"583\" y=\"-37.8\" font-family=\"Helvetica,sans-Serif\" font-size=\"14.00\">samples = 7</text>\n<text text-anchor=\"start\" x=\"578.5\" y=\"-22.8\" font-family=\"Helvetica,sans-Serif\" font-size=\"14.00\">value = [1, 6]</text>\n<text text-anchor=\"start\" x=\"594.5\" y=\"-7.8\" font-family=\"Helvetica,sans-Serif\" font-size=\"14.00\">class = 1</text>\n</g>\n<!-- 14&#45;&gt;15 -->\n<g id=\"edge15\" class=\"edge\">\n<title>14&#45;&gt;15</title>\n<path fill=\"none\" stroke=\"black\" d=\"M674.7,-103.73C668.56,-94.88 662.06,-85.51 655.89,-76.63\"/>\n<polygon fill=\"black\" stroke=\"black\" points=\"658.69,-74.52 650.11,-68.3 652.94,-78.51 658.69,-74.52\"/>\n</g>\n<!-- 16 -->\n<g id=\"node17\" class=\"node\">\n<title>16</title>\n<path fill=\"#f6d5bd\" stroke=\"black\" d=\"M802.5,-68C802.5,-68 713.5,-68 713.5,-68 707.5,-68 701.5,-62 701.5,-56 701.5,-56 701.5,-12 701.5,-12 701.5,-6 707.5,0 713.5,0 713.5,0 802.5,0 802.5,0 808.5,0 814.5,-6 814.5,-12 814.5,-12 814.5,-56 814.5,-56 814.5,-62 808.5,-68 802.5,-68\"/>\n<text text-anchor=\"start\" x=\"718.5\" y=\"-52.8\" font-family=\"Helvetica,sans-Serif\" font-size=\"14.00\">gini = 0.48</text>\n<text text-anchor=\"start\" x=\"709.5\" y=\"-37.8\" font-family=\"Helvetica,sans-Serif\" font-size=\"14.00\">samples = 15</text>\n<text text-anchor=\"start\" x=\"709.5\" y=\"-22.8\" font-family=\"Helvetica,sans-Serif\" font-size=\"14.00\">value = [9, 6]</text>\n<text text-anchor=\"start\" x=\"725.5\" y=\"-7.8\" font-family=\"Helvetica,sans-Serif\" font-size=\"14.00\">class = 0</text>\n</g>\n<!-- 14&#45;&gt;16 -->\n<g id=\"edge16\" class=\"edge\">\n<title>14&#45;&gt;16</title>\n<path fill=\"none\" stroke=\"black\" d=\"M723.48,-103.73C727.79,-95.15 732.34,-86.09 736.68,-77.46\"/>\n<polygon fill=\"black\" stroke=\"black\" points=\"739.91,-78.81 741.27,-68.3 733.66,-75.66 739.91,-78.81\"/>\n</g>\n<!-- 18 -->\n<g id=\"node19\" class=\"node\">\n<title>18</title>\n<path fill=\"#f0b58b\" stroke=\"black\" d=\"M1096,-187C1096,-187 862,-187 862,-187 856,-187 850,-181 850,-175 850,-175 850,-116 850,-116 850,-110 856,-104 862,-104 862,-104 1096,-104 1096,-104 1102,-104 1108,-110 1108,-116 1108,-116 1108,-175 1108,-175 1108,-181 1102,-187 1096,-187\"/>\n<text text-anchor=\"start\" x=\"858\" y=\"-171.8\" font-family=\"Helvetica,sans-Serif\" font-size=\"14.00\">DiabetesPedigreeFunction ≤ 0.325</text>\n<text text-anchor=\"start\" x=\"935\" y=\"-156.8\" font-family=\"Helvetica,sans-Serif\" font-size=\"14.00\">gini = 0.414</text>\n<text text-anchor=\"start\" x=\"930.5\" y=\"-141.8\" font-family=\"Helvetica,sans-Serif\" font-size=\"14.00\">samples = 58</text>\n<text text-anchor=\"start\" x=\"921.5\" y=\"-126.8\" font-family=\"Helvetica,sans-Serif\" font-size=\"14.00\">value = [41, 17]</text>\n<text text-anchor=\"start\" x=\"946.5\" y=\"-111.8\" font-family=\"Helvetica,sans-Serif\" font-size=\"14.00\">class = 0</text>\n</g>\n<!-- 17&#45;&gt;18 -->\n<g id=\"edge18\" class=\"edge\">\n<title>17&#45;&gt;18</title>\n<path fill=\"none\" stroke=\"black\" d=\"M979,-222.91C979,-214.65 979,-205.86 979,-197.3\"/>\n<polygon fill=\"black\" stroke=\"black\" points=\"982.5,-197.02 979,-187.02 975.5,-197.02 982.5,-197.02\"/>\n</g>\n<!-- 21 -->\n<g id=\"node22\" class=\"node\">\n<title>21</title>\n<path fill=\"#a8d4f4\" stroke=\"black\" d=\"M1245.5,-187C1245.5,-187 1138.5,-187 1138.5,-187 1132.5,-187 1126.5,-181 1126.5,-175 1126.5,-175 1126.5,-116 1126.5,-116 1126.5,-110 1132.5,-104 1138.5,-104 1138.5,-104 1245.5,-104 1245.5,-104 1251.5,-104 1257.5,-110 1257.5,-116 1257.5,-116 1257.5,-175 1257.5,-175 1257.5,-181 1251.5,-187 1245.5,-187\"/>\n<text text-anchor=\"start\" x=\"1152\" y=\"-171.8\" font-family=\"Helvetica,sans-Serif\" font-size=\"14.00\">Age ≤ 59.0</text>\n<text text-anchor=\"start\" x=\"1148\" y=\"-156.8\" font-family=\"Helvetica,sans-Serif\" font-size=\"14.00\">gini = 0.461</text>\n<text text-anchor=\"start\" x=\"1139\" y=\"-141.8\" font-family=\"Helvetica,sans-Serif\" font-size=\"14.00\">samples = 100</text>\n<text text-anchor=\"start\" x=\"1134.5\" y=\"-126.8\" font-family=\"Helvetica,sans-Serif\" font-size=\"14.00\">value = [36, 64]</text>\n<text text-anchor=\"start\" x=\"1159.5\" y=\"-111.8\" font-family=\"Helvetica,sans-Serif\" font-size=\"14.00\">class = 1</text>\n</g>\n<!-- 17&#45;&gt;21 -->\n<g id=\"edge21\" class=\"edge\">\n<title>17&#45;&gt;21</title>\n<path fill=\"none\" stroke=\"black\" d=\"M1045.52,-226.96C1068.36,-214.42 1094.06,-200.3 1117.49,-187.43\"/>\n<polygon fill=\"black\" stroke=\"black\" points=\"1119.27,-190.44 1126.35,-182.56 1115.9,-184.31 1119.27,-190.44\"/>\n</g>\n<!-- 19 -->\n<g id=\"node20\" class=\"node\">\n<title>19</title>\n<path fill=\"#e78c49\" stroke=\"black\" d=\"M943,-68C943,-68 845,-68 845,-68 839,-68 833,-62 833,-56 833,-56 833,-12 833,-12 833,-6 839,0 845,0 845,0 943,0 943,0 949,0 955,-6 955,-12 955,-12 955,-56 955,-56 955,-62 949,-68 943,-68\"/>\n<text text-anchor=\"start\" x=\"850\" y=\"-52.8\" font-family=\"Helvetica,sans-Serif\" font-size=\"14.00\">gini = 0.142</text>\n<text text-anchor=\"start\" x=\"845.5\" y=\"-37.8\" font-family=\"Helvetica,sans-Serif\" font-size=\"14.00\">samples = 26</text>\n<text text-anchor=\"start\" x=\"841\" y=\"-22.8\" font-family=\"Helvetica,sans-Serif\" font-size=\"14.00\">value = [24, 2]</text>\n<text text-anchor=\"start\" x=\"861.5\" y=\"-7.8\" font-family=\"Helvetica,sans-Serif\" font-size=\"14.00\">class = 0</text>\n</g>\n<!-- 18&#45;&gt;19 -->\n<g id=\"edge19\" class=\"edge\">\n<title>18&#45;&gt;19</title>\n<path fill=\"none\" stroke=\"black\" d=\"M947.35,-103.73C940.41,-94.79 933.06,-85.32 926.1,-76.36\"/>\n<polygon fill=\"black\" stroke=\"black\" points=\"928.75,-74.05 919.85,-68.3 923.22,-78.35 928.75,-74.05\"/>\n</g>\n<!-- 20 -->\n<g id=\"node21\" class=\"node\">\n<title>20</title>\n<path fill=\"#fcf0e8\" stroke=\"black\" d=\"M1092.5,-68C1092.5,-68 985.5,-68 985.5,-68 979.5,-68 973.5,-62 973.5,-56 973.5,-56 973.5,-12 973.5,-12 973.5,-6 979.5,0 985.5,0 985.5,0 1092.5,0 1092.5,0 1098.5,0 1104.5,-6 1104.5,-12 1104.5,-12 1104.5,-56 1104.5,-56 1104.5,-62 1098.5,-68 1092.5,-68\"/>\n<text text-anchor=\"start\" x=\"995\" y=\"-52.8\" font-family=\"Helvetica,sans-Serif\" font-size=\"14.00\">gini = 0.498</text>\n<text text-anchor=\"start\" x=\"990.5\" y=\"-37.8\" font-family=\"Helvetica,sans-Serif\" font-size=\"14.00\">samples = 32</text>\n<text text-anchor=\"start\" x=\"981.5\" y=\"-22.8\" font-family=\"Helvetica,sans-Serif\" font-size=\"14.00\">value = [17, 15]</text>\n<text text-anchor=\"start\" x=\"1006.5\" y=\"-7.8\" font-family=\"Helvetica,sans-Serif\" font-size=\"14.00\">class = 0</text>\n</g>\n<!-- 18&#45;&gt;20 -->\n<g id=\"edge20\" class=\"edge\">\n<title>18&#45;&gt;20</title>\n<path fill=\"none\" stroke=\"black\" d=\"M1001.34,-103.73C1006.09,-95.06 1011.11,-85.9 1015.89,-77.18\"/>\n<polygon fill=\"black\" stroke=\"black\" points=\"1019.02,-78.75 1020.75,-68.3 1012.88,-75.39 1019.02,-78.75\"/>\n</g>\n<!-- 22 -->\n<g id=\"node23\" class=\"node\">\n<title>22</title>\n<path fill=\"#92c9f1\" stroke=\"black\" d=\"M1241.5,-68C1241.5,-68 1134.5,-68 1134.5,-68 1128.5,-68 1122.5,-62 1122.5,-56 1122.5,-56 1122.5,-12 1122.5,-12 1122.5,-6 1128.5,0 1134.5,0 1134.5,0 1241.5,0 1241.5,0 1247.5,0 1253.5,-6 1253.5,-12 1253.5,-12 1253.5,-56 1253.5,-56 1253.5,-62 1247.5,-68 1241.5,-68\"/>\n<text text-anchor=\"start\" x=\"1144\" y=\"-52.8\" font-family=\"Helvetica,sans-Serif\" font-size=\"14.00\">gini = 0.429</text>\n<text text-anchor=\"start\" x=\"1139.5\" y=\"-37.8\" font-family=\"Helvetica,sans-Serif\" font-size=\"14.00\">samples = 90</text>\n<text text-anchor=\"start\" x=\"1130.5\" y=\"-22.8\" font-family=\"Helvetica,sans-Serif\" font-size=\"14.00\">value = [28, 62]</text>\n<text text-anchor=\"start\" x=\"1155.5\" y=\"-7.8\" font-family=\"Helvetica,sans-Serif\" font-size=\"14.00\">class = 1</text>\n</g>\n<!-- 21&#45;&gt;22 -->\n<g id=\"edge22\" class=\"edge\">\n<title>21&#45;&gt;22</title>\n<path fill=\"none\" stroke=\"black\" d=\"M1190.51,-103.73C1190.21,-95.52 1189.89,-86.86 1189.59,-78.56\"/>\n<polygon fill=\"black\" stroke=\"black\" points=\"1193.08,-78.17 1189.22,-68.3 1186.08,-78.42 1193.08,-78.17\"/>\n</g>\n<!-- 23 -->\n<g id=\"node24\" class=\"node\">\n<title>23</title>\n<path fill=\"#eca06a\" stroke=\"black\" d=\"M1372.5,-68C1372.5,-68 1283.5,-68 1283.5,-68 1277.5,-68 1271.5,-62 1271.5,-56 1271.5,-56 1271.5,-12 1271.5,-12 1271.5,-6 1277.5,0 1283.5,0 1283.5,0 1372.5,0 1372.5,0 1378.5,0 1384.5,-6 1384.5,-12 1384.5,-12 1384.5,-56 1384.5,-56 1384.5,-62 1378.5,-68 1372.5,-68\"/>\n<text text-anchor=\"start\" x=\"1288.5\" y=\"-52.8\" font-family=\"Helvetica,sans-Serif\" font-size=\"14.00\">gini = 0.32</text>\n<text text-anchor=\"start\" x=\"1279.5\" y=\"-37.8\" font-family=\"Helvetica,sans-Serif\" font-size=\"14.00\">samples = 10</text>\n<text text-anchor=\"start\" x=\"1279.5\" y=\"-22.8\" font-family=\"Helvetica,sans-Serif\" font-size=\"14.00\">value = [8, 2]</text>\n<text text-anchor=\"start\" x=\"1295.5\" y=\"-7.8\" font-family=\"Helvetica,sans-Serif\" font-size=\"14.00\">class = 0</text>\n</g>\n<!-- 21&#45;&gt;23 -->\n<g id=\"edge23\" class=\"edge\">\n<title>21&#45;&gt;23</title>\n<path fill=\"none\" stroke=\"black\" d=\"M1242.64,-103.73C1254.42,-94.24 1266.95,-84.16 1278.67,-74.72\"/>\n<polygon fill=\"black\" stroke=\"black\" points=\"1281.05,-77.3 1286.64,-68.3 1276.66,-71.84 1281.05,-77.3\"/>\n</g>\n<!-- 25 -->\n<g id=\"node26\" class=\"node\">\n<title>25</title>\n<path fill=\"#e3f1fb\" stroke=\"black\" d=\"M1239.5,-425C1239.5,-425 1150.5,-425 1150.5,-425 1144.5,-425 1138.5,-419 1138.5,-413 1138.5,-413 1138.5,-354 1138.5,-354 1138.5,-348 1144.5,-342 1150.5,-342 1150.5,-342 1239.5,-342 1239.5,-342 1245.5,-342 1251.5,-348 1251.5,-354 1251.5,-354 1251.5,-413 1251.5,-413 1251.5,-419 1245.5,-425 1239.5,-425\"/>\n<text text-anchor=\"start\" x=\"1151\" y=\"-409.8\" font-family=\"Helvetica,sans-Serif\" font-size=\"14.00\">BMI ≤ 25.55</text>\n<text text-anchor=\"start\" x=\"1151\" y=\"-394.8\" font-family=\"Helvetica,sans-Serif\" font-size=\"14.00\">gini = 0.497</text>\n<text text-anchor=\"start\" x=\"1146.5\" y=\"-379.8\" font-family=\"Helvetica,sans-Serif\" font-size=\"14.00\">samples = 13</text>\n<text text-anchor=\"start\" x=\"1146.5\" y=\"-364.8\" font-family=\"Helvetica,sans-Serif\" font-size=\"14.00\">value = [6, 7]</text>\n<text text-anchor=\"start\" x=\"1162.5\" y=\"-349.8\" font-family=\"Helvetica,sans-Serif\" font-size=\"14.00\">class = 1</text>\n</g>\n<!-- 24&#45;&gt;25 -->\n<g id=\"edge25\" class=\"edge\">\n<title>24&#45;&gt;25</title>\n<path fill=\"none\" stroke=\"black\" d=\"M1195,-460.91C1195,-452.65 1195,-443.86 1195,-435.3\"/>\n<polygon fill=\"black\" stroke=\"black\" points=\"1198.5,-435.02 1195,-425.02 1191.5,-435.02 1198.5,-435.02\"/>\n</g>\n<!-- 28 -->\n<g id=\"node29\" class=\"node\">\n<title>28</title>\n<path fill=\"#48a5e7\" stroke=\"black\" d=\"M1577,-425C1577,-425 1361,-425 1361,-425 1355,-425 1349,-419 1349,-413 1349,-413 1349,-354 1349,-354 1349,-348 1355,-342 1361,-342 1361,-342 1577,-342 1577,-342 1583,-342 1589,-348 1589,-354 1589,-354 1589,-413 1589,-413 1589,-419 1583,-425 1577,-425\"/>\n<text text-anchor=\"start\" x=\"1357\" y=\"-409.8\" font-family=\"Helvetica,sans-Serif\" font-size=\"14.00\">DiabetesPedigreeFunction ≤ 0.3</text>\n<text text-anchor=\"start\" x=\"1425\" y=\"-394.8\" font-family=\"Helvetica,sans-Serif\" font-size=\"14.00\">gini = 0.133</text>\n<text text-anchor=\"start\" x=\"1420.5\" y=\"-379.8\" font-family=\"Helvetica,sans-Serif\" font-size=\"14.00\">samples = 70</text>\n<text text-anchor=\"start\" x=\"1416\" y=\"-364.8\" font-family=\"Helvetica,sans-Serif\" font-size=\"14.00\">value = [5, 65]</text>\n<text text-anchor=\"start\" x=\"1436.5\" y=\"-349.8\" font-family=\"Helvetica,sans-Serif\" font-size=\"14.00\">class = 1</text>\n</g>\n<!-- 24&#45;&gt;28 -->\n<g id=\"edge28\" class=\"edge\">\n<title>24&#45;&gt;28</title>\n<path fill=\"none\" stroke=\"black\" d=\"M1260.63,-473.48C1291.8,-460.16 1329.82,-443.93 1364.8,-428.99\"/>\n<polygon fill=\"black\" stroke=\"black\" points=\"1366.28,-432.17 1374.1,-425.02 1363.53,-425.73 1366.28,-432.17\"/>\n</g>\n<!-- 26 -->\n<g id=\"node27\" class=\"node\">\n<title>26</title>\n<path fill=\"#61b1ea\" stroke=\"black\" d=\"M1174.5,-298.5C1174.5,-298.5 1085.5,-298.5 1085.5,-298.5 1079.5,-298.5 1073.5,-292.5 1073.5,-286.5 1073.5,-286.5 1073.5,-242.5 1073.5,-242.5 1073.5,-236.5 1079.5,-230.5 1085.5,-230.5 1085.5,-230.5 1174.5,-230.5 1174.5,-230.5 1180.5,-230.5 1186.5,-236.5 1186.5,-242.5 1186.5,-242.5 1186.5,-286.5 1186.5,-286.5 1186.5,-292.5 1180.5,-298.5 1174.5,-298.5\"/>\n<text text-anchor=\"start\" x=\"1086\" y=\"-283.3\" font-family=\"Helvetica,sans-Serif\" font-size=\"14.00\">gini = 0.278</text>\n<text text-anchor=\"start\" x=\"1086\" y=\"-268.3\" font-family=\"Helvetica,sans-Serif\" font-size=\"14.00\">samples = 6</text>\n<text text-anchor=\"start\" x=\"1081.5\" y=\"-253.3\" font-family=\"Helvetica,sans-Serif\" font-size=\"14.00\">value = [1, 5]</text>\n<text text-anchor=\"start\" x=\"1097.5\" y=\"-238.3\" font-family=\"Helvetica,sans-Serif\" font-size=\"14.00\">class = 1</text>\n</g>\n<!-- 25&#45;&gt;26 -->\n<g id=\"edge26\" class=\"edge\">\n<title>25&#45;&gt;26</title>\n<path fill=\"none\" stroke=\"black\" d=\"M1172.45,-341.91C1166.26,-330.76 1159.53,-318.66 1153.3,-307.44\"/>\n<polygon fill=\"black\" stroke=\"black\" points=\"1156.34,-305.71 1148.43,-298.67 1150.22,-309.11 1156.34,-305.71\"/>\n</g>\n<!-- 27 -->\n<g id=\"node28\" class=\"node\">\n<title>27</title>\n<path fill=\"#efb388\" stroke=\"black\" d=\"M1305.5,-298.5C1305.5,-298.5 1216.5,-298.5 1216.5,-298.5 1210.5,-298.5 1204.5,-292.5 1204.5,-286.5 1204.5,-286.5 1204.5,-242.5 1204.5,-242.5 1204.5,-236.5 1210.5,-230.5 1216.5,-230.5 1216.5,-230.5 1305.5,-230.5 1305.5,-230.5 1311.5,-230.5 1317.5,-236.5 1317.5,-242.5 1317.5,-242.5 1317.5,-286.5 1317.5,-286.5 1317.5,-292.5 1311.5,-298.5 1305.5,-298.5\"/>\n<text text-anchor=\"start\" x=\"1217\" y=\"-283.3\" font-family=\"Helvetica,sans-Serif\" font-size=\"14.00\">gini = 0.408</text>\n<text text-anchor=\"start\" x=\"1217\" y=\"-268.3\" font-family=\"Helvetica,sans-Serif\" font-size=\"14.00\">samples = 7</text>\n<text text-anchor=\"start\" x=\"1212.5\" y=\"-253.3\" font-family=\"Helvetica,sans-Serif\" font-size=\"14.00\">value = [5, 2]</text>\n<text text-anchor=\"start\" x=\"1228.5\" y=\"-238.3\" font-family=\"Helvetica,sans-Serif\" font-size=\"14.00\">class = 0</text>\n</g>\n<!-- 25&#45;&gt;27 -->\n<g id=\"edge27\" class=\"edge\">\n<title>25&#45;&gt;27</title>\n<path fill=\"none\" stroke=\"black\" d=\"M1217.9,-341.91C1224.19,-330.76 1231.01,-318.66 1237.34,-307.44\"/>\n<polygon fill=\"black\" stroke=\"black\" points=\"1240.43,-309.1 1242.29,-298.67 1234.33,-305.66 1240.43,-309.1\"/>\n</g>\n<!-- 29 -->\n<g id=\"node30\" class=\"node\">\n<title>29</title>\n<path fill=\"#63b2ea\" stroke=\"black\" d=\"M1581.5,-306C1581.5,-306 1356.5,-306 1356.5,-306 1350.5,-306 1344.5,-300 1344.5,-294 1344.5,-294 1344.5,-235 1344.5,-235 1344.5,-229 1350.5,-223 1356.5,-223 1356.5,-223 1581.5,-223 1581.5,-223 1587.5,-223 1593.5,-229 1593.5,-235 1593.5,-235 1593.5,-294 1593.5,-294 1593.5,-300 1587.5,-306 1581.5,-306\"/>\n<text text-anchor=\"start\" x=\"1352.5\" y=\"-290.8\" font-family=\"Helvetica,sans-Serif\" font-size=\"14.00\">DiabetesPedigreeFunction ≤ 0.27</text>\n<text text-anchor=\"start\" x=\"1425\" y=\"-275.8\" font-family=\"Helvetica,sans-Serif\" font-size=\"14.00\">gini = 0.287</text>\n<text text-anchor=\"start\" x=\"1420.5\" y=\"-260.8\" font-family=\"Helvetica,sans-Serif\" font-size=\"14.00\">samples = 23</text>\n<text text-anchor=\"start\" x=\"1416\" y=\"-245.8\" font-family=\"Helvetica,sans-Serif\" font-size=\"14.00\">value = [4, 19]</text>\n<text text-anchor=\"start\" x=\"1436.5\" y=\"-230.8\" font-family=\"Helvetica,sans-Serif\" font-size=\"14.00\">class = 1</text>\n</g>\n<!-- 28&#45;&gt;29 -->\n<g id=\"edge29\" class=\"edge\">\n<title>28&#45;&gt;29</title>\n<path fill=\"none\" stroke=\"black\" d=\"M1469,-341.91C1469,-333.65 1469,-324.86 1469,-316.3\"/>\n<polygon fill=\"black\" stroke=\"black\" points=\"1472.5,-316.02 1469,-306.02 1465.5,-316.02 1472.5,-316.02\"/>\n</g>\n<!-- 34 -->\n<g id=\"node35\" class=\"node\">\n<title>34</title>\n<path fill=\"#3d9fe6\" stroke=\"black\" d=\"M1864,-306C1864,-306 1630,-306 1630,-306 1624,-306 1618,-300 1618,-294 1618,-294 1618,-235 1618,-235 1618,-229 1624,-223 1630,-223 1630,-223 1864,-223 1864,-223 1870,-223 1876,-229 1876,-235 1876,-235 1876,-294 1876,-294 1876,-300 1870,-306 1864,-306\"/>\n<text text-anchor=\"start\" x=\"1626\" y=\"-290.8\" font-family=\"Helvetica,sans-Serif\" font-size=\"14.00\">DiabetesPedigreeFunction ≤ 1.113</text>\n<text text-anchor=\"start\" x=\"1703\" y=\"-275.8\" font-family=\"Helvetica,sans-Serif\" font-size=\"14.00\">gini = 0.042</text>\n<text text-anchor=\"start\" x=\"1698.5\" y=\"-260.8\" font-family=\"Helvetica,sans-Serif\" font-size=\"14.00\">samples = 47</text>\n<text text-anchor=\"start\" x=\"1694\" y=\"-245.8\" font-family=\"Helvetica,sans-Serif\" font-size=\"14.00\">value = [1, 46]</text>\n<text text-anchor=\"start\" x=\"1714.5\" y=\"-230.8\" font-family=\"Helvetica,sans-Serif\" font-size=\"14.00\">class = 1</text>\n</g>\n<!-- 28&#45;&gt;34 -->\n<g id=\"edge34\" class=\"edge\">\n<title>28&#45;&gt;34</title>\n<path fill=\"none\" stroke=\"black\" d=\"M1565.45,-341.91C1589.92,-331.61 1616.35,-320.49 1641.25,-310\"/>\n<polygon fill=\"black\" stroke=\"black\" points=\"1642.86,-313.13 1650.72,-306.02 1640.15,-306.67 1642.86,-313.13\"/>\n</g>\n<!-- 30 -->\n<g id=\"node31\" class=\"node\">\n<title>30</title>\n<path fill=\"#45a3e7\" stroke=\"black\" d=\"M1524,-187C1524,-187 1404,-187 1404,-187 1398,-187 1392,-181 1392,-175 1392,-175 1392,-116 1392,-116 1392,-110 1398,-104 1404,-104 1404,-104 1524,-104 1524,-104 1530,-104 1536,-110 1536,-116 1536,-116 1536,-175 1536,-175 1536,-181 1530,-187 1524,-187\"/>\n<text text-anchor=\"start\" x=\"1400\" y=\"-171.8\" font-family=\"Helvetica,sans-Serif\" font-size=\"14.00\">Pregnancies ≤ 7.5</text>\n<text text-anchor=\"start\" x=\"1420\" y=\"-156.8\" font-family=\"Helvetica,sans-Serif\" font-size=\"14.00\">gini = 0.105</text>\n<text text-anchor=\"start\" x=\"1415.5\" y=\"-141.8\" font-family=\"Helvetica,sans-Serif\" font-size=\"14.00\">samples = 18</text>\n<text text-anchor=\"start\" x=\"1411\" y=\"-126.8\" font-family=\"Helvetica,sans-Serif\" font-size=\"14.00\">value = [1, 17]</text>\n<text text-anchor=\"start\" x=\"1431.5\" y=\"-111.8\" font-family=\"Helvetica,sans-Serif\" font-size=\"14.00\">class = 1</text>\n</g>\n<!-- 29&#45;&gt;30 -->\n<g id=\"edge30\" class=\"edge\">\n<title>29&#45;&gt;30</title>\n<path fill=\"none\" stroke=\"black\" d=\"M1467.27,-222.91C1466.91,-214.56 1466.53,-205.67 1466.16,-197.02\"/>\n<polygon fill=\"black\" stroke=\"black\" points=\"1469.66,-196.86 1465.73,-187.02 1462.66,-197.16 1469.66,-196.86\"/>\n</g>\n<!-- 33 -->\n<g id=\"node34\" class=\"node\">\n<title>33</title>\n<path fill=\"#f6d5bd\" stroke=\"black\" d=\"M1655.5,-179.5C1655.5,-179.5 1566.5,-179.5 1566.5,-179.5 1560.5,-179.5 1554.5,-173.5 1554.5,-167.5 1554.5,-167.5 1554.5,-123.5 1554.5,-123.5 1554.5,-117.5 1560.5,-111.5 1566.5,-111.5 1566.5,-111.5 1655.5,-111.5 1655.5,-111.5 1661.5,-111.5 1667.5,-117.5 1667.5,-123.5 1667.5,-123.5 1667.5,-167.5 1667.5,-167.5 1667.5,-173.5 1661.5,-179.5 1655.5,-179.5\"/>\n<text text-anchor=\"start\" x=\"1571.5\" y=\"-164.3\" font-family=\"Helvetica,sans-Serif\" font-size=\"14.00\">gini = 0.48</text>\n<text text-anchor=\"start\" x=\"1567\" y=\"-149.3\" font-family=\"Helvetica,sans-Serif\" font-size=\"14.00\">samples = 5</text>\n<text text-anchor=\"start\" x=\"1562.5\" y=\"-134.3\" font-family=\"Helvetica,sans-Serif\" font-size=\"14.00\">value = [3, 2]</text>\n<text text-anchor=\"start\" x=\"1578.5\" y=\"-119.3\" font-family=\"Helvetica,sans-Serif\" font-size=\"14.00\">class = 0</text>\n</g>\n<!-- 29&#45;&gt;33 -->\n<g id=\"edge33\" class=\"edge\">\n<title>29&#45;&gt;33</title>\n<path fill=\"none\" stroke=\"black\" d=\"M1518.27,-222.91C1532.73,-210.99 1548.53,-197.98 1562.91,-186.12\"/>\n<polygon fill=\"black\" stroke=\"black\" points=\"1565.25,-188.73 1570.75,-179.67 1560.8,-183.32 1565.25,-188.73\"/>\n</g>\n<!-- 31 -->\n<g id=\"node32\" class=\"node\">\n<title>31</title>\n<path fill=\"#399de5\" stroke=\"black\" d=\"M1513,-68C1513,-68 1415,-68 1415,-68 1409,-68 1403,-62 1403,-56 1403,-56 1403,-12 1403,-12 1403,-6 1409,0 1415,0 1415,0 1513,0 1513,0 1519,0 1525,-6 1525,-12 1525,-12 1525,-56 1525,-56 1525,-62 1519,-68 1513,-68\"/>\n<text text-anchor=\"start\" x=\"1429\" y=\"-52.8\" font-family=\"Helvetica,sans-Serif\" font-size=\"14.00\">gini = 0.0</text>\n<text text-anchor=\"start\" x=\"1415.5\" y=\"-37.8\" font-family=\"Helvetica,sans-Serif\" font-size=\"14.00\">samples = 13</text>\n<text text-anchor=\"start\" x=\"1411\" y=\"-22.8\" font-family=\"Helvetica,sans-Serif\" font-size=\"14.00\">value = [0, 13]</text>\n<text text-anchor=\"start\" x=\"1431.5\" y=\"-7.8\" font-family=\"Helvetica,sans-Serif\" font-size=\"14.00\">class = 1</text>\n</g>\n<!-- 30&#45;&gt;31 -->\n<g id=\"edge31\" class=\"edge\">\n<title>30&#45;&gt;31</title>\n<path fill=\"none\" stroke=\"black\" d=\"M1464,-103.73C1464,-95.52 1464,-86.86 1464,-78.56\"/>\n<polygon fill=\"black\" stroke=\"black\" points=\"1467.5,-78.3 1464,-68.3 1460.5,-78.3 1467.5,-78.3\"/>\n</g>\n<!-- 32 -->\n<g id=\"node33\" class=\"node\">\n<title>32</title>\n<path fill=\"#6ab6ec\" stroke=\"black\" d=\"M1644.5,-68C1644.5,-68 1555.5,-68 1555.5,-68 1549.5,-68 1543.5,-62 1543.5,-56 1543.5,-56 1543.5,-12 1543.5,-12 1543.5,-6 1549.5,0 1555.5,0 1555.5,0 1644.5,0 1644.5,0 1650.5,0 1656.5,-6 1656.5,-12 1656.5,-12 1656.5,-56 1656.5,-56 1656.5,-62 1650.5,-68 1644.5,-68\"/>\n<text text-anchor=\"start\" x=\"1560.5\" y=\"-52.8\" font-family=\"Helvetica,sans-Serif\" font-size=\"14.00\">gini = 0.32</text>\n<text text-anchor=\"start\" x=\"1556\" y=\"-37.8\" font-family=\"Helvetica,sans-Serif\" font-size=\"14.00\">samples = 5</text>\n<text text-anchor=\"start\" x=\"1551.5\" y=\"-22.8\" font-family=\"Helvetica,sans-Serif\" font-size=\"14.00\">value = [1, 4]</text>\n<text text-anchor=\"start\" x=\"1567.5\" y=\"-7.8\" font-family=\"Helvetica,sans-Serif\" font-size=\"14.00\">class = 1</text>\n</g>\n<!-- 30&#45;&gt;32 -->\n<g id=\"edge32\" class=\"edge\">\n<title>30&#45;&gt;32</title>\n<path fill=\"none\" stroke=\"black\" d=\"M1514.64,-103.73C1526.42,-94.24 1538.95,-84.16 1550.67,-74.72\"/>\n<polygon fill=\"black\" stroke=\"black\" points=\"1553.05,-77.3 1558.64,-68.3 1548.66,-71.84 1553.05,-77.3\"/>\n</g>\n<!-- 35 -->\n<g id=\"node36\" class=\"node\">\n<title>35</title>\n<path fill=\"#399de5\" stroke=\"black\" d=\"M1796,-179.5C1796,-179.5 1698,-179.5 1698,-179.5 1692,-179.5 1686,-173.5 1686,-167.5 1686,-167.5 1686,-123.5 1686,-123.5 1686,-117.5 1692,-111.5 1698,-111.5 1698,-111.5 1796,-111.5 1796,-111.5 1802,-111.5 1808,-117.5 1808,-123.5 1808,-123.5 1808,-167.5 1808,-167.5 1808,-173.5 1802,-179.5 1796,-179.5\"/>\n<text text-anchor=\"start\" x=\"1712\" y=\"-164.3\" font-family=\"Helvetica,sans-Serif\" font-size=\"14.00\">gini = 0.0</text>\n<text text-anchor=\"start\" x=\"1698.5\" y=\"-149.3\" font-family=\"Helvetica,sans-Serif\" font-size=\"14.00\">samples = 42</text>\n<text text-anchor=\"start\" x=\"1694\" y=\"-134.3\" font-family=\"Helvetica,sans-Serif\" font-size=\"14.00\">value = [0, 42]</text>\n<text text-anchor=\"start\" x=\"1714.5\" y=\"-119.3\" font-family=\"Helvetica,sans-Serif\" font-size=\"14.00\">class = 1</text>\n</g>\n<!-- 34&#45;&gt;35 -->\n<g id=\"edge35\" class=\"edge\">\n<title>34&#45;&gt;35</title>\n<path fill=\"none\" stroke=\"black\" d=\"M1747,-222.91C1747,-212.2 1747,-200.62 1747,-189.78\"/>\n<polygon fill=\"black\" stroke=\"black\" points=\"1750.5,-189.67 1747,-179.67 1743.5,-189.67 1750.5,-189.67\"/>\n</g>\n<!-- 36 -->\n<g id=\"node37\" class=\"node\">\n<title>36</title>\n<path fill=\"#6ab6ec\" stroke=\"black\" d=\"M1927.5,-179.5C1927.5,-179.5 1838.5,-179.5 1838.5,-179.5 1832.5,-179.5 1826.5,-173.5 1826.5,-167.5 1826.5,-167.5 1826.5,-123.5 1826.5,-123.5 1826.5,-117.5 1832.5,-111.5 1838.5,-111.5 1838.5,-111.5 1927.5,-111.5 1927.5,-111.5 1933.5,-111.5 1939.5,-117.5 1939.5,-123.5 1939.5,-123.5 1939.5,-167.5 1939.5,-167.5 1939.5,-173.5 1933.5,-179.5 1927.5,-179.5\"/>\n<text text-anchor=\"start\" x=\"1843.5\" y=\"-164.3\" font-family=\"Helvetica,sans-Serif\" font-size=\"14.00\">gini = 0.32</text>\n<text text-anchor=\"start\" x=\"1839\" y=\"-149.3\" font-family=\"Helvetica,sans-Serif\" font-size=\"14.00\">samples = 5</text>\n<text text-anchor=\"start\" x=\"1834.5\" y=\"-134.3\" font-family=\"Helvetica,sans-Serif\" font-size=\"14.00\">value = [1, 4]</text>\n<text text-anchor=\"start\" x=\"1850.5\" y=\"-119.3\" font-family=\"Helvetica,sans-Serif\" font-size=\"14.00\">class = 1</text>\n</g>\n<!-- 34&#45;&gt;36 -->\n<g id=\"edge36\" class=\"edge\">\n<title>34&#45;&gt;36</title>\n<path fill=\"none\" stroke=\"black\" d=\"M1794.18,-222.91C1807.91,-211.1 1822.89,-198.22 1836.56,-186.45\"/>\n<polygon fill=\"black\" stroke=\"black\" points=\"1839.15,-188.84 1844.45,-179.67 1834.58,-183.54 1839.15,-188.84\"/>\n</g>\n</g>\n</svg>\n",
      "text/plain": "<graphviz.sources.Source at 0x7f4e3722f0a0>"
     },
     "execution_count": 10,
     "metadata": {},
     "output_type": "execute_result"
    }
   ],
   "source": [
    "import graphviz\n",
    "from sklearn import tree\n",
    "dot_data = tree.export_graphviz(clf, out_file=None) \n",
    " \n",
    "dot_data = tree.export_graphviz(clf, out_file=None, \n",
    "                      feature_names=train_data.columns[:-1],  \n",
    "                      class_names=['0','1'],  \n",
    "                      filled=True, rounded=True,  \n",
    "                      special_characters=True) \n",
    "\n",
    "graph = graphviz.Source(dot_data)\n",
    "graph"
   ]
  },
  {
   "cell_type": "code",
   "execution_count": null,
   "metadata": {
    "ExecuteTime": {
     "start_time": "2023-10-29T20:36:45.788834013Z"
    }
   },
   "outputs": [],
   "source": []
  },
  {
   "cell_type": "markdown",
   "metadata": {},
   "source": [
    "### Aufgabe 2: Implementierung eines Decision Trees"
   ]
  },
  {
   "cell_type": "markdown",
   "metadata": {},
   "source": [
    "#### a) Berechnung der Gini impurity"
   ]
  },
  {
   "cell_type": "markdown",
   "metadata": {},
   "source": [
    "Schreiben Sie eine Funktion namens **gini_index**, die die (mit der Datensatzlänge) gewichtete Gini impurity für mehrere gegebene Datensätze berechnet. Die Datensätze werden in einer Liste namens groups übergeben und enthalten jeweils die Zielvariable (Klassenzuordnung) in der letzten Spalte. Die möglichen Klassen/Zielfunktionswerte werden in einer Liste namens classes übergeben.\n",
    "\n",
    "Vorgehen:\n",
    "- Berechnen Sie die Gesamtanzahl aller Datensätze in groups\n",
    "- Iterieren Sie über die Datensätze in groups und berechnen Sie für jeden Datensatz die Anteile $p_1,\\ldots,p_n$, mit der jede der Klassen $C_1,\\ldots,C_n$ vorkommt.\n",
    "- Berechnen Sie daraus die Gini impurity für jeden Datensatz: $Gini(X)= 1-\\sum_{i=1}^n p_i^2$\n",
    "- Gewichten Sie die erhaltenen Werte anhand der Datensatzlängen\n",
    "\n"
   ]
  },
  {
   "cell_type": "code",
   "execution_count": 42,
   "metadata": {
    "ExecuteTime": {
     "end_time": "2023-10-29T21:49:39.826848339Z",
     "start_time": "2023-10-29T21:49:39.796348044Z"
    }
   },
   "outputs": [],
   "source": [
    "def gini_index(groups, classes):\n",
    "    \"\"\"\n",
    "    returns the weighted gini impurity of the datasets contained in groups with respect to a target variable. \n",
    "    \n",
    "    Parameters:\n",
    "        groups (list): list of pandas dataframes representing the datasets. The last column of each dataframe contains the target variable\n",
    "        classes (list): list of all possible class values\n",
    "        \n",
    "    Returns:\n",
    "        gini index (float) of the data sets contained in groups with respect to the target values contained in classes\n",
    "    \"\"\"\n",
    "    \n",
    "    num_dataset = 0\n",
    "    p_sum = 0\n",
    "    for dataframe in groups:\n",
    "        num_dataset += dataframe.count().iloc[0]\n",
    "        for key in classes:\n",
    "            p_sum += (dataframe['t'].value_counts().iloc[key]/num_dataset)**2     \n",
    "        \n",
    "    Gini = 1 - p_sum\n",
    "    return Gini\n",
    "\n",
    "    "
   ]
  },
  {
   "cell_type": "markdown",
   "metadata": {},
   "source": [
    "#### b) Test der Funktion gini_index"
   ]
  },
  {
   "cell_type": "markdown",
   "metadata": {},
   "source": [
    "Testen Sie die Funktion gini_index anhand der folgenden beiden DataFrames. Berechnen Sie zunächst manuell das Ergebnis."
   ]
  },
  {
   "cell_type": "code",
   "execution_count": 38,
   "metadata": {
    "ExecuteTime": {
     "end_time": "2023-10-29T21:46:34.747551195Z",
     "start_time": "2023-10-29T21:46:34.725613330Z"
    }
   },
   "outputs": [],
   "source": [
    "X1 = pd.DataFrame({\"a\":[1,2,3,0,-1,2,1], \"t\": [0,1,0,0,2,0,2]})\n",
    "X2 = pd.DataFrame({\"b\": [0,-1,0,0,1], \"t\": [0,1,0,0,2]})"
   ]
  },
  {
   "cell_type": "code",
   "execution_count": 43,
   "metadata": {
    "ExecuteTime": {
     "end_time": "2023-10-29T21:49:43.212558510Z",
     "start_time": "2023-10-29T21:49:43.166557659Z"
    }
   },
   "outputs": [
    {
     "data": {
      "text/plain": "0.49503968253968256"
     },
     "execution_count": 43,
     "metadata": {},
     "output_type": "execute_result"
    }
   ],
   "source": [
    "gini_index( [X1,X2],[0,1,2])"
   ]
  },
  {
   "cell_type": "markdown",
   "metadata": {},
   "source": [
    "#### c) Binärer Split eines Datensatzes"
   ]
  },
  {
   "cell_type": "markdown",
   "metadata": {},
   "source": [
    "Scheiben Sie eine Funktion namens **split_data**, die den Split eines Datensatzes an einer gegebenen Spalte für einen  gegebenen Schwellwert realisiert."
   ]
  },
  {
   "cell_type": "code",
   "execution_count": 29,
   "metadata": {
    "ExecuteTime": {
     "end_time": "2023-10-29T21:14:27.833389706Z",
     "start_time": "2023-10-29T21:14:27.775304908Z"
    }
   },
   "outputs": [],
   "source": [
    "def split_data(col, thresh, X):\n",
    "    \"\"\"\n",
    "    Binary split of the dataset X by checking if X[col]<thresh or X[col]>= thresh, respectively.\n",
    "    All columns of X are assumed to be numeric.\n",
    "    \n",
    "    Parameters:\n",
    "        col: name of the split column\n",
    "        thresh: threshold for the split\n",
    "        X (pandas DataFrame): data set to be split\n",
    "        \n",
    "    Returns:\n",
    "        X_left, X_right (pandas DataFrames): data samples resulting from the split\n",
    "    \"\"\"\n",
    "    if X['col'] < thresh:\n",
    "        X_left = X.iloc[:,:col]\n",
    "        X_right = X.iloc[col:,:]\n",
    "    \n",
    "    return X_left, X_right"
   ]
  },
  {
   "cell_type": "markdown",
   "metadata": {},
   "source": [
    "#### d) Split eines Datensatzes"
   ]
  },
  {
   "cell_type": "markdown",
   "metadata": {},
   "source": [
    "Schreiben Sie eine Funktion namens **get_split**, die für einen Datensatz X (gegeben als DataFrame) ein Attribut und einen Schwellwert für den (binären) Split bestimmt, indem die gewichtete Gini impurity minimiert wird. Die Zielfunktionswerte befinden sich in der letzten Spalte von X und X habe ausschließlich numerische Spalten. Die Funktion soll den Spaltennamen des Attributs, den Schwellwert, den Wert für die gewichtete Gini impurity und die beiden aus dem Split resultierenden Datensätze zurückgeben."
   ]
  },
  {
   "cell_type": "code",
   "execution_count": 44,
   "metadata": {
    "ExecuteTime": {
     "end_time": "2023-10-29T22:00:27.742140142Z",
     "start_time": "2023-10-29T22:00:27.683676387Z"
    }
   },
   "outputs": [],
   "source": [
    "def get_split(X):\n",
    "    \"\"\"\n",
    "    Determines the split column and threshold by minimizing (weighted) Gini impurity\n",
    "    For each column, all possible values are considered as split threshold, and the column/value\n",
    "    resulting in the split with the lowest Gini impurity is returned.\n",
    "    \n",
    "    Parameters:\n",
    "        X (pandas DataFrame): training data containing the target values in the last column\n",
    "    \n",
    "    Returns:\n",
    "        col_opt: name of the split column\n",
    "        thresh_opt: split threshold\n",
    "        gini_opt: weighted Gini impurity associated with the split\n",
    "        g_left, g_right (pandas DataFrames): subsamples of X resulting from the split\n",
    "    \n",
    "    \"\"\"\n",
    "    \n",
    "    min_impurity = 1\n",
    "    min_column = 0\n",
    "    thresh = 69\n",
    "     \n",
    "    \n",
    "    for column in X.columns:\n",
    "        X_left, X_right = split_data(column, thresh, X)\n",
    "        curr_impurity = gini_index([X_left, X_right], X.colums)\n",
    "        if curr_impurity < min_impurity:\n",
    "            min_impurity = curr_impurity\n",
    "            min_column = column\n",
    "            \n",
    "    return min_column, thresh, min_impurity, split_data(min_column, thresh, X)"
   ]
  },
  {
   "cell_type": "markdown",
   "metadata": {},
   "source": [
    "#### e) Implementierung eines Decision Trees "
   ]
  },
  {
   "cell_type": "markdown",
   "metadata": {},
   "source": [
    "Im folgenden ist eine rekursive Node-Klasse und eine Decision-Tree-Klasse basierend auf den oben geschriebenen Funktionen realisiert worden. Vollziehen Sie den Code nach und vervollständigen Sie die Methode **predict**."
   ]
  },
  {
   "cell_type": "code",
   "execution_count": null,
   "metadata": {
    "ExecuteTime": {
     "start_time": "2023-10-29T20:36:45.877476401Z"
    }
   },
   "outputs": [],
   "source": [
    "class Node:\n",
    "    \"\"\"\n",
    "    A recursive node class for building a binary decision tree based on training data having numeric features\n",
    "    \"\"\"\n",
    "    \n",
    "    def __init__(self,  data):\n",
    "        self.data = data\n",
    "        self.split_column = None\n",
    "        self.thresh = np.inf\n",
    "        self.gini = np.inf\n",
    "        self.left_child = None\n",
    "        self.right_child = None\n",
    "        self.prediction = None\n",
    "        self.class_probabilities = None\n",
    "        \n",
    "    def to_terminal(self):\n",
    "        \"\"\"\n",
    "        mark the current node as a leaf (=terminal node)\n",
    "        the prediction associated with this leaf is the most frequent class in the leaf\n",
    "        the class probabilities associated with the leaf are given by the relative frequencies of the classes in the leaf\n",
    "        \"\"\"\n",
    "        \n",
    "        self.prediction = self.data.iloc[:,-1].value_counts().idxmax()\n",
    "        self.class_probabilities = self.data.iloc[:,-1].value_counts(normalize=True).sort_index()\n",
    "    \n",
    "    def split(self, max_depth, min_samples_leaf, depth):\n",
    "        \"\"\"\n",
    "        This function function is used to recursively build the decision tree. In each split, the split attribute is determined \n",
    "        by minimizing the (weighted) Gini impurity for the subsamples resulting from the split.\n",
    "        \"\"\"\n",
    "        \n",
    "        #determine split attribute and samples resulting from this split\n",
    "        self.split_column, self.thresh, self.gini, data_left, data_right = get_split(self.data)\n",
    "        \n",
    "        if data_left.shape[0]==0 or data_right.shape[0]==0:\n",
    "            self.to_terminal()\n",
    "            return\n",
    "        else:       \n",
    "            #pre pruning\n",
    "            if depth >= max_depth:\n",
    "                self.to_terminal()\n",
    "                return \n",
    "            \n",
    "            if data_left.shape[0] < min_samples_leaf:\n",
    "                self.to_terminal()\n",
    "                return\n",
    "            else:\n",
    "                #create new left node and call split method recursively\n",
    "                self.left_child = Node(data_left)\n",
    "                self.left_child.split(max_depth, min_samples_leaf, depth+1)\n",
    "                   \n",
    "            #pre pruning\n",
    "            if data_right.shape[0]<min_samples_leaf:\n",
    "                self.to_terminal()\n",
    "                return\n",
    "            else:\n",
    "                #create new right node and call split method recursively\n",
    "                self.right_child = Node(data_right)\n",
    "                self.right_child.split(max_depth, min_samples_leaf, depth+1)\n",
    "        self.data = None\n",
    "           \n",
    "\n",
    "    def predict(self, row): \n",
    "        \"\"\"\n",
    "        For a given sample, recursively navigate through the tree to find the leaf node to which it belongs. Then, return the class \n",
    "        associated with the leaf node.\n",
    "        \n",
    "        Parameters: \n",
    "            row (array-like): query point\n",
    "            \n",
    "        Returns:\n",
    "            predicted class for query point row\n",
    "        \"\"\"\n",
    "        \n",
    "        #TODO\n",
    "\n",
    "    def predict_proba(self, row, classes):\n",
    "        \"\"\"\n",
    "        For a given sample named row, recursively navigate through the tree to find the leaf node to which it belongs. \n",
    "        Then, return the class probabilities associated with the leaf node.\n",
    "        \"\"\"\n",
    "        \n",
    "        if self.left_child is None or self.right_child is None:\n",
    "            return self.class_probabilities.reindex(classes, fill_value=0.0).values\n",
    "        else:   \n",
    "            if row[self.split_columns]< self.thresh:\n",
    "                return self.left_child.predict_proba(row, classes)\n",
    "            else:\n",
    "                return self.right_child.predict_proba(row, classes)\n",
    "  \n",
    "        \n",
    "    def print_node(self, depth=0):\n",
    "        \"\"\"\n",
    "        Print decisions for the subtree associated with the current node\n",
    "        \"\"\"\n",
    "        \n",
    "        if self.prediction is not None:\n",
    "            print('%s[%s]' % ((depth*' ', self.prediction)))\n",
    "        else:\n",
    "            print('%s X[%s]< %.3f' % ((depth*' ', self.split_column, self.thresh)))\n",
    "            self.left_child.print_node(depth+1)\n",
    "            self.right_child.print_node(depth+1)\n",
    "    \n",
    "    \n",
    "    def print_node_dot(self, depth = 0, label='0', s=''):\n",
    "        \"\"\"\n",
    "        Print info in DOT graph description languange for visualization with graphviz\n",
    "        \"\"\"\n",
    "        \n",
    "        \n",
    "        if self.prediction is not None:\n",
    "            s_leaf = label+ ' [label=<class: %d<br/>gini=%.3f>] ;' % (self.prediction, self.gini) \n",
    "            return s_leaf\n",
    "        else:\n",
    "            s_node = label+ ' [label=<X[%s]&lt;%.3f<br/>gini=%.3f>] ;' % (self.split_column, self.thresh, self.gini)\n",
    "            s_node_left = self.left_child.print_node_dot(depth+1, label+'0', s)\n",
    "            s_node_right = self.right_child.print_node_dot(depth+1, label+'1', s)\n",
    "           \n",
    "            s_edge_left = label+ '->' +label+'0 [labeldistance=2.5, labelangle=45, headlabel=\"True\"];'\n",
    "            s_edge_right = label+ '->'+label+'1 [labeldistance=2.5, labelangle=-45, headlabel=\"False\"];'\n",
    "            \n",
    "            return s + s_node+ \"\\n\" + s_node_left+ \"\\n\" + s_node_right+ \"\\n\" + s_edge_left+ \"\\n\" + s_edge_right\n",
    "            \n",
    "\n"
   ]
  },
  {
   "cell_type": "code",
   "execution_count": null,
   "metadata": {
    "ExecuteTime": {
     "start_time": "2023-10-29T20:36:45.878899768Z"
    }
   },
   "outputs": [],
   "source": [
    "class DecisionTree:\n",
    "    \"\"\"\n",
    "    Binary Decision Tree for datasets having continuous features\n",
    "    \"\"\"\n",
    "        \n",
    "    def __init__(self, max_depth, min_samples_leaf):\n",
    "        self.root = None\n",
    "        self.classes = None\n",
    "        self.max_depth = max_depth\n",
    "        self.min_samples_leaf = min_samples_leaf \n",
    "        \n",
    "    def fit(self, data):\n",
    "        \"\"\"\n",
    "        construct the decision tree using the data set data by calling the splid method \n",
    "        of the node class on the root node\n",
    "        \"\"\"\n",
    "        \n",
    "        self.root = Node(data)\n",
    "        self.classes = data.iloc[:,-1].unique()\n",
    "        self.root.split(self.max_depth, self.min_samples_leaf, 0)\n",
    "    \n",
    "    def predict(self, X):\n",
    "        \"\"\"\n",
    "        Predict classes for all samples in X\n",
    "        \"\"\"\n",
    "        return X.apply(self.root.predict, axis=1)\n",
    "    \n",
    "    def print_tree(self):\n",
    "        \"\"\"\n",
    "        Print decisions of the decision tree\n",
    "        \"\"\"\n",
    "        self.root.print_node()\n",
    "    \n",
    "    def print_tree_graphviz(self):\n",
    "        \"\"\"\n",
    "        Print dot data associate with the decision tree to visualize it with graphviz\n",
    "        \"\"\"\n",
    "        \n",
    "        s1=\"\"\"digraph Tree {\n",
    "node [shape=box, style=\"filled, rounded\", fillcolor=\"#e58139ff\", fontname=helvetica] ;\n",
    "edge [fontname=helvetica] ;\"\"\"\n",
    "        s2 = \"\"\"}\"\"\"\n",
    "        return s1+self.root.print_node_dot(0)+s2\n",
    "    \n",
    "    def predict_proba(self, X):\n",
    "        \"\"\"\n",
    "        Predict class probabilities for all samples contained in X\n",
    "        \"\"\"\n",
    "        \n",
    "        return X.apply(self.root.predict_proba, args=(self.classes,), axis=1)"
   ]
  },
  {
   "cell_type": "markdown",
   "metadata": {},
   "source": [
    "#### f) Test der Decision Tree - Klasse"
   ]
  },
  {
   "cell_type": "markdown",
   "metadata": {},
   "source": [
    "Testen Sie die Decision Tree Klasse am Beispiel des Iris-Datensatzes, indem Sie den folgenden Code ausführen."
   ]
  },
  {
   "cell_type": "code",
   "execution_count": null,
   "metadata": {
    "ExecuteTime": {
     "end_time": "2023-10-29T20:36:45.893924667Z",
     "start_time": "2023-10-29T20:36:45.880210066Z"
    }
   },
   "outputs": [],
   "source": [
    "from sklearn import datasets\n",
    "from sklearn.model_selection import train_test_split\n",
    "\n",
    "iris = datasets.load_iris()"
   ]
  },
  {
   "cell_type": "code",
   "execution_count": null,
   "metadata": {
    "ExecuteTime": {
     "start_time": "2023-10-29T20:36:45.880906602Z"
    }
   },
   "outputs": [],
   "source": [
    "X = pd.DataFrame(np.concatenate((iris.data, iris.target.reshape(150,1)), axis=1))\n",
    "X_train, X_test = train_test_split(X, test_size = 0.3)"
   ]
  },
  {
   "cell_type": "code",
   "execution_count": null,
   "metadata": {
    "ExecuteTime": {
     "start_time": "2023-10-29T20:36:45.881488454Z"
    }
   },
   "outputs": [],
   "source": [
    "tree = DecisionTree(2,5)\n",
    "tree.fit(X_train)"
   ]
  },
  {
   "cell_type": "code",
   "execution_count": null,
   "metadata": {
    "ExecuteTime": {
     "start_time": "2023-10-29T20:36:45.882201429Z"
    }
   },
   "outputs": [],
   "source": [
    "yhat = tree.predict(X_test)"
   ]
  },
  {
   "cell_type": "code",
   "execution_count": null,
   "metadata": {
    "ExecuteTime": {
     "start_time": "2023-10-29T20:36:45.882795276Z"
    }
   },
   "outputs": [],
   "source": [
    "yhat.head()"
   ]
  },
  {
   "cell_type": "code",
   "execution_count": null,
   "metadata": {
    "ExecuteTime": {
     "end_time": "2023-10-29T20:36:46.061146426Z",
     "start_time": "2023-10-29T20:36:45.920543075Z"
    }
   },
   "outputs": [],
   "source": [
    "sum(yhat == X_test.iloc[:,-1])/len(yhat)"
   ]
  },
  {
   "cell_type": "code",
   "execution_count": null,
   "metadata": {
    "ExecuteTime": {
     "start_time": "2023-10-29T20:36:45.921279018Z"
    }
   },
   "outputs": [],
   "source": [
    "tree.print_tree()"
   ]
  },
  {
   "cell_type": "code",
   "execution_count": null,
   "metadata": {
    "ExecuteTime": {
     "start_time": "2023-10-29T20:36:45.922374733Z"
    }
   },
   "outputs": [],
   "source": [
    "dot_data = tree.print_tree_graphviz()\n",
    "import graphviz\n",
    "graph = graphviz.Source(dot_data)\n",
    "graph"
   ]
  },
  {
   "cell_type": "code",
   "execution_count": null,
   "metadata": {
    "ExecuteTime": {
     "start_time": "2023-10-29T20:36:45.922934003Z"
    }
   },
   "outputs": [],
   "source": []
  }
 ],
 "metadata": {
  "kernelspec": {
   "display_name": "Python 3",
   "language": "python",
   "name": "python3"
  },
  "language_info": {
   "codemirror_mode": {
    "name": "ipython",
    "version": 3
   },
   "file_extension": ".py",
   "mimetype": "text/x-python",
   "name": "python",
   "nbconvert_exporter": "python",
   "pygments_lexer": "ipython3",
   "version": "3.11.6"
  }
 },
 "nbformat": 4,
 "nbformat_minor": 2
}
