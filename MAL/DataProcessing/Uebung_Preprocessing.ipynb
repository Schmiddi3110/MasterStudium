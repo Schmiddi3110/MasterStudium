{
 "cells": [
  {
   "cell_type": "code",
   "execution_count": 22,
   "metadata": {
    "ExecuteTime": {
     "end_time": "2023-12-05T16:57:18.802158600Z",
     "start_time": "2023-12-05T16:57:18.631013Z"
    }
   },
   "outputs": [],
   "source": [
    "import pandas as pd\n",
    "import numpy as np"
   ]
  },
  {
   "cell_type": "markdown",
   "metadata": {},
   "source": [
    "In dieser Übung soll ein Klassifikator zur Vorhersage, ob ein Titanic-Passagier überlebt hat oder nicht, implementiert werden."
   ]
  },
  {
   "cell_type": "markdown",
   "metadata": {},
   "source": [
    "#### Einlesen des Titanic-Datensatzes"
   ]
  },
  {
   "cell_type": "code",
   "execution_count": 23,
   "metadata": {
    "ExecuteTime": {
     "end_time": "2023-12-05T16:57:18.953788800Z",
     "start_time": "2023-12-05T16:57:18.643522Z"
    }
   },
   "outputs": [],
   "source": [
    "df = pd.read_csv('titanic.csv', usecols = ['pclass', 'survived','name','sex','age','fare'])"
   ]
  },
  {
   "cell_type": "code",
   "execution_count": 24,
   "metadata": {
    "ExecuteTime": {
     "end_time": "2023-12-05T16:57:18.956290800Z",
     "start_time": "2023-12-05T16:57:18.653030200Z"
    }
   },
   "outputs": [
    {
     "data": {
      "text/plain": "   pclass  survived                                             name     sex  \\\n0       1         1                    Allen, Miss. Elisabeth Walton  female   \n1       1         1                   Allison, Master. Hudson Trevor    male   \n2       1         0                     Allison, Miss. Helen Loraine  female   \n3       1         0             Allison, Mr. Hudson Joshua Creighton    male   \n4       1         0  Allison, Mrs. Hudson J C (Bessie Waldo Daniels)  female   \n\n       age      fare  \n0  29.0000  211.3375  \n1   0.9167  151.5500  \n2   2.0000  151.5500  \n3  30.0000  151.5500  \n4  25.0000  151.5500  ",
      "text/html": "<div>\n<style scoped>\n    .dataframe tbody tr th:only-of-type {\n        vertical-align: middle;\n    }\n\n    .dataframe tbody tr th {\n        vertical-align: top;\n    }\n\n    .dataframe thead th {\n        text-align: right;\n    }\n</style>\n<table border=\"1\" class=\"dataframe\">\n  <thead>\n    <tr style=\"text-align: right;\">\n      <th></th>\n      <th>pclass</th>\n      <th>survived</th>\n      <th>name</th>\n      <th>sex</th>\n      <th>age</th>\n      <th>fare</th>\n    </tr>\n  </thead>\n  <tbody>\n    <tr>\n      <th>0</th>\n      <td>1</td>\n      <td>1</td>\n      <td>Allen, Miss. Elisabeth Walton</td>\n      <td>female</td>\n      <td>29.0000</td>\n      <td>211.3375</td>\n    </tr>\n    <tr>\n      <th>1</th>\n      <td>1</td>\n      <td>1</td>\n      <td>Allison, Master. Hudson Trevor</td>\n      <td>male</td>\n      <td>0.9167</td>\n      <td>151.5500</td>\n    </tr>\n    <tr>\n      <th>2</th>\n      <td>1</td>\n      <td>0</td>\n      <td>Allison, Miss. Helen Loraine</td>\n      <td>female</td>\n      <td>2.0000</td>\n      <td>151.5500</td>\n    </tr>\n    <tr>\n      <th>3</th>\n      <td>1</td>\n      <td>0</td>\n      <td>Allison, Mr. Hudson Joshua Creighton</td>\n      <td>male</td>\n      <td>30.0000</td>\n      <td>151.5500</td>\n    </tr>\n    <tr>\n      <th>4</th>\n      <td>1</td>\n      <td>0</td>\n      <td>Allison, Mrs. Hudson J C (Bessie Waldo Daniels)</td>\n      <td>female</td>\n      <td>25.0000</td>\n      <td>151.5500</td>\n    </tr>\n  </tbody>\n</table>\n</div>"
     },
     "execution_count": 24,
     "metadata": {},
     "output_type": "execute_result"
    }
   ],
   "source": [
    "df.head()"
   ]
  },
  {
   "cell_type": "markdown",
   "metadata": {},
   "source": [
    "#### Train-Test-Split"
   ]
  },
  {
   "cell_type": "code",
   "execution_count": 25,
   "metadata": {
    "ExecuteTime": {
     "end_time": "2023-12-05T16:57:18.956290800Z",
     "start_time": "2023-12-05T16:57:18.662039Z"
    }
   },
   "outputs": [],
   "source": [
    "from sklearn.model_selection import train_test_split\n",
    "\n",
    "X_train, X_test = train_test_split(df, test_size=0.3, random_state=0)\n",
    "X_train = X_train.copy()\n",
    "X_test = X_test.copy()\n",
    "y_train = X_train['survived']\n",
    "y_test = X_test['survived']\n",
    "X_train = X_train.drop('survived', axis=1)\n",
    "X_test = X_test.drop('survived', axis=1)"
   ]
  },
  {
   "cell_type": "markdown",
   "metadata": {},
   "source": [
    "## Aufgabe 1"
   ]
  },
  {
   "cell_type": "markdown",
   "metadata": {},
   "source": [
    "#### a) Fehlende Werte"
   ]
  },
  {
   "cell_type": "markdown",
   "metadata": {},
   "source": [
    "Ermitteln Sie alle Spalten des DataFrame **df**, in denen es fehlende Werte gibt."
   ]
  },
  {
   "cell_type": "code",
   "execution_count": 26,
   "metadata": {
    "ExecuteTime": {
     "end_time": "2023-12-05T16:57:18.981312700Z",
     "start_time": "2023-12-05T16:57:18.670546100Z"
    }
   },
   "outputs": [
    {
     "data": {
      "text/plain": "Index(['age', 'fare'], dtype='object')"
     },
     "execution_count": 26,
     "metadata": {},
     "output_type": "execute_result"
    }
   ],
   "source": [
    "df.columns[df.isnull().any()]"
   ]
  },
  {
   "cell_type": "markdown",
   "metadata": {},
   "source": [
    "Arbeiten Sie bis einschließlich Teilaufgabe g) nur auf dem Trainingsdatensatz weiter."
   ]
  },
  {
   "cell_type": "markdown",
   "metadata": {},
   "source": [
    "#### b) Feature-Engineering"
   ]
  },
  {
   "cell_type": "markdown",
   "metadata": {},
   "source": [
    "Extrahieren Sie aus der Spalte **name** die Anrede des Passagiers als weiteres Feature und speichern Sie diese in einer neuen Spalte namens **title**. Verwenden Sie dazu die Methode <a href=\"https://pandas.pydata.org/pandas-docs/stable/reference/api/pandas.Series.str.extract.html\">pandas.Series.str.extract</a> und einen regulären Ausdruck. Entfernen Sie anschließend die Spalte **name** aus dem DataFrame."
   ]
  },
  {
   "cell_type": "code",
   "execution_count": 27,
   "metadata": {
    "ExecuteTime": {
     "end_time": "2023-12-05T16:57:18.983314500Z",
     "start_time": "2023-12-05T16:57:18.680053300Z"
    }
   },
   "outputs": [],
   "source": [
    "X_train[\"title\"] = df['name'].str.extract(r'([A-Za-z]+)\\.')\n",
    "X_train = X_train.drop('name', axis = 1)"
   ]
  },
  {
   "cell_type": "code",
   "execution_count": 28,
   "outputs": [
    {
     "data": {
      "text/plain": "      pclass     sex   age     fare title\n501        2  female  13.0  19.5000  Miss\n588        2  female   4.0  23.0000  Miss\n402        2  female  30.0  13.8583  Miss\n1193       3    male   NaN   7.7250    Mr\n686        3  female  22.0   7.7250  Miss",
      "text/html": "<div>\n<style scoped>\n    .dataframe tbody tr th:only-of-type {\n        vertical-align: middle;\n    }\n\n    .dataframe tbody tr th {\n        vertical-align: top;\n    }\n\n    .dataframe thead th {\n        text-align: right;\n    }\n</style>\n<table border=\"1\" class=\"dataframe\">\n  <thead>\n    <tr style=\"text-align: right;\">\n      <th></th>\n      <th>pclass</th>\n      <th>sex</th>\n      <th>age</th>\n      <th>fare</th>\n      <th>title</th>\n    </tr>\n  </thead>\n  <tbody>\n    <tr>\n      <th>501</th>\n      <td>2</td>\n      <td>female</td>\n      <td>13.0</td>\n      <td>19.5000</td>\n      <td>Miss</td>\n    </tr>\n    <tr>\n      <th>588</th>\n      <td>2</td>\n      <td>female</td>\n      <td>4.0</td>\n      <td>23.0000</td>\n      <td>Miss</td>\n    </tr>\n    <tr>\n      <th>402</th>\n      <td>2</td>\n      <td>female</td>\n      <td>30.0</td>\n      <td>13.8583</td>\n      <td>Miss</td>\n    </tr>\n    <tr>\n      <th>1193</th>\n      <td>3</td>\n      <td>male</td>\n      <td>NaN</td>\n      <td>7.7250</td>\n      <td>Mr</td>\n    </tr>\n    <tr>\n      <th>686</th>\n      <td>3</td>\n      <td>female</td>\n      <td>22.0</td>\n      <td>7.7250</td>\n      <td>Miss</td>\n    </tr>\n  </tbody>\n</table>\n</div>"
     },
     "execution_count": 28,
     "metadata": {},
     "output_type": "execute_result"
    }
   ],
   "source": [
    "X_train.head()"
   ],
   "metadata": {
    "collapsed": false,
    "ExecuteTime": {
     "end_time": "2023-12-05T16:57:18.985316100Z",
     "start_time": "2023-12-05T16:57:18.691063900Z"
    }
   }
  },
  {
   "cell_type": "markdown",
   "metadata": {},
   "source": [
    "#### c) Datentransformation"
   ]
  },
  {
   "cell_type": "markdown",
   "metadata": {},
   "source": [
    "Transformieren Sie die Spalte **sex**, indem Sie \"male\" durch \"0\" und \"female\" durch \"1\" ersetzen."
   ]
  },
  {
   "cell_type": "code",
   "execution_count": 29,
   "metadata": {
    "ExecuteTime": {
     "end_time": "2023-12-05T16:57:19.007835200Z",
     "start_time": "2023-12-05T16:57:18.703073500Z"
    }
   },
   "outputs": [
    {
     "data": {
      "text/plain": "      pclass  sex   age     fare title\n501        2    1  13.0  19.5000  Miss\n588        2    1   4.0  23.0000  Miss\n402        2    1  30.0  13.8583  Miss\n1193       3    0   NaN   7.7250    Mr\n686        3    1  22.0   7.7250  Miss",
      "text/html": "<div>\n<style scoped>\n    .dataframe tbody tr th:only-of-type {\n        vertical-align: middle;\n    }\n\n    .dataframe tbody tr th {\n        vertical-align: top;\n    }\n\n    .dataframe thead th {\n        text-align: right;\n    }\n</style>\n<table border=\"1\" class=\"dataframe\">\n  <thead>\n    <tr style=\"text-align: right;\">\n      <th></th>\n      <th>pclass</th>\n      <th>sex</th>\n      <th>age</th>\n      <th>fare</th>\n      <th>title</th>\n    </tr>\n  </thead>\n  <tbody>\n    <tr>\n      <th>501</th>\n      <td>2</td>\n      <td>1</td>\n      <td>13.0</td>\n      <td>19.5000</td>\n      <td>Miss</td>\n    </tr>\n    <tr>\n      <th>588</th>\n      <td>2</td>\n      <td>1</td>\n      <td>4.0</td>\n      <td>23.0000</td>\n      <td>Miss</td>\n    </tr>\n    <tr>\n      <th>402</th>\n      <td>2</td>\n      <td>1</td>\n      <td>30.0</td>\n      <td>13.8583</td>\n      <td>Miss</td>\n    </tr>\n    <tr>\n      <th>1193</th>\n      <td>3</td>\n      <td>0</td>\n      <td>NaN</td>\n      <td>7.7250</td>\n      <td>Mr</td>\n    </tr>\n    <tr>\n      <th>686</th>\n      <td>3</td>\n      <td>1</td>\n      <td>22.0</td>\n      <td>7.7250</td>\n      <td>Miss</td>\n    </tr>\n  </tbody>\n</table>\n</div>"
     },
     "execution_count": 29,
     "metadata": {},
     "output_type": "execute_result"
    }
   ],
   "source": [
    "X_train['sex'] = df['sex'].replace({'male': 0, 'female': 1})\n",
    "X_train.head()"
   ]
  },
  {
   "cell_type": "markdown",
   "metadata": {},
   "source": [
    "#### d) Imputation"
   ]
  },
  {
   "cell_type": "markdown",
   "metadata": {},
   "source": [
    "Ersetzen Sie unter Verwendung der Klasse <a href=\"https://scikit-learn.org/stable/modules/generated/sklearn.impute.SimpleImputer.html\">SimpleImputer</a> fehlende Werte in den Spalten **age** und **fare** durch die jeweiligen Spaltenmittelwerte. "
   ]
  },
  {
   "cell_type": "code",
   "execution_count": 30,
   "metadata": {
    "ExecuteTime": {
     "end_time": "2023-12-05T16:57:19.027853Z",
     "start_time": "2023-12-05T16:57:18.713582200Z"
    }
   },
   "outputs": [
    {
     "data": {
      "text/plain": "      pclass  sex        age     fare title\n501        2    1  13.000000  19.5000  Miss\n588        2    1   4.000000  23.0000  Miss\n402        2    1  30.000000  13.8583  Miss\n1193       3    0  30.231444   7.7250    Mr\n686        3    1  22.000000   7.7250  Miss",
      "text/html": "<div>\n<style scoped>\n    .dataframe tbody tr th:only-of-type {\n        vertical-align: middle;\n    }\n\n    .dataframe tbody tr th {\n        vertical-align: top;\n    }\n\n    .dataframe thead th {\n        text-align: right;\n    }\n</style>\n<table border=\"1\" class=\"dataframe\">\n  <thead>\n    <tr style=\"text-align: right;\">\n      <th></th>\n      <th>pclass</th>\n      <th>sex</th>\n      <th>age</th>\n      <th>fare</th>\n      <th>title</th>\n    </tr>\n  </thead>\n  <tbody>\n    <tr>\n      <th>501</th>\n      <td>2</td>\n      <td>1</td>\n      <td>13.000000</td>\n      <td>19.5000</td>\n      <td>Miss</td>\n    </tr>\n    <tr>\n      <th>588</th>\n      <td>2</td>\n      <td>1</td>\n      <td>4.000000</td>\n      <td>23.0000</td>\n      <td>Miss</td>\n    </tr>\n    <tr>\n      <th>402</th>\n      <td>2</td>\n      <td>1</td>\n      <td>30.000000</td>\n      <td>13.8583</td>\n      <td>Miss</td>\n    </tr>\n    <tr>\n      <th>1193</th>\n      <td>3</td>\n      <td>0</td>\n      <td>30.231444</td>\n      <td>7.7250</td>\n      <td>Mr</td>\n    </tr>\n    <tr>\n      <th>686</th>\n      <td>3</td>\n      <td>1</td>\n      <td>22.000000</td>\n      <td>7.7250</td>\n      <td>Miss</td>\n    </tr>\n  </tbody>\n</table>\n</div>"
     },
     "execution_count": 30,
     "metadata": {},
     "output_type": "execute_result"
    }
   ],
   "source": [
    "from sklearn.impute import SimpleImputer\n",
    "\n",
    "imputer = SimpleImputer(strategy='mean')\n",
    "X_train[['age', 'fare']] = imputer.fit_transform(X_train[['age', 'fare']])\n",
    "X_train.head()"
   ]
  },
  {
   "cell_type": "markdown",
   "metadata": {},
   "source": [
    "#### e) One Hot Encoding"
   ]
  },
  {
   "cell_type": "markdown",
   "metadata": {},
   "source": [
    "Transformieren Sie die Spalte **title**, indem Sie alle Werte, die nicht zu\n",
    "den vier häufigsten Ausprägungen gehören, durch \"other\" ersetzen. Erzeugen Sie anschließend\n",
    "durch One Hot Encoding für jede Ausprägung von **title** eine neue Spalte, in der binär kodiert ist,\n",
    "ob bei einem Passagier die jeweilige Ausprägung vorliegt oder nicht. Entfernen Sie anschließend die Spalte **title**.\n",
    "\n",
    "Hinweise: pandas.where, pandas.get_dummies"
   ]
  },
  {
   "cell_type": "code",
   "execution_count": 31,
   "metadata": {
    "ExecuteTime": {
     "end_time": "2023-12-05T16:57:19.030354700Z",
     "start_time": "2023-12-05T16:57:18.731098600Z"
    }
   },
   "outputs": [],
   "source": [
    "top_titles = X_train['title'].value_counts().nlargest(4).index\n",
    "X_train['title'] = X_train['title'].where(X_train['title'].isin(top_titles), 'other')\n",
    "\n",
    "title_dummies = pd.get_dummies(X_train['title'], prefix='title')\n",
    "\n",
    "# Hinzufügen der neuen Spalten zum DataFrame\n",
    "X_train = pd.concat([X_train, title_dummies], axis=1)\n",
    "\n",
    "# Entfernen der ursprünglichen \"title\"-Spalte\n",
    "X_train = X_train.drop('title', axis=1)"
   ]
  },
  {
   "cell_type": "code",
   "execution_count": 32,
   "outputs": [
    {
     "data": {
      "text/plain": "      pclass  sex        age     fare  title_Master  title_Miss  title_Mr  \\\n501        2    1  13.000000  19.5000         False        True     False   \n588        2    1   4.000000  23.0000         False        True     False   \n402        2    1  30.000000  13.8583         False        True     False   \n1193       3    0  30.231444   7.7250         False       False      True   \n686        3    1  22.000000   7.7250         False        True     False   \n\n      title_Mrs  title_other  \n501       False        False  \n588       False        False  \n402       False        False  \n1193      False        False  \n686       False        False  ",
      "text/html": "<div>\n<style scoped>\n    .dataframe tbody tr th:only-of-type {\n        vertical-align: middle;\n    }\n\n    .dataframe tbody tr th {\n        vertical-align: top;\n    }\n\n    .dataframe thead th {\n        text-align: right;\n    }\n</style>\n<table border=\"1\" class=\"dataframe\">\n  <thead>\n    <tr style=\"text-align: right;\">\n      <th></th>\n      <th>pclass</th>\n      <th>sex</th>\n      <th>age</th>\n      <th>fare</th>\n      <th>title_Master</th>\n      <th>title_Miss</th>\n      <th>title_Mr</th>\n      <th>title_Mrs</th>\n      <th>title_other</th>\n    </tr>\n  </thead>\n  <tbody>\n    <tr>\n      <th>501</th>\n      <td>2</td>\n      <td>1</td>\n      <td>13.000000</td>\n      <td>19.5000</td>\n      <td>False</td>\n      <td>True</td>\n      <td>False</td>\n      <td>False</td>\n      <td>False</td>\n    </tr>\n    <tr>\n      <th>588</th>\n      <td>2</td>\n      <td>1</td>\n      <td>4.000000</td>\n      <td>23.0000</td>\n      <td>False</td>\n      <td>True</td>\n      <td>False</td>\n      <td>False</td>\n      <td>False</td>\n    </tr>\n    <tr>\n      <th>402</th>\n      <td>2</td>\n      <td>1</td>\n      <td>30.000000</td>\n      <td>13.8583</td>\n      <td>False</td>\n      <td>True</td>\n      <td>False</td>\n      <td>False</td>\n      <td>False</td>\n    </tr>\n    <tr>\n      <th>1193</th>\n      <td>3</td>\n      <td>0</td>\n      <td>30.231444</td>\n      <td>7.7250</td>\n      <td>False</td>\n      <td>False</td>\n      <td>True</td>\n      <td>False</td>\n      <td>False</td>\n    </tr>\n    <tr>\n      <th>686</th>\n      <td>3</td>\n      <td>1</td>\n      <td>22.000000</td>\n      <td>7.7250</td>\n      <td>False</td>\n      <td>True</td>\n      <td>False</td>\n      <td>False</td>\n      <td>False</td>\n    </tr>\n  </tbody>\n</table>\n</div>"
     },
     "execution_count": 32,
     "metadata": {},
     "output_type": "execute_result"
    }
   ],
   "source": [
    "X_train.head()"
   ],
   "metadata": {
    "collapsed": false,
    "ExecuteTime": {
     "end_time": "2023-12-05T16:57:19.036359300Z",
     "start_time": "2023-12-05T16:57:18.738604800Z"
    }
   }
  },
  {
   "cell_type": "markdown",
   "metadata": {},
   "source": [
    "#### f) Modelltraining"
   ]
  },
  {
   "cell_type": "markdown",
   "metadata": {},
   "source": [
    "Trainieren Sie auf dem Trainingsdatensatz ein logistisches Regressionsmodell."
   ]
  },
  {
   "cell_type": "code",
   "execution_count": 33,
   "metadata": {
    "ExecuteTime": {
     "end_time": "2023-12-05T16:57:19.096411300Z",
     "start_time": "2023-12-05T16:57:18.751614700Z"
    }
   },
   "outputs": [
    {
     "data": {
      "text/plain": "LogisticRegression(max_iter=4000, random_state=0)",
      "text/html": "<style>#sk-container-id-2 {color: black;}#sk-container-id-2 pre{padding: 0;}#sk-container-id-2 div.sk-toggleable {background-color: white;}#sk-container-id-2 label.sk-toggleable__label {cursor: pointer;display: block;width: 100%;margin-bottom: 0;padding: 0.3em;box-sizing: border-box;text-align: center;}#sk-container-id-2 label.sk-toggleable__label-arrow:before {content: \"▸\";float: left;margin-right: 0.25em;color: #696969;}#sk-container-id-2 label.sk-toggleable__label-arrow:hover:before {color: black;}#sk-container-id-2 div.sk-estimator:hover label.sk-toggleable__label-arrow:before {color: black;}#sk-container-id-2 div.sk-toggleable__content {max-height: 0;max-width: 0;overflow: hidden;text-align: left;background-color: #f0f8ff;}#sk-container-id-2 div.sk-toggleable__content pre {margin: 0.2em;color: black;border-radius: 0.25em;background-color: #f0f8ff;}#sk-container-id-2 input.sk-toggleable__control:checked~div.sk-toggleable__content {max-height: 200px;max-width: 100%;overflow: auto;}#sk-container-id-2 input.sk-toggleable__control:checked~label.sk-toggleable__label-arrow:before {content: \"▾\";}#sk-container-id-2 div.sk-estimator input.sk-toggleable__control:checked~label.sk-toggleable__label {background-color: #d4ebff;}#sk-container-id-2 div.sk-label input.sk-toggleable__control:checked~label.sk-toggleable__label {background-color: #d4ebff;}#sk-container-id-2 input.sk-hidden--visually {border: 0;clip: rect(1px 1px 1px 1px);clip: rect(1px, 1px, 1px, 1px);height: 1px;margin: -1px;overflow: hidden;padding: 0;position: absolute;width: 1px;}#sk-container-id-2 div.sk-estimator {font-family: monospace;background-color: #f0f8ff;border: 1px dotted black;border-radius: 0.25em;box-sizing: border-box;margin-bottom: 0.5em;}#sk-container-id-2 div.sk-estimator:hover {background-color: #d4ebff;}#sk-container-id-2 div.sk-parallel-item::after {content: \"\";width: 100%;border-bottom: 1px solid gray;flex-grow: 1;}#sk-container-id-2 div.sk-label:hover label.sk-toggleable__label {background-color: #d4ebff;}#sk-container-id-2 div.sk-serial::before {content: \"\";position: absolute;border-left: 1px solid gray;box-sizing: border-box;top: 0;bottom: 0;left: 50%;z-index: 0;}#sk-container-id-2 div.sk-serial {display: flex;flex-direction: column;align-items: center;background-color: white;padding-right: 0.2em;padding-left: 0.2em;position: relative;}#sk-container-id-2 div.sk-item {position: relative;z-index: 1;}#sk-container-id-2 div.sk-parallel {display: flex;align-items: stretch;justify-content: center;background-color: white;position: relative;}#sk-container-id-2 div.sk-item::before, #sk-container-id-2 div.sk-parallel-item::before {content: \"\";position: absolute;border-left: 1px solid gray;box-sizing: border-box;top: 0;bottom: 0;left: 50%;z-index: -1;}#sk-container-id-2 div.sk-parallel-item {display: flex;flex-direction: column;z-index: 1;position: relative;background-color: white;}#sk-container-id-2 div.sk-parallel-item:first-child::after {align-self: flex-end;width: 50%;}#sk-container-id-2 div.sk-parallel-item:last-child::after {align-self: flex-start;width: 50%;}#sk-container-id-2 div.sk-parallel-item:only-child::after {width: 0;}#sk-container-id-2 div.sk-dashed-wrapped {border: 1px dashed gray;margin: 0 0.4em 0.5em 0.4em;box-sizing: border-box;padding-bottom: 0.4em;background-color: white;}#sk-container-id-2 div.sk-label label {font-family: monospace;font-weight: bold;display: inline-block;line-height: 1.2em;}#sk-container-id-2 div.sk-label-container {text-align: center;}#sk-container-id-2 div.sk-container {/* jupyter's `normalize.less` sets `[hidden] { display: none; }` but bootstrap.min.css set `[hidden] { display: none !important; }` so we also need the `!important` here to be able to override the default hidden behavior on the sphinx rendered scikit-learn.org. See: https://github.com/scikit-learn/scikit-learn/issues/21755 */display: inline-block !important;position: relative;}#sk-container-id-2 div.sk-text-repr-fallback {display: none;}</style><div id=\"sk-container-id-2\" class=\"sk-top-container\"><div class=\"sk-text-repr-fallback\"><pre>LogisticRegression(max_iter=4000, random_state=0)</pre><b>In a Jupyter environment, please rerun this cell to show the HTML representation or trust the notebook. <br />On GitHub, the HTML representation is unable to render, please try loading this page with nbviewer.org.</b></div><div class=\"sk-container\" hidden><div class=\"sk-item\"><div class=\"sk-estimator sk-toggleable\"><input class=\"sk-toggleable__control sk-hidden--visually\" id=\"sk-estimator-id-2\" type=\"checkbox\" checked><label for=\"sk-estimator-id-2\" class=\"sk-toggleable__label sk-toggleable__label-arrow\">LogisticRegression</label><div class=\"sk-toggleable__content\"><pre>LogisticRegression(max_iter=4000, random_state=0)</pre></div></div></div></div></div>"
     },
     "execution_count": 33,
     "metadata": {},
     "output_type": "execute_result"
    }
   ],
   "source": [
    "from sklearn.linear_model import LogisticRegression\n",
    "\n",
    "\n",
    "model = LogisticRegression(random_state=0, max_iter=4000)\n",
    "model.fit(X_train, y_train)"
   ]
  },
  {
   "cell_type": "markdown",
   "metadata": {},
   "source": [
    "#### g) Güte des Modells auf dem Trainingsdatensatz"
   ]
  },
  {
   "cell_type": "markdown",
   "metadata": {},
   "source": [
    "Bestimmen Sie die Accuracy und den ROC-AUC-Score auf dem Trainingsdatensatz."
   ]
  },
  {
   "cell_type": "code",
   "execution_count": 34,
   "metadata": {
    "ExecuteTime": {
     "end_time": "2023-12-05T16:57:19.260051500Z",
     "start_time": "2023-12-05T16:57:18.819174500Z"
    }
   },
   "outputs": [
    {
     "name": "stdout",
     "output_type": "stream",
     "text": [
      "Training Accuracy: 0.7914847161572053\n",
      "ROC score training: 0.8439360165845656\n"
     ]
    },
    {
     "data": {
      "text/plain": "<Figure size 800x800 with 1 Axes>",
      "image/png": "[encoded data removed]"
     },
     "metadata": {},
     "output_type": "display_data"
    }
   ],
   "source": [
    "from sklearn.metrics import roc_auc_score, roc_curve\n",
    "import matplotlib.pyplot as plt\n",
    "\n",
    "print(f\"Training Accuracy: {model.score(X_train, y_train)}\")\n",
    "\n",
    "proba_train = model.predict_proba(X_train)[:,1]\n",
    "\n",
    "roc_train = roc_auc_score(y_train, proba_train)\n",
    "\n",
    "print(\"ROC score training: {}\".format(roc_train))\n",
    "\n",
    "fpr_train, tpr_train, threshold_train = roc_curve(y_train, proba_train)\n",
    "\n",
    "plt.figure(figsize=(8, 8))\n",
    "\n",
    "plt.plot(fpr_train, tpr_train, color='red', lw=2, label=f'ROC train (AUC score = {roc_train:.2f})')\n",
    "plt.plot([0, 1], [0, 1], color='navy', lw=2, linestyle='--', label='Random Guess')\n",
    "\n",
    "plt.xlim([0.0, 1.0])\n",
    "plt.ylim([0.0, 1.05])\n",
    "plt.xlabel('False Positive Rate')\n",
    "plt.ylabel('Recall')\n",
    "plt.title('Roc Kurven für Train/Testdaten')\n",
    "plt.legend(loc=\"lower right\")\n",
    "\n",
    "plt.show()"
   ]
  },
  {
   "cell_type": "markdown",
   "metadata": {},
   "source": [
    "#### h) Modellanwendung auf dem Testdatensatz"
   ]
  },
  {
   "cell_type": "markdown",
   "metadata": {},
   "source": [
    "Wenden Sie nun das Modell auf den Testdatensatz an. Führen Sie dazu dieselben Datentransformationsschritte wie beim Trainingsdatensatz aus. Achten Sie darauf, dass Sie nur auf Information des Trainingsdatensatzes zurückgreifen (z.B. die Mittelwerte beim Imputieren oder die vier häufigsten Ausprägungen der Spalte **title**). Bestimmen Sie Accuracy und ROC-AUC-Score auf dem Testdatensatz und bewerten Sie das resultierende Modell."
   ]
  },
  {
   "cell_type": "code",
   "execution_count": 35,
   "metadata": {
    "ExecuteTime": {
     "end_time": "2023-12-05T16:57:19.262553900Z",
     "start_time": "2023-12-05T16:57:19.057878600Z"
    }
   },
   "outputs": [
    {
     "data": {
      "text/plain": "      pclass  sex        age     fare  title_Master  title_Miss  title_Mr  \\\n1139       3    0  38.000000   7.8958         False       False      True   \n533        2    1  21.000000  21.0000         False        True     False   \n459        2    0  42.000000  27.0000         False       False      True   \n1150       3    0  29.030055  14.5000         False       False      True   \n393        2    0  25.000000  31.5000         False       False      True   \n\n      title_Mrs  title_other  \n1139      False        False  \n533       False        False  \n459       False        False  \n1150      False        False  \n393       False        False  ",
      "text/html": "<div>\n<style scoped>\n    .dataframe tbody tr th:only-of-type {\n        vertical-align: middle;\n    }\n\n    .dataframe tbody tr th {\n        vertical-align: top;\n    }\n\n    .dataframe thead th {\n        text-align: right;\n    }\n</style>\n<table border=\"1\" class=\"dataframe\">\n  <thead>\n    <tr style=\"text-align: right;\">\n      <th></th>\n      <th>pclass</th>\n      <th>sex</th>\n      <th>age</th>\n      <th>fare</th>\n      <th>title_Master</th>\n      <th>title_Miss</th>\n      <th>title_Mr</th>\n      <th>title_Mrs</th>\n      <th>title_other</th>\n    </tr>\n  </thead>\n  <tbody>\n    <tr>\n      <th>1139</th>\n      <td>3</td>\n      <td>0</td>\n      <td>38.000000</td>\n      <td>7.8958</td>\n      <td>False</td>\n      <td>False</td>\n      <td>True</td>\n      <td>False</td>\n      <td>False</td>\n    </tr>\n    <tr>\n      <th>533</th>\n      <td>2</td>\n      <td>1</td>\n      <td>21.000000</td>\n      <td>21.0000</td>\n      <td>False</td>\n      <td>True</td>\n      <td>False</td>\n      <td>False</td>\n      <td>False</td>\n    </tr>\n    <tr>\n      <th>459</th>\n      <td>2</td>\n      <td>0</td>\n      <td>42.000000</td>\n      <td>27.0000</td>\n      <td>False</td>\n      <td>False</td>\n      <td>True</td>\n      <td>False</td>\n      <td>False</td>\n    </tr>\n    <tr>\n      <th>1150</th>\n      <td>3</td>\n      <td>0</td>\n      <td>29.030055</td>\n      <td>14.5000</td>\n      <td>False</td>\n      <td>False</td>\n      <td>True</td>\n      <td>False</td>\n      <td>False</td>\n    </tr>\n    <tr>\n      <th>393</th>\n      <td>2</td>\n      <td>0</td>\n      <td>25.000000</td>\n      <td>31.5000</td>\n      <td>False</td>\n      <td>False</td>\n      <td>True</td>\n      <td>False</td>\n      <td>False</td>\n    </tr>\n  </tbody>\n</table>\n</div>"
     },
     "execution_count": 35,
     "metadata": {},
     "output_type": "execute_result"
    }
   ],
   "source": [
    "X_test[\"title\"] = df['name'].str.extract(r'([A-Za-z]+)\\.')\n",
    "X_test = X_test.drop('name', axis = 1)\n",
    "\n",
    "X_test['sex'] = df['sex'].replace({'male': 0, 'female': 1})\n",
    "\n",
    "imputer = SimpleImputer(strategy='mean')\n",
    "X_test[['age', 'fare']] = imputer.fit_transform(X_test[['age', 'fare']])\n",
    "\n",
    "top_titles = X_test['title'].value_counts().nlargest(4).index\n",
    "X_test['title'] = X_test['title'].where(X_test['title'].isin(top_titles), 'other')\n",
    "\n",
    "title_dummies = pd.get_dummies(X_test['title'], prefix='title')\n",
    "\n",
    "# Hinzufügen der neuen Spalten zum DataFrame\n",
    "X_test = pd.concat([X_test, title_dummies], axis=1)\n",
    "\n",
    "# Entfernen der ursprünglichen \"title\"-Spalte\n",
    "X_test = X_test.drop('title', axis=1)\n",
    "\n",
    "X_test.head()"
   ]
  },
  {
   "cell_type": "code",
   "execution_count": 36,
   "outputs": [
    {
     "name": "stdout",
     "output_type": "stream",
     "text": [
      "Training Accuracy: 0.7888040712468194\n",
      "ROC score training: 0.844671201814059\n"
     ]
    },
    {
     "data": {
      "text/plain": "<Figure size 800x800 with 1 Axes>",
      "image/png": "[encoded data removed]"
     },
     "metadata": {},
     "output_type": "display_data"
    }
   ],
   "source": [
    "print(f\"Training Accuracy: {model.score(X_test, y_test)}\")\n",
    "\n",
    "proba_test = model.predict_proba(X_test)[:,1]\n",
    "\n",
    "roc_test = roc_auc_score(y_test, proba_test)\n",
    "\n",
    "print(\"ROC score training: {}\".format(roc_test))\n",
    "\n",
    "fpr_test, tpr_test, threshold_test = roc_curve(y_test, proba_test)\n",
    "\n",
    "plt.figure(figsize=(8, 8))\n",
    "\n",
    "plt.plot(fpr_test, tpr_test, color='red', lw=2, label=f'ROC test (AUC score = {roc_test:.2f})')\n",
    "plt.plot([0, 1], [0, 1], color='navy', lw=2, linestyle='--', label='Random Guess')\n",
    "\n",
    "plt.xlim([0.0, 1.0])\n",
    "plt.ylim([0.0, 1.05])\n",
    "plt.xlabel('False Positive Rate')\n",
    "plt.ylabel('Recall')\n",
    "plt.title('Roc Kurven für Train/Testdaten')\n",
    "plt.legend(loc=\"lower right\")\n",
    "\n",
    "plt.show()"
   ],
   "metadata": {
    "collapsed": false,
    "ExecuteTime": {
     "end_time": "2023-12-05T16:57:19.511267500Z",
     "start_time": "2023-12-05T16:57:19.086903800Z"
    }
   }
  },
  {
   "cell_type": "markdown",
   "metadata": {},
   "source": [
    "## Aufgabe 2"
   ]
  },
  {
   "cell_type": "markdown",
   "metadata": {},
   "source": [
    "In dieser Aufgabe soll der Datentransformationsprozess und die Klassifikation mit Hilfe einer <a href=\"https://scikit-learn.org/stable/modules/generated/sklearn.pipeline.Pipeline.html\">Pipeline</a> realisiert werden."
   ]
  },
  {
   "cell_type": "markdown",
   "metadata": {},
   "source": [
    "#### Daten erneut einlesen"
   ]
  },
  {
   "cell_type": "markdown",
   "metadata": {},
   "source": [
    "Hier wird der Datensatz erneut eingelesen und diesmal nur die Spalten **survived**, **pclass**, **sex**, **age** und **fare** beibehalten. Anschließend erfolgt der Train-Test-Split und das Abspalten der Zielvariable."
   ]
  },
  {
   "cell_type": "code",
   "execution_count": 57,
   "metadata": {
    "ExecuteTime": {
     "end_time": "2023-12-05T17:07:38.706598600Z",
     "start_time": "2023-12-05T17:07:38.660559200Z"
    }
   },
   "outputs": [],
   "source": [
    "df = pd.read_csv('titanic.csv', usecols = ['pclass', 'survived','sex','age','fare'])\n",
    "df['pclass'] = df['pclass'].astype(str)\n",
    "X_train, X_test = train_test_split(df, test_size=0.3, random_state=0)\n",
    "X_train = X_train.copy()\n",
    "X_test = X_test.copy()\n",
    "y_train = X_train['survived']\n",
    "y_test = X_test['survived']\n",
    "X_train = X_train.drop('survived', axis=1)\n",
    "X_test = X_test.drop('survived', axis=1)"
   ]
  },
  {
   "cell_type": "code",
   "execution_count": 58,
   "metadata": {
    "ExecuteTime": {
     "end_time": "2023-12-05T17:07:39.473391100Z",
     "start_time": "2023-12-05T17:07:39.463384300Z"
    }
   },
   "outputs": [
    {
     "data": {
      "text/plain": "     pclass     sex   age     fare\n501       2  female  13.0  19.5000\n588       2  female   4.0  23.0000\n402       2  female  30.0  13.8583\n1193      3    male   NaN   7.7250\n686       3  female  22.0   7.7250",
      "text/html": "<div>\n<style scoped>\n    .dataframe tbody tr th:only-of-type {\n        vertical-align: middle;\n    }\n\n    .dataframe tbody tr th {\n        vertical-align: top;\n    }\n\n    .dataframe thead th {\n        text-align: right;\n    }\n</style>\n<table border=\"1\" class=\"dataframe\">\n  <thead>\n    <tr style=\"text-align: right;\">\n      <th></th>\n      <th>pclass</th>\n      <th>sex</th>\n      <th>age</th>\n      <th>fare</th>\n    </tr>\n  </thead>\n  <tbody>\n    <tr>\n      <th>501</th>\n      <td>2</td>\n      <td>female</td>\n      <td>13.0</td>\n      <td>19.5000</td>\n    </tr>\n    <tr>\n      <th>588</th>\n      <td>2</td>\n      <td>female</td>\n      <td>4.0</td>\n      <td>23.0000</td>\n    </tr>\n    <tr>\n      <th>402</th>\n      <td>2</td>\n      <td>female</td>\n      <td>30.0</td>\n      <td>13.8583</td>\n    </tr>\n    <tr>\n      <th>1193</th>\n      <td>3</td>\n      <td>male</td>\n      <td>NaN</td>\n      <td>7.7250</td>\n    </tr>\n    <tr>\n      <th>686</th>\n      <td>3</td>\n      <td>female</td>\n      <td>22.0</td>\n      <td>7.7250</td>\n    </tr>\n  </tbody>\n</table>\n</div>"
     },
     "execution_count": 58,
     "metadata": {},
     "output_type": "execute_result"
    }
   ],
   "source": [
    "X_train.head()"
   ]
  },
  {
   "cell_type": "markdown",
   "metadata": {},
   "source": [
    "#### a) Eigenen Imputer schreiben"
   ]
  },
  {
   "cell_type": "markdown",
   "metadata": {},
   "source": [
    "Implementieren Sie einen eigenen Imputer namens **OutlierImputer**. Dieser soll auf numerische Spalten angewendet werden und fehlende Werte in einer Spalte durch \n",
    "$x_{min}-(x_{max}-x_{min})$ ersetzen, wobei $x_{max}$ der maximale und $x_{min}$ der minimale Wert der Spalte des Trainingsdatensatzes ist. Leiten Sie Ihren Imputer von den Klassen TransformerMixin und BaseEstimator ab."
   ]
  },
  {
   "cell_type": "code",
   "execution_count": 61,
   "metadata": {
    "ExecuteTime": {
     "end_time": "2023-12-05T17:09:46.098081300Z",
     "start_time": "2023-12-05T17:09:46.087224500Z"
    }
   },
   "outputs": [],
   "source": [
    "from sklearn.base import TransformerMixin, BaseEstimator\n",
    "\n",
    "class OutlierImputer(TransformerMixin, BaseEstimator):\n",
    "    def fit(self, X, y=None):\n",
    "        # Speichern Sie für jede Spalte den minimalen und maximalen Wert\n",
    "        self.min_values_ = X.min()\n",
    "        self.max_values_ = X.max()\n",
    "        return self\n",
    "\n",
    "    def transform(self, X):\n",
    "        # Ersetzen Sie fehlende Werte durch x_min - (x_max - x_min)\n",
    "        X_transformed = X.copy()\n",
    "        for col in X.columns:\n",
    "            X_transformed[col].fillna(self.min_values_[col] - (self.max_values_[col] - self.min_values_[col]), inplace=True)\n",
    "        return X_transformed\n"
   ]
  },
  {
   "cell_type": "markdown",
   "metadata": {},
   "source": [
    "#### b) ColumnTransformer und Pipeline"
   ]
  },
  {
   "cell_type": "markdown",
   "metadata": {},
   "source": [
    "Mit Hilfe eines <a href=\"https://scikit-learn.org/stable/modules/generated/sklearn.compose.ColumnTransformer.html\">ColumnTransformers</a> können bestimmte Transformer auf Teilmengen der Datensatz-Spalten angewendet werden (z.B. die numerischen und die kategorischen).\n",
    "\n",
    "Legen Sie einen ColumnTransformer an, der auf die numerischen Spalten den OutlierImputer aus Teilaufgabe a) und den <a href=\"https://scikit-learn.org/stable/modules/generated/sklearn.preprocessing.StandardScaler.html\">StandardScaler</a> anwendet, und auf die kategorischen Spalten den <a href=\"https://scikit-learn.org/stable/modules/generated/sklearn.impute.SimpleImputer.html\">SimpleImputer</a> (mit strategy='constant') und einen <a href=\"https://scikit-learn.org/stable/modules/generated/sklearn.preprocessing.OneHotEncoder.html\">OneHotEncoder</a>. Legen Sie anschließend eine Pipeline an, die aus dem ColumnTransformer und einem LogisticRegression Estimator besteht. Fitten Sie die Pipeline auf dem Trainingsdatensatz und berechnen Sie Accuracy und ROC-AUC-Score auf dem Trainingsdatensatz"
   ]
  },
  {
   "cell_type": "code",
   "execution_count": 62,
   "metadata": {
    "ExecuteTime": {
     "end_time": "2023-12-05T17:09:48.202309Z",
     "start_time": "2023-12-05T17:09:48.185294500Z"
    }
   },
   "outputs": [],
   "source": [
    "from sklearn.pipeline import Pipeline\n",
    "from sklearn.preprocessing import StandardScaler\n",
    "from sklearn.preprocessing import OneHotEncoder\n",
    "from sklearn.compose import ColumnTransformer\n",
    "\n",
    "numeric_features=['fare', 'age']\n",
    "numeric_transformer = Pipeline(steps=[\n",
    "    ('imputer', OutlierImputer()),\n",
    "    ('scaler', StandardScaler())\n",
    "])\n",
    "\n",
    "categorical_features = ['sex', 'pclass']\n",
    "categorical_transformer = Pipeline(steps=[\n",
    "    ('imputer', SimpleImputer(strategy='constant', fill_value='missing')),\n",
    "    ('onehot', OneHotEncoder(handle_unknown='ignore'))\n",
    "])\n",
    "\n",
    "preprocessor = ColumnTransformer(\n",
    "    transformers=[\n",
    "        ('num', numeric_transformer, numeric_features),\n",
    "        ('cat', categorical_transformer, categorical_features)\n",
    "    ]\n",
    ")\n",
    "\n",
    "clf = Pipeline(steps=[('preprocessor', preprocessor),\n",
    "                      ('classifier', LogisticRegression(solver='lbfgs')\n",
    "                   )]\n",
    "               )\n",
    "_ = clf.fit(X_train, y_train)\n",
    "\n"
   ]
  },
  {
   "cell_type": "code",
   "execution_count": null,
   "outputs": [],
   "source": [],
   "metadata": {
    "collapsed": false
   }
  },
  {
   "cell_type": "markdown",
   "metadata": {},
   "source": [
    "#### c) Modellanwendung auf dem Testdatensatz"
   ]
  },
  {
   "cell_type": "markdown",
   "metadata": {},
   "source": [
    "Wenden Sie die Pipeline auf den Testdatensatz an. Berechnen Sie den ROC AUC-Score und die Accuracy für den Testdatensatz."
   ]
  },
  {
   "cell_type": "code",
   "execution_count": 63,
   "metadata": {
    "ExecuteTime": {
     "end_time": "2023-12-05T17:09:51.033791200Z",
     "start_time": "2023-12-05T17:09:51.006304800Z"
    }
   },
   "outputs": [
    {
     "data": {
      "text/plain": "0.7816593886462883"
     },
     "execution_count": 63,
     "metadata": {},
     "output_type": "execute_result"
    }
   ],
   "source": [
    "clf.score(X_train, y_train)"
   ]
  },
  {
   "cell_type": "code",
   "execution_count": 64,
   "outputs": [
    {
     "data": {
      "text/plain": "0.7760814249363868"
     },
     "execution_count": 64,
     "metadata": {},
     "output_type": "execute_result"
    }
   ],
   "source": [
    "clf.score(X_test, y_test)"
   ],
   "metadata": {
    "collapsed": false,
    "ExecuteTime": {
     "end_time": "2023-12-05T17:10:17.169089600Z",
     "start_time": "2023-12-05T17:10:17.112039800Z"
    }
   }
  },
  {
   "cell_type": "code",
   "execution_count": null,
   "outputs": [],
   "source": [],
   "metadata": {
    "collapsed": false
   }
  }
 ],
 "metadata": {
  "kernelspec": {
   "display_name": "Python 3 (ipykernel)",
   "language": "python",
   "name": "python3"
  },
  "language_info": {
   "codemirror_mode": {
    "name": "ipython",
    "version": 3
   },
   "file_extension": ".py",
   "mimetype": "text/x-python",
   "name": "python",
   "nbconvert_exporter": "python",
   "pygments_lexer": "ipython3",
   "version": "3.9.12"
  }
 },
 "nbformat": 4,
 "nbformat_minor": 2
}
