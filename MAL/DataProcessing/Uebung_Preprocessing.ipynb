{
 "cells": [
  {
   "cell_type": "code",
   "execution_count": null,
   "metadata": {},
   "outputs": [],
   "source": [
    "import pandas as pd\n",
    "import numpy as np"
   ]
  },
  {
   "cell_type": "markdown",
   "metadata": {},
   "source": [
    "In dieser Übung soll ein Klassifikator zur Vorhersage, ob ein Titanic-Passagier überlebt hat oder nicht, implementiert werden."
   ]
  },
  {
   "cell_type": "markdown",
   "metadata": {},
   "source": [
    "#### Einlesen des Titanic-Datensatzes"
   ]
  },
  {
   "cell_type": "code",
   "execution_count": null,
   "metadata": {},
   "outputs": [],
   "source": [
    "df = pd.read_csv('titanic.csv', usecols = ['pclass', 'survived','name','sex','age','fare'])"
   ]
  },
  {
   "cell_type": "code",
   "execution_count": null,
   "metadata": {},
   "outputs": [],
   "source": [
    "df.head()"
   ]
  },
  {
   "cell_type": "markdown",
   "metadata": {},
   "source": [
    "#### Train-Test-Split"
   ]
  },
  {
   "cell_type": "code",
   "execution_count": null,
   "metadata": {},
   "outputs": [],
   "source": [
    "from sklearn.model_selection import train_test_split\n",
    "\n",
    "X_train, X_test = train_test_split(df, test_size=0.3, random_state=0)\n",
    "X_train = X_train.copy()\n",
    "X_test = X_test.copy()\n",
    "y_train = X_train['survived']\n",
    "y_test = X_test['survived']\n",
    "X_train = X_train.drop('survived', axis=1)\n",
    "X_test = X_test.drop('survived', axis=1)"
   ]
  },
  {
   "cell_type": "markdown",
   "metadata": {},
   "source": [
    "## Aufgabe 1"
   ]
  },
  {
   "cell_type": "markdown",
   "metadata": {},
   "source": [
    "#### a) Fehlende Werte"
   ]
  },
  {
   "cell_type": "markdown",
   "metadata": {},
   "source": [
    "Ermitteln Sie alle Spalten des DataFrame **df**, in denen es fehlende Werte gibt."
   ]
  },
  {
   "cell_type": "code",
   "execution_count": null,
   "metadata": {},
   "outputs": [],
   "source": [
    "#TODO"
   ]
  },
  {
   "cell_type": "markdown",
   "metadata": {},
   "source": [
    "Arbeiten Sie bis einschließlich Teilaufgabe g) nur auf dem Trainingsdatensatz weiter."
   ]
  },
  {
   "cell_type": "markdown",
   "metadata": {},
   "source": [
    "#### b) Feature-Engineering"
   ]
  },
  {
   "cell_type": "markdown",
   "metadata": {},
   "source": [
    "Extrahieren Sie aus der Spalte **name** die Anrede des Passagiers als weiteres Feature und speichern Sie diese in einer neuen Spalte namens **title**. Verwenden Sie dazu die Methode <a href=\"https://pandas.pydata.org/pandas-docs/stable/reference/api/pandas.Series.str.extract.html\">pandas.Series.str.extract</a> und einen regulären Ausdruck. Entfernen Sie anschließend die Spalte **name** aus dem DataFrame."
   ]
  },
  {
   "cell_type": "code",
   "execution_count": null,
   "metadata": {},
   "outputs": [],
   "source": [
    "#TODO"
   ]
  },
  {
   "cell_type": "markdown",
   "metadata": {},
   "source": [
    "#### c) Datentransformation"
   ]
  },
  {
   "cell_type": "markdown",
   "metadata": {},
   "source": [
    "Transformieren Sie die Spalte **sex**, indem Sie \"male\" durch \"0\" und \"female\" durch \"1\" ersetzen."
   ]
  },
  {
   "cell_type": "code",
   "execution_count": null,
   "metadata": {},
   "outputs": [],
   "source": [
    "#TODO"
   ]
  },
  {
   "cell_type": "markdown",
   "metadata": {},
   "source": [
    "#### d) Imputation"
   ]
  },
  {
   "cell_type": "markdown",
   "metadata": {},
   "source": [
    "Ersetzen Sie unter Verwendung der Klasse <a href=\"https://scikit-learn.org/stable/modules/generated/sklearn.impute.SimpleImputer.html\">SimpleImputer</a> fehlende Werte in den Spalten **age** und **fare** durch die jeweiligen Spaltenmittelwerte. "
   ]
  },
  {
   "cell_type": "code",
   "execution_count": null,
   "metadata": {},
   "outputs": [],
   "source": [
    "#TODO"
   ]
  },
  {
   "cell_type": "markdown",
   "metadata": {},
   "source": [
    "#### e) One Hot Encoding"
   ]
  },
  {
   "cell_type": "markdown",
   "metadata": {},
   "source": [
    "Transformieren Sie die Spalte **title**, indem Sie alle Werte, die nicht zu\n",
    "den vier häufigsten Ausprägungen gehören, durch \"other\" ersetzen. Erzeugen Sie anschließend\n",
    "durch One Hot Encoding für jede Ausprägung von **title** eine neue Spalte, in der binär kodiert ist,\n",
    "ob bei einem Passagier die jeweilige Ausprägung vorliegt oder nicht. Entfernen Sie anschließend die Spalte **title**.\n",
    "\n",
    "Hinweise: pandas.where, pandas.get_dummies"
   ]
  },
  {
   "cell_type": "code",
   "execution_count": null,
   "metadata": {},
   "outputs": [],
   "source": [
    "#TODO"
   ]
  },
  {
   "cell_type": "markdown",
   "metadata": {},
   "source": [
    "#### f) Modelltraining"
   ]
  },
  {
   "cell_type": "markdown",
   "metadata": {},
   "source": [
    "Trainieren Sie auf dem Trainingsdatensatz ein logistisches Regressionsmodell."
   ]
  },
  {
   "cell_type": "code",
   "execution_count": null,
   "metadata": {},
   "outputs": [],
   "source": [
    "#TODO"
   ]
  },
  {
   "cell_type": "markdown",
   "metadata": {},
   "source": [
    "#### g) Güte des Modells auf dem Trainingsdatensatz"
   ]
  },
  {
   "cell_type": "markdown",
   "metadata": {},
   "source": [
    "Bestimmen Sie die Accuracy und den ROC-AUC-Score auf dem Trainingsdatensatz."
   ]
  },
  {
   "cell_type": "code",
   "execution_count": null,
   "metadata": {},
   "outputs": [],
   "source": [
    "#TODO"
   ]
  },
  {
   "cell_type": "markdown",
   "metadata": {},
   "source": [
    "#### h) Modellanwendung auf dem Testdatensatz"
   ]
  },
  {
   "cell_type": "markdown",
   "metadata": {},
   "source": [
    "Wenden Sie nun das Modell auf den Testdatensatz an. Führen Sie dazu dieselben Datentransformationsschritte wie beim Trainingsdatensatz aus. Achten Sie darauf, dass Sie nur auf Information des Trainingsdatensatzes zurückgreifen (z.B. die Mittelwerte beim Imputieren oder die vier häufigsten Ausprägungen der Spalte **title**). Bestimmen Sie Accuracy und ROC-AUC-Score auf dem Testdatensatz und bewerten Sie das resultierende Modell."
   ]
  },
  {
   "cell_type": "code",
   "execution_count": null,
   "metadata": {},
   "outputs": [],
   "source": [
    "#TODO"
   ]
  },
  {
   "cell_type": "markdown",
   "metadata": {},
   "source": [
    "## Aufgabe 2"
   ]
  },
  {
   "cell_type": "markdown",
   "metadata": {},
   "source": [
    "In dieser Aufgabe soll der Datentransformationsprozess und die Klassifikation mit Hilfe einer <a href=\"https://scikit-learn.org/stable/modules/generated/sklearn.pipeline.Pipeline.html\">Pipeline</a> realisiert werden."
   ]
  },
  {
   "cell_type": "markdown",
   "metadata": {},
   "source": [
    "#### Daten erneut einlesen"
   ]
  },
  {
   "cell_type": "markdown",
   "metadata": {},
   "source": [
    "Hier wird der Datensatz erneut eingelesen und diesmal nur die Spalten **survived**, **pclass**, **sex**, **age** und **fare** beibehalten. Anschließend erfolgt der Train-Test-Split und das Abspalten der Zielvariable."
   ]
  },
  {
   "cell_type": "code",
   "execution_count": null,
   "metadata": {},
   "outputs": [],
   "source": [
    "df = pd.read_csv('titanic.csv', usecols = ['pclass', 'survived','sex','age','fare'])\n",
    "df['pclass'] = df['pclass'].astype(str)\n",
    "X_train, X_test = train_test_split(df, test_size=0.3, random_state=0)\n",
    "X_train = X_train.copy()\n",
    "X_test = X_test.copy()\n",
    "y_train = X_train['survived']\n",
    "y_test = X_test['survived']\n",
    "X_train = X_train.drop('survived', axis=1)\n",
    "X_test = X_test.drop('survived', axis=1)"
   ]
  },
  {
   "cell_type": "code",
   "execution_count": null,
   "metadata": {},
   "outputs": [],
   "source": [
    "X_train.head()"
   ]
  },
  {
   "cell_type": "markdown",
   "metadata": {},
   "source": [
    "#### a) Eigenen Imputer schreiben"
   ]
  },
  {
   "cell_type": "markdown",
   "metadata": {},
   "source": [
    "Implementieren Sie einen eigenen Imputer namens **OutlierImputer**. Dieser soll auf numerische Spalten angewendet werden und fehlende Werte in einer Spalte durch \n",
    "$x_{min}-(x_{max}-x_{min})$ ersetzen, wobei $x_{max}$ der maximale und $x_{min}$ der minimale Wert der Spalte des Trainingsdatensatzes ist. Leiten Sie Ihren Imputer von den Klassen TransformerMixin und BaseEstimator ab."
   ]
  },
  {
   "cell_type": "code",
   "execution_count": null,
   "metadata": {},
   "outputs": [],
   "source": [
    "from sklearn.base import TransformerMixin\n",
    "from sklearn.base import BaseEstimator\n",
    "\n",
    "class OutlierImputer(BaseEstimator, TransformerMixin):\n",
    "    #TODO"
   ]
  },
  {
   "cell_type": "markdown",
   "metadata": {},
   "source": [
    "#### b) ColumnTransformer und Pipeline"
   ]
  },
  {
   "cell_type": "markdown",
   "metadata": {},
   "source": [
    "Mit Hilfe eines <a href=\"https://scikit-learn.org/stable/modules/generated/sklearn.compose.ColumnTransformer.html\">ColumnTransformers</a> können bestimmte Transformer auf Teilmengen der Datensatz-Spalten angewendet werden (z.B. die numerischen und die kategorischen).\n",
    "\n",
    "Legen Sie einen ColumnTransformer an, der auf die numerischen Spalten den OutlierImputer aus Teilaufgabe a) und den <a href=\"https://scikit-learn.org/stable/modules/generated/sklearn.preprocessing.StandardScaler.html\">StandardScaler</a> anwendet, und auf die kategorischen Spalten den <a href=\"https://scikit-learn.org/stable/modules/generated/sklearn.impute.SimpleImputer.html\">SimpleImputer</a> (mit strategy='constant') und einen <a href=\"https://scikit-learn.org/stable/modules/generated/sklearn.preprocessing.OneHotEncoder.html\">OneHotEncoder</a>. Legen Sie anschließend eine Pipeline an, die aus dem ColumnTransformer und einem LogisticRegression Estimator besteht. Fitten Sie die Pipeline auf dem Trainingsdatensatz und berechnen Sie Accuracy und ROC-AUC-Score auf dem Trainingsdatensatz"
   ]
  },
  {
   "cell_type": "code",
   "execution_count": null,
   "metadata": {},
   "outputs": [],
   "source": [
    "#TODO"
   ]
  },
  {
   "cell_type": "markdown",
   "metadata": {},
   "source": [
    "#### c) Modellanwendung auf dem Testdatensatz"
   ]
  },
  {
   "cell_type": "markdown",
   "metadata": {},
   "source": [
    "Wenden Sie die Pipeline auf den Testdatensatz an. Berechnen Sie den ROC AUC-Score und die Accuracy für den Testdatensatz."
   ]
  },
  {
   "cell_type": "code",
   "execution_count": null,
   "metadata": {},
   "outputs": [],
   "source": [
    "#TODO"
   ]
  }
 ],
 "metadata": {
  "kernelspec": {
   "display_name": "Python 3 (ipykernel)",
   "language": "python",
   "name": "python3"
  },
  "language_info": {
   "codemirror_mode": {
    "name": "ipython",
    "version": 3
   },
   "file_extension": ".py",
   "mimetype": "text/x-python",
   "name": "python",
   "nbconvert_exporter": "python",
   "pygments_lexer": "ipython3",
   "version": "3.9.12"
  }
 },
 "nbformat": 4,
 "nbformat_minor": 2
}
