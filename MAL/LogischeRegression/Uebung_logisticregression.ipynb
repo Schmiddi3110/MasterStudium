{
 "cells": [
  {
   "cell_type": "code",
   "execution_count": 1,
   "metadata": {},
   "outputs": [],
   "source": [
    "import pandas as pd\n",
    "import numpy as np"
   ]
  },
  {
   "cell_type": "markdown",
   "metadata": {},
   "source": [
    "## Aufgabe 1: Logistische Regression mit sklearn"
   ]
  },
  {
   "cell_type": "markdown",
   "metadata": {},
   "source": [
    "#### a) Daten vorbereiten"
   ]
  },
  {
   "cell_type": "markdown",
   "metadata": {},
   "source": [
    "Lesen Sie den Diabetes-Datensatz ein. Spalten Sie die Zielvariable (Outcome) ab und splitten Sie die Daten anschließend in Trainings- und Testdaten, sodass die Testdaten 30% der ursprünglichen Samples enthalen."
   ]
  },
  {
   "cell_type": "code",
   "execution_count": null,
   "metadata": {},
   "outputs": [],
   "source": [
    "#TODO"
   ]
  },
  {
   "cell_type": "markdown",
   "metadata": {},
   "source": [
    "#### b) Logistisches Regressionsmodell auf dem Datensatz trainieren"
   ]
  },
  {
   "cell_type": "markdown",
   "metadata": {},
   "source": [
    "Trainieren Sie in Logistisches Regressionsmodell auf den Trainingsdaten."
   ]
  },
  {
   "cell_type": "code",
   "execution_count": null,
   "metadata": {},
   "outputs": [],
   "source": [
    "#TODO"
   ]
  },
  {
   "cell_type": "markdown",
   "metadata": {},
   "source": [
    "#### c) Modellanwendung -und -bewertung"
   ]
  },
  {
   "cell_type": "markdown",
   "metadata": {},
   "source": [
    "Wenden Sie das Modell auf den Trainingsdatensatz und auf den Testdatensatz an und berechnen Sie jeweils die Konfusionsmatrix, die Accuracy, die Precision und den Recall. "
   ]
  },
  {
   "cell_type": "code",
   "execution_count": null,
   "metadata": {},
   "outputs": [],
   "source": [
    "#TODO"
   ]
  },
  {
   "cell_type": "markdown",
   "metadata": {},
   "source": [
    "#### d) ROC-Kurve zeichnen"
   ]
  },
  {
   "cell_type": "markdown",
   "metadata": {},
   "source": [
    "Berechnen Sie die ROC-AUC-Scores für den Trainings- und den Testdatensatz und zeichen Sie die ROC-Kurven für den Trainings- und den Testdatensatz in ein gemeinsames Diagramm."
   ]
  },
  {
   "cell_type": "code",
   "execution_count": null,
   "metadata": {},
   "outputs": [],
   "source": [
    "#TODO"
   ]
  },
  {
   "cell_type": "markdown",
   "metadata": {},
   "source": [
    "#### e) Precision-Recall-Kurve zeichnen"
   ]
  },
  {
   "cell_type": "markdown",
   "metadata": {},
   "source": [
    "Zeichen Sie die Precision-Recall-Kurve für den Trainings- und den Testdatensatz in ein gemeinsames Diagramm."
   ]
  },
  {
   "cell_type": "code",
   "execution_count": null,
   "metadata": {},
   "outputs": [],
   "source": [
    "#TODO"
   ]
  },
  {
   "cell_type": "markdown",
   "metadata": {},
   "source": [
    "#### f) Beurteilen Sie anhand der bisherigen Ergebnisse die Güte des Modells."
   ]
  },
  {
   "cell_type": "markdown",
   "metadata": {},
   "source": [
    "TODO"
   ]
  },
  {
   "cell_type": "markdown",
   "metadata": {},
   "source": [
    "## Aufgabe 2: Implementierung eines Logistischen Regressionsmodells"
   ]
  },
  {
   "cell_type": "markdown",
   "metadata": {},
   "source": [
    "In dieser Aufgabe soll ein Logistisches Regressionsmodell selbst implementiert werden und anhand des Iris-Datensatzes getestet werden."
   ]
  },
  {
   "cell_type": "markdown",
   "metadata": {},
   "source": [
    "#### Iris-Datensatz lesen"
   ]
  },
  {
   "cell_type": "code",
   "execution_count": 14,
   "metadata": {},
   "outputs": [],
   "source": [
    "from sklearn.datasets import load_iris\n",
    "X, y = load_iris(return_X_y=True)"
   ]
  },
  {
   "cell_type": "code",
   "execution_count": 15,
   "metadata": {},
   "outputs": [],
   "source": [
    "X = X[0:100,0:2]\n",
    "y = y[0:100].reshape(-1,1)"
   ]
  },
  {
   "cell_type": "markdown",
   "metadata": {},
   "source": [
    "#### a) Logistische Funktion"
   ]
  },
  {
   "cell_type": "markdown",
   "metadata": {},
   "source": [
    "Implementieren Sie die logistische Funktion $g(x)=\\frac{1}{1+e^{-x}}$"
   ]
  },
  {
   "cell_type": "code",
   "execution_count": 16,
   "metadata": {},
   "outputs": [],
   "source": [
    "def g(x):\n",
    "    return #TODO"
   ]
  },
  {
   "cell_type": "markdown",
   "metadata": {},
   "source": [
    "#### b) Vektorisierte Modellfunktion"
   ]
  },
  {
   "cell_type": "markdown",
   "metadata": {},
   "source": [
    "Implementieren Sie eine (vektorisierte) Funktion, die die Modellfunktion $f_{\\vec{\\theta}}(x)=g(\\theta_0+\\theta_1x_1+\\ldots+\\theta_px_p)=g(\\vec{\\theta}^T\\vec{x})$ auf einem Datensatz bestehend aus $m$ Samples auswertet. Die Funktion soll den Vektor $\\vec{\\theta}=(\\theta_0,\\ldots,\\theta_p)^T\\in\\mathbb{R}^{p+1}$ und die Daten-Matrix $M=\\left(\\begin{array}{ll}1&x^{(1)}_1&\\ldots & x^{(1)}_p\\\\ 1 & x^{(2)}_1&\\ldots & x^{(2)}_p\\\\ \\vdots & \\vdots &&\\vdots \\\\ 1& x^{(m)}_1&\\ldots & x^{(m)}_p\\end{array}\\right)$ als Argumente haben."
   ]
  },
  {
   "cell_type": "code",
   "execution_count": 17,
   "metadata": {},
   "outputs": [],
   "source": [
    "def f(M, theta):\n",
    "    return #TODO"
   ]
  },
  {
   "cell_type": "markdown",
   "metadata": {},
   "source": [
    "#### c) Vektorisiertes Kostenfunktional"
   ]
  },
  {
   "cell_type": "markdown",
   "metadata": {},
   "source": [
    "Implementieren Sie das Kostenfunktional $J(\\vec{\\theta})= -\\frac{1}{m}\\sum_{i=1}^m y^{(i)}\\log\\left(f_{\\vec{\\theta}}(\\vec{x}^{(i)})\\right)+(1-y^{(i)})\\log\\left(1-f_{\\vec{\\theta}}(\\vec{x}^{(i)})\\right)$"
   ]
  },
  {
   "cell_type": "code",
   "execution_count": 18,
   "metadata": {},
   "outputs": [],
   "source": [
    "def J(M, y, theta):\n",
    "  #TODO"
   ]
  },
  {
   "cell_type": "markdown",
   "metadata": {},
   "source": [
    "#### d) Gradientenverfahren"
   ]
  },
  {
   "cell_type": "markdown",
   "metadata": {},
   "source": [
    "Implementieren Sie das Gradientenverfahren für die Logistische Regression"
   ]
  },
  {
   "cell_type": "code",
   "execution_count": 19,
   "metadata": {},
   "outputs": [],
   "source": [
    "\n",
    "def gradient_descent(M, y, theta, max_iter, tol):\n",
    "    \n",
    "    \"\"\"\n",
    "    Computes the weights of a logistic regression classifier using gradient descent\n",
    "        \n",
    "    Parameters:\n",
    "        M (array of shape m x p+1): extended matrix of training examples (see above)\n",
    "        y (array of shape m x 1): target values corresponding to X\n",
    "        theta (array of shape p+1 x 1): initial values for the weights\n",
    "        max_iter (int):  max number of iterations to be carried out\n",
    "        tol: the iteration is stopped if norm(update)<tol\n",
    "        \n",
    "    Returns:\n",
    "        theta (array of shape p+1 x 1): weights computed by gradient descent\n",
    "    \"\"\"\n",
    " \n",
    "\n",
    "    #TODO\n",
    "\n",
    "    "
   ]
  },
  {
   "cell_type": "markdown",
   "metadata": {},
   "source": [
    "#### e) Implementierung des Klassifikators für Logistische Regression"
   ]
  },
  {
   "cell_type": "markdown",
   "metadata": {},
   "source": [
    "Die folgende Klasse implementiert einen Klassifikator für Logistische Regression. Vervollständigen Sie die Methoden **predict_proba** und **predict**."
   ]
  },
  {
   "cell_type": "code",
   "execution_count": 28,
   "metadata": {},
   "outputs": [],
   "source": [
    "class MyLogisticRegressionClassifier:\n",
    "    \n",
    "    def __init__(self, max_iter=100):\n",
    "        self.theta = None\n",
    "        self.max_iter = max_iter\n",
    "    \n",
    "    def fit(self, X, y):\n",
    "        \"\"\"\n",
    "        Fits a Logistic regression classifier by employing gradient descent. The the resulting weights \n",
    "        are stored in self.theta\n",
    "        \n",
    "        Parameters:\n",
    "            X (array of shape m x p): matrix training examples\n",
    "            y (array of shape m x 1): target values corresponding to X\n",
    "        \"\"\"\n",
    "\n",
    "        m, p = X.shape\n",
    "        M = np.ones((m,p+1))\n",
    "        M[:,1:] = X\n",
    "        theta = np.zeros((p+1,1))\n",
    "            \n",
    "        self.theta = gradient_descent(M, y, theta, self.max_iter, 1e-5)\n",
    "        \n",
    "    def predict_proba(self, X):\n",
    "        \"\"\"\n",
    "        Predicts the class probabilities for the positive class for samples (rows) in X\n",
    "        \n",
    "        Parameters:\n",
    "            X (array of shape m x p): matrix containing the samples\n",
    "        \n",
    "        Returns:\n",
    "            y (array of shape m x 1): array containing the predicted class probabilities\n",
    "        \n",
    "        \"\"\"\n",
    "        m, p = X.shape\n",
    "        M = np.ones((m,p+1))\n",
    "        M[:,1:] = X\n",
    "\n",
    "        return #TODO\n",
    "    \n",
    "    def predict(self, X):\n",
    "        \"\"\"\n",
    "        Predicts the class lables for all samples (rows) in X\n",
    "        \n",
    "        Parameters:\n",
    "            X (array of shape m x p): matrix containing the samples\n",
    "        \n",
    "        Returns:\n",
    "            y (array of shape m x 1): array containing predicted class labels\n",
    "        \n",
    "        \"\"\"\n",
    "        return #TODO"
   ]
  },
  {
   "cell_type": "markdown",
   "metadata": {},
   "source": [
    "#### f) Anwendung des Klassifikators"
   ]
  },
  {
   "cell_type": "markdown",
   "metadata": {},
   "source": [
    "Wenden Sie den Klassifikator auf den Iris-Datensatz an. Berechnen Sie die erzielte Accuracy auf dem gesamten Datensatz."
   ]
  },
  {
   "cell_type": "code",
   "execution_count": null,
   "metadata": {},
   "outputs": [],
   "source": [
    "#TODO"
   ]
  },
  {
   "cell_type": "markdown",
   "metadata": {},
   "source": [
    "#### g) Decision Boundary"
   ]
  },
  {
   "cell_type": "markdown",
   "metadata": {},
   "source": [
    "Zeichnen Sie in das folgende Diagramm den decision boundary ein."
   ]
  },
  {
   "cell_type": "code",
   "execution_count": 27,
   "metadata": {},
   "outputs": [
    {
     "data": {
      "text/plain": [
       "<matplotlib.legend.Legend at 0x217e6003048>"
      ]
     },
     "execution_count": 27,
     "metadata": {},
     "output_type": "execute_result"
    },
    {
     "data": {
      "image/png": "[encoded data removed]",
      "text/plain": [
       "<Figure size 432x288 with 1 Axes>"
      ]
     },
     "metadata": {
      "needs_background": "light"
     },
     "output_type": "display_data"
    }
   ],
   "source": [
    "import matplotlib.pyplot as plt\n",
    "%matplotlib inline\n",
    "\n",
    "\n",
    "setosa = plt.scatter(X[0:50,0], X[0:50,1], c='r')\n",
    "versicolor = plt.scatter(X[50:100,0], X[50:100,1], c='b')\n",
    "\n",
    "plt.xlabel('sepal length')\n",
    "plt.ylabel('sepal width')\n",
    "plt.legend((setosa, versicolor), ('setosa', 'versicolor'))"
   ]
  },
  {
   "cell_type": "code",
   "execution_count": null,
   "metadata": {},
   "outputs": [],
   "source": []
  }
 ],
 "metadata": {
  "kernelspec": {
   "display_name": "Python 3",
   "language": "python",
   "name": "python3"
  },
  "language_info": {
   "codemirror_mode": {
    "name": "ipython",
    "version": 3
   },
   "file_extension": ".py",
   "mimetype": "text/x-python",
   "name": "python",
   "nbconvert_exporter": "python",
   "pygments_lexer": "ipython3",
   "version": "3.7.1"
  }
 },
 "nbformat": 4,
 "nbformat_minor": 2
}
