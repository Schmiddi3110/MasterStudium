{
 "cells": [
  {
   "cell_type": "code",
   "execution_count": null,
   "metadata": {},
   "outputs": [],
   "source": [
    "import numpy as np\n",
    "import pandas as pd"
   ]
  },
  {
   "cell_type": "markdown",
   "metadata": {},
   "source": [
    "## Aufgabe 1"
   ]
  },
  {
   "cell_type": "markdown",
   "metadata": {},
   "source": [
    "#### a) Vorbereitung der Daten"
   ]
  },
  {
   "cell_type": "markdown",
   "metadata": {},
   "source": [
    "Laden Sie den Datensatz aus der Datei **svm_data.csv** (s. Moodle) in einen DataFrame namens **X** . Die ersten beiden Spalten repräsentieren zwei numerische Features $x_1$ und $x_2$, die dritte Spalte eine binäre Zielvariable $y\\in\\{-1,1\\}$. Spalten Sie die Zielvariable ab und entfernen Sie die Spalte aus dem DataFrame."
   ]
  },
  {
   "cell_type": "code",
   "execution_count": null,
   "metadata": {},
   "outputs": [],
   "source": [
    "#TODO"
   ]
  },
  {
   "cell_type": "markdown",
   "metadata": {},
   "source": [
    "#### b) Visualisierung"
   ]
  },
  {
   "cell_type": "markdown",
   "metadata": {},
   "source": [
    "Visualisieren Sie die Objekte des Datensatzes mit Hilfe eines Streudiagramms, in dem die Werte von $x_1$ und $x_2$ gegeneinander aufgetragen sind. Kennzeichnen Sie die Klassenzugehörigkeit durch verschiedene Farben."
   ]
  },
  {
   "cell_type": "code",
   "execution_count": null,
   "metadata": {},
   "outputs": [],
   "source": [
    "#TODO"
   ]
  },
  {
   "cell_type": "markdown",
   "metadata": {},
   "source": [
    "#### c) Training eines SVM-Modells"
   ]
  },
  {
   "cell_type": "markdown",
   "metadata": {},
   "source": [
    "Trainieren Sie auf dem gesamten Datensatz ein SVM-Modell mit Gauß-Kernel und den Parametern $C=1000$ und $\\gamma=1$. Verwenden Sie dazu die Klasse sklearn.svm.SVC"
   ]
  },
  {
   "cell_type": "code",
   "execution_count": null,
   "metadata": {},
   "outputs": [],
   "source": [
    "#TODO"
   ]
  },
  {
   "cell_type": "markdown",
   "metadata": {},
   "source": [
    "#### d) Decision Boundary und Margins"
   ]
  },
  {
   "cell_type": "markdown",
   "metadata": {},
   "source": [
    "Zeichnen Sie in das Diagramm aus Teilaufgabe b) den ermittelten Decision Boundary und die Margins ein. Heben Sie auch die Stützvektoren farblich hervor."
   ]
  },
  {
   "cell_type": "code",
   "execution_count": null,
   "metadata": {},
   "outputs": [],
   "source": [
    "#TODO"
   ]
  },
  {
   "cell_type": "markdown",
   "metadata": {},
   "source": [
    "## Aufgabe 2"
   ]
  },
  {
   "cell_type": "markdown",
   "metadata": {},
   "source": [
    "In dieser Aufgabe soll SVM zur Klassifikation von Ziffern aus dem <a href=\"http://yann.lecun.com/exdb/mnist/\">MNIST-Datensatz</a> verwendet werden."
   ]
  },
  {
   "cell_type": "markdown",
   "metadata": {},
   "source": [
    "#### a) Datensatz laden"
   ]
  },
  {
   "cell_type": "markdown",
   "metadata": {},
   "source": [
    "Laden Sie die Trainings- und Testdatensätze aus den CSV-Dateien **mnist-train-images.csv**, **mnist-train-labels.csv**, **mnist-test-images.csv** und **mnist-test-labels.csv** (s. Moodle) in NumPy-Arrays namens **X_train**, **y_train**, **X_test**, **y_test**. Jede Zeile von **X_train** bzw. **X_test** besteht dann aus 784=28*28 ganzzahligen Einträgen (Graustufenwerte zwischen 0 und 255) und repräsentiert eine handgeschriebene Ziffer."
   ]
  },
  {
   "cell_type": "code",
   "execution_count": null,
   "metadata": {},
   "outputs": [],
   "source": [
    "#TODO"
   ]
  },
  {
   "cell_type": "markdown",
   "metadata": {},
   "source": [
    "#### b) Visualisierung"
   ]
  },
  {
   "cell_type": "markdown",
   "metadata": {},
   "source": [
    "Zeichen Sie die ersten 25 Graustufenbilder des Datensatzes **X_train** in quadratischer Anordnung (Hinweise: matplotlib.pyplot.subplot, matploblib.pyplot.imshow). Versehen Sie die Bilder jeweils mit den korrekten Labels als Überschrift."
   ]
  },
  {
   "cell_type": "code",
   "execution_count": null,
   "metadata": {},
   "outputs": [],
   "source": [
    "#TODO"
   ]
  },
  {
   "cell_type": "markdown",
   "metadata": {},
   "source": [
    "#### c) Pipeline anlegen "
   ]
  },
  {
   "cell_type": "markdown",
   "metadata": {},
   "source": [
    "Legen Sie eine Pipeline bestehend aus einem StandardScaler und einem SVM-Klassifikator an. Der SVM-Klassifikator soll den Gauß-Kernel verwenden. Der Klassifikator hängt von zwei Hyperparametern ab: dem Parameter $C$  und dem Parameter $\\gamma=\\frac{1}{2\\sigma^2}$.  (s. Vorlesung)"
   ]
  },
  {
   "cell_type": "code",
   "execution_count": null,
   "metadata": {},
   "outputs": [],
   "source": [
    "#TODO"
   ]
  },
  {
   "cell_type": "markdown",
   "metadata": {},
   "source": [
    "#### d) Erstes Modelltraining"
   ]
  },
  {
   "cell_type": "markdown",
   "metadata": {},
   "source": [
    "Setzen Sie die Hyperparameter des SVM-Klassifikators auf die Werte $\\gamma=1$ und $C=100$ und fitten Sie die Pipeline anschließend auf dem Trainingsdatensatz. Berechnen Sie die Accuracy auf dem Trainings- und auf dem Testdatensatz. Erklären Sie Ihre Beobachtung.\n",
    "\n",
    "Hinweis: die Ausführung kann ggf. ein paar Minuten dauern. Entwickeln Sie den Code zunächst nur mit einem kleineren Teil der Daten, z.B. 2000 Samples."
   ]
  },
  {
   "cell_type": "code",
   "execution_count": null,
   "metadata": {},
   "outputs": [],
   "source": [
    "#TODO"
   ]
  },
  {
   "cell_type": "markdown",
   "metadata": {},
   "source": [
    "#### e) GridSearch"
   ]
  },
  {
   "cell_type": "markdown",
   "metadata": {},
   "source": [
    "Führen Sie eine GridSearch auf den ersten 2000 Objekten des Trainingsdatensatzes durch, um die Hyperparameter $\\gamma$ und $C$ zu optimieren. Wenden Sie dazu 3-fache Kreuzvalidierung an, und testen Sie für $C$ die Werte $\\{1000,100,10,1,0.1\\}$ und für $\\gamma$ die Werte $\\{10,1,0.1,0.01\\}$. Geben Sie die gefundenen optimalen Parameter aus.\n",
    "\n",
    "Hinweis: es wird davon ausgegangen, dass die ersten 2000 Datensätze hinreichend repräsentativ für den gesamten Trainingsdatensatz sind."
   ]
  },
  {
   "cell_type": "code",
   "execution_count": null,
   "metadata": {},
   "outputs": [],
   "source": [
    "#TODO"
   ]
  },
  {
   "cell_type": "markdown",
   "metadata": {},
   "source": [
    "#### f) Modelltraining mit ermittelten Hyperparametern\n"
   ]
  },
  {
   "cell_type": "markdown",
   "metadata": {},
   "source": [
    "Setzen Sie die Parameter des SVM-Klassifikators auf die soeben ermittelten optimalen Werte und trainieren Sie die Pipeline erneut. Wie lauten nun die Accuracy auf dem Trainings- und auf dem Testdatensatz?"
   ]
  },
  {
   "cell_type": "code",
   "execution_count": null,
   "metadata": {},
   "outputs": [],
   "source": [
    "#TODO"
   ]
  },
  {
   "cell_type": "markdown",
   "metadata": {},
   "source": [
    "#### g) Visualisierung einiger falsch klassifizierter Samples"
   ]
  },
  {
   "cell_type": "markdown",
   "metadata": {},
   "source": [
    "Visualisieren Sie die ersten 25 falsch klassifizierten Ziffern in einer Anordnung von 5x5 Bildern. Versehen Sie die einzelnen Subplots mit Titeln, in sowohl das tatsächliche als auch als auch das prognostizierte Label enthalten."
   ]
  },
  {
   "cell_type": "code",
   "execution_count": null,
   "metadata": {},
   "outputs": [],
   "source": [
    "#TODO"
   ]
  }
 ],
 "metadata": {
  "kernelspec": {
   "display_name": "Python 3",
   "language": "python",
   "name": "python3"
  },
  "language_info": {
   "codemirror_mode": {
    "name": "ipython",
    "version": 3
   },
   "file_extension": ".py",
   "mimetype": "text/x-python",
   "name": "python",
   "nbconvert_exporter": "python",
   "pygments_lexer": "ipython3",
   "version": "3.7.1"
  }
 },
 "nbformat": 4,
 "nbformat_minor": 2
}
