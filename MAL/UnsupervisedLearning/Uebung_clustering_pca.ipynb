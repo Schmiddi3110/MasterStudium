{
 "cells": [
  {
   "cell_type": "code",
   "execution_count": null,
   "metadata": {},
   "outputs": [],
   "source": [
    "import pandas as pd\n",
    "import numpy as np"
   ]
  },
  {
   "cell_type": "markdown",
   "metadata": {},
   "source": [
    "## Aufgabe 1"
   ]
  },
  {
   "cell_type": "markdown",
   "metadata": {},
   "source": [
    "In dieser Aufgabe soll erneut die Klasssifikation handgeschriebener Ziffern am Beispiel des MNIST-Datensatzes betrachtet werden. "
   ]
  },
  {
   "cell_type": "markdown",
   "metadata": {},
   "source": [
    "Einlesen des Datensatzes:"
   ]
  },
  {
   "cell_type": "code",
   "execution_count": null,
   "metadata": {},
   "outputs": [],
   "source": [
    "X_train = pd.read_csv('mnist-train-images.csv')\n",
    "y_train = pd.read_csv('mnist-train-labels.csv')\n",
    "X_test = pd.read_csv('mnist-test-images.csv')\n",
    "y_test = pd.read_csv('mnist-test-labels.csv')\n",
    "\n",
    "X_train = X_train.values\n",
    "y_train = y_train.values.reshape(-1)\n",
    "X_test = X_test.values\n",
    "y_test = y_test.values.reshape(-1)\n"
   ]
  },
  {
   "cell_type": "markdown",
   "metadata": {},
   "source": [
    "#### a) Pipeline anlegen und Modell trainieren"
   ]
  },
  {
   "cell_type": "markdown",
   "metadata": {},
   "source": [
    "Legen Sie wie in der vorletzten Übung eine Pipeline bestehend aus einem StandardScaler und einem SupportVectorClassifier mit Gauß-Kernel und den Parametern  $C=1000$ und $\\gamma=0.01$ an. Trainieren Sie Ihr Modell auf den ersten 10000 Samples des Trainingsdatensatzes und messen Sie die Zeit für das Modelltraining. Die Messung der Zeit für die Ausführung einer Zelle kann erfolgen, indem man %%time in die erste Zeile einer Zelle schreibt. Es handelt sich dabei um einen sog \"magic command\". Berechnen Sie durch Aufruf der Methode **score** anschließend die Accuracy auf dem Trainings- und auf dem Testdatensatz."
   ]
  },
  {
   "cell_type": "code",
   "execution_count": null,
   "metadata": {},
   "outputs": [],
   "source": [
    "#TODO"
   ]
  },
  {
   "cell_type": "markdown",
   "metadata": {},
   "source": [
    "#### b) Modelltraining mit PCA"
   ]
  },
  {
   "cell_type": "markdown",
   "metadata": {},
   "source": [
    "Wiederholen Sie nun Teilaufgabe a) und fügen Sie zusätzlich eine PCA mit n_components=20 als zweiten Datentransformationsschritt in die Pipeline ein. Wie erklären Sie Ihre Beobachtungen?"
   ]
  },
  {
   "cell_type": "code",
   "execution_count": null,
   "metadata": {},
   "outputs": [],
   "source": [
    "#TODO"
   ]
  },
  {
   "cell_type": "markdown",
   "metadata": {},
   "source": [
    "#### c) Erklärte Varianz"
   ]
  },
  {
   "cell_type": "markdown",
   "metadata": {},
   "source": [
    "Geben Sie aus, welchen Anteil der Gesamtvarianz der 784 Features die ersten 20 Hauptkomponenten bereits enthalten."
   ]
  },
  {
   "cell_type": "code",
   "execution_count": null,
   "metadata": {},
   "outputs": [],
   "source": [
    "#TODO"
   ]
  },
  {
   "cell_type": "markdown",
   "metadata": {},
   "source": [
    "## Aufgabe 2"
   ]
  },
  {
   "cell_type": "markdown",
   "metadata": {},
   "source": [
    "In dieser Aufgabe soll k-Means-Clustering auf die MNIST-Datensammlung angewendet werden. "
   ]
  },
  {
   "cell_type": "markdown",
   "metadata": {},
   "source": [
    "#### a) Datensatz einlesen\n",
    "Laden Sie dazu die Bilddaten in einen DataFrame namens X. Dieser soll sowohl die Daten aus der Trainingsdatenmenge als auch aus der Testdatenmenge enthalten. Ein Train-Test-Split ist beim Unsupervised Learning nicht notwendig."
   ]
  },
  {
   "cell_type": "code",
   "execution_count": null,
   "metadata": {},
   "outputs": [],
   "source": [
    "#TODO"
   ]
  },
  {
   "cell_type": "markdown",
   "metadata": {},
   "source": [
    "#### b) Anwendung von Clustering"
   ]
  },
  {
   "cell_type": "markdown",
   "metadata": {},
   "source": [
    "Führen Sie unter Verwendung der Klasse <a href=\"https://scikit-learn.org/stable/modules/generated/sklearn.cluster.KMeans.html\">sklearn.cluster.KMeans</a> ein K-Means-Clustering durch, welches den Datensatz in 15 Cluster partitionieren soll. Standardisieren Sie zunächst den Datensatz."
   ]
  },
  {
   "cell_type": "code",
   "execution_count": null,
   "metadata": {},
   "outputs": [],
   "source": [
    "#TODO"
   ]
  },
  {
   "cell_type": "markdown",
   "metadata": {},
   "source": [
    "#### c) Charkaterisierung der gefundenen Cluster"
   ]
  },
  {
   "cell_type": "markdown",
   "metadata": {},
   "source": [
    "Häufig ist man daran interessiert, die beim Clustering gefundenen Cluster nachträglich zu charakterisieren. \n",
    "Visualisieren Sie für jedes der 15 Cluster die ersten 36 der zugeordneten Ziffern, indem Sie diese in einer quadratischen Anordnung plotten (vgl. Grafik in der Vorlesung)."
   ]
  },
  {
   "cell_type": "code",
   "execution_count": null,
   "metadata": {
    "scrolled": true
   },
   "outputs": [],
   "source": [
    "#TODO"
   ]
  },
  {
   "cell_type": "markdown",
   "metadata": {},
   "source": [
    "#### d) Güte des Clusterings"
   ]
  },
  {
   "cell_type": "markdown",
   "metadata": {},
   "source": [
    "Beurteilen Sie die Güte des Clusterings, indem Sie die (in diesem Fall verfügbaren) Labels verwenden. Identifizieren Sie dazu jedes Cluster mit dem Label, welches die meisten Vertreter im Cluster hat (d.h. mit der Ziffer, die am häufigsten vorkommt), und berechnen Sie für jedes der 15 Cluster die Accuracy.\n",
    "\n",
    "\n",
    "Hinweis: Im Allgemeinen ist die Beurteilung der Güte von Clustering-Verfahren schwierig, da man keine \"korrekten Antworten\" kennt."
   ]
  },
  {
   "cell_type": "code",
   "execution_count": null,
   "metadata": {},
   "outputs": [],
   "source": [
    "#TODO"
   ]
  },
  {
   "cell_type": "markdown",
   "metadata": {},
   "source": [
    "#### e) Wahl der Clusteranzahl"
   ]
  },
  {
   "cell_type": "markdown",
   "metadata": {},
   "source": [
    "Wiederholen Sie die Aufgabe mit 10 Clustern. Entsprechen diese den 10 Ziffern?"
   ]
  },
  {
   "cell_type": "markdown",
   "metadata": {},
   "source": [
    "## Aufgabe 3"
   ]
  },
  {
   "cell_type": "markdown",
   "metadata": {},
   "source": [
    "In dieser Aufgabe soll eine eigene Implementierung von k-Means-Clustering \"from scratch\" erstellt werden."
   ]
  },
  {
   "cell_type": "markdown",
   "metadata": {},
   "source": [
    "#### a) Datensatz einlesen und visualisieren"
   ]
  },
  {
   "cell_type": "markdown",
   "metadata": {},
   "source": [
    "Zum Testen können Sie im Rahmen dieser Aufgabe den folgenden Datensatz verwenden, der zwei Features/Spalten enthält:"
   ]
  },
  {
   "cell_type": "code",
   "execution_count": null,
   "metadata": {},
   "outputs": [],
   "source": [
    "X = pd.read_csv('data_clustering.txt', sep=\" \").values"
   ]
  },
  {
   "cell_type": "markdown",
   "metadata": {},
   "source": [
    "Visualisieren Sie den Datensatz mit Hilfe eines Streudiagramms."
   ]
  },
  {
   "cell_type": "code",
   "execution_count": null,
   "metadata": {},
   "outputs": [],
   "source": [
    "#TODO"
   ]
  },
  {
   "cell_type": "markdown",
   "metadata": {},
   "source": [
    "#### b) Cluster-Zuweisung"
   ]
  },
  {
   "cell_type": "markdown",
   "metadata": {},
   "source": [
    "Ergänzen Sie die folgende Funktion, in der die Clusterzuweisung basierend auf den Abständen zu den Cluster-Zentren realisiert werden soll. Jedes Sample wird dem Cluster zugewiesen, zu dessen Zentrum es den geringsten Abstand hat."
   ]
  },
  {
   "cell_type": "code",
   "execution_count": null,
   "metadata": {},
   "outputs": [],
   "source": [
    "def cluster_assignment(X, centroids):\n",
    "    \"\"\"\n",
    "    Assigns each sample of the dataset X to the cluster whose centroid has the lowest Euclidean distance from the sample\n",
    "    \n",
    "    Parameters:\n",
    "        X (array): dataset of shape [n_samples, n_features] containing numerical values\n",
    "        centroids (array): array of shape [n_clusters, n_features] containing the cluster centroids\n",
    "        \n",
    "    Returns:\n",
    "        clusters (array): array of shape [n_samples, 1] containing the cluster number for each observation in X\n",
    "        \n",
    "    \"\"\"\n",
    "    \n",
    "    \n",
    "    #TODO"
   ]
  },
  {
   "cell_type": "markdown",
   "metadata": {},
   "source": [
    "#### c) Update der Cluster-Zentren"
   ]
  },
  {
   "cell_type": "markdown",
   "metadata": {},
   "source": [
    "Ergänzen Sie die folgende Funktion, in der die Cluster-Zentren basierend auf den zugewiesenen Samples als deren Mittelwerte neu berechnet werden."
   ]
  },
  {
   "cell_type": "code",
   "execution_count": null,
   "metadata": {},
   "outputs": [],
   "source": [
    "def update_centroids(X, clusters, n_clust):\n",
    "    \"\"\"\n",
    "    Compute cluster centroids.    \n",
    "    Parameters:\n",
    "        X (array): dataset of shape [n_samples, n_features] containing numerical values\n",
    "        clusters (array): array of shape [n_samples,1] containing the cluster number for each observation\n",
    "        n_clust (int): number of clusters\n",
    "        \n",
    "    Returns:\n",
    "        centroids (array): array of shape [n_clusters, n_features] containing the cluster centroids obtaind as the mean of all observations belonging to the cluster\n",
    "        \n",
    "    \"\"\"  \n",
    "    \n",
    "    #TODO"
   ]
  },
  {
   "cell_type": "markdown",
   "metadata": {},
   "source": [
    "#### d) k-means-Iteration"
   ]
  },
  {
   "cell_type": "markdown",
   "metadata": {},
   "source": [
    "Implementieren Sie nun basierend auf b) und c) das k-Means-Verfahren. Ergänzen Sie dazu die folgende Funktion. Die Iteration soll so lange fortgesetzt werden, bis sich die Cluster-Zuordnungen nicht mehr änern."
   ]
  },
  {
   "cell_type": "code",
   "execution_count": null,
   "metadata": {},
   "outputs": [],
   "source": [
    "import matplotlib.pyplot as plt \n",
    "%matplotlib inline\n",
    "\n",
    "\n",
    "def kMeans(X, n_clust, initial_centroids):\n",
    "    \"\"\"\n",
    "    Partition the observations in X into n_clust clusters using k-means algorithm. \n",
    "    \n",
    "    Parameters:\n",
    "        X (array): dataset of shape [n_samples, n_features] containing numerical values\n",
    "        n_clust (int): number of clusters to be calculated\n",
    "        initial_centroids (array): array of shape [n_clust, n_features] containing the initial values for the centroids\n",
    "        \n",
    "    Returns:\n",
    "        clusters (array): array of shape [n_samples, 1] containing the cluster number of each sample\n",
    "        centroids (array): array of shape [n_clusters, n_features] containing the cluster centroids obtaind as the mean of all observations belonging to the cluster\n",
    "        \n",
    "    \"\"\"     \n",
    "    \n",
    "    #TODO\n",
    "    "
   ]
  },
  {
   "cell_type": "markdown",
   "metadata": {},
   "source": [
    "#### e) Test und Visualisierung"
   ]
  },
  {
   "cell_type": "markdown",
   "metadata": {},
   "source": [
    "Testen Sie Ihre Implementierung für den gegebenen Datensatz. Vewrenden Sie $c_0=(0.6, 0.4)$ und $c_1=(0.2, 0.6)$\n",
    "als Startwerte für die Cluster-Zentren. Visualisieren Sie dabei in jedem Iterationsschritt die Cluster-Zuordnungen, indem Sie die Punkte als Streudiagram darstellen und die Cluster-Zugehörigkeit farblich kennzeichnen."
   ]
  },
  {
   "cell_type": "code",
   "execution_count": null,
   "metadata": {},
   "outputs": [],
   "source": [
    "#TODO"
   ]
  }
 ],
 "metadata": {
  "kernelspec": {
   "display_name": "Python 3",
   "language": "python",
   "name": "python3"
  },
  "language_info": {
   "codemirror_mode": {
    "name": "ipython",
    "version": 3
   },
   "file_extension": ".py",
   "mimetype": "text/x-python",
   "name": "python",
   "nbconvert_exporter": "python",
   "pygments_lexer": "ipython3",
   "version": "3.7.1"
  }
 },
 "nbformat": 4,
 "nbformat_minor": 2
}
