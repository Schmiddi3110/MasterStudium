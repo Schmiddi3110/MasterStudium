{
 "cells": [
  {
   "cell_type": "code",
   "execution_count": null,
   "metadata": {},
   "outputs": [],
   "source": [
    "import pandas as pd\n",
    "import numpy as np\n",
    "import matplotlib.pyplot as plt"
   ]
  },
  {
   "cell_type": "markdown",
   "metadata": {},
   "source": [
    "#### Laden des Datensatzes"
   ]
  },
  {
   "cell_type": "code",
   "execution_count": null,
   "metadata": {},
   "outputs": [],
   "source": [
    "df = np.loadtxt(\"oregon_housing_prices.txt\",dtype=np.float64,delimiter=\",\")\n",
    "data_x = df[:,0:1]*0.3048**2 #Feet to m^2\n",
    "data_y = df[:,-1]"
   ]
  },
  {
   "cell_type": "markdown",
   "metadata": {},
   "source": [
    "# Aufgabe 1"
   ]
  },
  {
   "cell_type": "markdown",
   "metadata": {},
   "source": [
    "#### a) Visualisierung"
   ]
  },
  {
   "cell_type": "markdown",
   "metadata": {},
   "source": [
    "Visualisieren Sie die Daten, indem Sie ein Streudiagramm in matplotlib zeichnen. Versehen Sie das Diagramm mit Achsenbeschriftungen und mit einem Titel"
   ]
  },
  {
   "cell_type": "code",
   "execution_count": null,
   "metadata": {},
   "outputs": [],
   "source": [
    "#TODO"
   ]
  },
  {
   "cell_type": "markdown",
   "metadata": {},
   "source": [
    "#### b) Lineare Regression mit scikit-learn"
   ]
  },
  {
   "cell_type": "markdown",
   "metadata": {},
   "source": [
    "Trainieren Sie auf dem gesamten Datensatz ein lineares Regressionsmodell in scikit-learn."
   ]
  },
  {
   "cell_type": "code",
   "execution_count": null,
   "metadata": {},
   "outputs": [],
   "source": [
    "#TODO"
   ]
  },
  {
   "cell_type": "markdown",
   "metadata": {},
   "source": [
    "#### c) Modell-Output"
   ]
  },
  {
   "cell_type": "markdown",
   "metadata": {},
   "source": [
    "Welche Werte haben die gefitteten Parameter $\\theta_0$ und $\\theta_1$?"
   ]
  },
  {
   "cell_type": "code",
   "execution_count": null,
   "metadata": {},
   "outputs": [],
   "source": [
    "#TODO"
   ]
  },
  {
   "cell_type": "markdown",
   "metadata": {},
   "source": [
    "#### d) Visualisierung des Modells"
   ]
  },
  {
   "cell_type": "markdown",
   "metadata": {},
   "source": [
    "Erstellen Sie das Streudiagramm aus a) neu und zeichnen Sie nun auch die Regressionsgerade mit ein."
   ]
  },
  {
   "cell_type": "code",
   "execution_count": null,
   "metadata": {},
   "outputs": [],
   "source": [
    "#TODO\n"
   ]
  },
  {
   "cell_type": "markdown",
   "metadata": {},
   "source": [
    "#### e) Einsatz des Modells zur Prognose"
   ]
  },
  {
   "cell_type": "markdown",
   "metadata": {},
   "source": [
    "Welchen Hauspreis prognostiziert das Modell für ein Haus mit $100m^2$ Wohnfläche?"
   ]
  },
  {
   "cell_type": "code",
   "execution_count": null,
   "metadata": {},
   "outputs": [],
   "source": [
    "#TODO"
   ]
  },
  {
   "cell_type": "markdown",
   "metadata": {},
   "source": [
    "# Aufgabe 2: Lineare Regression durch Lösen der Normalgleichungen"
   ]
  },
  {
   "cell_type": "markdown",
   "metadata": {},
   "source": [
    "#### a) Aufstellen der Matrix"
   ]
  },
  {
   "cell_type": "markdown",
   "metadata": {},
   "source": [
    "Stellen Sie die Matrix $X$ (s. Folien) auf. Legen Sie dazu eine neue Matrix der Dimension $(m,2)$ an, die aus lauter 1en besteht und kopieren Sie data_x in die zweite Spalte"
   ]
  },
  {
   "cell_type": "code",
   "execution_count": null,
   "metadata": {},
   "outputs": [],
   "source": [
    "#TODO"
   ]
  },
  {
   "cell_type": "markdown",
   "metadata": {},
   "source": [
    "#### b) Aufstellen und Lösen der Normalgleichungen"
   ]
  },
  {
   "cell_type": "markdown",
   "metadata": {},
   "source": [
    "Berechnen Sie $\\theta_0$ und $\\theta_1$ durch Lösen der Normalgleichungen. Hinweis: das Matrix-Matrix-Produkt $A\\cdot B$   wird in numpy durch den Aufruf $A$@$B$ oder durch Aufruf der Funktion np.dot($A$,$B$) gebildet. Zum Lösen eines linearen Gleichungssystems kann die Funktion numpy.linalg.solve verwendet werden"
   ]
  },
  {
   "cell_type": "code",
   "execution_count": null,
   "metadata": {},
   "outputs": [],
   "source": [
    "#TODO"
   ]
  },
  {
   "cell_type": "markdown",
   "metadata": {},
   "source": [
    "# Aufgabe 3: Gradientenverfahren"
   ]
  },
  {
   "cell_type": "markdown",
   "metadata": {},
   "source": [
    "In dieser Aufgabe soll die Regressionsaufgabe mit Hilfe des Gradientenverfahrens gelöst werden, das zu implementieren ist."
   ]
  },
  {
   "cell_type": "markdown",
   "metadata": {},
   "source": [
    "#### a) Standardisierung"
   ]
  },
  {
   "cell_type": "markdown",
   "metadata": {},
   "source": [
    "Erstellen Sie zwei numpy-Arrays data_x_std und data_y_std, die durch Standardisierung aus data_x bzw. data_y hervorgehen. Welchen Wert erwarten Sie für $\\theta_0$, wenn ein univariates lineares Regressionsmodell auf den standardisierten Daten trainiert wird? Bilden Sie anschließend wieder die Matrix $X$ (s. Folien), indem Sie eine führende Spalte mit 1en zu data_x_std hinzufügen."
   ]
  },
  {
   "cell_type": "code",
   "execution_count": null,
   "metadata": {},
   "outputs": [],
   "source": [
    "#TODO"
   ]
  },
  {
   "cell_type": "markdown",
   "metadata": {},
   "source": [
    "#### b) Least Squares - Kostenfunktional"
   ]
  },
  {
   "cell_type": "markdown",
   "metadata": {},
   "source": [
    "Vervollständigen Sie die folgende Funktion, die das Least-Squares-Kostenfunktional $J$ realisiert."
   ]
  },
  {
   "cell_type": "code",
   "execution_count": null,
   "metadata": {},
   "outputs": [],
   "source": [
    "def cost(X, Y, theta):\n",
    "    \"\"\"\n",
    "    This function implements the least squares cost function for univariate linear regression\n",
    "    Parameters:\n",
    "        X: m x 2 matrix containing 1s in the first column and the x values of the training samples in the second column\n",
    "        Y: m x 1 matrix containing the target values of the training samples\n",
    "        theta: 2 x 1 parameters of the cost function\n",
    "        \n",
    "    Returns: \n",
    "        value of cost function for a given theta\n",
    "        \n",
    "    \"\"\"\n",
    "    #TODO"
   ]
  },
  {
   "cell_type": "markdown",
   "metadata": {},
   "source": [
    "#### c) Gradientenverfahren"
   ]
  },
  {
   "cell_type": "markdown",
   "metadata": {},
   "source": [
    "Implementieren Sie die folgende Funktion, die das Gradientenverfahren realisiert. Die Iteration soll abbrechen, wenn $\\|update\\|<1e-5$ gilt, oder wenn max_iter Iterationen durchgeführt wurden."
   ]
  },
  {
   "cell_type": "code",
   "execution_count": null,
   "metadata": {},
   "outputs": [],
   "source": [
    "\n",
    "def gradientDescent(X, Y, theta, max_iter, alpha):\n",
    "    \"\"\"\n",
    "    This function implements gradient descent for univariate linear regression.\n",
    "    Parameters:\n",
    "        X: m x 2 matrix containing 1 in the first column and the x values in the second column\n",
    "        Y: m x 1 matrix containing the target values \n",
    "        theta: initial value for theta\n",
    "        max_iter: max number of iterations to be carried out\n",
    "        alpha: step size\n",
    "    Returns: mx1 matrix containing the regression parameters resulting from the iteration\n",
    "    \"\"\"\n",
    "    #TODO"
   ]
  },
  {
   "cell_type": "markdown",
   "metadata": {},
   "source": [
    "#### d) Anwendung auf den standardisierten Häuserdatensatz"
   ]
  },
  {
   "cell_type": "markdown",
   "metadata": {},
   "source": [
    "Wenden Sie das Gradientenverfahren auf den standardisierten Häuserdatensatz an, um die Koeffizienten $\\theta_0$ und $\\theta_1$ zu bestimmen. Verwenden Sie als Startwert den Nullvektor und die Parameter max_iter=50 sowie alpha=1.0"
   ]
  },
  {
   "cell_type": "code",
   "execution_count": null,
   "metadata": {},
   "outputs": [],
   "source": [
    "#TODO"
   ]
  },
  {
   "cell_type": "markdown",
   "metadata": {},
   "source": [
    "#### e)  "
   ]
  },
  {
   "cell_type": "markdown",
   "metadata": {},
   "source": [
    "Verwenden Sie das resultierende Modell, um den prognostizierten Preis für ein Haus mit $100m^2$ zu bestimmen. Transformieren Sie die Daten geeignet. Es sollte derselbe Zahlenwert wie bei Aufgabe 1e herauskommen (ca. 216.000 Euro)."
   ]
  },
  {
   "cell_type": "code",
   "execution_count": null,
   "metadata": {},
   "outputs": [],
   "source": [
    "#TODO"
   ]
  }
 ],
 "metadata": {
  "kernelspec": {
   "display_name": "Python 3",
   "language": "python",
   "name": "python3"
  },
  "language_info": {
   "codemirror_mode": {
    "name": "ipython",
    "version": 3
   },
   "file_extension": ".py",
   "mimetype": "text/x-python",
   "name": "python",
   "nbconvert_exporter": "python",
   "pygments_lexer": "ipython3",
   "version": "3.7.1"
  }
 },
 "nbformat": 4,
 "nbformat_minor": 2
}
