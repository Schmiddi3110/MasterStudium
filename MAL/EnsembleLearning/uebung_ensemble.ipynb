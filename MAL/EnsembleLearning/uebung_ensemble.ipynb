{
 "cells": [
  {
   "cell_type": "code",
   "execution_count": null,
   "metadata": {},
   "outputs": [],
   "source": [
    "import pandas as pd \n",
    "import numpy as np"
   ]
  },
  {
   "cell_type": "markdown",
   "metadata": {},
   "source": [
    "#### Datensatz einlesen"
   ]
  },
  {
   "cell_type": "markdown",
   "metadata": {},
   "source": [
    "Der folgende Datensatz enthält verschiedene Features zur Vorhersage, ob ein Patient an einer Herzerkrankung erkrankt ist  (target=0) oder gesunde ist (target=1)."
   ]
  },
  {
   "cell_type": "code",
   "execution_count": null,
   "metadata": {},
   "outputs": [],
   "source": [
    "df = pd.read_csv('heart.csv')"
   ]
  },
  {
   "cell_type": "code",
   "execution_count": null,
   "metadata": {},
   "outputs": [],
   "source": [
    "df.head()"
   ]
  },
  {
   "cell_type": "markdown",
   "metadata": {},
   "source": [
    "## Aufgabe 1"
   ]
  },
  {
   "cell_type": "markdown",
   "metadata": {},
   "source": [
    "#### a) Analyse der Zielvariable"
   ]
  },
  {
   "cell_type": "markdown",
   "metadata": {},
   "source": [
    "Untersuchen Sie die Verteilung der Zielvariablen 'target'."
   ]
  },
  {
   "cell_type": "code",
   "execution_count": null,
   "metadata": {},
   "outputs": [],
   "source": [
    "#TODO"
   ]
  },
  {
   "cell_type": "markdown",
   "metadata": {},
   "source": [
    "#### b)  Visualisierung der Altersverteilung"
   ]
  },
  {
   "cell_type": "markdown",
   "metadata": {},
   "source": [
    "Zeichnen Sie ein Histogramm der Altersverteilung. Zeichnen Sie anschließend Histogramme der Altersverteilung derjenigen Patienten mit 'target=0' (herzkrank) und 'target=1' (gesund). Verwenden Sie dazu die Funktion <a href=\"https://matplotlib.org/3.1.1/api/_as_gen/matplotlib.pyplot.hist.html\">matplotlib.pyplot.hist<a/>."
   ]
  },
  {
   "cell_type": "code",
   "execution_count": null,
   "metadata": {},
   "outputs": [],
   "source": [
    "#TODO"
   ]
  },
  {
   "cell_type": "markdown",
   "metadata": {},
   "source": [
    "#### c) Datenvorbereitung"
   ]
  },
  {
   "cell_type": "markdown",
   "metadata": {},
   "source": [
    "Spalten Sie die Zielvariable **target** ab und splitten Sie die Daten anschließend in einen Trainings- und einen Testdatensatz auf (20% Test, 80% Train)."
   ]
  },
  {
   "cell_type": "code",
   "execution_count": null,
   "metadata": {},
   "outputs": [],
   "source": [
    "#TODO"
   ]
  },
  {
   "cell_type": "markdown",
   "metadata": {},
   "source": [
    "#### d) Training eines RandomForest"
   ]
  },
  {
   "cell_type": "markdown",
   "metadata": {},
   "source": [
    "Trainieren Sie einen <a href=\"https://scikit-learn.org/stable/modules/generated/sklearn.ensemble.RandomForestClassifier.html\">RandomForestClassifier</a> in Scikit-learn mit den Parametern **n_estimators=20**, **max_depth=1** und **min_samples_leaf = 2**. \n",
    "\n",
    "Hinweis: es wird in dieser Übung darauf verzichtet, die Hyperparameter zu optimieren. Grundsätzlich wäre dies jedoch sinnvoll."
   ]
  },
  {
   "cell_type": "code",
   "execution_count": null,
   "metadata": {},
   "outputs": [],
   "source": [
    "#TODO"
   ]
  },
  {
   "cell_type": "markdown",
   "metadata": {},
   "source": [
    "#### e) Modellvalidierung"
   ]
  },
  {
   "cell_type": "markdown",
   "metadata": {},
   "source": [
    "Bestimmen Sie jeweils den ROC-AUC-Score und die Accuracy auf dem Trainings- und auf dem Testdatensatz. Wie bewerten Sie die Güte des Modells?"
   ]
  },
  {
   "cell_type": "code",
   "execution_count": null,
   "metadata": {},
   "outputs": [],
   "source": [
    "#TODO"
   ]
  },
  {
   "cell_type": "markdown",
   "metadata": {},
   "source": [
    "#### f) Feature-Importances"
   ]
  },
  {
   "cell_type": "markdown",
   "metadata": {},
   "source": [
    "Bestimmen Sie die Feature-Importances für alle Features. Welche fünf Features haben die höchste Feature-Importance?\n",
    "\n"
   ]
  },
  {
   "cell_type": "code",
   "execution_count": null,
   "metadata": {},
   "outputs": [],
   "source": [
    "#TODO"
   ]
  },
  {
   "cell_type": "markdown",
   "metadata": {},
   "source": [
    "#### g) Training eines Decision Trees"
   ]
  },
  {
   "cell_type": "markdown",
   "metadata": {},
   "source": [
    "Trainieren Sie nun einen Decision Tree mit den Parametern **max_depth=1** und **min_samples_leaf = 2**. Berechnen Sie erneut die Accuracy und den ROC_AUC_SCORE jeweils für Train und Test. Vergleichen Sie die Ergebnisse mit den Ergebnissen des RandomForest."
   ]
  },
  {
   "cell_type": "code",
   "execution_count": null,
   "metadata": {},
   "outputs": [],
   "source": [
    "#TODO"
   ]
  },
  {
   "cell_type": "markdown",
   "metadata": {},
   "source": [
    "## Aufgabe 2"
   ]
  },
  {
   "cell_type": "markdown",
   "metadata": {},
   "source": [
    "In dieser Aufgabe soll für den obigen Datensatz ein Klassifikationsmodell basierend auf einem Support Vetor Classifier entwickelt werden."
   ]
  },
  {
   "cell_type": "markdown",
   "metadata": {},
   "source": [
    "#### a) Training eines Support Vector Classifiers"
   ]
  },
  {
   "cell_type": "markdown",
   "metadata": {},
   "source": [
    "Trainieren Sie nun einen Support Vector Classifier in Scikit-learn unter Verwendung des Gauß-Kernels (kernel='rbf'). Bestimmen Sie anschließend die Accuracy auf dem Trainings- und auf dem Testdatensatz und vergleichen Sie diese mit den Ergebnissen des RandomForest. Wie erklären Sie Ihre Beobachtung?"
   ]
  },
  {
   "cell_type": "code",
   "execution_count": null,
   "metadata": {},
   "outputs": [],
   "source": [
    "#TODO"
   ]
  },
  {
   "cell_type": "markdown",
   "metadata": {},
   "source": [
    "#### b) SVC mit Standardisierung"
   ]
  },
  {
   "cell_type": "markdown",
   "metadata": {},
   "source": [
    "Wiederholen Sie Teilaufgabe a), aber wenden Sie vorher einen StandardScaler an. Wie erklären Sie Ihre Beobachtung?"
   ]
  },
  {
   "cell_type": "code",
   "execution_count": null,
   "metadata": {},
   "outputs": [],
   "source": [
    "#TODO"
   ]
  },
  {
   "cell_type": "markdown",
   "metadata": {},
   "source": [
    "#### c) Hyperparameteroptimierung"
   ]
  },
  {
   "cell_type": "markdown",
   "metadata": {},
   "source": [
    "Optimieren Sie nun die Hyperparameter C und gamma des Support Vector Classifiers. Legen Sie dazu eine Pipeline bestehend aus einem StandardScaler und einem Support Vector Classifier an und verwenden Sie diese innerhalb einer GridSearch mit fünffacher Cross Validation. Testen Sie für den Parameter C die Werte 0.01, 0.1, 1 und 10 und für den Parameter gamma die Werte 0.001, 0.01, 0.1, 1 und 10."
   ]
  },
  {
   "cell_type": "code",
   "execution_count": null,
   "metadata": {},
   "outputs": [],
   "source": [
    "#TODO"
   ]
  },
  {
   "cell_type": "markdown",
   "metadata": {},
   "source": [
    "#### d) Modellbewertung"
   ]
  },
  {
   "cell_type": "markdown",
   "metadata": {},
   "source": [
    "Vergleichen Sie das Modell, das sich aus den optimalen Parametern ergibt mit dem RandomForest, indem Sie wieder die Accuracy auf den Trainingsdaten und auf den Testdaten berechnen. Wie lautet Ihr Fazit?"
   ]
  },
  {
   "cell_type": "code",
   "execution_count": null,
   "metadata": {},
   "outputs": [],
   "source": [
    "#TODO"
   ]
  }
 ],
 "metadata": {
  "kernelspec": {
   "display_name": "Python 3",
   "language": "python",
   "name": "python3"
  },
  "language_info": {
   "codemirror_mode": {
    "name": "ipython",
    "version": 3
   },
   "file_extension": ".py",
   "mimetype": "text/x-python",
   "name": "python",
   "nbconvert_exporter": "python",
   "pygments_lexer": "ipython3",
   "version": "3.7.1"
  }
 },
 "nbformat": 4,
 "nbformat_minor": 2
}
